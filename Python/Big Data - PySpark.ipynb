{
 "cells": [
  {
   "cell_type": "markdown",
   "metadata": {},
   "source": [
    "# Big Data - Librería `PySpark`\n",
    "---\n",
    "\n",
    "Trabajaremos con la librería PySpark que presenta las interfaces de Spark en Python. A lo largo del trabajo recurriremos a librerías propias de python como `numpy`, `pandas` y algunas de visiualización como `seaborn` para obtener una mejor comprensión de los datos. Sin embargo, las etapas de la recopilación, preprocesado y modelado se realizarán usando la lógica de `pyspark`.\n",
    "\n",
    "# Librerias\n",
    "---"
   ]
  },
  {
   "cell_type": "code",
   "execution_count": 1,
   "metadata": {},
   "outputs": [],
   "source": [
    "from pyspark.sql import SparkSession\n",
    "\n",
    "import pyspark.sql.functions as F\n",
    "from pyspark.sql.types import IntegerType, DoubleType\n",
    "from pyspark.sql.window import Window\n",
    "\n",
    "from pyspark.ml.feature import StringIndexer, OneHotEncoder, VectorAssembler, StandardScaler, VectorSlicer\n",
    "from pyspark.ml import Pipeline, PipelineModel\n",
    "\n",
    "from pyspark.ml.regression import LinearRegression, LinearRegressionModel, RandomForestRegressor, GBTRegressor, GBTRegressionModel\n",
    "\n",
    "from pyspark.ml.evaluation import Evaluator\n",
    "from math import sqrt\n",
    "from pyspark.sql.functions import avg, log\n",
    "from pyspark.ml.tuning import CrossValidator, ParamGridBuilder\n",
    "\n",
    "import pandas as pd\n",
    "import matplotlib.pyplot as plt"
   ]
  },
  {
   "cell_type": "markdown",
   "metadata": {},
   "source": [
    "# Inicialización\n",
    "---\n",
    "De esta forma, tenemos acceso a distintas funciones gracias a la variable de contexto `spark`."
   ]
  },
  {
   "cell_type": "code",
   "execution_count": 1,
   "metadata": {},
   "outputs": [
    {
     "data": {
      "text/html": [
       "\n",
       "            <div>\n",
       "                <p><b>SparkSession - in-memory</b></p>\n",
       "                \n",
       "        <div>\n",
       "            <p><b>SparkContext</b></p>\n",
       "\n",
       "            <p><a href=\"http://18674f1e2925:4040\">Spark UI</a></p>\n",
       "\n",
       "            <dl>\n",
       "              <dt>Version</dt>\n",
       "                <dd><code>v2.4.0</code></dd>\n",
       "              <dt>Master</dt>\n",
       "                <dd><code>local[*]</code></dd>\n",
       "              <dt>AppName</dt>\n",
       "                <dd><code>trabajo_APBD</code></dd>\n",
       "            </dl>\n",
       "        </div>\n",
       "        \n",
       "            </div>\n",
       "        "
      ],
      "text/plain": [
       "<pyspark.sql.session.SparkSession at 0x7f2d2374ee48>"
      ]
     },
     "execution_count": 1,
     "metadata": {},
     "output_type": "execute_result"
    }
   ],
   "source": [
    "spark = SparkSession.builder.master(\"local[*]\").appName(\"trabajo_APBD\") \\\n",
    "    .getOrCreate()\n",
    "spark"
   ]
  },
  {
   "cell_type": "markdown",
   "metadata": {},
   "source": [
    "# Lectura de los ficheros\n",
    "---\n",
    "Este caso de estudio hace referencia a una competición publicada en Kaggle: https://www.kaggle.com/c/house-prices-advanced-regression-techniques, en la que se debe predecir el salario de diferentes hogares.\n",
    "\n",
    "La descripción es la siguiente:\n",
    "\n",
    "> Pídale a un comprador de vivienda que describa la casa de sus sueños, y probablemente no comenzarán con la altura del techo del sótano. Pero el conjunto de datos de esta competición se observa que el patio de recreo influye mucho más en las negociaciones de precios que el número de habitaciones o una cancilla blanca. Con 80 variables explicativas que describen (casi) todos los aspectos de las casas residenciales en Ames, Iowa, se debe predecir el precio final de cada casa.\n",
    "\n",
    "Disponemos de dos conjuntos de datos:\n",
    "\n",
    "* **train.csv**: conjunto de entrenamiento.\n",
    "* **test.csv**: conjunto de testeo (`submission`)"
   ]
  },
  {
   "cell_type": "code",
   "execution_count": 2,
   "metadata": {},
   "outputs": [],
   "source": [
    "train_df = spark.read.csv(path='../datos-trabajo-final-APBD-2019/train.csv', header = True, inferSchema = True)\n",
    "test_df = spark.read.csv(path='../datos-trabajo-final-APBD-2019/test.csv', header = True, inferSchema = True)"
   ]
  },
  {
   "cell_type": "markdown",
   "metadata": {},
   "source": [
    "## Características de los conjuntos de datos"
   ]
  },
  {
   "cell_type": "code",
   "execution_count": 3,
   "metadata": {},
   "outputs": [
    {
     "name": "stdout",
     "output_type": "stream",
     "text": [
      "El número de registros del data set train es: 1460 \n",
      "El número de registros del test: 1459\n"
     ]
    }
   ],
   "source": [
    "print(\"El número de registros del data set train es: {} \\nEl número de registros del test: {}\".format(train_df.count(),\n",
    "                                                                                                      test_df.count()))"
   ]
  },
  {
   "cell_type": "code",
   "execution_count": 4,
   "metadata": {},
   "outputs": [
    {
     "name": "stdout",
     "output_type": "stream",
     "text": [
      "El número de total de variables/columnas de nuestro conjunto de datos train es: 81\n",
      "El número de variables del conjunto test es: 80\n"
     ]
    }
   ],
   "source": [
    "col = train_df.columns\n",
    "col_test = test_df.columns\n",
    "print(\"El número de total de variables/columnas de nuestro conjunto de datos train es:\", len(col))\n",
    "print(\"El número de variables del conjunto test es:\", len(col_test))"
   ]
  },
  {
   "cell_type": "markdown",
   "metadata": {},
   "source": [
    "Vemos que la variable objetivo **SalePrice** no está presente en nuestro dataset test, luego deberemos incluirla cuando queramos efectuar la unificación de los dos conjuntos de datos:"
   ]
  },
  {
   "cell_type": "code",
   "execution_count": 5,
   "metadata": {
    "scrolled": true
   },
   "outputs": [
    {
     "data": {
      "text/plain": [
       "['Id',\n",
       " 'MSSubClass',\n",
       " 'MSZoning',\n",
       " 'LotFrontage',\n",
       " 'LotArea',\n",
       " 'Street',\n",
       " 'Alley',\n",
       " 'LotShape',\n",
       " 'LandContour',\n",
       " 'Utilities',\n",
       " 'LotConfig',\n",
       " 'LandSlope',\n",
       " 'Neighborhood',\n",
       " 'Condition1',\n",
       " 'Condition2',\n",
       " 'BldgType',\n",
       " 'HouseStyle',\n",
       " 'OverallQual',\n",
       " 'OverallCond',\n",
       " 'YearBuilt',\n",
       " 'YearRemodAdd',\n",
       " 'RoofStyle',\n",
       " 'RoofMatl',\n",
       " 'Exterior1st',\n",
       " 'Exterior2nd',\n",
       " 'MasVnrType',\n",
       " 'MasVnrArea',\n",
       " 'ExterQual',\n",
       " 'ExterCond',\n",
       " 'Foundation',\n",
       " 'BsmtQual',\n",
       " 'BsmtCond',\n",
       " 'BsmtExposure',\n",
       " 'BsmtFinType1',\n",
       " 'BsmtFinSF1',\n",
       " 'BsmtFinType2',\n",
       " 'BsmtFinSF2',\n",
       " 'BsmtUnfSF',\n",
       " 'TotalBsmtSF',\n",
       " 'Heating',\n",
       " 'HeatingQC',\n",
       " 'CentralAir',\n",
       " 'Electrical',\n",
       " '1stFlrSF',\n",
       " '2ndFlrSF',\n",
       " 'LowQualFinSF',\n",
       " 'GrLivArea',\n",
       " 'BsmtFullBath',\n",
       " 'BsmtHalfBath',\n",
       " 'FullBath',\n",
       " 'HalfBath',\n",
       " 'BedroomAbvGr',\n",
       " 'KitchenAbvGr',\n",
       " 'KitchenQual',\n",
       " 'TotRmsAbvGrd',\n",
       " 'Functional',\n",
       " 'Fireplaces',\n",
       " 'FireplaceQu',\n",
       " 'GarageType',\n",
       " 'GarageYrBlt',\n",
       " 'GarageFinish',\n",
       " 'GarageCars',\n",
       " 'GarageArea',\n",
       " 'GarageQual',\n",
       " 'GarageCond',\n",
       " 'PavedDrive',\n",
       " 'WoodDeckSF',\n",
       " 'OpenPorchSF',\n",
       " 'EnclosedPorch',\n",
       " '3SsnPorch',\n",
       " 'ScreenPorch',\n",
       " 'PoolArea',\n",
       " 'PoolQC',\n",
       " 'Fence',\n",
       " 'MiscFeature',\n",
       " 'MiscVal',\n",
       " 'MoSold',\n",
       " 'YrSold',\n",
       " 'SaleType',\n",
       " 'SaleCondition',\n",
       " 'SalePrice']"
      ]
     },
     "execution_count": 5,
     "metadata": {},
     "output_type": "execute_result"
    }
   ],
   "source": [
    "train_df.columns"
   ]
  },
  {
   "cell_type": "markdown",
   "metadata": {},
   "source": [
    "Analizamos qué tipo tiene cada variable usando **printSchema()**:"
   ]
  },
  {
   "cell_type": "code",
   "execution_count": 6,
   "metadata": {
    "scrolled": true
   },
   "outputs": [
    {
     "name": "stdout",
     "output_type": "stream",
     "text": [
      "root\n",
      " |-- Id: integer (nullable = true)\n",
      " |-- MSSubClass: integer (nullable = true)\n",
      " |-- MSZoning: string (nullable = true)\n",
      " |-- LotFrontage: string (nullable = true)\n",
      " |-- LotArea: integer (nullable = true)\n",
      " |-- Street: string (nullable = true)\n",
      " |-- Alley: string (nullable = true)\n",
      " |-- LotShape: string (nullable = true)\n",
      " |-- LandContour: string (nullable = true)\n",
      " |-- Utilities: string (nullable = true)\n",
      " |-- LotConfig: string (nullable = true)\n",
      " |-- LandSlope: string (nullable = true)\n",
      " |-- Neighborhood: string (nullable = true)\n",
      " |-- Condition1: string (nullable = true)\n",
      " |-- Condition2: string (nullable = true)\n",
      " |-- BldgType: string (nullable = true)\n",
      " |-- HouseStyle: string (nullable = true)\n",
      " |-- OverallQual: integer (nullable = true)\n",
      " |-- OverallCond: integer (nullable = true)\n",
      " |-- YearBuilt: integer (nullable = true)\n",
      " |-- YearRemodAdd: integer (nullable = true)\n",
      " |-- RoofStyle: string (nullable = true)\n",
      " |-- RoofMatl: string (nullable = true)\n",
      " |-- Exterior1st: string (nullable = true)\n",
      " |-- Exterior2nd: string (nullable = true)\n",
      " |-- MasVnrType: string (nullable = true)\n",
      " |-- MasVnrArea: string (nullable = true)\n",
      " |-- ExterQual: string (nullable = true)\n",
      " |-- ExterCond: string (nullable = true)\n",
      " |-- Foundation: string (nullable = true)\n",
      " |-- BsmtQual: string (nullable = true)\n",
      " |-- BsmtCond: string (nullable = true)\n",
      " |-- BsmtExposure: string (nullable = true)\n",
      " |-- BsmtFinType1: string (nullable = true)\n",
      " |-- BsmtFinSF1: integer (nullable = true)\n",
      " |-- BsmtFinType2: string (nullable = true)\n",
      " |-- BsmtFinSF2: integer (nullable = true)\n",
      " |-- BsmtUnfSF: integer (nullable = true)\n",
      " |-- TotalBsmtSF: integer (nullable = true)\n",
      " |-- Heating: string (nullable = true)\n",
      " |-- HeatingQC: string (nullable = true)\n",
      " |-- CentralAir: string (nullable = true)\n",
      " |-- Electrical: string (nullable = true)\n",
      " |-- 1stFlrSF: integer (nullable = true)\n",
      " |-- 2ndFlrSF: integer (nullable = true)\n",
      " |-- LowQualFinSF: integer (nullable = true)\n",
      " |-- GrLivArea: integer (nullable = true)\n",
      " |-- BsmtFullBath: integer (nullable = true)\n",
      " |-- BsmtHalfBath: integer (nullable = true)\n",
      " |-- FullBath: integer (nullable = true)\n",
      " |-- HalfBath: integer (nullable = true)\n",
      " |-- BedroomAbvGr: integer (nullable = true)\n",
      " |-- KitchenAbvGr: integer (nullable = true)\n",
      " |-- KitchenQual: string (nullable = true)\n",
      " |-- TotRmsAbvGrd: integer (nullable = true)\n",
      " |-- Functional: string (nullable = true)\n",
      " |-- Fireplaces: integer (nullable = true)\n",
      " |-- FireplaceQu: string (nullable = true)\n",
      " |-- GarageType: string (nullable = true)\n",
      " |-- GarageYrBlt: string (nullable = true)\n",
      " |-- GarageFinish: string (nullable = true)\n",
      " |-- GarageCars: integer (nullable = true)\n",
      " |-- GarageArea: integer (nullable = true)\n",
      " |-- GarageQual: string (nullable = true)\n",
      " |-- GarageCond: string (nullable = true)\n",
      " |-- PavedDrive: string (nullable = true)\n",
      " |-- WoodDeckSF: integer (nullable = true)\n",
      " |-- OpenPorchSF: integer (nullable = true)\n",
      " |-- EnclosedPorch: integer (nullable = true)\n",
      " |-- 3SsnPorch: integer (nullable = true)\n",
      " |-- ScreenPorch: integer (nullable = true)\n",
      " |-- PoolArea: integer (nullable = true)\n",
      " |-- PoolQC: string (nullable = true)\n",
      " |-- Fence: string (nullable = true)\n",
      " |-- MiscFeature: string (nullable = true)\n",
      " |-- MiscVal: integer (nullable = true)\n",
      " |-- MoSold: integer (nullable = true)\n",
      " |-- YrSold: integer (nullable = true)\n",
      " |-- SaleType: string (nullable = true)\n",
      " |-- SaleCondition: string (nullable = true)\n",
      " |-- SalePrice: integer (nullable = true)\n",
      "\n"
     ]
    }
   ],
   "source": [
    "train_df.printSchema()"
   ]
  },
  {
   "cell_type": "markdown",
   "metadata": {},
   "source": [
    "Podemos obtener una descripción de cada una de las 81 variables usando la función **describe()**, sin embargo, la salida es inmensa. Nuestra variable a predecir es aquella que lleva por nombre **SalePrice**, obtenemos un resumen de la misma:"
   ]
  },
  {
   "cell_type": "code",
   "execution_count": 7,
   "metadata": {},
   "outputs": [
    {
     "name": "stdout",
     "output_type": "stream",
     "text": [
      "+-------+------------------+\n",
      "|summary|         SalePrice|\n",
      "+-------+------------------+\n",
      "|  count|              1460|\n",
      "|   mean|180921.19589041095|\n",
      "| stddev| 79442.50288288663|\n",
      "|    min|             34900|\n",
      "|    max|            755000|\n",
      "+-------+------------------+\n",
      "\n"
     ]
    }
   ],
   "source": [
    "train_df.select(\"SalePrice\").describe().show()"
   ]
  },
  {
   "cell_type": "markdown",
   "metadata": {},
   "source": [
    "# Análisis Exploratorio de los datos\n",
    "---\n",
    "\n",
    "## Unificación de los conjunto de datos\n",
    "\n",
    "Hemos visto que el número de columnas no coincide en ambos data sets pues en el conjunto test no aparece la variable objetivo. Por lo tanto en primer lugar debemos añadir a nuestro 'test_df' la variable 'SalePrice' de tipo numérico, lo haremos usando la función `withColumn()`:"
   ]
  },
  {
   "cell_type": "code",
   "execution_count": 8,
   "metadata": {},
   "outputs": [
    {
     "name": "stdout",
     "output_type": "stream",
     "text": [
      "+---------+\n",
      "|SalePrice|\n",
      "+---------+\n",
      "|     null|\n",
      "|     null|\n",
      "|     null|\n",
      "|     null|\n",
      "|     null|\n",
      "|     null|\n",
      "|     null|\n",
      "|     null|\n",
      "|     null|\n",
      "|     null|\n",
      "|     null|\n",
      "|     null|\n",
      "|     null|\n",
      "|     null|\n",
      "|     null|\n",
      "|     null|\n",
      "|     null|\n",
      "|     null|\n",
      "|     null|\n",
      "|     null|\n",
      "+---------+\n",
      "only showing top 20 rows\n",
      "\n"
     ]
    }
   ],
   "source": [
    "test_df = test_df.withColumn('SalePrice', F.lit(None).cast(IntegerType()))\n",
    "test_df.select('SalePrice').show()"
   ]
  },
  {
   "cell_type": "markdown",
   "metadata": {},
   "source": [
    "Esta variable de valores 'null' es la variable de la cual queremos conocer sus predicciones."
   ]
  },
  {
   "cell_type": "markdown",
   "metadata": {},
   "source": [
    "Para hacer factible la unión de los datasets, deben tener el mismo orden las variables y ser del mismo tipo:"
   ]
  },
  {
   "cell_type": "code",
   "execution_count": 9,
   "metadata": {},
   "outputs": [
    {
     "name": "stdout",
     "output_type": "stream",
     "text": [
      "Train: ['Id', 'MSSubClass', 'MSZoning', 'LotFrontage', 'LotArea', 'Street', 'Alley', 'LotShape', 'LandContour', 'Utilities', 'LotConfig', 'LandSlope', 'Neighborhood', 'Condition1', 'Condition2', 'BldgType', 'HouseStyle', 'OverallQual', 'OverallCond', 'YearBuilt', 'YearRemodAdd', 'RoofStyle', 'RoofMatl', 'Exterior1st', 'Exterior2nd', 'MasVnrType', 'MasVnrArea', 'ExterQual', 'ExterCond', 'Foundation', 'BsmtQual', 'BsmtCond', 'BsmtExposure', 'BsmtFinType1', 'BsmtFinSF1', 'BsmtFinType2', 'BsmtFinSF2', 'BsmtUnfSF', 'TotalBsmtSF', 'Heating', 'HeatingQC', 'CentralAir', 'Electrical', '1stFlrSF', '2ndFlrSF', 'LowQualFinSF', 'GrLivArea', 'BsmtFullBath', 'BsmtHalfBath', 'FullBath', 'HalfBath', 'BedroomAbvGr', 'KitchenAbvGr', 'KitchenQual', 'TotRmsAbvGrd', 'Functional', 'Fireplaces', 'FireplaceQu', 'GarageType', 'GarageYrBlt', 'GarageFinish', 'GarageCars', 'GarageArea', 'GarageQual', 'GarageCond', 'PavedDrive', 'WoodDeckSF', 'OpenPorchSF', 'EnclosedPorch', '3SsnPorch', 'ScreenPorch', 'PoolArea', 'PoolQC', 'Fence', 'MiscFeature', 'MiscVal', 'MoSold', 'YrSold', 'SaleType', 'SaleCondition', 'SalePrice'] \n",
      "\n",
      "Test: ['Id', 'MSSubClass', 'MSZoning', 'LotFrontage', 'LotArea', 'Street', 'Alley', 'LotShape', 'LandContour', 'Utilities', 'LotConfig', 'LandSlope', 'Neighborhood', 'Condition1', 'Condition2', 'BldgType', 'HouseStyle', 'OverallQual', 'OverallCond', 'YearBuilt', 'YearRemodAdd', 'RoofStyle', 'RoofMatl', 'Exterior1st', 'Exterior2nd', 'MasVnrType', 'MasVnrArea', 'ExterQual', 'ExterCond', 'Foundation', 'BsmtQual', 'BsmtCond', 'BsmtExposure', 'BsmtFinType1', 'BsmtFinSF1', 'BsmtFinType2', 'BsmtFinSF2', 'BsmtUnfSF', 'TotalBsmtSF', 'Heating', 'HeatingQC', 'CentralAir', 'Electrical', '1stFlrSF', '2ndFlrSF', 'LowQualFinSF', 'GrLivArea', 'BsmtFullBath', 'BsmtHalfBath', 'FullBath', 'HalfBath', 'BedroomAbvGr', 'KitchenAbvGr', 'KitchenQual', 'TotRmsAbvGrd', 'Functional', 'Fireplaces', 'FireplaceQu', 'GarageType', 'GarageYrBlt', 'GarageFinish', 'GarageCars', 'GarageArea', 'GarageQual', 'GarageCond', 'PavedDrive', 'WoodDeckSF', 'OpenPorchSF', 'EnclosedPorch', '3SsnPorch', 'ScreenPorch', 'PoolArea', 'PoolQC', 'Fence', 'MiscFeature', 'MiscVal', 'MoSold', 'YrSold', 'SaleType', 'SaleCondition', 'SalePrice']\n"
     ]
    }
   ],
   "source": [
    "print(\"Train:\", train_df.columns, \"\\n\")\n",
    "print(\"Test:\", test_df.columns)"
   ]
  },
  {
   "cell_type": "markdown",
   "metadata": {},
   "source": [
    "Vemos que ambos conjuntos de datos tienen el mismo número de variables y su orden coincide. Nos falta ver si las variables son del mismo tipo en ambos datasets:"
   ]
  },
  {
   "cell_type": "code",
   "execution_count": 10,
   "metadata": {},
   "outputs": [],
   "source": [
    "types_train = [f.dataType for f in train_df.schema.fields]\n",
    "types_test = [f.dataType for f in test_df.schema.fields]"
   ]
  },
  {
   "cell_type": "code",
   "execution_count": 11,
   "metadata": {},
   "outputs": [
    {
     "data": {
      "text/plain": [
       "[34, 36, 37, 38, 47, 48, 61, 62]"
      ]
     },
     "execution_count": 11,
     "metadata": {},
     "output_type": "execute_result"
    }
   ],
   "source": [
    "dif = [i for i in range(len(types_test)) if types_test[i] != types_train[i]]\n",
    "dif"
   ]
  },
  {
   "cell_type": "markdown",
   "metadata": {},
   "source": [
    "Hemos alcanzado las posiciones de las variables cuyo tipo no coincide en ambos conjuntos de datos. Debemos asignarles el mismo tipo para hacer posible la unificación:"
   ]
  },
  {
   "cell_type": "code",
   "execution_count": 12,
   "metadata": {},
   "outputs": [
    {
     "name": "stdout",
     "output_type": "stream",
     "text": [
      "StructField(BsmtFinSF1,IntegerType,true)\n",
      "StructField(BsmtFinSF1,StringType,true)\n",
      "StructField(BsmtFinSF2,IntegerType,true)\n",
      "StructField(BsmtFinSF2,StringType,true)\n",
      "StructField(BsmtUnfSF,IntegerType,true)\n",
      "StructField(BsmtUnfSF,StringType,true)\n",
      "StructField(TotalBsmtSF,IntegerType,true)\n",
      "StructField(TotalBsmtSF,StringType,true)\n",
      "StructField(BsmtFullBath,IntegerType,true)\n",
      "StructField(BsmtFullBath,StringType,true)\n",
      "StructField(BsmtHalfBath,IntegerType,true)\n",
      "StructField(BsmtHalfBath,StringType,true)\n",
      "StructField(GarageCars,IntegerType,true)\n",
      "StructField(GarageCars,StringType,true)\n",
      "StructField(GarageArea,IntegerType,true)\n",
      "StructField(GarageArea,StringType,true)\n"
     ]
    }
   ],
   "source": [
    "for i in dif:\n",
    "    print(train_df.schema.fields[i])\n",
    "    print(test_df.schema.fields[i])"
   ]
  },
  {
   "cell_type": "markdown",
   "metadata": {},
   "source": [
    "Tras un análisis de cada una de las variables de la salida obtenida llegamos a la conclusión de que dichas variables han de ser numéricas:"
   ]
  },
  {
   "cell_type": "code",
   "execution_count": 13,
   "metadata": {},
   "outputs": [],
   "source": [
    "test_df = test_df \\\n",
    "    .withColumn('BsmtFinSF1', test_df.BsmtFinSF1.cast(IntegerType())) \\\n",
    "    .withColumn('BsmtFinSF2', test_df.BsmtFinSF2.cast(IntegerType())) \\\n",
    "    .withColumn('BsmtUnfSF', test_df.BsmtUnfSF.cast(IntegerType())) \\\n",
    "    .withColumn('TotalBsmtSF', test_df.TotalBsmtSF.cast(IntegerType())) \\\n",
    "    .withColumn('BsmtFullBath', test_df.BsmtFullBath.cast(IntegerType())) \\\n",
    "    .withColumn('BsmtHalfBath', test_df.BsmtHalfBath.cast(IntegerType())) \\\n",
    "    .withColumn('GarageCars', test_df.GarageCars.cast(IntegerType())) \\\n",
    "    .withColumn('GarageArea', test_df.GarageArea.cast(IntegerType()))"
   ]
  },
  {
   "cell_type": "markdown",
   "metadata": {},
   "source": [
    "Realizamos la misma comprobación de antes:"
   ]
  },
  {
   "cell_type": "code",
   "execution_count": 14,
   "metadata": {},
   "outputs": [
    {
     "data": {
      "text/plain": [
       "[]"
      ]
     },
     "execution_count": 14,
     "metadata": {},
     "output_type": "execute_result"
    }
   ],
   "source": [
    "types_train = [f.dataType for f in train_df.schema.fields]\n",
    "types_test_mod = [f.dataType for f in test_df.schema.fields]\n",
    "\n",
    "[i for i in range(len(types_test)) if types_test_mod[i] != types_train[i]]"
   ]
  },
  {
   "cell_type": "markdown",
   "metadata": {},
   "source": [
    "Realizamos a continuación la unión del conjunto de aprendizaje y del conjunto test:"
   ]
  },
  {
   "cell_type": "code",
   "execution_count": 15,
   "metadata": {},
   "outputs": [
    {
     "name": "stdout",
     "output_type": "stream",
     "text": [
      "El número de filas del dataset final es: 2919 \n",
      "El número de columnas es: 81\n"
     ]
    }
   ],
   "source": [
    "full_df = train_df.union(test_df)\n",
    "print(\"El número de filas del dataset final es: {} \\nEl número de columnas es: {}\".format(full_df.count(), \n",
    "                                                                                         len(full_df.columns)))"
   ]
  },
  {
   "cell_type": "markdown",
   "metadata": {},
   "source": [
    "Representamos las primeras observaciones de las 5 primeras columnas y de las 5 últimas. Además, realizamos una breve descripción de dichas variables:"
   ]
  },
  {
   "cell_type": "code",
   "execution_count": 16,
   "metadata": {},
   "outputs": [
    {
     "name": "stdout",
     "output_type": "stream",
     "text": [
      "+---+----------+--------+-----------+-------+\n",
      "| Id|MSSubClass|MSZoning|LotFrontage|LotArea|\n",
      "+---+----------+--------+-----------+-------+\n",
      "|  1|        60|      RL|         65|   8450|\n",
      "|  2|        20|      RL|         80|   9600|\n",
      "|  3|        60|      RL|         68|  11250|\n",
      "|  4|        70|      RL|         60|   9550|\n",
      "|  5|        60|      RL|         84|  14260|\n",
      "|  6|        50|      RL|         85|  14115|\n",
      "|  7|        20|      RL|         75|  10084|\n",
      "|  8|        60|      RL|         NA|  10382|\n",
      "|  9|        50|      RM|         51|   6120|\n",
      "| 10|       190|      RL|         50|   7420|\n",
      "| 11|        20|      RL|         70|  11200|\n",
      "| 12|        60|      RL|         85|  11924|\n",
      "| 13|        20|      RL|         NA|  12968|\n",
      "| 14|        20|      RL|         91|  10652|\n",
      "| 15|        20|      RL|         NA|  10920|\n",
      "| 16|        45|      RM|         51|   6120|\n",
      "| 17|        20|      RL|         NA|  11241|\n",
      "| 18|        90|      RL|         72|  10791|\n",
      "| 19|        20|      RL|         66|  13695|\n",
      "| 20|        20|      RL|         70|   7560|\n",
      "+---+----------+--------+-----------+-------+\n",
      "only showing top 20 rows\n",
      "\n"
     ]
    }
   ],
   "source": [
    "full_df.select(full_df.columns[:5]).show()"
   ]
  },
  {
   "cell_type": "code",
   "execution_count": 17,
   "metadata": {},
   "outputs": [
    {
     "name": "stdout",
     "output_type": "stream",
     "text": [
      "+-------+-----------------+------------------+--------+------------------+-----------------+\n",
      "|summary|               Id|        MSSubClass|MSZoning|       LotFrontage|          LotArea|\n",
      "+-------+-----------------+------------------+--------+------------------+-----------------+\n",
      "|  count|             2919|              2919|    2919|              2919|             2919|\n",
      "|   mean|           1460.0|  57.1377183967112|    null| 69.30579531442663|10168.11408016444|\n",
      "| stddev|842.7870430897713|42.517627829150314|    null|23.344904706927394|7886.996359105535|\n",
      "|    min|                1|                20| C (all)|               100|             1300|\n",
      "|    max|             2919|               190|      RM|                NA|           215245|\n",
      "+-------+-----------------+------------------+--------+------------------+-----------------+\n",
      "\n"
     ]
    }
   ],
   "source": [
    "full_df.describe(full_df.columns[:5]).show()"
   ]
  },
  {
   "cell_type": "markdown",
   "metadata": {},
   "source": [
    "**Comentario**"
   ]
  },
  {
   "cell_type": "markdown",
   "metadata": {},
   "source": [
    "Observamos en la variable *LotFrontage* cierta particularidad: no se han detectado los registros faltantes. Dichos registros vienen dados por el carácter 'NA', luego necesitamos convertirlos a valores missing para posteriormente imputarlos correctamente.\n",
    "\n",
    "La presencia del carácter 'NA' merece la pena comentarlo: en algunas variables categóricas detectamos la presencia de una categoría 'NA' indicando la ausencia de dicho establecimiento en la casa (es el caso de las variables: 'Alley', 'BsmtQual', 'BsmtCond', 'BsmtExposure', 'BsmtFinType1', 'BsmtFinType2', 'PoolQC' o 'Fence'). Sin embargo, en la lectura de los ficheros detectamos la presencia de más registros 'NA', como hemos dicho, entendemos dichos valores como registros faltantes para posteriormente imputarlos. En el caso de las variables categóricas se verá más adelante cómo se tratara este asunto."
   ]
  },
  {
   "cell_type": "code",
   "execution_count": 18,
   "metadata": {},
   "outputs": [
    {
     "name": "stdout",
     "output_type": "stream",
     "text": [
      "+---------+-------------+--------+------+------+\n",
      "|SalePrice|SaleCondition|SaleType|YrSold|MoSold|\n",
      "+---------+-------------+--------+------+------+\n",
      "|   208500|       Normal|      WD|  2008|     2|\n",
      "|   181500|       Normal|      WD|  2007|     5|\n",
      "|   223500|       Normal|      WD|  2008|     9|\n",
      "|   140000|      Abnorml|      WD|  2006|     2|\n",
      "|   250000|       Normal|      WD|  2008|    12|\n",
      "|   143000|       Normal|      WD|  2009|    10|\n",
      "|   307000|       Normal|      WD|  2007|     8|\n",
      "|   200000|       Normal|      WD|  2009|    11|\n",
      "|   129900|      Abnorml|      WD|  2008|     4|\n",
      "|   118000|       Normal|      WD|  2008|     1|\n",
      "|   129500|       Normal|      WD|  2008|     2|\n",
      "|   345000|      Partial|     New|  2006|     7|\n",
      "|   144000|       Normal|      WD|  2008|     9|\n",
      "|   279500|      Partial|     New|  2007|     8|\n",
      "|   157000|       Normal|      WD|  2008|     5|\n",
      "|   132000|       Normal|      WD|  2007|     7|\n",
      "|   149000|       Normal|      WD|  2010|     3|\n",
      "|    90000|       Normal|      WD|  2006|    10|\n",
      "|   159000|       Normal|      WD|  2008|     6|\n",
      "|   139000|      Abnorml|     COD|  2009|     5|\n",
      "+---------+-------------+--------+------+------+\n",
      "only showing top 20 rows\n",
      "\n"
     ]
    }
   ],
   "source": [
    "full_df.select(full_df.columns[:75:-1]).show()"
   ]
  },
  {
   "cell_type": "code",
   "execution_count": 19,
   "metadata": {},
   "outputs": [
    {
     "name": "stdout",
     "output_type": "stream",
     "text": [
      "+-------+------------------+-------------+--------+------------------+-----------------+\n",
      "|summary|         SalePrice|SaleCondition|SaleType|            YrSold|           MoSold|\n",
      "+-------+------------------+-------------+--------+------------------+-----------------+\n",
      "|  count|              1460|         2919|    2919|              2919|             2919|\n",
      "|   mean|180921.19589041095|         null|    null|2007.7927372387803|6.213086673518328|\n",
      "| stddev| 79442.50288288663|         null|    null|1.3149644889049965|2.714761774157895|\n",
      "|    min|             34900|      Abnorml|     COD|              2006|                1|\n",
      "|    max|            755000|      Partial|      WD|              2010|               12|\n",
      "+-------+------------------+-------------+--------+------------------+-----------------+\n",
      "\n"
     ]
    }
   ],
   "source": [
    "full_df.describe(full_df.columns[:75:-1]).show()"
   ]
  },
  {
   "cell_type": "markdown",
   "metadata": {},
   "source": [
    "**Nota:** vemos que la función **count()** devuelve el número de elementos válidos dentro de la función **describe()**. Vemos que si se han detectado los registros missing de la variable respuesta, 'SalePrice', de ahí que la salida de la función *count()* de dicha variable sea inferior al nº de registros totales."
   ]
  },
  {
   "cell_type": "markdown",
   "metadata": {},
   "source": [
    "Observamos el tipo de cada variable en el set de datos resultante:"
   ]
  },
  {
   "cell_type": "code",
   "execution_count": 20,
   "metadata": {
    "scrolled": false
   },
   "outputs": [
    {
     "name": "stdout",
     "output_type": "stream",
     "text": [
      "root\n",
      " |-- Id: integer (nullable = true)\n",
      " |-- MSSubClass: integer (nullable = true)\n",
      " |-- MSZoning: string (nullable = true)\n",
      " |-- LotFrontage: string (nullable = true)\n",
      " |-- LotArea: integer (nullable = true)\n",
      " |-- Street: string (nullable = true)\n",
      " |-- Alley: string (nullable = true)\n",
      " |-- LotShape: string (nullable = true)\n",
      " |-- LandContour: string (nullable = true)\n",
      " |-- Utilities: string (nullable = true)\n",
      " |-- LotConfig: string (nullable = true)\n",
      " |-- LandSlope: string (nullable = true)\n",
      " |-- Neighborhood: string (nullable = true)\n",
      " |-- Condition1: string (nullable = true)\n",
      " |-- Condition2: string (nullable = true)\n",
      " |-- BldgType: string (nullable = true)\n",
      " |-- HouseStyle: string (nullable = true)\n",
      " |-- OverallQual: integer (nullable = true)\n",
      " |-- OverallCond: integer (nullable = true)\n",
      " |-- YearBuilt: integer (nullable = true)\n",
      " |-- YearRemodAdd: integer (nullable = true)\n",
      " |-- RoofStyle: string (nullable = true)\n",
      " |-- RoofMatl: string (nullable = true)\n",
      " |-- Exterior1st: string (nullable = true)\n",
      " |-- Exterior2nd: string (nullable = true)\n",
      " |-- MasVnrType: string (nullable = true)\n",
      " |-- MasVnrArea: string (nullable = true)\n",
      " |-- ExterQual: string (nullable = true)\n",
      " |-- ExterCond: string (nullable = true)\n",
      " |-- Foundation: string (nullable = true)\n",
      " |-- BsmtQual: string (nullable = true)\n",
      " |-- BsmtCond: string (nullable = true)\n",
      " |-- BsmtExposure: string (nullable = true)\n",
      " |-- BsmtFinType1: string (nullable = true)\n",
      " |-- BsmtFinSF1: integer (nullable = true)\n",
      " |-- BsmtFinType2: string (nullable = true)\n",
      " |-- BsmtFinSF2: integer (nullable = true)\n",
      " |-- BsmtUnfSF: integer (nullable = true)\n",
      " |-- TotalBsmtSF: integer (nullable = true)\n",
      " |-- Heating: string (nullable = true)\n",
      " |-- HeatingQC: string (nullable = true)\n",
      " |-- CentralAir: string (nullable = true)\n",
      " |-- Electrical: string (nullable = true)\n",
      " |-- 1stFlrSF: integer (nullable = true)\n",
      " |-- 2ndFlrSF: integer (nullable = true)\n",
      " |-- LowQualFinSF: integer (nullable = true)\n",
      " |-- GrLivArea: integer (nullable = true)\n",
      " |-- BsmtFullBath: integer (nullable = true)\n",
      " |-- BsmtHalfBath: integer (nullable = true)\n",
      " |-- FullBath: integer (nullable = true)\n",
      " |-- HalfBath: integer (nullable = true)\n",
      " |-- BedroomAbvGr: integer (nullable = true)\n",
      " |-- KitchenAbvGr: integer (nullable = true)\n",
      " |-- KitchenQual: string (nullable = true)\n",
      " |-- TotRmsAbvGrd: integer (nullable = true)\n",
      " |-- Functional: string (nullable = true)\n",
      " |-- Fireplaces: integer (nullable = true)\n",
      " |-- FireplaceQu: string (nullable = true)\n",
      " |-- GarageType: string (nullable = true)\n",
      " |-- GarageYrBlt: string (nullable = true)\n",
      " |-- GarageFinish: string (nullable = true)\n",
      " |-- GarageCars: integer (nullable = true)\n",
      " |-- GarageArea: integer (nullable = true)\n",
      " |-- GarageQual: string (nullable = true)\n",
      " |-- GarageCond: string (nullable = true)\n",
      " |-- PavedDrive: string (nullable = true)\n",
      " |-- WoodDeckSF: integer (nullable = true)\n",
      " |-- OpenPorchSF: integer (nullable = true)\n",
      " |-- EnclosedPorch: integer (nullable = true)\n",
      " |-- 3SsnPorch: integer (nullable = true)\n",
      " |-- ScreenPorch: integer (nullable = true)\n",
      " |-- PoolArea: integer (nullable = true)\n",
      " |-- PoolQC: string (nullable = true)\n",
      " |-- Fence: string (nullable = true)\n",
      " |-- MiscFeature: string (nullable = true)\n",
      " |-- MiscVal: integer (nullable = true)\n",
      " |-- MoSold: integer (nullable = true)\n",
      " |-- YrSold: integer (nullable = true)\n",
      " |-- SaleType: string (nullable = true)\n",
      " |-- SaleCondition: string (nullable = true)\n",
      " |-- SalePrice: integer (nullable = true)\n",
      "\n"
     ]
    }
   ],
   "source": [
    "full_df.printSchema()"
   ]
  },
  {
   "cell_type": "markdown",
   "metadata": {},
   "source": [
    "## Preprocesamiento de los datos: limpieza y cambio de tipo de atributos"
   ]
  },
  {
   "cell_type": "markdown",
   "metadata": {},
   "source": [
    "Observamos algunas irregularidades en el dataset creado:\n",
    "\n",
    "* Algunos valores perdidos 'NaN' aparecen como strings 'NA' luego cuando queramos localizarlos no será posible. Por tanto, debemos realizar dicho cambio para posteriormente imputarlos.\n",
    "* Existen una serie de variables que precisan un cambio de tipo."
   ]
  },
  {
   "cell_type": "markdown",
   "metadata": {},
   "source": [
    "* **Analizamos el número de valores 'NA' en cada variable del set de datos**\n",
    "Posteriormente veremos que dichos valores 'NA' representan la gran mayoría de registros faltantes en nuestro dataframe."
   ]
  },
  {
   "cell_type": "code",
   "execution_count": 21,
   "metadata": {},
   "outputs": [
    {
     "name": "stdout",
     "output_type": "stream",
     "text": [
      "+------------+--------+\n",
      "| Column_Name|NA_Count|\n",
      "+------------+--------+\n",
      "|          Id|       0|\n",
      "|  MSSubClass|       0|\n",
      "|    MSZoning|       4|\n",
      "| LotFrontage|     486|\n",
      "|     LotArea|       0|\n",
      "|      Street|       0|\n",
      "|       Alley|    2721|\n",
      "|    LotShape|       0|\n",
      "| LandContour|       0|\n",
      "|   Utilities|       2|\n",
      "|   LotConfig|       0|\n",
      "|   LandSlope|       0|\n",
      "|Neighborhood|       0|\n",
      "|  Condition1|       0|\n",
      "|  Condition2|       0|\n",
      "|    BldgType|       0|\n",
      "|  HouseStyle|       0|\n",
      "| OverallQual|       0|\n",
      "| OverallCond|       0|\n",
      "|   YearBuilt|       0|\n",
      "+------------+--------+\n",
      "only showing top 20 rows\n",
      "\n"
     ]
    }
   ],
   "source": [
    "full_df_count_NA = full_df.agg(*[F.count(F.when(F.col(c) == \"NA\", c)).alias(c) for c in full_df.columns])\n",
    "\n",
    "from functools import reduce\n",
    "full_df_count_NA_col = reduce(\n",
    "    lambda a, b: a.union(b),\n",
    "    (\n",
    "        full_df_count_NA.select(F.lit(c).alias(\"Column_Name\"), F.col(c).alias(\"NA_Count\")) \n",
    "        for c in full_df_count_NA.columns\n",
    "    )\n",
    ")\n",
    "full_df_count_NA_col.show()"
   ]
  },
  {
   "cell_type": "markdown",
   "metadata": {},
   "source": [
    "Observamos las variables que presentan el carácter 'NA' como valor:"
   ]
  },
  {
   "cell_type": "code",
   "execution_count": 22,
   "metadata": {},
   "outputs": [
    {
     "name": "stdout",
     "output_type": "stream",
     "text": [
      "+------------+--------+\n",
      "| Column_Name|NA_Count|\n",
      "+------------+--------+\n",
      "|    MSZoning|       4|\n",
      "| LotFrontage|     486|\n",
      "|       Alley|    2721|\n",
      "|   Utilities|       2|\n",
      "| Exterior1st|       1|\n",
      "| Exterior2nd|       1|\n",
      "|  MasVnrType|      24|\n",
      "|  MasVnrArea|      23|\n",
      "|    BsmtQual|      81|\n",
      "|    BsmtCond|      82|\n",
      "|BsmtExposure|      82|\n",
      "|BsmtFinType1|      79|\n",
      "|BsmtFinType2|      80|\n",
      "|  Electrical|       1|\n",
      "| KitchenQual|       1|\n",
      "|  Functional|       2|\n",
      "| FireplaceQu|    1420|\n",
      "|  GarageType|     157|\n",
      "| GarageYrBlt|     159|\n",
      "|GarageFinish|     159|\n",
      "+------------+--------+\n",
      "only showing top 20 rows\n",
      "\n"
     ]
    }
   ],
   "source": [
    "full_df_count_NA_col.filter(F.col('NA_Count') > 0).show()"
   ]
  },
  {
   "cell_type": "markdown",
   "metadata": {},
   "source": [
    "Como hemos comentado la presencia de dichos valores en determinadas variables significa ausencia; por ejemplo, no hay garage, no hay piscina, no hay sótano, etc. Sin embargo, la presencia de dicho valor en variables numéricas (que son la gran mayoria) debemos entenderlo como un registro faltante. Podríamos realizar dos análisis; por un lado las variables que tiene sentido que presenten dicho caracter y por otro las que debemos imputarlas como valor missing, sin embargo, reeemplazaremos todos dichos carácters por valores missing y posteriormente veremos, si hace falta, cómo tratar aquellas variables con dicha peculiaridad."
   ]
  },
  {
   "cell_type": "markdown",
   "metadata": {},
   "source": [
    "Así, reemplazamos los valores 'NA' por 'None' para defnir dichos registros como valores faltantes y posteriormente imputarlos."
   ]
  },
  {
   "cell_type": "code",
   "execution_count": 23,
   "metadata": {},
   "outputs": [],
   "source": [
    "full_df = full_df.replace(\"NA\", None)"
   ]
  },
  {
   "cell_type": "markdown",
   "metadata": {},
   "source": [
    "* **Efectuamos el cambio del tipo de variables**"
   ]
  },
  {
   "cell_type": "markdown",
   "metadata": {},
   "source": [
    "Tras un profundo análisis de cada una de las variables de nuestro conjunto de datos nos encontramos ante la existencia de algunas a las que debemos cambiarle el tipo."
   ]
  },
  {
   "cell_type": "code",
   "execution_count": 25,
   "metadata": {
    "scrolled": true
   },
   "outputs": [
    {
     "name": "stdout",
     "output_type": "stream",
     "text": [
      "root\n",
      " |-- LotFrontage: string (nullable = true)\n",
      " |-- MasVnrArea: string (nullable = true)\n",
      " |-- GarageYrBlt: string (nullable = true)\n",
      "\n"
     ]
    }
   ],
   "source": [
    "full_df.select('LotFrontage', 'MasVnrArea', 'GarageYrBlt').printSchema()"
   ]
  },
  {
   "cell_type": "code",
   "execution_count": 26,
   "metadata": {},
   "outputs": [],
   "source": [
    "full_df = full_df \\\n",
    "    .withColumn('LotFrontage', full_df.LotFrontage.cast(IntegerType())) \\\n",
    "    .withColumn('MasVnrArea', full_df.MasVnrArea.cast(IntegerType())) \\\n",
    "    .withColumn('GarageYrBlt', full_df.GarageYrBlt.cast(IntegerType()))"
   ]
  },
  {
   "cell_type": "code",
   "execution_count": 27,
   "metadata": {
    "scrolled": true
   },
   "outputs": [
    {
     "name": "stdout",
     "output_type": "stream",
     "text": [
      "root\n",
      " |-- Id: integer (nullable = true)\n",
      " |-- MSSubClass: integer (nullable = true)\n",
      " |-- MSZoning: string (nullable = true)\n",
      " |-- LotFrontage: integer (nullable = true)\n",
      " |-- LotArea: integer (nullable = true)\n",
      " |-- Street: string (nullable = true)\n",
      " |-- Alley: string (nullable = true)\n",
      " |-- LotShape: string (nullable = true)\n",
      " |-- LandContour: string (nullable = true)\n",
      " |-- Utilities: string (nullable = true)\n",
      " |-- LotConfig: string (nullable = true)\n",
      " |-- LandSlope: string (nullable = true)\n",
      " |-- Neighborhood: string (nullable = true)\n",
      " |-- Condition1: string (nullable = true)\n",
      " |-- Condition2: string (nullable = true)\n",
      " |-- BldgType: string (nullable = true)\n",
      " |-- HouseStyle: string (nullable = true)\n",
      " |-- OverallQual: integer (nullable = true)\n",
      " |-- OverallCond: integer (nullable = true)\n",
      " |-- YearBuilt: integer (nullable = true)\n",
      " |-- YearRemodAdd: integer (nullable = true)\n",
      " |-- RoofStyle: string (nullable = true)\n",
      " |-- RoofMatl: string (nullable = true)\n",
      " |-- Exterior1st: string (nullable = true)\n",
      " |-- Exterior2nd: string (nullable = true)\n",
      " |-- MasVnrType: string (nullable = true)\n",
      " |-- MasVnrArea: integer (nullable = true)\n",
      " |-- ExterQual: string (nullable = true)\n",
      " |-- ExterCond: string (nullable = true)\n",
      " |-- Foundation: string (nullable = true)\n",
      " |-- BsmtQual: string (nullable = true)\n",
      " |-- BsmtCond: string (nullable = true)\n",
      " |-- BsmtExposure: string (nullable = true)\n",
      " |-- BsmtFinType1: string (nullable = true)\n",
      " |-- BsmtFinSF1: integer (nullable = true)\n",
      " |-- BsmtFinType2: string (nullable = true)\n",
      " |-- BsmtFinSF2: integer (nullable = true)\n",
      " |-- BsmtUnfSF: integer (nullable = true)\n",
      " |-- TotalBsmtSF: integer (nullable = true)\n",
      " |-- Heating: string (nullable = true)\n",
      " |-- HeatingQC: string (nullable = true)\n",
      " |-- CentralAir: string (nullable = true)\n",
      " |-- Electrical: string (nullable = true)\n",
      " |-- 1stFlrSF: integer (nullable = true)\n",
      " |-- 2ndFlrSF: integer (nullable = true)\n",
      " |-- LowQualFinSF: integer (nullable = true)\n",
      " |-- GrLivArea: integer (nullable = true)\n",
      " |-- BsmtFullBath: integer (nullable = true)\n",
      " |-- BsmtHalfBath: integer (nullable = true)\n",
      " |-- FullBath: integer (nullable = true)\n",
      " |-- HalfBath: integer (nullable = true)\n",
      " |-- BedroomAbvGr: integer (nullable = true)\n",
      " |-- KitchenAbvGr: integer (nullable = true)\n",
      " |-- KitchenQual: string (nullable = true)\n",
      " |-- TotRmsAbvGrd: integer (nullable = true)\n",
      " |-- Functional: string (nullable = true)\n",
      " |-- Fireplaces: integer (nullable = true)\n",
      " |-- FireplaceQu: string (nullable = true)\n",
      " |-- GarageType: string (nullable = true)\n",
      " |-- GarageYrBlt: integer (nullable = true)\n",
      " |-- GarageFinish: string (nullable = true)\n",
      " |-- GarageCars: integer (nullable = true)\n",
      " |-- GarageArea: integer (nullable = true)\n",
      " |-- GarageQual: string (nullable = true)\n",
      " |-- GarageCond: string (nullable = true)\n",
      " |-- PavedDrive: string (nullable = true)\n",
      " |-- WoodDeckSF: integer (nullable = true)\n",
      " |-- OpenPorchSF: integer (nullable = true)\n",
      " |-- EnclosedPorch: integer (nullable = true)\n",
      " |-- 3SsnPorch: integer (nullable = true)\n",
      " |-- ScreenPorch: integer (nullable = true)\n",
      " |-- PoolArea: integer (nullable = true)\n",
      " |-- PoolQC: string (nullable = true)\n",
      " |-- Fence: string (nullable = true)\n",
      " |-- MiscFeature: string (nullable = true)\n",
      " |-- MiscVal: integer (nullable = true)\n",
      " |-- MoSold: integer (nullable = true)\n",
      " |-- YrSold: integer (nullable = true)\n",
      " |-- SaleType: string (nullable = true)\n",
      " |-- SaleCondition: string (nullable = true)\n",
      " |-- SalePrice: integer (nullable = true)\n",
      "\n"
     ]
    }
   ],
   "source": [
    "full_df.printSchema()"
   ]
  },
  {
   "cell_type": "markdown",
   "metadata": {},
   "source": [
    "### Procesamiento de valores missing"
   ]
  },
  {
   "cell_type": "markdown",
   "metadata": {},
   "source": [
    "Para el cálculo de los valores missing que pueden presentar las distintas variables seguiremos los siguientes pasos:\n",
    "\n",
    "* Asociaremos a cada registro de cada columna, **F.col(c)**, el valor true or false en función de si el registro es un valor perdido o no gracias a la función **isNull()**.\n",
    "* Posteriormente, convertiremos los false en 0 y los true en 1 y sumaremos los valores de cada columna, obteniéndose así el número de registros nulos en cada columna.\n"
   ]
  },
  {
   "cell_type": "markdown",
   "metadata": {},
   "source": [
    "* **Procedimiento para la obtención del número de registros faltantes en cada variable**"
   ]
  },
  {
   "cell_type": "code",
   "execution_count": 28,
   "metadata": {
    "scrolled": true
   },
   "outputs": [
    {
     "name": "stdout",
     "output_type": "stream",
     "text": [
      "+---+----------+--------+-----------+-------+------+-----+--------+-----------+---------+---------+---------+------------+----------+----------+--------+----------+-----------+-----------+---------+------------+---------+--------+-----------+-----------+----------+----------+---------+---------+----------+--------+--------+------------+------------+----------+------------+----------+---------+-----------+-------+---------+----------+----------+--------+--------+------------+---------+------------+------------+--------+--------+------------+------------+-----------+------------+----------+----------+-----------+----------+-----------+------------+----------+----------+----------+----------+----------+----------+-----------+-------------+---------+-----------+--------+------+-----+-----------+-------+------+------+--------+-------------+---------+\n",
      "| Id|MSSubClass|MSZoning|LotFrontage|LotArea|Street|Alley|LotShape|LandContour|Utilities|LotConfig|LandSlope|Neighborhood|Condition1|Condition2|BldgType|HouseStyle|OverallQual|OverallCond|YearBuilt|YearRemodAdd|RoofStyle|RoofMatl|Exterior1st|Exterior2nd|MasVnrType|MasVnrArea|ExterQual|ExterCond|Foundation|BsmtQual|BsmtCond|BsmtExposure|BsmtFinType1|BsmtFinSF1|BsmtFinType2|BsmtFinSF2|BsmtUnfSF|TotalBsmtSF|Heating|HeatingQC|CentralAir|Electrical|1stFlrSF|2ndFlrSF|LowQualFinSF|GrLivArea|BsmtFullBath|BsmtHalfBath|FullBath|HalfBath|BedroomAbvGr|KitchenAbvGr|KitchenQual|TotRmsAbvGrd|Functional|Fireplaces|FireplaceQu|GarageType|GarageYrBlt|GarageFinish|GarageCars|GarageArea|GarageQual|GarageCond|PavedDrive|WoodDeckSF|OpenPorchSF|EnclosedPorch|3SsnPorch|ScreenPorch|PoolArea|PoolQC|Fence|MiscFeature|MiscVal|MoSold|YrSold|SaleType|SaleCondition|SalePrice|\n",
      "+---+----------+--------+-----------+-------+------+-----+--------+-----------+---------+---------+---------+------------+----------+----------+--------+----------+-----------+-----------+---------+------------+---------+--------+-----------+-----------+----------+----------+---------+---------+----------+--------+--------+------------+------------+----------+------------+----------+---------+-----------+-------+---------+----------+----------+--------+--------+------------+---------+------------+------------+--------+--------+------------+------------+-----------+------------+----------+----------+-----------+----------+-----------+------------+----------+----------+----------+----------+----------+----------+-----------+-------------+---------+-----------+--------+------+-----+-----------+-------+------+------+--------+-------------+---------+\n",
      "|  0|         0|       4|        486|      0|     0| 2721|       0|          0|        2|        0|        0|           0|         0|         0|       0|         0|          0|          0|        0|           0|        0|       0|          1|          1|        24|        23|        0|        0|         0|      81|      82|          82|          79|         1|          80|         1|        1|          1|      0|        0|         0|         1|       0|       0|           0|        0|           2|           2|       0|       0|           0|           0|          1|           0|         2|         0|       1420|       157|        159|         159|         1|         1|       159|       159|         0|         0|          0|            0|        0|          0|       0|  2909| 2348|       2814|      0|     0|     0|       1|            0|     1459|\n",
      "+---+----------+--------+-----------+-------+------+-----+--------+-----------+---------+---------+---------+------------+----------+----------+--------+----------+-----------+-----------+---------+------------+---------+--------+-----------+-----------+----------+----------+---------+---------+----------+--------+--------+------------+------------+----------+------------+----------+---------+-----------+-------+---------+----------+----------+--------+--------+------------+---------+------------+------------+--------+--------+------------+------------+-----------+------------+----------+----------+-----------+----------+-----------+------------+----------+----------+----------+----------+----------+----------+-----------+-------------+---------+-----------+--------+------+-----+-----------+-------+------+------+--------+-------------+---------+\n",
      "\n"
     ]
    }
   ],
   "source": [
    "def count_nulls(c):\n",
    "    return F.sum(F.col(c).isNull().cast(IntegerType())).alias(c)\n",
    "\n",
    "# Definimos la operación para cada columna del DF\n",
    "exprs = [count_nulls(c) for c in full_df.columns]\n",
    "\n",
    "# Aplicamos todas las operaciones\n",
    "full_df.agg(*exprs).show()"
   ]
  },
  {
   "cell_type": "markdown",
   "metadata": {},
   "source": [
    "Indicamos otra forma de llevar a cabo dicho conteo: guardamos en un dataframe el objeto previamente creado y, posteriormente, creamos un dataframe con dos columnas donde la primera hace referencia al nombre de los factores y la segunda al número de registros faltantes.\n",
    "\n",
    "Además, creamos la **función que nos permita calcular el número de registros nulos para posterior cálculos**."
   ]
  },
  {
   "cell_type": "code",
   "execution_count": 29,
   "metadata": {
    "scrolled": true
   },
   "outputs": [
    {
     "name": "stdout",
     "output_type": "stream",
     "text": [
      "+------------+----------+\n",
      "| Column_Name|NULL_Count|\n",
      "+------------+----------+\n",
      "|      PoolQC|      2909|\n",
      "| MiscFeature|      2814|\n",
      "|       Alley|      2721|\n",
      "|       Fence|      2348|\n",
      "|   SalePrice|      1459|\n",
      "| FireplaceQu|      1420|\n",
      "| LotFrontage|       486|\n",
      "|  GarageQual|       159|\n",
      "|GarageFinish|       159|\n",
      "|  GarageCond|       159|\n",
      "| GarageYrBlt|       159|\n",
      "|  GarageType|       157|\n",
      "|BsmtExposure|        82|\n",
      "|    BsmtCond|        82|\n",
      "|    BsmtQual|        81|\n",
      "|BsmtFinType2|        80|\n",
      "|BsmtFinType1|        79|\n",
      "|  MasVnrType|        24|\n",
      "|  MasVnrArea|        23|\n",
      "|    MSZoning|         4|\n",
      "+------------+----------+\n",
      "only showing top 20 rows\n",
      "\n"
     ]
    }
   ],
   "source": [
    "full_df_agg = full_df.agg(*[F.count(F.when(F.isnull(c), c)).alias(c) for c in full_df.columns])\n",
    "\n",
    "def count_nulls_df(df):\n",
    "    return reduce(\n",
    "        lambda a, b: a.union(b),\n",
    "        (\n",
    "            df.select(F.lit(c).alias(\"Column_Name\"), F.col(c).alias(\"NULL_Count\"))\n",
    "            for c in df.columns\n",
    "        )\n",
    "    )\n",
    "\n",
    "full_df_agg_col = count_nulls_df(full_df_agg)\n",
    "\n",
    "full_df_agg_col.sort(F.desc(\"NULL_Count\")).show()"
   ]
  },
  {
   "cell_type": "code",
   "execution_count": 30,
   "metadata": {},
   "outputs": [
    {
     "name": "stdout",
     "output_type": "stream",
     "text": [
      "+------------+----------+\n",
      "| Column_Name|NULL_Count|\n",
      "+------------+----------+\n",
      "|    MSZoning|         4|\n",
      "| LotFrontage|       486|\n",
      "|       Alley|      2721|\n",
      "|   Utilities|         2|\n",
      "| Exterior1st|         1|\n",
      "| Exterior2nd|         1|\n",
      "|  MasVnrType|        24|\n",
      "|  MasVnrArea|        23|\n",
      "|    BsmtQual|        81|\n",
      "|    BsmtCond|        82|\n",
      "|BsmtExposure|        82|\n",
      "|BsmtFinType1|        79|\n",
      "|  BsmtFinSF1|         1|\n",
      "|BsmtFinType2|        80|\n",
      "|  BsmtFinSF2|         1|\n",
      "|   BsmtUnfSF|         1|\n",
      "| TotalBsmtSF|         1|\n",
      "|  Electrical|         1|\n",
      "|BsmtFullBath|         2|\n",
      "|BsmtHalfBath|         2|\n",
      "+------------+----------+\n",
      "only showing top 20 rows\n",
      "\n"
     ]
    }
   ],
   "source": [
    "full_df_agg_col.filter(F.col('NULL_Count') > 0).show()"
   ]
  },
  {
   "cell_type": "markdown",
   "metadata": {},
   "source": [
    "* **Comparación con los registros 'NA'**"
   ]
  },
  {
   "cell_type": "markdown",
   "metadata": {},
   "source": [
    "Observamos que además de los registros 'NA', que hemos imputado por valores missing, había más registros faltantes."
   ]
  },
  {
   "cell_type": "code",
   "execution_count": 31,
   "metadata": {},
   "outputs": [
    {
     "name": "stdout",
     "output_type": "stream",
     "text": [
      "+-------------+\n",
      "|sum(NA_count)|\n",
      "+-------------+\n",
      "|        13955|\n",
      "+-------------+\n",
      "\n",
      "+---------------+\n",
      "|sum(NULL_count)|\n",
      "+---------------+\n",
      "|          15424|\n",
      "+---------------+\n",
      "\n"
     ]
    }
   ],
   "source": [
    "full_df_count_NA_col.agg(F.sum(\"NA_count\")).show()\n",
    "full_df_agg_col.agg(F.sum(\"NULL_count\")).show()"
   ]
  },
  {
   "cell_type": "markdown",
   "metadata": {},
   "source": [
    "A priori puede resultar que había un gran número de valores missing en nuestras variables significativas sin embargo no es así. En la salida de los valores **null** se encuentran los 1459 de la variable objetivo que, por supuesto, no estaban en el análisis de los valores 'NA'. Contando esta son sólo 10 registros faltantes (10+1459+13955 = 15424) los que se encontraban inicialmente en nuestro conjunto de datos."
   ]
  },
  {
   "cell_type": "markdown",
   "metadata": {},
   "source": [
    "Vemos el número de registros nulos de nuestra variable a predecir:"
   ]
  },
  {
   "cell_type": "code",
   "execution_count": 32,
   "metadata": {},
   "outputs": [
    {
     "name": "stdout",
     "output_type": "stream",
     "text": [
      "+---------+\n",
      "|SalePrice|\n",
      "+---------+\n",
      "|     1459|\n",
      "+---------+\n",
      "\n"
     ]
    }
   ],
   "source": [
    "full_df_agg.select('SalePrice').show() # coincide con el número de registros del conjunto test"
   ]
  },
  {
   "cell_type": "markdown",
   "metadata": {},
   "source": [
    "El conteo sobre la variable objetivo hace referencia al número de registros del conjunto test. Recordamos que dicha variable no existía en dicho conjunto de datos, la creamos con valores **null** puesto que es la variable que queremos predecir."
   ]
  },
  {
   "cell_type": "markdown",
   "metadata": {},
   "source": [
    "* **Creamos a continuación una función que nos devuelva el porcentaje de registros missing por variable:**"
   ]
  },
  {
   "cell_type": "code",
   "execution_count": 33,
   "metadata": {},
   "outputs": [],
   "source": [
    "def pct_nulls(df):\n",
    "    return [100*(df.filter(F.col(c).isNull()).count() / df.count()) for c in df.columns]"
   ]
  },
  {
   "cell_type": "code",
   "execution_count": 34,
   "metadata": {},
   "outputs": [],
   "source": [
    "df_pct_nulls = pd.DataFrame({'Factors': full_df.columns, 'Porcentaje nulos': pct_nulls(full_df)})\n",
    "df_pct_nulls = df_pct_nulls.sort_values(by='Porcentaje nulos', ascending=False)"
   ]
  },
  {
   "cell_type": "markdown",
   "metadata": {},
   "source": [
    "Convertimos el dataframe en formato pandas en formato **spark** para seguir con nuestro análisis."
   ]
  },
  {
   "cell_type": "code",
   "execution_count": 36,
   "metadata": {},
   "outputs": [],
   "source": [
    "df_pct_nulls_spark = spark.createDataFrame(df_pct_nulls)"
   ]
  },
  {
   "cell_type": "code",
   "execution_count": 37,
   "metadata": {},
   "outputs": [
    {
     "name": "stdout",
     "output_type": "stream",
     "text": [
      "+------------+------------------+\n",
      "|     Factors|  Porcentaje nulos|\n",
      "+------------+------------------+\n",
      "|      PoolQC| 99.65741692360398|\n",
      "| MiscFeature| 96.40287769784173|\n",
      "|       Alley| 93.21685508735868|\n",
      "|       Fence|  80.4385063377869|\n",
      "|   SalePrice|  49.9828708461802|\n",
      "| FireplaceQu|48.646796848235695|\n",
      "| LotFrontage|16.649537512846866|\n",
      "|GarageFinish|5.4470709146968135|\n",
      "| GarageYrBlt|5.4470709146968135|\n",
      "|  GarageCond|5.4470709146968135|\n",
      "|  GarageQual|5.4470709146968135|\n",
      "|  GarageType| 5.378554299417608|\n",
      "|    BsmtCond|2.8091812264474134|\n",
      "|BsmtExposure|2.8091812264474134|\n",
      "|    BsmtQual| 2.774922918807811|\n",
      "|BsmtFinType2|2.7406646111682083|\n",
      "|BsmtFinType1|2.7064063035286057|\n",
      "|  MasVnrType|0.8221993833504625|\n",
      "|  MasVnrArea|0.7879410757108599|\n",
      "|    MSZoning|0.1370332305584104|\n",
      "+------------+------------------+\n",
      "only showing top 20 rows\n",
      "\n"
     ]
    }
   ],
   "source": [
    "df_pct_nulls_spark.sort(F.desc('Porcentaje nulos')).show()"
   ]
  },
  {
   "cell_type": "markdown",
   "metadata": {},
   "source": [
    "Ahora bien, eliminaremos aquellas columnas (explicativas) que presenten como mínimo el $45\\%$ de registros perdidos. Observamos que dichas variables: 'Alley', 'PoolQC', 'Fence', 'MiscFeature' y 'FireplaceQu' no se tratan de aspectos de vital importancia ante la decisión de la compra de una casa, posiblemente, es por dicha razón por la que dichas columnas presentan un número tan elevado de registros missing. Observamos que todas ellas significan la presencia o no de diversos elementos no prioritarios en una casa: piscina, callejón, valla, chimenea.\n",
    "\n",
    "Los valores missing de dichas variables son los valores de carácter 'NA' que han sido reemplazos por 'None' y que, como hemos dicho, significan la ausencia de un elemento extra en una casa. Por ejemplo la variable que determina la presencia de piscina tiene prácticamente todos sus registros 'NA' y por consiguiente para la elaboración de un modelo no es significativo. Por la existencia tan alta de una categoría que convierte dichas variables en prácticamente constante y puesto que no son aspectos tan importantes desde el punto de vista técnico, decidimos eliminarlas de nuestro dataset."
   ]
  },
  {
   "cell_type": "code",
   "execution_count": 38,
   "metadata": {},
   "outputs": [
    {
     "name": "stdout",
     "output_type": "stream",
     "text": [
      "+-----------+------------------+\n",
      "|    Factors|  Porcentaje nulos|\n",
      "+-----------+------------------+\n",
      "|     PoolQC| 99.65741692360398|\n",
      "|MiscFeature| 96.40287769784173|\n",
      "|      Alley| 93.21685508735868|\n",
      "|      Fence|  80.4385063377869|\n",
      "|FireplaceQu|48.646796848235695|\n",
      "+-----------+------------------+\n",
      "\n"
     ]
    }
   ],
   "source": [
    "df_pct_nulls_spark.filter((df_pct_nulls_spark['Porcentaje nulos'] > 45) &\n",
    "                         (df_pct_nulls_spark['Factors'] != \"SalePrice\")).sort(F.desc('Porcentaje nulos')).show()"
   ]
  },
  {
   "cell_type": "markdown",
   "metadata": {},
   "source": [
    "La variable 'SalePrice' require una explicación aparte; se trata de la variable objetivo y sus registros nulos se deben a que el conjunto test presenta dicha columna vacía pues es la variable a predecir."
   ]
  },
  {
   "cell_type": "markdown",
   "metadata": {},
   "source": [
    "Accedemos ahora a las variables que cumplen dicha condicion:"
   ]
  },
  {
   "cell_type": "code",
   "execution_count": 39,
   "metadata": {},
   "outputs": [
    {
     "name": "stdout",
     "output_type": "stream",
     "text": [
      "+-----------+\n",
      "|    Factors|\n",
      "+-----------+\n",
      "|     PoolQC|\n",
      "|MiscFeature|\n",
      "|      Alley|\n",
      "|      Fence|\n",
      "|FireplaceQu|\n",
      "+-----------+\n",
      "\n"
     ]
    }
   ],
   "source": [
    "to_drop = df_pct_nulls_spark.filter((df_pct_nulls_spark['Porcentaje nulos'] > 45) & (F.col('Factors') != \"SalePrice\"))\\\n",
    "    .select('Factors')\n",
    "\n",
    "to_drop.show()"
   ]
  },
  {
   "cell_type": "code",
   "execution_count": 40,
   "metadata": {},
   "outputs": [],
   "source": [
    "full_df = full_df.drop('Alley', 'PoolQC', 'Fence', 'MiscFeature', 'FireplaceQu')"
   ]
  },
  {
   "cell_type": "markdown",
   "metadata": {},
   "source": [
    "Observamos ahora el número de registros nulos por variable que necesitamos imputar:"
   ]
  },
  {
   "cell_type": "code",
   "execution_count": 41,
   "metadata": {},
   "outputs": [
    {
     "name": "stdout",
     "output_type": "stream",
     "text": [
      "+------------+----------+\n",
      "| Column_Name|NULL_Count|\n",
      "+------------+----------+\n",
      "|          Id|         0|\n",
      "|  MSSubClass|         0|\n",
      "|    MSZoning|         4|\n",
      "| LotFrontage|       486|\n",
      "|     LotArea|         0|\n",
      "|      Street|         0|\n",
      "|    LotShape|         0|\n",
      "| LandContour|         0|\n",
      "|   Utilities|         2|\n",
      "|   LotConfig|         0|\n",
      "|   LandSlope|         0|\n",
      "|Neighborhood|         0|\n",
      "|  Condition1|         0|\n",
      "|  Condition2|         0|\n",
      "|    BldgType|         0|\n",
      "|  HouseStyle|         0|\n",
      "| OverallQual|         0|\n",
      "| OverallCond|         0|\n",
      "|   YearBuilt|         0|\n",
      "|YearRemodAdd|         0|\n",
      "+------------+----------+\n",
      "only showing top 20 rows\n",
      "\n"
     ]
    }
   ],
   "source": [
    "new_full_df = full_df.agg(*[F.count(F.when(F.isnull(c), c)).alias(c) for c in full_df.columns])\n",
    "\n",
    "new_full_df_drop = count_nulls_df(new_full_df)\n",
    "new_full_df_drop.show()"
   ]
  },
  {
   "cell_type": "markdown",
   "metadata": {},
   "source": [
    "Observamos ahora qué variables necesitan llevar a cabo una tarea de preprocesamiento de valores missing (aquellas cuyo número de registros faltantes sea superior a 1)."
   ]
  },
  {
   "cell_type": "code",
   "execution_count": 42,
   "metadata": {},
   "outputs": [
    {
     "name": "stdout",
     "output_type": "stream",
     "text": [
      "+------------+----------+\n",
      "| Column_Name|NULL_Count|\n",
      "+------------+----------+\n",
      "|  GarageCars|         1|\n",
      "|  BsmtFinSF1|         1|\n",
      "| Exterior2nd|         1|\n",
      "| Exterior1st|         1|\n",
      "|  BsmtFinSF2|         1|\n",
      "| TotalBsmtSF|         1|\n",
      "|   BsmtUnfSF|         1|\n",
      "|  Electrical|         1|\n",
      "|  GarageArea|         1|\n",
      "| KitchenQual|         1|\n",
      "|    SaleType|         1|\n",
      "|  Functional|         2|\n",
      "|   Utilities|         2|\n",
      "|BsmtFullBath|         2|\n",
      "|BsmtHalfBath|         2|\n",
      "|    MSZoning|         4|\n",
      "|  MasVnrArea|        23|\n",
      "|  MasVnrType|        24|\n",
      "|BsmtFinType1|        79|\n",
      "|BsmtFinType2|        80|\n",
      "+------------+----------+\n",
      "only showing top 20 rows\n",
      "\n"
     ]
    }
   ],
   "source": [
    "new_full_df_drop.filter(F.col('NULL_Count') >= 1).sort(F.asc('NULL_Count')).show()"
   ]
  },
  {
   "cell_type": "markdown",
   "metadata": {},
   "source": [
    "**LotFrontage - 486 registros missing**"
   ]
  },
  {
   "cell_type": "markdown",
   "metadata": {},
   "source": [
    "Dicha variable significa: pies lineales de calle conectados a propiedad. De manera que para conocer el área de cada casa, como todas las casas que se rodean entre sí tendrán aproximadamente la misma área, podemos reemplazar el área a calcular por el área de cada barrio (variable **Neighborhood**)."
   ]
  },
  {
   "cell_type": "code",
   "execution_count": 43,
   "metadata": {},
   "outputs": [],
   "source": [
    "miss_LotFr = full_df.filter(full_df.LotFrontage.isNull())\n",
    "\n",
    "no_miss_LotFr = full_df.filter(full_df.LotFrontage.isNotNull())"
   ]
  },
  {
   "cell_type": "markdown",
   "metadata": {},
   "source": [
    "Calculamos pues la media de la variable 'LotFrontage' por barrio:"
   ]
  },
  {
   "cell_type": "code",
   "execution_count": 44,
   "metadata": {},
   "outputs": [
    {
     "name": "stdout",
     "output_type": "stream",
     "text": [
      "+------------+------------------+\n",
      "|Neighborhood|  mean_LotFrontage|\n",
      "+------------+------------------+\n",
      "|     Veenker|              72.0|\n",
      "|     BrkSide| 55.78947368421053|\n",
      "|     NPkVill|28.142857142857142|\n",
      "|     NridgHt|  84.1840490797546|\n",
      "|     NoRidge| 91.62962962962963|\n",
      "|      NWAmes| 81.51764705882353|\n",
      "|     OldTown|61.777292576419214|\n",
      "|     Gilbert|  74.2072072072072|\n",
      "|     Somerst| 64.54938271604938|\n",
      "|     Crawfor| 69.95180722891567|\n",
      "|       NAmes| 75.21066666666667|\n",
      "|      IDOTRR|62.241379310344826|\n",
      "|     Edwards| 66.91011235955057|\n",
      "|      Sawyer| 74.55102040816327|\n",
      "|     StoneBr| 62.17391304347826|\n",
      "|     CollgCr| 71.33636363636364|\n",
      "|       SWISU| 59.06818181818182|\n",
      "|     MeadowV|25.606060606060606|\n",
      "|      Timber| 81.15789473684211|\n",
      "|     Blmngtn|              46.9|\n",
      "+------------+------------------+\n",
      "only showing top 20 rows\n",
      "\n"
     ]
    }
   ],
   "source": [
    "df_mean_LotFr_neigh = no_miss_LotFr.groupBy('Neighborhood').agg(F.avg(no_miss_LotFr.LotFrontage).alias('mean_LotFrontage'))\n",
    "df_mean_LotFr_neigh.show()"
   ]
  },
  {
   "cell_type": "markdown",
   "metadata": {},
   "source": [
    "Así, ya estamos en condiciones de reemplazar los registros faltantes de la variable **LotFrontage** por la media que obtiene dicha variable según el barrio al que pertenezca cada casa:"
   ]
  },
  {
   "cell_type": "code",
   "execution_count": 45,
   "metadata": {},
   "outputs": [],
   "source": [
    "full_df = full_df.join(df_mean_LotFr_neigh, 'Neighborhood').withColumn('LotFrontage', F.when(F.col('LotFrontage').isNull(),\n",
    "                                                                                             F.col('mean_LotFrontage')).\\\n",
    "                                                                       otherwise(F.col('LotFrontage'))).drop('mean_LotFrontage')"
   ]
  },
  {
   "cell_type": "markdown",
   "metadata": {},
   "source": [
    "#### MSZoning - 4 registros missing"
   ]
  },
  {
   "cell_type": "code",
   "execution_count": 46,
   "metadata": {},
   "outputs": [
    {
     "name": "stdout",
     "output_type": "stream",
     "text": [
      "+-----------+----------+\n",
      "|Column_Name|NULL_Count|\n",
      "+-----------+----------+\n",
      "|   MSZoning|         4|\n",
      "+-----------+----------+\n",
      "\n"
     ]
    }
   ],
   "source": [
    "new_full_df_drop.filter(F.col('Column_Name') == \"MSZoning\").show()"
   ]
  },
  {
   "cell_type": "markdown",
   "metadata": {},
   "source": [
    "Buscaremos reemplazar los registros missing usando el conjunto de valores que presenta dicha variable. Así, separamos los registros en los que nuestra variable a reemplazar tiene registro o no."
   ]
  },
  {
   "cell_type": "code",
   "execution_count": 47,
   "metadata": {},
   "outputs": [
    {
     "name": "stdout",
     "output_type": "stream",
     "text": [
      "+------------+----+----------+--------+------------------+-------+\n",
      "|Neighborhood|  Id|MSSubClass|MSZoning|       LotFrontage|LotArea|\n",
      "+------------+----+----------+--------+------------------+-------+\n",
      "|      IDOTRR|1916|        30|    null|             109.0|  21780|\n",
      "|      IDOTRR|2217|        20|    null|              80.0|  14584|\n",
      "|      IDOTRR|2251|        70|    null|62.241379310344826|  56600|\n",
      "|     Mitchel|2905|        20|    null|             125.0|  31250|\n",
      "+------------+----+----------+--------+------------------+-------+\n",
      "\n",
      "Hay un total de 2915 filas con valor en la variable dada.\n"
     ]
    }
   ],
   "source": [
    "miss_MSZ = full_df.filter(full_df.MSZoning.isNull())\n",
    "miss_MSZ.select(miss_MSZ.columns[:6]).show()\n",
    "\n",
    "no_miss_MSZ = full_df.filter(full_df.MSZoning.isNotNull())\n",
    "print(\"Hay un total de {} filas con valor en la variable dada.\".format(no_miss_MSZ.count()))"
   ]
  },
  {
   "cell_type": "markdown",
   "metadata": {},
   "source": [
    "Realizamos un primer conteo de cada categoría de la variable a imputar:"
   ]
  },
  {
   "cell_type": "code",
   "execution_count": 48,
   "metadata": {},
   "outputs": [
    {
     "name": "stdout",
     "output_type": "stream",
     "text": [
      "+--------+-----+\n",
      "|MSZoning|count|\n",
      "+--------+-----+\n",
      "| C (all)|   25|\n",
      "|      RH|   26|\n",
      "|      FV|  139|\n",
      "|      RL| 2265|\n",
      "|      RM|  460|\n",
      "+--------+-----+\n",
      "\n"
     ]
    }
   ],
   "source": [
    "no_miss_MSZ.groupBy('MSZoning').count().show()"
   ]
  },
  {
   "cell_type": "code",
   "execution_count": 49,
   "metadata": {},
   "outputs": [
    {
     "data": {
      "text/plain": [
       "[Row(MSZoning='C (all)', count=25),\n",
       " Row(MSZoning='RH', count=26),\n",
       " Row(MSZoning='FV', count=139),\n",
       " Row(MSZoning='RL', count=2265),\n",
       " Row(MSZoning='RM', count=460)]"
      ]
     },
     "execution_count": 49,
     "metadata": {},
     "output_type": "execute_result"
    }
   ],
   "source": [
    "no_miss_MSZ.groupBy('MSZoning').count().collect()"
   ]
  },
  {
   "cell_type": "markdown",
   "metadata": {},
   "source": [
    "Además, realizamos una primera visualización gráfica de la distribución de la variable a tratar:"
   ]
  },
  {
   "cell_type": "code",
   "execution_count": 50,
   "metadata": {},
   "outputs": [],
   "source": [
    "def plot_freqs(categories, values, max_y):\n",
    "    %matplotlib inline\n",
    "    plt.bar(range(len(categories)), values, align='center', color=\"red\")\n",
    "    plt.xticks(range(len(categories)), categories, rotation='vertical')\n",
    "    plt.ylim([0, max_y])\n",
    "    plt.title('Distribución de la variable con valores a imputar')"
   ]
  },
  {
   "cell_type": "code",
   "execution_count": 51,
   "metadata": {},
   "outputs": [
    {
     "data": {
      "image/png": "[encoded data removed]",
      "text/plain": [
       "<Figure size 432x288 with 1 Axes>"
      ]
     },
     "metadata": {
      "needs_background": "light"
     },
     "output_type": "display_data"
    }
   ],
   "source": [
    "freq_table = no_miss_MSZ.select('MSZoning').rdd.map(lambda row: row.MSZoning).countByValue()\n",
    "plot_freqs(freq_table.keys(), freq_table.values(), sum(freq_table.values()))"
   ]
  },
  {
   "cell_type": "markdown",
   "metadata": {},
   "source": [
    "Podríamos asignarle a los 4 valores missing la **categoría mayoritaria**, es decir, **RL**."
   ]
  },
  {
   "cell_type": "markdown",
   "metadata": {},
   "source": [
    "* **Analizamos otra manera de hacerlo, quizás más laboriosa y aprovechando la información de otras variables**"
   ]
  },
  {
   "cell_type": "markdown",
   "metadata": {},
   "source": [
    "La variable a imputar, **MSZoning**, se trata de una variable categórica que hace referencia al tipo de zona en la que se encuentra el hogar en venta. Ahora bien, **¿tiene relación la zona en la que se encuentra una vivienda y el tipo de vivienda que es?** Parece que tiene sentido que, usando la variable **MSSubClass**, que identifica el tipo de vivienda involucrada en la venta, podamos conocer el tipo de zona en la que se encuentra la vivienda."
   ]
  },
  {
   "cell_type": "markdown",
   "metadata": {},
   "source": [
    "Así, calculamos el tipo de vivienda más frecuente asociada a cada zona. Posteriormente, conociendo el tipo de vivienda que presentan los registros con valor faltante en la variable a imputar, podemos conocer la zona que le correspondería."
   ]
  },
  {
   "cell_type": "markdown",
   "metadata": {},
   "source": [
    "> En primer lugar agrupamos las observaciones por las variables 'MSSubClass', 'MSZoning' y analizamos el conteo de cada combinación posible."
   ]
  },
  {
   "cell_type": "code",
   "execution_count": 52,
   "metadata": {},
   "outputs": [
    {
     "name": "stdout",
     "output_type": "stream",
     "text": [
      "+----------+--------+-------------+\n",
      "|MSSubClass|MSZoning|MSZoningCount|\n",
      "+----------+--------+-------------+\n",
      "|        60|      FV|           43|\n",
      "|       180|      RM|           17|\n",
      "|        20|      FV|           34|\n",
      "|        30|      RH|            2|\n",
      "|        45|      RM|           11|\n",
      "|        50|      RH|            2|\n",
      "|       160|      FV|           43|\n",
      "|        45|      RH|            1|\n",
      "|        80|      RM|            3|\n",
      "|       190|      RM|           23|\n",
      "|        20|      RM|           20|\n",
      "|        40|      RM|            2|\n",
      "|       160|      RM|           64|\n",
      "|        45|      RL|            6|\n",
      "|        40|      RL|            4|\n",
      "|       160|      RL|           21|\n",
      "|        90|      RM|           13|\n",
      "|        90|      RL|           92|\n",
      "|       150|      RL|            1|\n",
      "|       190| C (all)|            3|\n",
      "+----------+--------+-------------+\n",
      "only showing top 20 rows\n",
      "\n"
     ]
    }
   ],
   "source": [
    "Group_MSZ_MSS = no_miss_MSZ.groupBy('MSSubClass', 'MSZoning').agg(F.count('MSZoning').alias(\"MSZoningCount\"))\n",
    "Group_MSZ_MSS.show()"
   ]
  },
  {
   "cell_type": "markdown",
   "metadata": {},
   "source": [
    "> Usaremos ahora la función `Window()` del módulo `pyspark.sql.window` para conocer el valor mázimo de la nueva variable calculada según la variable `MSSubClas'."
   ]
  },
  {
   "cell_type": "code",
   "execution_count": 53,
   "metadata": {},
   "outputs": [],
   "source": [
    "maxWindow = Window.partitionBy('MSSubClass')\n",
    "maxColumn = F.max(F.col('MSZoningCount')).over(maxWindow)\n",
    "Group_MSZ_MSS_Max = Group_MSZ_MSS.withColumn('maxMSZoningCount', maxColumn)"
   ]
  },
  {
   "cell_type": "markdown",
   "metadata": {},
   "source": [
    "> Por último, accedemos a aquel registro en el que las dos nuevas variables coinciden en valor. Así, tendremos para cada posible categoría de la variable 'MSSubClass', es decir, para cada posible tipo de vivienda, la zona más frecuente."
   ]
  },
  {
   "cell_type": "code",
   "execution_count": 54,
   "metadata": {},
   "outputs": [
    {
     "name": "stdout",
     "output_type": "stream",
     "text": [
      "+----------+-------------+\n",
      "|MSSubClass|MSZoning_freq|\n",
      "+----------+-------------+\n",
      "|        20|           RL|\n",
      "|        30|           RM|\n",
      "|        40|           RL|\n",
      "|        45|           RM|\n",
      "|        50|           RL|\n",
      "|        60|           RL|\n",
      "|        70|           RM|\n",
      "|        75|           RM|\n",
      "|        80|           RL|\n",
      "|        85|           RL|\n",
      "|        90|           RL|\n",
      "|       120|           RL|\n",
      "|       150|           RL|\n",
      "|       160|           RM|\n",
      "|       180|           RM|\n",
      "|       190|           RL|\n",
      "+----------+-------------+\n",
      "\n"
     ]
    }
   ],
   "source": [
    "df_mode_MSZ_MSS = Group_MSZ_MSS_Max.filter((F.col('maxMSZoningCount') - F.col('MSZoningCount')) == 0) \\\n",
    "    .select('MSSubClass', 'MSZoning').sort(F.asc('MSSubClass'))\n",
    "\n",
    "df_mode_MSZ_MSS = df_mode_MSZ_MSS.withColumnRenamed('MSZoning', 'MSZoning_freq')\n",
    "\n",
    "df_mode_MSZ_MSS.show()"
   ]
  },
  {
   "cell_type": "markdown",
   "metadata": {},
   "source": [
    "Ahora, tendríamos que analizar qué tipo de vivienda presentan los hogares con valor faltante en la variable 'MSZoning':"
   ]
  },
  {
   "cell_type": "code",
   "execution_count": 55,
   "metadata": {},
   "outputs": [
    {
     "name": "stdout",
     "output_type": "stream",
     "text": [
      "+--------+----------+\n",
      "|MSZoning|MSSubClass|\n",
      "+--------+----------+\n",
      "|    null|        30|\n",
      "|    null|        20|\n",
      "|    null|        70|\n",
      "|    null|        20|\n",
      "+--------+----------+\n",
      "\n"
     ]
    }
   ],
   "source": [
    "miss_MSZ.select('MSZoning', 'MSSubClass').show()"
   ]
  },
  {
   "cell_type": "markdown",
   "metadata": {},
   "source": [
    "Luego ya estamos en disposición de realizar la imputación. Previamente a ello incluimos una nueva variable que sea el índice de los registros para así luego comprobar que la imputación ha sido correcta."
   ]
  },
  {
   "cell_type": "code",
   "execution_count": 56,
   "metadata": {},
   "outputs": [],
   "source": [
    "from pyspark.sql.functions import monotonically_increasing_id\n",
    "\n",
    "full_df = full_df.withColumn(\"index\", monotonically_increasing_id())"
   ]
  },
  {
   "cell_type": "code",
   "execution_count": 57,
   "metadata": {},
   "outputs": [
    {
     "name": "stdout",
     "output_type": "stream",
     "text": [
      "+--------+----------+----------+\n",
      "|MSZoning|MSSubClass|     index|\n",
      "+--------+----------+----------+\n",
      "|    null|        30|8589935047|\n",
      "|    null|        20|8589935348|\n",
      "|    null|        70|8589935382|\n",
      "|    null|        20|8589936036|\n",
      "+--------+----------+----------+\n",
      "\n"
     ]
    }
   ],
   "source": [
    "full_df.filter(F.col('MSZoning').isNull()).select('MSZoning', 'MSSubClass', 'index').show()"
   ]
  },
  {
   "cell_type": "markdown",
   "metadata": {},
   "source": [
    "Por tanto:\n",
    "    \n",
    "* A los registros con valor 20 en la variable 'MSSubClass' se les asignará la categoría **RL**.\n",
    "* A los registros con valor 30 y 70, presentarán la categoría **RM**."
   ]
  },
  {
   "cell_type": "markdown",
   "metadata": {},
   "source": [
    "Realizamos el tratamiento de los valores missing:"
   ]
  },
  {
   "cell_type": "code",
   "execution_count": 58,
   "metadata": {},
   "outputs": [],
   "source": [
    "full_df = full_df.join(df_mode_MSZ_MSS, 'MSSubClass').withColumn('MSZoning', F.when(F.col('MSZoning').isNull(),\n",
    "                                                                                    F.col('MSZoning_freq')).\\\n",
    "                                                                 otherwise(F.col('MSZoning'))).drop('MSZoning_freq')"
   ]
  },
  {
   "cell_type": "code",
   "execution_count": 59,
   "metadata": {},
   "outputs": [
    {
     "name": "stdout",
     "output_type": "stream",
     "text": [
      "+--------+----------+----------+\n",
      "|MSZoning|MSSubClass|     index|\n",
      "+--------+----------+----------+\n",
      "|      RL|        20|8589935348|\n",
      "|      RL|        20|8589936036|\n",
      "|      RM|        70|8589935382|\n",
      "|      RM|        30|8589935047|\n",
      "+--------+----------+----------+\n",
      "\n"
     ]
    }
   ],
   "source": [
    "full_df.filter((F.col('index') == 8589935047) | (F.col('index') == 8589935348) |\n",
    "               (F.col('index') == 8589935382) | (F.col('index') == 8589936036)).select('MSZoning', 'MSSubClass', 'index').show()"
   ]
  },
  {
   "cell_type": "markdown",
   "metadata": {},
   "source": [
    "Observamos que el reemplazamiento ha sido correcto."
   ]
  },
  {
   "cell_type": "markdown",
   "metadata": {},
   "source": [
    "**Utilities - 2 registros faltantes**"
   ]
  },
  {
   "cell_type": "code",
   "execution_count": 60,
   "metadata": {},
   "outputs": [
    {
     "name": "stdout",
     "output_type": "stream",
     "text": [
      "+-----------+----------+\n",
      "|Column_Name|NULL_Count|\n",
      "+-----------+----------+\n",
      "|  Utilities|         2|\n",
      "+-----------+----------+\n",
      "\n"
     ]
    }
   ],
   "source": [
    "new_full_df_drop.filter(F.col('Column_Name') == \"Utilities\").show()"
   ]
  },
  {
   "cell_type": "code",
   "execution_count": 61,
   "metadata": {},
   "outputs": [
    {
     "name": "stdout",
     "output_type": "stream",
     "text": [
      "+----------+------------+----+--------+----------------+-------+------+--------+-----------+---------+---------+---------+\n",
      "|MSSubClass|Neighborhood|  Id|MSZoning|     LotFrontage|LotArea|Street|LotShape|LandContour|Utilities|LotConfig|LandSlope|\n",
      "+----------+------------+----+--------+----------------+-------+------+--------+-----------+---------+---------+---------+\n",
      "|        20|     Gilbert|1946|      RL|74.2072072072072|  31220|  Pave|     IR1|        Bnk|     null|      FR2|      Gtl|\n",
      "|        30|      IDOTRR|1916|      RM|           109.0|  21780|  Grvl|     Reg|        Lvl|     null|   Inside|      Gtl|\n",
      "+----------+------------+----+--------+----------------+-------+------+--------+-----------+---------+---------+---------+\n",
      "\n",
      "Hay un total de 2917 filas con valor en la variable dada.\n"
     ]
    }
   ],
   "source": [
    "miss_util = full_df.filter(full_df.Utilities.isNull())\n",
    "miss_util.select(miss_util.columns[:12]).show()\n",
    "\n",
    "no_miss_util = full_df.filter(full_df.Utilities.isNotNull())\n",
    "print(\"Hay un total de {} filas con valor en la variable dada.\".format(no_miss_util.count()))"
   ]
  },
  {
   "cell_type": "markdown",
   "metadata": {},
   "source": [
    "Recordamos la clase de dicha variable:"
   ]
  },
  {
   "cell_type": "code",
   "execution_count": 62,
   "metadata": {},
   "outputs": [
    {
     "name": "stdout",
     "output_type": "stream",
     "text": [
      "root\n",
      " |-- Utilities: string (nullable = true)\n",
      "\n"
     ]
    }
   ],
   "source": [
    "no_miss_util.select('Utilities').printSchema()"
   ]
  },
  {
   "cell_type": "code",
   "execution_count": 63,
   "metadata": {},
   "outputs": [
    {
     "name": "stdout",
     "output_type": "stream",
     "text": [
      "+---------+-----+\n",
      "|Utilities|count|\n",
      "+---------+-----+\n",
      "|   NoSeWa|    1|\n",
      "|   AllPub| 2916|\n",
      "+---------+-----+\n",
      "\n"
     ]
    }
   ],
   "source": [
    "no_miss_util.groupBy('Utilities').count().show()"
   ]
  },
  {
   "cell_type": "markdown",
   "metadata": {},
   "source": [
    "Observamos que hay un claro predominio de una de las dos clases. Debido a que la variable a imputar sus registros missing es prácticamente constante, no influirá en demasia en la predicción del modelo predictivo (la observación pertenece a la muestra de entrenamiento ya que tiene valor en la variable objetivo) luego podemos eliminarla."
   ]
  },
  {
   "cell_type": "code",
   "execution_count": 64,
   "metadata": {},
   "outputs": [
    {
     "name": "stdout",
     "output_type": "stream",
     "text": [
      "+---------+\n",
      "|SalePrice|\n",
      "+---------+\n",
      "|   137500|\n",
      "+---------+\n",
      "\n"
     ]
    }
   ],
   "source": [
    "no_miss_util.filter(F.col('Utilities') == 'NoSeWa').select('SalePrice').show()"
   ]
  },
  {
   "cell_type": "code",
   "execution_count": 65,
   "metadata": {},
   "outputs": [],
   "source": [
    "full_df = full_df.drop('Utilities')"
   ]
  },
  {
   "cell_type": "markdown",
   "metadata": {},
   "source": [
    "**Exterior1st - 1 registro faltante** & **Exterior2nd - 1 registro faltante**"
   ]
  },
  {
   "cell_type": "code",
   "execution_count": 66,
   "metadata": {},
   "outputs": [
    {
     "name": "stdout",
     "output_type": "stream",
     "text": [
      "+-----------+----------+\n",
      "|Column_Name|NULL_Count|\n",
      "+-----------+----------+\n",
      "|Exterior1st|         1|\n",
      "|Exterior2nd|         1|\n",
      "+-----------+----------+\n",
      "\n"
     ]
    }
   ],
   "source": [
    "new_full_df_drop.filter((F.col('Column_Name') == \"Exterior1st\") | (F.col('Column_Name') == \"Exterior2nd\")).show()"
   ]
  },
  {
   "cell_type": "code",
   "execution_count": 67,
   "metadata": {},
   "outputs": [
    {
     "name": "stdout",
     "output_type": "stream",
     "text": [
      "+-----------+-----------+----------+----------+---------+---------+----------+--------+--------+\n",
      "|Exterior1st|Exterior2nd|MasVnrType|MasVnrArea|ExterQual|ExterCond|Foundation|BsmtQual|BsmtCond|\n",
      "+-----------+-----------+----------+----------+---------+---------+----------+--------+--------+\n",
      "|       null|       null|      None|         0|       TA|       TA|     PConc|      TA|      TA|\n",
      "+-----------+-----------+----------+----------+---------+---------+----------+--------+--------+\n",
      "\n",
      "Hay un total de 2918 filas con valor en la variable dada.\n"
     ]
    }
   ],
   "source": [
    "miss_ext = full_df.filter(full_df['Exterior1st'].isNull())\n",
    "miss_ext.select(miss_ext.columns[21:30]).show()\n",
    "\n",
    "no_miss_ext = full_df.filter(full_df['Exterior1st'].isNotNull())\n",
    "print(\"Hay un total de {} filas con valor en la variable dada.\".format(no_miss_ext.count()))"
   ]
  },
  {
   "cell_type": "markdown",
   "metadata": {},
   "source": [
    "Observamos que es el mismo individuo el que presenta el registro nulo en ambas variables. Analizamos ahora la categoría de ambas variables:"
   ]
  },
  {
   "cell_type": "code",
   "execution_count": 68,
   "metadata": {},
   "outputs": [
    {
     "name": "stdout",
     "output_type": "stream",
     "text": [
      "root\n",
      " |-- Exterior1st: string (nullable = true)\n",
      " |-- Exterior2nd: string (nullable = true)\n",
      "\n"
     ]
    }
   ],
   "source": [
    "full_df.select('Exterior1st', 'Exterior2nd').printSchema()"
   ]
  },
  {
   "cell_type": "markdown",
   "metadata": {},
   "source": [
    "Analizamos ahora la frecuencia de cada una de las subcategorías de cada variable categórica:"
   ]
  },
  {
   "cell_type": "code",
   "execution_count": 69,
   "metadata": {},
   "outputs": [
    {
     "name": "stdout",
     "output_type": "stream",
     "text": [
      "+-----------+-----+\n",
      "|Exterior1st|count|\n",
      "+-----------+-----+\n",
      "|    VinylSd| 1025|\n",
      "|    MetalSd|  450|\n",
      "|    HdBoard|  442|\n",
      "|    Wd Sdng|  411|\n",
      "|    Plywood|  221|\n",
      "|    CemntBd|  126|\n",
      "|    BrkFace|   87|\n",
      "|    WdShing|   56|\n",
      "|    AsbShng|   44|\n",
      "|     Stucco|   43|\n",
      "|    BrkComm|    6|\n",
      "|    AsphShn|    2|\n",
      "|     CBlock|    2|\n",
      "|      Stone|    2|\n",
      "|    ImStucc|    1|\n",
      "+-----------+-----+\n",
      "\n"
     ]
    }
   ],
   "source": [
    "no_miss_ext.groupBy('Exterior1st').count().sort(F.desc('count')).show()"
   ]
  },
  {
   "cell_type": "code",
   "execution_count": 70,
   "metadata": {},
   "outputs": [
    {
     "name": "stdout",
     "output_type": "stream",
     "text": [
      "+-----------+-----+\n",
      "|Exterior2nd|count|\n",
      "+-----------+-----+\n",
      "|    VinylSd| 1014|\n",
      "|    MetalSd|  447|\n",
      "|    HdBoard|  406|\n",
      "|    Wd Sdng|  391|\n",
      "|    Plywood|  270|\n",
      "|    CmentBd|  126|\n",
      "|    Wd Shng|   81|\n",
      "|     Stucco|   47|\n",
      "|    BrkFace|   47|\n",
      "|    AsbShng|   38|\n",
      "|    Brk Cmn|   22|\n",
      "|    ImStucc|   15|\n",
      "|      Stone|    6|\n",
      "|    AsphShn|    4|\n",
      "|     CBlock|    3|\n",
      "|      Other|    1|\n",
      "+-----------+-----+\n",
      "\n"
     ]
    }
   ],
   "source": [
    "no_miss_ext.groupBy('Exterior2nd').count().sort(F.desc('count')).show()"
   ]
  },
  {
   "cell_type": "markdown",
   "metadata": {},
   "source": [
    "Reemplazamos ambos registros nulos por la **moda**, es decir, la categoría más frecuente: **VinylSd**"
   ]
  },
  {
   "cell_type": "code",
   "execution_count": 71,
   "metadata": {},
   "outputs": [],
   "source": [
    "imputed_Ext1 = 'VinylSd'\n",
    "imputed_Ext2 = 'VinylSd'\n",
    "\n",
    "full_df = full_df.fillna({'Exterior1st': imputed_Ext1, 'Exterior2nd': imputed_Ext2})"
   ]
  },
  {
   "cell_type": "markdown",
   "metadata": {},
   "source": [
    "**Variables que miden los años de construcción: YearBuilt, YearRemodAdd**"
   ]
  },
  {
   "cell_type": "markdown",
   "metadata": {},
   "source": [
    "Si el hogar no ha sido modificado, el año en la segunda variable coincide con el de la primera. En el apartado de **ingeniería de atributos** veremos cómo tratar con estos dos atributos."
   ]
  },
  {
   "cell_type": "code",
   "execution_count": 72,
   "metadata": {},
   "outputs": [
    {
     "name": "stdout",
     "output_type": "stream",
     "text": [
      "+---------+------------+\n",
      "|YearBuilt|YearRemodAdd|\n",
      "+---------+------------+\n",
      "|     1983|        1983|\n",
      "|     1978|        1978|\n",
      "|     2003|        2003|\n",
      "|     1996|        1996|\n",
      "|     1970|        1970|\n",
      "|     1982|        1982|\n",
      "|     1963|        1963|\n",
      "|     1972|        1972|\n",
      "|     1982|        1982|\n",
      "|     1978|        1978|\n",
      "|     1975|        1981|\n",
      "|     1961|        1995|\n",
      "|     1972|        2003|\n",
      "|     1961|        2007|\n",
      "|     1992|        1992|\n",
      "|     1962|        1962|\n",
      "|     1974|        1974|\n",
      "|     1967|        1967|\n",
      "|     1972|        2007|\n",
      "|     1966|        1966|\n",
      "+---------+------------+\n",
      "only showing top 20 rows\n",
      "\n"
     ]
    }
   ],
   "source": [
    "full_df.select('YearBuilt', 'YearRemodAdd').show()"
   ]
  },
  {
   "cell_type": "markdown",
   "metadata": {},
   "source": [
    "**Variables Garage**"
   ]
  },
  {
   "cell_type": "markdown",
   "metadata": {},
   "source": [
    "Dentro de este grupo de variables distinguimos dos tipos:\n",
    "* **Variables cuantitativas (GarageYrBlt, GarageArea, GarageCars)**: cuyos valores missing serán reemplazados por 0 haciendo referencia a que dicho hogar no presentaba garage.\n",
    "* **Variables cualitativas (GarageType, GarageFinish, GarageQual, GarageCond)**: cuyos valores missing serán reemplazados por None."
   ]
  },
  {
   "cell_type": "markdown",
   "metadata": {},
   "source": [
    "* **Variables cuantitativas**"
   ]
  },
  {
   "cell_type": "markdown",
   "metadata": {},
   "source": [
    "Analizamos los valores missing de dichas variables:"
   ]
  },
  {
   "cell_type": "code",
   "execution_count": 73,
   "metadata": {},
   "outputs": [
    {
     "name": "stdout",
     "output_type": "stream",
     "text": [
      "+-----------+----------+\n",
      "|Column_Name|NULL_Count|\n",
      "+-----------+----------+\n",
      "|GarageYrBlt|       159|\n",
      "| GarageCars|         1|\n",
      "| GarageArea|         1|\n",
      "+-----------+----------+\n",
      "\n"
     ]
    }
   ],
   "source": [
    "new_full_df_drop.filter((F.col('Column_Name') == \"GarageYrBlt\") |\n",
    "                       (F.col('Column_Name') == \"GarageArea\") |\n",
    "                       (F.col('Column_Name') == \"GarageCars\")).show()"
   ]
  },
  {
   "cell_type": "code",
   "execution_count": 74,
   "metadata": {},
   "outputs": [
    {
     "name": "stdout",
     "output_type": "stream",
     "text": [
      "+-----------+----------+----------+\n",
      "|GarageYrBlt|GarageCars|GarageArea|\n",
      "+-----------+----------+----------+\n",
      "|       null|      null|      null|\n",
      "+-----------+----------+----------+\n",
      "\n"
     ]
    }
   ],
   "source": [
    "full_df.filter(F.col('GarageCars').isNull()).select('GarageYrBlt', 'GarageCars', 'GarageArea').show()"
   ]
  },
  {
   "cell_type": "markdown",
   "metadata": {},
   "source": [
    "Vemos que tiene sentido suponer que aquel registro que presenta un valor nulo en las tres variables cuantitativas: 'GarageCars', 'GarageArea' y 'GarageYrBlt' se debe a que dicho hogar no tenía garage y podemos asignarle el valor 0."
   ]
  },
  {
   "cell_type": "markdown",
   "metadata": {},
   "source": [
    "Pero bien, **¿qué ocurre con aquellos registros con valor nulo en la variable GarageYrBlt?**"
   ]
  },
  {
   "cell_type": "code",
   "execution_count": 75,
   "metadata": {},
   "outputs": [
    {
     "name": "stdout",
     "output_type": "stream",
     "text": [
      "+-----------+----------+----------+\n",
      "|GarageYrBlt|GarageCars|GarageArea|\n",
      "+-----------+----------+----------+\n",
      "|       null|         0|         0|\n",
      "|       null|         0|         0|\n",
      "|       null|         0|         0|\n",
      "|       null|         0|         0|\n",
      "|       null|         0|         0|\n",
      "+-----------+----------+----------+\n",
      "only showing top 5 rows\n",
      "\n"
     ]
    }
   ],
   "source": [
    "full_df.filter(F.col('GarageYrBlt').isNull()).select('GarageYrBlt', 'GarageCars', 'GarageArea').show(5)"
   ]
  },
  {
   "cell_type": "code",
   "execution_count": 76,
   "metadata": {},
   "outputs": [
    {
     "name": "stdout",
     "output_type": "stream",
     "text": [
      "+-----------+----------+----------+----------+\n",
      "|GarageYrBlt|GarageCars|GarageArea|     index|\n",
      "+-----------+----------+----------+----------+\n",
      "|       null|         1|       360|8589935258|\n",
      "+-----------+----------+----------+----------+\n",
      "\n"
     ]
    }
   ],
   "source": [
    "full_df.filter(((F.col('GarageYrBlt').isNull()) & (F.col('GarageCars') != 0)) \\\n",
    "    | ((F.col('GarageYrBlt').isNull()) & (F.col('GarageArea') != 0))) \\\n",
    "               .select('GarageYrBlt', 'GarageCars', 'GarageArea', 'index').show()"
   ]
  },
  {
   "cell_type": "markdown",
   "metadata": {},
   "source": [
    "**Conclusión:** Tras un primer análisis veíamos que predominaba el hecho de que cuando la variable 'GarageYrBlt' presentaba un registro nulo, las demás variables tenían un valor 0 (volviendo al caso de la no existencia de garage en la casa). Así, se nos ocurre la idea de conocer cuántos hogares, sin fecha de garage, presentan datos numéricos sobre los mismos. El resultado alcanzado es que es sólo un individuo (de un total de 159) el que presenta dicha característica.\n",
    "\n",
    "Así, decidimos eliminar dicho registro de nuestro set de datos y reemplazar por **0** todos los valores missing restantes de las tres variables."
   ]
  },
  {
   "cell_type": "code",
   "execution_count": 77,
   "metadata": {},
   "outputs": [],
   "source": [
    "full_df = full_df.filter(full_df['index'] != 8589935258)"
   ]
  },
  {
   "cell_type": "code",
   "execution_count": 78,
   "metadata": {},
   "outputs": [
    {
     "name": "stdout",
     "output_type": "stream",
     "text": [
      "Número de registros de nuestro set de datos: 2918\n"
     ]
    }
   ],
   "source": [
    "print(\"Número de registros de nuestro set de datos:\", full_df.count())"
   ]
  },
  {
   "cell_type": "code",
   "execution_count": 79,
   "metadata": {},
   "outputs": [],
   "source": [
    "imputed_garage = 0\n",
    "\n",
    "full_df = full_df.fillna({'GarageYrBlt': imputed_garage, 'GarageArea': imputed_garage, 'GarageCars': imputed_garage})"
   ]
  },
  {
   "cell_type": "markdown",
   "metadata": {},
   "source": [
    "* **Variables cualitativas**"
   ]
  },
  {
   "cell_type": "code",
   "execution_count": 80,
   "metadata": {},
   "outputs": [
    {
     "name": "stdout",
     "output_type": "stream",
     "text": [
      "+------------+----------+\n",
      "| Column_Name|NULL_Count|\n",
      "+------------+----------+\n",
      "|  GarageType|       157|\n",
      "|GarageFinish|       159|\n",
      "|  GarageQual|       159|\n",
      "|  GarageCond|       159|\n",
      "+------------+----------+\n",
      "\n"
     ]
    }
   ],
   "source": [
    "new_full_df_drop.filter((F.col('Column_Name') == \"GarageType\") |\n",
    "                       (F.col('Column_Name') == \"GarageFinish\") |\n",
    "                       (F.col('Column_Name') == \"GarageQual\") |\n",
    "                       (F.col('Column_Name') == \"GarageCond\")).show()"
   ]
  },
  {
   "cell_type": "markdown",
   "metadata": {},
   "source": [
    "Observamos que practicamente, las 4 variables presentan el mismo número de valores missing."
   ]
  },
  {
   "cell_type": "code",
   "execution_count": 81,
   "metadata": {},
   "outputs": [
    {
     "data": {
      "text/plain": [
       "0"
      ]
     },
     "execution_count": 81,
     "metadata": {},
     "output_type": "execute_result"
    }
   ],
   "source": [
    "full_df.filter(((F.col('GarageFinish').isNull()) & (F.col('GarageQual').isNotNull())) \\\n",
    "              | ((F.col('GarageFinish').isNull()) & (F.col('GarageCond').isNotNull()))).count()"
   ]
  },
  {
   "cell_type": "markdown",
   "metadata": {},
   "source": [
    "Vemos que las tres variables con el mismo número de valores missing coinciden en los individuos que las presentan. **¿Qué hacemos ante este caso?** Pues bien, reemplazaremos dichos valores missing por 'None' haciendo referencia a que no extiste garage en dicha instancia. Dichas variables presentaban la categoría 'NA' que fue reemplazado por valores missing, lo cual significa la ausencia de garage en la casa luego tiene sentido el reemplazamiento por el valor 'None'."
   ]
  },
  {
   "cell_type": "code",
   "execution_count": 82,
   "metadata": {},
   "outputs": [],
   "source": [
    "imputed_garage_2 = 'None'\n",
    "\n",
    "full_df = full_df.fillna({'GarageFinish': imputed_garage_2, 'GarageQual': imputed_garage_2, \n",
    "                         'GarageCond': imputed_garage_2, 'GarageType': imputed_garage_2})"
   ]
  },
  {
   "cell_type": "markdown",
   "metadata": {},
   "source": [
    "Es momento de recordar los registros missing que nos quedan por comentar:"
   ]
  },
  {
   "cell_type": "code",
   "execution_count": 83,
   "metadata": {},
   "outputs": [
    {
     "name": "stdout",
     "output_type": "stream",
     "text": [
      "+------------+----------+\n",
      "| Column_Name|NULL_Count|\n",
      "+------------+----------+\n",
      "|BsmtExposure|        82|\n",
      "|    BsmtCond|        82|\n",
      "|    BsmtQual|        81|\n",
      "|BsmtFinType2|        80|\n",
      "|BsmtFinType1|        79|\n",
      "|  MasVnrType|        24|\n",
      "|  MasVnrArea|        23|\n",
      "|BsmtHalfBath|         2|\n",
      "|  Functional|         2|\n",
      "|BsmtFullBath|         2|\n",
      "|  BsmtFinSF1|         1|\n",
      "|  BsmtFinSF2|         1|\n",
      "|  Electrical|         1|\n",
      "|    SaleType|         1|\n",
      "| TotalBsmtSF|         1|\n",
      "| KitchenQual|         1|\n",
      "|   BsmtUnfSF|         1|\n",
      "+------------+----------+\n",
      "\n"
     ]
    }
   ],
   "source": [
    "new_full_df = full_df.agg(*[F.count(F.when(F.isnull(c), c)).alias(c) for c in full_df.columns])\n",
    "\n",
    "new_full_df_drop = count_nulls_df(new_full_df)\n",
    "new_full_df_drop.filter((F.col('Column_Name') != 'SalePrice') & (F.col('NULL_Count') >=1)).sort(F.desc('NULL_Count')).show()"
   ]
  },
  {
   "cell_type": "markdown",
   "metadata": {},
   "source": [
    "**Variables que evalúan el sótano de la casa: BsmtCond, BsmtExposure, BsmtQual, BsmtFinType2, BsmtFinType1**"
   ]
  },
  {
   "cell_type": "markdown",
   "metadata": {},
   "source": [
    "La descripción de dichas variables (categóricas todas ellas) es la que sigue:\n",
    "\n",
    "* **BsmtCond**: Evalúa el estado general del sótano.\n",
    "* **BsmtExposure**: Se refiere al nivel del jardín.\n",
    "* **BsmtQual**: Evalúa la altura del sótano.\n",
    "* **BsmtFinType1**: Clasificación del sótano.\n",
    "* **BsmtFinType2**: Clasificación del sótano (si hay varios).\n",
    "\n",
    "Todas estas variables presentan una categoría denominada **'NA'** la cual hace referencia a la no existencia de sótano. En el comienzo del trabajo nos percatamos de la existencia de dichos valores y decidimos reemplazarlos por valores faltantes 'null'. En este caso, no se trata de registros faltantes sino de la no existencia del establecimiento.\n",
    "\n",
    "Por tanto, nuestra tarea seará sustituir dichos valores por **'None'** de manera análoga a como lo hicimos con las variables que hacían referencia al garage."
   ]
  },
  {
   "cell_type": "code",
   "execution_count": 84,
   "metadata": {},
   "outputs": [
    {
     "name": "stdout",
     "output_type": "stream",
     "text": [
      "+------------+--------+\n",
      "| Column_Name|NA_Count|\n",
      "+------------+--------+\n",
      "|    BsmtQual|      81|\n",
      "|    BsmtCond|      82|\n",
      "|BsmtExposure|      82|\n",
      "|BsmtFinType1|      79|\n",
      "|BsmtFinType2|      80|\n",
      "+------------+--------+\n",
      "\n"
     ]
    }
   ],
   "source": [
    "c = \"Column_Name\"\n",
    "full_df_count_NA_col.filter((F.col(c) == 'BsmtCond') | (F.col(c) == 'BsmtExposure') | (F.col(c) == 'BsmtQual') | \n",
    "                            (F.col(c) == 'BsmtFinType1') | (F.col(c) == 'BsmtFinType2')).show()"
   ]
  },
  {
   "cell_type": "markdown",
   "metadata": {},
   "source": [
    "* Vemos que dichas variables no presentaban registros missing antes del reemplazamiento de los valores 'NA'. Así, lo que hemos hecho simplemente es cambiarle la categoría a 'None'."
   ]
  },
  {
   "cell_type": "code",
   "execution_count": 85,
   "metadata": {},
   "outputs": [],
   "source": [
    "imputed_basement = 'None'\n",
    "\n",
    "full_df = full_df.fillna({'BsmtCond': imputed_basement, 'BsmtExposure': imputed_basement, \n",
    "                         'BsmtQual': imputed_basement, 'BsmtFinType1': imputed_basement, 'BsmtFinType2': imputed_basement})"
   ]
  },
  {
   "cell_type": "markdown",
   "metadata": {},
   "source": [
    "**Variables: MasVnrType y MasVnrArea**"
   ]
  },
  {
   "cell_type": "markdown",
   "metadata": {},
   "source": [
    "Se tratan de variables relacionadas con el proceso de construcción de la casa. Más estrictamente hace referencia a una capa externa no estructural de mampostería, típicamente hecha de ladrillo, piedra o piedra manufacturada. "
   ]
  },
  {
   "cell_type": "code",
   "execution_count": 86,
   "metadata": {},
   "outputs": [
    {
     "data": {
      "text/plain": [
       "1"
      ]
     },
     "execution_count": 86,
     "metadata": {},
     "output_type": "execute_result"
    }
   ],
   "source": [
    "full_df.filter((F.col('MasVnrType').isNull()) & (F.col('MasVnrArea').isNotNull())).count()"
   ]
  },
  {
   "cell_type": "markdown",
   "metadata": {},
   "source": [
    "Vemos que existe un único registro del cual conocemos el área y no el tipo de chapa utilizada. El resto de observaciones que no presentan uno de los dos valores, también se desconoce el otro."
   ]
  },
  {
   "cell_type": "code",
   "execution_count": 87,
   "metadata": {},
   "outputs": [
    {
     "name": "stdout",
     "output_type": "stream",
     "text": [
      "+----------+-----+\n",
      "|MasVnrType|count|\n",
      "+----------+-----+\n",
      "|      None| 1741|\n",
      "|   BrkFace|  879|\n",
      "|     Stone|  249|\n",
      "|    BrkCmn|   25|\n",
      "+----------+-----+\n",
      "\n"
     ]
    }
   ],
   "source": [
    "no_miss_VnType = full_df.filter(F.col('MasVnrType').isNotNull())\n",
    "\n",
    "no_miss_VnType.groupBy('MasVnrType').count().sort(F.desc('count')).show()"
   ]
  },
  {
   "cell_type": "markdown",
   "metadata": {},
   "source": [
    "Observamos que una de las categorías de la variable categórica es 'None', indicando que se deconoce ese dato o que no presenta dicha característica dicho hogar."
   ]
  },
  {
   "cell_type": "markdown",
   "metadata": {},
   "source": [
    "Analizamos a continuación la relación existente entre ambas variables:"
   ]
  },
  {
   "cell_type": "code",
   "execution_count": 88,
   "metadata": {},
   "outputs": [
    {
     "data": {
      "text/plain": [
       "1734"
      ]
     },
     "execution_count": 88,
     "metadata": {},
     "output_type": "execute_result"
    }
   ],
   "source": [
    "full_df.filter((F.col('MasVnrType') == \"None\") & (F.col('MasVnrArea') == 0)).count()"
   ]
  },
  {
   "cell_type": "markdown",
   "metadata": {},
   "source": [
    "* Vemos que existen 7 casos en los que el tipo de la capa de anclaje se desconoce. Sabemos que se desconoce (y no que no existe) pues la variable que mide su área es distinta de cero."
   ]
  },
  {
   "cell_type": "code",
   "execution_count": 89,
   "metadata": {},
   "outputs": [
    {
     "name": "stdout",
     "output_type": "stream",
     "text": [
      "+----------+-----+\n",
      "|MasVnrType|count|\n",
      "+----------+-----+\n",
      "|      None| 1734|\n",
      "|     Stone|    1|\n",
      "|   BrkFace|    2|\n",
      "+----------+-----+\n",
      "\n"
     ]
    }
   ],
   "source": [
    "full_df.filter((F.col('MasVnrArea') == 0)).groupBy('MasVnrType').count().show()"
   ]
  },
  {
   "cell_type": "markdown",
   "metadata": {},
   "source": [
    "* Por otro lado, de los 1737 casos en los que el área de la capa externa en metros cuadrados es 0, 1734 de ellos presentaban el valor 'None' en la otra variable, lógicamente."
   ]
  },
  {
   "cell_type": "markdown",
   "metadata": {},
   "source": [
    "Observamos que hay un claro predominio de casos en los que las casas no han sido recubiertas con dicha capa de mampostería (son los casos en los que la variable tipo es 'None' y el area 0). Debido a dicho predominio, decidimos reemplazar los registros faltantes de ambas variables del siguiente modo: los valores missing de la variable **MasVnrType** serán reemplazados por la categoría **None** (no existe dicha capa de anclaje o se desconoce su tipo) y los registros faltantes de la otra variable, **MasVnrArea**, serán sustituidos por el valor 0 ya que es el caso más habitual considerando ambas variables."
   ]
  },
  {
   "cell_type": "code",
   "execution_count": 90,
   "metadata": {},
   "outputs": [],
   "source": [
    "imputed_VnrType = 'None'\n",
    "imputed_VnrArea = 0\n",
    "\n",
    "full_df = full_df.fillna({'MasVnrType': imputed_VnrType, 'MasVnrArea': imputed_VnrArea})"
   ]
  },
  {
   "cell_type": "code",
   "execution_count": 91,
   "metadata": {},
   "outputs": [
    {
     "name": "stdout",
     "output_type": "stream",
     "text": [
      "+------------+----------+\n",
      "| Column_Name|NULL_Count|\n",
      "+------------+----------+\n",
      "|BsmtFullBath|         2|\n",
      "|BsmtHalfBath|         2|\n",
      "|  Functional|         2|\n",
      "|   BsmtUnfSF|         1|\n",
      "|  BsmtFinSF2|         1|\n",
      "|  BsmtFinSF1|         1|\n",
      "| TotalBsmtSF|         1|\n",
      "|  Electrical|         1|\n",
      "| KitchenQual|         1|\n",
      "|    SaleType|         1|\n",
      "+------------+----------+\n",
      "\n"
     ]
    }
   ],
   "source": [
    "new_full_df = full_df.agg(*[F.count(F.when(F.isnull(c), c)).alias(c) for c in full_df.columns])\n",
    "\n",
    "new_full_df_drop = count_nulls_df(new_full_df)\n",
    "new_full_df_drop.filter((F.col('Column_Name') != 'SalePrice') & (F.col('NULL_Count') >=1)).sort(F.desc('NULL_Count')).show()"
   ]
  },
  {
   "cell_type": "markdown",
   "metadata": {},
   "source": [
    "**Imputación del resto de valores missing**"
   ]
  },
  {
   "cell_type": "markdown",
   "metadata": {},
   "source": [
    "Tras una amplia descripción y análisis de una serie de variables con su cosiguiente preprocesamiento, nos disponemos a reemplazar los restantes registros faltantes del siguiente modo: los valores missing de las variables categóricas serán reemplazados por su valor más frecuente, mientras que los correspondientes a las variables numéricas se les asociará el valor 0."
   ]
  },
  {
   "cell_type": "code",
   "execution_count": 92,
   "metadata": {},
   "outputs": [
    {
     "name": "stdout",
     "output_type": "stream",
     "text": [
      "root\n",
      " |-- BsmtHalfBath: integer (nullable = true)\n",
      " |-- BsmtFullBath: integer (nullable = true)\n",
      " |-- Functional: string (nullable = true)\n",
      " |-- TotalBsmtSF: integer (nullable = true)\n",
      " |-- BsmtFinSF1: integer (nullable = true)\n",
      " |-- BsmtUnfSF: integer (nullable = true)\n",
      " |-- BsmtFinSF2: integer (nullable = true)\n",
      " |-- Electrical: string (nullable = true)\n",
      " |-- KitchenQual: string (nullable = true)\n",
      " |-- SaleType: string (nullable = true)\n",
      "\n"
     ]
    }
   ],
   "source": [
    "full_df.select('BsmtHalfBath', 'BsmtFullBath', 'Functional', 'TotalBsmtSF', 'BsmtFinSF1', \n",
    "              'BsmtUnfSF', 'BsmtFinSF2', 'Electrical', 'KitchenQual', 'SaleType').printSchema()"
   ]
  },
  {
   "cell_type": "markdown",
   "metadata": {},
   "source": [
    "Las variables numéricas hacen referencia al sótano de la casa. Anteriormente veíamos que había variables que medían aspectos cualitativos del sótano y se les asociaba el valor 'None' haciendo referencia a la no existencia de sótano en el registro en cuestión. El razonamiento por el cual en este caso se les asigna el valor 0 es análogo, podríamos reemplazar dichos valores missing por la media o la mediana, sin embargo, tiene más sentido asignarles el valor 0 significando así que no existen medidas numéricas que midan aspectos del sótano debido a la no presencia del mismo."
   ]
  },
  {
   "cell_type": "code",
   "execution_count": 93,
   "metadata": {},
   "outputs": [],
   "source": [
    "imputed_integer = 0\n",
    "\n",
    "full_df = full_df.fillna({'BsmtHalfBath': imputed_integer, 'BsmtFullBath': imputed_integer, 'TotalBsmtSF': imputed_integer, \n",
    "                        'BsmtFinSF1': imputed_integer, 'BsmtUnfSF': imputed_integer, 'BsmtFinSF2': imputed_integer})"
   ]
  },
  {
   "cell_type": "markdown",
   "metadata": {},
   "source": [
    "* **Variables categóricas: Functional, Electrical, KitchenQual, SaleType**\n",
    "\n",
    "> Reemplazaremos los valores missing de dichas variables categóricas usando la categoría más frecuente de cada una de ellas."
   ]
  },
  {
   "cell_type": "code",
   "execution_count": 94,
   "metadata": {},
   "outputs": [
    {
     "name": "stdout",
     "output_type": "stream",
     "text": [
      "+----------+-----+\n",
      "|Functional|count|\n",
      "+----------+-----+\n",
      "|      Maj1|   19|\n",
      "|       Sev|    2|\n",
      "|      Min2|   70|\n",
      "|      Min1|   65|\n",
      "|       Typ| 2716|\n",
      "|      Maj2|    9|\n",
      "|       Mod|   35|\n",
      "+----------+-----+\n",
      "\n"
     ]
    }
   ],
   "source": [
    "full_df.filter(F.col('Functional').isNotNull()).groupBy('Functional').count().show()"
   ]
  },
  {
   "cell_type": "code",
   "execution_count": 95,
   "metadata": {},
   "outputs": [
    {
     "data": {
      "image/png": "[encoded data removed]",
      "text/plain": [
       "<Figure size 432x288 with 1 Axes>"
      ]
     },
     "metadata": {
      "needs_background": "light"
     },
     "output_type": "display_data"
    }
   ],
   "source": [
    "freq_table = full_df.filter(F.col('Functional').isNotNull()).select('Functional').rdd.map(lambda row: \n",
    "                                                                                          row.Functional).countByValue()\n",
    "plot_freqs(freq_table.keys(), freq_table.values(), sum(freq_table.values()))"
   ]
  },
  {
   "cell_type": "code",
   "execution_count": 96,
   "metadata": {},
   "outputs": [],
   "source": [
    "imputed_Functional = \"Typ\""
   ]
  },
  {
   "cell_type": "code",
   "execution_count": 97,
   "metadata": {},
   "outputs": [
    {
     "name": "stdout",
     "output_type": "stream",
     "text": [
      "+----------+-----+\n",
      "|Electrical|count|\n",
      "+----------+-----+\n",
      "|       Mix|    1|\n",
      "|     FuseF|   50|\n",
      "|     SBrkr| 2670|\n",
      "|     FuseP|    8|\n",
      "|     FuseA|  188|\n",
      "+----------+-----+\n",
      "\n"
     ]
    }
   ],
   "source": [
    "full_df.filter(full_df.Electrical.isNotNull()).groupBy('Electrical').count().show()"
   ]
  },
  {
   "cell_type": "code",
   "execution_count": 98,
   "metadata": {},
   "outputs": [
    {
     "data": {
      "image/png": "[encoded data removed]",
      "text/plain": [
       "<Figure size 432x288 with 1 Axes>"
      ]
     },
     "metadata": {
      "needs_background": "light"
     },
     "output_type": "display_data"
    }
   ],
   "source": [
    "freq_table = full_df.filter(F.col('Electrical').isNotNull()).select('Electrical').rdd.map(lambda row: \n",
    "                                                                                          row.Electrical).countByValue()\n",
    "plot_freqs(freq_table.keys(), freq_table.values(), sum(freq_table.values()))"
   ]
  },
  {
   "cell_type": "code",
   "execution_count": 99,
   "metadata": {},
   "outputs": [],
   "source": [
    "imputed_Electrical = \"SBrkr\""
   ]
  },
  {
   "cell_type": "code",
   "execution_count": 100,
   "metadata": {},
   "outputs": [
    {
     "name": "stdout",
     "output_type": "stream",
     "text": [
      "+-----------+-----+\n",
      "|KitchenQual|count|\n",
      "+-----------+-----+\n",
      "|         Gd| 1151|\n",
      "|         Ex|  205|\n",
      "|         Fa|   70|\n",
      "|         TA| 1491|\n",
      "+-----------+-----+\n",
      "\n"
     ]
    }
   ],
   "source": [
    "full_df.filter(full_df['KitchenQual'].isNotNull()).groupBy('KitchenQual').count().show()"
   ]
  },
  {
   "cell_type": "code",
   "execution_count": 101,
   "metadata": {},
   "outputs": [
    {
     "data": {
      "image/png": "[encoded data removed]",
      "text/plain": [
       "<Figure size 432x288 with 1 Axes>"
      ]
     },
     "metadata": {
      "needs_background": "light"
     },
     "output_type": "display_data"
    }
   ],
   "source": [
    "freq_table = full_df.filter(F.col('KitchenQual').isNotNull()).select('KitchenQual').rdd.map(lambda row: \n",
    "                                                                                          row.KitchenQual).countByValue()\n",
    "plot_freqs(freq_table.keys(), freq_table.values(), sum(freq_table.values()))"
   ]
  },
  {
   "cell_type": "code",
   "execution_count": 102,
   "metadata": {},
   "outputs": [],
   "source": [
    "imputed_Kitchen = \"TA\""
   ]
  },
  {
   "cell_type": "code",
   "execution_count": 103,
   "metadata": {},
   "outputs": [
    {
     "name": "stdout",
     "output_type": "stream",
     "text": [
      "+--------+-----+\n",
      "|SaleType|count|\n",
      "+--------+-----+\n",
      "|   ConLD|   26|\n",
      "|     COD|   87|\n",
      "|     Con|    5|\n",
      "|     Oth|    7|\n",
      "|   ConLI|    9|\n",
      "|     CWD|   12|\n",
      "|   ConLw|    8|\n",
      "|      WD| 2524|\n",
      "|     New|  239|\n",
      "+--------+-----+\n",
      "\n"
     ]
    }
   ],
   "source": [
    "full_df.filter(F.col('SaleType').isNotNull()).groupBy('SaleType').count().show()"
   ]
  },
  {
   "cell_type": "code",
   "execution_count": 104,
   "metadata": {},
   "outputs": [
    {
     "data": {
      "image/png": "[encoded data removed]",
      "text/plain": [
       "<Figure size 432x288 with 1 Axes>"
      ]
     },
     "metadata": {
      "needs_background": "light"
     },
     "output_type": "display_data"
    }
   ],
   "source": [
    "freq_table = full_df.filter(F.col('SaleType').isNotNull()).select('SaleType').rdd.map(lambda row: \n",
    "                                                                                          row.SaleType).countByValue()\n",
    "plot_freqs(freq_table.keys(), freq_table.values(), sum(freq_table.values()))"
   ]
  },
  {
   "cell_type": "code",
   "execution_count": 105,
   "metadata": {},
   "outputs": [],
   "source": [
    "imputed_SaleType = \"WD\""
   ]
  },
  {
   "cell_type": "markdown",
   "metadata": {},
   "source": [
    "Así, reemplazmos cada registro nulo de nuestras variables categóricas:"
   ]
  },
  {
   "cell_type": "code",
   "execution_count": 106,
   "metadata": {},
   "outputs": [],
   "source": [
    "full_df = full_df.fillna({'Functional': imputed_Functional, 'Electrical': imputed_Electrical, \n",
    "                         'KitchenQual': imputed_Kitchen, 'SaleType': imputed_SaleType})"
   ]
  },
  {
   "cell_type": "markdown",
   "metadata": {},
   "source": [
    "**Comprobación**"
   ]
  },
  {
   "cell_type": "markdown",
   "metadata": {},
   "source": [
    "Comprobamos que ya no tenemos ningún registro missing."
   ]
  },
  {
   "cell_type": "code",
   "execution_count": 107,
   "metadata": {},
   "outputs": [
    {
     "name": "stdout",
     "output_type": "stream",
     "text": [
      "El número de registros faltantes de las variables explicativas es: 0\n"
     ]
    }
   ],
   "source": [
    "df_null = full_df.select(*(F.sum(F.col(c).isNull().cast(IntegerType())).alias(c) for c in full_df.columns)).toPandas()\n",
    "df_null\n",
    "\n",
    "print(\"El número de registros faltantes de las variables explicativas es:\", df_null.iloc[0,:].sum() - 1458)"
   ]
  },
  {
   "cell_type": "markdown",
   "metadata": {},
   "source": [
    "Eliminamos las variables **Id** y **index** pues son un simple identificador de los registros:"
   ]
  },
  {
   "cell_type": "code",
   "execution_count": 108,
   "metadata": {},
   "outputs": [],
   "source": [
    "full_df = full_df.drop('Id', 'index')"
   ]
  },
  {
   "cell_type": "markdown",
   "metadata": {},
   "source": [
    "Guardamos nuestro dataset limpio de valores missing:"
   ]
  },
  {
   "cell_type": "code",
   "execution_count": 109,
   "metadata": {},
   "outputs": [],
   "source": [
    "full_df.toPandas().to_csv('dataset_clean.csv')"
   ]
  },
  {
   "cell_type": "markdown",
   "metadata": {},
   "source": [
    "## Descripción del dataset"
   ]
  },
  {
   "cell_type": "code",
   "execution_count": 110,
   "metadata": {
    "scrolled": true
   },
   "outputs": [
    {
     "data": {
      "text/html": [
       "<div>\n",
       "<style scoped>\n",
       "    .dataframe tbody tr th:only-of-type {\n",
       "        vertical-align: middle;\n",
       "    }\n",
       "\n",
       "    .dataframe tbody tr th {\n",
       "        vertical-align: top;\n",
       "    }\n",
       "\n",
       "    .dataframe thead th {\n",
       "        text-align: right;\n",
       "    }\n",
       "</style>\n",
       "<table border=\"1\" class=\"dataframe\">\n",
       "  <thead>\n",
       "    <tr style=\"text-align: right;\">\n",
       "      <th></th>\n",
       "      <th>0</th>\n",
       "      <th>1</th>\n",
       "      <th>2</th>\n",
       "      <th>3</th>\n",
       "      <th>4</th>\n",
       "    </tr>\n",
       "  </thead>\n",
       "  <tbody>\n",
       "    <tr>\n",
       "      <th>summary</th>\n",
       "      <td>count</td>\n",
       "      <td>mean</td>\n",
       "      <td>stddev</td>\n",
       "      <td>min</td>\n",
       "      <td>max</td>\n",
       "    </tr>\n",
       "    <tr>\n",
       "      <th>MSSubClass</th>\n",
       "      <td>2918</td>\n",
       "      <td>57.13673749143249</td>\n",
       "      <td>42.52488207374578</td>\n",
       "      <td>20</td>\n",
       "      <td>190</td>\n",
       "    </tr>\n",
       "    <tr>\n",
       "      <th>Neighborhood</th>\n",
       "      <td>2918</td>\n",
       "      <td>None</td>\n",
       "      <td>None</td>\n",
       "      <td>Blmngtn</td>\n",
       "      <td>Veenker</td>\n",
       "    </tr>\n",
       "    <tr>\n",
       "      <th>MSZoning</th>\n",
       "      <td>2918</td>\n",
       "      <td>None</td>\n",
       "      <td>None</td>\n",
       "      <td>C (all)</td>\n",
       "      <td>RM</td>\n",
       "    </tr>\n",
       "    <tr>\n",
       "      <th>LotFrontage</th>\n",
       "      <td>2918</td>\n",
       "      <td>69.96671659318025</td>\n",
       "      <td>21.721780303740797</td>\n",
       "      <td>21.0</td>\n",
       "      <td>313.0</td>\n",
       "    </tr>\n",
       "    <tr>\n",
       "      <th>LotArea</th>\n",
       "      <td>2918</td>\n",
       "      <td>10168.824880054832</td>\n",
       "      <td>7888.254633961419</td>\n",
       "      <td>1300</td>\n",
       "      <td>215245</td>\n",
       "    </tr>\n",
       "    <tr>\n",
       "      <th>Street</th>\n",
       "      <td>2918</td>\n",
       "      <td>None</td>\n",
       "      <td>None</td>\n",
       "      <td>Grvl</td>\n",
       "      <td>Pave</td>\n",
       "    </tr>\n",
       "    <tr>\n",
       "      <th>LotShape</th>\n",
       "      <td>2918</td>\n",
       "      <td>None</td>\n",
       "      <td>None</td>\n",
       "      <td>IR1</td>\n",
       "      <td>Reg</td>\n",
       "    </tr>\n",
       "    <tr>\n",
       "      <th>LandContour</th>\n",
       "      <td>2918</td>\n",
       "      <td>None</td>\n",
       "      <td>None</td>\n",
       "      <td>Bnk</td>\n",
       "      <td>Lvl</td>\n",
       "    </tr>\n",
       "    <tr>\n",
       "      <th>LotConfig</th>\n",
       "      <td>2918</td>\n",
       "      <td>None</td>\n",
       "      <td>None</td>\n",
       "      <td>Corner</td>\n",
       "      <td>Inside</td>\n",
       "    </tr>\n",
       "    <tr>\n",
       "      <th>LandSlope</th>\n",
       "      <td>2918</td>\n",
       "      <td>None</td>\n",
       "      <td>None</td>\n",
       "      <td>Gtl</td>\n",
       "      <td>Sev</td>\n",
       "    </tr>\n",
       "    <tr>\n",
       "      <th>Condition1</th>\n",
       "      <td>2918</td>\n",
       "      <td>None</td>\n",
       "      <td>None</td>\n",
       "      <td>Artery</td>\n",
       "      <td>RRNn</td>\n",
       "    </tr>\n",
       "    <tr>\n",
       "      <th>Condition2</th>\n",
       "      <td>2918</td>\n",
       "      <td>None</td>\n",
       "      <td>None</td>\n",
       "      <td>Artery</td>\n",
       "      <td>RRNn</td>\n",
       "    </tr>\n",
       "    <tr>\n",
       "      <th>BldgType</th>\n",
       "      <td>2918</td>\n",
       "      <td>None</td>\n",
       "      <td>None</td>\n",
       "      <td>1Fam</td>\n",
       "      <td>TwnhsE</td>\n",
       "    </tr>\n",
       "    <tr>\n",
       "      <th>HouseStyle</th>\n",
       "      <td>2918</td>\n",
       "      <td>None</td>\n",
       "      <td>None</td>\n",
       "      <td>1.5Fin</td>\n",
       "      <td>SLvl</td>\n",
       "    </tr>\n",
       "    <tr>\n",
       "      <th>OverallQual</th>\n",
       "      <td>2918</td>\n",
       "      <td>6.089102124742975</td>\n",
       "      <td>1.4101878988394383</td>\n",
       "      <td>1</td>\n",
       "      <td>10</td>\n",
       "    </tr>\n",
       "    <tr>\n",
       "      <th>OverallCond</th>\n",
       "      <td>2918</td>\n",
       "      <td>5.5637422892392046</td>\n",
       "      <td>1.1124076514773305</td>\n",
       "      <td>1</td>\n",
       "      <td>9</td>\n",
       "    </tr>\n",
       "    <tr>\n",
       "      <th>YearBuilt</th>\n",
       "      <td>2918</td>\n",
       "      <td>1971.3337902673063</td>\n",
       "      <td>30.27534983736768</td>\n",
       "      <td>1872</td>\n",
       "      <td>2010</td>\n",
       "    </tr>\n",
       "    <tr>\n",
       "      <th>YearRemodAdd</th>\n",
       "      <td>2918</td>\n",
       "      <td>1984.2649074708704</td>\n",
       "      <td>20.897912286260503</td>\n",
       "      <td>1950</td>\n",
       "      <td>2010</td>\n",
       "    </tr>\n",
       "    <tr>\n",
       "      <th>RoofStyle</th>\n",
       "      <td>2918</td>\n",
       "      <td>None</td>\n",
       "      <td>None</td>\n",
       "      <td>Flat</td>\n",
       "      <td>Shed</td>\n",
       "    </tr>\n",
       "    <tr>\n",
       "      <th>RoofMatl</th>\n",
       "      <td>2918</td>\n",
       "      <td>None</td>\n",
       "      <td>None</td>\n",
       "      <td>ClyTile</td>\n",
       "      <td>WdShngl</td>\n",
       "    </tr>\n",
       "    <tr>\n",
       "      <th>Exterior1st</th>\n",
       "      <td>2918</td>\n",
       "      <td>None</td>\n",
       "      <td>None</td>\n",
       "      <td>AsbShng</td>\n",
       "      <td>WdShing</td>\n",
       "    </tr>\n",
       "    <tr>\n",
       "      <th>Exterior2nd</th>\n",
       "      <td>2918</td>\n",
       "      <td>None</td>\n",
       "      <td>None</td>\n",
       "      <td>AsbShng</td>\n",
       "      <td>Wd Shng</td>\n",
       "    </tr>\n",
       "    <tr>\n",
       "      <th>MasVnrType</th>\n",
       "      <td>2918</td>\n",
       "      <td>None</td>\n",
       "      <td>None</td>\n",
       "      <td>BrkCmn</td>\n",
       "      <td>Stone</td>\n",
       "    </tr>\n",
       "    <tr>\n",
       "      <th>MasVnrArea</th>\n",
       "      <td>2918</td>\n",
       "      <td>101.43077450308431</td>\n",
       "      <td>178.87537821412914</td>\n",
       "      <td>0</td>\n",
       "      <td>1600</td>\n",
       "    </tr>\n",
       "    <tr>\n",
       "      <th>ExterQual</th>\n",
       "      <td>2918</td>\n",
       "      <td>None</td>\n",
       "      <td>None</td>\n",
       "      <td>Ex</td>\n",
       "      <td>TA</td>\n",
       "    </tr>\n",
       "    <tr>\n",
       "      <th>ExterCond</th>\n",
       "      <td>2918</td>\n",
       "      <td>None</td>\n",
       "      <td>None</td>\n",
       "      <td>Ex</td>\n",
       "      <td>TA</td>\n",
       "    </tr>\n",
       "    <tr>\n",
       "      <th>Foundation</th>\n",
       "      <td>2918</td>\n",
       "      <td>None</td>\n",
       "      <td>None</td>\n",
       "      <td>BrkTil</td>\n",
       "      <td>Wood</td>\n",
       "    </tr>\n",
       "    <tr>\n",
       "      <th>BsmtQual</th>\n",
       "      <td>2918</td>\n",
       "      <td>None</td>\n",
       "      <td>None</td>\n",
       "      <td>Ex</td>\n",
       "      <td>TA</td>\n",
       "    </tr>\n",
       "    <tr>\n",
       "      <th>BsmtCond</th>\n",
       "      <td>2918</td>\n",
       "      <td>None</td>\n",
       "      <td>None</td>\n",
       "      <td>Fa</td>\n",
       "      <td>TA</td>\n",
       "    </tr>\n",
       "    <tr>\n",
       "      <th>...</th>\n",
       "      <td>...</td>\n",
       "      <td>...</td>\n",
       "      <td>...</td>\n",
       "      <td>...</td>\n",
       "      <td>...</td>\n",
       "    </tr>\n",
       "    <tr>\n",
       "      <th>BsmtFullBath</th>\n",
       "      <td>2918</td>\n",
       "      <td>0.4297464016449623</td>\n",
       "      <td>0.5247060369481936</td>\n",
       "      <td>0</td>\n",
       "      <td>3</td>\n",
       "    </tr>\n",
       "    <tr>\n",
       "      <th>BsmtHalfBath</th>\n",
       "      <td>2918</td>\n",
       "      <td>0.06134338588074023</td>\n",
       "      <td>0.24564742658042157</td>\n",
       "      <td>0</td>\n",
       "      <td>2</td>\n",
       "    </tr>\n",
       "    <tr>\n",
       "      <th>FullBath</th>\n",
       "      <td>2918</td>\n",
       "      <td>1.567854694996573</td>\n",
       "      <td>0.5530061735996389</td>\n",
       "      <td>0</td>\n",
       "      <td>4</td>\n",
       "    </tr>\n",
       "    <tr>\n",
       "      <th>HalfBath</th>\n",
       "      <td>2918</td>\n",
       "      <td>0.38039753255654557</td>\n",
       "      <td>0.5029084892205312</td>\n",
       "      <td>0</td>\n",
       "      <td>2</td>\n",
       "    </tr>\n",
       "    <tr>\n",
       "      <th>BedroomAbvGr</th>\n",
       "      <td>2918</td>\n",
       "      <td>2.8594928032899247</td>\n",
       "      <td>0.8218794254464505</td>\n",
       "      <td>0</td>\n",
       "      <td>8</td>\n",
       "    </tr>\n",
       "    <tr>\n",
       "      <th>KitchenAbvGr</th>\n",
       "      <td>2918</td>\n",
       "      <td>1.0445510623714873</td>\n",
       "      <td>0.21449717324485434</td>\n",
       "      <td>0</td>\n",
       "      <td>3</td>\n",
       "    </tr>\n",
       "    <tr>\n",
       "      <th>KitchenQual</th>\n",
       "      <td>2918</td>\n",
       "      <td>None</td>\n",
       "      <td>None</td>\n",
       "      <td>Ex</td>\n",
       "      <td>TA</td>\n",
       "    </tr>\n",
       "    <tr>\n",
       "      <th>TotRmsAbvGrd</th>\n",
       "      <td>2918</td>\n",
       "      <td>6.450993831391364</td>\n",
       "      <td>1.5693861722964586</td>\n",
       "      <td>2</td>\n",
       "      <td>15</td>\n",
       "    </tr>\n",
       "    <tr>\n",
       "      <th>Functional</th>\n",
       "      <td>2918</td>\n",
       "      <td>None</td>\n",
       "      <td>None</td>\n",
       "      <td>Maj1</td>\n",
       "      <td>Typ</td>\n",
       "    </tr>\n",
       "    <tr>\n",
       "      <th>Fireplaces</th>\n",
       "      <td>2918</td>\n",
       "      <td>0.5973269362577107</td>\n",
       "      <td>0.6461454897037678</td>\n",
       "      <td>0</td>\n",
       "      <td>4</td>\n",
       "    </tr>\n",
       "    <tr>\n",
       "      <th>GarageType</th>\n",
       "      <td>2918</td>\n",
       "      <td>None</td>\n",
       "      <td>None</td>\n",
       "      <td>2Types</td>\n",
       "      <td>None</td>\n",
       "    </tr>\n",
       "    <tr>\n",
       "      <th>GarageYrBlt</th>\n",
       "      <td>2918</td>\n",
       "      <td>1871.0051405071968</td>\n",
       "      <td>448.4277347527384</td>\n",
       "      <td>0</td>\n",
       "      <td>2207</td>\n",
       "    </tr>\n",
       "    <tr>\n",
       "      <th>GarageFinish</th>\n",
       "      <td>2918</td>\n",
       "      <td>None</td>\n",
       "      <td>None</td>\n",
       "      <td>Fin</td>\n",
       "      <td>Unf</td>\n",
       "    </tr>\n",
       "    <tr>\n",
       "      <th>GarageCars</th>\n",
       "      <td>2918</td>\n",
       "      <td>1.7662782727895818</td>\n",
       "      <td>0.7621941564566153</td>\n",
       "      <td>0</td>\n",
       "      <td>5</td>\n",
       "    </tr>\n",
       "    <tr>\n",
       "      <th>GarageArea</th>\n",
       "      <td>2918</td>\n",
       "      <td>472.7511994516792</td>\n",
       "      <td>215.5625222956075</td>\n",
       "      <td>0</td>\n",
       "      <td>1488</td>\n",
       "    </tr>\n",
       "    <tr>\n",
       "      <th>GarageQual</th>\n",
       "      <td>2918</td>\n",
       "      <td>None</td>\n",
       "      <td>None</td>\n",
       "      <td>Ex</td>\n",
       "      <td>TA</td>\n",
       "    </tr>\n",
       "    <tr>\n",
       "      <th>GarageCond</th>\n",
       "      <td>2918</td>\n",
       "      <td>None</td>\n",
       "      <td>None</td>\n",
       "      <td>Ex</td>\n",
       "      <td>TA</td>\n",
       "    </tr>\n",
       "    <tr>\n",
       "      <th>PavedDrive</th>\n",
       "      <td>2918</td>\n",
       "      <td>None</td>\n",
       "      <td>None</td>\n",
       "      <td>N</td>\n",
       "      <td>Y</td>\n",
       "    </tr>\n",
       "    <tr>\n",
       "      <th>WoodDeckSF</th>\n",
       "      <td>2918</td>\n",
       "      <td>93.7200137080192</td>\n",
       "      <td>126.5470792530053</td>\n",
       "      <td>0</td>\n",
       "      <td>1424</td>\n",
       "    </tr>\n",
       "    <tr>\n",
       "      <th>OpenPorchSF</th>\n",
       "      <td>2918</td>\n",
       "      <td>47.50308430431802</td>\n",
       "      <td>67.58135429858903</td>\n",
       "      <td>0</td>\n",
       "      <td>742</td>\n",
       "    </tr>\n",
       "    <tr>\n",
       "      <th>EnclosedPorch</th>\n",
       "      <td>2918</td>\n",
       "      <td>23.044551062371486</td>\n",
       "      <td>64.18952858928687</td>\n",
       "      <td>0</td>\n",
       "      <td>1012</td>\n",
       "    </tr>\n",
       "    <tr>\n",
       "      <th>3SsnPorch</th>\n",
       "      <td>2918</td>\n",
       "      <td>2.603152844413982</td>\n",
       "      <td>25.192440348940863</td>\n",
       "      <td>0</td>\n",
       "      <td>508</td>\n",
       "    </tr>\n",
       "    <tr>\n",
       "      <th>ScreenPorch</th>\n",
       "      <td>2918</td>\n",
       "      <td>16.067854694996573</td>\n",
       "      <td>56.193207538418186</td>\n",
       "      <td>0</td>\n",
       "      <td>576</td>\n",
       "    </tr>\n",
       "    <tr>\n",
       "      <th>PoolArea</th>\n",
       "      <td>2918</td>\n",
       "      <td>2.252570253598355</td>\n",
       "      <td>35.67003418770494</td>\n",
       "      <td>0</td>\n",
       "      <td>800</td>\n",
       "    </tr>\n",
       "    <tr>\n",
       "      <th>MiscVal</th>\n",
       "      <td>2918</td>\n",
       "      <td>50.50068540095956</td>\n",
       "      <td>567.2271818814269</td>\n",
       "      <td>0</td>\n",
       "      <td>17000</td>\n",
       "    </tr>\n",
       "    <tr>\n",
       "      <th>MoSold</th>\n",
       "      <td>2918</td>\n",
       "      <td>6.212131596984236</td>\n",
       "      <td>2.714736542437651</td>\n",
       "      <td>1</td>\n",
       "      <td>12</td>\n",
       "    </tr>\n",
       "    <tr>\n",
       "      <th>YrSold</th>\n",
       "      <td>2918</td>\n",
       "      <td>2007.7926662097327</td>\n",
       "      <td>1.3151842656782242</td>\n",
       "      <td>2006</td>\n",
       "      <td>2010</td>\n",
       "    </tr>\n",
       "    <tr>\n",
       "      <th>SaleType</th>\n",
       "      <td>2918</td>\n",
       "      <td>None</td>\n",
       "      <td>None</td>\n",
       "      <td>COD</td>\n",
       "      <td>WD</td>\n",
       "    </tr>\n",
       "    <tr>\n",
       "      <th>SaleCondition</th>\n",
       "      <td>2918</td>\n",
       "      <td>None</td>\n",
       "      <td>None</td>\n",
       "      <td>Abnorml</td>\n",
       "      <td>Partial</td>\n",
       "    </tr>\n",
       "    <tr>\n",
       "      <th>SalePrice</th>\n",
       "      <td>1460</td>\n",
       "      <td>180921.19589041095</td>\n",
       "      <td>79442.50288288658</td>\n",
       "      <td>34900</td>\n",
       "      <td>755000</td>\n",
       "    </tr>\n",
       "  </tbody>\n",
       "</table>\n",
       "<p>75 rows × 5 columns</p>\n",
       "</div>"
      ],
      "text/plain": [
       "                   0                    1                    2        3  \\\n",
       "summary        count                 mean               stddev      min   \n",
       "MSSubClass      2918    57.13673749143249    42.52488207374578       20   \n",
       "Neighborhood    2918                 None                 None  Blmngtn   \n",
       "MSZoning        2918                 None                 None  C (all)   \n",
       "LotFrontage     2918    69.96671659318025   21.721780303740797     21.0   \n",
       "LotArea         2918   10168.824880054832    7888.254633961419     1300   \n",
       "Street          2918                 None                 None     Grvl   \n",
       "LotShape        2918                 None                 None      IR1   \n",
       "LandContour     2918                 None                 None      Bnk   \n",
       "LotConfig       2918                 None                 None   Corner   \n",
       "LandSlope       2918                 None                 None      Gtl   \n",
       "Condition1      2918                 None                 None   Artery   \n",
       "Condition2      2918                 None                 None   Artery   \n",
       "BldgType        2918                 None                 None     1Fam   \n",
       "HouseStyle      2918                 None                 None   1.5Fin   \n",
       "OverallQual     2918    6.089102124742975   1.4101878988394383        1   \n",
       "OverallCond     2918   5.5637422892392046   1.1124076514773305        1   \n",
       "YearBuilt       2918   1971.3337902673063    30.27534983736768     1872   \n",
       "YearRemodAdd    2918   1984.2649074708704   20.897912286260503     1950   \n",
       "RoofStyle       2918                 None                 None     Flat   \n",
       "RoofMatl        2918                 None                 None  ClyTile   \n",
       "Exterior1st     2918                 None                 None  AsbShng   \n",
       "Exterior2nd     2918                 None                 None  AsbShng   \n",
       "MasVnrType      2918                 None                 None   BrkCmn   \n",
       "MasVnrArea      2918   101.43077450308431   178.87537821412914        0   \n",
       "ExterQual       2918                 None                 None       Ex   \n",
       "ExterCond       2918                 None                 None       Ex   \n",
       "Foundation      2918                 None                 None   BrkTil   \n",
       "BsmtQual        2918                 None                 None       Ex   \n",
       "BsmtCond        2918                 None                 None       Fa   \n",
       "...              ...                  ...                  ...      ...   \n",
       "BsmtFullBath    2918   0.4297464016449623   0.5247060369481936        0   \n",
       "BsmtHalfBath    2918  0.06134338588074023  0.24564742658042157        0   \n",
       "FullBath        2918    1.567854694996573   0.5530061735996389        0   \n",
       "HalfBath        2918  0.38039753255654557   0.5029084892205312        0   \n",
       "BedroomAbvGr    2918   2.8594928032899247   0.8218794254464505        0   \n",
       "KitchenAbvGr    2918   1.0445510623714873  0.21449717324485434        0   \n",
       "KitchenQual     2918                 None                 None       Ex   \n",
       "TotRmsAbvGrd    2918    6.450993831391364   1.5693861722964586        2   \n",
       "Functional      2918                 None                 None     Maj1   \n",
       "Fireplaces      2918   0.5973269362577107   0.6461454897037678        0   \n",
       "GarageType      2918                 None                 None   2Types   \n",
       "GarageYrBlt     2918   1871.0051405071968    448.4277347527384        0   \n",
       "GarageFinish    2918                 None                 None      Fin   \n",
       "GarageCars      2918   1.7662782727895818   0.7621941564566153        0   \n",
       "GarageArea      2918    472.7511994516792    215.5625222956075        0   \n",
       "GarageQual      2918                 None                 None       Ex   \n",
       "GarageCond      2918                 None                 None       Ex   \n",
       "PavedDrive      2918                 None                 None        N   \n",
       "WoodDeckSF      2918     93.7200137080192    126.5470792530053        0   \n",
       "OpenPorchSF     2918    47.50308430431802    67.58135429858903        0   \n",
       "EnclosedPorch   2918   23.044551062371486    64.18952858928687        0   \n",
       "3SsnPorch       2918    2.603152844413982   25.192440348940863        0   \n",
       "ScreenPorch     2918   16.067854694996573   56.193207538418186        0   \n",
       "PoolArea        2918    2.252570253598355    35.67003418770494        0   \n",
       "MiscVal         2918    50.50068540095956    567.2271818814269        0   \n",
       "MoSold          2918    6.212131596984236    2.714736542437651        1   \n",
       "YrSold          2918   2007.7926662097327   1.3151842656782242     2006   \n",
       "SaleType        2918                 None                 None      COD   \n",
       "SaleCondition   2918                 None                 None  Abnorml   \n",
       "SalePrice       1460   180921.19589041095    79442.50288288658    34900   \n",
       "\n",
       "                     4  \n",
       "summary            max  \n",
       "MSSubClass         190  \n",
       "Neighborhood   Veenker  \n",
       "MSZoning            RM  \n",
       "LotFrontage      313.0  \n",
       "LotArea         215245  \n",
       "Street            Pave  \n",
       "LotShape           Reg  \n",
       "LandContour        Lvl  \n",
       "LotConfig       Inside  \n",
       "LandSlope          Sev  \n",
       "Condition1        RRNn  \n",
       "Condition2        RRNn  \n",
       "BldgType        TwnhsE  \n",
       "HouseStyle        SLvl  \n",
       "OverallQual         10  \n",
       "OverallCond          9  \n",
       "YearBuilt         2010  \n",
       "YearRemodAdd      2010  \n",
       "RoofStyle         Shed  \n",
       "RoofMatl       WdShngl  \n",
       "Exterior1st    WdShing  \n",
       "Exterior2nd    Wd Shng  \n",
       "MasVnrType       Stone  \n",
       "MasVnrArea        1600  \n",
       "ExterQual           TA  \n",
       "ExterCond           TA  \n",
       "Foundation        Wood  \n",
       "BsmtQual            TA  \n",
       "BsmtCond            TA  \n",
       "...                ...  \n",
       "BsmtFullBath         3  \n",
       "BsmtHalfBath         2  \n",
       "FullBath             4  \n",
       "HalfBath             2  \n",
       "BedroomAbvGr         8  \n",
       "KitchenAbvGr         3  \n",
       "KitchenQual         TA  \n",
       "TotRmsAbvGrd        15  \n",
       "Functional         Typ  \n",
       "Fireplaces           4  \n",
       "GarageType        None  \n",
       "GarageYrBlt       2207  \n",
       "GarageFinish       Unf  \n",
       "GarageCars           5  \n",
       "GarageArea        1488  \n",
       "GarageQual          TA  \n",
       "GarageCond          TA  \n",
       "PavedDrive           Y  \n",
       "WoodDeckSF        1424  \n",
       "OpenPorchSF        742  \n",
       "EnclosedPorch     1012  \n",
       "3SsnPorch          508  \n",
       "ScreenPorch        576  \n",
       "PoolArea           800  \n",
       "MiscVal          17000  \n",
       "MoSold              12  \n",
       "YrSold            2010  \n",
       "SaleType            WD  \n",
       "SaleCondition  Partial  \n",
       "SalePrice       755000  \n",
       "\n",
       "[75 rows x 5 columns]"
      ]
     },
     "execution_count": 110,
     "metadata": {},
     "output_type": "execute_result"
    }
   ],
   "source": [
    "full_df.select([c for c in full_df.columns]).describe().toPandas().transpose()"
   ]
  },
  {
   "cell_type": "markdown",
   "metadata": {},
   "source": [
    "## Ingeniería de atributos"
   ]
  },
  {
   "cell_type": "markdown",
   "metadata": {},
   "source": [
    "### Variables que miden el área de la casa: TotalBsmtSF, 1stFlrSF, 2ndFlrSF"
   ]
  },
  {
   "cell_type": "markdown",
   "metadata": {},
   "source": [
    "El significado de dichas variables es el que sigue:\n",
    "\n",
    "* **TotalBsmtSF**: área sótano\n",
    "* **1stFlrSF**: área primera planta\n",
    "* **2ndFlrSF**: área segunda planta\n",
    "\n",
    "El trato de dichas variables va a ser el siguiente: tiene sentido crear una variable que haga referencia al área total de la casa que sería la suma de los valores de las tres variables mencionadas."
   ]
  },
  {
   "cell_type": "code",
   "execution_count": 111,
   "metadata": {},
   "outputs": [],
   "source": [
    "full_df = full_df.withColumn('TotalSF', F.col('TotalBsmtSF') + F.col('1stFlrSF') + F.col('2ndFlrSF'))"
   ]
  },
  {
   "cell_type": "markdown",
   "metadata": {},
   "source": [
    "Ahora bien, observamos que la suma de las variables **BsmtFinSF1**, **BsmtFinSF2** y **BsmtUnfSF** da lugar a la variable **TotalBsmtSF** que mide el área total del sótano. Tiene sentido pues las anteriores variables medían el área del sótano de tipo 1, de tipo 2 y el no terminado, respectivamente. Así, parece tener sentido eliminar dichas tres variables."
   ]
  },
  {
   "cell_type": "code",
   "execution_count": 112,
   "metadata": {},
   "outputs": [
    {
     "data": {
      "text/plain": [
       "0"
      ]
     },
     "execution_count": 112,
     "metadata": {},
     "output_type": "execute_result"
    }
   ],
   "source": [
    "full_df.filter(F.col('TotalBsmtSF') != (F.col('BsmtFinSF1') + F.col('BsmtFinSF2') + F.col('BsmtUnfSF'))).count()"
   ]
  },
  {
   "cell_type": "code",
   "execution_count": 113,
   "metadata": {},
   "outputs": [
    {
     "name": "stdout",
     "output_type": "stream",
     "text": [
      "+-----------+----------+----------+---------+\n",
      "|TotalBsmtSF|BsmtFinSF1|BsmtFinSF2|BsmtUnfSF|\n",
      "+-----------+----------+----------+---------+\n",
      "|        840|       747|        93|        0|\n",
      "|        888|       773|         0|      115|\n",
      "|          0|         0|         0|        0|\n",
      "|        870|       298|         0|      572|\n",
      "|        768|       619|         0|      149|\n",
      "+-----------+----------+----------+---------+\n",
      "only showing top 5 rows\n",
      "\n"
     ]
    }
   ],
   "source": [
    "full_df.select('TotalBsmtSF', 'BsmtFinSF1', 'BsmtFinSF2', 'BsmtUnfSF').show(5)"
   ]
  },
  {
   "cell_type": "markdown",
   "metadata": {},
   "source": [
    "Así, decidimos eliminar las variables 'BsmtFinSF1', 'BsmtFinSF2' y 'BsmtUnfSF' puesto que hemos existe una variable que nos aporta la información de las tres y así reducimos nuestro espacio predictor."
   ]
  },
  {
   "cell_type": "code",
   "execution_count": 114,
   "metadata": {},
   "outputs": [],
   "source": [
    "full_df = full_df.drop('BsmtFinSF1', 'BsmtFinSF2', 'BsmtUnfSF')"
   ]
  },
  {
   "cell_type": "markdown",
   "metadata": {},
   "source": [
    "Además, hemos creado una variable, 'TotalSF', que mide el área total de la casa. Así, con el fin de reducir la dimensionalidad, eliminaremos las variables que nos daban el área total de cada planta de la casa puesto que tenemos una variable que nos sirve como resumen de las anteriores."
   ]
  },
  {
   "cell_type": "code",
   "execution_count": 115,
   "metadata": {},
   "outputs": [],
   "source": [
    "full_df = full_df.drop('TotalBsmtSF', '1stFlrSF', '2ndFlrSF')"
   ]
  },
  {
   "cell_type": "markdown",
   "metadata": {},
   "source": [
    "### Variables con información acerca de los baños de la casa"
   ]
  },
  {
   "cell_type": "markdown",
   "metadata": {},
   "source": [
    "Hay 4 variables con información acerca del baño: **FullBath**, **HalfBath**, **BsmtFullBath** y **BsmtHalfBath**. Dichas variables miden el número total de baños del hogar y nuestra tarea será crear un predictor que mida el número total de los baños. Estas variables individualmente no presentan una gran influencia, sin embargo, añadiendo todas en ellas en un único predictor podemos encontrar un predictor fuerte en nuestro modelo y con ello, reducimos la dimensionalidad de nuestro conjunto de variables explicativas. \n",
    "\n",
    "Ahora bien, **¿qué entendemos por 'half bath'?**, pues se trata de baños que presentan la mitad de compartimentos básicos de un baño, así, contaremos dichos baños como medio a la hora de elaborar nuestro predictor."
   ]
  },
  {
   "cell_type": "code",
   "execution_count": 116,
   "metadata": {},
   "outputs": [],
   "source": [
    "full_df = full_df.withColumn('TotalBath', \n",
    "                             F.col('FullBath') + 0.5*F.col('HalfBath') + F.col('BsmtFullBath') + 0.5*F.col('BsmtHalfBath'))"
   ]
  },
  {
   "cell_type": "markdown",
   "metadata": {},
   "source": [
    "### Variables relacionadas con el año de contrucción/remodelación de la casa"
   ]
  },
  {
   "cell_type": "markdown",
   "metadata": {},
   "source": [
    "En el apartado de imputación de valores missing observamos la presencia de dos variables numéricas que establecían el año en el que el hogar se había construído así como el año en el que el hogar se había remodelado (siendo el mismo si dicha condición no se daba). Así, y junto a la variable **YrSold**, podemos determinar la antigüedad de la casa y si la casa ha sufrido modificaciones o no.\n",
    "\n",
    "Consideraremos las variables **YrSold** y **YearRemodAdd** para determinar la edad del edificio, **AgeHouse**, y construiremos una variable binaria **RemodHouse** (1 Yes, 0 No) atendiendo a si la casa ha sido remodelada."
   ]
  },
  {
   "cell_type": "code",
   "execution_count": 117,
   "metadata": {},
   "outputs": [],
   "source": [
    "full_df = full_df \\\n",
    "    .withColumn('RemodHouse', F.when(full_df['YearBuilt'] == full_df['YearRemodAdd'], 0).otherwise(1)) \\\n",
    "    .withColumn('AgeHouse', F.col('YrSold') - F.col('YearRemodAdd'))"
   ]
  },
  {
   "cell_type": "markdown",
   "metadata": {},
   "source": [
    "Eliminamos los atributos a partir de los cuales hemos creado los nuevos predictores:"
   ]
  },
  {
   "cell_type": "code",
   "execution_count": 118,
   "metadata": {},
   "outputs": [],
   "source": [
    "full_df = full_df.drop('YearBuilt', 'YearRemodAdd', 'YrSold', \n",
    "                      'FullBath', 'HalfBath', 'BsmtFullBath', 'BsmtHalfBath')"
   ]
  },
  {
   "cell_type": "code",
   "execution_count": 119,
   "metadata": {},
   "outputs": [
    {
     "name": "stdout",
     "output_type": "stream",
     "text": [
      "El número de variables de nuestro conjunto de datos es: 65\n"
     ]
    }
   ],
   "source": [
    "print(\"El número de variables de nuestro conjunto de datos es:\", len(full_df.columns))"
   ]
  },
  {
   "cell_type": "markdown",
   "metadata": {},
   "source": [
    "# Preparación del dataset para el modelado\n",
    "---"
   ]
  },
  {
   "cell_type": "markdown",
   "metadata": {},
   "source": [
    "## Visualización de la matriz de correlación (variables numéricas)"
   ]
  },
  {
   "cell_type": "markdown",
   "metadata": {},
   "source": [
    "Si estuviesemos interesados en elaborar un modelo de regresión lineal podría ser interesante calcular la matriz de correlaciones y eliminar aquellas variables que se encuentren altamente correladas con otra variable lo que añadiría ruido a nuestro modelo.."
   ]
  },
  {
   "cell_type": "code",
   "execution_count": 120,
   "metadata": {
    "scrolled": true
   },
   "outputs": [
    {
     "data": {
      "image/png": "[encoded data removed]",
      "text/plain": [
       "<Figure size 2880x2880 with 2 Axes>"
      ]
     },
     "metadata": {
      "needs_background": "light"
     },
     "output_type": "display_data"
    },
    {
     "data": {
      "text/plain": [
       "<Figure size 432x288 with 0 Axes>"
      ]
     },
     "metadata": {},
     "output_type": "display_data"
    }
   ],
   "source": [
    "plt.figure(figsize=(40,40))\n",
    "sns.heatmap(full_df.select([c for c in full_df.columns]).toPandas().corr(), \n",
    "            linewidths = 0.1, vmax=1, square=True, linecolor='white', annot=True)\n",
    "plt.show()\n",
    "plt.gcf().clear()"
   ]
  },
  {
   "cell_type": "markdown",
   "metadata": {},
   "source": [
    "Para cada para de variables altamente correladas, eliminaremos aquella con una correlación más baja con la variable respuesta."
   ]
  },
  {
   "cell_type": "code",
   "execution_count": 121,
   "metadata": {},
   "outputs": [
    {
     "data": {
      "text/plain": [
       "['GrLivArea', 'TotRmsAbvGrd', 'GarageCars', 'GarageArea', 'TotalSF']"
      ]
     },
     "execution_count": 121,
     "metadata": {},
     "output_type": "execute_result"
    }
   ],
   "source": [
    "import numpy as np\n",
    "corr_num = full_df.select([c for c in full_df.columns if c != 'SalePrice']).toPandas().corr()\n",
    "to_drop = [column for column in corr_num.columns if any(np.abs(corr_num[column][corr_num[column] != 1] > 0.7))]\n",
    "to_drop"
   ]
  },
  {
   "cell_type": "markdown",
   "metadata": {},
   "source": [
    "Atendiendo a la matriz de correlación representada anteriormente tenemos los siguientes pares de variables altamente correladas:\n",
    "\n",
    "* **GrLivArea - TotalSF**\n",
    "* **GrLivArea - TotRmsAbvGrd**\n",
    "* **GarageCars - GarageArea**\n",
    "\n",
    "Analizamos la correlación de dichas variables con la variable respuesta:"
   ]
  },
  {
   "cell_type": "code",
   "execution_count": 122,
   "metadata": {},
   "outputs": [
    {
     "data": {
      "text/plain": [
       "GrLivArea       0.708624\n",
       "TotRmsAbvGrd    0.533723\n",
       "GarageCars      0.640409\n",
       "GarageArea      0.623431\n",
       "TotalSF         0.782260\n",
       "Name: SalePrice, dtype: float64"
      ]
     },
     "execution_count": 122,
     "metadata": {},
     "output_type": "execute_result"
    }
   ],
   "source": [
    "full_df.select([c for c in full_df.columns]).toPandas().corr()['SalePrice'][to_drop]"
   ]
  },
  {
   "cell_type": "markdown",
   "metadata": {},
   "source": [
    "Así pues eliminaremos las variables: **GrLivArea** y **GarageArea** pues son las variables que presentan una correlación más baja con la variable respuesta (en comparación con la otra variable con la que se encuentra correlada)."
   ]
  },
  {
   "cell_type": "code",
   "execution_count": 123,
   "metadata": {},
   "outputs": [],
   "source": [
    "full_df = full_df.drop('GrLivArea', 'GarageArea')"
   ]
  },
  {
   "cell_type": "markdown",
   "metadata": {},
   "source": [
    "## Preparación de los datos"
   ]
  },
  {
   "cell_type": "markdown",
   "metadata": {},
   "source": [
    "Dividimos nuestro set de datos en train y test, ya que usaremos el conjunto de entrenamiento para la preparación y entrenamiento de los modelos y el conjunto test para validarlos."
   ]
  },
  {
   "cell_type": "markdown",
   "metadata": {},
   "source": [
    "Puesto que nuestro set de datos está limpio de valores missing, sólo tenemos los registros missing de la variable respuesta a predecir, accedemos a los registros donde dicha variable presenta valores missing para formar nuestro conjunto test."
   ]
  },
  {
   "cell_type": "code",
   "execution_count": 124,
   "metadata": {},
   "outputs": [],
   "source": [
    "train_df = full_df.filter(F.col('SalePrice').isNotNull())\n",
    "test_df = full_df.filter(F.col('SalePrice').isNull())"
   ]
  },
  {
   "cell_type": "markdown",
   "metadata": {},
   "source": [
    "### Conversión de variables categóricas a numéricas"
   ]
  },
  {
   "cell_type": "markdown",
   "metadata": {},
   "source": [
    "Puesto que los modelos sólo admiten valores numéricos, debemos convertir las variables de tipo 'string' a variables numéricas. Para ello, haremos uso del **OneHotEncoder**."
   ]
  },
  {
   "cell_type": "code",
   "execution_count": 125,
   "metadata": {
    "scrolled": true
   },
   "outputs": [
    {
     "data": {
      "text/plain": [
       "[('MSSubClass', 'int'),\n",
       " ('Neighborhood', 'string'),\n",
       " ('MSZoning', 'string'),\n",
       " ('LotFrontage', 'double'),\n",
       " ('LotArea', 'int'),\n",
       " ('Street', 'string'),\n",
       " ('LotShape', 'string'),\n",
       " ('LandContour', 'string'),\n",
       " ('LotConfig', 'string'),\n",
       " ('LandSlope', 'string'),\n",
       " ('Condition1', 'string'),\n",
       " ('Condition2', 'string'),\n",
       " ('BldgType', 'string'),\n",
       " ('HouseStyle', 'string'),\n",
       " ('OverallQual', 'int'),\n",
       " ('OverallCond', 'int'),\n",
       " ('RoofStyle', 'string'),\n",
       " ('RoofMatl', 'string'),\n",
       " ('Exterior1st', 'string'),\n",
       " ('Exterior2nd', 'string'),\n",
       " ('MasVnrType', 'string'),\n",
       " ('MasVnrArea', 'int'),\n",
       " ('ExterQual', 'string'),\n",
       " ('ExterCond', 'string'),\n",
       " ('Foundation', 'string'),\n",
       " ('BsmtQual', 'string'),\n",
       " ('BsmtCond', 'string'),\n",
       " ('BsmtExposure', 'string'),\n",
       " ('BsmtFinType1', 'string'),\n",
       " ('BsmtFinType2', 'string'),\n",
       " ('Heating', 'string'),\n",
       " ('HeatingQC', 'string'),\n",
       " ('CentralAir', 'string'),\n",
       " ('Electrical', 'string'),\n",
       " ('LowQualFinSF', 'int'),\n",
       " ('BedroomAbvGr', 'int'),\n",
       " ('KitchenAbvGr', 'int'),\n",
       " ('KitchenQual', 'string'),\n",
       " ('TotRmsAbvGrd', 'int'),\n",
       " ('Functional', 'string'),\n",
       " ('Fireplaces', 'int'),\n",
       " ('GarageType', 'string'),\n",
       " ('GarageYrBlt', 'int'),\n",
       " ('GarageFinish', 'string'),\n",
       " ('GarageCars', 'int'),\n",
       " ('GarageQual', 'string'),\n",
       " ('GarageCond', 'string'),\n",
       " ('PavedDrive', 'string'),\n",
       " ('WoodDeckSF', 'int'),\n",
       " ('OpenPorchSF', 'int'),\n",
       " ('EnclosedPorch', 'int'),\n",
       " ('3SsnPorch', 'int'),\n",
       " ('ScreenPorch', 'int'),\n",
       " ('PoolArea', 'int'),\n",
       " ('MiscVal', 'int'),\n",
       " ('MoSold', 'int'),\n",
       " ('SaleType', 'string'),\n",
       " ('SaleCondition', 'string'),\n",
       " ('SalePrice', 'int'),\n",
       " ('TotalSF', 'int'),\n",
       " ('TotalBath', 'double'),\n",
       " ('RemodHouse', 'int'),\n",
       " ('AgeHouse', 'int')]"
      ]
     },
     "execution_count": 125,
     "metadata": {},
     "output_type": "execute_result"
    }
   ],
   "source": [
    "train_df.dtypes"
   ]
  },
  {
   "cell_type": "code",
   "execution_count": 126,
   "metadata": {},
   "outputs": [
    {
     "name": "stdout",
     "output_type": "stream",
     "text": [
      "Tenemos un total de 37 variables categóricas.\n"
     ]
    }
   ],
   "source": [
    "features_cat = [train_df.dtypes[i][0] for i in range(len(train_df.dtypes)) if train_df.dtypes[i][1] == 'string']\n",
    "print(\"Tenemos un total de {} variables categóricas.\".format(len(features_cat)))"
   ]
  },
  {
   "cell_type": "code",
   "execution_count": 127,
   "metadata": {},
   "outputs": [
    {
     "name": "stdout",
     "output_type": "stream",
     "text": [
      "Tenemos un total de 26 variables numéricas.\n"
     ]
    }
   ],
   "source": [
    "features_num = [train_df.dtypes[i][0] for i in range(len(train_df.dtypes)) if (train_df.dtypes[i][1] == 'int') |\n",
    "               (train_df.dtypes[i][1] == 'double')]\n",
    "print(\"Tenemos un total de {} variables numéricas.\".format(len(features_num)))"
   ]
  },
  {
   "cell_type": "markdown",
   "metadata": {},
   "source": [
    "Cambiamos el orden de las variables del conjunto train y test:"
   ]
  },
  {
   "cell_type": "code",
   "execution_count": 128,
   "metadata": {},
   "outputs": [],
   "source": [
    "features_columns = [column for column in features_num if column != 'SalePrice'] + features_cat + ['SalePrice']"
   ]
  },
  {
   "cell_type": "code",
   "execution_count": 129,
   "metadata": {},
   "outputs": [],
   "source": [
    "train_df = train_df.select(features_columns)\n",
    "test_df = test_df.select(features_columns)"
   ]
  },
  {
   "cell_type": "markdown",
   "metadata": {},
   "source": [
    "### OneHotEncoding and assembling - Estandarización e importancia de variables"
   ]
  },
  {
   "cell_type": "markdown",
   "metadata": {},
   "source": [
    "> Codificador **OneHotEncoder**: este codificador asigna una columna de índices de etiqueta a una columna de vectores binarios, con un solo valor uno como máximo. Esta codificación permite aplicar algoritmos que esperan características con valores numéricos a características categóricas."
   ]
  },
  {
   "cell_type": "markdown",
   "metadata": {},
   "source": [
    "* Definimos en primer lugar el listado de variables numéricas y categóricas:"
   ]
  },
  {
   "cell_type": "code",
   "execution_count": 130,
   "metadata": {},
   "outputs": [],
   "source": [
    "cat_var = [i[0] for i in train_df.dtypes if (i[1]=='string') & (i[0]!=\"SalePrice\")]\n",
    "num_var = [i[0] for i in train_df.dtypes if ((i[1]=='int') | (i[1]=='double')) & (i[0]!='SalePrice')]"
   ]
  },
  {
   "cell_type": "markdown",
   "metadata": {},
   "source": [
    "* Creamos los objetos que van a formar parte de nuestro **pipeline**. Empezamos aquí la conversión de las variables categóricas a numéricas:"
   ]
  },
  {
   "cell_type": "code",
   "execution_count": 131,
   "metadata": {},
   "outputs": [],
   "source": [
    "string_indexes = [StringIndexer(inputCol = c, outputCol = c + '_index', handleInvalid = 'keep') for c in cat_var]\n",
    "onehot_indexes = [OneHotEncoder(inputCol = c + '_index', outputCol = c + '_oneHot') for c in cat_var]"
   ]
  },
  {
   "cell_type": "markdown",
   "metadata": {},
   "source": [
    "* Para aplicar modelos necesitamos estructurar los datos en forma de **features/label**. Para ello, usamos ahora la función **VectorAssembler**, que es un transformer que, a partir de un conjunto de columnas de entrada, genera una columna de salida que contiene un vector con los datos de todas las columnas introducidas. (es importante mantener el orden de las columnas)"
   ]
  },
  {
   "cell_type": "code",
   "execution_count": 132,
   "metadata": {},
   "outputs": [],
   "source": [
    "assembler = VectorAssembler(inputCols = num_var + [c + '_oneHot' for c in cat_var], outputCol = 'features')"
   ]
  },
  {
   "cell_type": "markdown",
   "metadata": {},
   "source": [
    "* Efectuamos el proceso de **estandarización de las variables** para unificar la escala de cada atributo. Dicho objeto también formará parte de nuestro **pipelineModel** que posteriormente crearemos."
   ]
  },
  {
   "cell_type": "code",
   "execution_count": 133,
   "metadata": {},
   "outputs": [],
   "source": [
    "standarization = StandardScaler(inputCol=\"features\", outputCol=\"features_norm\", withStd=True, withMean=True)"
   ]
  },
  {
   "cell_type": "markdown",
   "metadata": {},
   "source": [
    "* Recurrimos al algoritmo **RandomForestRegressor** que nos permita obtener una importancia de variables para así llevar a cabo una reducción de nuestro espacio predictor:"
   ]
  },
  {
   "cell_type": "code",
   "execution_count": 134,
   "metadata": {},
   "outputs": [],
   "source": [
    "rf = RandomForestRegressor(labelCol=\"SalePrice\", featuresCol=\"features_norm\", seed=1234, \n",
    "                          numTrees=50, cacheNodeIds=True, subsamplingRate = 0.7)"
   ]
  },
  {
   "cell_type": "markdown",
   "metadata": {},
   "source": [
    "> Comentamos los parámetros incluidos en nuestro modelo:\n",
    "\n",
    "> * **numTrees**: número de árboles a contruir.\n",
    "> * **subsamplingRate**: fracción de la muestra de entrenamiento tomada para la construcción de cada árbol (muestra bootstrap)\n",
    "> * **cacheNodeIds**: igual a TRUE el algoritmo almacena en caché las ID de nodo para cada instancia (permite acelerar el entrenamiento de árboles).\n",
    "    "
   ]
  },
  {
   "cell_type": "markdown",
   "metadata": {},
   "source": [
    "* Así, una vez definidas nuestras nuevas variables y definido el modelo a partir del cual vamos a obtener una importancia de variables, estamos en condiciones de definir nuestro objeto **pipeline**:"
   ]
  },
  {
   "cell_type": "code",
   "execution_count": 135,
   "metadata": {},
   "outputs": [],
   "source": [
    "pipeline = Pipeline(stages = string_indexes + onehot_indexes + [assembler, standarization, rf])"
   ]
  },
  {
   "cell_type": "markdown",
   "metadata": {},
   "source": [
    "> Ahora mismo nuestro **pipeline** es un **estimator** (no está aun entrenado)"
   ]
  },
  {
   "cell_type": "code",
   "execution_count": 136,
   "metadata": {},
   "outputs": [],
   "source": [
    "preprocessing_pl = pipeline.fit(train_df)"
   ]
  },
  {
   "cell_type": "markdown",
   "metadata": {},
   "source": [
    "> Haremos uso de las funciones **save** y **load** para guardar el objeto pipeline ya entrenado (ya es un transformer) y cargarlo posteriormente para reducir el tiempo de ejecución a la hora de cargar el notebook y mantener el mismo tratamiento de los datos:"
   ]
  },
  {
   "cell_type": "code",
   "execution_count": 281,
   "metadata": {},
   "outputs": [],
   "source": [
    "preprocessing_pl.save('preprocessing_pl')"
   ]
  },
  {
   "cell_type": "code",
   "execution_count": 288,
   "metadata": {},
   "outputs": [],
   "source": [
    "loadPreprocessing = PipelineModel.load('preprocessing_pl')"
   ]
  },
  {
   "cell_type": "markdown",
   "metadata": {},
   "source": [
    "> Ahora nuestro pipelineModel es un **Transformer**. Lo podemos usar para transformar cualquier dataset con la misma estructura."
   ]
  },
  {
   "cell_type": "code",
   "execution_count": 137,
   "metadata": {},
   "outputs": [],
   "source": [
    "train_final = preprocessing_pl.transform(train_df) # o bien, loadPreprocessing.transform(train_df)"
   ]
  },
  {
   "cell_type": "markdown",
   "metadata": {},
   "source": [
    "> Nuestro pipelineModel contiene todo el preprocesado que hemos realizado. Así, para cada nuevo conjunto de datos podemos aplicarle el mismo preprocesado con una única llamada."
   ]
  },
  {
   "cell_type": "code",
   "execution_count": 138,
   "metadata": {},
   "outputs": [],
   "source": [
    "test_final = preprocessing_pl.transform(test_df) # o bien, loadPreprocessing.transform(test_df)"
   ]
  },
  {
   "cell_type": "markdown",
   "metadata": {},
   "source": [
    "* Estamos ya en condiciones de conocer qué variables presentan una importancia más elevada en nuestro modelo predictivo:"
   ]
  },
  {
   "cell_type": "markdown",
   "metadata": {},
   "source": [
    "> Ahora bien, la importancia de las variables explicativas que se devuelve se presenta en forma de un vector disperso. Esto dificulta la comprensión y su interpretación luego recurriremos a **pandas** para crear una función que nos permita obtener el nombre de cada variable con su importancia para, posteriormente, realizar la selección de variables."
   ]
  },
  {
   "cell_type": "code",
   "execution_count": 139,
   "metadata": {},
   "outputs": [
    {
     "data": {
      "text/plain": [
       "SparseVector(266, {0: 0.0027, 1: 0.0069, 2: 0.0149, 3: 0.225, 4: 0.0027, 5: 0.0087, 6: 0.0001, 7: 0.0017, 8: 0.0003, 9: 0.0103, 10: 0.0139, 11: 0.0366, 12: 0.0932, 13: 0.0032, 14: 0.0044, 15: 0.0001, 17: 0.0012, 18: 0.0033, 20: 0.002, 21: 0.308, 22: 0.0448, 23: 0.001, 24: 0.0102, 25: 0.0001, 26: 0.0001, 27: 0.0002, 28: 0.0003, 29: 0.0002, 31: 0.0005, 36: 0.0005, 37: 0.0002, 38: 0.0041, 40: 0.0001, 41: 0.0, 43: 0.0007, 45: 0.0, 50: 0.001, 51: 0.0013, 54: 0.0001, 57: 0.0002, 59: 0.0002, 60: 0.0005, 61: 0.0006, 62: 0.0011, 63: 0.0001, 65: 0.0003, 66: 0.0007, 67: 0.0002, 68: 0.0, 70: 0.0007, 72: 0.0005, 73: 0.0002, 75: 0.0001, 76: 0.0, 90: 0.0003, 91: 0.0, 92: 0.0002, 93: 0.0, 95: 0.0001, 96: 0.0001, 99: 0.0, 103: 0.0005, 104: 0.0001, 106: 0.0, 109: 0.0008, 111: 0.0013, 116: 0.0008, 118: 0.0037, 120: 0.0012, 122: 0.0001, 123: 0.0012, 125: 0.0002, 127: 0.0, 133: 0.0, 134: 0.0018, 135: 0.0, 139: 0.0004, 140: 0.0006, 142: 0.0015, 148: 0.0, 149: 0.0001, 150: 0.0004, 152: 0.0424, 153: 0.011, 154: 0.0094, 155: 0.0008, 156: 0.0001, 157: 0.0019, 161: 0.0065, 163: 0.0002, 165: 0.0, 167: 0.0006, 168: 0.0045, 169: 0.0501, 172: 0.0, 173: 0.0002, 177: 0.0008, 178: 0.0002, 179: 0.0009, 180: 0.0002, 182: 0.0001, 183: 0.0004, 193: 0.0, 194: 0.0001, 196: 0.0, 202: 0.0022, 203: 0.0, 204: 0.0002, 205: 0.0001, 207: 0.0019, 208: 0.0023, 214: 0.0086, 215: 0.0081, 216: 0.0121, 217: 0.0003, 218: 0.0, 219: 0.0, 220: 0.0, 221: 0.0005, 222: 0.0001, 223: 0.0, 225: 0.0004, 226: 0.0012, 227: 0.0, 230: 0.0, 232: 0.0008, 233: 0.0, 234: 0.0009, 235: 0.0, 236: 0.0007, 237: 0.0002, 239: 0.0, 242: 0.0009, 243: 0.0002, 248: 0.0002, 249: 0.0002, 251: 0.0006, 252: 0.0001, 253: 0.0001, 255: 0.0, 261: 0.0003, 262: 0.0, 264: 0.0002})"
      ]
     },
     "execution_count": 139,
     "metadata": {},
     "output_type": "execute_result"
    }
   ],
   "source": [
    "preprocessing_pl.stages[-1].featureImportances"
   ]
  },
  {
   "cell_type": "markdown",
   "metadata": {},
   "source": [
    "> **Definición de la función que nos permite obtener, de forma más clara, la importancia de las variables**"
   ]
  },
  {
   "cell_type": "code",
   "execution_count": 140,
   "metadata": {},
   "outputs": [],
   "source": [
    "def ExtractFeatureImp(featureImp, dataset, featuresCol):\n",
    "    list_extract = []\n",
    "    for i in dataset.schema[featuresCol].metadata[\"ml_attr\"][\"attrs\"]:\n",
    "        list_extract = list_extract + dataset.schema[featuresCol].metadata[\"ml_attr\"][\"attrs\"][i]\n",
    "    varlist = pd.DataFrame(list_extract)\n",
    "    varlist['score'] = varlist['idx'].apply(lambda x: featureImp[x])\n",
    "    return(varlist.sort_values('score', ascending = False))"
   ]
  },
  {
   "cell_type": "markdown",
   "metadata": {},
   "source": [
    "> Analizamos la importancia adquirida por las 20 primeras variables (en orden de importancia)"
   ]
  },
  {
   "cell_type": "markdown",
   "metadata": {},
   "source": [
    "Usaremos la columna **features** para obtener los índices de las variables más importantes. Posteriormente a la hora de tomar las variables más importantes, haremos uso de la columna **features_norm** donde se encuentran las variables estandarizadas."
   ]
  },
  {
   "cell_type": "code",
   "execution_count": 141,
   "metadata": {},
   "outputs": [
    {
     "data": {
      "text/html": [
       "<div>\n",
       "<style scoped>\n",
       "    .dataframe tbody tr th:only-of-type {\n",
       "        vertical-align: middle;\n",
       "    }\n",
       "\n",
       "    .dataframe tbody tr th {\n",
       "        vertical-align: top;\n",
       "    }\n",
       "\n",
       "    .dataframe thead th {\n",
       "        text-align: right;\n",
       "    }\n",
       "</style>\n",
       "<table border=\"1\" class=\"dataframe\">\n",
       "  <thead>\n",
       "    <tr style=\"text-align: right;\">\n",
       "      <th></th>\n",
       "      <th>idx</th>\n",
       "      <th>name</th>\n",
       "      <th>score</th>\n",
       "    </tr>\n",
       "  </thead>\n",
       "  <tbody>\n",
       "    <tr>\n",
       "      <th>21</th>\n",
       "      <td>21</td>\n",
       "      <td>TotalSF</td>\n",
       "      <td>0.307985</td>\n",
       "    </tr>\n",
       "    <tr>\n",
       "      <th>3</th>\n",
       "      <td>3</td>\n",
       "      <td>OverallQual</td>\n",
       "      <td>0.224972</td>\n",
       "    </tr>\n",
       "    <tr>\n",
       "      <th>12</th>\n",
       "      <td>12</td>\n",
       "      <td>GarageCars</td>\n",
       "      <td>0.093163</td>\n",
       "    </tr>\n",
       "    <tr>\n",
       "      <th>169</th>\n",
       "      <td>169</td>\n",
       "      <td>BsmtQual_oneHot_Ex</td>\n",
       "      <td>0.050127</td>\n",
       "    </tr>\n",
       "    <tr>\n",
       "      <th>22</th>\n",
       "      <td>22</td>\n",
       "      <td>TotalBath</td>\n",
       "      <td>0.044775</td>\n",
       "    </tr>\n",
       "    <tr>\n",
       "      <th>152</th>\n",
       "      <td>152</td>\n",
       "      <td>ExterQual_oneHot_TA</td>\n",
       "      <td>0.042440</td>\n",
       "    </tr>\n",
       "    <tr>\n",
       "      <th>11</th>\n",
       "      <td>11</td>\n",
       "      <td>GarageYrBlt</td>\n",
       "      <td>0.036622</td>\n",
       "    </tr>\n",
       "    <tr>\n",
       "      <th>2</th>\n",
       "      <td>2</td>\n",
       "      <td>LotArea</td>\n",
       "      <td>0.014887</td>\n",
       "    </tr>\n",
       "    <tr>\n",
       "      <th>10</th>\n",
       "      <td>10</td>\n",
       "      <td>Fireplaces</td>\n",
       "      <td>0.013926</td>\n",
       "    </tr>\n",
       "    <tr>\n",
       "      <th>216</th>\n",
       "      <td>216</td>\n",
       "      <td>KitchenQual_oneHot_Ex</td>\n",
       "      <td>0.012069</td>\n",
       "    </tr>\n",
       "    <tr>\n",
       "      <th>153</th>\n",
       "      <td>153</td>\n",
       "      <td>ExterQual_oneHot_Gd</td>\n",
       "      <td>0.010985</td>\n",
       "    </tr>\n",
       "    <tr>\n",
       "      <th>9</th>\n",
       "      <td>9</td>\n",
       "      <td>TotRmsAbvGrd</td>\n",
       "      <td>0.010327</td>\n",
       "    </tr>\n",
       "    <tr>\n",
       "      <th>24</th>\n",
       "      <td>24</td>\n",
       "      <td>AgeHouse</td>\n",
       "      <td>0.010174</td>\n",
       "    </tr>\n",
       "    <tr>\n",
       "      <th>154</th>\n",
       "      <td>154</td>\n",
       "      <td>ExterQual_oneHot_Ex</td>\n",
       "      <td>0.009386</td>\n",
       "    </tr>\n",
       "    <tr>\n",
       "      <th>5</th>\n",
       "      <td>5</td>\n",
       "      <td>MasVnrArea</td>\n",
       "      <td>0.008733</td>\n",
       "    </tr>\n",
       "    <tr>\n",
       "      <th>214</th>\n",
       "      <td>214</td>\n",
       "      <td>KitchenQual_oneHot_TA</td>\n",
       "      <td>0.008614</td>\n",
       "    </tr>\n",
       "    <tr>\n",
       "      <th>215</th>\n",
       "      <td>215</td>\n",
       "      <td>KitchenQual_oneHot_Gd</td>\n",
       "      <td>0.008068</td>\n",
       "    </tr>\n",
       "    <tr>\n",
       "      <th>1</th>\n",
       "      <td>1</td>\n",
       "      <td>LotFrontage</td>\n",
       "      <td>0.006869</td>\n",
       "    </tr>\n",
       "    <tr>\n",
       "      <th>161</th>\n",
       "      <td>161</td>\n",
       "      <td>Foundation_oneHot_PConc</td>\n",
       "      <td>0.006485</td>\n",
       "    </tr>\n",
       "    <tr>\n",
       "      <th>168</th>\n",
       "      <td>168</td>\n",
       "      <td>BsmtQual_oneHot_Gd</td>\n",
       "      <td>0.004477</td>\n",
       "    </tr>\n",
       "  </tbody>\n",
       "</table>\n",
       "</div>"
      ],
      "text/plain": [
       "     idx                     name     score\n",
       "21    21                  TotalSF  0.307985\n",
       "3      3              OverallQual  0.224972\n",
       "12    12               GarageCars  0.093163\n",
       "169  169       BsmtQual_oneHot_Ex  0.050127\n",
       "22    22                TotalBath  0.044775\n",
       "152  152      ExterQual_oneHot_TA  0.042440\n",
       "11    11              GarageYrBlt  0.036622\n",
       "2      2                  LotArea  0.014887\n",
       "10    10               Fireplaces  0.013926\n",
       "216  216    KitchenQual_oneHot_Ex  0.012069\n",
       "153  153      ExterQual_oneHot_Gd  0.010985\n",
       "9      9             TotRmsAbvGrd  0.010327\n",
       "24    24                 AgeHouse  0.010174\n",
       "154  154      ExterQual_oneHot_Ex  0.009386\n",
       "5      5               MasVnrArea  0.008733\n",
       "214  214    KitchenQual_oneHot_TA  0.008614\n",
       "215  215    KitchenQual_oneHot_Gd  0.008068\n",
       "1      1              LotFrontage  0.006869\n",
       "161  161  Foundation_oneHot_PConc  0.006485\n",
       "168  168       BsmtQual_oneHot_Gd  0.004477"
      ]
     },
     "execution_count": 141,
     "metadata": {},
     "output_type": "execute_result"
    }
   ],
   "source": [
    "ExtractFeatureImp(preprocessing_pl.stages[-1].featureImportances, train_final, \"features\").head(20)"
   ]
  },
  {
   "cell_type": "markdown",
   "metadata": {},
   "source": [
    "> Ahora que tenemos las características más importantes en una lista bien formateada, podemos extraer las 20 características principales y crear una nueva columna de vector de entrada con solo estas variables. Pyspark tiene una función **VectorSlicer** que hace exactamente eso. Atendiendo a los resultados obteniendo y, como una forma de reducir la complejidad del problema, nos quedaremos con un número aún más reducido, 7 variables. Observamos la gran importancia de las variables **TotalSF** y **OverQuall** en la elaboración del modelo inicial."
   ]
  },
  {
   "cell_type": "code",
   "execution_count": 142,
   "metadata": {},
   "outputs": [],
   "source": [
    "varlist = ExtractFeatureImp(preprocessing_pl.stages[-1].featureImportances, train_final, \"features\")\n",
    "varidx = [x for x in varlist['idx'][0:7]] # índices de los atributos más importantes"
   ]
  },
  {
   "cell_type": "markdown",
   "metadata": {},
   "source": [
    "> Guardamos las variables más importantes, es decir, los predictores de nuestros modelos de aprendizaje supervisado para posteriores cálculos:"
   ]
  },
  {
   "cell_type": "code",
   "execution_count": 143,
   "metadata": {},
   "outputs": [],
   "source": [
    "selected_features = varlist['name'][0:7].tolist()"
   ]
  },
  {
   "cell_type": "code",
   "execution_count": 144,
   "metadata": {},
   "outputs": [],
   "source": [
    "slicer = VectorSlicer(inputCol=\"features_norm\", outputCol=\"features_select\", indices=varidx)\n",
    "train_final_impr = slicer.transform(train_final)"
   ]
  },
  {
   "cell_type": "markdown",
   "metadata": {},
   "source": [
    "> Nos quedamos con las mismas variables en el conjunto test:"
   ]
  },
  {
   "cell_type": "code",
   "execution_count": 145,
   "metadata": {},
   "outputs": [],
   "source": [
    "test_final_impr = slicer.transform(test_final)"
   ]
  },
  {
   "cell_type": "markdown",
   "metadata": {},
   "source": [
    "> Observamos que lo que hace la función **VectorSlicer** es tomar de la variable **features_norm** los índices que se encuentran en la lista **varidx**, que son los índices de las variables con mayor importancia. Así, tenemos en la columna de salida, **features_select**, únicamente las variables de índices seleccionados."
   ]
  },
  {
   "cell_type": "code",
   "execution_count": 146,
   "metadata": {},
   "outputs": [],
   "source": [
    "train_final_impr = train_final_impr.drop('rawPrediction', 'probability', 'prediction')"
   ]
  },
  {
   "cell_type": "markdown",
   "metadata": {},
   "source": [
    "* Finalmente, obtenemos nuestro nuevo conjunto de entrenamiento y conjunto test:"
   ]
  },
  {
   "cell_type": "code",
   "execution_count": 147,
   "metadata": {},
   "outputs": [],
   "source": [
    "df_train = train_final_impr.select(train_final_impr.features_select.alias('atributos'), train_df.SalePrice.alias('target'))\n",
    "df_test = test_final_impr.select(test_final_impr.features_select.alias('atributos'), test_df.SalePrice.alias('target'))"
   ]
  },
  {
   "cell_type": "code",
   "execution_count": 148,
   "metadata": {},
   "outputs": [
    {
     "name": "stdout",
     "output_type": "stream",
     "text": [
      "+--------------------+------+\n",
      "|           atributos|target|\n",
      "+--------------------+------+\n",
      "|[-1.0259630462018...|144000|\n",
      "|[-0.9334734925462...|156000|\n",
      "|[-0.7850034195727...|198500|\n",
      "|[-0.9529449775263...|148000|\n",
      "|[-1.2547529947183...|129500|\n",
      "|[-1.0551702736720...|137000|\n",
      "|[-0.7022496084072...|137500|\n",
      "|[-0.3018671985033...|137500|\n",
      "|[-1.0356987886918...|134900|\n",
      "|[-0.4381675933642...|165500|\n",
      "|[0.63763195178779...|171000|\n",
      "|[-0.3688004281225...|148000|\n",
      "|[-1.2547529947183...|133900|\n",
      "|[-0.7594470955363...|178400|\n",
      "|[-0.7728337414601...|147000|\n",
      "|[-0.7825694839502...|134500|\n",
      "|[-0.4150452049503...|170000|\n",
      "|[-0.9772843337515...|123000|\n",
      "|[-1.2547529947183...|133000|\n",
      "|[-1.0223121427680...|129000|\n",
      "+--------------------+------+\n",
      "only showing top 20 rows\n",
      "\n",
      "+--------------------+------+\n",
      "|           atributos|target|\n",
      "+--------------------+------+\n",
      "|[-0.4369506255529...|  null|\n",
      "|[-0.8908796191521...|  null|\n",
      "|[-0.0183136984802...|  null|\n",
      "|[-0.9943218831091...|  null|\n",
      "|[-1.3107335140361...|  null|\n",
      "|[-0.8993983938309...|  null|\n",
      "|[-0.3931397843476...|  null|\n",
      "|[-1.1866027972878...|  null|\n",
      "|[-1.0417836277481...|  null|\n",
      "|[-0.6219297328641...|  null|\n",
      "|[-1.3180353209037...|  null|\n",
      "|[-0.4637239174006...|  null|\n",
      "|[-1.3119504818474...|  null|\n",
      "|[-0.2032928057914...|  null|\n",
      "|[-0.6231467006754...|  null|\n",
      "|[-0.6012412800727...|  null|\n",
      "|[-0.8945305225859...|  null|\n",
      "|[0.37111600112230...|  null|\n",
      "|[-0.8458518101356...|  null|\n",
      "|[-0.3249895869172...|  null|\n",
      "+--------------------+------+\n",
      "only showing top 20 rows\n",
      "\n"
     ]
    }
   ],
   "source": [
    "df_train.show()\n",
    "df_test.show()"
   ]
  },
  {
   "cell_type": "markdown",
   "metadata": {},
   "source": [
    "# Modelos de aprendizaje supervisado\n",
    "---"
   ]
  },
  {
   "cell_type": "markdown",
   "metadata": {},
   "source": [
    "A continuación elaboraremos diferentes modelos de aprendizaje supervisado sobre el conjunto de entrenamiento y, posteriormente, predeciremos el valor de nuestra variable objetivo para los registros del conjunto test."
   ]
  },
  {
   "cell_type": "markdown",
   "metadata": {},
   "source": [
    "A lo largo de los siguientes apartados necesitaremos fijar una semilla de manera que los resultados sean reproducibles."
   ]
  },
  {
   "cell_type": "code",
   "execution_count": 149,
   "metadata": {},
   "outputs": [],
   "source": [
    "global_seed = 1234;"
   ]
  },
  {
   "cell_type": "markdown",
   "metadata": {},
   "source": [
    "## Partición del conjunto de entrenamiento en dos conjuntos"
   ]
  },
  {
   "cell_type": "markdown",
   "metadata": {},
   "source": [
    "Dividimos el conjunto de entrenamiento en dos conjuntos; considerando el $70\\%$ de los casos para entrenar el modelo y el $30\\%$ restante para validarlo."
   ]
  },
  {
   "cell_type": "code",
   "execution_count": 150,
   "metadata": {},
   "outputs": [
    {
     "name": "stdout",
     "output_type": "stream",
     "text": [
      "Tamaño train_x: 1020. Tamaño train_y: 440.\n",
      "Row(atributos=DenseVector([-1.2548, -0.7949, -1.0265, -0.3005, -0.9048, 0.7817, 0.232]), target=133900)\n",
      "Row(atributos=DenseVector([-1.2548, -0.7949, 0.3116, -0.3005, -0.2682, 0.7817, 0.2629]), target=133000)\n"
     ]
    }
   ],
   "source": [
    "train_X, train_Y = df_train.randomSplit([0.7, 0.3], seed = global_seed)\n",
    "print('Tamaño train_x: {}. Tamaño train_y: {}.'.format(train_X.count(), train_Y.count()))\n",
    "print(train_X.first())\n",
    "print(train_Y.first())"
   ]
  },
  {
   "cell_type": "markdown",
   "metadata": {},
   "source": [
    "## Algoritmos\n",
    "\n",
    "### Regresión lineal"
   ]
  },
  {
   "cell_type": "markdown",
   "metadata": {},
   "source": [
    "* **Definición del modelo de regresión lineal**\n",
    "\n",
    "En relación a un modelo de regresión lineal podemos hablar de dos parámetros de regularización: $\\alpha$ y $\\lambda$. Usaremos la regularización **elastic net** ($\\alpha$) que contiene tanto la regresión Lasso ($\\alpha = 0$) como la regresión Ridge ($\\alpha = 1$) y cuyo parámetro pertenece al intervalo [0,1]. Por otro lado, el parámetro $\\lambda$ tendrá la reestricción de ser mayor que 0."
   ]
  },
  {
   "cell_type": "code",
   "execution_count": 151,
   "metadata": {},
   "outputs": [],
   "source": [
    "lr = LinearRegression(featuresCol = 'atributos', labelCol='target', maxIter=100, regParam=0.5, elasticNetParam=0.8)"
   ]
  },
  {
   "cell_type": "markdown",
   "metadata": {},
   "source": [
    "* **Entrenamiento del modelo**"
   ]
  },
  {
   "cell_type": "code",
   "execution_count": 152,
   "metadata": {},
   "outputs": [
    {
     "name": "stdout",
     "output_type": "stream",
     "text": [
      "Coefficients: [24705.267057461788,23545.95912102165,12818.205490300783,12783.467371051895,9470.364098218573,-5782.5588483375695,-3024.7745955260075]\n",
      "Intercept: 179848.00572207343\n"
     ]
    }
   ],
   "source": [
    "lr_model = lr.fit(train_X)\n",
    "print(\"Coefficients: \" + str(lr_model.coefficients))\n",
    "print(\"Intercept: \" + str(lr_model.intercept))"
   ]
  },
  {
   "cell_type": "code",
   "execution_count": 222,
   "metadata": {},
   "outputs": [],
   "source": [
    "lr_model.save('models/model_lr')"
   ]
  },
  {
   "cell_type": "markdown",
   "metadata": {},
   "source": [
    "* **Predicciones**"
   ]
  },
  {
   "cell_type": "code",
   "execution_count": 154,
   "metadata": {},
   "outputs": [
    {
     "name": "stdout",
     "output_type": "stream",
     "text": [
      "+--------------------+------+------------------+\n",
      "|           atributos|target|        prediction|\n",
      "+--------------------+------+------------------+\n",
      "|[-1.2547529947183...|133000|122430.70778347258|\n",
      "|[-1.0356987886918...|134900|127875.83516489493|\n",
      "|[-0.9772843337515...|123000|112273.30516241337|\n",
      "|[-0.9529449775263...|148000|129674.81136873501|\n",
      "|[-0.7825694839502...|134500|117117.12224828645|\n",
      "+--------------------+------+------------------+\n",
      "only showing top 5 rows\n",
      "\n"
     ]
    }
   ],
   "source": [
    "lr_predict = lr_model.transform(train_Y)\n",
    "lr_predict.show(5)"
   ]
  },
  {
   "cell_type": "markdown",
   "metadata": {},
   "source": [
    "> Observamos así la predicción realizada por el modelo para los 5 primeros registros."
   ]
  },
  {
   "cell_type": "markdown",
   "metadata": {},
   "source": [
    "* **Evaluación del rendimiento del modelo en el conjunto de validación**"
   ]
  },
  {
   "cell_type": "markdown",
   "metadata": {},
   "source": [
    "$$RMSLE = \\frac{1}{n} \\sum{(log(\\bar{y_{i}} +1) - log(y_{i} +1))^{2}}$$\n",
    "\n",
    "Dicho evaluador es la **raíz del error cuadrático medio de la transformación logarítmica sobre los valores predichos y los observados**\n",
    "\n",
    "En la definición de la métrica, añadimos 1 a los valores reales y predichos antes de tomar el logaritmo natural para evitar tomar el valor 0, en nuestro ejemplo, al tratarse de precios de viviendas no es frecuente esta situación pero añadiendo dicha modificación salvaríamos cualquier problema futuro. Además, cabe mencionar que dicha función no es apropiada si alguno de los elementos reales o predichos tienen valor negativo por la definición de la función logarítmica.\n",
    "\n",
    "Una vez comentado el mecanismo de dicha métrica nos disponemos a hablar de su **funcionalidad**. La métrica RMSLE mide la **proporción entre la predicción y lo observado**. Dicha métrica suele utilizarse cuando la variable respuesta tiene un crecimiento exponencial, como el conteo de la población o nuestro ejemplo en particular, así, nos preocupamos por los errores porcentuales en lugar del valor absoluto de los mismos. De esta manera, usaremos dicha métrica cuando nuestra variable objetivo tenga un rango muy amplio y no queramos penalizar a las grandes diferencias cuando el valor predicho y el real son números excesivamente grandes.\n",
    "\n",
    "Introducimos un ejemplo donde podamos observar la comparación de esta métrica con el **RMSE**:\n",
    "* Supongamos un caso en el que nuestro modelo obteiene una predicción de 20 cuando el valor observado es 40 y otro caso en el que la predicción es 200, siendo el valor real, 400.\n",
    "* Pues bien, usando la métrica RMSE, el sgundo caso adquiere un error 10 veces más que el primero, mientras que utilizando la nueva métrica definida, los dos casos obtienen el mismo error."
   ]
  },
  {
   "cell_type": "code",
   "execution_count": 155,
   "metadata": {},
   "outputs": [],
   "source": [
    "class Evaluator_RMSLE(Evaluator):\n",
    "    \n",
    "    def __init__(self, targetCol = \"target\", predictionCol = \"prediction\"):\n",
    "        super(Evaluator_RMSLE, self).__init__()\n",
    "        self.targetCol = targetCol\n",
    "        self.predictionCol = predictionCol\n",
    "        \n",
    "    def _evaluate(self, dataset):\n",
    "        error_rmsle = self.rmsle(dataset, self.targetCol, self.predictionCol)\n",
    "        print(\"Error RMSLE: {}\".format(error_rmsle))\n",
    "        return error_rmsle\n",
    "    \n",
    "    def isLargerBetter(self):\n",
    "        return False\n",
    "    \n",
    "    @staticmethod\n",
    "    def rmsle(dataset, targetCol, predictionCol):\n",
    "        return sqrt(dataset.select(avg((log(dataset[predictionCol] + 1) - log(dataset[targetCol] + 1))**2)).first()[0])"
   ]
  },
  {
   "cell_type": "markdown",
   "metadata": {},
   "source": [
    "> Una vez definido el objeto que utilizaremos como nuestro evaluador del modelo en el conjunto de validación, obtenemos el error cometido por el modelo de regresión previamente entrenado sobre dicho conjunto."
   ]
  },
  {
   "cell_type": "code",
   "execution_count": 156,
   "metadata": {},
   "outputs": [],
   "source": [
    "evaluator = Evaluator_RMSLE()"
   ]
  },
  {
   "cell_type": "code",
   "execution_count": 157,
   "metadata": {},
   "outputs": [
    {
     "name": "stdout",
     "output_type": "stream",
     "text": [
      "Error RMSLE: 0.17784238890850584\n"
     ]
    }
   ],
   "source": [
    "rmsle_lr = evaluator.evaluate(lr_predict)"
   ]
  },
  {
   "cell_type": "markdown",
   "metadata": {},
   "source": [
    "**Vamos guardando los resultados obtenidos en un diccionario**"
   ]
  },
  {
   "cell_type": "code",
   "execution_count": 158,
   "metadata": {},
   "outputs": [
    {
     "data": {
      "text/plain": [
       "{'rl': 0.17784238890850584}"
      ]
     },
     "execution_count": 158,
     "metadata": {},
     "output_type": "execute_result"
    }
   ],
   "source": [
    "result_rmse = {'rl': rmsle_lr}\n",
    "result_rmse"
   ]
  },
  {
   "cell_type": "markdown",
   "metadata": {},
   "source": [
    "#### Optimización de los parámetros"
   ]
  },
  {
   "cell_type": "markdown",
   "metadata": {},
   "source": [
    "* **Definición de la rejilla de búsqueda de los parámetros:** fijaremos el valor de $\\lambda$ en $0.5$ y buscaremos el mejor valor de $\\alpha$"
   ]
  },
  {
   "cell_type": "code",
   "execution_count": 159,
   "metadata": {},
   "outputs": [],
   "source": [
    "lr_cv = LinearRegression(featuresCol = 'atributos', labelCol='target', maxIter = 100, regParam = 0.5)\n",
    "paramGrid = ParamGridBuilder() \\\n",
    "    .addGrid(lr_cv.elasticNetParam, [0, 0.2, 0.5, 0.8, 1]) \\\n",
    "    .build()"
   ]
  },
  {
   "cell_type": "markdown",
   "metadata": {},
   "source": [
    "* **Aplicamos validación cruzada con 5 pliegues para la elección del mejor valor del hiperparámetro**"
   ]
  },
  {
   "cell_type": "code",
   "execution_count": 177,
   "metadata": {},
   "outputs": [],
   "source": [
    "crossval_lr = CrossValidator(estimator = lr_cv,\n",
    "                             estimatorParamMaps = paramGrid,\n",
    "                             evaluator = Evaluator_RMSLE(),\n",
    "                             numFolds = 5, \n",
    "                             seed = global_seed) "
   ]
  },
  {
   "cell_type": "code",
   "execution_count": 178,
   "metadata": {},
   "outputs": [
    {
     "name": "stdout",
     "output_type": "stream",
     "text": [
      "Error RMSLE: 0.16455684630409934\n",
      "Error RMSLE: 0.1645565384499798\n",
      "Error RMSLE: 0.16455606717237833\n",
      "Error RMSLE: 0.1645555816629585\n",
      "Error RMSLE: 0.16455526762417244\n",
      "Error RMSLE: 0.167064142893988\n",
      "Error RMSLE: 0.16706387644440107\n",
      "Error RMSLE: 0.16706348711078786\n",
      "Error RMSLE: 0.16706310417021294\n",
      "Error RMSLE: 0.16706284467356528\n",
      "Error RMSLE: 0.18123109440537874\n",
      "Error RMSLE: 0.18123099086875286\n",
      "Error RMSLE: 0.1812308358256824\n",
      "Error RMSLE: 0.18123069134069295\n",
      "Error RMSLE: 0.18123058800384817\n",
      "Error RMSLE: 0.1912544110631297\n",
      "Error RMSLE: 0.19125415308318705\n",
      "Error RMSLE: 0.19125376607018882\n",
      "Error RMSLE: 0.19125337889045174\n",
      "Error RMSLE: 0.19125312401301603\n",
      "Error RMSLE: 0.23027360133388014\n",
      "Error RMSLE: 0.23027390810099538\n",
      "Error RMSLE: 0.2302743821862298\n",
      "Error RMSLE: 0.2302748627945336\n",
      "Error RMSLE: 0.23027517895552438\n"
     ]
    }
   ],
   "source": [
    "lr_cv_model = crossval_lr.fit(train_X)"
   ]
  },
  {
   "cell_type": "markdown",
   "metadata": {},
   "source": [
    "* Obtenemos el score obtenido para cada modelo construido (promediante el error obtenido en los diferentes pliegues):"
   ]
  },
  {
   "cell_type": "code",
   "execution_count": 181,
   "metadata": {},
   "outputs": [
    {
     "data": {
      "text/plain": [
       "[0.18687601920009517,\n",
       " 0.18687589338946323,\n",
       " 0.18687570767305342,\n",
       " 0.18687552377176994,\n",
       " 0.18687540065402525]"
      ]
     },
     "execution_count": 181,
     "metadata": {},
     "output_type": "execute_result"
    }
   ],
   "source": [
    "lr_cv_model.avgMetrics"
   ]
  },
  {
   "cell_type": "markdown",
   "metadata": {},
   "source": [
    "> Mostramos a continuación para qué combinación de parámetros se alcanzan los anteriores scores:"
   ]
  },
  {
   "cell_type": "code",
   "execution_count": 182,
   "metadata": {},
   "outputs": [],
   "source": [
    "par_lr = lr_cv_model.getEstimatorParamMaps()"
   ]
  },
  {
   "cell_type": "code",
   "execution_count": 183,
   "metadata": {},
   "outputs": [
    {
     "data": {
      "text/plain": [
       "[{'elasticNetParam': 0.0},\n",
       " {'elasticNetParam': 0.2},\n",
       " {'elasticNetParam': 0.5},\n",
       " {'elasticNetParam': 0.8},\n",
       " {'elasticNetParam': 1.0}]"
      ]
     },
     "execution_count": 183,
     "metadata": {},
     "output_type": "execute_result"
    }
   ],
   "source": [
    "lpar_lr = [{par.name: value for par, value in par_comb.items()} for par_comb in par_lr]\n",
    "lpar_lr"
   ]
  },
  {
   "cell_type": "code",
   "execution_count": 184,
   "metadata": {},
   "outputs": [
    {
     "data": {
      "text/html": [
       "<div>\n",
       "<style scoped>\n",
       "    .dataframe tbody tr th:only-of-type {\n",
       "        vertical-align: middle;\n",
       "    }\n",
       "\n",
       "    .dataframe tbody tr th {\n",
       "        vertical-align: top;\n",
       "    }\n",
       "\n",
       "    .dataframe thead th {\n",
       "        text-align: right;\n",
       "    }\n",
       "</style>\n",
       "<table border=\"1\" class=\"dataframe\">\n",
       "  <thead>\n",
       "    <tr style=\"text-align: right;\">\n",
       "      <th></th>\n",
       "      <th>elasticNetParam</th>\n",
       "      <th>score</th>\n",
       "    </tr>\n",
       "  </thead>\n",
       "  <tbody>\n",
       "    <tr>\n",
       "      <th>0</th>\n",
       "      <td>0.0</td>\n",
       "      <td>0.186876</td>\n",
       "    </tr>\n",
       "    <tr>\n",
       "      <th>1</th>\n",
       "      <td>0.2</td>\n",
       "      <td>0.186876</td>\n",
       "    </tr>\n",
       "    <tr>\n",
       "      <th>2</th>\n",
       "      <td>0.5</td>\n",
       "      <td>0.186876</td>\n",
       "    </tr>\n",
       "    <tr>\n",
       "      <th>3</th>\n",
       "      <td>0.8</td>\n",
       "      <td>0.186876</td>\n",
       "    </tr>\n",
       "    <tr>\n",
       "      <th>4</th>\n",
       "      <td>1.0</td>\n",
       "      <td>0.186875</td>\n",
       "    </tr>\n",
       "  </tbody>\n",
       "</table>\n",
       "</div>"
      ],
      "text/plain": [
       "   elasticNetParam     score\n",
       "0              0.0  0.186876\n",
       "1              0.2  0.186876\n",
       "2              0.5  0.186876\n",
       "3              0.8  0.186876\n",
       "4              1.0  0.186875"
      ]
     },
     "execution_count": 184,
     "metadata": {},
     "output_type": "execute_result"
    }
   ],
   "source": [
    "pars_lr_cv = pd.DataFrame(lpar_lr)\n",
    "pars_lr_cv['score'] = lr_cv_model.avgMetrics\n",
    "pars_lr_cv.sort_values(by='score', ascending=False)"
   ]
  },
  {
   "cell_type": "markdown",
   "metadata": {},
   "source": [
    "> **Conclusión:** obtenemos así el error RMSLE alcanzado por cada modelo construido sobre el conjunto de entrenamiento para los distintos valores del parámetro **elasticNetParam** definido anteriormente. Observamos que para el valor igual a 1 se alcanza el menor score, siendo dicho modelo el que usaremos para analizar su rendimiento sobre el conjunto de validación."
   ]
  },
  {
   "cell_type": "markdown",
   "metadata": {},
   "source": [
    "* Podemos obtener un transformer con el mejor modelo ya entrenado. Así, guardamos el mejor modelo resultante del proceso de optimización ya entrenado para futuras predicciones:"
   ]
  },
  {
   "cell_type": "code",
   "execution_count": 185,
   "metadata": {},
   "outputs": [],
   "source": [
    "best_model_lr_cv = lr_cv_model.bestModel"
   ]
  },
  {
   "cell_type": "code",
   "execution_count": 219,
   "metadata": {},
   "outputs": [],
   "source": [
    "best_model_lr_cv.save('models/best_model_lr_cv')"
   ]
  },
  {
   "cell_type": "markdown",
   "metadata": {},
   "source": [
    "* **Cálculo de las predicciones y evaluación del rendimiento del mejor modelo en el conjunto de validación**"
   ]
  },
  {
   "cell_type": "code",
   "execution_count": 188,
   "metadata": {},
   "outputs": [
    {
     "name": "stdout",
     "output_type": "stream",
     "text": [
      "Error RMSLE: 0.1778420454879219\n"
     ]
    }
   ],
   "source": [
    "lr_cv_predict = best_model_lr_cv.transform(train_Y)\n",
    "rmse_lr_cv = evaluator.evaluate(lr_cv_predict)"
   ]
  },
  {
   "cell_type": "markdown",
   "metadata": {},
   "source": [
    "> **Comentraio:** Vemos que hemos conseguido disminuir el error cometido."
   ]
  },
  {
   "cell_type": "code",
   "execution_count": 220,
   "metadata": {},
   "outputs": [],
   "source": [
    "loadModelLR = LinearRegressionModel.load('models/best_model_lr_cv')"
   ]
  },
  {
   "cell_type": "code",
   "execution_count": 221,
   "metadata": {},
   "outputs": [
    {
     "name": "stdout",
     "output_type": "stream",
     "text": [
      "+------------------+---------------------+\n",
      "|        prediction|prediction_after_save|\n",
      "+------------------+---------------------+\n",
      "|108108.49299070786|   108108.49299070786|\n",
      "|107812.07715969258|   107812.07715969258|\n",
      "|123871.79676067896|   123871.79676067896|\n",
      "|152478.12660897142|   152478.12660897142|\n",
      "|178287.52069196955|   178287.52069196955|\n",
      "+------------------+---------------------+\n",
      "only showing top 5 rows\n",
      "\n"
     ]
    }
   ],
   "source": [
    "prueba_lr_cv_predict = loadModelLR.transform(train_Y)\n",
    "prueba_lr_cv_predict = prueba_lr_cv_predict.withColumnRenamed(\"prediction\", \"prediction_after_save\")\n",
    "lr_cv_predict.join(prueba_lr_cv_predict, on=['atributos']).select(['prediction', 'prediction_after_save']).show(5)"
   ]
  },
  {
   "cell_type": "markdown",
   "metadata": {},
   "source": [
    "**Conclusión:** el proceso de carga y lectura del modelo ha sido correcto."
   ]
  },
  {
   "cell_type": "markdown",
   "metadata": {},
   "source": [
    "Guardamos el error cometido en la predicción sobre el conjunto test en el diccionario creado anteriormente como resumen:"
   ]
  },
  {
   "cell_type": "code",
   "execution_count": 202,
   "metadata": {},
   "outputs": [
    {
     "data": {
      "text/plain": [
       "{'rl': 0.17784238890850584, 'rl_cv': 0.1778420454879219}"
      ]
     },
     "execution_count": 202,
     "metadata": {},
     "output_type": "execute_result"
    }
   ],
   "source": [
    "result_rmse['rl_cv'] = rmse_lr_cv\n",
    "result_rmse"
   ]
  },
  {
   "cell_type": "markdown",
   "metadata": {},
   "source": [
    "### Random Forest"
   ]
  },
  {
   "cell_type": "markdown",
   "metadata": {},
   "source": [
    "* **Definición y entrenamiento del modelo**\n",
    "\n",
    "> Usaremos en primer lugar los argumentos que tiene dicho modelo por defecto y posteriormente veremos como ajustar algunos de sus hiperparámetros."
   ]
  },
  {
   "cell_type": "code",
   "execution_count": 213,
   "metadata": {},
   "outputs": [],
   "source": [
    "rf = RandomForestRegressor(featuresCol ='atributos', labelCol = 'target', seed = global_seed)\n",
    "rf_model = rf.fit(train_X)"
   ]
  },
  {
   "cell_type": "code",
   "execution_count": 215,
   "metadata": {},
   "outputs": [],
   "source": [
    "rf_model.save('models/model_rf')"
   ]
  },
  {
   "cell_type": "markdown",
   "metadata": {},
   "source": [
    "* **Importancia de las variables**"
   ]
  },
  {
   "cell_type": "code",
   "execution_count": 216,
   "metadata": {},
   "outputs": [
    {
     "data": {
      "text/plain": [
       "SparseVector(7, {0: 0.3125, 1: 0.3297, 2: 0.1446, 3: 0.0438, 4: 0.0625, 5: 0.0607, 6: 0.0462})"
      ]
     },
     "execution_count": 216,
     "metadata": {},
     "output_type": "execute_result"
    }
   ],
   "source": [
    "rf_model.featureImportances"
   ]
  },
  {
   "cell_type": "code",
   "execution_count": 217,
   "metadata": {},
   "outputs": [
    {
     "data": {
      "image/png": "[encoded data removed]",
      "text/plain": [
       "<Figure size 432x288 with 1 Axes>"
      ]
     },
     "metadata": {
      "needs_background": "light"
     },
     "output_type": "display_data"
    }
   ],
   "source": [
    "rf_importance = pd.DataFrame({'features': selected_features, 'importance_rf': rf_model.featureImportances.toArray()})\n",
    "rf_importance = rf_importance.sort_values(by=\"importance_rf\", ascending=False)\n",
    "\n",
    "plt.bar(range(len(rf_importance.features)), rf_importance.importance_rf, color=\"red\")\n",
    "plt.xticks(range(len(rf_importance.features)), rf_importance.features, rotation = 90)\n",
    "plt.title('Importancia de las variables en la construcción del modelo')\n",
    "plt.show()"
   ]
  },
  {
   "cell_type": "markdown",
   "metadata": {},
   "source": [
    "* **Predicciones**"
   ]
  },
  {
   "cell_type": "code",
   "execution_count": 218,
   "metadata": {},
   "outputs": [
    {
     "name": "stdout",
     "output_type": "stream",
     "text": [
      "+--------------------+------+------------------+\n",
      "|           atributos|target|        prediction|\n",
      "+--------------------+------+------------------+\n",
      "|[-1.2547529947183...|133000|127562.84820130756|\n",
      "|[-1.0356987886918...|134900| 134424.4918110425|\n",
      "|[-0.9772843337515...|123000|128751.45843411353|\n",
      "|[-0.9529449775263...|148000|133690.67904541432|\n",
      "|[-0.7825694839502...|134500|128916.13970232545|\n",
      "+--------------------+------+------------------+\n",
      "only showing top 5 rows\n",
      "\n"
     ]
    }
   ],
   "source": [
    "rf_predict = rf_model.transform(train_Y)\n",
    "rf_predict.show(5)"
   ]
  },
  {
   "cell_type": "markdown",
   "metadata": {},
   "source": [
    "* **Evaluación del rendimiento del modelo en el conjunto de validación**"
   ]
  },
  {
   "cell_type": "code",
   "execution_count": 223,
   "metadata": {},
   "outputs": [
    {
     "name": "stdout",
     "output_type": "stream",
     "text": [
      "Error RMSLE: 0.16423058984152378\n"
     ]
    }
   ],
   "source": [
    "rmse_rf = evaluator.evaluate(rf_predict)"
   ]
  },
  {
   "cell_type": "code",
   "execution_count": 224,
   "metadata": {},
   "outputs": [
    {
     "data": {
      "text/plain": [
       "{'rl': 0.17784238890850584,\n",
       " 'rl_cv': 0.1778420454879219,\n",
       " 'rf': 0.16423058984152378}"
      ]
     },
     "execution_count": 224,
     "metadata": {},
     "output_type": "execute_result"
    }
   ],
   "source": [
    "result_rmse['rf'] = rmse_rf\n",
    "result_rmse"
   ]
  },
  {
   "cell_type": "markdown",
   "metadata": {},
   "source": [
    "#### Optimización de los paramétros"
   ]
  },
  {
   "cell_type": "markdown",
   "metadata": {},
   "source": [
    "* **Definición de la rejilla de búsqueda de hiperparámetros**"
   ]
  },
  {
   "cell_type": "code",
   "execution_count": 225,
   "metadata": {},
   "outputs": [],
   "source": [
    "paramGrid = ParamGridBuilder() \\\n",
    "    .addGrid(rf.maxDepth, [4, 5, 6]) \\\n",
    "    .addGrid(rf.numTrees, [50, 100, 150]) \\\n",
    "    .build()"
   ]
  },
  {
   "cell_type": "markdown",
   "metadata": {},
   "source": [
    "* **Aplicamos validación cruzada con 5 pliegues para la elección del mejor valor del hiperparámetro**"
   ]
  },
  {
   "cell_type": "code",
   "execution_count": 226,
   "metadata": {},
   "outputs": [],
   "source": [
    "crossval_rf = CrossValidator(estimator = rf,\n",
    "                             estimatorParamMaps = paramGrid,\n",
    "                             evaluator = Evaluator_RMSLE(),\n",
    "                             numFolds = 5, \n",
    "                             seed = global_seed) "
   ]
  },
  {
   "cell_type": "code",
   "execution_count": 227,
   "metadata": {},
   "outputs": [
    {
     "name": "stdout",
     "output_type": "stream",
     "text": [
      "Error RMSLE: 0.18139759022286722\n",
      "Error RMSLE: 0.18098491569005046\n",
      "Error RMSLE: 0.1810005278314452\n",
      "Error RMSLE: 0.17065813650647346\n",
      "Error RMSLE: 0.17262255696798312\n",
      "Error RMSLE: 0.1717831956308604\n",
      "Error RMSLE: 0.16754503495189807\n",
      "Error RMSLE: 0.16742822403197458\n",
      "Error RMSLE: 0.16706470175626742\n",
      "Error RMSLE: 0.15430891040601905\n",
      "Error RMSLE: 0.15271566086867167\n",
      "Error RMSLE: 0.15470403158170087\n",
      "Error RMSLE: 0.14773931600266235\n",
      "Error RMSLE: 0.14609187018683065\n",
      "Error RMSLE: 0.14759891827338412\n",
      "Error RMSLE: 0.14507072097554918\n",
      "Error RMSLE: 0.14220298689340513\n",
      "Error RMSLE: 0.14389118080291152\n",
      "Error RMSLE: 0.1726474654628221\n",
      "Error RMSLE: 0.17289710321167895\n",
      "Error RMSLE: 0.1727921442251191\n",
      "Error RMSLE: 0.16264249981593953\n",
      "Error RMSLE: 0.16245060692973712\n",
      "Error RMSLE: 0.16301171383163698\n",
      "Error RMSLE: 0.15712402146833637\n",
      "Error RMSLE: 0.15721466158787467\n",
      "Error RMSLE: 0.15743577636168152\n",
      "Error RMSLE: 0.16968049181435427\n",
      "Error RMSLE: 0.16815221897370597\n",
      "Error RMSLE: 0.1688982013729492\n",
      "Error RMSLE: 0.1610795713641179\n",
      "Error RMSLE: 0.15950705757481654\n",
      "Error RMSLE: 0.16197387711848213\n",
      "Error RMSLE: 0.15687951603771189\n",
      "Error RMSLE: 0.1556643421254023\n",
      "Error RMSLE: 0.1580475087752529\n",
      "Error RMSLE: 0.2290382701975035\n",
      "Error RMSLE: 0.22618952170369355\n",
      "Error RMSLE: 0.22700918457969804\n",
      "Error RMSLE: 0.2177134014584831\n",
      "Error RMSLE: 0.2160470722136972\n",
      "Error RMSLE: 0.2178081816061034\n",
      "Error RMSLE: 0.2127037956858888\n",
      "Error RMSLE: 0.2120999763297492\n",
      "Error RMSLE: 0.2139508414931653\n"
     ]
    }
   ],
   "source": [
    "rf_cv_model = crossval_rf.fit(train_X)"
   ]
  },
  {
   "cell_type": "markdown",
   "metadata": {},
   "source": [
    "> Como hemos hecho en anteriores modelos, guardamos el objeto creado ya entrenado para futuros cálculos y para, mediante la función **load()** poder calcular las predicciones sobre el conjunto de validación sin necesidad de ejecutar el procedimiento de ajuste de parámetros nuevamente lo cual conlleva un elevado tiempo de ejecución cuando sea necesario-"
   ]
  },
  {
   "cell_type": "code",
   "execution_count": 228,
   "metadata": {},
   "outputs": [],
   "source": [
    "best_model_rf_cv = rf_cv_model.bestModel\n",
    "best_model_rf_cv.save('models/best_model_rf_cv')"
   ]
  },
  {
   "cell_type": "markdown",
   "metadata": {},
   "source": [
    "* Analizamos los resultados obtenidos para cada modelo construido promediando el error obtenido en los distintos pliegues:"
   ]
  },
  {
   "cell_type": "code",
   "execution_count": 231,
   "metadata": {},
   "outputs": [
    {
     "data": {
      "text/plain": [
       "[0.18141454562071324,\n",
       " 0.18018788408956013,\n",
       " 0.18088081791818247,\n",
       " 0.17196658502953527,\n",
       " 0.1713438327746129,\n",
       " 0.1724351772920934,\n",
       " 0.16786461782387685,\n",
       " 0.16692203819368118,\n",
       " 0.16807800183785573]"
      ]
     },
     "execution_count": 231,
     "metadata": {},
     "output_type": "execute_result"
    }
   ],
   "source": [
    "rf_cv_model.avgMetrics"
   ]
  },
  {
   "cell_type": "markdown",
   "metadata": {},
   "source": [
    "> Mostramos a continuación el error cometido por el modelo para las diferentes combinaciones de los parámetros posibles dentro de la rejilla *paramGrid* definida anteriormente."
   ]
  },
  {
   "cell_type": "code",
   "execution_count": 232,
   "metadata": {},
   "outputs": [],
   "source": [
    "par_rf = rf_cv_model.getEstimatorParamMaps()"
   ]
  },
  {
   "cell_type": "code",
   "execution_count": 233,
   "metadata": {},
   "outputs": [
    {
     "data": {
      "text/plain": [
       "[{'maxDepth': 4, 'numTrees': 50},\n",
       " {'maxDepth': 4, 'numTrees': 100},\n",
       " {'maxDepth': 4, 'numTrees': 150},\n",
       " {'maxDepth': 5, 'numTrees': 50},\n",
       " {'maxDepth': 5, 'numTrees': 100},\n",
       " {'maxDepth': 5, 'numTrees': 150},\n",
       " {'maxDepth': 6, 'numTrees': 50},\n",
       " {'maxDepth': 6, 'numTrees': 100},\n",
       " {'maxDepth': 6, 'numTrees': 150}]"
      ]
     },
     "execution_count": 233,
     "metadata": {},
     "output_type": "execute_result"
    }
   ],
   "source": [
    "lpar_rf = [{par.name: value for par, value in par_comb.items()} for par_comb in par_rf]\n",
    "lpar_rf"
   ]
  },
  {
   "cell_type": "code",
   "execution_count": 234,
   "metadata": {},
   "outputs": [
    {
     "data": {
      "text/html": [
       "<div>\n",
       "<style scoped>\n",
       "    .dataframe tbody tr th:only-of-type {\n",
       "        vertical-align: middle;\n",
       "    }\n",
       "\n",
       "    .dataframe tbody tr th {\n",
       "        vertical-align: top;\n",
       "    }\n",
       "\n",
       "    .dataframe thead th {\n",
       "        text-align: right;\n",
       "    }\n",
       "</style>\n",
       "<table border=\"1\" class=\"dataframe\">\n",
       "  <thead>\n",
       "    <tr style=\"text-align: right;\">\n",
       "      <th></th>\n",
       "      <th>maxDepth</th>\n",
       "      <th>numTrees</th>\n",
       "      <th>score</th>\n",
       "    </tr>\n",
       "  </thead>\n",
       "  <tbody>\n",
       "    <tr>\n",
       "      <th>0</th>\n",
       "      <td>4</td>\n",
       "      <td>50</td>\n",
       "      <td>0.181415</td>\n",
       "    </tr>\n",
       "    <tr>\n",
       "      <th>2</th>\n",
       "      <td>4</td>\n",
       "      <td>150</td>\n",
       "      <td>0.180881</td>\n",
       "    </tr>\n",
       "    <tr>\n",
       "      <th>1</th>\n",
       "      <td>4</td>\n",
       "      <td>100</td>\n",
       "      <td>0.180188</td>\n",
       "    </tr>\n",
       "    <tr>\n",
       "      <th>5</th>\n",
       "      <td>5</td>\n",
       "      <td>150</td>\n",
       "      <td>0.172435</td>\n",
       "    </tr>\n",
       "    <tr>\n",
       "      <th>3</th>\n",
       "      <td>5</td>\n",
       "      <td>50</td>\n",
       "      <td>0.171967</td>\n",
       "    </tr>\n",
       "    <tr>\n",
       "      <th>4</th>\n",
       "      <td>5</td>\n",
       "      <td>100</td>\n",
       "      <td>0.171344</td>\n",
       "    </tr>\n",
       "    <tr>\n",
       "      <th>8</th>\n",
       "      <td>6</td>\n",
       "      <td>150</td>\n",
       "      <td>0.168078</td>\n",
       "    </tr>\n",
       "    <tr>\n",
       "      <th>6</th>\n",
       "      <td>6</td>\n",
       "      <td>50</td>\n",
       "      <td>0.167865</td>\n",
       "    </tr>\n",
       "    <tr>\n",
       "      <th>7</th>\n",
       "      <td>6</td>\n",
       "      <td>100</td>\n",
       "      <td>0.166922</td>\n",
       "    </tr>\n",
       "  </tbody>\n",
       "</table>\n",
       "</div>"
      ],
      "text/plain": [
       "   maxDepth  numTrees     score\n",
       "0         4        50  0.181415\n",
       "2         4       150  0.180881\n",
       "1         4       100  0.180188\n",
       "5         5       150  0.172435\n",
       "3         5        50  0.171967\n",
       "4         5       100  0.171344\n",
       "8         6       150  0.168078\n",
       "6         6        50  0.167865\n",
       "7         6       100  0.166922"
      ]
     },
     "execution_count": 234,
     "metadata": {},
     "output_type": "execute_result"
    }
   ],
   "source": [
    "pars_rf_cv = pd.DataFrame(lpar_rf)\n",
    "pars_rf_cv['score'] = rf_cv_model.avgMetrics\n",
    "pars_rf_cv.sort_values(by='score', ascending=False)"
   ]
  },
  {
   "cell_type": "markdown",
   "metadata": {},
   "source": [
    "> **Conclusión:** Obtenemos así el error RMSLE alcanzado por cada algoritmo generado a partir de las distintas combinaciones posibles entre los parámetros. Así, vemos que el modelo que alcanza un menor error sobre el conjunto de aprendizaje y, que posteriormente evaluaremos su rendimiento sobre el conjunto test, es aquel algoritmo random forest cuyos parámetros **maxDepth** y **numTress** son 6 y 100, respectivamente."
   ]
  },
  {
   "cell_type": "markdown",
   "metadata": {},
   "source": [
    "* **Importancia de variables del mejor modelo obtenido tras el ajuste de los hiperparámetros**"
   ]
  },
  {
   "cell_type": "code",
   "execution_count": 238,
   "metadata": {},
   "outputs": [
    {
     "data": {
      "text/plain": [
       "SparseVector(7, {0: 0.3226, 1: 0.3092, 2: 0.1302, 3: 0.0368, 4: 0.0783, 5: 0.0684, 6: 0.0545})"
      ]
     },
     "execution_count": 238,
     "metadata": {},
     "output_type": "execute_result"
    }
   ],
   "source": [
    "best_model_rf_cv.featureImportances"
   ]
  },
  {
   "cell_type": "code",
   "execution_count": 239,
   "metadata": {},
   "outputs": [
    {
     "data": {
      "text/html": [
       "<div>\n",
       "<style scoped>\n",
       "    .dataframe tbody tr th:only-of-type {\n",
       "        vertical-align: middle;\n",
       "    }\n",
       "\n",
       "    .dataframe tbody tr th {\n",
       "        vertical-align: top;\n",
       "    }\n",
       "\n",
       "    .dataframe thead th {\n",
       "        text-align: right;\n",
       "    }\n",
       "</style>\n",
       "<table border=\"1\" class=\"dataframe\">\n",
       "  <thead>\n",
       "    <tr style=\"text-align: right;\">\n",
       "      <th></th>\n",
       "      <th>features</th>\n",
       "      <th>importance_rf</th>\n",
       "      <th>importance_rf_cv</th>\n",
       "    </tr>\n",
       "  </thead>\n",
       "  <tbody>\n",
       "    <tr>\n",
       "      <th>1</th>\n",
       "      <td>TotalSF</td>\n",
       "      <td>0.312534</td>\n",
       "      <td>0.322561</td>\n",
       "    </tr>\n",
       "    <tr>\n",
       "      <th>0</th>\n",
       "      <td>OverallQual</td>\n",
       "      <td>0.329740</td>\n",
       "      <td>0.309219</td>\n",
       "    </tr>\n",
       "    <tr>\n",
       "      <th>2</th>\n",
       "      <td>GarageCars</td>\n",
       "      <td>0.144580</td>\n",
       "      <td>0.130210</td>\n",
       "    </tr>\n",
       "    <tr>\n",
       "      <th>3</th>\n",
       "      <td>TotalBath</td>\n",
       "      <td>0.062467</td>\n",
       "      <td>0.078297</td>\n",
       "    </tr>\n",
       "    <tr>\n",
       "      <th>4</th>\n",
       "      <td>ExterQual_oneHot_TA</td>\n",
       "      <td>0.060705</td>\n",
       "      <td>0.068397</td>\n",
       "    </tr>\n",
       "    <tr>\n",
       "      <th>5</th>\n",
       "      <td>GarageYrBlt</td>\n",
       "      <td>0.046186</td>\n",
       "      <td>0.054520</td>\n",
       "    </tr>\n",
       "    <tr>\n",
       "      <th>6</th>\n",
       "      <td>BsmtQual_oneHot_Ex</td>\n",
       "      <td>0.043788</td>\n",
       "      <td>0.036795</td>\n",
       "    </tr>\n",
       "  </tbody>\n",
       "</table>\n",
       "</div>"
      ],
      "text/plain": [
       "              features  importance_rf  importance_rf_cv\n",
       "1              TotalSF       0.312534          0.322561\n",
       "0          OverallQual       0.329740          0.309219\n",
       "2           GarageCars       0.144580          0.130210\n",
       "3            TotalBath       0.062467          0.078297\n",
       "4  ExterQual_oneHot_TA       0.060705          0.068397\n",
       "5          GarageYrBlt       0.046186          0.054520\n",
       "6   BsmtQual_oneHot_Ex       0.043788          0.036795"
      ]
     },
     "execution_count": 239,
     "metadata": {},
     "output_type": "execute_result"
    }
   ],
   "source": [
    "rf_cv_importance = pd.DataFrame({'features': selected_features, \n",
    "                                 'importance_rf_cv': best_model_rf_cv.featureImportances.toArray()})\n",
    "\n",
    "pd.merge(rf_importance, rf_cv_importance, on='features').sort_values(by='importance_rf_cv', ascending=False)"
   ]
  },
  {
   "cell_type": "markdown",
   "metadata": {},
   "source": [
    "* **Cálculo de las predicciones y evaluación del rendimiento del mejor modelo en el conjunto de validación**"
   ]
  },
  {
   "cell_type": "code",
   "execution_count": 240,
   "metadata": {},
   "outputs": [
    {
     "name": "stdout",
     "output_type": "stream",
     "text": [
      "Error RMSLE: 0.15839426415339303\n"
     ]
    }
   ],
   "source": [
    "rf_cv_predict = best_model_rf_cv.transform(train_Y)\n",
    "rmse_rf_cv = evaluator.evaluate(rf_cv_predict)"
   ]
  },
  {
   "cell_type": "markdown",
   "metadata": {},
   "source": [
    "> **Conclusión:** obtenemos una mejora con respecto al modelo random forest sin realizar optimización de los parámetros."
   ]
  },
  {
   "cell_type": "code",
   "execution_count": 241,
   "metadata": {},
   "outputs": [
    {
     "data": {
      "text/plain": [
       "{'rl': 0.17784238890850584,\n",
       " 'rl_cv': 0.1778420454879219,\n",
       " 'rf': 0.16423058984152378,\n",
       " 'rf_cv': 0.15839426415339303}"
      ]
     },
     "execution_count": 241,
     "metadata": {},
     "output_type": "execute_result"
    }
   ],
   "source": [
    "result_rmse['rf_cv'] = rmse_rf_cv\n",
    "result_rmse"
   ]
  },
  {
   "cell_type": "markdown",
   "metadata": {},
   "source": [
    "### Gradient Boosting Trees"
   ]
  },
  {
   "cell_type": "markdown",
   "metadata": {},
   "source": [
    "Boosting es un enfoque de Machine Learning basado en la idea de crear una regla de predicción altamente precisa combinando muchas reglas relativamente débiles e imprecisas. \n",
    "\n",
    "Los árboles de decisión son agregados de forma sucesiva, y los árboles existentes en el modelo no cambian. Para determinar los parámetros que tendrán cada uno de los árboles de decisión que son agregados al modelo se utiliza un procedimiento de gradiente descendiente que minimizará la función de perdida. De esta forma se van agregando árboles con distintos parámetros de forma tal que la combinación de ellos minimiza la pérdida del modelo y mejora la predicción."
   ]
  },
  {
   "cell_type": "markdown",
   "metadata": {},
   "source": [
    "* **Definición del modelo**"
   ]
  },
  {
   "cell_type": "code",
   "execution_count": 242,
   "metadata": {},
   "outputs": [],
   "source": [
    "gbt = GBTRegressor(featuresCol = 'atributos', labelCol = 'target', maxIter = 50, seed=global_seed)"
   ]
  },
  {
   "cell_type": "markdown",
   "metadata": {},
   "source": [
    "* **Definición de la rejilla de valores para la búsqueda de la mejor combinación de los parámetros**"
   ]
  },
  {
   "cell_type": "code",
   "execution_count": 243,
   "metadata": {},
   "outputs": [],
   "source": [
    "paramGrid = ParamGridBuilder() \\\n",
    "    .addGrid(gbt.maxDepth, [4, 5]) \\\n",
    "    .addGrid(gbt.stepSize, [0.01, 0.05, 0.1]) \\\n",
    "    .build()"
   ]
  },
  {
   "cell_type": "markdown",
   "metadata": {},
   "source": [
    "> * **stepSize:** tasa de aprendizaje que permite controlar el error cometido en las iteraciones anteriores. \n",
    "> * **maxDepth:** máxima profundidad en cada uno de los algoritmos débiles (árboles de decisión) construidos.\n",
    "> * **maxIter:** número máximo de árboles de decisión (algoritmos débiles) construidos."
   ]
  },
  {
   "cell_type": "markdown",
   "metadata": {},
   "source": [
    "* **Validación cruzada con 3 pliegues para encontrar el mejor modelo posible**"
   ]
  },
  {
   "cell_type": "code",
   "execution_count": 244,
   "metadata": {},
   "outputs": [
    {
     "name": "stdout",
     "output_type": "stream",
     "text": [
      "Error RMSLE: 0.18445401385618412\n",
      "Error RMSLE: 0.17259923194439017\n",
      "Error RMSLE: 0.1700116020658515\n",
      "Error RMSLE: 0.17781391740455849\n",
      "Error RMSLE: 0.17609236097096148\n",
      "Error RMSLE: 0.18529221123846795\n",
      "Error RMSLE: 0.19848513109259547\n",
      "Error RMSLE: 0.18607889694658683\n",
      "Error RMSLE: 0.1870952851930872\n",
      "Error RMSLE: 0.2038475728474268\n",
      "Error RMSLE: 0.19715367945315232\n",
      "Error RMSLE: 0.1998699670892436\n",
      "Error RMSLE: 0.21687616787655967\n",
      "Error RMSLE: 0.1999373715517741\n",
      "Error RMSLE: 0.19687489505189773\n",
      "Error RMSLE: 0.21326759830813877\n",
      "Error RMSLE: 0.2082757426223654\n",
      "Error RMSLE: 0.2059834219222755\n"
     ]
    }
   ],
   "source": [
    "crossval_gbt = CrossValidator(estimator = gbt,\n",
    "                              estimatorParamMaps = paramGrid,\n",
    "                              evaluator = Evaluator_RMSLE(),\n",
    "                              numFolds = 3, \n",
    "                              seed = global_seed) \n",
    "\n",
    "gbt_cv_model = crossval_gbt.fit(train_X)"
   ]
  },
  {
   "cell_type": "markdown",
   "metadata": {},
   "source": [
    "> Guradamos el modelo para usarlo en futuros cálculos así como para no cargar el modelo cada vez que abramos el notebook debido a su elevado tiempo de ejecución:"
   ]
  },
  {
   "cell_type": "code",
   "execution_count": 245,
   "metadata": {},
   "outputs": [],
   "source": [
    "best_model_gbt_cv = gbt_cv_model.bestModel\n",
    "best_model_gbt_cv.save('models/best_model_gbt_cv')"
   ]
  },
  {
   "cell_type": "markdown",
   "metadata": {},
   "source": [
    "* Analizamos el rendimiento obtenido de cada modelo promediando el error alcanzando en cada uno de los pliegues:"
   ]
  },
  {
   "cell_type": "code",
   "execution_count": 246,
   "metadata": {},
   "outputs": [
    {
     "data": {
      "text/plain": [
       "[0.19993843760844643,\n",
       " 0.18620516681425037,\n",
       " 0.18466059410361213,\n",
       " 0.19830969618670802,\n",
       " 0.1938405943488264,\n",
       " 0.19704853341666234]"
      ]
     },
     "execution_count": 246,
     "metadata": {},
     "output_type": "execute_result"
    }
   ],
   "source": [
    "gbt_cv_model.avgMetrics"
   ]
  },
  {
   "cell_type": "markdown",
   "metadata": {},
   "source": [
    "> Obtenemos ahora qué parámetros de la rejilla de búsqueda definen a cada modelo, así como su score alcanzado (error obtenido sobre el conjunto de entrenamiento del modelo generado con dicha combinación de parámetros):"
   ]
  },
  {
   "cell_type": "code",
   "execution_count": 247,
   "metadata": {},
   "outputs": [],
   "source": [
    "par_gbt = gbt_cv_model.getEstimatorParamMaps()"
   ]
  },
  {
   "cell_type": "code",
   "execution_count": 248,
   "metadata": {},
   "outputs": [
    {
     "data": {
      "text/plain": [
       "[{'maxDepth': 4, 'stepSize': 0.01},\n",
       " {'maxDepth': 4, 'stepSize': 0.05},\n",
       " {'maxDepth': 4, 'stepSize': 0.1},\n",
       " {'maxDepth': 5, 'stepSize': 0.01},\n",
       " {'maxDepth': 5, 'stepSize': 0.05},\n",
       " {'maxDepth': 5, 'stepSize': 0.1}]"
      ]
     },
     "execution_count": 248,
     "metadata": {},
     "output_type": "execute_result"
    }
   ],
   "source": [
    "lpar_gbt = [{par.name: value for par, value in par_comb.items()} for par_comb in par_gbt]\n",
    "lpar_gbt"
   ]
  },
  {
   "cell_type": "code",
   "execution_count": 249,
   "metadata": {},
   "outputs": [
    {
     "data": {
      "text/html": [
       "<div>\n",
       "<style scoped>\n",
       "    .dataframe tbody tr th:only-of-type {\n",
       "        vertical-align: middle;\n",
       "    }\n",
       "\n",
       "    .dataframe tbody tr th {\n",
       "        vertical-align: top;\n",
       "    }\n",
       "\n",
       "    .dataframe thead th {\n",
       "        text-align: right;\n",
       "    }\n",
       "</style>\n",
       "<table border=\"1\" class=\"dataframe\">\n",
       "  <thead>\n",
       "    <tr style=\"text-align: right;\">\n",
       "      <th></th>\n",
       "      <th>maxDepth</th>\n",
       "      <th>stepSize</th>\n",
       "      <th>score</th>\n",
       "    </tr>\n",
       "  </thead>\n",
       "  <tbody>\n",
       "    <tr>\n",
       "      <th>0</th>\n",
       "      <td>4</td>\n",
       "      <td>0.01</td>\n",
       "      <td>0.199938</td>\n",
       "    </tr>\n",
       "    <tr>\n",
       "      <th>3</th>\n",
       "      <td>5</td>\n",
       "      <td>0.01</td>\n",
       "      <td>0.198310</td>\n",
       "    </tr>\n",
       "    <tr>\n",
       "      <th>5</th>\n",
       "      <td>5</td>\n",
       "      <td>0.10</td>\n",
       "      <td>0.197049</td>\n",
       "    </tr>\n",
       "    <tr>\n",
       "      <th>4</th>\n",
       "      <td>5</td>\n",
       "      <td>0.05</td>\n",
       "      <td>0.193841</td>\n",
       "    </tr>\n",
       "    <tr>\n",
       "      <th>1</th>\n",
       "      <td>4</td>\n",
       "      <td>0.05</td>\n",
       "      <td>0.186205</td>\n",
       "    </tr>\n",
       "    <tr>\n",
       "      <th>2</th>\n",
       "      <td>4</td>\n",
       "      <td>0.10</td>\n",
       "      <td>0.184661</td>\n",
       "    </tr>\n",
       "  </tbody>\n",
       "</table>\n",
       "</div>"
      ],
      "text/plain": [
       "   maxDepth  stepSize     score\n",
       "0         4      0.01  0.199938\n",
       "3         5      0.01  0.198310\n",
       "5         5      0.10  0.197049\n",
       "4         5      0.05  0.193841\n",
       "1         4      0.05  0.186205\n",
       "2         4      0.10  0.184661"
      ]
     },
     "execution_count": 249,
     "metadata": {},
     "output_type": "execute_result"
    }
   ],
   "source": [
    "pars_gbt_cv = pd.DataFrame(lpar_gbt)\n",
    "pars_gbt_cv['score'] = gbt_cv_model.avgMetrics\n",
    "pars_gbt_cv.sort_values(by='score', ascending=False)"
   ]
  },
  {
   "cell_type": "markdown",
   "metadata": {},
   "source": [
    "> **Conclusión:** obtenemos así que el modelo que alcanza un menor error RMSLE por validación cruzada es aquel cuyos parámetros **maxDepth** y **stepSize** son $4$ y $0.1$ respectivamente."
   ]
  },
  {
   "cell_type": "markdown",
   "metadata": {},
   "source": [
    "* **Importancia de variables del mejor modelo tras la optimización**"
   ]
  },
  {
   "cell_type": "code",
   "execution_count": 250,
   "metadata": {},
   "outputs": [
    {
     "data": {
      "text/plain": [
       "SparseVector(7, {0: 0.2395, 1: 0.1924, 2: 0.0729, 3: 0.0264, 4: 0.1807, 5: 0.0221, 6: 0.266})"
      ]
     },
     "execution_count": 250,
     "metadata": {},
     "output_type": "execute_result"
    }
   ],
   "source": [
    "best_model_gbt_cv.featureImportances"
   ]
  },
  {
   "cell_type": "code",
   "execution_count": 251,
   "metadata": {},
   "outputs": [
    {
     "data": {
      "image/png": "[encoded data removed]",
      "text/plain": [
       "<Figure size 432x288 with 1 Axes>"
      ]
     },
     "metadata": {
      "needs_background": "light"
     },
     "output_type": "display_data"
    }
   ],
   "source": [
    "gbt_importance = pd.DataFrame({'features': selected_features, \n",
    "                               'importance_gbt': best_model_gbt_cv.featureImportances.toArray()})\n",
    "gbt_importance.sort_values(by='importance_gbt', ascending=False)\n",
    "\n",
    "plt.bar(range(len(gbt_importance.features)), gbt_importance.importance_gbt, color=\"red\")\n",
    "plt.xticks(range(len(gbt_importance.features)), gbt_importance.features, rotation = 90)\n",
    "plt.title('Importancia de las variables en la construcción del modelo')\n",
    "plt.show()"
   ]
  },
  {
   "cell_type": "markdown",
   "metadata": {},
   "source": [
    "> * Comparamos la importancia de variables obtenida usando los diferentes modelos construidos"
   ]
  },
  {
   "cell_type": "code",
   "execution_count": 252,
   "metadata": {},
   "outputs": [
    {
     "data": {
      "text/html": [
       "<div>\n",
       "<style scoped>\n",
       "    .dataframe tbody tr th:only-of-type {\n",
       "        vertical-align: middle;\n",
       "    }\n",
       "\n",
       "    .dataframe tbody tr th {\n",
       "        vertical-align: top;\n",
       "    }\n",
       "\n",
       "    .dataframe thead th {\n",
       "        text-align: right;\n",
       "    }\n",
       "</style>\n",
       "<table border=\"1\" class=\"dataframe\">\n",
       "  <thead>\n",
       "    <tr style=\"text-align: right;\">\n",
       "      <th></th>\n",
       "      <th>features</th>\n",
       "      <th>importance_rf</th>\n",
       "      <th>importance_rf_cv</th>\n",
       "      <th>importance_gbt</th>\n",
       "    </tr>\n",
       "  </thead>\n",
       "  <tbody>\n",
       "    <tr>\n",
       "      <th>0</th>\n",
       "      <td>TotalSF</td>\n",
       "      <td>0.312534</td>\n",
       "      <td>0.322561</td>\n",
       "      <td>0.239459</td>\n",
       "    </tr>\n",
       "    <tr>\n",
       "      <th>1</th>\n",
       "      <td>OverallQual</td>\n",
       "      <td>0.329740</td>\n",
       "      <td>0.309219</td>\n",
       "      <td>0.192353</td>\n",
       "    </tr>\n",
       "    <tr>\n",
       "      <th>2</th>\n",
       "      <td>GarageCars</td>\n",
       "      <td>0.144580</td>\n",
       "      <td>0.130210</td>\n",
       "      <td>0.072859</td>\n",
       "    </tr>\n",
       "    <tr>\n",
       "      <th>3</th>\n",
       "      <td>TotalBath</td>\n",
       "      <td>0.062467</td>\n",
       "      <td>0.078297</td>\n",
       "      <td>0.180723</td>\n",
       "    </tr>\n",
       "    <tr>\n",
       "      <th>4</th>\n",
       "      <td>ExterQual_oneHot_TA</td>\n",
       "      <td>0.060705</td>\n",
       "      <td>0.068397</td>\n",
       "      <td>0.022114</td>\n",
       "    </tr>\n",
       "    <tr>\n",
       "      <th>5</th>\n",
       "      <td>GarageYrBlt</td>\n",
       "      <td>0.046186</td>\n",
       "      <td>0.054520</td>\n",
       "      <td>0.266047</td>\n",
       "    </tr>\n",
       "    <tr>\n",
       "      <th>6</th>\n",
       "      <td>BsmtQual_oneHot_Ex</td>\n",
       "      <td>0.043788</td>\n",
       "      <td>0.036795</td>\n",
       "      <td>0.026444</td>\n",
       "    </tr>\n",
       "  </tbody>\n",
       "</table>\n",
       "</div>"
      ],
      "text/plain": [
       "              features  importance_rf  importance_rf_cv  importance_gbt\n",
       "0              TotalSF       0.312534          0.322561        0.239459\n",
       "1          OverallQual       0.329740          0.309219        0.192353\n",
       "2           GarageCars       0.144580          0.130210        0.072859\n",
       "3            TotalBath       0.062467          0.078297        0.180723\n",
       "4  ExterQual_oneHot_TA       0.060705          0.068397        0.022114\n",
       "5          GarageYrBlt       0.046186          0.054520        0.266047\n",
       "6   BsmtQual_oneHot_Ex       0.043788          0.036795        0.026444"
      ]
     },
     "execution_count": 252,
     "metadata": {},
     "output_type": "execute_result"
    }
   ],
   "source": [
    "table_importance_rf = pd.merge(rf_importance, rf_cv_importance, on='features') \\\n",
    "                        .sort_values(by='importance_rf_cv', ascending=False)\n",
    "\n",
    "pd.merge(table_importance_rf, gbt_importance, on='features')"
   ]
  },
  {
   "cell_type": "markdown",
   "metadata": {},
   "source": [
    "* **Predicciones y evaluación del rendimiento del mejor modelo encontrado en el conjunto de validación**"
   ]
  },
  {
   "cell_type": "code",
   "execution_count": 253,
   "metadata": {},
   "outputs": [
    {
     "name": "stdout",
     "output_type": "stream",
     "text": [
      "Error RMSLE: 0.16483759994467906\n"
     ]
    }
   ],
   "source": [
    "gbt_cv_predict = best_model_gbt_cv.transform(train_Y)\n",
    "rmse_gbt_cv = evaluator.evaluate(gbt_cv_predict)"
   ]
  },
  {
   "cell_type": "code",
   "execution_count": 263,
   "metadata": {},
   "outputs": [],
   "source": [
    "loadModelGBT = GBTRegressionModel.load('models/best_model_gbt_cv')"
   ]
  },
  {
   "cell_type": "code",
   "execution_count": 264,
   "metadata": {},
   "outputs": [
    {
     "name": "stdout",
     "output_type": "stream",
     "text": [
      "+------------------+---------------------+\n",
      "|        prediction|prediction_after_save|\n",
      "+------------------+---------------------+\n",
      "|124954.83465152358|   124954.83465152358|\n",
      "| 120869.3471099028|    120869.3471099028|\n",
      "| 130190.5046930335|    130190.5046930335|\n",
      "|147680.26249451592|   147680.26249451592|\n",
      "|152175.25713880718|   152175.25713880718|\n",
      "+------------------+---------------------+\n",
      "only showing top 5 rows\n",
      "\n"
     ]
    }
   ],
   "source": [
    "prueba_gbt_cv_predict = loadModelGBT.transform(train_Y)\n",
    "prueba_gbt_cv_predict = prueba_gbt_cv_predict.withColumnRenamed(\"prediction\", \"prediction_after_save\")\n",
    "gbt_cv_predict.join(prueba_gbt_cv_predict, on=['atributos']).select(['prediction', 'prediction_after_save']).show(5)"
   ]
  },
  {
   "cell_type": "markdown",
   "metadata": {},
   "source": [
    "> Observamos que el proceso de extracción y lectura del modelo generado y, posteriormente, realizar las predicciones ha sido correcto."
   ]
  },
  {
   "cell_type": "markdown",
   "metadata": {},
   "source": [
    "* Finalmente, obtenemos el **score** obtenido por cada modelo y lo representamos por medio de un diccionario y un dataframe"
   ]
  },
  {
   "cell_type": "code",
   "execution_count": 254,
   "metadata": {},
   "outputs": [
    {
     "data": {
      "text/plain": [
       "{'rl': 0.17784238890850584,\n",
       " 'rl_cv': 0.1778420454879219,\n",
       " 'rf': 0.16423058984152378,\n",
       " 'rf_cv': 0.15839426415339303,\n",
       " 'gbt_cv': 0.16483759994467906}"
      ]
     },
     "execution_count": 254,
     "metadata": {},
     "output_type": "execute_result"
    }
   ],
   "source": [
    "result_rmse['gbt_cv'] = rmse_gbt_cv\n",
    "result_rmse"
   ]
  },
  {
   "cell_type": "code",
   "execution_count": 280,
   "metadata": {},
   "outputs": [
    {
     "data": {
      "text/html": [
       "<div>\n",
       "<style scoped>\n",
       "    .dataframe tbody tr th:only-of-type {\n",
       "        vertical-align: middle;\n",
       "    }\n",
       "\n",
       "    .dataframe tbody tr th {\n",
       "        vertical-align: top;\n",
       "    }\n",
       "\n",
       "    .dataframe thead th {\n",
       "        text-align: right;\n",
       "    }\n",
       "</style>\n",
       "<table border=\"1\" class=\"dataframe\">\n",
       "  <thead>\n",
       "    <tr style=\"text-align: right;\">\n",
       "      <th></th>\n",
       "      <th>Error RMSLE</th>\n",
       "    </tr>\n",
       "  </thead>\n",
       "  <tbody>\n",
       "    <tr>\n",
       "      <th>Random Forest Cross-Validation</th>\n",
       "      <td>0.158394</td>\n",
       "    </tr>\n",
       "    <tr>\n",
       "      <th>Random Forest</th>\n",
       "      <td>0.164231</td>\n",
       "    </tr>\n",
       "    <tr>\n",
       "      <th>Gradient Boosting Trees Cross-Validation</th>\n",
       "      <td>0.164838</td>\n",
       "    </tr>\n",
       "    <tr>\n",
       "      <th>Logistic Regression Cross-Validation</th>\n",
       "      <td>0.177842</td>\n",
       "    </tr>\n",
       "    <tr>\n",
       "      <th>Logistic Regression</th>\n",
       "      <td>0.177842</td>\n",
       "    </tr>\n",
       "  </tbody>\n",
       "</table>\n",
       "</div>"
      ],
      "text/plain": [
       "                                          Error RMSLE\n",
       "Random Forest Cross-Validation               0.158394\n",
       "Random Forest                                0.164231\n",
       "Gradient Boosting Trees Cross-Validation     0.164838\n",
       "Logistic Regression Cross-Validation         0.177842\n",
       "Logistic Regression                          0.177842"
      ]
     },
     "execution_count": 280,
     "metadata": {},
     "output_type": "execute_result"
    }
   ],
   "source": [
    "result_df = pd.DataFrame.from_dict(result_rmse, orient='index', columns=['Error RMSLE']) \\\n",
    "                .sort_values(by='Error RMSLE', ascending=True)\n",
    "\n",
    "result_df.index = ['Random Forest Cross-Validation', \n",
    "                   'Random Forest', \n",
    "                   'Gradient Boosting Trees Cross-Validation', \n",
    "                   'Logistic Regression Cross-Validation',\n",
    "                   'Logistic Regression'] \n",
    "\n",
    "result_df"
   ]
  },
  {
   "cell_type": "markdown",
   "metadata": {},
   "source": [
    "> Una vez almacenado todos los resultados, nos disponemos a realizar las predicciones. Para ello, nos quedaremos con el modelo que alcanza un error más bajo: **Random Forest con ajuste de hiperparámetros**."
   ]
  },
  {
   "cell_type": "code",
   "execution_count": 255,
   "metadata": {},
   "outputs": [],
   "source": [
    "best_model = best_model_rf_cv"
   ]
  },
  {
   "cell_type": "markdown",
   "metadata": {},
   "source": [
    "## Predicciones sobre el conjunto test"
   ]
  },
  {
   "cell_type": "code",
   "execution_count": 256,
   "metadata": {},
   "outputs": [
    {
     "name": "stdout",
     "output_type": "stream",
     "text": [
      "+--------------------+------+------------------+\n",
      "|           atributos|target|        prediction|\n",
      "+--------------------+------+------------------+\n",
      "|[-0.4369506255529...|  null|142366.43663749236|\n",
      "|[-0.8908796191521...|  null| 136854.9827023929|\n",
      "|[-0.0183136984802...|  null|172178.42500981764|\n",
      "|[-0.9943218831091...|  null|  102163.377206265|\n",
      "|[-1.3107335140361...|  null| 128473.3712794943|\n",
      "+--------------------+------+------------------+\n",
      "only showing top 5 rows\n",
      "\n"
     ]
    }
   ],
   "source": [
    "predicciones = best_model.transform(df_test)\n",
    "predicciones.show(5)"
   ]
  },
  {
   "cell_type": "markdown",
   "metadata": {},
   "source": [
    "* Guardamos el resultado en un fichero .csv:"
   ]
  },
  {
   "cell_type": "code",
   "execution_count": 257,
   "metadata": {},
   "outputs": [],
   "source": [
    "predicciones.select(['prediction']).toPandas().to_csv('prediction_test.csv')"
   ]
  },
  {
   "cell_type": "code",
   "execution_count": null,
   "metadata": {},
   "outputs": [],
   "source": [
    "#spark.stop()"
   ]
  }
 ],
 "metadata": {
  "kernelspec": {
   "display_name": "Python 3",
   "language": "python",
   "name": "python3"
  },
  "language_info": {
   "codemirror_mode": {
    "name": "ipython",
    "version": 3
   },
   "file_extension": ".py",
   "mimetype": "text/x-python",
   "name": "python",
   "nbconvert_exporter": "python",
   "pygments_lexer": "ipython3",
   "version": "3.7.3"
  },
  "toc": {
   "base_numbering": 1,
   "nav_menu": {},
   "number_sections": true,
   "sideBar": true,
   "skip_h1_title": false,
   "title_cell": "Table of Contents",
   "title_sidebar": "Contents",
   "toc_cell": false,
   "toc_position": {},
   "toc_section_display": true,
   "toc_window_display": false
  },
  "varInspector": {
   "cols": {
    "lenName": 16,
    "lenType": 16,
    "lenVar": 40
   },
   "kernels_config": {
    "python": {
     "delete_cmd_postfix": "",
     "delete_cmd_prefix": "del ",
     "library": "var_list.py",
     "varRefreshCmd": "print(var_dic_list())"
    },
    "r": {
     "delete_cmd_postfix": ") ",
     "delete_cmd_prefix": "rm(",
     "library": "var_list.r",
     "varRefreshCmd": "cat(var_dic_list()) "
    }
   },
   "types_to_exclude": [
    "module",
    "function",
    "builtin_function_or_method",
    "instance",
    "_Feature"
   ],
   "window_display": false
  }
 },
 "nbformat": 4,
 "nbformat_minor": 2
}
