{
 "cells": [
  {
   "cell_type": "markdown",
   "metadata": {
    "colab_type": "text",
    "id": "X6IcVJeYMD4p"
   },
   "source": [
    "---\n",
    "# Práctica Deep Learning - Clasificación de imágenes\n",
    "---\n",
    "\n",
    "A lo largo de este trabajo abordaremos el problema de clasificar imágenes usando redes neuronales, más concretamente, redes convolucionales.\n",
    "\n",
    "---\n",
    "# Datos\n",
    "---\n",
    "\n",
    "Para la realización de este trabajo se usará el conjunto de datos [Fashion MNIST](https://github.com/zalandoresearch/fashion-mnist). Se trata de un conjunto de datos con imágenes de articulos de la tienda Zalando. Se compone de 60.000 muestras y un test de 10.000 muestras. Cada muestra es una imagen 28x28 en escala de grises asociada con una de las 10 posibles clases. Este conjunto de datos reemplaza al clásido MNIST para problemas de machine learning. \n",
    "\n",
    "<img src='fashion-mnist-sprite.png' width=50% />\n",
    "\n",
    "**MNIST** es el primer conjunto de datos que los investigadores suelen usar. Se dice que \"si no funciona con MNIST, no funcionará con nada\" y \"que funcione con MNIST no implica que funcione con otros\".\n",
    "\n",
    "Algunas de las razones por las que se quiere reemplazar al clásico MNIST:\n",
    "\n",
    "   - MNIST es muy fácil. Las redes convoucionales alcanzan un 99.7% de presición. Técnicas clásicas de machine learning pueden llegar al 97% fácilmente. En realidad, la mayoría de los dígitos de MNIST se pueden diferenciar bastante bien solamente usando un pixel.\n",
    "\n",
    "<img src='one_pixel.png' width=50% />\n",
    "  \n",
    "   - MNIST está sobreusado. En abril de 2007, investigadores de Google Brain e Ian Goodfellow sugirieron a los investigadores dejar de usar MNIST.\n",
    "   - MNIST no representa a las tareas actuales de visión artificial como dijo François Chollet (creador de Keras e investigador de Google).\n",
    "   \n",
    "<img src='chollet.png' width=50% />\n",
    "\n",
    "\n",
    "## Lectura de los datos\n",
    "---\n",
    "\n",
    "```\n",
    "import tensorflow as tf\n",
    "(x_train, y_train), (x_test, y_test) =  tf.keras.datasets.fashion_mnist.load_data()\n",
    "```\n",
    "\n",
    "---\n",
    "# Objetivos\n",
    "---\n",
    "\n",
    "Crear una red neuronal para predecir la clase correspondiente de cada muestra.\n",
    "\n",
    "Para ello:\n",
    "\n",
    "* Utilizaremos disferentes estructuras de redes.\n",
    "* Aplicaremos distintas técnicas de regularización.\n",
    "* Data Augmentation\n",
    "* Uso de técnicas de transfer learning.\n",
    "   \n",
    "---\n",
    "# Librerías de uso\n",
    "---\n",
    "\n",
    "Para la realización del trabajo se usarán principamente las librerías de `keras`, `pandas` y `numpy`."
   ]
  },
  {
   "cell_type": "code",
   "execution_count": 0,
   "metadata": {
    "colab": {},
    "colab_type": "code",
    "id": "Ylc4YKW2MD4v"
   },
   "outputs": [],
   "source": [
    "import tensorflow as tf\n",
    "import keras\n",
    "import numpy as np\n",
    "import pandas as pd\n",
    "import matplotlib.pyplot as plt\n",
    "import seaborn as sns\n",
    "from sklearn import metrics\n",
    "from sklearn.metrics import precision_recall_curve\n",
    "from sklearn.metrics import roc_auc_score\n",
    "\n",
    "from random import sample, seed\n",
    "from keras.models import Sequential, Model\n",
    "from keras.layers import Dense,Flatten, Activation, BatchNormalization\n",
    "from keras.layers import Conv2D, MaxPooling2D, Dropout\n",
    "from keras.optimizers import Adam, rmsprop\n",
    "from keras.utils import to_categorical\n",
    "from keras.preprocessing.image import ImageDataGenerator\n",
    "from keras.callbacks import EarlyStopping, ReduceLROnPlateau\n",
    "from keras.applications import VGG16\n",
    "from keras.utils.vis_utils import plot_model\n",
    "from keras.applications.vgg19 import preprocess_input\n",
    "from keras.preprocessing.image import img_to_array, array_to_img\n",
    "from keras.layers.advanced_activations import LeakyReLU\n",
    "\n",
    "import warnings\n",
    "warnings.filterwarnings(\"ignore\")"
   ]
  },
  {
   "cell_type": "markdown",
   "metadata": {
    "colab_type": "text",
    "id": "0NULLeicMD59"
   },
   "source": [
    "---\n",
    "\n",
    "## Conjunto de datos Fashion MNIST\n",
    "---\n",
    "Se trata de un conjunto de datos con imágenes de articulos de la tienda Zalando. Se compone de 60.000 muestras y un test de 10.000 muestras. Cada muestra es una imagen 28x28 en escala de grises asociada con 10 posibles clases.\n",
    "\n",
    "Las clases o etiquetas vienen dadas por una matriz de enteros, que van de 0 a 9. Estas, que mostraremos a continuación,  corresponden a la clase de vestimenta que representa la imagen.\n",
    "\n",
    "\n",
    "| Etiqueta | Descripción |\n",
    "| --- | --- |\n",
    "| 0 | Camiseta/top |\n",
    "| 1 | Pantalón|\n",
    "| 2 |Jersey|\n",
    "| 3 |Vestido|\n",
    "| 4 | Chaqueta|\n",
    "| 5 | Sandalia |\n",
    "| 6 | Camisa |\n",
    "| 7 | Zapatilla de deporte |\n",
    "| 8 | Bolso |\n",
    "| 9 | Botín|\n",
    "\n"
   ]
  },
  {
   "cell_type": "code",
   "execution_count": 0,
   "metadata": {
    "colab": {},
    "colab_type": "code",
    "id": "ibm9nSDAMD6B"
   },
   "outputs": [],
   "source": [
    "(x_train, y_train), (x_test, y_test) =  tf.keras.datasets.fashion_mnist.load_data()"
   ]
  },
  {
   "cell_type": "markdown",
   "metadata": {
    "colab_type": "text",
    "id": "PiLs4n5_MD6a"
   },
   "source": [
    "---\n",
    "## Exploración de  datos\n",
    "---"
   ]
  },
  {
   "cell_type": "code",
   "execution_count": 23,
   "metadata": {
    "colab": {
     "base_uri": "https://localhost:8080/",
     "height": 69
    },
    "colab_type": "code",
    "id": "2D-g8OKYMD6e",
    "outputId": "586ece65-5f8e-47a4-e00e-f102b5ac5154"
   },
   "outputs": [
    {
     "name": "stdout",
     "output_type": "stream",
     "text": [
      "Número de muestras de: \n",
      "- Conjunto de entrenamiento:\t60000\n",
      "- Conjunto de evaluación:\t10000\n"
     ]
    }
   ],
   "source": [
    "print(\"Número de muestras de: \")\n",
    "print(\"- Conjunto de entrenamiento:\\t{}\".format(len(x_train)))\n",
    "print(\"- Conjunto de evaluación:\\t{}\".format(len(x_test)))"
   ]
  },
  {
   "cell_type": "markdown",
   "metadata": {
    "colab_type": "text",
    "id": "g6YbSMQiMD6t"
   },
   "source": [
    "Analizamos el primer registro de la muestra de aprendizaje. Como hemos dicho, se tratan de imágenes 28x28, luego cada imagen (registro) será una lista con 28 sublistas."
   ]
  },
  {
   "cell_type": "code",
   "execution_count": 24,
   "metadata": {
    "colab": {
     "base_uri": "https://localhost:8080/",
     "height": 52
    },
    "colab_type": "code",
    "id": "SU3z2127MD6x",
    "outputId": "68342b89-5af5-4290-8125-caddbd3e2bc0"
   },
   "outputs": [
    {
     "name": "stdout",
     "output_type": "stream",
     "text": [
      "Tamaño de cada imagen:  28\n"
     ]
    },
    {
     "data": {
      "text/plain": [
       "(60000, 28, 28)"
      ]
     },
     "execution_count": 24,
     "metadata": {
      "tags": []
     },
     "output_type": "execute_result"
    }
   ],
   "source": [
    "print(\"Tamaño de cada imagen: \", len(x_train[0]))\n",
    "\n",
    "x_train.shape"
   ]
  },
  {
   "cell_type": "markdown",
   "metadata": {
    "colab_type": "text",
    "id": "1gJ6FCzHMD69"
   },
   "source": [
    "Analizamos a continuación la variable respuesta (variable a predecir/clasificar):"
   ]
  },
  {
   "cell_type": "code",
   "execution_count": 25,
   "metadata": {
    "colab": {
     "base_uri": "https://localhost:8080/",
     "height": 298
    },
    "colab_type": "code",
    "id": "RuOmykJ8MD7B",
    "outputId": "7058bd1c-cc8f-4c93-ad6f-a9fb6b6dccba"
   },
   "outputs": [
    {
     "data": {
      "text/plain": [
       "Text(0.5, 1.0, 'Number of occurrences of predictive variable')"
      ]
     },
     "execution_count": 25,
     "metadata": {
      "tags": []
     },
     "output_type": "execute_result"
    },
    {
     "data": {
      "image/png": "[encoded data removed]",
      "text/plain": [
       "<Figure size 432x288 with 1 Axes>"
      ]
     },
     "metadata": {
      "tags": []
     },
     "output_type": "display_data"
    }
   ],
   "source": [
    "sns.countplot(y_train, palette=\"viridis\").set_title('Number of occurrences of predictive variable')"
   ]
  },
  {
   "cell_type": "markdown",
   "metadata": {
    "colab_type": "text",
    "id": "Aq-3vX2kMD7O"
   },
   "source": [
    "Observamos que en el conjunto de entrenamiento, cada una de las clases posibles de variable respuesta tiene el mismo número de registros.\n",
    "\n",
    "* A continuación mostraremos el **dibujo de algunas de las imágenes**:"
   ]
  },
  {
   "cell_type": "code",
   "execution_count": 26,
   "metadata": {
    "colab": {
     "base_uri": "https://localhost:8080/",
     "height": 731
    },
    "colab_type": "code",
    "id": "gune_wrHMD7S",
    "outputId": "4976d01a-9d35-49ad-9f49-b93600d40220"
   },
   "outputs": [
    {
     "data": {
      "image/png": "[encoded data removed]",
      "text/plain": [
       "<Figure size 504x504 with 25 Axes>"
      ]
     },
     "metadata": {
      "tags": []
     },
     "output_type": "display_data"
    },
    {
     "data": {
      "image/png": "[encoded data removed]",
      "text/plain": [
       "<Figure size 720x1440 with 1 Axes>"
      ]
     },
     "metadata": {
      "tags": []
     },
     "output_type": "display_data"
    }
   ],
   "source": [
    "fig = plt.figure(figsize = (7,7))\n",
    "for i in range(25):\n",
    "    fig.add_subplot(5, 5, (i+1), xticks=[], yticks=[])\n",
    "    plt.imshow(x_train[i])\n",
    "plt.savefig('img_MNIST.jpg')\n",
    "\n",
    "conj = np.zeros((280,560),dtype='uint8')\n",
    "for i in range(10):\n",
    "    idx = np.where(x_test == i)[0]\n",
    "    for j in range(20):\n",
    "        conj[28*i:28*(i+1),28*j:28*(j+1)] = x_train[idx[j]]\n",
    "\n",
    "fig = plt.figure(figsize=(10,20))\n",
    "imgs = plt.imshow(conj)\n",
    "plt.savefig('img_MNIST_2.jpg')"
   ]
  },
  {
   "cell_type": "markdown",
   "metadata": {
    "colab_type": "text",
    "id": "l1yOZvn6MD7d"
   },
   "source": [
    "---\n",
    "## Preprocesamiento de los datos\n",
    "---\n",
    "\n",
    "A lo largo de este trabajo trabajaremos con dos tipos de redes neuronales: **redes neuronales artificiales** y **redes neuronales convolucionales**. Al tratarse de dos tipos de redes diferentes con propiedades y características dispares, la forma del dato de entrada (imagen) también es distinta. \n",
    "\n",
    "Por ejemplo, una red convolucional toma como dato de entrada un tensor de la forma `(image_height, image_width, image_channels)`. En este caso, para ajustarse a las características de las imágenes de MNIST, será (28, 28, 1),  ya que usaremos un solo canal (gris) en las imágenes. Por otro lado, las redes neuronales artificiales deben recibir como dato de entrada cada imagen de forma aplanada, i.e, como un vector de 28x28 = 784 posiciones.\n",
    "\n",
    "Además, aprovecharemos en ambas definiciones para normalizar el contenido de estas imágenes, están en escalas de grises con valores uint8 entre 0 y 255, y las pasaremos a valores float32 en  [0,1]), algo aconsejable cuando se trabaja con este tipo de modelos."
   ]
  },
  {
   "cell_type": "code",
   "execution_count": 0,
   "metadata": {
    "colab": {},
    "colab_type": "code",
    "id": "-mxbKoa1MD7h"
   },
   "outputs": [],
   "source": [
    "x_train_ANN = x_train.reshape((60000, 28*28))\n",
    "x_train_ANN = x_train_ANN.astype('float32') / 255\n",
    "\n",
    "x_test_ANN = x_test.reshape((10000, 28*28))\n",
    "x_test_ANN = x_test_ANN.astype('float32') / 255\n",
    "\n",
    "x_train_CNN = x_train.reshape((60000, 28, 28, 1))\n",
    "x_train_CNN = x_train_CNN.astype('float32') / 255\n",
    "\n",
    "x_test_CNN = x_test.reshape((10000, 28, 28, 1))\n",
    "x_test_CNN = x_test_CNN.astype('float32') / 255"
   ]
  },
  {
   "cell_type": "code",
   "execution_count": 28,
   "metadata": {
    "colab": {
     "base_uri": "https://localhost:8080/",
     "height": 69
    },
    "colab_type": "code",
    "id": "rrmkq3ubMD7t",
    "outputId": "3a5a4e79-ddb6-4fff-b370-14a5c4707bb3"
   },
   "outputs": [
    {
     "name": "stdout",
     "output_type": "stream",
     "text": [
      "Tamaño del conjunto de entrenamiento: \n",
      "- Redes neuronales artificiales:  (60000, 784)\n",
      "- Redes neuronales convolucionales:  (60000, 28, 28, 1)\n"
     ]
    }
   ],
   "source": [
    "print(\"Tamaño del conjunto de entrenamiento: \")\n",
    "print(\"- Redes neuronales artificiales: \", x_train_ANN.shape)\n",
    "print(\"- Redes neuronales convolucionales: \", x_train_CNN.shape)"
   ]
  },
  {
   "cell_type": "markdown",
   "metadata": {
    "colab_type": "text",
    "id": "9WeUzCKtMD76"
   },
   "source": [
    "Además, vamos a convertir las etiquetas (que vienen en el dataset como valores enteros), en vectores binarios para que se correspondan con la salida que nuestra red puede proporcionar. Para ello haremos uso de la función `.to_categorical()` puesto que Keras necesita que todas las etiquetas sean codificadas de forma numérica, lo que significa que hemos de añadir una columna numérica a cada muestra para representar la clase a la que pertenece de forma binaria (es lo que se llama **_one-hot-encoding_**):"
   ]
  },
  {
   "cell_type": "code",
   "execution_count": 0,
   "metadata": {
    "colab": {},
    "colab_type": "code",
    "id": "_3dn31tcMD7-"
   },
   "outputs": [],
   "source": [
    "y_train = to_categorical(y_train)\n",
    "y_test = to_categorical(y_test)"
   ]
  },
  {
   "cell_type": "markdown",
   "metadata": {
    "colab_type": "text",
    "id": "a0yZd56NMD8J"
   },
   "source": [
    "---\n",
    "## Construcción de modelos\n",
    "---\n",
    "\n",
    "---\n",
    "### Redes Neuronales Artificiales (ANN)\n",
    "---\n",
    "\n",
    "\n",
    "Las Redes Neuronales Artificiales están inspiradas en **imitar el funcionamiento de las redes neuronales de los organismos vivos**: un conjunto de neuronas conectadas entre sí y que trabajan en conjunto, sin que haya una tarea concreta para cada una. Con la experiencia, las neuronas van creando y reforzando ciertas conexiones para _aprender_ algo que se queda fijo en el tejido.\n",
    "\n",
    " Están basadas en una idea sencilla: dados unos parámetros, hay una forma de combinarlos para predecir un cierto resultado. Por ejemplo, sabiendo los píxeles de una imagen habrá una forma de saber qué número hay escrito, o conociendo la carga de servidores de un Centro de Procesamiento de Datos (CPD), su temperatura y demás, existirá una manera de saber cuánto van a consumir, como hacía Google. El problema recae en **cómo combinar dichos parámetros**.\n",
    "\n",
    "Por lo tanto, las redes neuronales son un modelo para encontrar esa combinación de parámetros y aplicarla al mismo tiempo. En el lenguaje propio, encontrar la combinación que mejor se ajusta es _entrenar_ la red neuronal y ésta podría ser usada posteriormente para hacer prediciones o clasificaciones, es decir, para _aplicar_ la combinación. \n",
    "\n",
    "La unidad fundamental de la red neuronal es el llamado **perceptrón**. Un perceptrón es un elemento que tiene varias entradas con un cierto _peso_ cada una. Si la suma de esas entradas por cada peso es mayor que un determinado número, la salida del perceptrón es un uno, mientras que si es menor, la salida es un cero. De esta forma, los pesos son los parámetros que debemos encontrar  con el entrenamiento de manera que acabaremos encontrando los pesos que se ajusten al resultado. \n",
    "\n",
    "* **Multiplicando la potencia : Redes multicapas**\n",
    "\n",
    "Como ya dijimos anteriormente, las redes neuronales eran un grupo de neuronas conectadas entre sí, de manera que dicha _conexión_ se logra añadiendo el concepto de **capas**.\n",
    "\n",
    "Las capas nos permiten añadir información que con el **perceptrón**  no se logra alcanzar. De esta forma, durante el proceso de aprendizaje, cada capa _aprende_ a encontrar y detectar las características que mejor ayudan a clasificar los datos.\n",
    "\n",
    "Por lo tanto,  las Redes Neuronales Artificiales están formadas por una pila, normalmente ordenadas en forma de capas, de _neuronas_ de cálculo que permiten pasar y transformar un conjunto de datos de entrada (datos en forma de vector) en una salida deseada ( _modelo secuencial_ ). Estas unidades de cálculo elementales suelen, al menos en su forma más simple, tener una estructura simple que diferencia una etapa de _agregación de pesos_ y una etapa de _activación_.\n",
    "\n",
    "Así pues, una ANN vendrá dada por una asignación de _pesos_ en las conexiones que dan entrada a cada una de las neuronas, junto con la _función de activación_ que procesa la entrada ponderada y agregada antes de ser enviada a la siguiente capa (o a la salida).\n",
    "\n",
    "En general, el proceso de construcción de una red así pasa por decidir la arquitectura (topología) de distribución de nodos, los pesos asignados a las conexiones entre ellos, y la función de activación. Normalmente, se fijan la arquitectura y la función de activación, y se seleccionan los pesos adecuados para el objetivo por medio de un proceso de ajuste de parámetros que se denomina **aprendizaje** o **entrenamiento**.\n",
    "\n",
    "\n",
    "---\n",
    "\n",
    "\n",
    "\n",
    "\n",
    "\n",
    "\n",
    "\n",
    "\n"
   ]
  },
  {
   "cell_type": "markdown",
   "metadata": {
    "colab_type": "text",
    "id": "FfOAjWBoMD8N"
   },
   "source": [
    "> **Construcción de la red neuronal**\n",
    "\n",
    "---\n",
    "Explicamos a continuación el proceso de construcción de la red neuronal que posteriormente, implementaremos con código:\n",
    "\n",
    "Vamos a diseñar la arquitectura de nuestra red decidiendo el **número de capas** y las **funciones de activación**. De manera que, nuestra red estará formada por una secuencia de 4 capas *`tf.keras.layers.Dense`*. Estas capas son capas neuronales densamente conectadas o completamente conectadas.\n",
    "\n",
    "La primera capa (_capa de entrada)_, tiene 128 nodos (o neuronas). En ella, además del número de nodos, debemos especificar la dimensión de nuestros datos de entrada que, en nuestro caso, sería  de (784,) dado que hemos _aplanado_ las imágenes. La segunda y tercera capa (_capas ocultas_) poseen 128 y 64 nodos, respectivamente, y, la cuarta y última capa (_capa de salida_), consta de 10 nodos que devuelve una matriz de 10 puntuaciones de probabilidad que suman 1, de manera que cada nodo tiene asignado una puntuación que indica la probabilidad de que la imagen actual pertenezca a una de las 10 clases.\n",
    "\n",
    "Además del número de neuronas por cada capa, hemos de especificar las **funciones de activación** en cada una de ellas. Para ello, en la capa de entrada y las capas ocultas vamos a hacer uso de una función de activación **ReLU** definida como $R(z) = max(0,z)$. En otras palabras, las ReLUs permiten el paso de todos los valores positivos sin cambiarlos, pero sustituye todos los valores negativos por 0. \n",
    "\n",
    "Aunque existen funciones de activación aún más recientes, la mayoría de las redes neuronales de hoy utilizan ReLU o una de sus variantes.\n",
    "\n",
    "Finalmente, para la capa de salida, vamos a hacer uso de una función de activación **softmax** (_función exponencial normalizada_) que se usa como función de activación de salida para la clasificación multiclase pues escala las entradas precedentes de un rango entre 0 y 1 y normaliza la capa de salida, de modo que la suma de todas las neuronas de salida sea igual a 1.\n",
    "\n",
    "---\n"
   ]
  },
  {
   "cell_type": "code",
   "execution_count": 0,
   "metadata": {
    "colab": {},
    "colab_type": "code",
    "id": "uJA3FgMZMD8Q"
   },
   "outputs": [],
   "source": [
    "ANN = Sequential()\n",
    "\n",
    "ANN.add(Dense(128, activation='relu', input_shape=(28 * 28,)))\n",
    "ANN.add(Dense(128, activation = 'relu'))\n",
    "ANN.add(Dense(64, activation = 'relu'))\n",
    "ANN.add(Dense(10, activation = 'softmax'))"
   ]
  },
  {
   "cell_type": "code",
   "execution_count": 31,
   "metadata": {
    "colab": {
     "base_uri": "https://localhost:8080/",
     "height": 278
    },
    "colab_type": "code",
    "id": "s43Son9bMD8g",
    "outputId": "f723eafd-2598-4197-8712-40c2c9e72d7e"
   },
   "outputs": [
    {
     "name": "stdout",
     "output_type": "stream",
     "text": [
      "_________________________________________________________________\n",
      "Layer (type)                 Output Shape              Param #   \n",
      "=================================================================\n",
      "dense_9 (Dense)              (None, 128)               100480    \n",
      "_________________________________________________________________\n",
      "dense_10 (Dense)             (None, 128)               16512     \n",
      "_________________________________________________________________\n",
      "dense_11 (Dense)             (None, 64)                8256      \n",
      "_________________________________________________________________\n",
      "dense_12 (Dense)             (None, 10)                650       \n",
      "=================================================================\n",
      "Total params: 125,898\n",
      "Trainable params: 125,898\n",
      "Non-trainable params: 0\n",
      "_________________________________________________________________\n"
     ]
    }
   ],
   "source": [
    "ANN.summary()"
   ]
  },
  {
   "cell_type": "markdown",
   "metadata": {
    "colab_type": "text",
    "id": "nfAlXYadu3SQ"
   },
   "source": [
    "*  **Comentario acerca del número de parámetros en cada capa**\n",
    "--- \n",
    "\n",
    "La primera capa de la red es una capa densa (totalmente conectada). De entrada tenemos registros de características de tamaño 784 de manera que  cada  imagen se conecta totalmente con una capa densa de $128$ neuronas, por lo que tendremos 128 x 784 = 100352  parámetros. Ahora bien, cada neurona posee un parámetro de sesgo, por  lo que finalmente tendremos 100352 + 128 =  **100480 parámetros**\n",
    "\n",
    "En la segunda capa, de entrada tenemos 128 neuronas que se conectan con 128 neuronas, obteniendo así 128 x 128 = 8192 prámetos que aprender más un parámetro de sesgo por neurona que hacen los  **16512 parámetros**.\n",
    "\n",
    "La tercera capa es similar a la anterior salvo que las 128 neurona de entrada se conectan a  64 neuronas, por lo que aplicando el mismo procedimiento que en la anterior etapa, obtenemos un total de  **8256 parámetros**.\n",
    "\n",
    "La última capa posee 64 neuronas se conectan con 10 neuronas que hacen referencia a cada una de posibles clases de la variable objetivo, obteniendo así 640 parámetros que, más sus correspondientes sesgos, dan un total de **650 parámetros**."
   ]
  },
  {
   "cell_type": "markdown",
   "metadata": {
    "colab_type": "text",
    "id": "HG_hkXeHMD8n"
   },
   "source": [
    "\n",
    "\n",
    ">   **Compilación del modelo**\n",
    "---\n",
    "\n",
    "Una vez hayamos definido la estructura de la red, hemos de especificar información acerca de cómo se llevara a cabo el entrenamiento de la misma. Para ello, vamos a definir ciertas características adicionales tales como la función de pérdida, el optimizados y la métrica.\n",
    "\n",
    "La **función de pérdida**  mide la precición del modelo durante el entrenamiento de manera que nuestro objetivo sería minimizar esta función. En nuestro caso, vamos a hacer uso de la función de pérdida `categorical_corssentropy` que hace referencia a la _entropía cruzada_.\n",
    "\n",
    "Por otra parte, el **optimizador** mide cómo se actualiza el modelo y se basa en los datos y la función de pérdida. En nuestro caso, vamos a hacer uso del optimizador _Adam_ que se trata de una extensión del **descenso del gradiente estocástico**  y se ha demostrado que es efectivo y eficiente.\n",
    "\n",
    "Además, nos permite trabajar con el parámetro de la tasa de aprendizaje (_learning_rate_). Si es una tasa muy grande, el algoritmo aprende más rápido pero tendremos mayor imprecisión en el resultado y, por lo contrario, si es muy pequeña, tardará mucho y podría no finalizar nunca. En nuestro caso, vamos a tomar como valor del parámetro 0.0001.\n",
    "\n",
    "\n",
    "Finalmente, la **métrica** se encarga de medir cómo se comporta la red durante el entrenamiento. Para ello, vamos a usar la métrica _accuracy_ que determina la tasa de clasificación correcta de las predicciones.\n",
    "\n",
    "\n",
    "\n",
    "\n",
    "\n",
    "\n",
    "\n",
    "\n"
   ]
  },
  {
   "cell_type": "code",
   "execution_count": 0,
   "metadata": {
    "colab": {},
    "colab_type": "code",
    "id": "60uy3NBmMD8p"
   },
   "outputs": [],
   "source": [
    "opt = Adam(lr = 1e-4)\n",
    "\n",
    "ANN.compile(optimizer = opt,\n",
    "            loss = 'categorical_crossentropy',\n",
    "            metrics = ['accuracy'])"
   ]
  },
  {
   "cell_type": "markdown",
   "metadata": {
    "colab_type": "text",
    "id": "XCFiRngxNHZV"
   },
   "source": [
    "> **Entrenamiento de la red neuronal**\n",
    "---\n",
    "\n",
    "Una vez definida la estructura y compilada, ya podemos entrenar la red. Para ello vamos a hacer uso de la función `.fit()`.\n",
    "\n",
    "El entrenamiento de una red neuronal a menudo se encuentra relacionado con el concepto de _minibatching_. Este concepto se refiere a enseñar a la red un subconjunto del conjunto de datos completo, ajustar los pesos respecto a ese subconjunto, y repetir el proceso variando el subconjunto. En el momento en que la red haya visto los datos una vez se denomina _epoch_.\n",
    "\n",
    "Ajustar la relación de minibatch/epoch depende en gran medida del problema concreto que estamos abordando, pero en este caso vamos a usar un minibatch igual a 128 que especificaremos mediante el parámetro **batch_size**.\n",
    "\n",
    "Para el parámetro **epoch**, que estructura el entrenamiento en _épocas_, de manera que una época es una iteración sobre todos los datos de entradas , tomaremos el valor 20.\n",
    "\n",
    "Finalmente, el parámetro **validation_data** permite que el modelo supervise su rendimiento en un subconjunto del conjunto de entrenamiento, al que llamaremos conjunto de validación. En nuestro caso, tomaremos el valor 0.2, que indica que se tomará el 20% del conjunto de entrenamiento, como conjunto de validación.\n"
   ]
  },
  {
   "cell_type": "code",
   "execution_count": 33,
   "metadata": {
    "colab": {
     "base_uri": "https://localhost:8080/",
     "height": 746
    },
    "colab_type": "code",
    "id": "tOLr1h0BMD8u",
    "outputId": "6184d293-b963-416e-f5a0-f3f7c6aa827b"
   },
   "outputs": [
    {
     "name": "stdout",
     "output_type": "stream",
     "text": [
      "Train on 48000 samples, validate on 12000 samples\n",
      "Epoch 1/20\n",
      "48000/48000 [==============================] - 2s 49us/step - loss: 0.9946 - acc: 0.6939 - val_loss: 0.5884 - val_acc: 0.8023\n",
      "Epoch 2/20\n",
      "48000/48000 [==============================] - 2s 36us/step - loss: 0.5279 - acc: 0.8215 - val_loss: 0.4868 - val_acc: 0.8293\n",
      "Epoch 3/20\n",
      "48000/48000 [==============================] - 2s 35us/step - loss: 0.4596 - acc: 0.8430 - val_loss: 0.4564 - val_acc: 0.8390\n",
      "Epoch 4/20\n",
      "48000/48000 [==============================] - 2s 35us/step - loss: 0.4280 - acc: 0.8514 - val_loss: 0.4249 - val_acc: 0.8522\n",
      "Epoch 5/20\n",
      "48000/48000 [==============================] - 2s 34us/step - loss: 0.4079 - acc: 0.8567 - val_loss: 0.4122 - val_acc: 0.8564\n",
      "Epoch 6/20\n",
      "48000/48000 [==============================] - 2s 35us/step - loss: 0.3919 - acc: 0.8628 - val_loss: 0.4043 - val_acc: 0.8583\n",
      "Epoch 7/20\n",
      "48000/48000 [==============================] - 2s 35us/step - loss: 0.3764 - acc: 0.8679 - val_loss: 0.3868 - val_acc: 0.8655\n",
      "Epoch 8/20\n",
      "48000/48000 [==============================] - 2s 36us/step - loss: 0.3644 - acc: 0.8720 - val_loss: 0.3844 - val_acc: 0.8643\n",
      "Epoch 9/20\n",
      "48000/48000 [==============================] - 2s 35us/step - loss: 0.3569 - acc: 0.8741 - val_loss: 0.3766 - val_acc: 0.8679\n",
      "Epoch 10/20\n",
      "48000/48000 [==============================] - 2s 35us/step - loss: 0.3470 - acc: 0.8759 - val_loss: 0.3782 - val_acc: 0.8685\n",
      "Epoch 11/20\n",
      "48000/48000 [==============================] - 2s 36us/step - loss: 0.3386 - acc: 0.8802 - val_loss: 0.3716 - val_acc: 0.8704\n",
      "Epoch 12/20\n",
      "48000/48000 [==============================] - 2s 36us/step - loss: 0.3332 - acc: 0.8811 - val_loss: 0.3624 - val_acc: 0.8711\n",
      "Epoch 13/20\n",
      "48000/48000 [==============================] - 2s 34us/step - loss: 0.3264 - acc: 0.8837 - val_loss: 0.3603 - val_acc: 0.8748\n",
      "Epoch 14/20\n",
      "48000/48000 [==============================] - 2s 36us/step - loss: 0.3191 - acc: 0.8858 - val_loss: 0.3585 - val_acc: 0.8757\n",
      "Epoch 15/20\n",
      "48000/48000 [==============================] - 2s 35us/step - loss: 0.3130 - acc: 0.8885 - val_loss: 0.3499 - val_acc: 0.8758\n",
      "Epoch 16/20\n",
      "48000/48000 [==============================] - 2s 35us/step - loss: 0.3079 - acc: 0.8898 - val_loss: 0.3459 - val_acc: 0.8761\n",
      "Epoch 17/20\n",
      "48000/48000 [==============================] - 2s 36us/step - loss: 0.3032 - acc: 0.8912 - val_loss: 0.3402 - val_acc: 0.8813\n",
      "Epoch 18/20\n",
      "48000/48000 [==============================] - 2s 35us/step - loss: 0.2973 - acc: 0.8927 - val_loss: 0.3468 - val_acc: 0.8771\n",
      "Epoch 19/20\n",
      "48000/48000 [==============================] - 2s 36us/step - loss: 0.2923 - acc: 0.8939 - val_loss: 0.3429 - val_acc: 0.8773\n",
      "Epoch 20/20\n",
      "48000/48000 [==============================] - 2s 35us/step - loss: 0.2894 - acc: 0.8965 - val_loss: 0.3401 - val_acc: 0.8785\n"
     ]
    },
    {
     "data": {
      "text/plain": [
       "<keras.callbacks.History at 0x7f58758f3d30>"
      ]
     },
     "execution_count": 33,
     "metadata": {
      "tags": []
     },
     "output_type": "execute_result"
    }
   ],
   "source": [
    "results = ANN.fit(x_train_ANN, y_train, validation_split = 0.2, epochs = 20, batch_size = 128)\n",
    "results"
   ]
  },
  {
   "cell_type": "markdown",
   "metadata": {
    "colab_type": "text",
    "id": "9HJlk9AxdUdU"
   },
   "source": [
    "> **Rendimiento del modelo en el conjunto test**\n",
    "\n",
    "---"
   ]
  },
  {
   "cell_type": "code",
   "execution_count": 34,
   "metadata": {
    "colab": {
     "base_uri": "https://localhost:8080/",
     "height": 69
    },
    "colab_type": "code",
    "id": "9A5n-tH8QEnw",
    "outputId": "9d9da6d9-9987-493e-97e3-36f88f9da5e2"
   },
   "outputs": [
    {
     "name": "stdout",
     "output_type": "stream",
     "text": [
      "10000/10000 [==============================] - 0s 36us/step\n",
      "Precisión alcanzada por el algoritmo Deep Learning en el conjunto test: 87.14 %\n",
      "Pérdida alcanzada por el algoritmo Deep Learning en el conjunto test: 36.25 %\n"
     ]
    }
   ],
   "source": [
    "test_loss, test_acc = ANN.evaluate(x_test_ANN, y_test)\n",
    "print(\"Precisión alcanzada por el algoritmo Deep Learning en el conjunto test:\", \n",
    "      round(100*test_acc, 2), \"%\")\n",
    "print(\"Pérdida alcanzada por el algoritmo Deep Learning en el conjunto test:\", \n",
    "      round(100*test_loss, 2), \"%\")"
   ]
  },
  {
   "cell_type": "markdown",
   "metadata": {
    "colab_type": "text",
    "id": "g2X5m-RaRyae"
   },
   "source": [
    "* **Representación gráfica**"
   ]
  },
  {
   "cell_type": "code",
   "execution_count": 35,
   "metadata": {
    "colab": {
     "base_uri": "https://localhost:8080/",
     "height": 312
    },
    "colab_type": "code",
    "id": "BIxNobyCKPy-",
    "outputId": "aa8f6dc9-b0b0-432b-a2e0-17ca9ac5b8c0"
   },
   "outputs": [
    {
     "data": {
      "text/plain": [
       "Text(0.5, 1.0, 'Precisión en entrenamiento y validación')"
      ]
     },
     "execution_count": 35,
     "metadata": {
      "tags": []
     },
     "output_type": "execute_result"
    },
    {
     "data": {
      "image/png": "[encoded data removed]",
      "text/plain": [
       "<Figure size 648x288 with 1 Axes>"
      ]
     },
     "metadata": {
      "tags": []
     },
     "output_type": "display_data"
    }
   ],
   "source": [
    "acc = results.history['acc']\n",
    "val_acc = results.history['val_acc']\n",
    "x = range(1, len(acc)+1)\n",
    "\n",
    "plt.figure(figsize=(9,4))\n",
    "sns.set_style('darkgrid')\n",
    "sns.lineplot(x, y= acc, c=\"firebrick\", \\\n",
    "             legend='brief', label=\"train_acc\")\n",
    "sns.lineplot(x, y=val_acc, c=\"darkgreen\", \\\n",
    "             legend='brief', label=\"val_acc\")\n",
    "plt.legend(loc=0)\n",
    "plt.xlabel('epochs')\n",
    "plt.ylabel('accuracy')\n",
    "plt.title(\"Precisión en entrenamiento y validación\")"
   ]
  },
  {
   "cell_type": "code",
   "execution_count": 36,
   "metadata": {
    "colab": {
     "base_uri": "https://localhost:8080/",
     "height": 312
    },
    "colab_type": "code",
    "id": "ppTzMlHSKu6r",
    "outputId": "1ca510cc-f841-4d5b-b129-91fb5ca27d40"
   },
   "outputs": [
    {
     "data": {
      "text/plain": [
       "Text(0.5, 1.0, 'Pérdida en entrenamiento y validación')"
      ]
     },
     "execution_count": 36,
     "metadata": {
      "tags": []
     },
     "output_type": "execute_result"
    },
    {
     "data": {
      "image/png": "[encoded data removed]",
      "text/plain": [
       "<Figure size 648x288 with 1 Axes>"
      ]
     },
     "metadata": {
      "tags": []
     },
     "output_type": "display_data"
    }
   ],
   "source": [
    "loss = results.history['loss']\n",
    "val_loss = results.history['val_loss']\n",
    "x = range(1, len(acc)+1)\n",
    "\n",
    "plt.figure(figsize=(9,4))\n",
    "sns.set_style('darkgrid')\n",
    "sns.lineplot(x, y=loss, c=\"darkblue\", \\\n",
    "             legend='brief', label=\"train_loss\")\n",
    "sns.lineplot(x, y=val_loss, c=\"y\", \\\n",
    "             legend='brief', label=\"val_loss\")\n",
    "plt.legend(loc=0)\n",
    "plt.xlabel('epochs')\n",
    "plt.ylabel('loss')\n",
    "plt.title(\"Pérdida en entrenamiento y validación\")"
   ]
  },
  {
   "cell_type": "markdown",
   "metadata": {
    "colab_type": "text",
    "id": "Qy7LeGc0AIkm"
   },
   "source": [
    "* **Interpretación de los gráficos**"
   ]
  },
  {
   "cell_type": "markdown",
   "metadata": {
    "colab_type": "text",
    "id": "chqM2rk1__AT"
   },
   "source": [
    "Los gráficos anteriores muestran la precisión y pérdida en los conjuntos de entrenamiento y validación, en cada iteración, es decir, para cada valor del parámetro **epoch**.\n",
    "\n",
    "Es habitual que la red se comporte peor en los datos de validación que en los datos de entrenamiento, ya que el proceso de entrenamiento consiste precisamente en ajustar los pesos para que el error cometido en estos últimos se minimice. De esta forma, la red comienza a aprender patrones que son específicos de los datos de entrenamiento pero que no caracterizan otros datos. Este comportamiento se denomina **overfitting** (o **sobreajuste**). \n",
    "\n",
    "Por lo tanto, mediante los gráficos anteriores, podemos medir de alguna forma, si estamos en una situación de overfitting. que sería el caso en que en el conjunto de entrenamiento, la pérdida se mantiene constante o aumenta ligeramente, lo que hace que la _accuracy_ no aumente con el número de iteraciones.\n",
    "\n",
    "Gracias a los gráficos anteriores, podemos obsevar que a simple vista, no nos encontramos ante una situación de sobreajuste, por lo que no sería necesario reducir el número de épocas.\n",
    "\n"
   ]
  },
  {
   "cell_type": "markdown",
   "metadata": {
    "colab_type": "text",
    "id": "uPoPSQaAYj1F"
   },
   "source": [
    "> **Predicciones en el conjunto test**\n",
    "\n",
    "---"
   ]
  },
  {
   "cell_type": "code",
   "execution_count": 37,
   "metadata": {
    "colab": {
     "base_uri": "https://localhost:8080/",
     "height": 34
    },
    "colab_type": "code",
    "id": "LidraffRYyqq",
    "outputId": "e39437f3-ea74-42f9-a167-5bc4bf0c1ebb"
   },
   "outputs": [
    {
     "data": {
      "text/plain": [
       "array([2, 1, 1, 6, 1, 4, 6, 5, 7])"
      ]
     },
     "execution_count": 37,
     "metadata": {
      "tags": []
     },
     "output_type": "execute_result"
    }
   ],
   "source": [
    "y_pred = ANN.predict(x = x_test_ANN)\n",
    "num_pred = np.argmax(y_pred, axis = 1)\n",
    "num_pred[1:10]"
   ]
  },
  {
   "cell_type": "markdown",
   "metadata": {
    "colab_type": "text",
    "id": "r_SLGOmObfeb"
   },
   "source": [
    "> **Representación gráfica de las imágenes del conjunto test con su clase real y predicha por la red**\n",
    "---"
   ]
  },
  {
   "cell_type": "code",
   "execution_count": 0,
   "metadata": {
    "colab": {},
    "colab_type": "code",
    "id": "aojwIOn1FPOn"
   },
   "outputs": [],
   "source": [
    "def graph_images(images, class_true, class_pred):\n",
    "    \n",
    "    \"\"\"\n",
    "        Función que dibuja las distintas imagenes comparando la clase real con \n",
    "        la clase pronosticada por la red.\n",
    "        \n",
    "        Seleccionaremos un número aleatorio de imagenes a representar y, en \n",
    "        función de si se da la igualdad entre la clase real y predicha, el \n",
    "        borde (.spines()) de la imagen en cuestión tendrá color verde \n",
    "        (predicción correcta) o roja (predicción errónea)\n",
    "    \"\"\"\n",
    "    \n",
    "    n = sample(range(len(images)), 9)\n",
    "    img = images[n]\n",
    "\n",
    "    true = class_true[n]\n",
    "    pred = class_pred[n]\n",
    "    \n",
    "    col = \"green\"\n",
    "      \n",
    "    fig, axes = plt.subplots(nrows = 3, ncols = 3)\n",
    "    for row, a in enumerate(axes.flat):\n",
    "        a.imshow(img[row].reshape(28,28), cmap='binary')\n",
    "            \n",
    "        xlabel = \"Class: {}, Pred: {}\".format(true[row], pred[row])\n",
    "                         \n",
    "        if true[row] != pred[row]:\n",
    "            col = 'red'\n",
    "                     \n",
    "        a.spines['bottom'].set_color(col)\n",
    "        a.spines['top'].set_color(col)\n",
    "        a.spines['left'].set_color(col)\n",
    "        a.spines['right'].set_color(col)\n",
    "        col = \"green\"\n",
    "                     \n",
    "        a.set_xlabel(xlabel)\n",
    "        a.set_xticks([])\n",
    "        a.set_yticks([])\n",
    "    \n",
    "    plt.show()  "
   ]
  },
  {
   "cell_type": "code",
   "execution_count": 39,
   "metadata": {
    "colab": {
     "base_uri": "https://localhost:8080/",
     "height": 266
    },
    "colab_type": "code",
    "id": "AnCmTJSHbgk-",
    "outputId": "258adf15-2a19-40ac-c5bb-ff172271c113"
   },
   "outputs": [
    {
     "data": {
      "image/png": "[encoded data removed]",
      "text/plain": [
       "<Figure size 432x288 with 9 Axes>"
      ]
     },
     "metadata": {
      "tags": []
     },
     "output_type": "display_data"
    }
   ],
   "source": [
    "graph_images(x_test_ANN, np.argmax(y_test, axis = 1), num_pred)"
   ]
  },
  {
   "cell_type": "markdown",
   "metadata": {
    "colab_type": "text",
    "id": "5pfElKi_b47e"
   },
   "source": [
    "* **Representación gráfica de las imágenes erróneamente clasificadas**"
   ]
  },
  {
   "cell_type": "code",
   "execution_count": 0,
   "metadata": {
    "colab": {},
    "colab_type": "code",
    "id": "DT8qV8AcFVOy"
   },
   "outputs": [],
   "source": [
    "def graph_incorrect_pred(class_true, class_pred):\n",
    "    \n",
    "    \"\"\"\n",
    "        Función que imprime por pantalla 9 imágenes aleatorias clasificadas \n",
    "        incorrectamente por nuestro algoritmo Deep Learning utilizando la \n",
    "        función previamente creada y los array numéricos de la clase real y \n",
    "        pronosticada.\n",
    "        \n",
    "        Para ello, nos quedaremos con las imagenes del conjunto test cuya clase \n",
    "        real y predicha no coincide y llamaremos a la función anterior para que \n",
    "        dibuje esas imágenes.\n",
    "    \"\"\"\n",
    "\n",
    "    incorrectas = (class_pred != class_true)\n",
    "    \n",
    "    incorrect_img = x_test[incorrectas]\n",
    "    class_pred = class_pred[incorrectas]\n",
    "    class_true = class_true[incorrectas]\n",
    "\n",
    "    graph_images(incorrect_img, class_true, class_pred)"
   ]
  },
  {
   "cell_type": "code",
   "execution_count": 41,
   "metadata": {
    "colab": {
     "base_uri": "https://localhost:8080/",
     "height": 266
    },
    "colab_type": "code",
    "id": "YRLh1uUFb4KR",
    "outputId": "211fee75-2f15-499f-e517-264cafe82f8e"
   },
   "outputs": [
    {
     "data": {
      "image/png": "[encoded data removed]",
      "text/plain": [
       "<Figure size 432x288 with 9 Axes>"
      ]
     },
     "metadata": {
      "tags": []
     },
     "output_type": "display_data"
    }
   ],
   "source": [
    "graph_incorrect_pred(np.argmax(y_test, axis=1), num_pred)"
   ]
  },
  {
   "cell_type": "markdown",
   "metadata": {
    "colab_type": "text",
    "id": "TxpswiXmJv8w"
   },
   "source": [
    "> **Conclusiones**\n",
    "---\n",
    "\n",
    "LLegados a este punto, podemos dar por finalizado el modelado de la **red neuronal artificial (ANN)**, gracias a la cual hemos obtenido una precisión del aproximadamente el 87%, siendo este un porcentaje elevado que nos indica que nuestro modelo ha obtenido buena precisión al clasificar las diferentes imágenes que componen los datos. \n",
    "\n",
    "El resultado obtenido nos lleva a pensar que estamos trabajando con un conjunto de datos sencillo puesto que, incluso una red neuronal simple nos permite obtener una alta precisión.\n",
    "\n",
    "Ahora bien, a pesar de los buenos resultados, nos interesaría elevar, en la medida de lo posible, el número de imágenes bien clasificadas. Para ello, una red neuronal artificial no sería suficiente pues su complejidad no nos permitiría obtener mejoras significativas en cuanto a la precisión del modelo. Por lo tanto, para ello sería necesario acudir a otro tipo de redes más complejas : las **redes neuronales convolucionales (CNN)**. "
   ]
  },
  {
   "cell_type": "markdown",
   "metadata": {
    "colab_type": "text",
    "id": "nMbZwfyKMD8z"
   },
   "source": [
    "---\n",
    "### Redes neuronales convolucionales (CNN)\n",
    "---\n",
    "\n",
    "* **Introducción a las redes convolucionales y diferencia con las redes neuronales ordinarias**\n",
    "\n",
    "Las **redes neuronales convolucionales** son muy similares a las redes neuronales ordinarias como el perceptron multicapa; se componen de neuronas que tienen pesos y sesgos que pueden aprender. Cada neurona recibe algunas entradas, realiza un producto escalar y luego aplica una función de activación. Al igual que en el perceptron multicapa también vamos a tener una función de pérdida sobre la última capa, la cual estará totalmente conectada. Lo que diferencia a las redes neuronales convolucionales es que suponen explícitamente que las entradas son imágenes, lo que nos permite codificar ciertas propiedades en la arquitectura; permitiendo **ganar en eficiencia y reducir la cantidad de parámetros en la red**.  Así, de la misma forma que en la redes totalmente conectadas se establecía el número de neuronas, ahora debemos **establecer el número de filtros o máscaras que queremos aprender**.\n",
    "\n",
    "* **Construcción de la red neuronal**\n",
    "\n",
    "Explicamos a continuación el proceso de construcción de la red neuronal que posteriormente, implementaremos con código:\n",
    "\n",
    "> - **FASE I: paso de la imagen de entrada a capa convolucionada**. Cada registro (imagen 28x28) se procesa en la primera capa convolucional usando los pesos de filtro. De esta manera se obtendrán como resultado tantas nuevas imágenes como filtros haya en la capa convolucional (64 en nuestro caso).\n",
    "\n",
    "> - **FASE II: Pooling**. Se trata de una técnica habitualmente usada después de las capas de convolución. La más utilizada es conocida como `Max-Pooling` y toma el pixel que tiene más valor dentro de la ventana y lo coloca en la imagen de salida. Su función consiste en ir reduciendo progresivamente el tamaño de la representación, reduciendo así el número de parámetros, además de ser una forma eficiente de controlar el **sobreajuste**. El tamaño habitual de cada rejilla suele ser 2x2 con un stride de 2.\n",
    "\n",
    "> - **FASE III: Convolución.** En esta nueva etapa, el número total de filtros a aprender serán 64.\n",
    "\n",
    "> - **FASE IV: Pooling.** Nuevamente, reducimos la resolución de las representaciones (aproximadamente un 75%).\n",
    "\n",
    "> - **FASE V: Capa Flatten.** A continuación, hemos de pasar la salida de la última capa anterior a una capa densa. Como estas capas procesan vectores, que son 1D, y la entrada es un tensor 3D, hemos de aplanar el tensor por medio de la capa `Flatten()`, que también proporciona Keras. \n",
    "\n",
    "> - **FASE V: Capa Densa.** Finalmente, el vector 1D se usará como entrada a la capa **fully-connected** (capa densa) con 64 neuronas. La salida de esta capa forma la entrada de la siguiente capa completamente conectada con 10 neuronas, una para cada una de las clases."
   ]
  },
  {
   "cell_type": "code",
   "execution_count": 42,
   "metadata": {
    "colab": {
     "base_uri": "https://localhost:8080/",
     "height": 72
    },
    "colab_type": "code",
    "id": "YOUNj3cJMD80",
    "outputId": "7b437f86-9613-47e7-aac7-c7a8ae9ed165"
   },
   "outputs": [
    {
     "name": "stderr",
     "output_type": "stream",
     "text": [
      "W0815 08:04:59.466867 140019154036608 deprecation_wrapper.py:119] From /usr/local/lib/python3.6/dist-packages/keras/backend/tensorflow_backend.py:3976: The name tf.nn.max_pool is deprecated. Please use tf.nn.max_pool2d instead.\n",
      "\n"
     ]
    }
   ],
   "source": [
    "CNN = Sequential()\n",
    "\n",
    "CNN.add(Conv2D(64, (3,3), activation='relu', input_shape=(28, 28, 1)))\n",
    "CNN.add(MaxPooling2D((2,2)))\n",
    "CNN.add(Conv2D(64, (3,3), activation='relu'))\n",
    "CNN.add(MaxPooling2D((2,2)))\n",
    "\n",
    "CNN.add(Flatten())\n",
    "CNN.add(Dense(64, activation='relu'))\n",
    "CNN.add(Dense(10, activation='softmax'))"
   ]
  },
  {
   "cell_type": "code",
   "execution_count": 43,
   "metadata": {
    "colab": {
     "base_uri": "https://localhost:8080/",
     "height": 382
    },
    "colab_type": "code",
    "id": "6HSp-23Bq9-H",
    "outputId": "a63c6dc4-48bb-4000-ae62-4977345427fc"
   },
   "outputs": [
    {
     "name": "stdout",
     "output_type": "stream",
     "text": [
      "_________________________________________________________________\n",
      "Layer (type)                 Output Shape              Param #   \n",
      "=================================================================\n",
      "conv2d_1 (Conv2D)            (None, 26, 26, 64)        640       \n",
      "_________________________________________________________________\n",
      "max_pooling2d_1 (MaxPooling2 (None, 13, 13, 64)        0         \n",
      "_________________________________________________________________\n",
      "conv2d_2 (Conv2D)            (None, 11, 11, 64)        36928     \n",
      "_________________________________________________________________\n",
      "max_pooling2d_2 (MaxPooling2 (None, 5, 5, 64)          0         \n",
      "_________________________________________________________________\n",
      "flatten_1 (Flatten)          (None, 1600)              0         \n",
      "_________________________________________________________________\n",
      "dense_13 (Dense)             (None, 64)                102464    \n",
      "_________________________________________________________________\n",
      "dense_14 (Dense)             (None, 10)                650       \n",
      "=================================================================\n",
      "Total params: 140,682\n",
      "Trainable params: 140,682\n",
      "Non-trainable params: 0\n",
      "_________________________________________________________________\n"
     ]
    }
   ],
   "source": [
    "CNN.summary()"
   ]
  },
  {
   "cell_type": "markdown",
   "metadata": {
    "colab_type": "text",
    "id": "DKX-MkPJMD86"
   },
   "source": [
    "> **Comentario acerca del número de parámetros en cada capa**\n",
    "\n",
    "La primera capa de la red es una capa convolucional y su tamaño de filtro es 3x3, esto implica que por cada filtro tendremos 9 parámetros. Por otro lado, estamos calculando 64 filtros o máscaras, por lo que tendremos 9x64 = 576 parámetros. Ahora bien, debido a que cada filtro tiene su propio parámetro de sesgo tendremos finalmente 576+64 = **640 parámetros**.\n",
    "\n",
    "La siguiente capa es una capa de pooling. Como hemos comentado, esta capa no tiene ningún parámetro que aprender puesto que únicamente lleva a cabo una reducción de los *feature maps* calculados por la capa anterior.\n",
    "\n",
    "En la segunda capa de convolución, nuevamente aplicaremos filtros de 3x3 y, en este caso, serán un total de 64 filtros. Así, tendremos un total de 576 parámetros (9x64). Sin embargo ahora la entrada tiene 64 canales que corresponden con los 64 mapas de características (*feature maps*) anteriores, por tanto tenemos, 576x64 = 36864 parámetros que, sumados al sesgo por cada nuevo filtro hacen los **36928 parámetros**.\n",
    "\n",
    "Nuevamente nos encontramos con una capa de pooling que recibe los 64 *feature maps* de la capa convolucionada anterior.\n",
    "\n",
    "Pasamos ahora a la capa densa (totalmente conectada). De entrada tenemos 64 mapas de características de tamaño 5x5. Al aplanar todos esos mapas obtenemos un vector de 1600 posiciones (neuronas).  Ahora bien, esta capa de neuronas se conecta totalmente con una capa densa de 64 neuronas, por lo que tendremos 25x64x64 = 102400 parámetros que aprender más un parámetro de sesgo por neurona que hacen los **102464 parámetros**.\n",
    "\n",
    "La última capa tiene un razonamiento similar; 64 neuronas se conectan con 10 neuronas que hacen referencia a cada una de posibles clases de la variable objetivo, obteniendo así 640 parámetros que, más sus correspondientes sesgos, dan un total de **650 parámetros**.\n",
    "\n",
    "* **Compilación del modelo**\n",
    "\n",
    "Hasta ahora solo hemos definido la estructura de la red, pero no hemos dado ninguna información acerca de cómo se llevará a cabo el entrenamiento. Para ello, hemos de indicarle a Keras algunas características adicionales, tales como el optimizador que permitirá modificar los pesos de la red, qué función de coste o pérdida se usará para dirigir esta optimización, y la métrica que usaremos para medir cómo se va comportando la red a medida que se entrena.\n",
    "\n",
    "Generalmente, los modelos de redes neuronales son entrenados por un optimizador de **descenso de gradiente estocástico**; a lo largo de nuestro trabajo usaremos los optimizares *Adam* y *RMSProp*. Ambos nos permiten trabajar con el parámetro de la tasa de aprendizaje (***learning_rate***); este parámetro, fácilmente ajustable, cuanto menor sea más tardará la red en entrenar y aprender pero se alcanzará una mayor precisión en el conjunto de aprendizaje. \n",
    "\n",
    "En este primer ejemplo, usaremos el optimizador *Adam* con un valor del parámetro *learning_rate* de 0.0001. En cuanto a la métrica que evaluará como de bueno está siendo el entrenamiento, usaremos la métrica *accuracy* que determina la tasa de clasificación correcta en las predicciones.\n"
   ]
  },
  {
   "cell_type": "code",
   "execution_count": 0,
   "metadata": {
    "colab": {},
    "colab_type": "code",
    "id": "GchPcaiWMD87"
   },
   "outputs": [],
   "source": [
    "opt = Adam(lr = 1e-4)\n",
    "\n",
    "CNN.compile(optimizer = opt,\n",
    "            loss = 'categorical_crossentropy',\n",
    "            metrics = ['accuracy'])"
   ]
  },
  {
   "cell_type": "markdown",
   "metadata": {
    "colab_type": "text",
    "id": "X7t6ky3kMD9B"
   },
   "source": [
    "* **Entrenamiento de la red neuronal**\n",
    "\n",
    "Ahora que ya hemos definido la estructura de la red, el optimizador con su tasa de aprendizaje asociada y las distintas metricas, ya podemos entrenar la red.\n",
    "Para ello, haremos uso de la función `.fit()` y tendremos que fijar el valor de dos hiperparámetros: **epoch** (iteraciones a realizar) y **batch_size** (cada cuántos ejemplos el algoritmos actualiza los pesos)."
   ]
  },
  {
   "cell_type": "code",
   "execution_count": 45,
   "metadata": {
    "colab": {
     "base_uri": "https://localhost:8080/",
     "height": 382
    },
    "colab_type": "code",
    "id": "deoVQHAqMD9D",
    "outputId": "080e10bb-4436-49fd-9081-511ebcdb5155"
   },
   "outputs": [
    {
     "name": "stdout",
     "output_type": "stream",
     "text": [
      "Epoch 1/10\n",
      "60000/60000 [==============================] - 43s 721us/step - loss: 0.8153 - acc: 0.7235\n",
      "Epoch 2/10\n",
      "60000/60000 [==============================] - 43s 713us/step - loss: 0.4963 - acc: 0.8202\n",
      "Epoch 3/10\n",
      "60000/60000 [==============================] - 43s 715us/step - loss: 0.4420 - acc: 0.8432\n",
      "Epoch 4/10\n",
      "60000/60000 [==============================] - 43s 720us/step - loss: 0.4125 - acc: 0.8541\n",
      "Epoch 5/10\n",
      "60000/60000 [==============================] - 43s 709us/step - loss: 0.3883 - acc: 0.8628\n",
      "Epoch 6/10\n",
      "60000/60000 [==============================] - 44s 731us/step - loss: 0.3703 - acc: 0.8700\n",
      "Epoch 7/10\n",
      "60000/60000 [==============================] - 44s 725us/step - loss: 0.3560 - acc: 0.8735\n",
      "Epoch 8/10\n",
      "60000/60000 [==============================] - 43s 722us/step - loss: 0.3437 - acc: 0.8775\n",
      "Epoch 9/10\n",
      "60000/60000 [==============================] - 43s 720us/step - loss: 0.3335 - acc: 0.8824\n",
      "Epoch 10/10\n",
      "60000/60000 [==============================] - 43s 720us/step - loss: 0.3234 - acc: 0.8851\n"
     ]
    },
    {
     "data": {
      "text/plain": [
       "<keras.callbacks.History at 0x7f586abbd358>"
      ]
     },
     "execution_count": 45,
     "metadata": {
      "tags": []
     },
     "output_type": "execute_result"
    }
   ],
   "source": [
    "CNN.fit(x_train_CNN, y_train, epochs = 10, batch_size = 64)"
   ]
  },
  {
   "cell_type": "markdown",
   "metadata": {
    "colab_type": "text",
    "id": "4gFQNJl3MD9I"
   },
   "source": [
    "* **Evaluación del modelo**\n",
    "\n",
    "Tras el entrenamiento podemos evaluar el modelo sobre los datos de test:"
   ]
  },
  {
   "cell_type": "code",
   "execution_count": 46,
   "metadata": {
    "colab": {
     "base_uri": "https://localhost:8080/",
     "height": 52
    },
    "colab_type": "code",
    "id": "tk1s3jq5MD9J",
    "outputId": "e2776a17-012c-4393-fb10-9e0ca5a66d89"
   },
   "outputs": [
    {
     "name": "stdout",
     "output_type": "stream",
     "text": [
      "10000/10000 [==============================] - 2s 238us/step\n",
      "Precisión alcanzada por el algoritmo Deep Learning en el conjunto test: 87.58 %\n"
     ]
    }
   ],
   "source": [
    "test_loss, test_acc = CNN.evaluate(x_test_CNN, y_test)\n",
    "print(\"Precisión alcanzada por el algoritmo Deep Learning en el conjunto test:\", \n",
    "      round(100*test_acc, 2), \"%\")"
   ]
  },
  {
   "cell_type": "markdown",
   "metadata": {
    "colab_type": "text",
    "id": "5pCBwDvfMD9M"
   },
   "source": [
    "* **Predicciones**"
   ]
  },
  {
   "cell_type": "code",
   "execution_count": 47,
   "metadata": {
    "colab": {
     "base_uri": "https://localhost:8080/",
     "height": 34
    },
    "colab_type": "code",
    "id": "zhGdYqAcMD9N",
    "outputId": "e4f20fef-b862-4d02-ebd1-54316453623e"
   },
   "outputs": [
    {
     "data": {
      "text/plain": [
       "array([2, 1, 1, 6, 1, 4, 6, 5, 7])"
      ]
     },
     "execution_count": 47,
     "metadata": {
      "tags": []
     },
     "output_type": "execute_result"
    }
   ],
   "source": [
    "y_pred = CNN.predict(x = x_test_CNN)\n",
    "\n",
    "num_pred = np.argmax(y_pred, axis=1)\n",
    "num_pred[1:10]"
   ]
  },
  {
   "cell_type": "markdown",
   "metadata": {
    "colab_type": "text",
    "id": "IDc4nMjlMD9R"
   },
   "source": [
    "* **Representación gráfica de las imágenes del conjunto test con su clase real y predicha por la red**"
   ]
  },
  {
   "cell_type": "code",
   "execution_count": 48,
   "metadata": {
    "colab": {
     "base_uri": "https://localhost:8080/",
     "height": 266
    },
    "colab_type": "code",
    "id": "_ztxNkL1MD9V",
    "outputId": "e706c85d-43fa-4fe7-aeb5-b9359b72b529"
   },
   "outputs": [
    {
     "data": {
      "image/png": "[encoded data removed]",
      "text/plain": [
       "<Figure size 432x288 with 9 Axes>"
      ]
     },
     "metadata": {
      "tags": []
     },
     "output_type": "display_data"
    }
   ],
   "source": [
    "graph_images(x_test_CNN, np.argmax(y_test, axis=1), num_pred)"
   ]
  },
  {
   "cell_type": "markdown",
   "metadata": {
    "colab_type": "text",
    "id": "heEqnvw3MD9X"
   },
   "source": [
    "* **Representación gráfica de las imágenes erróneamente clasificadas**"
   ]
  },
  {
   "cell_type": "code",
   "execution_count": 49,
   "metadata": {
    "colab": {
     "base_uri": "https://localhost:8080/",
     "height": 266
    },
    "colab_type": "code",
    "id": "vR55pd-XMD9b",
    "outputId": "12cc8817-4324-44c7-82e4-3c3c91826746"
   },
   "outputs": [
    {
     "data": {
      "image/png": "[encoded data removed]",
      "text/plain": [
       "<Figure size 432x288 with 9 Axes>"
      ]
     },
     "metadata": {
      "tags": []
     },
     "output_type": "display_data"
    }
   ],
   "source": [
    "graph_incorrect_pred(np.argmax(y_test, axis=1), num_pred)"
   ]
  },
  {
   "cell_type": "markdown",
   "metadata": {
    "colab_type": "text",
    "id": "OpN8MgA9MD9e"
   },
   "source": [
    "---\n",
    "#### Normalización - Batch Normalization\n",
    "---\n",
    "\n",
    "La técnia `Batch Normalizacion` consiste en normalizar la salida de cada capa por cada mini-batch. Se suele aplicar antes de la función de activación controlando así que la salida de las operaciones lineales saturen a la neurona y no se produzca el *vanishing*.\n",
    "\n",
    "Entre sus múltiples ventajas destaca la posibilidad de usar una *learning rate* mayor además de ser considerado un método de regularización evitando así tener que usar otras técnicas de regularización. En cuanto a los inconvenientes, sí es cierto que las predicciones son más lentas.\n",
    "\n",
    "Así pues, aplicaremos dicha técnicas tras cada convolución y aumentaremos la tasa de aprendizaje a 0.001 (un 10% mayor). \n",
    "\n",
    "Incorporamos ahora un nuevo hiperparámetro al optimizador *Adam*, se trata del parámetro `learning rate decay`. Es cierto que el mejor *learning rate*  en general es aquel que disminuye a medida que el modelo se acerca a una solución; usaremos este nuevo hiperparámetro para conseguir este efecto. Con este hiperparámetro conseguimos disminuir el *learning rate* a medida que van pasando *epochs* para permitir que el aprendizaje avance más rápido al principio con *learning rates* más grandes. A medida que se avanza, se van haciendo ajustes cada vez más pequeños para facilitar que el entrenamiento converja al mínimo de la función de pérdida (función *loss*)."
   ]
  },
  {
   "cell_type": "code",
   "execution_count": 50,
   "metadata": {
    "colab": {
     "base_uri": "https://localhost:8080/",
     "height": 72
    },
    "colab_type": "code",
    "id": "Z9ueZAZXMD9g",
    "outputId": "c30f8234-0222-4ee0-fd26-19468b07335e"
   },
   "outputs": [
    {
     "name": "stderr",
     "output_type": "stream",
     "text": [
      "W0815 08:14:54.470423 140019154036608 deprecation_wrapper.py:119] From /usr/local/lib/python3.6/dist-packages/keras/backend/tensorflow_backend.py:1834: The name tf.nn.fused_batch_norm is deprecated. Please use tf.compat.v1.nn.fused_batch_norm instead.\n",
      "\n"
     ]
    }
   ],
   "source": [
    "CNN = Sequential()\n",
    "\n",
    "CNN.add(Conv2D(64, (3,3), input_shape=(28, 28, 1)))\n",
    "CNN.add(BatchNormalization())\n",
    "CNN.add(Activation('relu'))\n",
    "CNN.add(MaxPooling2D((2,2)))\n",
    "CNN.add(Conv2D(64, (3,3)))\n",
    "CNN.add(BatchNormalization())\n",
    "CNN.add(Activation('relu'))\n",
    "CNN.add(MaxPooling2D((2,2)))\n",
    "\n",
    "CNN.add(Flatten())\n",
    "CNN.add(Dense(64))\n",
    "CNN.add(BatchNormalization())\n",
    "CNN.add(Activation('relu'))\n",
    "CNN.add(Dense(10, activation='softmax'))\n",
    "        \n",
    "opt = Adam(lr=1e-3, decay=1e-6)\n",
    "\n",
    "CNN.compile(optimizer = opt,\n",
    "            loss = 'categorical_crossentropy',\n",
    "            metrics = ['accuracy'])"
   ]
  },
  {
   "cell_type": "markdown",
   "metadata": {
    "colab_type": "text",
    "id": "LBol4I2AMD9i"
   },
   "source": [
    "> **Validación del modelo: conjunto de entrenamiento, validación y test**\n",
    "\n",
    "Con el objetivo de monitorizar la métrica *accuracy* durante la etapa de aprendizaje, necesitaremos tener un conjunto de datos con los que determinar cómo de bueno es el modelo que estamos entrenando, con unos parámetros fijos. De esta forma podremos ajustar estos parámetros para mejorar el rendimiento, así como, detectar la presencia de **overfitting** en nuestro modelo que podremos posteriormente subsanar recurriendo a las técnicas de regularización.\n",
    "\n",
    "Crearemos por tanto un conjunto de validación formado por el 30% del conjunto de entrenamiento, es decir, unas 18000 muestras.\n",
    "\n",
    ">> **Definición del conjunto de validación**"
   ]
  },
  {
   "cell_type": "code",
   "execution_count": 0,
   "metadata": {
    "colab": {},
    "colab_type": "code",
    "id": "2cMoLpb9MD9j"
   },
   "outputs": [],
   "source": [
    "val_size = int(0.3 * len(x_train_CNN))\n",
    "\n",
    "x_val_CNN = x_train_CNN[:val_size]\n",
    "y_val = y_train[:val_size]\n",
    "\n",
    "x_train_CNN = x_train_CNN[val_size:]\n",
    "y_train = y_train[val_size:]"
   ]
  },
  {
   "cell_type": "markdown",
   "metadata": {
    "colab_type": "text",
    "id": "CGDouE3AMD9n"
   },
   "source": [
    ">> **Validación del modelo**"
   ]
  },
  {
   "cell_type": "code",
   "execution_count": 52,
   "metadata": {
    "colab": {
     "base_uri": "https://localhost:8080/",
     "height": 382
    },
    "colab_type": "code",
    "id": "wGKI_hAMMD9o",
    "outputId": "96a75981-87ef-4da1-89d7-4df72fda915a"
   },
   "outputs": [
    {
     "name": "stdout",
     "output_type": "stream",
     "text": [
      "Train on 42000 samples, validate on 18000 samples\n",
      "Epoch 1/10\n",
      "42000/42000 [==============================] - 74s 2ms/step - loss: 0.4226 - acc: 0.8550 - val_loss: 0.3598 - val_acc: 0.8693\n",
      "Epoch 2/10\n",
      "42000/42000 [==============================] - 73s 2ms/step - loss: 0.2783 - acc: 0.8972 - val_loss: 0.2936 - val_acc: 0.8926\n",
      "Epoch 3/10\n",
      "42000/42000 [==============================] - 73s 2ms/step - loss: 0.2367 - acc: 0.9134 - val_loss: 0.2955 - val_acc: 0.8902\n",
      "Epoch 4/10\n",
      "42000/42000 [==============================] - 74s 2ms/step - loss: 0.2028 - acc: 0.9260 - val_loss: 0.3595 - val_acc: 0.8691\n",
      "Epoch 5/10\n",
      "42000/42000 [==============================] - 73s 2ms/step - loss: 0.1808 - acc: 0.9336 - val_loss: 0.2590 - val_acc: 0.9073\n",
      "Epoch 6/10\n",
      "42000/42000 [==============================] - 73s 2ms/step - loss: 0.1550 - acc: 0.9438 - val_loss: 0.2737 - val_acc: 0.9043\n",
      "Epoch 7/10\n",
      "42000/42000 [==============================] - 74s 2ms/step - loss: 0.1357 - acc: 0.9509 - val_loss: 0.3408 - val_acc: 0.8798\n",
      "Epoch 8/10\n",
      "42000/42000 [==============================] - 74s 2ms/step - loss: 0.1203 - acc: 0.9556 - val_loss: 0.2662 - val_acc: 0.9082\n",
      "Epoch 9/10\n",
      "42000/42000 [==============================] - 74s 2ms/step - loss: 0.1040 - acc: 0.9630 - val_loss: 0.2648 - val_acc: 0.9099\n",
      "Epoch 10/10\n",
      "42000/42000 [==============================] - 74s 2ms/step - loss: 0.0924 - acc: 0.9668 - val_loss: 0.3082 - val_acc: 0.8985\n"
     ]
    }
   ],
   "source": [
    "train_val = CNN.fit(x_train_CNN, y_train, epochs = 10, batch_size = 64,\n",
    "                    validation_data=(x_val_CNN, y_val))"
   ]
  },
  {
   "cell_type": "markdown",
   "metadata": {
    "colab_type": "text",
    "id": "8tHG5sesMD9s"
   },
   "source": [
    ">>* **Representación gráfica:** comparación de la precisión y la función de pérdida alcanzada para cada iteración en cada conjunto."
   ]
  },
  {
   "cell_type": "code",
   "execution_count": 53,
   "metadata": {
    "colab": {
     "base_uri": "https://localhost:8080/",
     "height": 312
    },
    "colab_type": "code",
    "id": "x1AmqH28MD9s",
    "outputId": "c86232c1-4815-4236-d7d4-98e05d3e505d"
   },
   "outputs": [
    {
     "data": {
      "text/plain": [
       "Text(0.5, 1.0, 'Precisión en entrenamiento y validación')"
      ]
     },
     "execution_count": 53,
     "metadata": {
      "tags": []
     },
     "output_type": "execute_result"
    },
    {
     "data": {
      "image/png": "[encoded data removed]",
      "text/plain": [
       "<Figure size 648x288 with 1 Axes>"
      ]
     },
     "metadata": {
      "tags": []
     },
     "output_type": "display_data"
    }
   ],
   "source": [
    "ent_acc = train_val.history['acc']\n",
    "val_acc = train_val.history['val_acc']\n",
    "\n",
    "plt.figure(figsize=(9,4))\n",
    "sns.set_style('darkgrid')\n",
    "sns.lineplot(x=range(1, 11), y=ent_acc, c=\"firebrick\", \\\n",
    "             legend='brief', label=\"train_acc\")\n",
    "sns.lineplot(x=range(1, 11), y=val_acc, c=\"darkgreen\", \\\n",
    "             legend='brief', label=\"val_acc\")\n",
    "plt.legend(loc=0)\n",
    "plt.xlabel('epochs')\n",
    "plt.ylabel('accuracy')\n",
    "plt.title(\"Precisión en entrenamiento y validación\")"
   ]
  },
  {
   "cell_type": "code",
   "execution_count": 54,
   "metadata": {
    "colab": {
     "base_uri": "https://localhost:8080/",
     "height": 312
    },
    "colab_type": "code",
    "id": "ZTA7sgVkMD9v",
    "outputId": "d07afa7e-e651-4594-c062-decec27af46c"
   },
   "outputs": [
    {
     "data": {
      "text/plain": [
       "Text(0.5, 1.0, 'Pérdida en entrenamiento y validación')"
      ]
     },
     "execution_count": 54,
     "metadata": {
      "tags": []
     },
     "output_type": "execute_result"
    },
    {
     "data": {
      "image/png": "[encoded data removed]",
      "text/plain": [
       "<Figure size 648x288 with 1 Axes>"
      ]
     },
     "metadata": {
      "tags": []
     },
     "output_type": "display_data"
    }
   ],
   "source": [
    "ent_loss = train_val.history['loss']\n",
    "val_loss = train_val.history['val_loss']\n",
    "\n",
    "plt.figure(figsize=(9,4))\n",
    "sns.set_style('darkgrid')\n",
    "sns.lineplot(x=range(1, 11), y=ent_loss, c=\"darkblue\", \\\n",
    "             legend='brief', label=\"train_loss\")\n",
    "sns.lineplot(x=range(1, 11), y=val_loss, c=\"y\", \\\n",
    "             legend='brief', label=\"val_loss\")\n",
    "plt.legend(loc=0)\n",
    "plt.xlabel('epochs')\n",
    "plt.ylabel('loss')\n",
    "plt.title(\"Pérdida en entrenamiento y validación\")"
   ]
  },
  {
   "cell_type": "markdown",
   "metadata": {
    "colab_type": "text",
    "id": "xmKG6hDvMD9y"
   },
   "source": [
    ">> Observamos que la precisión en el conjunto de entrenamiento va aumentando a medida que se incrementa el número de iteraciones, sin embargo, la función de perdida en el conjunto de validación no va decreciendo paralelemante a lo que lo hace la del conjunto de aprendizaje, es decir, la red no está aprendiendo patrones durante su etapa de entrenamiento que se puedan generalizar para otro set de datos haciendo que el conjunto de aprendizaje mejore su precisión iteración a iteración mientas que la precisión en el conjunto de validación no presenta un comportamiento monótonamente creciente (resp. función de pérdida decreciente)."
   ]
  },
  {
   "cell_type": "markdown",
   "metadata": {
    "colab_type": "text",
    "id": "LLlh7Jp6MD9z"
   },
   "source": [
    ">>> **Rendimiento del modelo en el conjunto test**"
   ]
  },
  {
   "cell_type": "code",
   "execution_count": 55,
   "metadata": {
    "colab": {
     "base_uri": "https://localhost:8080/",
     "height": 52
    },
    "colab_type": "code",
    "id": "YBIFg6MkMD90",
    "outputId": "71cb500f-7de9-4837-88a8-d54e4d7541b1"
   },
   "outputs": [
    {
     "name": "stdout",
     "output_type": "stream",
     "text": [
      "10000/10000 [==============================] - 5s 499us/step\n",
      "Precisión alcanzada aplicando Batch-Normalización en el conjunto test: 89.7 %\n"
     ]
    }
   ],
   "source": [
    "test_loss, test_acc = CNN.evaluate(x_test_CNN, y_test)\n",
    "print(\"Precisión alcanzada aplicando Batch-Normalización en el conjunto test:\", \n",
    "      round(100*test_acc, 2), \"%\")"
   ]
  },
  {
   "cell_type": "markdown",
   "metadata": {
    "colab_type": "text",
    "id": "e49eemVWMD95"
   },
   "source": [
    ">> **Conclusión:** observamos que aplicando la técnica de normalización con sus correspondientes modificaciones con respecto al modelo inicial hemos alcanzado una **precisión mayor en nuestro conjunto test** aunque el **esfuerzo computacional también superior**. Además, observamos un claro problema de sobreajuste que intentaremos solucionar."
   ]
  },
  {
   "cell_type": "markdown",
   "metadata": {
    "colab_type": "text",
    "id": "NUEIBP9fMD96"
   },
   "source": [
    "---\n",
    "#### Regularización\n",
    "---\n",
    "\n",
    "En modelos anteriores hemos visto que tras un número no muy grande de iteraciones (*epochs*) la precisión en el conjunto de validación alcanzaba un máximo y a partir de ahí empezaba a degradarse. Es decir, tras un número pequeño de iteraciones, los modelos comienzan a sobreajustarse a los datos de entrenamiento sin que haya dado tiempo a aprender suficientes patrones útiles que puedan ser aplicados sobre nuevos datos.\n",
    "\n",
    "Dicho de otra forma, cuando tras pocas iteraciones la **generalización** deja de mejorar y las métricas de validación comienzan a empeorar nos encontramos ante un caso de ***overfitting***; el modelo comienza a aprender patrones que son específicos del conjunto de aprendizaje pero que no caracterizan otros datos.\n",
    "\n",
    "Así pues en este apartado trabajaremos con distintas técnicas que nos permiten luchar con el problema del sobreajuste, son las que se conocen como **técnicas de regularización** y trabajaremos con 3 de ellas:\n",
    "\n",
    "* ***Data Augmentation***\n",
    "* ***DropOut***\n",
    "* ***Early Stopping***"
   ]
  },
  {
   "cell_type": "markdown",
   "metadata": {
    "colab_type": "text",
    "id": "2xnrKiURMD97"
   },
   "source": [
    "---\n",
    "##### Data Augmentation\n",
    "---\n",
    "\n",
    "La forma más simple de reducir el problema del sobreajuste es incrementando el tamaño del conjunto de entrenamiento.\n",
    "\n",
    "Esta técnica de regularización abarca una amplia gana de métodos para generar \"nuevas\" muestras de entrenamiento a partir de las originales por medio de operaciones básicas como traslación, rotación, escalado, volteado, etc.  *Keras* nos proporciona la clase **`ImageDataGenerator`** que aplica varias de estas transformaciones al conjunto de datos de manera automática.\n",
    "\n",
    "<img src='data_augmentation.PNG' width=50%>\n",
    "\n",
    "Nuestro objetivo, por tanto, al aplicar esta técnica de regularización es **aumentar la generalización del modelo**."
   ]
  },
  {
   "cell_type": "code",
   "execution_count": 0,
   "metadata": {
    "colab": {},
    "colab_type": "code",
    "id": "Tp_mecy4MD98"
   },
   "outputs": [],
   "source": [
    "image_generator = ImageDataGenerator(\n",
    "            rotation_range=10,\n",
    "            zoom_range = 0.05, \n",
    "            width_shift_range=0.05,\n",
    "            height_shift_range=0.05,\n",
    "            horizontal_flip=False,\n",
    "            vertical_flip=False, \n",
    "            data_format=\"channels_last\",\n",
    "            zca_whitening=True)"
   ]
  },
  {
   "cell_type": "markdown",
   "metadata": {
    "colab_type": "text",
    "id": "A0ZdmUWTMD9-"
   },
   "source": [
    "Una vez creada la instancia debemos ejercutar el método fit sobre el conjunto de datos.\n",
    "\n",
    "> **Nota:** dicha técnica de regularización se realiza SOLO en el conjunto de entrenamiento, ya que ayuda a que el modelo sea más generalizado y robusto. Así, no tiene sentido aplicar *Data Augmentation* sobre el conjunto de validación y test."
   ]
  },
  {
   "cell_type": "code",
   "execution_count": 0,
   "metadata": {
    "colab": {},
    "colab_type": "code",
    "id": "Gptps-QkMD9_"
   },
   "outputs": [],
   "source": [
    "image_generator.fit(x_train_CNN, augment=True)"
   ]
  },
  {
   "cell_type": "markdown",
   "metadata": {
    "colab_type": "text",
    "id": "uQoSBWL7MD-B"
   },
   "source": [
    "El siguiente paso, tal y como muestra el diagrama adjunto, es transformar un subconjunto aleatorio de muestras del conjunto de entrenamiento. Tomamos por ejemplo, 4800 muestras aleatorias de nuestra conjunto de entrenamiento, es decir, un 10% del total."
   ]
  },
  {
   "cell_type": "code",
   "execution_count": 0,
   "metadata": {
    "colab": {},
    "colab_type": "code",
    "id": "NDDvn_fpMD-C"
   },
   "outputs": [],
   "source": [
    "index = np.random.randint(len(x_train_CNN), size=4800)\n",
    "x_train_CNN_augmented = x_train_CNN[index].copy()\n",
    "y_train_augmented = y_train[index].copy()\n",
    "x_train_CNN_augmented = image_generator.flow(x_train_CNN_augmented, \n",
    "                                             np.zeros(4800),\n",
    "                                             batch_size=4800, \n",
    "                                             shuffle=False).next()[0]"
   ]
  },
  {
   "cell_type": "markdown",
   "metadata": {
    "colab_type": "text",
    "id": "N8ymbAIKMD-H"
   },
   "source": [
    "Como último paso agregamos estas \"nuevas\" muestras a nuestro conjunto de entrenamiento y volvemos a entrenar la red sobre el nuevo set de datos, analizando nuevamente su comportamiento sobre el conjunto de validación. De esta forma tenemos una muestra de entrenamiento de tamaño 46800 (42000 iniciales más 4800 generadas) además del conjunto de validación correspondiente al 30% del tamaño de aprendizaje inicial, 18000 muestras.\n",
    "\n",
    "Previamente a proceder con el entrenamiento, validación y evaluación del modelo creado vamos a añadir a nuestro modelo una última técnica (o modificación) de regularización: `dropout`."
   ]
  },
  {
   "cell_type": "code",
   "execution_count": 0,
   "metadata": {
    "colab": {},
    "colab_type": "code",
    "id": "HogJvmFOMD-I"
   },
   "outputs": [],
   "source": [
    "x_train_CNN = np.concatenate((x_train_CNN, x_train_CNN_augmented))\n",
    "y_train = np.concatenate((y_train, y_train_augmented))"
   ]
  },
  {
   "cell_type": "markdown",
   "metadata": {
    "colab_type": "text",
    "id": "YyivlaE0MD-L"
   },
   "source": [
    "---\n",
    "##### Dropout\n",
    "---\n",
    "\n",
    "Se trata de una de las técnicas de regularización más efectivas centrándose en la idea de romper patrones que no son significativos mediante la introducción de ruido en los valores de salida de una capa y que la red empieza a memorizar si no estuviera este ruido presente.\n",
    "\n",
    "Es decir, esta técnica consiste en la eliminación de un número de características de salida de la capa durante el entrenamiento de manera que las neuronas con las que está conectada la neurona afectada han de aprender la misma representación sin considerar su trabajo conjunto, lo que lleva a disponer de **representaciones internas más robustas e independientes**.\n",
    "\n",
    "Tras esta pequeña introducción, ya estamos en condiciones de proceder a entrenar y validar nuestro modelo:"
   ]
  },
  {
   "cell_type": "code",
   "execution_count": 62,
   "metadata": {
    "colab": {
     "base_uri": "https://localhost:8080/",
     "height": 434
    },
    "colab_type": "code",
    "id": "j-W4RV6zMD-O",
    "outputId": "fb1f57ac-2e15-4061-ffb6-4a1ae9f4a7d9"
   },
   "outputs": [
    {
     "name": "stdout",
     "output_type": "stream",
     "text": [
      "Train on 46800 samples, validate on 18000 samples\n",
      "Epoch 1/10\n",
      "46800/46800 [==============================] - 84s 2ms/step - loss: 0.6694 - acc: 0.7578 - val_loss: 0.4167 - val_acc: 0.8458\n",
      "Epoch 2/10\n",
      "46800/46800 [==============================] - 82s 2ms/step - loss: 0.4888 - acc: 0.8264 - val_loss: 0.3528 - val_acc: 0.8703\n",
      "Epoch 3/10\n",
      "46800/46800 [==============================] - 83s 2ms/step - loss: 0.4431 - acc: 0.8425 - val_loss: 0.3270 - val_acc: 0.8812\n",
      "Epoch 4/10\n",
      "46800/46800 [==============================] - 83s 2ms/step - loss: 0.4060 - acc: 0.8536 - val_loss: 0.3082 - val_acc: 0.8884\n",
      "Epoch 5/10\n",
      "46800/46800 [==============================] - 83s 2ms/step - loss: 0.3896 - acc: 0.8598 - val_loss: 0.2863 - val_acc: 0.8944\n",
      "Epoch 6/10\n",
      "46800/46800 [==============================] - 82s 2ms/step - loss: 0.3704 - acc: 0.8665 - val_loss: 0.2906 - val_acc: 0.8909\n",
      "Epoch 7/10\n",
      "46800/46800 [==============================] - 83s 2ms/step - loss: 0.3621 - acc: 0.8699 - val_loss: 0.3001 - val_acc: 0.8868\n",
      "Epoch 8/10\n",
      "46800/46800 [==============================] - 83s 2ms/step - loss: 0.3431 - acc: 0.8765 - val_loss: 0.2715 - val_acc: 0.9003\n",
      "Epoch 9/10\n",
      "46800/46800 [==============================] - 82s 2ms/step - loss: 0.3402 - acc: 0.8758 - val_loss: 0.2605 - val_acc: 0.9047\n",
      "Epoch 10/10\n",
      "46800/46800 [==============================] - 82s 2ms/step - loss: 0.3269 - acc: 0.8819 - val_loss: 0.2603 - val_acc: 0.9026\n",
      "10000/10000 [==============================] - 5s 550us/step\n",
      "Precisión alcanzada por la red normalizada aplicando \n",
      "Data Augmentation        sobre el conjunto test: 89.57 %\n"
     ]
    }
   ],
   "source": [
    "CNN = Sequential()\n",
    "\n",
    "CNN.add(Conv2D(64, (3,3), input_shape=(28, 28, 1)))\n",
    "CNN.add(BatchNormalization())\n",
    "CNN.add(Activation('relu'))\n",
    "CNN.add(MaxPooling2D((2,2)))\n",
    "CNN.add(Conv2D(64, (3,3)))\n",
    "CNN.add(BatchNormalization())\n",
    "CNN.add(Activation('relu'))\n",
    "CNN.add(MaxPooling2D((2,2)))\n",
    "CNN.add(Dropout(0.25))\n",
    "\n",
    "CNN.add(Flatten())\n",
    "CNN.add(Dense(64))\n",
    "CNN.add(BatchNormalization())\n",
    "CNN.add(Activation('relu'))\n",
    "CNN.add(Dropout(0.5))\n",
    "CNN.add(Dense(10, activation='softmax'))\n",
    "\n",
    "CNN.compile(optimizer=opt,\n",
    "            loss='categorical_crossentropy',\n",
    "            metrics=['accuracy'])\n",
    "\n",
    "train_val_dropout = CNN.fit(x_train_CNN, y_train, epochs=10, batch_size=64, \n",
    "                            validation_data=(x_val_CNN, y_val))\n",
    "\n",
    "test_loss, test_acc = CNN.evaluate(x_test_CNN, y_test)\n",
    "print(\"Precisión alcanzada por la red normalizada aplicando \\nData Augmentation \\\n",
    "       sobre el conjunto test:\", \n",
    "      round(100*test_acc, 2), \"%\")"
   ]
  },
  {
   "cell_type": "markdown",
   "metadata": {
    "colab_type": "text",
    "id": "ClPCDkTiMD-T"
   },
   "source": [
    "> **Conclusiones** \n",
    "\n",
    "\n",
    " \n",
    "- Observamos que no hemos conseguido aumentar nuestra precisión en el conjunto test habiendo aumentado el número de muestras en el conjunto de aprendizaje y, por tanto, tampoco  la posibilidad de aprender nuevos patrones que sirvan para obtener una mejor tasa de acierto sobre el conjunto de datos del test. Esto se explica debido a  la técnica de regularización *dropout* introducida al final de dos capas de neuronas, pues estamos introduciendo ruido en la salida de las mismas y por lo tanto, suprimiendo  capacidad de transmisión de las neuronas en las capas. De todos modos, la disminución en cuanto a la precisión sobre el conjunto test no es sgnificativa, pues hemos pasado de obtener una precisión de  un 89.7% a un 89.57%. \n",
    "\n",
    "\n",
    "- Lo más importante es que combinando las técnicas de *Data Augmentation* y *dropout* hemos acabado con el sobreajuste. A continuación lo podremos observar gráficamente pero atendiendo a las métricas que podemos observar en la salida anterior vemos que la precisión en ambos conjuntos, entrenamiento y validación, aumenta a la vez no sobreajustándose el modelo sobre los datos de entrenamiento sino que es capaz de generalizar sobre datos con los que no entrena.\n",
    "\n",
    "- Sin embargo observamos que en ciertas iteraciones nuestro modelo se comporta alcanzando un peor ajuste que en iteraciones anteriores aunque inmediantamente se mejore la tasa de acierto en *epochs* superiores."
   ]
  },
  {
   "cell_type": "code",
   "execution_count": 61,
   "metadata": {
    "colab": {
     "base_uri": "https://localhost:8080/",
     "height": 448
    },
    "colab_type": "code",
    "id": "_Sp970x_MD-U",
    "outputId": "bb71d261-3e93-4852-fc47-a5ba09950058",
    "scrolled": false
   },
   "outputs": [
    {
     "data": {
      "text/plain": [
       "<matplotlib.legend.Legend at 0x7f5869240588>"
      ]
     },
     "execution_count": 61,
     "metadata": {
      "tags": []
     },
     "output_type": "execute_result"
    },
    {
     "data": {
      "image/png": "[encoded data removed]",
      "text/plain": [
       "<Figure size 864x432 with 2 Axes>"
      ]
     },
     "metadata": {
      "tags": []
     },
     "output_type": "display_data"
    }
   ],
   "source": [
    "ent_acc = train_val_dropout.history['acc']\n",
    "ent_loss = train_val_dropout.history['loss']\n",
    "val_acc = train_val_dropout.history['val_acc']\n",
    "val_loss = train_val_dropout.history['val_loss']\n",
    "\n",
    "fig = plt.figure(figsize=(12,6)) \n",
    "title = fig.suptitle(\n",
    "    \"Evolución de la precisión y la función de pérdida \\nen el conjunto de entrenamiento y validación\", \n",
    "    fontsize=14) \n",
    "fig.subplots_adjust(top=0.85, wspace=0.3) \n",
    "\n",
    "ax1 = fig.add_subplot(1,2,1) \n",
    "ax1.set_title(\"Precisión\") \n",
    "ax1.set_xlabel(\"epochs\") \n",
    "ax1.set_ylabel(\"accuracy\") \n",
    "sns.lineplot(x=range(1, 11), y=ent_acc, color=\"firebrick\", ax=ax1, \n",
    "             legend=\"brief\", label=\"ent_acc\")\n",
    "sns.lineplot(x=range(1, 11), y=val_acc, color=\"darkgreen\", ax=ax1, \n",
    "             legend=\"brief\", label=\"val_acc\")\n",
    "plt.legend(loc=4)\n",
    "\n",
    "ax2 = fig.add_subplot(1,2,2) \n",
    "ax2.set_title(\"Función de pérdida\") \n",
    "ax2.set_xlabel(\"epochs\") \n",
    "ax2.set_ylabel(\"loss\")\n",
    "sns.lineplot(x=range(1, 11), y=ent_loss, color=\"darkblue\", ax=ax2, \n",
    "             legend=\"brief\", label=\"ent_loss\")\n",
    "sns.lineplot(x=range(1, 11), y=val_loss, color=\"y\", ax=ax2, \n",
    "             legend=\"brief\", label=\"val_loss\")\n",
    "plt.legend(loc=1)\n"
   ]
  },
  {
   "cell_type": "markdown",
   "metadata": {
    "colab_type": "text",
    "id": "2-aSlm3hMD-X"
   },
   "source": [
    "---\n",
    "##### Early Stopping\n",
    "---\n",
    "\n",
    "Introducimos ahora una nueva técnica de regularización para la cual necesitaremos un subconjunto de validación que no podremos usar para entrenar. \n",
    "\n",
    "De esta forma y durante el proceso iterativo de optimización de los parámetros de la red, se comparán los errores obtenidos con los datos de entrenamiento y con los datos de validación. En el caso de que durante sucesivas iteraciones, el error cometido sobre el conjunto de entrenamiento disminuya, mientras que el error en el conjunto de validación aumente, se detendrá el proceso de ajuste como un criterio de parada adicional.\n",
    "\n",
    "Así, podemos distinguir dos fases en este proceso:\n",
    "\n",
    "* Entrenamos el modelo usando la técnica de regularización `early stopping` obteniendo así el número de iteraciones óptimas.\n",
    "\n",
    "* Entrenamos el modelo con todos los datos con el número de iteraciones alcanzado en la etapa anterior.\n",
    "\n",
    "> **Fase I**\n",
    "\n",
    "Consideraremos el subconjunto de validación que hemos tomado en modelos anteriores. En este caso, aumentaremos el número de iteraciones a realizar y fijaremos como criterio de parada el siguiente: _si durante 3 iteraciones el error en el conjunto de entrenamiento disminuye y el error en el conjunto de validación aumenta, pararemos el proceso de ajuste quedándonos con un número de iteraciones óptimas_. En el modelo anterior observábamos que la precisión en el conjunto de validación disminuía en ciertas iteraciones (en relación a las anteriores) e inmediatamente aumentaba lo que nos llevaba a aceptar dicho modelo como óptimo; ahora incrementaremos el número de iteraciones a 20 aunque eso suponga un esfuerzo computacional mayor.\n",
    "\n",
    "Fijamos el número de iteraciones que se pueden dejar pasar sin que se haya registrado una mejoría y nos disponemos a entrenar nuestra red sobre el conjunto de entrenamiento reducido y observando la tasa de acierto incorrecta (`val_loss`) cometida sobre el conjunto de validación (será la métrica que debe ser monitorizada)."
   ]
  },
  {
   "cell_type": "code",
   "execution_count": 63,
   "metadata": {
    "colab": {
     "base_uri": "https://localhost:8080/",
     "height": 225
    },
    "colab_type": "code",
    "id": "wEF_I6mIMD-Z",
    "outputId": "e96ba937-771a-4a73-f40f-e1d023379223"
   },
   "outputs": [
    {
     "name": "stdout",
     "output_type": "stream",
     "text": [
      "Train on 46800 samples, validate on 18000 samples\n",
      "Epoch 1/20\n",
      "46800/46800 [==============================] - 83s 2ms/step - loss: 0.3276 - acc: 0.8810 - val_loss: 0.2573 - val_acc: 0.9054\n",
      "Epoch 2/20\n",
      "46800/46800 [==============================] - 82s 2ms/step - loss: 0.3154 - acc: 0.8862 - val_loss: 0.2489 - val_acc: 0.9094\n",
      "Epoch 3/20\n",
      "46800/46800 [==============================] - 82s 2ms/step - loss: 0.3134 - acc: 0.8858 - val_loss: 0.2700 - val_acc: 0.8948\n",
      "Epoch 4/20\n",
      "46800/46800 [==============================] - 83s 2ms/step - loss: 0.3069 - acc: 0.8895 - val_loss: 0.2670 - val_acc: 0.8974\n",
      "Epoch 5/20\n",
      "46800/46800 [==============================] - 82s 2ms/step - loss: 0.3005 - acc: 0.8907 - val_loss: 0.2568 - val_acc: 0.9042\n"
     ]
    },
    {
     "data": {
      "text/plain": [
       "<keras.callbacks.History at 0x7f5869b12278>"
      ]
     },
     "execution_count": 63,
     "metadata": {
      "tags": []
     },
     "output_type": "execute_result"
    }
   ],
   "source": [
    "CNN.fit(x_train_CNN, y_train, epochs=20, batch_size=64, \n",
    "        validation_data=(x_val_CNN, y_val),\n",
    "        callbacks=[EarlyStopping(monitor='val_loss', patience=3)])"
   ]
  },
  {
   "cell_type": "markdown",
   "metadata": {
    "colab_type": "text",
    "id": "Pa1Cyagcvfbg"
   },
   "source": [
    "> Una manera de recuperar el número de iteraciones óptimas alcanzadas en la **Fase I** es de la siguiente forma:"
   ]
  },
  {
   "cell_type": "code",
   "execution_count": 0,
   "metadata": {
    "colab": {},
    "colab_type": "code",
    "id": "GMLw7V4guruD"
   },
   "outputs": [],
   "source": [
    "num_epochs_early_stopping = len(CNN.history.epoch)"
   ]
  },
  {
   "cell_type": "markdown",
   "metadata": {
    "colab_type": "text",
    "id": "klg-j35mMD-b"
   },
   "source": [
    "> **Fase II**\n",
    "\n",
    "Alcanzado el número de iteraciones óptimas que nos devuelve la salida anterior, entrenamos el modelo fijando el número de iteraciones óptimas alcanzadas con todo el conjunto de datos, es decir entrenamiento + validación, y evaluamos su rendimiento en el conjunto test. "
   ]
  },
  {
   "cell_type": "code",
   "execution_count": 66,
   "metadata": {
    "colab": {
     "base_uri": "https://localhost:8080/",
     "height": 225
    },
    "colab_type": "code",
    "id": "flxfVJJ5MD-c",
    "outputId": "6b5c8d07-515d-4564-da1b-6ee30d8926ed"
   },
   "outputs": [
    {
     "name": "stdout",
     "output_type": "stream",
     "text": [
      "Epoch 1/5\n",
      "64800/64800 [==============================] - 108s 2ms/step - loss: 0.3049 - acc: 0.8895\n",
      "Epoch 2/5\n",
      "64800/64800 [==============================] - 108s 2ms/step - loss: 0.2999 - acc: 0.8912\n",
      "Epoch 3/5\n",
      "64800/64800 [==============================] - 109s 2ms/step - loss: 0.2952 - acc: 0.8936\n",
      "Epoch 4/5\n",
      "64800/64800 [==============================] - 108s 2ms/step - loss: 0.2902 - acc: 0.8946\n",
      "Epoch 5/5\n",
      "64800/64800 [==============================] - 108s 2ms/step - loss: 0.2907 - acc: 0.8960\n",
      "10000/10000 [==============================] - 5s 540us/step\n",
      "Precisión final alcanzada por la red normalizada y tras aplicar técnicas de regularización:  90.83 %\n"
     ]
    }
   ],
   "source": [
    "x_train_val_CNN =  np.concatenate((x_train_CNN, x_val_CNN))\n",
    "y_train_val_CNN = np.concatenate((y_train, y_val))\n",
    "\n",
    "CNN.fit(x_train_val_CNN, y_train_val_CNN, \n",
    "        epochs=num_epochs_early_stopping, batch_size=64)\n",
    "\n",
    "test_loss, test_acc = CNN.evaluate(x_test_CNN, y_test)\n",
    "print(\"Precisión final alcanzada por la red normalizada y tras aplicar técnicas de regularización: \", \n",
    "      round(100*test_acc, 2), \"%\")"
   ]
  },
  {
   "cell_type": "markdown",
   "metadata": {
    "colab_type": "text",
    "id": "GNKTSBsDLfCj"
   },
   "source": [
    "---\n",
    "\n",
    "### Redes Convolucionales Pre-entrenadas\n",
    "---\n",
    "\n",
    "Una aproximación muy común y efectivo cuando se trabaja con Deep Learning sobre conjuntos de datos pequeños, como es nuestro caso, sería el reutilizar **redes pre-entrenadas** que no es más que una red grabada que ha sido entrenada sobre un conjunto de datos grande.\n",
    "\n",
    "De esta forma, si el conjunto de datos original es lo suficientemente grande y general, la jerarquía de características espaciales que ha aprendido la red pre-entrenada puede ser útil como modelo genérico de nuestro mundo visual y, por lo tanto, sus características pueden ser de ayuda incluso en aquello problemas que involucren clases totalmente distintas a las de la tarea original. A esta portabilidad de características aprendidas entre diferentes problemas se le llama ***Transfer Learning*** o ***Transferencia de Aprendizaje***.\n",
    "\n",
    "\n",
    "-  ***Transfer Learning***\n",
    "\n",
    "Esta técnica consiste en usar representaciones aprendidas por otras redes para extraer características interesantes de nuevas muestras. Tras esta extracción, se usa la nueva representación dada por estas características para alimentar un nuevo clasificador, que (esta vez sí) será entrenado desde cero.\n",
    "\n",
    "Las CNN utilizadas para clasificar las imágenes constan de dos partes bien diferenciadas, la primera comienza por una serie de capas alternadas de convolución y pooling (**base convolucional**) y acaban con un clasificador de capas densas.  Por lo tanto, para aplicar dicha técnica a nuestros datos, vamos a aprovechar la base convolucional de la red pre-entrenada para obtener las nuevas representaciones y entrenaremos un nuevo codificador en la última parte.\n",
    "\n",
    "La razón de ignorar la parte del clasificador denso se debe a que las representaciones aprendidas en la base convolucional son más **genéricas**, por lo que podrían ser útiles para todo tipo de problemas de visión artificial.\n",
    "Por su parte, las representaciones aprendidas por el clasificador son mucho más **específicas** y se encuentran relacionadas con el problema que se está tratando.\n",
    "\n",
    "Por otra parte, en cuanto al **nivel de generalidad** de las representaciones extraídas por las capas convolucionales dependen de la **profundidad** de las capas. De esta forma, las primeras capas extraen mapas de características muy genéricas (colores, texturas, etc.), mientras que las más profundas extraen conceptos abstractos más elevados (ojos, boca, etc.). Por ello, si el conjunto de datos sobre el que estamos trabajando difiere del original, sería conveniente usar solo las primeras capas de la base convolucional.\n",
    "\n",
    "\n",
    "Para nuestro problema, vamos a implementar el modelo pre-entrenado **`VGG16`**, que es una arquitectura de ConvNets ampliamente utilizada para ImageNet.\n"
   ]
  },
  {
   "cell_type": "markdown",
   "metadata": {
    "colab_type": "text",
    "id": "7qnzbloNcM_B"
   },
   "source": [
    "###   Preprocesamiento de los datos\n",
    "---\n",
    "Vamos a comenzar por el procesamiento de nuestros datos, de manera que se adapten a la entrada de la red pre-entrenada que vamos a utilizar. En primer lugar, dado que nuestros datos han sufrido modificaciones durante la creación de **redes neuronales artificiales** y **redes neuronales convolucionales**, vamos volver a descargarlos y, sobre estos, llevaremos a cabo las modificaciones que sean oportunas."
   ]
  },
  {
   "cell_type": "code",
   "execution_count": 0,
   "metadata": {
    "colab": {},
    "colab_type": "code",
    "id": "XzYUJkSAcM_B"
   },
   "outputs": [],
   "source": [
    "(x_train, y_train), (x_test, y_test) =  tf.keras.datasets.fashion_mnist.load_data()"
   ]
  },
  {
   "cell_type": "markdown",
   "metadata": {
    "colab_type": "text",
    "id": "TPHoVGQBcM_C"
   },
   "source": [
    "> **Validación del modelo: conjunto de entrenamiento, validación y test**\n",
    "\n",
    "Con el objetivo de monitorizar la métrica *accuracy* durante la etapa de aprendizaje, necesitaremos tener un conjunto de datos con los que determinar cómo de bueno es el modelo que estamos entrenando, con unos parámetros fijos. De esta forma podremos ajustar estos parámetros para mejorar el rendimiento, así como, detectar la presencia de **overfitting** en nuestro modelo.\n",
    "\n",
    "Crearemos por tanto un conjunto de validación formado por el 30% del conjunto de entrenamiento, es decir, unas 18000 muestras.\n",
    "\n",
    ">> **Definición del conjunto de validación**"
   ]
  },
  {
   "cell_type": "code",
   "execution_count": 68,
   "metadata": {
    "colab": {
     "base_uri": "https://localhost:8080/",
     "height": 86
    },
    "colab_type": "code",
    "id": "3jV2t_boOKFp",
    "outputId": "d2d39993-218d-475e-ac97-f327c3435ce6"
   },
   "outputs": [
    {
     "name": "stdout",
     "output_type": "stream",
     "text": [
      "Dimensiones: \n",
      "- Conjunto de entrenamiento:\t(42000, 28, 28)\n",
      "- Conjunto de validación:\t(18000, 28, 28)\n",
      "- Conjunto de predicción:\t(10000, 28, 28)\n"
     ]
    }
   ],
   "source": [
    "val_size = int(0.3 * len(x_train))\n",
    "x_val = x_train[:val_size]\n",
    "y_val = y_train[:val_size]\n",
    "x_train = x_train[val_size:]\n",
    "y_train = y_train[val_size:]\n",
    "\n",
    "print(\"Dimensiones: \")\n",
    "print(\"- Conjunto de entrenamiento:\\t{}\".format(x_train.shape))\n",
    "print(\"- Conjunto de validación:\\t{}\".format(x_val.shape))\n",
    "print(\"- Conjunto de predicción:\\t{}\".format(x_test.shape))\n"
   ]
  },
  {
   "cell_type": "markdown",
   "metadata": {
    "colab_type": "text",
    "id": "FFIIwhvicM_G"
   },
   "source": [
    "---\n",
    "Una vez definidos los conjuntos necesarios para el entrenamiento, validación y predicciones de nuestro modelo, pasamos a la **adpatación de las dimensiones**. \n",
    "\n",
    "Una red convolucional, toma como dato de entrada un tensor de la forma `(image_height, image_width, image_channels)`. En este caso, el modelo `VGG16` requiere que  `(image_height, image_width)`sea como mínimo de dimensión (32,32) y, nuestros datos tienen una dimensión de (28,28), por lo que, debemos aumentar dimensión de las imágenes, en nuestro caso aumentaremos su tamaño a (48,48) . Además, en cuanto al número de canales utilizados, a diferencia del modelo definido anteriormente para el que únicamente utiizamos un solo canal (gris) en las imágenes, en este caso, debemos usar 3 canales.\n",
    "\n",
    "Por otro lado, aprovecharemos en ambas definiciones para normalizar el contenido de estas imágenes, están en escalas de grises con valores uint8 entre 0 y 255, y las pasaremos a valores float32 en  [0,1]), algo aconsejable cuando se trabaja con este tipo de modelos.\n",
    "\n",
    "Además, vamos a convertir las etiquetas (que vienen en el dataset como valores enteros), en vectores binarios para que se correspondan con la salida que nuestra red puede proporcionar. Para ello haremos uso de la función `.to_categorical()` puesto que Keras necesita que todas las etiquetas sean codificadas de forma numérica, lo que significa que hemos de añadir una columna numérica a cada muestra para representar la clase a la que pertenece de forma binaria (es lo que se llama **_one-hot-encoding_**):\n",
    "\n",
    "---"
   ]
  },
  {
   "cell_type": "markdown",
   "metadata": {
    "colab_type": "text",
    "id": "iJFzXkjFcM_H"
   },
   "source": [
    "* **Aplanamiento de los datos**"
   ]
  },
  {
   "cell_type": "code",
   "execution_count": 69,
   "metadata": {
    "colab": {
     "base_uri": "https://localhost:8080/",
     "height": 86
    },
    "colab_type": "code",
    "id": "XqI9MoaPZOeJ",
    "outputId": "c7328b9c-8f7a-4334-ada0-019b7722f074"
   },
   "outputs": [
    {
     "name": "stdout",
     "output_type": "stream",
     "text": [
      "Dimensiones: \n",
      "- Conjunto de entrenamiento:\t(42000, 784)\n",
      "- Conjunto de validación:\t(18000, 784)\n",
      "- Conjunto de predicción:\t(10000, 784)\n"
     ]
    }
   ],
   "source": [
    "x_train = x_train.reshape((42000, 28*28))\n",
    "x_val = x_val.reshape((18000, 28*28))\n",
    "x_test = x_test.reshape((10000, 28*28))\n",
    "\n",
    "print(\"Dimensiones: \")\n",
    "print(\"- Conjunto de entrenamiento:\\t{}\".format(x_train.shape))\n",
    "print(\"- Conjunto de validación:\\t{}\".format(x_val.shape))\n",
    "print(\"- Conjunto de predicción:\\t{}\".format(x_test.shape))\n"
   ]
  },
  {
   "cell_type": "markdown",
   "metadata": {
    "colab_type": "text",
    "id": "7En1zrRtcM_J"
   },
   "source": [
    "---\n",
    "* **Conversión de datos en 3 canales**"
   ]
  },
  {
   "cell_type": "code",
   "execution_count": 70,
   "metadata": {
    "colab": {
     "base_uri": "https://localhost:8080/",
     "height": 86
    },
    "colab_type": "code",
    "id": "aRhwZVH_VM-8",
    "outputId": "d2bed1c2-16f4-40a7-8094-d77677c965eb"
   },
   "outputs": [
    {
     "name": "stdout",
     "output_type": "stream",
     "text": [
      "Dimensiones: \n",
      "- Conjunto de entrenamiento:\t(42000, 784, 3)\n",
      "- Conjunto de validación:\t(18000, 784, 3)\n",
      "- Conjunto de predicción:\t(10000, 784, 3)\n"
     ]
    }
   ],
   "source": [
    "x_train = np.dstack([x_train] * 3)\n",
    "x_val = np.dstack([x_val] * 3)\n",
    "x_test = np.dstack([x_test] * 3)\n",
    "\n",
    "print(\"Dimensiones: \")\n",
    "print(\"- Conjunto de entrenamiento:\\t{}\".format(x_train.shape))\n",
    "print(\"- Conjunto de validación:\\t{}\".format(x_val.shape))\n",
    "print(\"- Conjunto de predicción:\\t{}\".format(x_test.shape))"
   ]
  },
  {
   "cell_type": "markdown",
   "metadata": {
    "colab_type": "text",
    "id": "vjFb37hYcM_M"
   },
   "source": [
    "---\n",
    "* **Remodelación de datos**"
   ]
  },
  {
   "cell_type": "code",
   "execution_count": 71,
   "metadata": {
    "colab": {
     "base_uri": "https://localhost:8080/",
     "height": 86
    },
    "colab_type": "code",
    "id": "eHFM3EX4aDcC",
    "outputId": "2cc725d2-c5f8-4633-c51b-261baf718fec"
   },
   "outputs": [
    {
     "name": "stdout",
     "output_type": "stream",
     "text": [
      "Dimensiones: \n",
      "- Conjunto de entrenamiento:\t(42000, 28, 28, 3)\n",
      "- Conjunto de validación:\t(18000, 28, 28, 3)\n",
      "- Conjunto de predicción:\t(10000, 28, 28, 3)\n"
     ]
    }
   ],
   "source": [
    "x_train = x_train.reshape(-1, 28,28,3)\n",
    "x_val = x_val.reshape (-1,28,28,3)\n",
    "x_test = x_test.reshape (-1,28,28,3)\n",
    "\n",
    "print(\"Dimensiones: \")\n",
    "print(\"- Conjunto de entrenamiento:\\t{}\".format(x_train.shape))\n",
    "print(\"- Conjunto de validación:\\t{}\".format(x_val.shape))\n",
    "print(\"- Conjunto de predicción:\\t{}\".format(x_test.shape))\n"
   ]
  },
  {
   "cell_type": "markdown",
   "metadata": {
    "colab_type": "text",
    "id": "EyGyGgOgcM_P"
   },
   "source": [
    "---\n",
    "* **Redimensión de los datos**"
   ]
  },
  {
   "cell_type": "code",
   "execution_count": 72,
   "metadata": {
    "colab": {
     "base_uri": "https://localhost:8080/",
     "height": 86
    },
    "colab_type": "code",
    "id": "ffyGihtCaTHD",
    "outputId": "90a90d69-9bbc-41dd-ed1c-689d732751ac"
   },
   "outputs": [
    {
     "name": "stdout",
     "output_type": "stream",
     "text": [
      "Dimensiones: \n",
      "- Conjunto de entrenamiento:\t(42000, 48, 48, 3)\n",
      "- Conjunto de validación:\t(18000, 48, 48, 3)\n",
      "- Conjunto de predicción:\t(10000, 48, 48, 3)\n"
     ]
    }
   ],
   "source": [
    "x_train = np.asarray([img_to_array(array_to_img(im, scale = False).resize((48,48))) for im in x_train])\n",
    "x_val = np.asarray([img_to_array(array_to_img(im, scale = False).resize((48,48))) for im in x_val])\n",
    "x_test = np.asarray([img_to_array(array_to_img(im, scale = False).resize((48,48))) for im in x_test])\n",
    "\n",
    "print(\"Dimensiones: \")\n",
    "print(\"- Conjunto de entrenamiento:\\t{}\".format(x_train.shape))\n",
    "print(\"- Conjunto de validación:\\t{}\".format(x_val.shape))\n",
    "print(\"- Conjunto de predicción:\\t{}\".format(x_test.shape))\n"
   ]
  },
  {
   "cell_type": "markdown",
   "metadata": {
    "colab_type": "text",
    "id": "NxfOn-PCcM_T"
   },
   "source": [
    "---\n",
    "* **Normalización de los datos**"
   ]
  },
  {
   "cell_type": "code",
   "execution_count": 0,
   "metadata": {
    "colab": {},
    "colab_type": "code",
    "id": "phdTiudrbfY1"
   },
   "outputs": [],
   "source": [
    "x_train = x_train.astype('float32') / 255\n",
    "x_val = x_val.astype('float32') / 255\n",
    "x_test = x_test.astype('float32') / 255"
   ]
  },
  {
   "cell_type": "markdown",
   "metadata": {
    "colab_type": "text",
    "id": "uM5wLmOfcM_V"
   },
   "source": [
    "---\n",
    "* **Codificación de etiquetas**"
   ]
  },
  {
   "cell_type": "code",
   "execution_count": 0,
   "metadata": {
    "colab": {},
    "colab_type": "code",
    "id": "Azixs2gUcAyO"
   },
   "outputs": [],
   "source": [
    "y_train_one_hot = to_categorical(y_train)\n",
    "y_val_one_hot = to_categorical(y_val)\n",
    "y_test_one_hot = to_categorical(y_test)"
   ]
  },
  {
   "cell_type": "markdown",
   "metadata": {
    "colab_type": "text",
    "id": "-FSSQrY5cM_Z"
   },
   "source": [
    "---\n",
    "* **Preprocesamiento de los datos de entrada**"
   ]
  },
  {
   "cell_type": "code",
   "execution_count": 0,
   "metadata": {
    "colab": {},
    "colab_type": "code",
    "id": "Z9OskqmacP0N"
   },
   "outputs": [],
   "source": [
    "x_train = preprocess_input(x_train)\n",
    "x_val = preprocess_input(x_val)\n",
    "x_test  = preprocess_input (x_test)"
   ]
  },
  {
   "cell_type": "markdown",
   "metadata": {
    "colab_type": "text",
    "id": "8eQz6eVXcM_a"
   },
   "source": [
    "###   Construcción del modelo\n",
    "---"
   ]
  },
  {
   "cell_type": "markdown",
   "metadata": {
    "colab_type": "text",
    "id": "t5Kk9k-fcM_b"
   },
   "source": [
    "* **Creación de un modelo base de `VGG16`**"
   ]
  },
  {
   "cell_type": "code",
   "execution_count": 76,
   "metadata": {
    "colab": {
     "base_uri": "https://localhost:8080/",
     "height": 833
    },
    "colab_type": "code",
    "id": "S6at03Srca1S",
    "outputId": "7ec2c4be-f3b4-40ff-e0bf-f1d45bfa24a7"
   },
   "outputs": [
    {
     "name": "stdout",
     "output_type": "stream",
     "text": [
      "Downloading data from https://github.com/fchollet/deep-learning-models/releases/download/v0.1/vgg16_weights_tf_dim_ordering_tf_kernels_notop.h5\n",
      "58892288/58889256 [==============================] - 3s 0us/step\n",
      "_________________________________________________________________\n",
      "Layer (type)                 Output Shape              Param #   \n",
      "=================================================================\n",
      "input_1 (InputLayer)         (None, 48, 48, 3)         0         \n",
      "_________________________________________________________________\n",
      "block1_conv1 (Conv2D)        (None, 48, 48, 64)        1792      \n",
      "_________________________________________________________________\n",
      "block1_conv2 (Conv2D)        (None, 48, 48, 64)        36928     \n",
      "_________________________________________________________________\n",
      "block1_pool (MaxPooling2D)   (None, 24, 24, 64)        0         \n",
      "_________________________________________________________________\n",
      "block2_conv1 (Conv2D)        (None, 24, 24, 128)       73856     \n",
      "_________________________________________________________________\n",
      "block2_conv2 (Conv2D)        (None, 24, 24, 128)       147584    \n",
      "_________________________________________________________________\n",
      "block2_pool (MaxPooling2D)   (None, 12, 12, 128)       0         \n",
      "_________________________________________________________________\n",
      "block3_conv1 (Conv2D)        (None, 12, 12, 256)       295168    \n",
      "_________________________________________________________________\n",
      "block3_conv2 (Conv2D)        (None, 12, 12, 256)       590080    \n",
      "_________________________________________________________________\n",
      "block3_conv3 (Conv2D)        (None, 12, 12, 256)       590080    \n",
      "_________________________________________________________________\n",
      "block3_pool (MaxPooling2D)   (None, 6, 6, 256)         0         \n",
      "_________________________________________________________________\n",
      "block4_conv1 (Conv2D)        (None, 6, 6, 512)         1180160   \n",
      "_________________________________________________________________\n",
      "block4_conv2 (Conv2D)        (None, 6, 6, 512)         2359808   \n",
      "_________________________________________________________________\n",
      "block4_conv3 (Conv2D)        (None, 6, 6, 512)         2359808   \n",
      "_________________________________________________________________\n",
      "block4_pool (MaxPooling2D)   (None, 3, 3, 512)         0         \n",
      "_________________________________________________________________\n",
      "block5_conv1 (Conv2D)        (None, 3, 3, 512)         2359808   \n",
      "_________________________________________________________________\n",
      "block5_conv2 (Conv2D)        (None, 3, 3, 512)         2359808   \n",
      "_________________________________________________________________\n",
      "block5_conv3 (Conv2D)        (None, 3, 3, 512)         2359808   \n",
      "_________________________________________________________________\n",
      "block5_pool (MaxPooling2D)   (None, 1, 1, 512)         0         \n",
      "=================================================================\n",
      "Total params: 14,714,688\n",
      "Trainable params: 14,714,688\n",
      "Non-trainable params: 0\n",
      "_________________________________________________________________\n"
     ]
    }
   ],
   "source": [
    "conv_base = VGG16(weights = 'imagenet',\n",
    "                  include_top = False,\n",
    "                  input_shape = (48, 48, 3), \n",
    "                  classes = 10)\n",
    "\n",
    "conv_base.summary()"
   ]
  },
  {
   "cell_type": "markdown",
   "metadata": {
    "colab_type": "text",
    "id": "BGfVLpmrcM_c"
   },
   "source": [
    "---\n",
    "* **Extracción de características**"
   ]
  },
  {
   "cell_type": "code",
   "execution_count": 77,
   "metadata": {
    "colab": {
     "base_uri": "https://localhost:8080/",
     "height": 139
    },
    "colab_type": "code",
    "id": "h0lFSG4UTbzB",
    "outputId": "178eab36-6223-4980-ff0d-87f5abfa061e"
   },
   "outputs": [
    {
     "name": "stdout",
     "output_type": "stream",
     "text": [
      "42000/42000 [==============================] - 361s 9ms/step\n",
      "10000/10000 [==============================] - 86s 9ms/step\n",
      "18000/18000 [==============================] - 155s 9ms/step\n",
      "Dimensiones: \n",
      "- Conjunto de entrenamiento:\t(42000, 1, 1, 512)\n",
      "- Conjunto de predicción:\t(10000, 1, 1, 512)\n",
      "- Conjunto de validación:\t(18000, 1, 1, 512)\n"
     ]
    }
   ],
   "source": [
    "train_features = conv_base.predict(np.array(x_train), batch_size = 16, verbose = 1)\n",
    "test_features = conv_base.predict(np.array(x_test), batch_size = 16, verbose = 1)\n",
    "val_features = conv_base.predict(np.array(x_val), batch_size = 16, verbose = 1)\n",
    "\n",
    "print(\"Dimensiones: \")\n",
    "print(\"- Conjunto de entrenamiento:\\t{}\".format(train_features.shape))\n",
    "print(\"- Conjunto de predicción:\\t{}\".format(test_features.shape))\n",
    "print(\"- Conjunto de validación:\\t{}\".format(val_features.shape))"
   ]
  },
  {
   "cell_type": "markdown",
   "metadata": {
    "colab_type": "text",
    "id": "YJ8fjWz-cM_e"
   },
   "source": [
    "---\n",
    "* **Aplanamiento de las características extraídas**"
   ]
  },
  {
   "cell_type": "code",
   "execution_count": 85,
   "metadata": {
    "colab": {
     "base_uri": "https://localhost:8080/",
     "height": 86
    },
    "colab_type": "code",
    "id": "7fHJWYN4dLDv",
    "outputId": "aaa22596-21c8-4c4c-8231-33ef8975878a"
   },
   "outputs": [
    {
     "name": "stdout",
     "output_type": "stream",
     "text": [
      "Dimensiones: \n",
      "- Conjunto de entrenamiento:\t(42000, 512)\n",
      "- Conjunto de predicción:\t(10000, 512)\n",
      "- Conjunto de validación:\t(18000, 512)\n"
     ]
    }
   ],
   "source": [
    "train_features_flat = np.reshape(train_features, (42000, 1*1*512))\n",
    "test_features_flat = np.reshape(test_features, (10000, 1*1*512))\n",
    "val_features_flat = np.reshape(val_features, (18000, 1*1*512))\n",
    "\n",
    "print(\"Dimensiones: \")\n",
    "print(\"- Conjunto de entrenamiento:\\t{}\".format(train_features_flat.shape))\n",
    "print(\"- Conjunto de predicción:\\t{}\".format(test_features_flat.shape))\n",
    "print(\"- Conjunto de validación:\\t{}\".format(val_features_flat.shape))"
   ]
  },
  {
   "cell_type": "markdown",
   "metadata": {
    "colab_type": "text",
    "id": "GrKuLVOVcM_g"
   },
   "source": [
    "---\n",
    "* **Construcción del clasificador de capas densas**\n",
    "---\n",
    "Explicamos a continuación el proceso de construcción de la red neuronal que posteriormente, implementaremos con código:\n",
    "\n",
    "Vamos a diseñar la arquitectura denuestro clasificador decidiendo el **número de capas** y las **funciones de activación**. De manera que, nuestro clasificador de capas densas estará formado por una secuencia de 2 capas *`tf.keras.layers.Dense`* y una capa *`tf.keras.layers.Dropout`*. La primera es una capas neuronal densamente conectada, mientras que la última se trata de una técnica de regularización para evitar así el **sobreajuste**.\n",
    "\n",
    "\n",
    " La primera capa (_capa de entrada)_, tiene 256 nodos (o neuronas). En ella, además del número de nodos, debemos especificar la dimensión de nuestros datos de entrada que, en nuestro caso, sería  de (512,) dado que hemos _aplanado_ las imágenes. Las segunda capa (_capa oculta_) se trata de una capa Dropout  que se encarga de eliminar el número de características de salida de la capa durante el entrenamiento de manera que las neuronas con las que está conectada la neurona afectada han de aprender la misma representación sin considerar su trabajo conjunto, lo que lleva a disponer de **representaciones internas más robustas e independientes**.\n",
    "\n",
    "\n",
    "Finalmente, la cuarta y última capa (_capa de salida_), consta de 10 nodos que devuelve una matriz de 10 puntuaciones de probabilidad que suman 1, de manera que cada nodo tiene asignado una puntuación que indica la probabilidad de que la imagen actual pertenezca a una de las 10 clases.\n",
    "\n",
    "Además del número de neuronas por cada capa, hemos de especificar las **funciones de activación** en cada una de ellas. Para ello, en la capa de entrada  vamos a hacer uso de una función de activación **ReLU**.\n",
    "\n",
    "Finalmente, para la capa de salida, vamos a hacer uso de una función de activación **softmax** (_función exponencial normalizada_).\n",
    "\n",
    "---"
   ]
  },
  {
   "cell_type": "code",
   "execution_count": 97,
   "metadata": {
    "colab": {
     "base_uri": "https://localhost:8080/",
     "height": 243
    },
    "colab_type": "code",
    "id": "JpH5vqbkyU06",
    "outputId": "64847e87-412d-4313-b443-66202e6acfb1"
   },
   "outputs": [
    {
     "name": "stdout",
     "output_type": "stream",
     "text": [
      "_________________________________________________________________\n",
      "Layer (type)                 Output Shape              Param #   \n",
      "=================================================================\n",
      "dense_26 (Dense)             (None, 256)               131328    \n",
      "_________________________________________________________________\n",
      "dropout_5 (Dropout)          (None, 256)               0         \n",
      "_________________________________________________________________\n",
      "dense_27 (Dense)             (None, 10)                2570      \n",
      "=================================================================\n",
      "Total params: 133,898\n",
      "Trainable params: 133,898\n",
      "Non-trainable params: 0\n",
      "_________________________________________________________________\n"
     ]
    }
   ],
   "source": [
    "model = Sequential()\n",
    "model.add(Dense(256, activation = 'relu', input_dim = 512))\n",
    "model.add(Dropout(0.5))\n",
    "model.add(Dense(10, activation = 'softmax')) \n",
    "model.summary()\n"
   ]
  },
  {
   "cell_type": "markdown",
   "metadata": {
    "colab_type": "text",
    "id": "D_5eVkzKcM_h"
   },
   "source": [
    "---\n",
    "* **Compilación del modelo**\n",
    "---\n",
    "Una vez hayamos definido la estructura de la red, hemos de especificar información acerca de cómo se llevara a cabo el entrenamiento de la misma. Para ello, vamos a definir ciertas características adicionales tales como la función de pérdida, el optimizados y la métrica.\n",
    "\n",
    "La **función de pérdida**  mide la precición del modelo durante el entrenamiento de manera que nuestro objetivo sería minimizar esta función. En nuestro caso, vamos a hacer uso de la función de pérdida **`categorical_corssentropy`** que hace referencia a la _entropía cruzada_.\n",
    "\n",
    "Por otra parte, en cuanto al  **optimizador**, vamos a hacer uso del optimizador _Adam_ el cual nos permite trabajar con el parámetro de la tasa de aprendizaje *(learning_rate)*. En nuestro caso, vamos a tomar como valor del parámetro 1e-5.\n",
    "\n",
    "\n",
    "Finalmente, la **métrica** se encarga de medir cómo se comporta la red durante el entrenamiento. Para ello, vamos a usar la métrica _accuracy_ que determina la tasa de clasificación correcta de las predicciones.\n",
    "\n"
   ]
  },
  {
   "cell_type": "code",
   "execution_count": 0,
   "metadata": {
    "colab": {},
    "colab_type": "code",
    "id": "m6W3z8QkcM_i"
   },
   "outputs": [],
   "source": [
    "opt = Adam(lr = 1e-5)\n",
    "\n",
    "model.compile(optimizer = opt,\n",
    "            loss = 'categorical_crossentropy',\n",
    "            metrics = ['accuracy'])"
   ]
  },
  {
   "cell_type": "markdown",
   "metadata": {
    "colab_type": "text",
    "id": "16qwGRe1d1aS"
   },
   "source": [
    "---\n",
    "* **Técnica de regularización** \n",
    "---\n",
    "\n",
    "> ***Early Stopping*** y ***ReduceLROnPlateau***\n",
    "---\n",
    "\n",
    "Introducimos ahora dos  técnicaa de regularización. Para la técnica de early sttoping necesitaremos un subconjunto de validación que no podremos usar para entrenar. \n",
    "\n",
    "De esta forma y durante el proceso iterativo de optimización de los parámetros de la red, se comparán los errores obtenidos con los datos de entrenamiento y con los datos de validación. En el caso de que durante sucesivas iteraciones, el error cometido sobre el conjunto de entrenamiento disminuya, mientras que el error en el conjunto de validación aumente, se detendrá el proceso de ajuste como un criterio de parada adicional.\n",
    "\n",
    "Por otra parte, vamos a hacer uso de la técnica ReduceLROnPlateau que se encarga de reduir el valor del parámetro *learning_rate* cuando la precisión ha dejado de mejorar. \n",
    "\n",
    "Es habitual que los modelos mejoren su precisión al reducir la tasa de aprendizaje en un factor de 0.2 una vez que el aprendizaje se estanca. De esta forma, gracias a esta técnica, si no se observa mejora para un número de épocas dadas por el parámetro *patience*, la tasa de aprendizaje se reduce. Además, vamos a indicar una tasa de aprendizaje mínima mediante el parámetro *min_lr* y, gracias al parámetro *cooldown* vamos a indicarle el número de épocas a esperar antes de reanudar el funcionamiento normal una vez hayamos reducido la tasa de aprendizaje.\n"
   ]
  },
  {
   "cell_type": "code",
   "execution_count": 0,
   "metadata": {
    "colab": {},
    "colab_type": "code",
    "id": "NzCKsWCLcM_l"
   },
   "outputs": [],
   "source": [
    "reduce_learning = ReduceLROnPlateau( monitor='val_loss', factor = 0.2, patience = 2, verbose = 1, mode = 'auto', cooldown = 2, min_lr = 0)\n",
    "early_stopping = EarlyStopping(monitor = 'val_loss', min_delta = 0, patience = 7, verbose = 1, mode = 'auto')\n",
    "callbacks = [early_stopping, reduce_learning]"
   ]
  },
  {
   "cell_type": "markdown",
   "metadata": {
    "colab_type": "text",
    "id": "A3wd10ZK0uy6"
   },
   "source": [
    "---\n",
    "* **Entrenamiento de la red neuronal**\n",
    "---\n",
    "Una vez definida la estructura y compilada, ya podemos entrenar la red. Para ello vamos a hacer uso de la función `.fit()`.\n",
    "\n",
    "\n",
    "Para el parámetro **epoch**, que estructura el entrenamiento en _épocas_, de manera que una época es una iteración sobre todos los datos de entradas , tomaremos el valor 100.\n",
    "\n",
    "Finalmente, el parámetro **validation_data** permite que el modelo supervise su rendimiento en un subconjunto del conjunto de entrenamiento, al que llamaremos conjunto de validación. "
   ]
  },
  {
   "cell_type": "code",
   "execution_count": 100,
   "metadata": {
    "colab": {
     "base_uri": "https://localhost:8080/",
     "height": 1000
    },
    "colab_type": "code",
    "id": "bVPGIp_4Oo4v",
    "outputId": "7cc2dde5-4508-4a96-947b-52460516c174"
   },
   "outputs": [
    {
     "name": "stdout",
     "output_type": "stream",
     "text": [
      "Train on 42000 samples, validate on 18000 samples\n",
      "Epoch 1/100\n",
      "42000/42000 [==============================] - 7s 173us/step - loss: 7.6660 - acc: 0.1023 - val_loss: 2.4121 - val_acc: 0.1104\n",
      "Epoch 2/100\n",
      "42000/42000 [==============================] - 6s 142us/step - loss: 5.9608 - acc: 0.1044 - val_loss: 2.2306 - val_acc: 0.1691\n",
      "Epoch 3/100\n",
      "42000/42000 [==============================] - 5s 131us/step - loss: 4.5541 - acc: 0.1152 - val_loss: 2.1064 - val_acc: 0.2416\n",
      "Epoch 4/100\n",
      "42000/42000 [==============================] - 5s 131us/step - loss: 3.3960 - acc: 0.1330 - val_loss: 2.0160 - val_acc: 0.2968\n",
      "Epoch 5/100\n",
      "42000/42000 [==============================] - 6s 132us/step - loss: 2.5982 - acc: 0.1664 - val_loss: 1.9491 - val_acc: 0.3468\n",
      "Epoch 6/100\n",
      "42000/42000 [==============================] - 6s 132us/step - loss: 2.1641 - acc: 0.2230 - val_loss: 1.8891 - val_acc: 0.3975\n",
      "Epoch 7/100\n",
      "42000/42000 [==============================] - 5s 127us/step - loss: 1.9700 - acc: 0.2821 - val_loss: 1.8356 - val_acc: 0.4260\n",
      "Epoch 8/100\n",
      "42000/42000 [==============================] - 5s 130us/step - loss: 1.8764 - acc: 0.3230 - val_loss: 1.7864 - val_acc: 0.4557\n",
      "Epoch 9/100\n",
      "42000/42000 [==============================] - 6s 133us/step - loss: 1.8164 - acc: 0.3502 - val_loss: 1.7347 - val_acc: 0.4371\n",
      "Epoch 10/100\n",
      "42000/42000 [==============================] - 6s 131us/step - loss: 1.7709 - acc: 0.3660 - val_loss: 1.6900 - val_acc: 0.4684\n",
      "Epoch 11/100\n",
      "42000/42000 [==============================] - 5s 130us/step - loss: 1.7265 - acc: 0.3798 - val_loss: 1.6494 - val_acc: 0.4834\n",
      "Epoch 12/100\n",
      "42000/42000 [==============================] - 5s 129us/step - loss: 1.6884 - acc: 0.3898 - val_loss: 1.6129 - val_acc: 0.4808\n",
      "Epoch 13/100\n",
      "42000/42000 [==============================] - 6s 131us/step - loss: 1.6579 - acc: 0.4017 - val_loss: 1.5808 - val_acc: 0.4960\n",
      "Epoch 14/100\n",
      "42000/42000 [==============================] - 5s 130us/step - loss: 1.6273 - acc: 0.4116 - val_loss: 1.5521 - val_acc: 0.4994\n",
      "Epoch 15/100\n",
      "42000/42000 [==============================] - 5s 129us/step - loss: 1.6010 - acc: 0.4171 - val_loss: 1.5258 - val_acc: 0.5127\n",
      "Epoch 16/100\n",
      "42000/42000 [==============================] - 6s 132us/step - loss: 1.5772 - acc: 0.4256 - val_loss: 1.5028 - val_acc: 0.5155\n",
      "Epoch 17/100\n",
      "42000/42000 [==============================] - 5s 129us/step - loss: 1.5561 - acc: 0.4334 - val_loss: 1.4806 - val_acc: 0.5190\n",
      "Epoch 18/100\n",
      "42000/42000 [==============================] - 6s 132us/step - loss: 1.5339 - acc: 0.4421 - val_loss: 1.4611 - val_acc: 0.5230\n",
      "Epoch 19/100\n",
      "42000/42000 [==============================] - 5s 128us/step - loss: 1.5187 - acc: 0.4492 - val_loss: 1.4433 - val_acc: 0.5228\n",
      "Epoch 20/100\n",
      "42000/42000 [==============================] - 5s 130us/step - loss: 1.4981 - acc: 0.4575 - val_loss: 1.4253 - val_acc: 0.5321\n",
      "Epoch 21/100\n",
      "42000/42000 [==============================] - 5s 128us/step - loss: 1.4799 - acc: 0.4608 - val_loss: 1.4104 - val_acc: 0.5308\n",
      "Epoch 22/100\n",
      "42000/42000 [==============================] - 5s 129us/step - loss: 1.4656 - acc: 0.4700 - val_loss: 1.3949 - val_acc: 0.5328\n",
      "Epoch 23/100\n",
      "42000/42000 [==============================] - 5s 129us/step - loss: 1.4496 - acc: 0.4717 - val_loss: 1.3801 - val_acc: 0.5401\n",
      "Epoch 24/100\n",
      "42000/42000 [==============================] - 5s 128us/step - loss: 1.4361 - acc: 0.4799 - val_loss: 1.3663 - val_acc: 0.5449\n",
      "Epoch 25/100\n",
      "42000/42000 [==============================] - 5s 128us/step - loss: 1.4250 - acc: 0.4837 - val_loss: 1.3541 - val_acc: 0.5472\n",
      "Epoch 26/100\n",
      "42000/42000 [==============================] - 5s 130us/step - loss: 1.4137 - acc: 0.4843 - val_loss: 1.3422 - val_acc: 0.5507\n",
      "Epoch 27/100\n",
      "42000/42000 [==============================] - 5s 129us/step - loss: 1.4028 - acc: 0.4923 - val_loss: 1.3309 - val_acc: 0.5513\n",
      "Epoch 28/100\n",
      "42000/42000 [==============================] - 5s 129us/step - loss: 1.3907 - acc: 0.4951 - val_loss: 1.3198 - val_acc: 0.5567\n",
      "Epoch 29/100\n",
      "42000/42000 [==============================] - 5s 130us/step - loss: 1.3775 - acc: 0.5027 - val_loss: 1.3078 - val_acc: 0.5587\n",
      "Epoch 30/100\n",
      "42000/42000 [==============================] - 5s 129us/step - loss: 1.3672 - acc: 0.5066 - val_loss: 1.2991 - val_acc: 0.5609\n",
      "Epoch 31/100\n",
      "42000/42000 [==============================] - 6s 132us/step - loss: 1.3583 - acc: 0.5094 - val_loss: 1.2902 - val_acc: 0.5654\n",
      "Epoch 32/100\n",
      "42000/42000 [==============================] - 5s 131us/step - loss: 1.3479 - acc: 0.5147 - val_loss: 1.2800 - val_acc: 0.5704\n",
      "Epoch 33/100\n",
      "42000/42000 [==============================] - 5s 129us/step - loss: 1.3375 - acc: 0.5202 - val_loss: 1.2701 - val_acc: 0.5726\n",
      "Epoch 34/100\n",
      "42000/42000 [==============================] - 5s 127us/step - loss: 1.3310 - acc: 0.5198 - val_loss: 1.2628 - val_acc: 0.5742\n",
      "Epoch 35/100\n",
      "42000/42000 [==============================] - 6s 131us/step - loss: 1.3222 - acc: 0.5243 - val_loss: 1.2538 - val_acc: 0.5783\n",
      "Epoch 36/100\n",
      "42000/42000 [==============================] - 5s 129us/step - loss: 1.3121 - acc: 0.5254 - val_loss: 1.2461 - val_acc: 0.5761\n",
      "Epoch 37/100\n",
      "42000/42000 [==============================] - 5s 130us/step - loss: 1.3062 - acc: 0.5287 - val_loss: 1.2375 - val_acc: 0.5847\n",
      "Epoch 38/100\n",
      "42000/42000 [==============================] - 6s 132us/step - loss: 1.3006 - acc: 0.5302 - val_loss: 1.2304 - val_acc: 0.5866\n",
      "Epoch 39/100\n",
      "42000/42000 [==============================] - 5s 128us/step - loss: 1.2950 - acc: 0.5340 - val_loss: 1.2247 - val_acc: 0.5832\n",
      "Epoch 40/100\n",
      "42000/42000 [==============================] - 5s 127us/step - loss: 1.2836 - acc: 0.5402 - val_loss: 1.2173 - val_acc: 0.5918\n",
      "Epoch 41/100\n",
      "42000/42000 [==============================] - 5s 130us/step - loss: 1.2778 - acc: 0.5376 - val_loss: 1.2103 - val_acc: 0.5927\n",
      "Epoch 42/100\n",
      "42000/42000 [==============================] - 5s 127us/step - loss: 1.2700 - acc: 0.5460 - val_loss: 1.2032 - val_acc: 0.5924\n",
      "Epoch 43/100\n",
      "42000/42000 [==============================] - 5s 128us/step - loss: 1.2642 - acc: 0.5468 - val_loss: 1.1970 - val_acc: 0.5966\n",
      "Epoch 44/100\n",
      "42000/42000 [==============================] - 6s 131us/step - loss: 1.2583 - acc: 0.5482 - val_loss: 1.1912 - val_acc: 0.5961\n",
      "Epoch 45/100\n",
      "42000/42000 [==============================] - 5s 129us/step - loss: 1.2466 - acc: 0.5545 - val_loss: 1.1839 - val_acc: 0.6006\n",
      "Epoch 46/100\n",
      "42000/42000 [==============================] - 5s 130us/step - loss: 1.2455 - acc: 0.5544 - val_loss: 1.1796 - val_acc: 0.6044\n",
      "Epoch 47/100\n",
      "42000/42000 [==============================] - 5s 128us/step - loss: 1.2374 - acc: 0.5581 - val_loss: 1.1733 - val_acc: 0.6007\n",
      "Epoch 48/100\n",
      "42000/42000 [==============================] - 5s 131us/step - loss: 1.2336 - acc: 0.5612 - val_loss: 1.1680 - val_acc: 0.6081\n",
      "Epoch 49/100\n",
      "42000/42000 [==============================] - 5s 127us/step - loss: 1.2287 - acc: 0.5621 - val_loss: 1.1624 - val_acc: 0.6093\n",
      "Epoch 50/100\n",
      "42000/42000 [==============================] - 5s 129us/step - loss: 1.2224 - acc: 0.5635 - val_loss: 1.1569 - val_acc: 0.6056\n",
      "Epoch 51/100\n",
      "42000/42000 [==============================] - 5s 129us/step - loss: 1.2204 - acc: 0.5661 - val_loss: 1.1517 - val_acc: 0.6098\n",
      "Epoch 52/100\n",
      "42000/42000 [==============================] - 6s 132us/step - loss: 1.2117 - acc: 0.5709 - val_loss: 1.1457 - val_acc: 0.6111\n",
      "Epoch 53/100\n",
      "42000/42000 [==============================] - 6s 154us/step - loss: 1.2067 - acc: 0.5701 - val_loss: 1.1404 - val_acc: 0.6091\n",
      "Epoch 54/100\n",
      "42000/42000 [==============================] - 6s 144us/step - loss: 1.2022 - acc: 0.5701 - val_loss: 1.1365 - val_acc: 0.6180\n",
      "Epoch 55/100\n",
      "42000/42000 [==============================] - 6s 132us/step - loss: 1.1949 - acc: 0.5753 - val_loss: 1.1308 - val_acc: 0.6158\n",
      "Epoch 56/100\n",
      "42000/42000 [==============================] - 6s 133us/step - loss: 1.1915 - acc: 0.5780 - val_loss: 1.1263 - val_acc: 0.6176\n",
      "Epoch 57/100\n",
      "42000/42000 [==============================] - 6s 137us/step - loss: 1.1883 - acc: 0.5787 - val_loss: 1.1236 - val_acc: 0.6181\n",
      "Epoch 58/100\n",
      "42000/42000 [==============================] - 6s 137us/step - loss: 1.1837 - acc: 0.5787 - val_loss: 1.1169 - val_acc: 0.6239\n",
      "Epoch 59/100\n",
      "42000/42000 [==============================] - 5s 130us/step - loss: 1.1815 - acc: 0.5793 - val_loss: 1.1127 - val_acc: 0.6215\n",
      "Epoch 60/100\n",
      "42000/42000 [==============================] - 5s 129us/step - loss: 1.1730 - acc: 0.5862 - val_loss: 1.1080 - val_acc: 0.6268\n",
      "Epoch 61/100\n",
      "42000/42000 [==============================] - 5s 128us/step - loss: 1.1698 - acc: 0.5850 - val_loss: 1.1042 - val_acc: 0.6274\n",
      "Epoch 62/100\n",
      "42000/42000 [==============================] - 6s 131us/step - loss: 1.1652 - acc: 0.5854 - val_loss: 1.0998 - val_acc: 0.6303\n",
      "Epoch 63/100\n",
      "42000/42000 [==============================] - 6s 133us/step - loss: 1.1620 - acc: 0.5897 - val_loss: 1.0959 - val_acc: 0.6277\n",
      "Epoch 64/100\n",
      "42000/42000 [==============================] - 6s 131us/step - loss: 1.1572 - acc: 0.5898 - val_loss: 1.0918 - val_acc: 0.6308\n",
      "Epoch 65/100\n",
      "42000/42000 [==============================] - 5s 130us/step - loss: 1.1519 - acc: 0.5952 - val_loss: 1.0878 - val_acc: 0.6335\n",
      "Epoch 66/100\n",
      "42000/42000 [==============================] - 6s 132us/step - loss: 1.1474 - acc: 0.5947 - val_loss: 1.0831 - val_acc: 0.6333\n",
      "Epoch 67/100\n",
      "42000/42000 [==============================] - 5s 130us/step - loss: 1.1466 - acc: 0.5943 - val_loss: 1.0791 - val_acc: 0.6363\n",
      "Epoch 68/100\n",
      "42000/42000 [==============================] - 5s 130us/step - loss: 1.1402 - acc: 0.5965 - val_loss: 1.0753 - val_acc: 0.6392\n",
      "Epoch 69/100\n",
      "42000/42000 [==============================] - 5s 128us/step - loss: 1.1359 - acc: 0.6010 - val_loss: 1.0720 - val_acc: 0.6376\n",
      "Epoch 70/100\n",
      "42000/42000 [==============================] - 6s 132us/step - loss: 1.1356 - acc: 0.5997 - val_loss: 1.0685 - val_acc: 0.6372\n",
      "Epoch 71/100\n",
      "42000/42000 [==============================] - 5s 128us/step - loss: 1.1299 - acc: 0.6024 - val_loss: 1.0657 - val_acc: 0.6411\n",
      "Epoch 72/100\n",
      "42000/42000 [==============================] - 5s 128us/step - loss: 1.1273 - acc: 0.6019 - val_loss: 1.0608 - val_acc: 0.6413\n",
      "Epoch 73/100\n",
      "42000/42000 [==============================] - 5s 131us/step - loss: 1.1220 - acc: 0.6032 - val_loss: 1.0572 - val_acc: 0.6384\n",
      "Epoch 74/100\n",
      "42000/42000 [==============================] - 5s 130us/step - loss: 1.1206 - acc: 0.6065 - val_loss: 1.0542 - val_acc: 0.6426\n",
      "Epoch 75/100\n",
      "42000/42000 [==============================] - 5s 128us/step - loss: 1.1145 - acc: 0.6073 - val_loss: 1.0508 - val_acc: 0.6408\n",
      "Epoch 76/100\n",
      "42000/42000 [==============================] - 5s 128us/step - loss: 1.1094 - acc: 0.6107 - val_loss: 1.0460 - val_acc: 0.6458\n",
      "Epoch 77/100\n",
      "42000/42000 [==============================] - 6s 131us/step - loss: 1.1111 - acc: 0.6087 - val_loss: 1.0442 - val_acc: 0.6448\n",
      "Epoch 78/100\n",
      "42000/42000 [==============================] - 5s 129us/step - loss: 1.1068 - acc: 0.6111 - val_loss: 1.0408 - val_acc: 0.6473\n",
      "Epoch 79/100\n",
      "42000/42000 [==============================] - 5s 130us/step - loss: 1.1031 - acc: 0.6093 - val_loss: 1.0383 - val_acc: 0.6482\n",
      "Epoch 80/100\n",
      "42000/42000 [==============================] - 5s 129us/step - loss: 1.0998 - acc: 0.6129 - val_loss: 1.0333 - val_acc: 0.6508\n",
      "Epoch 81/100\n",
      "42000/42000 [==============================] - 5s 130us/step - loss: 1.0979 - acc: 0.6126 - val_loss: 1.0313 - val_acc: 0.6506\n",
      "Epoch 82/100\n",
      "42000/42000 [==============================] - 5s 129us/step - loss: 1.0927 - acc: 0.6142 - val_loss: 1.0285 - val_acc: 0.6527\n",
      "Epoch 83/100\n",
      "42000/42000 [==============================] - 5s 127us/step - loss: 1.0917 - acc: 0.6144 - val_loss: 1.0252 - val_acc: 0.6535\n",
      "Epoch 84/100\n",
      "42000/42000 [==============================] - 5s 128us/step - loss: 1.0882 - acc: 0.6179 - val_loss: 1.0224 - val_acc: 0.6499\n",
      "Epoch 85/100\n",
      "42000/42000 [==============================] - 5s 130us/step - loss: 1.0854 - acc: 0.6188 - val_loss: 1.0198 - val_acc: 0.6531\n",
      "Epoch 86/100\n",
      "42000/42000 [==============================] - 6s 131us/step - loss: 1.0786 - acc: 0.6188 - val_loss: 1.0168 - val_acc: 0.6552\n",
      "Epoch 87/100\n",
      "42000/42000 [==============================] - 6s 132us/step - loss: 1.0789 - acc: 0.6175 - val_loss: 1.0145 - val_acc: 0.6555\n",
      "Epoch 88/100\n",
      "42000/42000 [==============================] - 5s 130us/step - loss: 1.0767 - acc: 0.6213 - val_loss: 1.0111 - val_acc: 0.6577\n",
      "Epoch 89/100\n",
      "42000/42000 [==============================] - 5s 129us/step - loss: 1.0737 - acc: 0.6219 - val_loss: 1.0087 - val_acc: 0.6523\n",
      "Epoch 90/100\n",
      "42000/42000 [==============================] - 6s 133us/step - loss: 1.0717 - acc: 0.6205 - val_loss: 1.0052 - val_acc: 0.6560\n",
      "Epoch 91/100\n",
      "42000/42000 [==============================] - 5s 129us/step - loss: 1.0671 - acc: 0.6244 - val_loss: 1.0033 - val_acc: 0.6592\n",
      "Epoch 92/100\n",
      "42000/42000 [==============================] - 6s 132us/step - loss: 1.0649 - acc: 0.6254 - val_loss: 0.9999 - val_acc: 0.6601\n",
      "Epoch 93/100\n",
      "42000/42000 [==============================] - 5s 128us/step - loss: 1.0632 - acc: 0.6250 - val_loss: 0.9993 - val_acc: 0.6596\n",
      "Epoch 94/100\n",
      "42000/42000 [==============================] - 5s 128us/step - loss: 1.0611 - acc: 0.6263 - val_loss: 0.9958 - val_acc: 0.6627\n",
      "Epoch 95/100\n",
      "42000/42000 [==============================] - 5s 128us/step - loss: 1.0581 - acc: 0.6279 - val_loss: 0.9928 - val_acc: 0.6614\n",
      "Epoch 96/100\n",
      "42000/42000 [==============================] - 5s 128us/step - loss: 1.0567 - acc: 0.6284 - val_loss: 0.9907 - val_acc: 0.6620\n",
      "Epoch 97/100\n",
      "42000/42000 [==============================] - 5s 129us/step - loss: 1.0542 - acc: 0.6275 - val_loss: 0.9893 - val_acc: 0.6640\n",
      "Epoch 98/100\n",
      "42000/42000 [==============================] - 5s 130us/step - loss: 1.0516 - acc: 0.6295 - val_loss: 0.9864 - val_acc: 0.6613\n",
      "Epoch 99/100\n",
      "42000/42000 [==============================] - 5s 129us/step - loss: 1.0491 - acc: 0.6301 - val_loss: 0.9829 - val_acc: 0.6644\n",
      "Epoch 100/100\n",
      "42000/42000 [==============================] - 5s 130us/step - loss: 1.0484 - acc: 0.6319 - val_loss: 0.9824 - val_acc: 0.6639\n"
     ]
    },
    {
     "data": {
      "text/plain": [
       "<keras.callbacks.History at 0x7f5867eef5f8>"
      ]
     },
     "execution_count": 100,
     "metadata": {
      "tags": []
     },
     "output_type": "execute_result"
    }
   ],
   "source": [
    "results = model.fit(train_features_flat, y_train_one_hot, epochs = 100, validation_data = (val_features_flat,y_val_one_hot),callbacks = callbacks)\n",
    "results"
   ]
  },
  {
   "cell_type": "markdown",
   "metadata": {
    "colab_type": "text",
    "id": "MqmSMxT5cM_r"
   },
   "source": [
    "> **Representación gráfica**\n",
    "\n",
    "---"
   ]
  },
  {
   "cell_type": "code",
   "execution_count": 101,
   "metadata": {
    "colab": {
     "base_uri": "https://localhost:8080/",
     "height": 300
    },
    "colab_type": "code",
    "id": "gDWZZuO2cM_s",
    "outputId": "b18e59ea-6403-4a87-aebb-b232544ac3f9"
   },
   "outputs": [
    {
     "data": {
      "text/plain": [
       "Text(0, 0.5, 'accuracy')"
      ]
     },
     "execution_count": 101,
     "metadata": {
      "tags": []
     },
     "output_type": "execute_result"
    },
    {
     "data": {
      "image/png": "[encoded data removed]",
      "text/plain": [
       "<Figure size 648x288 with 1 Axes>"
      ]
     },
     "metadata": {
      "tags": []
     },
     "output_type": "display_data"
    }
   ],
   "source": [
    "acc = results.history['acc']\n",
    "val_acc = results.history['val_acc']\n",
    "x = range(1, len(acc)+1)\n",
    "\n",
    "plt.figure(figsize=(9,4))\n",
    "sns.set_style('darkgrid')\n",
    "sns.lineplot(x, y= acc, c=\"firebrick\", \\\n",
    "             legend='brief', label=\"train_acc\")\n",
    "sns.lineplot(x, y=val_acc, c=\"darkgreen\", \\\n",
    "             legend='brief', label=\"val_acc\")\n",
    "plt.legend(loc=0)\n",
    "plt.xlabel('epochs')\n",
    "plt.ylabel('accuracy')"
   ]
  },
  {
   "cell_type": "code",
   "execution_count": 102,
   "metadata": {
    "colab": {
     "base_uri": "https://localhost:8080/",
     "height": 312
    },
    "colab_type": "code",
    "id": "VZ0Af2RgcM_u",
    "outputId": "8aa3272c-8232-4b15-ae5a-28df53fff927"
   },
   "outputs": [
    {
     "data": {
      "text/plain": [
       "Text(0.5, 1.0, 'Pérdida en entrenamiento y validación')"
      ]
     },
     "execution_count": 102,
     "metadata": {
      "tags": []
     },
     "output_type": "execute_result"
    },
    {
     "data": {
      "image/png": "[encoded data removed]",
      "text/plain": [
       "<Figure size 648x288 with 1 Axes>"
      ]
     },
     "metadata": {
      "tags": []
     },
     "output_type": "display_data"
    }
   ],
   "source": [
    "loss = results.history['loss']\n",
    "val_loss = results.history['val_loss']\n",
    "x = range(1, len(acc)+1)\n",
    "\n",
    "plt.figure(figsize=(9,4))\n",
    "sns.set_style('darkgrid')\n",
    "sns.lineplot(x, y=loss, c=\"darkblue\", \\\n",
    "             legend='brief', label=\"train_loss\")\n",
    "sns.lineplot(x, y=val_loss, c=\"y\", \\\n",
    "             legend='brief', label=\"val_loss\")\n",
    "plt.legend(loc=0)\n",
    "plt.xlabel('epochs')\n",
    "plt.ylabel('loss')\n",
    "plt.title(\"Pérdida en entrenamiento y validación\")"
   ]
  },
  {
   "cell_type": "markdown",
   "metadata": {
    "colab_type": "text",
    "id": "744qoYRxcM_u"
   },
   "source": [
    "> **Rendimiento del modelo en el conjunto test**\n",
    "\n",
    "---"
   ]
  },
  {
   "cell_type": "code",
   "execution_count": 103,
   "metadata": {
    "colab": {
     "base_uri": "https://localhost:8080/",
     "height": 52
    },
    "colab_type": "code",
    "id": "ip3neOKOcM_u",
    "outputId": "6f28bd3e-1abe-497f-e5d1-1da6dede6a11"
   },
   "outputs": [
    {
     "name": "stdout",
     "output_type": "stream",
     "text": [
      "10000/10000 [==============================] - 0s 42us/step\n",
      "Precisión final alcanzada por la red normalizada y tras aplicar la técnica de transfer learnning: 65.53 %\n"
     ]
    }
   ],
   "source": [
    "test_loss, test_acc = model.evaluate(test_features_flat, y_test_one_hot)\n",
    "print(\"Precisión final alcanzada por la red normalizada y tras aplicar la técnica de transfer learnning:\", \n",
    "      round(100*test_acc, 2), \"%\")"
   ]
  },
  {
   "cell_type": "markdown",
   "metadata": {
    "colab_type": "text",
    "id": "VPe7AzR81M_n"
   },
   "source": [
    "---\n",
    "* **Conclusiones**\n",
    "\n",
    "Finalmente, podemos observar que la precisión obtenida en el conjunto test es de aproximadamente un 66.5%, lo que indica que no se alcanza una alta precisión, de hecho, es con este método con el que hemos obtenido peores resultados al clasificar las imágenes de nuestro conjunto de datos. Además, dado que el volumen de datos, así como la complejidad de nuestra red no es excesivamente grande, no sería necesario acudir a este tipo de metodologías.\n",
    "\n",
    "De todos modos, es una buena forma de comprender el funcionamiento de la técnica ***transfer learning*** que, si bien la capacitación de una Red Neuronal Convolucional (CNN) desde cero es posible para proyectos pequeños, como es nuestro caso, la mayoría de las aplicaciones requieren la capacitación de CNN muy grandes y esto, requiere enormes cantidades de datos procesados y potencia computacional. Y a día de hoy, ambos no se encuentran tan fácilmente.\n",
    "\n",
    "Por ello, entra en juego esta técnica  que posee ciertas ventajas y es que no hay necesidad de un conjunto de datos de entrenamiento extremadamente grande además de no requerir una alta potencia computacional, al estar trabajando con pesos pre-entrenados y solo tener que aprender los pesos de las últimas capas.\n",
    "\n"
   ]
  }
 ],
 "metadata": {
  "colab": {
   "collapsed_sections": [],
   "machine_shape": "hm",
   "name": "Práctica_DeepLearning.ipynb",
   "provenance": [],
   "version": "0.3.2"
  },
  "kernelspec": {
   "display_name": "Python 3",
   "language": "python",
   "name": "python3"
  },
  "language_info": {
   "codemirror_mode": {
    "name": "ipython",
    "version": 3
   },
   "file_extension": ".py",
   "mimetype": "text/x-python",
   "name": "python",
   "nbconvert_exporter": "python",
   "pygments_lexer": "ipython3",
   "version": "3.7.3"
  },
  "toc": {
   "base_numbering": 1,
   "nav_menu": {},
   "number_sections": true,
   "sideBar": true,
   "skip_h1_title": false,
   "title_cell": "Table of Contents",
   "title_sidebar": "Contents",
   "toc_cell": false,
   "toc_position": {},
   "toc_section_display": true,
   "toc_window_display": false
  },
  "varInspector": {
   "cols": {
    "lenName": 16,
    "lenType": 16,
    "lenVar": 40
   },
   "kernels_config": {
    "python": {
     "delete_cmd_postfix": "",
     "delete_cmd_prefix": "del ",
     "library": "var_list.py",
     "varRefreshCmd": "print(var_dic_list())"
    },
    "r": {
     "delete_cmd_postfix": ") ",
     "delete_cmd_prefix": "rm(",
     "library": "var_list.r",
     "varRefreshCmd": "cat(var_dic_list()) "
    }
   },
   "types_to_exclude": [
    "module",
    "function",
    "builtin_function_or_method",
    "instance",
    "_Feature"
   ],
   "window_display": false
  }
 },
 "nbformat": 4,
 "nbformat_minor": 1
}
