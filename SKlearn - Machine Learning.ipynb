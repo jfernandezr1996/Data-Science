{
 "cells": [
  {
   "cell_type": "markdown",
   "metadata": {},
   "source": [
    "# Práctica utilización de la librería Scikit learn\n",
    "----\n",
    "A lo largo de esta práctica se desarrollará un caso de uso que hace referencia a un **problema de clasificación multiclase**. Para abordar este caso de análisis se desarrollarán todas las etapas de lo que se conoce como el ciclo del dato para llegar a la etapa del modelado con modelos de Machine Learning que tratarán de clasificar de forma correcta determinados productos.\n",
    "\n",
    "## Datos\n",
    "---\n",
    "Los datos se encuentraran divididos en lotes (lots). Cada lote corresponde a la subasta de un artículo. Dentro de cada directorio (lote) hay un archivo llamado data.json con la información de ese lote. \n",
    "\n",
    "Cada lote tiene asociado una categoría (category_l0) y subcategoría (category_l1). En esta práctica solo se trabará con las categorías: Jewellery & Watches, Antiques & Curio, Coins, Bullion & Stamps, Art y Books & Comics por ser las categorías con más muestras.\n",
    "\n",
    "## Objetivos\n",
    "---\n",
    "Se pide crear uno o varios modelos predictivos o de clasificación. La lista de objetivos es la siguiente:\n",
    "\n",
    "- (OA) Predecir el valor máximo de una subasta.\n",
    "- (OB) Predecir el valor de la siguiente puja.\n",
    "- (OC) Predecir los gastos de envío por país asociado a cada lote.\n",
    "- (OD) Predecir el número de pujas que tendrá un lote.\n",
    "- (OE) Predecir la subcategoria del lote.\n",
    "\n",
    "A cada alumno además se le asignará una categoría sobre la que trabajar de las siguiente:\n",
    "\n",
    "- (C1) Jewellery & Watches\n",
    "- (C2) Antiques & Curio\n",
    "- (C3) Coins, Bullion & Stamps\n",
    "- (C4) Art\n",
    "- (C5) Books & Comics\n",
    "\n",
    "En nuestro caso, abordaremos el objetivo `OE` usando la categoría `C2`.\n",
    "\n",
    "\n",
    "## Tareas\n",
    "---\n",
    "Para la realización de las tareas se deberá usar Scikit-learn, pandas y numpy.\n",
    "\n",
    "\n",
    "## Preparación del conjunto de datos\n",
    "----\n",
    "Para llevar a cabo el entreniamiento de los modelos se tendrán que leer y seleccionar los datos correspondientes a la categoría asignada. \n",
    "\n",
    "Con estos datos se tendrá que crear un DataFrame de pandas.\n",
    "\n",
    "\n",
    "## Limpieza y generación de nuevos atributos\n",
    "----\n",
    "En esta tarea se tendrán que seleccionar, hacer imputaciones de valores perdidos si es necesario y la generación de nuevos atributos que se consideren interesantes.\n",
    "\n",
    "\n",
    "## Entrenamiento del modelo\n",
    "----\n",
    "Para llevar a cabo el entrenamiento del modelo se deberan escoger el(los) tipo(s) de algoritmo(s) apropiado(s) al objetivo, la métrica, dividir los datos según la técnicas de validación seleccionada y seleccionar los paŕametros más adecuados.\n"
   ]
  },
  {
   "cell_type": "markdown",
   "metadata": {},
   "source": [
    "# Importación de las librerias necesarias\n",
    "---"
   ]
  },
  {
   "cell_type": "code",
   "execution_count": 1,
   "metadata": {},
   "outputs": [],
   "source": [
    "import os\n",
    "from os import listdir\n",
    "import os.path\n",
    "import json\n",
    "import numpy as np\n",
    "from pandas import Series, DataFrame\n",
    "import pandas as pd\n",
    "import statistics\n",
    "import math\n",
    "\n",
    "import matplotlib.pyplot as plt\n",
    "import seaborn as sb\n",
    "from sklearn.cluster import KMeans\n",
    "from sklearn.metrics import pairwise_distances_argmin_min\n",
    " \n",
    "%matplotlib inline\n",
    "from mpl_toolkits.mplot3d import Axes3D\n",
    "plt.rcParams['figure.figsize'] = (16, 9)\n",
    "plt.style.use('ggplot')"
   ]
  },
  {
   "cell_type": "markdown",
   "metadata": {},
   "source": [
    "**Nota:** Usaremos más librerias y funciones específicas a lo largo del proyecto que se irán indicando más adelante."
   ]
  },
  {
   "cell_type": "markdown",
   "metadata": {},
   "source": [
    "# Recopilación de la información\n",
    "---"
   ]
  },
  {
   "cell_type": "code",
   "execution_count": 3,
   "metadata": {},
   "outputs": [],
   "source": [
    "my_data=[]\n",
    "ruta_path= '..\\Parte IV\\lots'\n",
    "for archivo in os.listdir(ruta_path):\n",
    "    file = json.loads(json.dumps(os.path.join(ruta_path, archivo, 'data.json')))\n",
    "    if os.path.exists(file):\n",
    "        with open(file, 'r') as fp:\n",
    "            data = json.load(fp)\n",
    "            \n",
    "        if data['category_l0'] == 'Antiques & Curio':\n",
    "            bids = data['bids'] # ofertas\n",
    "            prices = [float(bids[i]['price']) for i in range(len(bids))]\n",
    "            \n",
    "            my_data.append({'sub_title': data['sub_title'], 'supplier_votes': data['supplier_votes'], \n",
    "                            'description': data['description'], 'auctioneer_names': data['auctioneer_names'], \n",
    "                            'id': data['id'], 'previous_bids': prices, 'title': data['title'], \n",
    "                            'meta_data': data['meta_data'], 'supplier_name': data['supplier_name'], \n",
    "                            'supplier_from': data['supplier_from'], 'shipping': data['shipping'], \n",
    "                            'supplier_country': data['supplier_country'], 'category_l0': data['category_l0'], \n",
    "                            'estimations': data['estimations'], 'likes': data['likes'], \n",
    "                            'supplier_score': data['supplier_score'], 'category_l1': data['category_l1']})\n",
    "            \n",
    "datos = pd.DataFrame(my_data) # data.frame creado con todos los datos para trabajar"
   ]
  },
  {
   "cell_type": "markdown",
   "metadata": {},
   "source": [
    "**Comentarios** \n",
    "\n",
    "* En la construcción del data frame observamos que hemos creado la variable **prices**; dentro de la varible original **bids** (que se trata de un diccionario con claves y valores) nos resulta de interés construir el vector de pujas previas a un producto dado. Así pues, nos quedaremos únicamente con el valor de la clave *price* del diccionario de nombre *bids* y más adelante veremos como tratamos esta variable en nuestro análisis de clasificación.\n",
    "\n",
    "* En la obtención de nuestro conjunto de datos observamos como hemos impuesto la categoría sobre la que trabajar, en nuestro caso: **Antiques & Curio**.\n"
   ]
  },
  {
   "cell_type": "markdown",
   "metadata": {},
   "source": [
    "# Análisis exploratorio de los datos\n",
    "---\n",
    "\n",
    "## Presentación de los primeros registros y dimensiones del dataset\n",
    "---"
   ]
  },
  {
   "cell_type": "code",
   "execution_count": 4,
   "metadata": {},
   "outputs": [
    {
     "data": {
      "text/html": [
       "<div>\n",
       "<style scoped>\n",
       "    .dataframe tbody tr th:only-of-type {\n",
       "        vertical-align: middle;\n",
       "    }\n",
       "\n",
       "    .dataframe tbody tr th {\n",
       "        vertical-align: top;\n",
       "    }\n",
       "\n",
       "    .dataframe thead th {\n",
       "        text-align: right;\n",
       "    }\n",
       "</style>\n",
       "<table border=\"1\" class=\"dataframe\">\n",
       "  <thead>\n",
       "    <tr style=\"text-align: right;\">\n",
       "      <th></th>\n",
       "      <th>auctioneer_names</th>\n",
       "      <th>category_l0</th>\n",
       "      <th>category_l1</th>\n",
       "      <th>description</th>\n",
       "      <th>estimations</th>\n",
       "      <th>id</th>\n",
       "      <th>likes</th>\n",
       "      <th>meta_data</th>\n",
       "      <th>previous_bids</th>\n",
       "      <th>shipping</th>\n",
       "      <th>sub_title</th>\n",
       "      <th>supplier_country</th>\n",
       "      <th>supplier_from</th>\n",
       "      <th>supplier_name</th>\n",
       "      <th>supplier_score</th>\n",
       "      <th>supplier_votes</th>\n",
       "      <th>title</th>\n",
       "    </tr>\n",
       "  </thead>\n",
       "  <tbody>\n",
       "    <tr>\n",
       "      <th>0</th>\n",
       "      <td>[Roger Schreutelkamp]</td>\n",
       "      <td>Antiques &amp; Curio</td>\n",
       "      <td>Curio</td>\n",
       "      <td>\\nA beautiful school poster by Isings on the c...</td>\n",
       "      <td>[]</td>\n",
       "      <td>10000189</td>\n",
       "      <td>[]</td>\n",
       "      <td>{}</td>\n",
       "      <td>[65.0, 60.0, 55.0, 50.0, 45.0, 40.0, 35.0, 30....</td>\n",
       "      <td>[[España, 15,00], [Alemania, 15,00], [Austria,...</td>\n",
       "      <td>The Netherlands 1960, J.B. Wolters Noordhoff G...</td>\n",
       "      <td>Nl</td>\n",
       "      <td>6 diciembre 2014</td>\n",
       "      <td>pauldevries23</td>\n",
       "      <td>100.0</td>\n",
       "      <td>310</td>\n",
       "      <td>Beautiful intact, old linen history school pos...</td>\n",
       "    </tr>\n",
       "    <tr>\n",
       "      <th>1</th>\n",
       "      <td>[Francisco  Álvarez Lloret, Mark van Gijsel]</td>\n",
       "      <td>Antiques &amp; Curio</td>\n",
       "      <td>Curio</td>\n",
       "      <td>\\nBeautiful old radio\\n\\nWorks very well! \\n\\n...</td>\n",
       "      <td>[]</td>\n",
       "      <td>10000215</td>\n",
       "      <td>[]</td>\n",
       "      <td>{}</td>\n",
       "      <td>[45.0, 40.0, 35.0, 30.0, 25.0, 20.0, 15.0, 10....</td>\n",
       "      <td>[[España, 28,00], [Alemania, 28,00], [Austria,...</td>\n",
       "      <td>Vintige radio 1980s</td>\n",
       "      <td>Nl</td>\n",
       "      <td>1 mayo 2015</td>\n",
       "      <td>old dutch</td>\n",
       "      <td>100.0</td>\n",
       "      <td>14</td>\n",
       "      <td>Vintige radio 1980s</td>\n",
       "    </tr>\n",
       "    <tr>\n",
       "      <th>2</th>\n",
       "      <td>[Roger Schreutelkamp]</td>\n",
       "      <td>Antiques &amp; Curio</td>\n",
       "      <td>Curio</td>\n",
       "      <td>\\n5 educational school posters from 1973 by th...</td>\n",
       "      <td>[]</td>\n",
       "      <td>10001397</td>\n",
       "      <td>[]</td>\n",
       "      <td>{}</td>\n",
       "      <td>[40.0, 40.0, 35.0, 30.0, 25.0, 20.0, 15.0, 10....</td>\n",
       "      <td>[[España, 18,00], [Alemania, 18,00], [Austria,...</td>\n",
       "      <td>Year 1973</td>\n",
       "      <td>Fr</td>\n",
       "      <td>27 septiembre 2015</td>\n",
       "      <td>Clairvallon</td>\n",
       "      <td>97.0</td>\n",
       "      <td>35</td>\n",
       "      <td>5 educational school posters, double sided</td>\n",
       "    </tr>\n",
       "    <tr>\n",
       "      <th>3</th>\n",
       "      <td>[Christine Barrat]</td>\n",
       "      <td>Antiques &amp; Curio</td>\n",
       "      <td>Silver &amp; Gold</td>\n",
       "      <td>\\nSilver plated Christofle dish.Very good cond...</td>\n",
       "      <td>[]</td>\n",
       "      <td>10002073</td>\n",
       "      <td>[]</td>\n",
       "      <td>{}</td>\n",
       "      <td>[81.0, 76.0, 66.0, 61.0, 55.0, 50.0, 25.0, 20....</td>\n",
       "      <td>[[España, 15,00], [Alemania, 15,00], [Austria,...</td>\n",
       "      <td>Christofle dish</td>\n",
       "      <td>Fr</td>\n",
       "      <td>22 marzo 2015</td>\n",
       "      <td>Fabregas</td>\n",
       "      <td>100.0</td>\n",
       "      <td>5</td>\n",
       "      <td>Christofle dish</td>\n",
       "    </tr>\n",
       "    <tr>\n",
       "      <th>4</th>\n",
       "      <td>[Jeroen Zoetmulder]</td>\n",
       "      <td>Antiques &amp; Curio</td>\n",
       "      <td>Antiques</td>\n",
       "      <td>\\n6 beautiful crystal wine glasses by Nachtman...</td>\n",
       "      <td>[]</td>\n",
       "      <td>10004181</td>\n",
       "      <td>[]</td>\n",
       "      <td>{}</td>\n",
       "      <td>[100.0, 100.0, 95.0, 90.0, 85.0, 80.0, 75.0, 7...</td>\n",
       "      <td>[[España, 19,00], [Alemania, 19,00], [Austria,...</td>\n",
       "      <td>In perfect condition.</td>\n",
       "      <td>Nl</td>\n",
       "      <td>15 enero 2015</td>\n",
       "      <td>AmazingAntiques</td>\n",
       "      <td>98.4</td>\n",
       "      <td>188</td>\n",
       "      <td>6 crystal wine glasses Nachtmann, Germany, sec...</td>\n",
       "    </tr>\n",
       "  </tbody>\n",
       "</table>\n",
       "</div>"
      ],
      "text/plain": [
       "                               auctioneer_names       category_l0  \\\n",
       "0                         [Roger Schreutelkamp]  Antiques & Curio   \n",
       "1  [Francisco  Álvarez Lloret, Mark van Gijsel]  Antiques & Curio   \n",
       "2                         [Roger Schreutelkamp]  Antiques & Curio   \n",
       "3                            [Christine Barrat]  Antiques & Curio   \n",
       "4                           [Jeroen Zoetmulder]  Antiques & Curio   \n",
       "\n",
       "     category_l1                                        description  \\\n",
       "0          Curio  \\nA beautiful school poster by Isings on the c...   \n",
       "1          Curio  \\nBeautiful old radio\\n\\nWorks very well! \\n\\n...   \n",
       "2          Curio  \\n5 educational school posters from 1973 by th...   \n",
       "3  Silver & Gold  \\nSilver plated Christofle dish.Very good cond...   \n",
       "4       Antiques  \\n6 beautiful crystal wine glasses by Nachtman...   \n",
       "\n",
       "  estimations        id likes meta_data  \\\n",
       "0          []  10000189    []        {}   \n",
       "1          []  10000215    []        {}   \n",
       "2          []  10001397    []        {}   \n",
       "3          []  10002073    []        {}   \n",
       "4          []  10004181    []        {}   \n",
       "\n",
       "                                       previous_bids  \\\n",
       "0  [65.0, 60.0, 55.0, 50.0, 45.0, 40.0, 35.0, 30....   \n",
       "1  [45.0, 40.0, 35.0, 30.0, 25.0, 20.0, 15.0, 10....   \n",
       "2  [40.0, 40.0, 35.0, 30.0, 25.0, 20.0, 15.0, 10....   \n",
       "3  [81.0, 76.0, 66.0, 61.0, 55.0, 50.0, 25.0, 20....   \n",
       "4  [100.0, 100.0, 95.0, 90.0, 85.0, 80.0, 75.0, 7...   \n",
       "\n",
       "                                            shipping  \\\n",
       "0  [[España, 15,00], [Alemania, 15,00], [Austria,...   \n",
       "1  [[España, 28,00], [Alemania, 28,00], [Austria,...   \n",
       "2  [[España, 18,00], [Alemania, 18,00], [Austria,...   \n",
       "3  [[España, 15,00], [Alemania, 15,00], [Austria,...   \n",
       "4  [[España, 19,00], [Alemania, 19,00], [Austria,...   \n",
       "\n",
       "                                           sub_title supplier_country  \\\n",
       "0  The Netherlands 1960, J.B. Wolters Noordhoff G...               Nl   \n",
       "1                                Vintige radio 1980s               Nl   \n",
       "2                                          Year 1973               Fr   \n",
       "3                                    Christofle dish               Fr   \n",
       "4                              In perfect condition.               Nl   \n",
       "\n",
       "        supplier_from    supplier_name supplier_score supplier_votes  \\\n",
       "0    6 diciembre 2014    pauldevries23          100.0            310   \n",
       "1         1 mayo 2015        old dutch          100.0             14   \n",
       "2  27 septiembre 2015      Clairvallon           97.0             35   \n",
       "3       22 marzo 2015         Fabregas          100.0              5   \n",
       "4       15 enero 2015  AmazingAntiques           98.4            188   \n",
       "\n",
       "                                               title  \n",
       "0  Beautiful intact, old linen history school pos...  \n",
       "1                                Vintige radio 1980s  \n",
       "2         5 educational school posters, double sided  \n",
       "3                                    Christofle dish  \n",
       "4  6 crystal wine glasses Nachtmann, Germany, sec...  "
      ]
     },
     "execution_count": 4,
     "metadata": {},
     "output_type": "execute_result"
    }
   ],
   "source": [
    "datos.head()"
   ]
  },
  {
   "cell_type": "code",
   "execution_count": 5,
   "metadata": {},
   "outputs": [
    {
     "data": {
      "text/plain": [
       "(3479, 17)"
      ]
     },
     "execution_count": 5,
     "metadata": {},
     "output_type": "execute_result"
    }
   ],
   "source": [
    "datos.shape"
   ]
  },
  {
   "cell_type": "markdown",
   "metadata": {},
   "source": [
    "Inicialmente nuestro conjunto de datos presenta 17 variables y 3479 registros (también llamados casos o individuos)."
   ]
  },
  {
   "cell_type": "markdown",
   "metadata": {},
   "source": [
    "## Valores faltantes: *None*\n",
    "---"
   ]
  },
  {
   "cell_type": "markdown",
   "metadata": {},
   "source": [
    "En primer lugar, lo que deberíamos hacer es controlar si existen valores faltantes o nulos; esto lo podemos realizar utilizando el método *isnull()* del siguiente modo:"
   ]
  },
  {
   "cell_type": "code",
   "execution_count": 6,
   "metadata": {},
   "outputs": [
    {
     "data": {
      "text/plain": [
       "True"
      ]
     },
     "execution_count": 6,
     "metadata": {},
     "output_type": "execute_result"
    }
   ],
   "source": [
    "datos.isnull().any().any()"
   ]
  },
  {
   "cell_type": "markdown",
   "metadata": {},
   "source": [
    "De acuerdo al resultado obtenido llegamos a que sí existen registros con valores faltantes lo cual nos llevará a tratarlos más adelante cuando realicemos un análisis variable a variable."
   ]
  },
  {
   "cell_type": "markdown",
   "metadata": {},
   "source": [
    "## Estudio de la variable objetivo\n",
    "---"
   ]
  },
  {
   "cell_type": "markdown",
   "metadata": {},
   "source": [
    "El objetivo de nuestro problema es predecir la subcateogría del lote; en nuestro dataframe, la variable que mide dicha característica es: *category_l1*\n",
    "\n",
    "Un primer análisis exploratorio que se nos ocurre es conocer cuantos individuos de cada subcategoria tenemos, para ello realizamos lo siguiente:"
   ]
  },
  {
   "cell_type": "code",
   "execution_count": 7,
   "metadata": {},
   "outputs": [
    {
     "name": "stdout",
     "output_type": "stream",
     "text": [
      "category_l1\n",
      "Antiques                 308\n",
      "Clocks                   101\n",
      "Curio                   2048\n",
      "Interior & Lifestyle      61\n",
      "Lighters & Pens          191\n",
      "Rugs & Carpets           437\n",
      "Silver & Gold            333\n",
      "dtype: int64\n"
     ]
    }
   ],
   "source": [
    "print(datos.groupby('category_l1').size())"
   ]
  },
  {
   "cell_type": "markdown",
   "metadata": {},
   "source": [
    "**Comentario:** la categoria \"Curio\" es la que presenta un mayor número de casos."
   ]
  },
  {
   "cell_type": "markdown",
   "metadata": {},
   "source": [
    "### Representación gráfica\n",
    "---"
   ]
  },
  {
   "cell_type": "markdown",
   "metadata": {},
   "source": [
    "Visualizamos este predominio de la subcategoría **Curio** con el siguiente diagrama de barras que nos permite ver la frecuencia (número de registros) de cada una de las subcategorías."
   ]
  },
  {
   "cell_type": "code",
   "execution_count": 8,
   "metadata": {},
   "outputs": [
    {
     "data": {
      "text/plain": [
       "<seaborn.axisgrid.FacetGrid at 0x14eb285e828>"
      ]
     },
     "execution_count": 8,
     "metadata": {},
     "output_type": "execute_result"
    },
    {
     "data": {
      "image/png": "[encoded data removed]",
      "text/plain": [
       "<Figure size 360x360 with 1 Axes>"
      ]
     },
     "metadata": {
      "needs_background": "light"
     },
     "output_type": "display_data"
    }
   ],
   "source": [
    "sb.catplot('category_l1', data = datos, kind=\"count\")"
   ]
  },
  {
   "cell_type": "markdown",
   "metadata": {},
   "source": [
    "# Preparación de los datos: limpieza y generación de nuevos atributos\n",
    "---\n",
    "## Imputación de valores perdidos (NaN)\n",
    "---\n",
    "\n",
    "A continuación llevaremos a cabo el trabajo de imputar los valores faltantes en las variables que posteriormente utilizaremos para nuestro análisis de clasificación. Dicha tarea es necesaria para poder llevar a cabo los diferentes algoritmos de aprendizaje supervisado pues los modelos no pueden trabajar con registros nulos; es cierto que algunos de los algoritmos empleados llevan consigo algún argumento que trata la existencias de valores None (registros faltantes). La manera de computar dichos valores es a elección del estadístico y dependiendo del trabajo en cuestión. En nuestro trabajo llevaremos a cabo tres técnicas:\n",
    "\n",
    "- Calcularemos la media y la desviación estandar de la variable en cuestión y construiremos el intervalo (mu-dev, mu+std) de manera que a los registros faltantes se le asignará un valor aleatorio dentro de este intervalo. Esta técnica es utilizada en estadística pues los valores que se introducen no producen demasiado ruido en la variable y, por tanto, no se resiente el algoritmo utilizado. Sin embargo, en las variables a analizar observaremos que la desviación estandar es un valor superior a la media de la variable, lo que indica que la variable presenta una alta variabilidad. En ese caso, usaremos el intervalo (0, mu+std) pues el extremo inferior del intervalo no puede ser negativo (pues las variables no toman valores inferiores a 0).\n",
    "\n",
    "- Otra opción de imputar los registros faltantes es reemplazar estos valores por el valor promedio. Esta técnica será usada en otra de las variables de interés de nuestro trabajo.\n",
    "\n",
    "- Cuando trabajamos con un set de datos con un número de observaciones elevado y el número de valores nulos que presenta una variable no es muy alto, otra herramienta a utilizar es eliminar dichas observaciones de nuestro set de datos. Así, reduciremos nuestro conjunto de observaciones.\n",
    "\n",
    "- Un análisis distinto es cuando trabajemos con la variable categórica *supplier_country*; en ese caso, tomaremos el listado de países presentes y asignaremos a los valores faltantes uno de ellos de manera aleatoria.\n",
    "\n",
    "\n",
    "## Variable *previous_bids*\n",
    "---\n",
    "Observamos que la variable *previous_bids* es una lista de elementos cada uno de los cuales hace referencia a una puja previa. Nuestra tarea va a ser construir el vector de pujas medias de cada producto (lote).\n",
    "\n",
    "Atendiendo a dicha variable, vemos que hay observaciones que presentan una lista [] en dicha variable haciendo referencia\n",
    "a que no hay pujas previas, para nuestro análisis, a dichas observaciones le daremos el valor *None*, y posteriormente asignaremos un valor aleatorio (cumpliendo ciertas condiciones) a dichos registros faltantes.\n",
    "\n",
    "Para quellas observaciones que presenten una lista de pujas, calcularemos la puja media de dichas pujas previas."
   ]
  },
  {
   "cell_type": "code",
   "execution_count": 9,
   "metadata": {},
   "outputs": [],
   "source": [
    "a = []\n",
    "for k in range(datos.shape[0]):\n",
    "    b = datos.loc[k, 'previous_bids']\n",
    "    a.append(b)\n",
    "a\n",
    "\n",
    "d = []\n",
    "for i in range(len(a)):\n",
    "    if len(a[i]) > 1:\n",
    "        c = statistics.mean(a[i])\n",
    "        d.append(c)\n",
    "    else:\n",
    "        if len(a[i]) == 1:\n",
    "            c = a[i][0]\n",
    "            d.append(c)\n",
    "        else:\n",
    "            c = None\n",
    "            d.append(c)\n",
    "d\n",
    "\n",
    "df = {'mean_bids': d} # creamos la nueva variable: mean_bids (la media de las pujas previas)\n",
    "df = pd.DataFrame(df)\n",
    "\n",
    "my_df_new = pd.concat([datos, df], axis=1)"
   ]
  },
  {
   "cell_type": "markdown",
   "metadata": {},
   "source": [
    "A continuación llevaremos a cabo la imputación de los registros faltantes. Para ello en primer lugar necesitamos conocer el número de valores nulos presentes en nuestra variable a estudiar:"
   ]
  },
  {
   "cell_type": "code",
   "execution_count": 10,
   "metadata": {},
   "outputs": [
    {
     "data": {
      "text/plain": [
       "mean_bids    26\n",
       "dtype: int64"
      ]
     },
     "execution_count": 10,
     "metadata": {},
     "output_type": "execute_result"
    }
   ],
   "source": [
    "mb_avg = df.mean()\n",
    "mb_std = df.std()\n",
    "mb_null_count = df.isnull().sum()\n",
    "mb_null_count"
   ]
  },
  {
   "cell_type": "markdown",
   "metadata": {},
   "source": [
    "**Explicación:** la desviación estandar, `std()`, es un promedio de las desviaciones individuales de cada observación con respecto a la media de una distribución. Así, la desviación estándar mide el grado de dispersión o variabilidad. La forma de calcularla manualmente atendiendo a su definición es de la siguiente manera:"
   ]
  },
  {
   "cell_type": "code",
   "execution_count": 11,
   "metadata": {},
   "outputs": [
    {
     "name": "stdout",
     "output_type": "stream",
     "text": [
      " La desviación estándar de la variables es: 76.29507643981178 \n",
      " El valor promedio de la variable es: mean_bids    60.531827\n",
      "dtype: float64\n"
     ]
    }
   ],
   "source": [
    "std = math.sqrt((abs(df-df.mean())**2).mean())\n",
    "print(\" La desviación estándar de la variables es: {0} \\n El valor promedio de la variable es: {1}\".format(std, mb_avg))"
   ]
  },
  {
   "cell_type": "markdown",
   "metadata": {},
   "source": [
    "* ¿Cúal es el valor máximo y minimo que toma nuestra variable en cuestión?"
   ]
  },
  {
   "cell_type": "code",
   "execution_count": 12,
   "metadata": {},
   "outputs": [
    {
     "name": "stdout",
     "output_type": "stream",
     "text": [
      "El valor máximo de la variable es 606.8 y el valor mínimo 1.0\n"
     ]
    }
   ],
   "source": [
    "print(\"El valor máximo de la variable es {0} y el valor mínimo {1}\".format(df['mean_bids'].max(), df['mean_bids'].min()))"
   ]
  },
  {
   "cell_type": "markdown",
   "metadata": {},
   "source": [
    "Como comentamos en el inicio de esta sección; no tiene sentido construir el intervalo (mu-std,mu+std) pues estaríamos dando la posibilidad de asignar valores negativos a una variable que no lo admite. Este comportamiento se obtiene pues nuestra variable *mean_bids* es una variable que presenta una alta variabilidad. De esta manera, asignaremos pujas aleatorias a los registros faltantes dentro del intervalo (1,136.837954). El extremo inferior se debe a que hemos calculado que el valor mínimo que toma esa variable en nuestros datos es igual a 1. Así, la inclusión de estos nuevos valores no introduce cambios muy significativos en análisis posteriores (son un rango de valores frecuente en la variable estudiada)."
   ]
  },
  {
   "cell_type": "markdown",
   "metadata": {},
   "source": [
    "* **Contruimos el vector de dimensión *mb_null_count* (número de observaciones *None*) con valores pertenecientes al intervalo dicho y asociamos a cada uno de los valores faltantes uno de dichos valores:**"
   ]
  },
  {
   "cell_type": "code",
   "execution_count": 13,
   "metadata": {},
   "outputs": [],
   "source": [
    "np.random.seed(666) # fijamos una semilla\n",
    "mb_null_random_list = np.random.randint(1, mb_std + mb_avg, size=mb_null_count)\n",
    " \n",
    "conValoresNulos = pd.isnull(my_df_new['mean_bids'])\n",
    "\n",
    "my_df_new.loc[pd.isnull(my_df_new['mean_bids']), 'mean_bids'] = mb_null_random_list"
   ]
  },
  {
   "cell_type": "code",
   "execution_count": 14,
   "metadata": {},
   "outputs": [
    {
     "data": {
      "text/plain": [
       "0"
      ]
     },
     "execution_count": 14,
     "metadata": {},
     "output_type": "execute_result"
    }
   ],
   "source": [
    "my_df_new['mean_bids'].isnull().sum()"
   ]
  },
  {
   "cell_type": "markdown",
   "metadata": {},
   "source": [
    "> `mb_null_random_list` tiene 26 valores aleatorios (fijados por una semilla) que son asignados a cada valor *None* de la variable `mean_bids` (el primer elemento de `mb_null_random_list` se asocia al primer registro faltante, el segundo elemento aleatorio con el segundo valor *None*, etc.). Observamos por tanto que ya no tenemos valores faltantes, pues los 26 registros nulos han sido sustituidos por un valor comprendido entre 1 y 136.837954."
   ]
  },
  {
   "cell_type": "markdown",
   "metadata": {},
   "source": [
    "## Variable *supplier_country*\n",
    "---\n",
    "Observamos que dicha variable hace referencia al pais del proveedor (variable de tipo carácter) y presenta ciertos valores [], luego definiremos una función que nos permita transformar dichos valores por valores faltantes *None*."
   ]
  },
  {
   "cell_type": "code",
   "execution_count": 15,
   "metadata": {},
   "outputs": [],
   "source": [
    "def funcion(country):\n",
    "    if len(country)==0:\n",
    "        return None\n",
    "    return country\n",
    " \n",
    "my_df_new['supplier_country']=my_df_new.apply(lambda x: funcion(x['supplier_country']), axis=1);"
   ]
  },
  {
   "cell_type": "markdown",
   "metadata": {},
   "source": [
    "En este caso, el tratamiento de los valores faltantes será asignar a los mismos algún país ya presente en nuestras observaciones. Para ello, debemos crear la lista de países existentes y asignar, de manera aleatoria, uno de estos paises a las observaciones faltantes."
   ]
  },
  {
   "cell_type": "markdown",
   "metadata": {},
   "source": [
    "* Vemos en primer lugar qué países tenemos en nuestro análisis y construimos una lista con los mismos:"
   ]
  },
  {
   "cell_type": "code",
   "execution_count": 16,
   "metadata": {},
   "outputs": [
    {
     "data": {
      "text/plain": [
       "['Nl',\n",
       " 'Fr',\n",
       " 'At',\n",
       " 'Es',\n",
       " 'Be',\n",
       " 'Ua',\n",
       " 'De',\n",
       " 'It',\n",
       " 'Pl',\n",
       " 'Hu',\n",
       " 'Pt',\n",
       " 'Ee',\n",
       " 'Gb',\n",
       " 'Lt',\n",
       " 'Ro',\n",
       " 'Tr',\n",
       " 'Dk',\n",
       " 'Se',\n",
       " 'Il',\n",
       " 'Am',\n",
       " 'Ca',\n",
       " 'Bg',\n",
       " 'Us',\n",
       " 'Ch',\n",
       " 'No',\n",
       " 'Gr',\n",
       " 'Id',\n",
       " 'Cz',\n",
       " 'Sa',\n",
       " 'Ie',\n",
       " 'Ma',\n",
       " 'Sg',\n",
       " 'Rs',\n",
       " 'Hk']"
      ]
     },
     "execution_count": 16,
     "metadata": {},
     "output_type": "execute_result"
    }
   ],
   "source": [
    "a = [my_df_new['supplier_country'][i] for i in range(my_df_new.shape[0])]\n",
    "\n",
    "# Creamos la lista de los países (elimnando los objetos repetidos de a)\n",
    "lista_nueva = []\n",
    "for i in a:\n",
    "    if i not in lista_nueva:\n",
    "        lista_nueva.append(i)\n",
    "lista_nueva\n",
    "\n",
    "lista = [x for x in lista_nueva if x is not None] # eliminamos el valor None de la lista de países\n",
    "lista"
   ]
  },
  {
   "cell_type": "markdown",
   "metadata": {},
   "source": [
    "* ¿Cuántos valores *None* presenta la variable *supplier_country*?"
   ]
  },
  {
   "cell_type": "code",
   "execution_count": 17,
   "metadata": {},
   "outputs": [
    {
     "data": {
      "text/plain": [
       "56"
      ]
     },
     "execution_count": 17,
     "metadata": {},
     "output_type": "execute_result"
    }
   ],
   "source": [
    "sc_null_count = my_df_new['supplier_country'].isnull().sum()\n",
    "sc_null_count"
   ]
  },
  {
   "cell_type": "markdown",
   "metadata": {},
   "source": [
    "* **Creamos ahora la lista de tamaño *sc_null_count* que consta de los paises, escogidos de manera aleatoria, presentes en la lista previamente creada y asociamos a cada valor *None* uno de estos valores:**"
   ]
  },
  {
   "cell_type": "code",
   "execution_count": 18,
   "metadata": {},
   "outputs": [
    {
     "data": {
      "text/plain": [
       "array(['At', 'Ma', 'De', 'Hu', 'Ma', 'Cz', 'Ma', 'Sg', 'Sa', 'Ro', 'Hk',\n",
       "       'Dk', 'Ua', 'Il', 'Gb', 'Tr', 'Lt', 'Ua', 'Ca', 'Ee', 'No', 'Ca',\n",
       "       'Ma', 'Dk', 'Lt', 'Id', 'Ua', 'Hk', 'Nl', 'Ma', 'Nl', 'Cz', 'Ro',\n",
       "       'Nl', 'Sa', 'Am', 'At', 'Cz', 'Us', 'Cz', 'Tr', 'Cz', 'Dk', 'Am',\n",
       "       'Hu', 'Lt', 'At', 'No', 'Ch', 'Ee', 'It', 'Ca', 'Am', 'Bg', 'Ie',\n",
       "       'Am'], dtype='<U2')"
      ]
     },
     "execution_count": 18,
     "metadata": {},
     "output_type": "execute_result"
    }
   ],
   "source": [
    "import random\n",
    "\n",
    "np.random.seed(666) # fijamos la semilla\n",
    "sc_null_random_list = np.random.choice(lista, size=sc_null_count) \n",
    "# crear un conjunto de valores de manera aleatoria de la lista de paises y tamaño número de registros faltantes\n",
    "sc_null_random_list"
   ]
  },
  {
   "cell_type": "code",
   "execution_count": 19,
   "metadata": {},
   "outputs": [
    {
     "data": {
      "text/plain": [
       "0    Nl\n",
       "1    Nl\n",
       "2    Fr\n",
       "3    Fr\n",
       "4    Nl\n",
       "Name: supplier_country, dtype: object"
      ]
     },
     "execution_count": 19,
     "metadata": {},
     "output_type": "execute_result"
    }
   ],
   "source": [
    "conValoresNulos = pd.isnull(my_df_new['supplier_country'])\n",
    " \n",
    "# asociamos a cada registro nulo un elemento de la lista \"sc_null_random_list\", i.e, un pais de manera aleatoria\n",
    "my_df_new.loc[pd.isnull(my_df_new['supplier_country']), 'supplier_country'] = sc_null_random_list\n",
    "\n",
    "my_df_new['supplier_country'].head()"
   ]
  },
  {
   "cell_type": "markdown",
   "metadata": {},
   "source": [
    "Convertimos ahora la variable categórica a numérica y calculamos la frecuencia de cada país en nuestros datos de trabajo."
   ]
  },
  {
   "cell_type": "code",
   "execution_count": 20,
   "metadata": {},
   "outputs": [
    {
     "name": "stdout",
     "output_type": "stream",
     "text": [
      "supplier_country\n",
      "Am       6\n",
      "At      17\n",
      "Be     360\n",
      "Bg       3\n",
      "Ca       8\n",
      "Ch       3\n",
      "Cz       6\n",
      "De     245\n",
      "Dk       7\n",
      "Ee       3\n",
      "Es     177\n",
      "Fr     277\n",
      "Gb     116\n",
      "Gr       6\n",
      "Hk       3\n",
      "Hu       8\n",
      "Id       2\n",
      "Ie       4\n",
      "Il       5\n",
      "It     337\n",
      "Lt       6\n",
      "Ma       7\n",
      "Nl    1675\n",
      "No       3\n",
      "Pl      63\n",
      "Pt      69\n",
      "Ro      15\n",
      "Rs       1\n",
      "Sa       3\n",
      "Se       3\n",
      "Sg       2\n",
      "Tr      15\n",
      "Ua      16\n",
      "Us       8\n",
      "dtype: int64\n"
     ]
    }
   ],
   "source": [
    "print(my_df_new.groupby('supplier_country').size())\n",
    "\n",
    "my_df_new['supplier_country'] = my_df_new['supplier_country'].map({i:j for i,j in zip(lista, range(len(lista)))}).astype(int)"
   ]
  },
  {
   "cell_type": "markdown",
   "metadata": {},
   "source": [
    "## Variables *supplier_score* y *supplier_votes*\n",
    "---\n",
    "* *supplier_score*: puntuación del proveedor\n",
    "\n",
    "* *supplier_votes*: votos del proveedor\n",
    "\n",
    "Análizamos el comportamiento de dichas variables:"
   ]
  },
  {
   "cell_type": "code",
   "execution_count": 21,
   "metadata": {},
   "outputs": [
    {
     "data": {
      "text/plain": [
       "supplier_name     nfll\n",
       "supplier_score      []\n",
       "supplier_votes    None\n",
       "Name: 21, dtype: object"
      ]
     },
     "execution_count": 21,
     "metadata": {},
     "output_type": "execute_result"
    }
   ],
   "source": [
    "my_df_new[['supplier_votes']].isnull().any().any() # TRUE\n",
    "my_df_new[['supplier_score']].isnull().any().any() # FALSE, sin embargo, hay casos donde observamos la []\n",
    "\n",
    "## Observamos en el siguiente ejemplo este compartamiento\n",
    "my_df_new.loc[21, ['supplier_name','supplier_score', 'supplier_votes']]"
   ]
  },
  {
   "cell_type": "markdown",
   "metadata": {},
   "source": [
    "**Interpretación:** vemos como el proveedor de nombre *nfll* no ha realizado ninguna puntuación al lote en cuestión mientras que no se ha registrado ningún voto a dicho producto.\n",
    "\n",
    "**¿Cómo reaccionamos a este comportamiento?**"
   ]
  },
  {
   "cell_type": "markdown",
   "metadata": {},
   "source": [
    "### Variable *supplier_votes*\n",
    "---\n",
    "En primer lugar, convertimos dicha variable a valores numéricos de tipo *float*:"
   ]
  },
  {
   "cell_type": "code",
   "execution_count": 22,
   "metadata": {},
   "outputs": [],
   "source": [
    "my_df_new['supplier_votes'] = my_df_new['supplier_votes'].apply(pd.to_numeric)"
   ]
  },
  {
   "cell_type": "markdown",
   "metadata": {},
   "source": [
    "* **Calculamos diversas características de dicha variable: media, desviación estándar, valor mínimo, valor máximo**"
   ]
  },
  {
   "cell_type": "code",
   "execution_count": 23,
   "metadata": {},
   "outputs": [
    {
     "name": "stdout",
     "output_type": "stream",
     "text": [
      " Valor medio: 452.6391502276176 \n",
      " Desviación estándar: 953.1089450775765 \n",
      " Valor mínimo: 5.0 \n",
      " Valor máximo: 15844.0\n"
     ]
    }
   ],
   "source": [
    "print(\" Valor medio: {0} \\n Desviación estándar: {1} \\n Valor mínimo: {2} \\n Valor máximo: {3}\".\n",
    "      format(my_df_new['supplier_votes'].mean(), my_df_new['supplier_votes'].std(), \n",
    "            my_df_new['supplier_votes'].min(), my_df_new['supplier_votes'].max()))"
   ]
  },
  {
   "cell_type": "markdown",
   "metadata": {},
   "source": [
    "Nos encontramos ante el caso de que la variable a analizar presenta una alta variabilidad (mayor valor de desviación estándar que de valor medio). Por lo tanto, no tiene sentido considerar el intervalo (mu-std, mu+std). En este caso, asignaremos a los registros faltantes el promedio de la variable de interés, solucionando así la existencia de valores fuera de rango así como la de valores nulos."
   ]
  },
  {
   "cell_type": "code",
   "execution_count": 24,
   "metadata": {},
   "outputs": [],
   "source": [
    "promedio = my_df_new['supplier_votes'].mean()\n",
    "my_df_new['supplier_votes'] = my_df_new['supplier_votes'].replace(np.nan, promedio)"
   ]
  },
  {
   "cell_type": "code",
   "execution_count": 25,
   "metadata": {},
   "outputs": [
    {
     "data": {
      "text/plain": [
       "0"
      ]
     },
     "execution_count": 25,
     "metadata": {},
     "output_type": "execute_result"
    }
   ],
   "source": [
    "my_df_new['supplier_votes'].isnull().sum()"
   ]
  },
  {
   "cell_type": "markdown",
   "metadata": {},
   "source": [
    "Tenemos por tanto que dicha variable ya no presenta valores faltantes."
   ]
  },
  {
   "cell_type": "markdown",
   "metadata": {},
   "source": [
    "### Variable *supplier_score*\n",
    "---\n",
    "En primer lugar transformamos las listas vacias en valores faltantes (*None*) de acuerdo a la función previamente creada:"
   ]
  },
  {
   "cell_type": "code",
   "execution_count": 26,
   "metadata": {},
   "outputs": [],
   "source": [
    "my_df_new['supplier_score'] = my_df_new.apply(lambda x: funcion(x['supplier_score']), axis=1)"
   ]
  },
  {
   "cell_type": "markdown",
   "metadata": {},
   "source": [
    "En este caso, el tratamiento que llevaremos a cabo para los valores nulos será la eliminación de estas observaciones."
   ]
  },
  {
   "cell_type": "code",
   "execution_count": 27,
   "metadata": {},
   "outputs": [
    {
     "data": {
      "text/plain": [
       "3295"
      ]
     },
     "execution_count": 27,
     "metadata": {},
     "output_type": "execute_result"
    }
   ],
   "source": [
    "my_df_new.dropna(subset=['supplier_score'], inplace=True)\n",
    "\n",
    "my_df_new.shape[0]"
   ]
  },
  {
   "cell_type": "markdown",
   "metadata": {},
   "source": [
    "**Comentario:** pasamos a tener 3295 observaciones tras la eliminación de dichas observaciones (previamente teníamos un total de 3479)."
   ]
  },
  {
   "cell_type": "markdown",
   "metadata": {},
   "source": [
    "Por último, convertimos dicha variable a una variable numérica de tipo *float*."
   ]
  },
  {
   "cell_type": "code",
   "execution_count": 28,
   "metadata": {},
   "outputs": [],
   "source": [
    "my_df_new['supplier_score'] = my_df_new['supplier_score'].apply(pd.to_numeric)"
   ]
  },
  {
   "cell_type": "markdown",
   "metadata": {},
   "source": [
    "# Nuevo dataframe con los cambios efectuados\n",
    "---\n",
    "En primer lugar, eliminamos la variable `previous_bids` de nuestro conjunto de datos pues su información queda ahora almacenada en la variable creada `mean_bids` que presenta la puja media de las pujas previas del lote.\n",
    "\n",
    "Además, la variable `supplier_country` pasa a ser una variable numérica donde cada número hace referencia a un país y donde los valores faltantes han sido imputados, de manera aleatoria, por un país ya existente. En cuanto a las variables `supplier_score` y `supplier_votes` ya vemos que no presentan ni valores nulos ni listas vacias."
   ]
  },
  {
   "cell_type": "code",
   "execution_count": 29,
   "metadata": {},
   "outputs": [
    {
     "data": {
      "text/html": [
       "<div>\n",
       "<style scoped>\n",
       "    .dataframe tbody tr th:only-of-type {\n",
       "        vertical-align: middle;\n",
       "    }\n",
       "\n",
       "    .dataframe tbody tr th {\n",
       "        vertical-align: top;\n",
       "    }\n",
       "\n",
       "    .dataframe thead th {\n",
       "        text-align: right;\n",
       "    }\n",
       "</style>\n",
       "<table border=\"1\" class=\"dataframe\">\n",
       "  <thead>\n",
       "    <tr style=\"text-align: right;\">\n",
       "      <th></th>\n",
       "      <th>auctioneer_names</th>\n",
       "      <th>category_l0</th>\n",
       "      <th>category_l1</th>\n",
       "      <th>description</th>\n",
       "      <th>estimations</th>\n",
       "      <th>id</th>\n",
       "      <th>likes</th>\n",
       "      <th>meta_data</th>\n",
       "      <th>shipping</th>\n",
       "      <th>sub_title</th>\n",
       "      <th>supplier_country</th>\n",
       "      <th>supplier_from</th>\n",
       "      <th>supplier_name</th>\n",
       "      <th>supplier_score</th>\n",
       "      <th>supplier_votes</th>\n",
       "      <th>title</th>\n",
       "      <th>mean_bids</th>\n",
       "    </tr>\n",
       "  </thead>\n",
       "  <tbody>\n",
       "    <tr>\n",
       "      <th>0</th>\n",
       "      <td>[Roger Schreutelkamp]</td>\n",
       "      <td>Antiques &amp; Curio</td>\n",
       "      <td>Curio</td>\n",
       "      <td>\\nA beautiful school poster by Isings on the c...</td>\n",
       "      <td>[]</td>\n",
       "      <td>10000189</td>\n",
       "      <td>[]</td>\n",
       "      <td>{}</td>\n",
       "      <td>[[España, 15,00], [Alemania, 15,00], [Austria,...</td>\n",
       "      <td>The Netherlands 1960, J.B. Wolters Noordhoff G...</td>\n",
       "      <td>0</td>\n",
       "      <td>6 diciembre 2014</td>\n",
       "      <td>pauldevries23</td>\n",
       "      <td>100.0</td>\n",
       "      <td>310.0</td>\n",
       "      <td>Beautiful intact, old linen history school pos...</td>\n",
       "      <td>30.142857</td>\n",
       "    </tr>\n",
       "    <tr>\n",
       "      <th>1</th>\n",
       "      <td>[Francisco  Álvarez Lloret, Mark van Gijsel]</td>\n",
       "      <td>Antiques &amp; Curio</td>\n",
       "      <td>Curio</td>\n",
       "      <td>\\nBeautiful old radio\\n\\nWorks very well! \\n\\n...</td>\n",
       "      <td>[]</td>\n",
       "      <td>10000215</td>\n",
       "      <td>[]</td>\n",
       "      <td>{}</td>\n",
       "      <td>[[España, 28,00], [Alemania, 28,00], [Austria,...</td>\n",
       "      <td>Vintige radio 1980s</td>\n",
       "      <td>0</td>\n",
       "      <td>1 mayo 2015</td>\n",
       "      <td>old dutch</td>\n",
       "      <td>100.0</td>\n",
       "      <td>14.0</td>\n",
       "      <td>Vintige radio 1980s</td>\n",
       "      <td>16.250000</td>\n",
       "    </tr>\n",
       "    <tr>\n",
       "      <th>2</th>\n",
       "      <td>[Roger Schreutelkamp]</td>\n",
       "      <td>Antiques &amp; Curio</td>\n",
       "      <td>Curio</td>\n",
       "      <td>\\n5 educational school posters from 1973 by th...</td>\n",
       "      <td>[]</td>\n",
       "      <td>10001397</td>\n",
       "      <td>[]</td>\n",
       "      <td>{}</td>\n",
       "      <td>[[España, 18,00], [Alemania, 18,00], [Austria,...</td>\n",
       "      <td>Year 1973</td>\n",
       "      <td>1</td>\n",
       "      <td>27 septiembre 2015</td>\n",
       "      <td>Clairvallon</td>\n",
       "      <td>97.0</td>\n",
       "      <td>35.0</td>\n",
       "      <td>5 educational school posters, double sided</td>\n",
       "      <td>20.636364</td>\n",
       "    </tr>\n",
       "    <tr>\n",
       "      <th>3</th>\n",
       "      <td>[Christine Barrat]</td>\n",
       "      <td>Antiques &amp; Curio</td>\n",
       "      <td>Silver &amp; Gold</td>\n",
       "      <td>\\nSilver plated Christofle dish.Very good cond...</td>\n",
       "      <td>[]</td>\n",
       "      <td>10002073</td>\n",
       "      <td>[]</td>\n",
       "      <td>{}</td>\n",
       "      <td>[[España, 15,00], [Alemania, 15,00], [Austria,...</td>\n",
       "      <td>Christofle dish</td>\n",
       "      <td>1</td>\n",
       "      <td>22 marzo 2015</td>\n",
       "      <td>Fabregas</td>\n",
       "      <td>100.0</td>\n",
       "      <td>5.0</td>\n",
       "      <td>Christofle dish</td>\n",
       "      <td>26.526316</td>\n",
       "    </tr>\n",
       "    <tr>\n",
       "      <th>4</th>\n",
       "      <td>[Jeroen Zoetmulder]</td>\n",
       "      <td>Antiques &amp; Curio</td>\n",
       "      <td>Antiques</td>\n",
       "      <td>\\n6 beautiful crystal wine glasses by Nachtman...</td>\n",
       "      <td>[]</td>\n",
       "      <td>10004181</td>\n",
       "      <td>[]</td>\n",
       "      <td>{}</td>\n",
       "      <td>[[España, 19,00], [Alemania, 19,00], [Austria,...</td>\n",
       "      <td>In perfect condition.</td>\n",
       "      <td>0</td>\n",
       "      <td>15 enero 2015</td>\n",
       "      <td>AmazingAntiques</td>\n",
       "      <td>98.4</td>\n",
       "      <td>188.0</td>\n",
       "      <td>6 crystal wine glasses Nachtmann, Germany, sec...</td>\n",
       "      <td>47.705882</td>\n",
       "    </tr>\n",
       "    <tr>\n",
       "      <th>5</th>\n",
       "      <td>[Roger Schreutelkamp]</td>\n",
       "      <td>Antiques &amp; Curio</td>\n",
       "      <td>Curio</td>\n",
       "      <td>\\n6 blackboards from the 1960s-1970s\\nPrint He...</td>\n",
       "      <td>[]</td>\n",
       "      <td>10005517</td>\n",
       "      <td>[]</td>\n",
       "      <td>{}</td>\n",
       "      <td>[[España, 21,00], [Alemania, 21,00], [Austria,...</td>\n",
       "      <td>Mid 20th Century  approximately 1960-1970s</td>\n",
       "      <td>2</td>\n",
       "      <td>28 noviembre 2016</td>\n",
       "      <td>max505</td>\n",
       "      <td>100.0</td>\n",
       "      <td>29.0</td>\n",
       "      <td>6 blackboards with cities, Amsterdam/London...</td>\n",
       "      <td>3.500000</td>\n",
       "    </tr>\n",
       "    <tr>\n",
       "      <th>6</th>\n",
       "      <td>[Marco van Kampen]</td>\n",
       "      <td>Antiques &amp; Curio</td>\n",
       "      <td>Curio</td>\n",
       "      <td>\\nDimensiones: 47 x 34,5 cm el papel. 30 x 24 ...</td>\n",
       "      <td>[]</td>\n",
       "      <td>10005903</td>\n",
       "      <td>[]</td>\n",
       "      <td>{}</td>\n",
       "      <td>[]</td>\n",
       "      <td>Aguafuerte  - Signado PA (Prueba de autor) - f...</td>\n",
       "      <td>3</td>\n",
       "      <td>21 abril 2016</td>\n",
       "      <td>grabadoyarte</td>\n",
       "      <td>100.0</td>\n",
       "      <td>298.0</td>\n",
       "      <td>Grabado original; Celedonio Perellón - Mujer e...</td>\n",
       "      <td>32.230769</td>\n",
       "    </tr>\n",
       "    <tr>\n",
       "      <th>7</th>\n",
       "      <td>[Annick van Itallie, Francisco  Álvarez Lloret]</td>\n",
       "      <td>Antiques &amp; Curio</td>\n",
       "      <td>Curio</td>\n",
       "      <td>\\nBeautiful Art Deco ceiling lamp with milk gl...</td>\n",
       "      <td>[]</td>\n",
       "      <td>10006911</td>\n",
       "      <td>[]</td>\n",
       "      <td>{}</td>\n",
       "      <td>[[España, 28,00], [Alemania, 23,00], [Austria,...</td>\n",
       "      <td>In good condition</td>\n",
       "      <td>0</td>\n",
       "      <td>27 abril 2014</td>\n",
       "      <td>Bleubell</td>\n",
       "      <td>100.0</td>\n",
       "      <td>287.0</td>\n",
       "      <td>Art Deco ceiling lamp with figures and animals...</td>\n",
       "      <td>16.615385</td>\n",
       "    </tr>\n",
       "    <tr>\n",
       "      <th>8</th>\n",
       "      <td>[Roger Schreutelkamp, Arjan  de Haan]</td>\n",
       "      <td>Antiques &amp; Curio</td>\n",
       "      <td>Curio</td>\n",
       "      <td>\\nSailing boat ABN AMRO 2 colectors item\\n\\nTh...</td>\n",
       "      <td>[]</td>\n",
       "      <td>10008283</td>\n",
       "      <td>[]</td>\n",
       "      <td>{}</td>\n",
       "      <td>[[España, 26,65], [Alemania, 26,65], [Austria,...</td>\n",
       "      <td>Sailing boat ABN AMRO 2</td>\n",
       "      <td>0</td>\n",
       "      <td>25 mayo 2016</td>\n",
       "      <td>Lamberink</td>\n",
       "      <td>97.3</td>\n",
       "      <td>115.0</td>\n",
       "      <td>Sailing boat ABN AMRO 2 colectors item</td>\n",
       "      <td>40.058824</td>\n",
       "    </tr>\n",
       "    <tr>\n",
       "      <th>9</th>\n",
       "      <td>[Mark van Gijsel]</td>\n",
       "      <td>Antiques &amp; Curio</td>\n",
       "      <td>Curio</td>\n",
       "      <td>\\n3 metres wide, 53 cm high.\\nPhotos taken jus...</td>\n",
       "      <td>[]</td>\n",
       "      <td>10008357</td>\n",
       "      <td>[]</td>\n",
       "      <td>{}</td>\n",
       "      <td>[]</td>\n",
       "      <td>Very large</td>\n",
       "      <td>4</td>\n",
       "      <td>4 septiembre 2015</td>\n",
       "      <td>Benedef Sales</td>\n",
       "      <td>100.0</td>\n",
       "      <td>286.0</td>\n",
       "      <td>St.-Michel Enamel advertising sign - 1953</td>\n",
       "      <td>65.416667</td>\n",
       "    </tr>\n",
       "    <tr>\n",
       "      <th>10</th>\n",
       "      <td>[Dési van Rhee]</td>\n",
       "      <td>Antiques &amp; Curio</td>\n",
       "      <td>Antiques</td>\n",
       "      <td>\\nNice to hold in their hands, an incredible e...</td>\n",
       "      <td>[]</td>\n",
       "      <td>10008525</td>\n",
       "      <td>[]</td>\n",
       "      <td>{}</td>\n",
       "      <td>[[España, 23,00], [Alemania, 23,00], [Austria,...</td>\n",
       "      <td>In a good condition.</td>\n",
       "      <td>5</td>\n",
       "      <td>6 abril 2016</td>\n",
       "      <td>viktorbaykush</td>\n",
       "      <td>99.3</td>\n",
       "      <td>154.0</td>\n",
       "      <td>Fabric homespun flax, Ukraine the first half -...</td>\n",
       "      <td>22.272727</td>\n",
       "    </tr>\n",
       "    <tr>\n",
       "      <th>11</th>\n",
       "      <td>[Ger van Oers]</td>\n",
       "      <td>Antiques &amp; Curio</td>\n",
       "      <td>Lighters &amp; Pens</td>\n",
       "      <td>\\nPrecioso y elegante bolígrafo Montblanc Volt...</td>\n",
       "      <td>[[usd, 380, 510], [eur, 350, 475], [gbp, 300, ...</td>\n",
       "      <td>10009915</td>\n",
       "      <td>[]</td>\n",
       "      <td>{}</td>\n",
       "      <td>[[España, 10,00], [Alemania, 25,00], [Austria,...</td>\n",
       "      <td>Año 1995- reina negra- clip y anillo de plata ...</td>\n",
       "      <td>3</td>\n",
       "      <td>24 marzo 2016</td>\n",
       "      <td>subcero1960</td>\n",
       "      <td>100.0</td>\n",
       "      <td>182.0</td>\n",
       "      <td>Bolígrafo Montblanc Edición Limitada Voltaire</td>\n",
       "      <td>230.333333</td>\n",
       "    </tr>\n",
       "    <tr>\n",
       "      <th>12</th>\n",
       "      <td>[Roger Schreutelkamp]</td>\n",
       "      <td>Antiques &amp; Curio</td>\n",
       "      <td>Curio</td>\n",
       "      <td>\\nLot of 12 more or less different items:\\n1) ...</td>\n",
       "      <td>[]</td>\n",
       "      <td>10010269</td>\n",
       "      <td>[]</td>\n",
       "      <td>{}</td>\n",
       "      <td>[[España, 9,00], [Alemania, 6,00], [Austria, 9...</td>\n",
       "      <td>VF</td>\n",
       "      <td>6</td>\n",
       "      <td>13 enero 2016</td>\n",
       "      <td>nonvaleur-shop</td>\n",
       "      <td>100.0</td>\n",
       "      <td>426.0</td>\n",
       "      <td>Turkey Ottoman Empire - different State Bonds ...</td>\n",
       "      <td>12.818182</td>\n",
       "    </tr>\n",
       "    <tr>\n",
       "      <th>13</th>\n",
       "      <td>[Christine Barrat]</td>\n",
       "      <td>Antiques &amp; Curio</td>\n",
       "      <td>Silver &amp; Gold</td>\n",
       "      <td>\\nSilver plated bouilloire on original hot pla...</td>\n",
       "      <td>[]</td>\n",
       "      <td>10010673</td>\n",
       "      <td>[]</td>\n",
       "      <td>{}</td>\n",
       "      <td>[[España, 23,00], [Alemania, 23,00], [Austria,...</td>\n",
       "      <td>Silver-Plated, height 28 cm, weight 1.2</td>\n",
       "      <td>0</td>\n",
       "      <td>4 marzo 2014</td>\n",
       "      <td>Pastandpresent</td>\n",
       "      <td>99.0</td>\n",
       "      <td>3609.0</td>\n",
       "      <td>Silver plated bouillore on hot plate, Walker &amp;...</td>\n",
       "      <td>43.588235</td>\n",
       "    </tr>\n",
       "    <tr>\n",
       "      <th>14</th>\n",
       "      <td>[Christine Barrat]</td>\n",
       "      <td>Antiques &amp; Curio</td>\n",
       "      <td>Silver &amp; Gold</td>\n",
       "      <td>\\nSilver plated cookie jar with lid. Lion head...</td>\n",
       "      <td>[]</td>\n",
       "      <td>10010769</td>\n",
       "      <td>[]</td>\n",
       "      <td>{}</td>\n",
       "      <td>[[España, 16,00], [Alemania, 16,00], [Austria,...</td>\n",
       "      <td>Silver-Plated, height 16 cm, weight 0.7 kg</td>\n",
       "      <td>0</td>\n",
       "      <td>4 marzo 2014</td>\n",
       "      <td>Pastandpresent</td>\n",
       "      <td>99.0</td>\n",
       "      <td>3595.0</td>\n",
       "      <td>Silver plated cookie jar with classic ribbed d...</td>\n",
       "      <td>12.375000</td>\n",
       "    </tr>\n",
       "    <tr>\n",
       "      <th>15</th>\n",
       "      <td>[Francisco  Álvarez Lloret, Mark van Gijsel]</td>\n",
       "      <td>Antiques &amp; Curio</td>\n",
       "      <td>Curio</td>\n",
       "      <td>\\n\"Winter\" tapestry by Craye [Groupe Flemish T...</td>\n",
       "      <td>[]</td>\n",
       "      <td>10011319</td>\n",
       "      <td>[]</td>\n",
       "      <td>{}</td>\n",
       "      <td>[]</td>\n",
       "      <td>Made in Flanders, Belgium, 100% cotton, Perfec...</td>\n",
       "      <td>3</td>\n",
       "      <td>31 diciembre 2015</td>\n",
       "      <td>Arts &amp; Curio</td>\n",
       "      <td>100.0</td>\n",
       "      <td>281.0</td>\n",
       "      <td>Life size Belgian tapestry \"Winter\" from \"The ...</td>\n",
       "      <td>83.375000</td>\n",
       "    </tr>\n",
       "    <tr>\n",
       "      <th>16</th>\n",
       "      <td>[Jeroen Zoetmulder]</td>\n",
       "      <td>Antiques &amp; Curio</td>\n",
       "      <td>Antiques</td>\n",
       "      <td>\\nBeautiful antique opaline set consisting of ...</td>\n",
       "      <td>[]</td>\n",
       "      <td>10013101</td>\n",
       "      <td>[]</td>\n",
       "      <td>{}</td>\n",
       "      <td>[[España, 10,00], [Alemania, 10,00], [Austria,...</td>\n",
       "      <td>In good condition</td>\n",
       "      <td>0</td>\n",
       "      <td>16 enero 2015</td>\n",
       "      <td>mastercard</td>\n",
       "      <td>100.0</td>\n",
       "      <td>315.0</td>\n",
       "      <td>enameled opaline decanter with six glasses, Fr...</td>\n",
       "      <td>58.769231</td>\n",
       "    </tr>\n",
       "    <tr>\n",
       "      <th>17</th>\n",
       "      <td>[Christine Barrat, Francisco  Álvarez Lloret]</td>\n",
       "      <td>Antiques &amp; Curio</td>\n",
       "      <td>Curio</td>\n",
       "      <td>\\nalle planken verkeren in een goede conditie....</td>\n",
       "      <td>[]</td>\n",
       "      <td>1001361</td>\n",
       "      <td>[]</td>\n",
       "      <td>{}</td>\n",
       "      <td>[]</td>\n",
       "      <td>Hand gestoken eikenhout van groot formaat.</td>\n",
       "      <td>0</td>\n",
       "      <td>16 febrero 2014</td>\n",
       "      <td>Tobias1978</td>\n",
       "      <td>97.7</td>\n",
       "      <td>47.0</td>\n",
       "      <td>Vijf speculaas planken - begin en midden 20e eeuw</td>\n",
       "      <td>21.562500</td>\n",
       "    </tr>\n",
       "    <tr>\n",
       "      <th>18</th>\n",
       "      <td>[Francisco  Álvarez Lloret]</td>\n",
       "      <td>Antiques &amp; Curio</td>\n",
       "      <td>Curio</td>\n",
       "      <td>\\nDining room table lamp, adjustable in height...</td>\n",
       "      <td>[]</td>\n",
       "      <td>10015259</td>\n",
       "      <td>[]</td>\n",
       "      <td>{}</td>\n",
       "      <td>[]</td>\n",
       "      <td>In good, original condition</td>\n",
       "      <td>0</td>\n",
       "      <td>3 marzo 2015</td>\n",
       "      <td>Gervanleeuwen</td>\n",
       "      <td>100.0</td>\n",
       "      <td>28.0</td>\n",
       "      <td>Adjustable copper ceiling lamp, 1930</td>\n",
       "      <td>126.428571</td>\n",
       "    </tr>\n",
       "    <tr>\n",
       "      <th>19</th>\n",
       "      <td>[Francisco  Álvarez Lloret]</td>\n",
       "      <td>Antiques &amp; Curio</td>\n",
       "      <td>Curio</td>\n",
       "      <td>\\nTwo blue glass syphons including a screenpri...</td>\n",
       "      <td>[]</td>\n",
       "      <td>10015537</td>\n",
       "      <td>[]</td>\n",
       "      <td>{}</td>\n",
       "      <td>[[España, 25,00], [Alemania, 25,00], [Austria,...</td>\n",
       "      <td>Good condition, complete</td>\n",
       "      <td>1</td>\n",
       "      <td>8 marzo 2015</td>\n",
       "      <td>Ptichvalkigalop</td>\n",
       "      <td>95.4</td>\n",
       "      <td>323.0</td>\n",
       "      <td>two ancient Blue syphons, including a copper c...</td>\n",
       "      <td>72.500000</td>\n",
       "    </tr>\n",
       "    <tr>\n",
       "      <th>20</th>\n",
       "      <td>[Annick van Itallie, Francisco  Álvarez Lloret]</td>\n",
       "      <td>Antiques &amp; Curio</td>\n",
       "      <td>Curio</td>\n",
       "      <td>\\nHet pastel word aangeboden achter glas, inge...</td>\n",
       "      <td>[]</td>\n",
       "      <td>1001657</td>\n",
       "      <td>[]</td>\n",
       "      <td>{}</td>\n",
       "      <td>[]</td>\n",
       "      <td>In pastel getekend, gesigneerd rechts onder: P...</td>\n",
       "      <td>0</td>\n",
       "      <td>24 julio 2014</td>\n",
       "      <td>carolein</td>\n",
       "      <td>99.5</td>\n",
       "      <td>189.0</td>\n",
       "      <td>Stilleven - Tweede helft 20ste eeuw</td>\n",
       "      <td>8.600000</td>\n",
       "    </tr>\n",
       "    <tr>\n",
       "      <th>22</th>\n",
       "      <td>[Arjan  de Haan]</td>\n",
       "      <td>Antiques &amp; Curio</td>\n",
       "      <td>Curio</td>\n",
       "      <td>\\nChrist with his cross on a granite base, sil...</td>\n",
       "      <td>[]</td>\n",
       "      <td>10019659</td>\n",
       "      <td>[]</td>\n",
       "      <td>{}</td>\n",
       "      <td>[]</td>\n",
       "      <td>In good condition</td>\n",
       "      <td>6</td>\n",
       "      <td>9 noviembre 2016</td>\n",
       "      <td>DMeyer300</td>\n",
       "      <td>97.2</td>\n",
       "      <td>77.0</td>\n",
       "      <td>Depiction of Jesus bearing his cross, signed b...</td>\n",
       "      <td>6.363636</td>\n",
       "    </tr>\n",
       "    <tr>\n",
       "      <th>23</th>\n",
       "      <td>[Francisco  Álvarez Lloret, Mark van Gijsel]</td>\n",
       "      <td>Antiques &amp; Curio</td>\n",
       "      <td>Curio</td>\n",
       "      <td>\\nThese clocks designed by Herman Brood are re...</td>\n",
       "      <td>[]</td>\n",
       "      <td>10021333</td>\n",
       "      <td>[]</td>\n",
       "      <td>{}</td>\n",
       "      <td>[[España, 22,00], [Alemania, 22,00], [Austria,...</td>\n",
       "      <td>1992, glass clocks with his name as pointers</td>\n",
       "      <td>0</td>\n",
       "      <td>21 diciembre 2015</td>\n",
       "      <td>Pomona</td>\n",
       "      <td>100.0</td>\n",
       "      <td>53.0</td>\n",
       "      <td>Herman Brood - two original clocks.</td>\n",
       "      <td>15.285714</td>\n",
       "    </tr>\n",
       "    <tr>\n",
       "      <th>24</th>\n",
       "      <td>[Gijs Hamming, Richard Ebbers]</td>\n",
       "      <td>Antiques &amp; Curio</td>\n",
       "      <td>Rugs &amp; Carpets</td>\n",
       "      <td>\\nBidjar \\nThis carpet was knotted around 1980...</td>\n",
       "      <td>[]</td>\n",
       "      <td>10022553</td>\n",
       "      <td>[]</td>\n",
       "      <td>{}</td>\n",
       "      <td>[[España, 30,00], [Alemania, 0], [Austria, 25,...</td>\n",
       "      <td>Persian carpet Hamadan Malayer, made in Iran w...</td>\n",
       "      <td>6</td>\n",
       "      <td>22 enero 2016</td>\n",
       "      <td>Antik-rugs</td>\n",
       "      <td>98.4</td>\n",
       "      <td>3539.0</td>\n",
       "      <td>Old high quality handwoven Persian carpet, Bid...</td>\n",
       "      <td>59.085714</td>\n",
       "    </tr>\n",
       "    <tr>\n",
       "      <th>25</th>\n",
       "      <td>[Christine Barrat, Francisco  Álvarez Lloret]</td>\n",
       "      <td>Antiques &amp; Curio</td>\n",
       "      <td>Curio</td>\n",
       "      <td>\\nvery large music box, 45 cm tall and 20cm in...</td>\n",
       "      <td>[]</td>\n",
       "      <td>10023007</td>\n",
       "      <td>[]</td>\n",
       "      <td>{}</td>\n",
       "      <td>[]</td>\n",
       "      <td>music box cigarette case with 6 doors that ope...</td>\n",
       "      <td>7</td>\n",
       "      <td>6 marzo 2016</td>\n",
       "      <td>tornadoblu</td>\n",
       "      <td>93.5</td>\n",
       "      <td>218.0</td>\n",
       "      <td>Carillon xxxl 20cm in diameter and 45 cm tall,...</td>\n",
       "      <td>99.937500</td>\n",
       "    </tr>\n",
       "    <tr>\n",
       "      <th>26</th>\n",
       "      <td>[Nienke  Voorhuis]</td>\n",
       "      <td>Antiques &amp; Curio</td>\n",
       "      <td>Antiques</td>\n",
       "      <td>\\nStone capital, \\n18th century, still feature...</td>\n",
       "      <td>[[usd, 1700, 2340], [eur, 1600, 2200], [gbp, 1...</td>\n",
       "      <td>10023033</td>\n",
       "      <td>[]</td>\n",
       "      <td>{}</td>\n",
       "      <td>[]</td>\n",
       "      <td>In good condition, elegantly crafted and shaped</td>\n",
       "      <td>7</td>\n",
       "      <td>29 agosto 2016</td>\n",
       "      <td>tonipier</td>\n",
       "      <td>62.5</td>\n",
       "      <td>9.0</td>\n",
       "      <td>Stone capital - 18th century</td>\n",
       "      <td>67.600000</td>\n",
       "    </tr>\n",
       "    <tr>\n",
       "      <th>27</th>\n",
       "      <td>[Francisco  Álvarez Lloret]</td>\n",
       "      <td>Antiques &amp; Curio</td>\n",
       "      <td>Curio</td>\n",
       "      <td>\\nVintage Singer 201 sewing machine, with port...</td>\n",
       "      <td>[]</td>\n",
       "      <td>10023403</td>\n",
       "      <td>[]</td>\n",
       "      <td>{}</td>\n",
       "      <td>[]</td>\n",
       "      <td>Germany 1950, good condition, not tested</td>\n",
       "      <td>6</td>\n",
       "      <td>10 marzo 2016</td>\n",
       "      <td>vintage11</td>\n",
       "      <td>95.7</td>\n",
       "      <td>75.0</td>\n",
       "      <td>Singer model 201, old sewing machine, portable...</td>\n",
       "      <td>20.684211</td>\n",
       "    </tr>\n",
       "    <tr>\n",
       "      <th>28</th>\n",
       "      <td>[Mark van Gijsel, Francisco  Álvarez Lloret]</td>\n",
       "      <td>Antiques &amp; Curio</td>\n",
       "      <td>Curio</td>\n",
       "      <td>\\nBeautiful antique wooden sled, hand-painted ...</td>\n",
       "      <td>[[usd, 270, 430], [eur, 250, 400], [gbp, 220, ...</td>\n",
       "      <td>10023495</td>\n",
       "      <td>[]</td>\n",
       "      <td>{}</td>\n",
       "      <td>[]</td>\n",
       "      <td>Beautiful item.</td>\n",
       "      <td>6</td>\n",
       "      <td>14 noviembre 2015</td>\n",
       "      <td>hokuspokus</td>\n",
       "      <td>100.0</td>\n",
       "      <td>72.0</td>\n",
       "      <td>Antique, large, hand-painted wooden sled - app...</td>\n",
       "      <td>47.571429</td>\n",
       "    </tr>\n",
       "    <tr>\n",
       "      <th>29</th>\n",
       "      <td>[Arjan  de Haan]</td>\n",
       "      <td>Antiques &amp; Curio</td>\n",
       "      <td>Curio</td>\n",
       "      <td>\\nUnusual art deco style painting made of copp...</td>\n",
       "      <td>[]</td>\n",
       "      <td>10024301</td>\n",
       "      <td>[]</td>\n",
       "      <td>{}</td>\n",
       "      <td>[[España, 15,00], [Alemania, 15,00], [Austria,...</td>\n",
       "      <td>Vintage with signs of use</td>\n",
       "      <td>0</td>\n",
       "      <td>7 diciembre 2014</td>\n",
       "      <td>twinkelbel</td>\n",
       "      <td>96.5</td>\n",
       "      <td>211.0</td>\n",
       "      <td>Religious art with an image of Saint George an...</td>\n",
       "      <td>24.266667</td>\n",
       "    </tr>\n",
       "    <tr>\n",
       "      <th>30</th>\n",
       "      <td>[Annick van Itallie]</td>\n",
       "      <td>Antiques &amp; Curio</td>\n",
       "      <td>Interior &amp; Lifestyle</td>\n",
       "      <td>\\nNeapolitan coffee table in carved and gilded...</td>\n",
       "      <td>[[usd, 240, 320], [eur, 220, 300], [gbp, 190, ...</td>\n",
       "      <td>10025285</td>\n",
       "      <td>[]</td>\n",
       "      <td>{}</td>\n",
       "      <td>[]</td>\n",
       "      <td>Small faults in gilding</td>\n",
       "      <td>7</td>\n",
       "      <td>21 septiembre 2016</td>\n",
       "      <td>Torlo Centro Antico s.r.l.</td>\n",
       "      <td>96.8</td>\n",
       "      <td>33.0</td>\n",
       "      <td>Golden wood coffee table in Rococo style - Nap...</td>\n",
       "      <td>103.000000</td>\n",
       "    </tr>\n",
       "    <tr>\n",
       "      <th>...</th>\n",
       "      <td>...</td>\n",
       "      <td>...</td>\n",
       "      <td>...</td>\n",
       "      <td>...</td>\n",
       "      <td>...</td>\n",
       "      <td>...</td>\n",
       "      <td>...</td>\n",
       "      <td>...</td>\n",
       "      <td>...</td>\n",
       "      <td>...</td>\n",
       "      <td>...</td>\n",
       "      <td>...</td>\n",
       "      <td>...</td>\n",
       "      <td>...</td>\n",
       "      <td>...</td>\n",
       "      <td>...</td>\n",
       "      <td>...</td>\n",
       "    </tr>\n",
       "    <tr>\n",
       "      <th>3447</th>\n",
       "      <td>[Christine Barrat]</td>\n",
       "      <td>Antiques &amp; Curio</td>\n",
       "      <td>Silver &amp; Gold</td>\n",
       "      <td>\\nExtensive cassette (not in case) silver plat...</td>\n",
       "      <td>[[usd, 350, 470], [eur, 300, 400], [gbp, 270, ...</td>\n",
       "      <td>12805563</td>\n",
       "      <td>[]</td>\n",
       "      <td>{}</td>\n",
       "      <td>[[España, 42,00], [Alemania, 42,00], [Austria,...</td>\n",
       "      <td>Silver plated English A1 plate (EPNS) 136 piec...</td>\n",
       "      <td>0</td>\n",
       "      <td>6 septiembre 2013</td>\n",
       "      <td>Geron</td>\n",
       "      <td>100.0</td>\n",
       "      <td>950.0</td>\n",
       "      <td>Extensive English silver plated cutlery in Kin...</td>\n",
       "      <td>118.000000</td>\n",
       "    </tr>\n",
       "    <tr>\n",
       "      <th>3448</th>\n",
       "      <td>[Arjan  de Haan]</td>\n",
       "      <td>Antiques &amp; Curio</td>\n",
       "      <td>Lighters &amp; Pens</td>\n",
       "      <td>\\nS.T.Dupont encendedor , Ligne 1,  oro, artic...</td>\n",
       "      <td>[]</td>\n",
       "      <td>12805623</td>\n",
       "      <td>[]</td>\n",
       "      <td>{}</td>\n",
       "      <td>[[España, 7,00], [Alemania, 23,00], [Austria, ...</td>\n",
       "      <td>S.T. Dupont Ligne 1 oro</td>\n",
       "      <td>3</td>\n",
       "      <td>11 febrero 2016</td>\n",
       "      <td>juan7777</td>\n",
       "      <td>100.0</td>\n",
       "      <td>571.0</td>\n",
       "      <td>S.T Dupont Ligne 1 oro</td>\n",
       "      <td>16.500000</td>\n",
       "    </tr>\n",
       "    <tr>\n",
       "      <th>3449</th>\n",
       "      <td>[Arjan den Boer]</td>\n",
       "      <td>Antiques &amp; Curio</td>\n",
       "      <td>Curio</td>\n",
       "      <td>\\nSize: 120 x160 cm / Size: 47 x 63 inches \\n\\...</td>\n",
       "      <td>[]</td>\n",
       "      <td>12805637</td>\n",
       "      <td>[]</td>\n",
       "      <td>{}</td>\n",
       "      <td>[[España, 19,35], [Alemania, 19,35], [Austria,...</td>\n",
       "      <td>Original French movie poster</td>\n",
       "      <td>1</td>\n",
       "      <td>8 abril 2016</td>\n",
       "      <td>darollet</td>\n",
       "      <td>99.2</td>\n",
       "      <td>130.0</td>\n",
       "      <td>Hervé Morvan - Impossible... pas français (Rob...</td>\n",
       "      <td>10.600000</td>\n",
       "    </tr>\n",
       "    <tr>\n",
       "      <th>3450</th>\n",
       "      <td>[Christine Barrat]</td>\n",
       "      <td>Antiques &amp; Curio</td>\n",
       "      <td>Curio</td>\n",
       "      <td>\\n2 Very beautiful art deco serving scales. \\n...</td>\n",
       "      <td>[]</td>\n",
       "      <td>12806667</td>\n",
       "      <td>[]</td>\n",
       "      <td>{}</td>\n",
       "      <td>[[España, 15,00], [Alemania, 15,00], [Austria,...</td>\n",
       "      <td>Around 1930, France, satin glass, good condition</td>\n",
       "      <td>0</td>\n",
       "      <td>7 noviembre 2015</td>\n",
       "      <td>Mir74</td>\n",
       "      <td>98.0</td>\n",
       "      <td>54.0</td>\n",
       "      <td>Art Deco - Tulip bowls</td>\n",
       "      <td>13.500000</td>\n",
       "    </tr>\n",
       "    <tr>\n",
       "      <th>3451</th>\n",
       "      <td>[Francisco  Álvarez Lloret]</td>\n",
       "      <td>Antiques &amp; Curio</td>\n",
       "      <td>Curio</td>\n",
       "      <td>\\nBeautiful and well functioning Kayser hand s...</td>\n",
       "      <td>[]</td>\n",
       "      <td>12808847</td>\n",
       "      <td>[]</td>\n",
       "      <td>{}</td>\n",
       "      <td>[[España, 35,00], [Alemania, 35,00], [Austria,...</td>\n",
       "      <td>The machine was recently completely lubricated.</td>\n",
       "      <td>0</td>\n",
       "      <td>27 octubre 2014</td>\n",
       "      <td>teisterband</td>\n",
       "      <td>93.1</td>\n",
       "      <td>254.0</td>\n",
       "      <td>Kayser sewing machine with wooden cover, Germa...</td>\n",
       "      <td>9.272727</td>\n",
       "    </tr>\n",
       "    <tr>\n",
       "      <th>3452</th>\n",
       "      <td>[Arjan  de Haan]</td>\n",
       "      <td>Antiques &amp; Curio</td>\n",
       "      <td>Curio</td>\n",
       "      <td>\\nUnique beautiful wood carved angel ornament....</td>\n",
       "      <td>[[usd, 290, 380], [eur, 250, 325], [gbp, 220, ...</td>\n",
       "      <td>12808981</td>\n",
       "      <td>[]</td>\n",
       "      <td>{}</td>\n",
       "      <td>[[España, 15,00], [Alemania, 15,00], [Austria,...</td>\n",
       "      <td>In old condition</td>\n",
       "      <td>0</td>\n",
       "      <td>10 junio 2014</td>\n",
       "      <td>Fresco</td>\n",
       "      <td>98.2</td>\n",
       "      <td>246.0</td>\n",
       "      <td>Wooden angel ornament - Italy - ca 1700</td>\n",
       "      <td>69.714286</td>\n",
       "    </tr>\n",
       "    <tr>\n",
       "      <th>3453</th>\n",
       "      <td>[Annick van Itallie, Francisco  Álvarez Lloret]</td>\n",
       "      <td>Antiques &amp; Curio</td>\n",
       "      <td>Curio</td>\n",
       "      <td>\\nZéér stijlvolle en decoratieve tafellamp.\\nH...</td>\n",
       "      <td>[]</td>\n",
       "      <td>1281008</td>\n",
       "      <td>[]</td>\n",
       "      <td>{}</td>\n",
       "      <td>[]</td>\n",
       "      <td>Prachtige barokmotieven</td>\n",
       "      <td>4</td>\n",
       "      <td>21 julio 2014</td>\n",
       "      <td>guy-isabelle</td>\n",
       "      <td>97.7</td>\n",
       "      <td>592.0</td>\n",
       "      <td>Tafellamp Florence porselein - 2e helft 20e eeuw</td>\n",
       "      <td>28.125000</td>\n",
       "    </tr>\n",
       "    <tr>\n",
       "      <th>3454</th>\n",
       "      <td>[Francisco  Álvarez Lloret, Mark van Gijsel]</td>\n",
       "      <td>Antiques &amp; Curio</td>\n",
       "      <td>Curio</td>\n",
       "      <td>\\nA set of five large pharmacy bottles made of...</td>\n",
       "      <td>[]</td>\n",
       "      <td>12810929</td>\n",
       "      <td>[]</td>\n",
       "      <td>{}</td>\n",
       "      <td>[]</td>\n",
       "      <td>A set of five pharmacy bottles, Poland, 1950s</td>\n",
       "      <td>8</td>\n",
       "      <td>14 mayo 2017</td>\n",
       "      <td>M4A-Furniture PL</td>\n",
       "      <td>88.9</td>\n",
       "      <td>20.0</td>\n",
       "      <td>A set of five pharmacy bottles, Poland, 1950s</td>\n",
       "      <td>17.666667</td>\n",
       "    </tr>\n",
       "    <tr>\n",
       "      <th>3456</th>\n",
       "      <td>[Arjan  de Haan]</td>\n",
       "      <td>Antiques &amp; Curio</td>\n",
       "      <td>Curio</td>\n",
       "      <td>\\nSkullcap of pope Francis made of silk the in...</td>\n",
       "      <td>[]</td>\n",
       "      <td>12811545</td>\n",
       "      <td>[]</td>\n",
       "      <td>{}</td>\n",
       "      <td>[[España, 12,00], [Alemania, 39,00], [Austria,...</td>\n",
       "      <td>Excellent condition, used by Pope Francisco</td>\n",
       "      <td>3</td>\n",
       "      <td>9 diciembre 2014</td>\n",
       "      <td>catador</td>\n",
       "      <td>100.0</td>\n",
       "      <td>634.0</td>\n",
       "      <td>Authentic skullcap Pope Francis  - exclusive o...</td>\n",
       "      <td>111.657143</td>\n",
       "    </tr>\n",
       "    <tr>\n",
       "      <th>3457</th>\n",
       "      <td>[Marco van Kampen]</td>\n",
       "      <td>Antiques &amp; Curio</td>\n",
       "      <td>Curio</td>\n",
       "      <td>\\nPrivate by Berth Milton - 1983-1990 - 20 vol...</td>\n",
       "      <td>[]</td>\n",
       "      <td>12812299</td>\n",
       "      <td>[]</td>\n",
       "      <td>{}</td>\n",
       "      <td>[]</td>\n",
       "      <td>High Quality photography - Vintage collectors ...</td>\n",
       "      <td>3</td>\n",
       "      <td>21 abril 2016</td>\n",
       "      <td>grabadoyarte</td>\n",
       "      <td>100.0</td>\n",
       "      <td>298.0</td>\n",
       "      <td>Pornography; Lot with 20 publications of Priva...</td>\n",
       "      <td>38.000000</td>\n",
       "    </tr>\n",
       "    <tr>\n",
       "      <th>3458</th>\n",
       "      <td>[Marco van Kampen]</td>\n",
       "      <td>Antiques &amp; Curio</td>\n",
       "      <td>Curio</td>\n",
       "      <td>\\nDimensions  67 x 73 cm\\nimage: 42,5 x 53,5 c...</td>\n",
       "      <td>[]</td>\n",
       "      <td>12812411</td>\n",
       "      <td>[]</td>\n",
       "      <td>{}</td>\n",
       "      <td>[[España, 15,00], [Alemania, 10,00], [Austria,...</td>\n",
       "      <td>Original large format print on pearly white pa...</td>\n",
       "      <td>19</td>\n",
       "      <td>21 marzo 2017</td>\n",
       "      <td>therealblackpearl</td>\n",
       "      <td>98.4</td>\n",
       "      <td>202.0</td>\n",
       "      <td>Art print; Jock Sturges - Nude Female Portrait...</td>\n",
       "      <td>16.777778</td>\n",
       "    </tr>\n",
       "    <tr>\n",
       "      <th>3459</th>\n",
       "      <td>[Francisco  Álvarez Lloret, Mark van Gijsel]</td>\n",
       "      <td>Antiques &amp; Curio</td>\n",
       "      <td>Curio</td>\n",
       "      <td>\\nTwo beautiful large selenite lamps.\\nWith ca...</td>\n",
       "      <td>[]</td>\n",
       "      <td>12812737</td>\n",
       "      <td>[]</td>\n",
       "      <td>{}</td>\n",
       "      <td>[[España, 35,50], [Alemania, 16,50], [Austria,...</td>\n",
       "      <td>Semiprecious - in good condition.</td>\n",
       "      <td>4</td>\n",
       "      <td>24 agosto 2013</td>\n",
       "      <td>Nature's Art</td>\n",
       "      <td>98.5</td>\n",
       "      <td>628.0</td>\n",
       "      <td>Two Selenite lamps - 340 and 300 mm - 7.2 kg.</td>\n",
       "      <td>44.733333</td>\n",
       "    </tr>\n",
       "    <tr>\n",
       "      <th>3460</th>\n",
       "      <td>[Erik van den Berg, Michel Karis]</td>\n",
       "      <td>Antiques &amp; Curio</td>\n",
       "      <td>Antiques</td>\n",
       "      <td>\\nZware antieke Engelse kijker met leren omhul...</td>\n",
       "      <td>[[usd, 340, 510], [eur, 300, 450], [gbp, 270, ...</td>\n",
       "      <td>1281337</td>\n",
       "      <td>[]</td>\n",
       "      <td>{}</td>\n",
       "      <td>[]</td>\n",
       "      <td>Day and Night  Dollond London.</td>\n",
       "      <td>0</td>\n",
       "      <td>8 marzo 2014</td>\n",
       "      <td>baarsantiek</td>\n",
       "      <td>99.7</td>\n",
       "      <td>303.0</td>\n",
       "      <td>Antieke kijker - gesigneerd - 19e eeuw</td>\n",
       "      <td>97.500000</td>\n",
       "    </tr>\n",
       "    <tr>\n",
       "      <th>3461</th>\n",
       "      <td>[Arjan  de Haan]</td>\n",
       "      <td>Antiques &amp; Curio</td>\n",
       "      <td>Curio</td>\n",
       "      <td>\\nVarious boxes cigars and 1 box of tobacco. \\...</td>\n",
       "      <td>[]</td>\n",
       "      <td>12816911</td>\n",
       "      <td>[]</td>\n",
       "      <td>{}</td>\n",
       "      <td>[[España, 25,00], [Alemania, 25,00], [Austria,...</td>\n",
       "      <td>Boxes in good condition. On 2 boxes the seal i...</td>\n",
       "      <td>0</td>\n",
       "      <td>4 diciembre 2016</td>\n",
       "      <td>vintage-mn</td>\n",
       "      <td>100.0</td>\n",
       "      <td>5.0</td>\n",
       "      <td>Various brand cigars and tobacco, from the 1990s.</td>\n",
       "      <td>34.600000</td>\n",
       "    </tr>\n",
       "    <tr>\n",
       "      <th>3462</th>\n",
       "      <td>[Mark van Gijsel]</td>\n",
       "      <td>Antiques &amp; Curio</td>\n",
       "      <td>Curio</td>\n",
       "      <td>\\nLength 39 cm 34 cm 24 cm\\nHeight 34 cm 29 cm...</td>\n",
       "      <td>[]</td>\n",
       "      <td>12818639</td>\n",
       "      <td>[]</td>\n",
       "      <td>{}</td>\n",
       "      <td>[[España, 35,00], [Alemania, 30,00], [Austria,...</td>\n",
       "      <td>in used condition.</td>\n",
       "      <td>4</td>\n",
       "      <td>5 enero 2017</td>\n",
       "      <td>zwits</td>\n",
       "      <td>90.4</td>\n",
       "      <td>336.0</td>\n",
       "      <td>Glacoide advertising sign - Belgium - From aro...</td>\n",
       "      <td>12.071429</td>\n",
       "    </tr>\n",
       "    <tr>\n",
       "      <th>3463</th>\n",
       "      <td>[Roger Schreutelkamp]</td>\n",
       "      <td>Antiques &amp; Curio</td>\n",
       "      <td>Curio</td>\n",
       "      <td>\\nHarley Davidson \"Fat Boy\" collectors pocket ...</td>\n",
       "      <td>[]</td>\n",
       "      <td>12820807</td>\n",
       "      <td>[]</td>\n",
       "      <td>{}</td>\n",
       "      <td>[[España, 39,00], [Alemania, 18,00], [Austria,...</td>\n",
       "      <td>Around 2000, USA</td>\n",
       "      <td>4</td>\n",
       "      <td>29 julio 2015</td>\n",
       "      <td>DANMIE</td>\n",
       "      <td>97.2</td>\n",
       "      <td>37.0</td>\n",
       "      <td>Harley Davidson \"Fat Boy\" collector's pocket w...</td>\n",
       "      <td>80.687500</td>\n",
       "    </tr>\n",
       "    <tr>\n",
       "      <th>3464</th>\n",
       "      <td>[Mark van Gijsel, Francisco  Álvarez Lloret]</td>\n",
       "      <td>Antiques &amp; Curio</td>\n",
       "      <td>Curio</td>\n",
       "      <td>\\nAntique tabletop model roulette \\nThe roulet...</td>\n",
       "      <td>[]</td>\n",
       "      <td>12820835</td>\n",
       "      <td>[]</td>\n",
       "      <td>{}</td>\n",
       "      <td>[[España, 33,00], [Alemania, 33,00], [Austria,...</td>\n",
       "      <td>Germany, 1900 ca, vintage, in good condition</td>\n",
       "      <td>7</td>\n",
       "      <td>31 marzo 2017</td>\n",
       "      <td>laccumulatore</td>\n",
       "      <td>97.7</td>\n",
       "      <td>265.0</td>\n",
       "      <td>Antique roulette in wood and copper, tabletop ...</td>\n",
       "      <td>41.769231</td>\n",
       "    </tr>\n",
       "    <tr>\n",
       "      <th>3465</th>\n",
       "      <td>[Francisco  Álvarez Lloret, Mark van Gijsel]</td>\n",
       "      <td>Antiques &amp; Curio</td>\n",
       "      <td>Curio</td>\n",
       "      <td>\\nDecorative standing cast iron garden lantern...</td>\n",
       "      <td>[]</td>\n",
       "      <td>12820897</td>\n",
       "      <td>[]</td>\n",
       "      <td>{}</td>\n",
       "      <td>[[España, 35,85], [Alemania, 35,85], [Austria,...</td>\n",
       "      <td>In good condition.</td>\n",
       "      <td>0</td>\n",
       "      <td>30 junio 2017</td>\n",
       "      <td>Jeen Hielkema</td>\n",
       "      <td>97.1</td>\n",
       "      <td>73.0</td>\n",
       "      <td>Cast iron garden lantern - height 94 cm</td>\n",
       "      <td>7.500000</td>\n",
       "    </tr>\n",
       "    <tr>\n",
       "      <th>3466</th>\n",
       "      <td>[Dési van Rhee]</td>\n",
       "      <td>Antiques &amp; Curio</td>\n",
       "      <td>Antiques</td>\n",
       "      <td>\\nA gorgeous brussels lace embroidery shawl ar...</td>\n",
       "      <td>[[usd, 480, 690], [eur, 420, 600], [gbp, 370, ...</td>\n",
       "      <td>12824033</td>\n",
       "      <td>[]</td>\n",
       "      <td>{}</td>\n",
       "      <td>[]</td>\n",
       "      <td>Good general condition</td>\n",
       "      <td>3</td>\n",
       "      <td>21 agosto 2015</td>\n",
       "      <td>Le Bouquet</td>\n",
       "      <td>96.8</td>\n",
       "      <td>100.0</td>\n",
       "      <td>A brussels lace shawl - Ivory color, Belgium, ...</td>\n",
       "      <td>47.300000</td>\n",
       "    </tr>\n",
       "    <tr>\n",
       "      <th>3467</th>\n",
       "      <td>[Gijs Hamming, Richard Ebbers]</td>\n",
       "      <td>Antiques &amp; Curio</td>\n",
       "      <td>Rugs &amp; Carpets</td>\n",
       "      <td>\\nI am offering a beautiful runner with minor ...</td>\n",
       "      <td>[[usd, 270, 350], [eur, 225, 300], [gbp, 210, ...</td>\n",
       "      <td>12826913</td>\n",
       "      <td>[]</td>\n",
       "      <td>{'Material': 'Lana sobre algodón', 'Estado': '...</td>\n",
       "      <td>[[España, 32,00], [Alemania, 19,00], [Austria,...</td>\n",
       "      <td>Wool on cotton - hand-knotted - made in Iran</td>\n",
       "      <td>6</td>\n",
       "      <td>18 octubre 2015</td>\n",
       "      <td>korshid27</td>\n",
       "      <td>96.3</td>\n",
       "      <td>117.0</td>\n",
       "      <td>Beautiful Persian runner - 283 x 104 cm Middle...</td>\n",
       "      <td>59.533333</td>\n",
       "    </tr>\n",
       "    <tr>\n",
       "      <th>3468</th>\n",
       "      <td>[Christine Barrat]</td>\n",
       "      <td>Antiques &amp; Curio</td>\n",
       "      <td>Curio</td>\n",
       "      <td>\\nTwo beautiful vintage INVENTUM toasters, mad...</td>\n",
       "      <td>[]</td>\n",
       "      <td>12828837</td>\n",
       "      <td>[]</td>\n",
       "      <td>{}</td>\n",
       "      <td>[[España, 20,00], [Alemania, 20,00], [Austria,...</td>\n",
       "      <td>1950s, The Netherlands</td>\n",
       "      <td>0</td>\n",
       "      <td>2 septiembre 2014</td>\n",
       "      <td>dana080846</td>\n",
       "      <td>97.9</td>\n",
       "      <td>190.0</td>\n",
       "      <td>Two vintage INVENTUM toasters - chromed metal ...</td>\n",
       "      <td>28.636364</td>\n",
       "    </tr>\n",
       "    <tr>\n",
       "      <th>3469</th>\n",
       "      <td>[Gijs Hamming, Richard Ebbers]</td>\n",
       "      <td>Antiques &amp; Curio</td>\n",
       "      <td>Rugs &amp; Carpets</td>\n",
       "      <td>\\nQuality: Oriental Sumakh Kilim \\nSize: 153 x...</td>\n",
       "      <td>[[usd, 270, 360], [eur, 225, 300], [gbp, 210, ...</td>\n",
       "      <td>12922687</td>\n",
       "      <td>[]</td>\n",
       "      <td>{'Material': 'Lana sobre algodón', 'Estado': '...</td>\n",
       "      <td>[[España, 49,00], [Alemania, 49,00], [Austria,...</td>\n",
       "      <td>Authentic, original rug with certificate of au...</td>\n",
       "      <td>7</td>\n",
       "      <td>11 febrero 2016</td>\n",
       "      <td>Javid Dr Saeid</td>\n",
       "      <td>95.1</td>\n",
       "      <td>85.0</td>\n",
       "      <td>(Size: 153 x 94 cm) Authentic, original, orien...</td>\n",
       "      <td>15.400000</td>\n",
       "    </tr>\n",
       "    <tr>\n",
       "      <th>3470</th>\n",
       "      <td>[Dennis van Kampen]</td>\n",
       "      <td>Antiques &amp; Curio</td>\n",
       "      <td>Silver &amp; Gold</td>\n",
       "      <td>\\nAntieke zilveren rammelaar. Op de steel vele...</td>\n",
       "      <td>[[usd, 1020, 1360], [eur, 900, 1200], [gbp, 80...</td>\n",
       "      <td>1535425</td>\n",
       "      <td>[]</td>\n",
       "      <td>{}</td>\n",
       "      <td>[]</td>\n",
       "      <td>1e gehalte zilver</td>\n",
       "      <td>0</td>\n",
       "      <td>6 septiembre 2013</td>\n",
       "      <td>Geron</td>\n",
       "      <td>100.0</td>\n",
       "      <td>948.0</td>\n",
       "      <td>Antique silver rattle with bells and whistle, ...</td>\n",
       "      <td>253.111111</td>\n",
       "    </tr>\n",
       "    <tr>\n",
       "      <th>3471</th>\n",
       "      <td>[Dési van Rhee]</td>\n",
       "      <td>Antiques &amp; Curio</td>\n",
       "      <td>Curio</td>\n",
       "      <td>\\nAfmetingen:  43 cm hoog.\\nPrachtig beeld.\\n</td>\n",
       "      <td>[]</td>\n",
       "      <td>1573665</td>\n",
       "      <td>[]</td>\n",
       "      <td>{}</td>\n",
       "      <td>[]</td>\n",
       "      <td>Zeer oud Christusbeeld.</td>\n",
       "      <td>4</td>\n",
       "      <td>13 octubre 2011</td>\n",
       "      <td>Ozzy59</td>\n",
       "      <td>92.3</td>\n",
       "      <td>266.0</td>\n",
       "      <td>Gipsen Christusbeeld - Heilig Hart - vermoedel...</td>\n",
       "      <td>33.000000</td>\n",
       "    </tr>\n",
       "    <tr>\n",
       "      <th>3473</th>\n",
       "      <td>[Christine Barrat]</td>\n",
       "      <td>Antiques &amp; Curio</td>\n",
       "      <td>Curio</td>\n",
       "      <td>\\nA , 19th Century , english ,  high quality ,...</td>\n",
       "      <td>[[usd, 240, 300], [eur, 200, 250], [gbp, 180, ...</td>\n",
       "      <td>19050947</td>\n",
       "      <td>[]</td>\n",
       "      <td>{}</td>\n",
       "      <td>[[España, 35,00], [Bélgica, 35,00], [China, 65...</td>\n",
       "      <td>Good condition , no repairs ,  but  would bene...</td>\n",
       "      <td>4</td>\n",
       "      <td>26 marzo 2018</td>\n",
       "      <td>DukeofWellington</td>\n",
       "      <td>83.9</td>\n",
       "      <td>68.0</td>\n",
       "      <td>A , 19th Century , english ,  high quality , t...</td>\n",
       "      <td>107.500000</td>\n",
       "    </tr>\n",
       "    <tr>\n",
       "      <th>3474</th>\n",
       "      <td>[Gijs Hamming, Richard Ebbers]</td>\n",
       "      <td>Antiques &amp; Curio</td>\n",
       "      <td>Rugs &amp; Carpets</td>\n",
       "      <td>\\nIran\\nKashan\\nNo. 6061\\nIran\\nApprox. 300,00...</td>\n",
       "      <td>[[usd, 2090, 2320], [eur, 1800, 2000], [gbp, 1...</td>\n",
       "      <td>20112973</td>\n",
       "      <td>[]</td>\n",
       "      <td>{'Material': 'Lana sobre algodón', 'Estado': '...</td>\n",
       "      <td>[[España, 39,00], [Alemania, 29,00], [Austria,...</td>\n",
       "      <td>Original hand-knotted - top cleaning - certifi...</td>\n",
       "      <td>6</td>\n",
       "      <td>21 junio 2016</td>\n",
       "      <td>mycarpet24</td>\n",
       "      <td>100.0</td>\n",
       "      <td>269.0</td>\n",
       "      <td>Kashan, Iran 440 x 312 Semi Antique Signed 1980</td>\n",
       "      <td>350.666667</td>\n",
       "    </tr>\n",
       "    <tr>\n",
       "      <th>3475</th>\n",
       "      <td>[Roger Schreutelkamp]</td>\n",
       "      <td>Antiques &amp; Curio</td>\n",
       "      <td>Curio</td>\n",
       "      <td>\\nPrachtig mooie handgemaakte en ik vermoed oo...</td>\n",
       "      <td>[[usd, 220, 330], [eur, 200, 300], [gbp, 150, ...</td>\n",
       "      <td>4084741</td>\n",
       "      <td>[]</td>\n",
       "      <td>{}</td>\n",
       "      <td>[[España, 15,00], [Alemania, 15,00], [Bélgica,...</td>\n",
       "      <td>In good condition</td>\n",
       "      <td>0</td>\n",
       "      <td>10 junio 2014</td>\n",
       "      <td>Fresco</td>\n",
       "      <td>98.2</td>\n",
       "      <td>246.0</td>\n",
       "      <td>Moon globe, made in France, ca. 1969</td>\n",
       "      <td>121.909091</td>\n",
       "    </tr>\n",
       "    <tr>\n",
       "      <th>3476</th>\n",
       "      <td>[Christine Barrat]</td>\n",
       "      <td>Antiques &amp; Curio</td>\n",
       "      <td>Silver &amp; Gold</td>\n",
       "      <td>\\nSilver-plated bottle coaster with pierced wo...</td>\n",
       "      <td>[]</td>\n",
       "      <td>4459693</td>\n",
       "      <td>[]</td>\n",
       "      <td>{}</td>\n",
       "      <td>[[España, 16,00], [Alemania, 16,00], [Bélgica,...</td>\n",
       "      <td>Silvered, diameter 12 cm, weight 0,3 kg</td>\n",
       "      <td>0</td>\n",
       "      <td>4 marzo 2014</td>\n",
       "      <td>Pastandpresent</td>\n",
       "      <td>99.0</td>\n",
       "      <td>3603.0</td>\n",
       "      <td>Two scalloped bottle stands, 21st century</td>\n",
       "      <td>16.916667</td>\n",
       "    </tr>\n",
       "    <tr>\n",
       "      <th>3477</th>\n",
       "      <td>[Martin Hamstra]</td>\n",
       "      <td>Antiques &amp; Curio</td>\n",
       "      <td>Clocks</td>\n",
       "      <td>\\nBeautiful clock set from the Art Deco period...</td>\n",
       "      <td>[]</td>\n",
       "      <td>7247015</td>\n",
       "      <td>[]</td>\n",
       "      <td>{}</td>\n",
       "      <td>[[España, 22,00], [Alemania, 22,00], [Austria,...</td>\n",
       "      <td>Mechanical - 1-day movement - no striking mech...</td>\n",
       "      <td>0</td>\n",
       "      <td>8 marzo 2014</td>\n",
       "      <td>MJH</td>\n",
       "      <td>100.0</td>\n",
       "      <td>159.0</td>\n",
       "      <td>Art Deco marble clock set - 1st half of 20th c...</td>\n",
       "      <td>30.000000</td>\n",
       "    </tr>\n",
       "    <tr>\n",
       "      <th>3478</th>\n",
       "      <td>[Arjan  de Haan]</td>\n",
       "      <td>Antiques &amp; Curio</td>\n",
       "      <td>Curio</td>\n",
       "      <td>\\nRare antiquity Legion Mariae special departm...</td>\n",
       "      <td>[]</td>\n",
       "      <td>8609867</td>\n",
       "      <td>[]</td>\n",
       "      <td>{}</td>\n",
       "      <td>[[España, 16,00], [Alemania, 16,00], [Austria,...</td>\n",
       "      <td>Em ótimo estado</td>\n",
       "      <td>10</td>\n",
       "      <td>10 julio 2016</td>\n",
       "      <td>Muleta</td>\n",
       "      <td>75.0</td>\n",
       "      <td>12.0</td>\n",
       "      <td>Legion Mariae 1830  Rare antique with marble b...</td>\n",
       "      <td>80.000000</td>\n",
       "    </tr>\n",
       "  </tbody>\n",
       "</table>\n",
       "<p>3295 rows × 17 columns</p>\n",
       "</div>"
      ],
      "text/plain": [
       "                                     auctioneer_names       category_l0  \\\n",
       "0                               [Roger Schreutelkamp]  Antiques & Curio   \n",
       "1        [Francisco  Álvarez Lloret, Mark van Gijsel]  Antiques & Curio   \n",
       "2                               [Roger Schreutelkamp]  Antiques & Curio   \n",
       "3                                  [Christine Barrat]  Antiques & Curio   \n",
       "4                                 [Jeroen Zoetmulder]  Antiques & Curio   \n",
       "5                               [Roger Schreutelkamp]  Antiques & Curio   \n",
       "6                                  [Marco van Kampen]  Antiques & Curio   \n",
       "7     [Annick van Itallie, Francisco  Álvarez Lloret]  Antiques & Curio   \n",
       "8               [Roger Schreutelkamp, Arjan  de Haan]  Antiques & Curio   \n",
       "9                                   [Mark van Gijsel]  Antiques & Curio   \n",
       "10                                    [Dési van Rhee]  Antiques & Curio   \n",
       "11                                     [Ger van Oers]  Antiques & Curio   \n",
       "12                              [Roger Schreutelkamp]  Antiques & Curio   \n",
       "13                                 [Christine Barrat]  Antiques & Curio   \n",
       "14                                 [Christine Barrat]  Antiques & Curio   \n",
       "15       [Francisco  Álvarez Lloret, Mark van Gijsel]  Antiques & Curio   \n",
       "16                                [Jeroen Zoetmulder]  Antiques & Curio   \n",
       "17      [Christine Barrat, Francisco  Álvarez Lloret]  Antiques & Curio   \n",
       "18                        [Francisco  Álvarez Lloret]  Antiques & Curio   \n",
       "19                        [Francisco  Álvarez Lloret]  Antiques & Curio   \n",
       "20    [Annick van Itallie, Francisco  Álvarez Lloret]  Antiques & Curio   \n",
       "22                                   [Arjan  de Haan]  Antiques & Curio   \n",
       "23       [Francisco  Álvarez Lloret, Mark van Gijsel]  Antiques & Curio   \n",
       "24                     [Gijs Hamming, Richard Ebbers]  Antiques & Curio   \n",
       "25      [Christine Barrat, Francisco  Álvarez Lloret]  Antiques & Curio   \n",
       "26                                 [Nienke  Voorhuis]  Antiques & Curio   \n",
       "27                        [Francisco  Álvarez Lloret]  Antiques & Curio   \n",
       "28       [Mark van Gijsel, Francisco  Álvarez Lloret]  Antiques & Curio   \n",
       "29                                   [Arjan  de Haan]  Antiques & Curio   \n",
       "30                               [Annick van Itallie]  Antiques & Curio   \n",
       "...                                               ...               ...   \n",
       "3447                               [Christine Barrat]  Antiques & Curio   \n",
       "3448                                 [Arjan  de Haan]  Antiques & Curio   \n",
       "3449                                 [Arjan den Boer]  Antiques & Curio   \n",
       "3450                               [Christine Barrat]  Antiques & Curio   \n",
       "3451                      [Francisco  Álvarez Lloret]  Antiques & Curio   \n",
       "3452                                 [Arjan  de Haan]  Antiques & Curio   \n",
       "3453  [Annick van Itallie, Francisco  Álvarez Lloret]  Antiques & Curio   \n",
       "3454     [Francisco  Álvarez Lloret, Mark van Gijsel]  Antiques & Curio   \n",
       "3456                                 [Arjan  de Haan]  Antiques & Curio   \n",
       "3457                               [Marco van Kampen]  Antiques & Curio   \n",
       "3458                               [Marco van Kampen]  Antiques & Curio   \n",
       "3459     [Francisco  Álvarez Lloret, Mark van Gijsel]  Antiques & Curio   \n",
       "3460                [Erik van den Berg, Michel Karis]  Antiques & Curio   \n",
       "3461                                 [Arjan  de Haan]  Antiques & Curio   \n",
       "3462                                [Mark van Gijsel]  Antiques & Curio   \n",
       "3463                            [Roger Schreutelkamp]  Antiques & Curio   \n",
       "3464     [Mark van Gijsel, Francisco  Álvarez Lloret]  Antiques & Curio   \n",
       "3465     [Francisco  Álvarez Lloret, Mark van Gijsel]  Antiques & Curio   \n",
       "3466                                  [Dési van Rhee]  Antiques & Curio   \n",
       "3467                   [Gijs Hamming, Richard Ebbers]  Antiques & Curio   \n",
       "3468                               [Christine Barrat]  Antiques & Curio   \n",
       "3469                   [Gijs Hamming, Richard Ebbers]  Antiques & Curio   \n",
       "3470                              [Dennis van Kampen]  Antiques & Curio   \n",
       "3471                                  [Dési van Rhee]  Antiques & Curio   \n",
       "3473                               [Christine Barrat]  Antiques & Curio   \n",
       "3474                   [Gijs Hamming, Richard Ebbers]  Antiques & Curio   \n",
       "3475                            [Roger Schreutelkamp]  Antiques & Curio   \n",
       "3476                               [Christine Barrat]  Antiques & Curio   \n",
       "3477                                 [Martin Hamstra]  Antiques & Curio   \n",
       "3478                                 [Arjan  de Haan]  Antiques & Curio   \n",
       "\n",
       "               category_l1                                        description  \\\n",
       "0                    Curio  \\nA beautiful school poster by Isings on the c...   \n",
       "1                    Curio  \\nBeautiful old radio\\n\\nWorks very well! \\n\\n...   \n",
       "2                    Curio  \\n5 educational school posters from 1973 by th...   \n",
       "3            Silver & Gold  \\nSilver plated Christofle dish.Very good cond...   \n",
       "4                 Antiques  \\n6 beautiful crystal wine glasses by Nachtman...   \n",
       "5                    Curio  \\n6 blackboards from the 1960s-1970s\\nPrint He...   \n",
       "6                    Curio  \\nDimensiones: 47 x 34,5 cm el papel. 30 x 24 ...   \n",
       "7                    Curio  \\nBeautiful Art Deco ceiling lamp with milk gl...   \n",
       "8                    Curio  \\nSailing boat ABN AMRO 2 colectors item\\n\\nTh...   \n",
       "9                    Curio  \\n3 metres wide, 53 cm high.\\nPhotos taken jus...   \n",
       "10                Antiques  \\nNice to hold in their hands, an incredible e...   \n",
       "11         Lighters & Pens  \\nPrecioso y elegante bolígrafo Montblanc Volt...   \n",
       "12                   Curio  \\nLot of 12 more or less different items:\\n1) ...   \n",
       "13           Silver & Gold  \\nSilver plated bouilloire on original hot pla...   \n",
       "14           Silver & Gold  \\nSilver plated cookie jar with lid. Lion head...   \n",
       "15                   Curio  \\n\"Winter\" tapestry by Craye [Groupe Flemish T...   \n",
       "16                Antiques  \\nBeautiful antique opaline set consisting of ...   \n",
       "17                   Curio  \\nalle planken verkeren in een goede conditie....   \n",
       "18                   Curio  \\nDining room table lamp, adjustable in height...   \n",
       "19                   Curio  \\nTwo blue glass syphons including a screenpri...   \n",
       "20                   Curio  \\nHet pastel word aangeboden achter glas, inge...   \n",
       "22                   Curio  \\nChrist with his cross on a granite base, sil...   \n",
       "23                   Curio  \\nThese clocks designed by Herman Brood are re...   \n",
       "24          Rugs & Carpets  \\nBidjar \\nThis carpet was knotted around 1980...   \n",
       "25                   Curio  \\nvery large music box, 45 cm tall and 20cm in...   \n",
       "26                Antiques  \\nStone capital, \\n18th century, still feature...   \n",
       "27                   Curio  \\nVintage Singer 201 sewing machine, with port...   \n",
       "28                   Curio  \\nBeautiful antique wooden sled, hand-painted ...   \n",
       "29                   Curio  \\nUnusual art deco style painting made of copp...   \n",
       "30    Interior & Lifestyle  \\nNeapolitan coffee table in carved and gilded...   \n",
       "...                    ...                                                ...   \n",
       "3447         Silver & Gold  \\nExtensive cassette (not in case) silver plat...   \n",
       "3448       Lighters & Pens  \\nS.T.Dupont encendedor , Ligne 1,  oro, artic...   \n",
       "3449                 Curio  \\nSize: 120 x160 cm / Size: 47 x 63 inches \\n\\...   \n",
       "3450                 Curio  \\n2 Very beautiful art deco serving scales. \\n...   \n",
       "3451                 Curio  \\nBeautiful and well functioning Kayser hand s...   \n",
       "3452                 Curio  \\nUnique beautiful wood carved angel ornament....   \n",
       "3453                 Curio  \\nZéér stijlvolle en decoratieve tafellamp.\\nH...   \n",
       "3454                 Curio  \\nA set of five large pharmacy bottles made of...   \n",
       "3456                 Curio  \\nSkullcap of pope Francis made of silk the in...   \n",
       "3457                 Curio  \\nPrivate by Berth Milton - 1983-1990 - 20 vol...   \n",
       "3458                 Curio  \\nDimensions  67 x 73 cm\\nimage: 42,5 x 53,5 c...   \n",
       "3459                 Curio  \\nTwo beautiful large selenite lamps.\\nWith ca...   \n",
       "3460              Antiques  \\nZware antieke Engelse kijker met leren omhul...   \n",
       "3461                 Curio  \\nVarious boxes cigars and 1 box of tobacco. \\...   \n",
       "3462                 Curio  \\nLength 39 cm 34 cm 24 cm\\nHeight 34 cm 29 cm...   \n",
       "3463                 Curio  \\nHarley Davidson \"Fat Boy\" collectors pocket ...   \n",
       "3464                 Curio  \\nAntique tabletop model roulette \\nThe roulet...   \n",
       "3465                 Curio  \\nDecorative standing cast iron garden lantern...   \n",
       "3466              Antiques  \\nA gorgeous brussels lace embroidery shawl ar...   \n",
       "3467        Rugs & Carpets  \\nI am offering a beautiful runner with minor ...   \n",
       "3468                 Curio  \\nTwo beautiful vintage INVENTUM toasters, mad...   \n",
       "3469        Rugs & Carpets  \\nQuality: Oriental Sumakh Kilim \\nSize: 153 x...   \n",
       "3470         Silver & Gold  \\nAntieke zilveren rammelaar. Op de steel vele...   \n",
       "3471                 Curio      \\nAfmetingen:  43 cm hoog.\\nPrachtig beeld.\\n   \n",
       "3473                 Curio  \\nA , 19th Century , english ,  high quality ,...   \n",
       "3474        Rugs & Carpets  \\nIran\\nKashan\\nNo. 6061\\nIran\\nApprox. 300,00...   \n",
       "3475                 Curio  \\nPrachtig mooie handgemaakte en ik vermoed oo...   \n",
       "3476         Silver & Gold  \\nSilver-plated bottle coaster with pierced wo...   \n",
       "3477                Clocks  \\nBeautiful clock set from the Art Deco period...   \n",
       "3478                 Curio  \\nRare antiquity Legion Mariae special departm...   \n",
       "\n",
       "                                            estimations        id likes  \\\n",
       "0                                                    []  10000189    []   \n",
       "1                                                    []  10000215    []   \n",
       "2                                                    []  10001397    []   \n",
       "3                                                    []  10002073    []   \n",
       "4                                                    []  10004181    []   \n",
       "5                                                    []  10005517    []   \n",
       "6                                                    []  10005903    []   \n",
       "7                                                    []  10006911    []   \n",
       "8                                                    []  10008283    []   \n",
       "9                                                    []  10008357    []   \n",
       "10                                                   []  10008525    []   \n",
       "11    [[usd, 380, 510], [eur, 350, 475], [gbp, 300, ...  10009915    []   \n",
       "12                                                   []  10010269    []   \n",
       "13                                                   []  10010673    []   \n",
       "14                                                   []  10010769    []   \n",
       "15                                                   []  10011319    []   \n",
       "16                                                   []  10013101    []   \n",
       "17                                                   []   1001361    []   \n",
       "18                                                   []  10015259    []   \n",
       "19                                                   []  10015537    []   \n",
       "20                                                   []   1001657    []   \n",
       "22                                                   []  10019659    []   \n",
       "23                                                   []  10021333    []   \n",
       "24                                                   []  10022553    []   \n",
       "25                                                   []  10023007    []   \n",
       "26    [[usd, 1700, 2340], [eur, 1600, 2200], [gbp, 1...  10023033    []   \n",
       "27                                                   []  10023403    []   \n",
       "28    [[usd, 270, 430], [eur, 250, 400], [gbp, 220, ...  10023495    []   \n",
       "29                                                   []  10024301    []   \n",
       "30    [[usd, 240, 320], [eur, 220, 300], [gbp, 190, ...  10025285    []   \n",
       "...                                                 ...       ...   ...   \n",
       "3447  [[usd, 350, 470], [eur, 300, 400], [gbp, 270, ...  12805563    []   \n",
       "3448                                                 []  12805623    []   \n",
       "3449                                                 []  12805637    []   \n",
       "3450                                                 []  12806667    []   \n",
       "3451                                                 []  12808847    []   \n",
       "3452  [[usd, 290, 380], [eur, 250, 325], [gbp, 220, ...  12808981    []   \n",
       "3453                                                 []   1281008    []   \n",
       "3454                                                 []  12810929    []   \n",
       "3456                                                 []  12811545    []   \n",
       "3457                                                 []  12812299    []   \n",
       "3458                                                 []  12812411    []   \n",
       "3459                                                 []  12812737    []   \n",
       "3460  [[usd, 340, 510], [eur, 300, 450], [gbp, 270, ...   1281337    []   \n",
       "3461                                                 []  12816911    []   \n",
       "3462                                                 []  12818639    []   \n",
       "3463                                                 []  12820807    []   \n",
       "3464                                                 []  12820835    []   \n",
       "3465                                                 []  12820897    []   \n",
       "3466  [[usd, 480, 690], [eur, 420, 600], [gbp, 370, ...  12824033    []   \n",
       "3467  [[usd, 270, 350], [eur, 225, 300], [gbp, 210, ...  12826913    []   \n",
       "3468                                                 []  12828837    []   \n",
       "3469  [[usd, 270, 360], [eur, 225, 300], [gbp, 210, ...  12922687    []   \n",
       "3470  [[usd, 1020, 1360], [eur, 900, 1200], [gbp, 80...   1535425    []   \n",
       "3471                                                 []   1573665    []   \n",
       "3473  [[usd, 240, 300], [eur, 200, 250], [gbp, 180, ...  19050947    []   \n",
       "3474  [[usd, 2090, 2320], [eur, 1800, 2000], [gbp, 1...  20112973    []   \n",
       "3475  [[usd, 220, 330], [eur, 200, 300], [gbp, 150, ...   4084741    []   \n",
       "3476                                                 []   4459693    []   \n",
       "3477                                                 []   7247015    []   \n",
       "3478                                                 []   8609867    []   \n",
       "\n",
       "                                              meta_data  \\\n",
       "0                                                    {}   \n",
       "1                                                    {}   \n",
       "2                                                    {}   \n",
       "3                                                    {}   \n",
       "4                                                    {}   \n",
       "5                                                    {}   \n",
       "6                                                    {}   \n",
       "7                                                    {}   \n",
       "8                                                    {}   \n",
       "9                                                    {}   \n",
       "10                                                   {}   \n",
       "11                                                   {}   \n",
       "12                                                   {}   \n",
       "13                                                   {}   \n",
       "14                                                   {}   \n",
       "15                                                   {}   \n",
       "16                                                   {}   \n",
       "17                                                   {}   \n",
       "18                                                   {}   \n",
       "19                                                   {}   \n",
       "20                                                   {}   \n",
       "22                                                   {}   \n",
       "23                                                   {}   \n",
       "24                                                   {}   \n",
       "25                                                   {}   \n",
       "26                                                   {}   \n",
       "27                                                   {}   \n",
       "28                                                   {}   \n",
       "29                                                   {}   \n",
       "30                                                   {}   \n",
       "...                                                 ...   \n",
       "3447                                                 {}   \n",
       "3448                                                 {}   \n",
       "3449                                                 {}   \n",
       "3450                                                 {}   \n",
       "3451                                                 {}   \n",
       "3452                                                 {}   \n",
       "3453                                                 {}   \n",
       "3454                                                 {}   \n",
       "3456                                                 {}   \n",
       "3457                                                 {}   \n",
       "3458                                                 {}   \n",
       "3459                                                 {}   \n",
       "3460                                                 {}   \n",
       "3461                                                 {}   \n",
       "3462                                                 {}   \n",
       "3463                                                 {}   \n",
       "3464                                                 {}   \n",
       "3465                                                 {}   \n",
       "3466                                                 {}   \n",
       "3467  {'Material': 'Lana sobre algodón', 'Estado': '...   \n",
       "3468                                                 {}   \n",
       "3469  {'Material': 'Lana sobre algodón', 'Estado': '...   \n",
       "3470                                                 {}   \n",
       "3471                                                 {}   \n",
       "3473                                                 {}   \n",
       "3474  {'Material': 'Lana sobre algodón', 'Estado': '...   \n",
       "3475                                                 {}   \n",
       "3476                                                 {}   \n",
       "3477                                                 {}   \n",
       "3478                                                 {}   \n",
       "\n",
       "                                               shipping  \\\n",
       "0     [[España, 15,00], [Alemania, 15,00], [Austria,...   \n",
       "1     [[España, 28,00], [Alemania, 28,00], [Austria,...   \n",
       "2     [[España, 18,00], [Alemania, 18,00], [Austria,...   \n",
       "3     [[España, 15,00], [Alemania, 15,00], [Austria,...   \n",
       "4     [[España, 19,00], [Alemania, 19,00], [Austria,...   \n",
       "5     [[España, 21,00], [Alemania, 21,00], [Austria,...   \n",
       "6                                                    []   \n",
       "7     [[España, 28,00], [Alemania, 23,00], [Austria,...   \n",
       "8     [[España, 26,65], [Alemania, 26,65], [Austria,...   \n",
       "9                                                    []   \n",
       "10    [[España, 23,00], [Alemania, 23,00], [Austria,...   \n",
       "11    [[España, 10,00], [Alemania, 25,00], [Austria,...   \n",
       "12    [[España, 9,00], [Alemania, 6,00], [Austria, 9...   \n",
       "13    [[España, 23,00], [Alemania, 23,00], [Austria,...   \n",
       "14    [[España, 16,00], [Alemania, 16,00], [Austria,...   \n",
       "15                                                   []   \n",
       "16    [[España, 10,00], [Alemania, 10,00], [Austria,...   \n",
       "17                                                   []   \n",
       "18                                                   []   \n",
       "19    [[España, 25,00], [Alemania, 25,00], [Austria,...   \n",
       "20                                                   []   \n",
       "22                                                   []   \n",
       "23    [[España, 22,00], [Alemania, 22,00], [Austria,...   \n",
       "24    [[España, 30,00], [Alemania, 0], [Austria, 25,...   \n",
       "25                                                   []   \n",
       "26                                                   []   \n",
       "27                                                   []   \n",
       "28                                                   []   \n",
       "29    [[España, 15,00], [Alemania, 15,00], [Austria,...   \n",
       "30                                                   []   \n",
       "...                                                 ...   \n",
       "3447  [[España, 42,00], [Alemania, 42,00], [Austria,...   \n",
       "3448  [[España, 7,00], [Alemania, 23,00], [Austria, ...   \n",
       "3449  [[España, 19,35], [Alemania, 19,35], [Austria,...   \n",
       "3450  [[España, 15,00], [Alemania, 15,00], [Austria,...   \n",
       "3451  [[España, 35,00], [Alemania, 35,00], [Austria,...   \n",
       "3452  [[España, 15,00], [Alemania, 15,00], [Austria,...   \n",
       "3453                                                 []   \n",
       "3454                                                 []   \n",
       "3456  [[España, 12,00], [Alemania, 39,00], [Austria,...   \n",
       "3457                                                 []   \n",
       "3458  [[España, 15,00], [Alemania, 10,00], [Austria,...   \n",
       "3459  [[España, 35,50], [Alemania, 16,50], [Austria,...   \n",
       "3460                                                 []   \n",
       "3461  [[España, 25,00], [Alemania, 25,00], [Austria,...   \n",
       "3462  [[España, 35,00], [Alemania, 30,00], [Austria,...   \n",
       "3463  [[España, 39,00], [Alemania, 18,00], [Austria,...   \n",
       "3464  [[España, 33,00], [Alemania, 33,00], [Austria,...   \n",
       "3465  [[España, 35,85], [Alemania, 35,85], [Austria,...   \n",
       "3466                                                 []   \n",
       "3467  [[España, 32,00], [Alemania, 19,00], [Austria,...   \n",
       "3468  [[España, 20,00], [Alemania, 20,00], [Austria,...   \n",
       "3469  [[España, 49,00], [Alemania, 49,00], [Austria,...   \n",
       "3470                                                 []   \n",
       "3471                                                 []   \n",
       "3473  [[España, 35,00], [Bélgica, 35,00], [China, 65...   \n",
       "3474  [[España, 39,00], [Alemania, 29,00], [Austria,...   \n",
       "3475  [[España, 15,00], [Alemania, 15,00], [Bélgica,...   \n",
       "3476  [[España, 16,00], [Alemania, 16,00], [Bélgica,...   \n",
       "3477  [[España, 22,00], [Alemania, 22,00], [Austria,...   \n",
       "3478  [[España, 16,00], [Alemania, 16,00], [Austria,...   \n",
       "\n",
       "                                              sub_title  supplier_country  \\\n",
       "0     The Netherlands 1960, J.B. Wolters Noordhoff G...                 0   \n",
       "1                                   Vintige radio 1980s                 0   \n",
       "2                                             Year 1973                 1   \n",
       "3                                       Christofle dish                 1   \n",
       "4                                 In perfect condition.                 0   \n",
       "5            Mid 20th Century  approximately 1960-1970s                 2   \n",
       "6     Aguafuerte  - Signado PA (Prueba de autor) - f...                 3   \n",
       "7                                     In good condition                 0   \n",
       "8                               Sailing boat ABN AMRO 2                 0   \n",
       "9                                            Very large                 4   \n",
       "10                                 In a good condition.                 5   \n",
       "11    Año 1995- reina negra- clip y anillo de plata ...                 3   \n",
       "12                                                   VF                 6   \n",
       "13              Silver-Plated, height 28 cm, weight 1.2                 0   \n",
       "14           Silver-Plated, height 16 cm, weight 0.7 kg                 0   \n",
       "15    Made in Flanders, Belgium, 100% cotton, Perfec...                 3   \n",
       "16                                    In good condition                 0   \n",
       "17           Hand gestoken eikenhout van groot formaat.                 0   \n",
       "18                          In good, original condition                 0   \n",
       "19                             Good condition, complete                 1   \n",
       "20    In pastel getekend, gesigneerd rechts onder: P...                 0   \n",
       "22                                    In good condition                 6   \n",
       "23         1992, glass clocks with his name as pointers                 0   \n",
       "24    Persian carpet Hamadan Malayer, made in Iran w...                 6   \n",
       "25    music box cigarette case with 6 doors that ope...                 7   \n",
       "26      In good condition, elegantly crafted and shaped                 7   \n",
       "27             Germany 1950, good condition, not tested                 6   \n",
       "28                                      Beautiful item.                 6   \n",
       "29                            Vintage with signs of use                 0   \n",
       "30                              Small faults in gilding                 7   \n",
       "...                                                 ...               ...   \n",
       "3447  Silver plated English A1 plate (EPNS) 136 piec...                 0   \n",
       "3448                            S.T. Dupont Ligne 1 oro                 3   \n",
       "3449                       Original French movie poster                 1   \n",
       "3450   Around 1930, France, satin glass, good condition                 0   \n",
       "3451    The machine was recently completely lubricated.                 0   \n",
       "3452                                   In old condition                 0   \n",
       "3453                            Prachtige barokmotieven                 4   \n",
       "3454      A set of five pharmacy bottles, Poland, 1950s                 8   \n",
       "3456        Excellent condition, used by Pope Francisco                 3   \n",
       "3457  High Quality photography - Vintage collectors ...                 3   \n",
       "3458  Original large format print on pearly white pa...                19   \n",
       "3459                  Semiprecious - in good condition.                 4   \n",
       "3460                     Day and Night  Dollond London.                 0   \n",
       "3461  Boxes in good condition. On 2 boxes the seal i...                 0   \n",
       "3462                                 in used condition.                 4   \n",
       "3463                                   Around 2000, USA                 4   \n",
       "3464       Germany, 1900 ca, vintage, in good condition                 7   \n",
       "3465                                 In good condition.                 0   \n",
       "3466                            Good general condition                  3   \n",
       "3467       Wool on cotton - hand-knotted - made in Iran                 6   \n",
       "3468                             1950s, The Netherlands                 0   \n",
       "3469  Authentic, original rug with certificate of au...                 7   \n",
       "3470                                 1e gehalte zilver                  0   \n",
       "3471                            Zeer oud Christusbeeld.                 4   \n",
       "3473  Good condition , no repairs ,  but  would bene...                 4   \n",
       "3474  Original hand-knotted - top cleaning - certifi...                 6   \n",
       "3475                                  In good condition                 0   \n",
       "3476            Silvered, diameter 12 cm, weight 0,3 kg                 0   \n",
       "3477  Mechanical - 1-day movement - no striking mech...                 0   \n",
       "3478                                   Em ótimo estado                 10   \n",
       "\n",
       "           supplier_from               supplier_name  supplier_score  \\\n",
       "0       6 diciembre 2014               pauldevries23           100.0   \n",
       "1            1 mayo 2015                   old dutch           100.0   \n",
       "2     27 septiembre 2015                 Clairvallon            97.0   \n",
       "3          22 marzo 2015                    Fabregas           100.0   \n",
       "4          15 enero 2015             AmazingAntiques            98.4   \n",
       "5      28 noviembre 2016                      max505           100.0   \n",
       "6          21 abril 2016                grabadoyarte           100.0   \n",
       "7          27 abril 2014                    Bleubell           100.0   \n",
       "8           25 mayo 2016                   Lamberink            97.3   \n",
       "9      4 septiembre 2015               Benedef Sales           100.0   \n",
       "10          6 abril 2016               viktorbaykush            99.3   \n",
       "11         24 marzo 2016                 subcero1960           100.0   \n",
       "12         13 enero 2016              nonvaleur-shop           100.0   \n",
       "13          4 marzo 2014              Pastandpresent            99.0   \n",
       "14          4 marzo 2014              Pastandpresent            99.0   \n",
       "15     31 diciembre 2015                Arts & Curio           100.0   \n",
       "16         16 enero 2015                  mastercard           100.0   \n",
       "17       16 febrero 2014                  Tobias1978            97.7   \n",
       "18          3 marzo 2015               Gervanleeuwen           100.0   \n",
       "19          8 marzo 2015             Ptichvalkigalop            95.4   \n",
       "20         24 julio 2014                    carolein            99.5   \n",
       "22      9 noviembre 2016                   DMeyer300            97.2   \n",
       "23     21 diciembre 2015                      Pomona           100.0   \n",
       "24         22 enero 2016                  Antik-rugs            98.4   \n",
       "25          6 marzo 2016                  tornadoblu            93.5   \n",
       "26        29 agosto 2016                    tonipier            62.5   \n",
       "27         10 marzo 2016                   vintage11            95.7   \n",
       "28     14 noviembre 2015                  hokuspokus           100.0   \n",
       "29      7 diciembre 2014                  twinkelbel            96.5   \n",
       "30    21 septiembre 2016  Torlo Centro Antico s.r.l.            96.8   \n",
       "...                  ...                         ...             ...   \n",
       "3447   6 septiembre 2013                       Geron           100.0   \n",
       "3448     11 febrero 2016                    juan7777           100.0   \n",
       "3449        8 abril 2016                    darollet            99.2   \n",
       "3450    7 noviembre 2015                       Mir74            98.0   \n",
       "3451     27 octubre 2014                 teisterband            93.1   \n",
       "3452       10 junio 2014                      Fresco            98.2   \n",
       "3453       21 julio 2014                guy-isabelle            97.7   \n",
       "3454        14 mayo 2017            M4A-Furniture PL            88.9   \n",
       "3456    9 diciembre 2014                     catador           100.0   \n",
       "3457       21 abril 2016                grabadoyarte           100.0   \n",
       "3458       21 marzo 2017           therealblackpearl            98.4   \n",
       "3459      24 agosto 2013                Nature's Art            98.5   \n",
       "3460        8 marzo 2014                 baarsantiek            99.7   \n",
       "3461    4 diciembre 2016                  vintage-mn           100.0   \n",
       "3462        5 enero 2017                       zwits            90.4   \n",
       "3463       29 julio 2015                      DANMIE            97.2   \n",
       "3464       31 marzo 2017               laccumulatore            97.7   \n",
       "3465       30 junio 2017               Jeen Hielkema            97.1   \n",
       "3466      21 agosto 2015                  Le Bouquet            96.8   \n",
       "3467     18 octubre 2015                   korshid27            96.3   \n",
       "3468   2 septiembre 2014                  dana080846            97.9   \n",
       "3469     11 febrero 2016              Javid Dr Saeid            95.1   \n",
       "3470   6 septiembre 2013                       Geron           100.0   \n",
       "3471     13 octubre 2011                      Ozzy59            92.3   \n",
       "3473       26 marzo 2018            DukeofWellington            83.9   \n",
       "3474       21 junio 2016                  mycarpet24           100.0   \n",
       "3475       10 junio 2014                      Fresco            98.2   \n",
       "3476        4 marzo 2014              Pastandpresent            99.0   \n",
       "3477        8 marzo 2014                         MJH           100.0   \n",
       "3478       10 julio 2016                      Muleta            75.0   \n",
       "\n",
       "      supplier_votes                                              title  \\\n",
       "0              310.0  Beautiful intact, old linen history school pos...   \n",
       "1               14.0                                Vintige radio 1980s   \n",
       "2               35.0         5 educational school posters, double sided   \n",
       "3                5.0                                    Christofle dish   \n",
       "4              188.0  6 crystal wine glasses Nachtmann, Germany, sec...   \n",
       "5               29.0     6 blackboards with cities, Amsterdam/London...   \n",
       "6              298.0  Grabado original; Celedonio Perellón - Mujer e...   \n",
       "7              287.0  Art Deco ceiling lamp with figures and animals...   \n",
       "8              115.0             Sailing boat ABN AMRO 2 colectors item   \n",
       "9              286.0          St.-Michel Enamel advertising sign - 1953   \n",
       "10             154.0  Fabric homespun flax, Ukraine the first half -...   \n",
       "11             182.0      Bolígrafo Montblanc Edición Limitada Voltaire   \n",
       "12             426.0  Turkey Ottoman Empire - different State Bonds ...   \n",
       "13            3609.0  Silver plated bouillore on hot plate, Walker &...   \n",
       "14            3595.0  Silver plated cookie jar with classic ribbed d...   \n",
       "15             281.0  Life size Belgian tapestry \"Winter\" from \"The ...   \n",
       "16             315.0  enameled opaline decanter with six glasses, Fr...   \n",
       "17              47.0  Vijf speculaas planken - begin en midden 20e eeuw   \n",
       "18              28.0               Adjustable copper ceiling lamp, 1930   \n",
       "19             323.0  two ancient Blue syphons, including a copper c...   \n",
       "20             189.0                Stilleven - Tweede helft 20ste eeuw   \n",
       "22              77.0  Depiction of Jesus bearing his cross, signed b...   \n",
       "23              53.0                Herman Brood - two original clocks.   \n",
       "24            3539.0  Old high quality handwoven Persian carpet, Bid...   \n",
       "25             218.0  Carillon xxxl 20cm in diameter and 45 cm tall,...   \n",
       "26               9.0                       Stone capital - 18th century   \n",
       "27              75.0  Singer model 201, old sewing machine, portable...   \n",
       "28              72.0  Antique, large, hand-painted wooden sled - app...   \n",
       "29             211.0  Religious art with an image of Saint George an...   \n",
       "30              33.0  Golden wood coffee table in Rococo style - Nap...   \n",
       "...              ...                                                ...   \n",
       "3447           950.0  Extensive English silver plated cutlery in Kin...   \n",
       "3448           571.0                             S.T Dupont Ligne 1 oro   \n",
       "3449           130.0  Hervé Morvan - Impossible... pas français (Rob...   \n",
       "3450            54.0                             Art Deco - Tulip bowls   \n",
       "3451           254.0  Kayser sewing machine with wooden cover, Germa...   \n",
       "3452           246.0            Wooden angel ornament - Italy - ca 1700   \n",
       "3453           592.0   Tafellamp Florence porselein - 2e helft 20e eeuw   \n",
       "3454            20.0      A set of five pharmacy bottles, Poland, 1950s   \n",
       "3456           634.0  Authentic skullcap Pope Francis  - exclusive o...   \n",
       "3457           298.0  Pornography; Lot with 20 publications of Priva...   \n",
       "3458           202.0  Art print; Jock Sturges - Nude Female Portrait...   \n",
       "3459           628.0      Two Selenite lamps - 340 and 300 mm - 7.2 kg.   \n",
       "3460           303.0             Antieke kijker - gesigneerd - 19e eeuw   \n",
       "3461             5.0  Various brand cigars and tobacco, from the 1990s.   \n",
       "3462           336.0  Glacoide advertising sign - Belgium - From aro...   \n",
       "3463            37.0  Harley Davidson \"Fat Boy\" collector's pocket w...   \n",
       "3464           265.0  Antique roulette in wood and copper, tabletop ...   \n",
       "3465            73.0            Cast iron garden lantern - height 94 cm   \n",
       "3466           100.0  A brussels lace shawl - Ivory color, Belgium, ...   \n",
       "3467           117.0  Beautiful Persian runner - 283 x 104 cm Middle...   \n",
       "3468           190.0  Two vintage INVENTUM toasters - chromed metal ...   \n",
       "3469            85.0  (Size: 153 x 94 cm) Authentic, original, orien...   \n",
       "3470           948.0  Antique silver rattle with bells and whistle, ...   \n",
       "3471           266.0  Gipsen Christusbeeld - Heilig Hart - vermoedel...   \n",
       "3473            68.0  A , 19th Century , english ,  high quality , t...   \n",
       "3474           269.0    Kashan, Iran 440 x 312 Semi Antique Signed 1980   \n",
       "3475           246.0               Moon globe, made in France, ca. 1969   \n",
       "3476          3603.0          Two scalloped bottle stands, 21st century   \n",
       "3477           159.0  Art Deco marble clock set - 1st half of 20th c...   \n",
       "3478            12.0  Legion Mariae 1830  Rare antique with marble b...   \n",
       "\n",
       "       mean_bids  \n",
       "0      30.142857  \n",
       "1      16.250000  \n",
       "2      20.636364  \n",
       "3      26.526316  \n",
       "4      47.705882  \n",
       "5       3.500000  \n",
       "6      32.230769  \n",
       "7      16.615385  \n",
       "8      40.058824  \n",
       "9      65.416667  \n",
       "10     22.272727  \n",
       "11    230.333333  \n",
       "12     12.818182  \n",
       "13     43.588235  \n",
       "14     12.375000  \n",
       "15     83.375000  \n",
       "16     58.769231  \n",
       "17     21.562500  \n",
       "18    126.428571  \n",
       "19     72.500000  \n",
       "20      8.600000  \n",
       "22      6.363636  \n",
       "23     15.285714  \n",
       "24     59.085714  \n",
       "25     99.937500  \n",
       "26     67.600000  \n",
       "27     20.684211  \n",
       "28     47.571429  \n",
       "29     24.266667  \n",
       "30    103.000000  \n",
       "...          ...  \n",
       "3447  118.000000  \n",
       "3448   16.500000  \n",
       "3449   10.600000  \n",
       "3450   13.500000  \n",
       "3451    9.272727  \n",
       "3452   69.714286  \n",
       "3453   28.125000  \n",
       "3454   17.666667  \n",
       "3456  111.657143  \n",
       "3457   38.000000  \n",
       "3458   16.777778  \n",
       "3459   44.733333  \n",
       "3460   97.500000  \n",
       "3461   34.600000  \n",
       "3462   12.071429  \n",
       "3463   80.687500  \n",
       "3464   41.769231  \n",
       "3465    7.500000  \n",
       "3466   47.300000  \n",
       "3467   59.533333  \n",
       "3468   28.636364  \n",
       "3469   15.400000  \n",
       "3470  253.111111  \n",
       "3471   33.000000  \n",
       "3473  107.500000  \n",
       "3474  350.666667  \n",
       "3475  121.909091  \n",
       "3476   16.916667  \n",
       "3477   30.000000  \n",
       "3478   80.000000  \n",
       "\n",
       "[3295 rows x 17 columns]"
      ]
     },
     "execution_count": 29,
     "metadata": {},
     "output_type": "execute_result"
    }
   ],
   "source": [
    "new_data = my_df_new.drop('previous_bids', axis=1)\n",
    "new_data"
   ]
  },
  {
   "cell_type": "markdown",
   "metadata": {},
   "source": [
    "## Descripción variable objetivo\n",
    "---"
   ]
  },
  {
   "cell_type": "code",
   "execution_count": 30,
   "metadata": {},
   "outputs": [
    {
     "name": "stdout",
     "output_type": "stream",
     "text": [
      "category_l1\n",
      "Antiques                 274\n",
      "Clocks                    97\n",
      "Curio                   1959\n",
      "Interior & Lifestyle      53\n",
      "Lighters & Pens          174\n",
      "Rugs & Carpets           420\n",
      "Silver & Gold            318\n",
      "dtype: int64\n"
     ]
    }
   ],
   "source": [
    "print(new_data.groupby('category_l1').size()) "
   ]
  },
  {
   "cell_type": "markdown",
   "metadata": {},
   "source": [
    "En relación a la subcategoria \"Curio\", pasamos de tener 2048 casos a 1959 casos."
   ]
  },
  {
   "cell_type": "markdown",
   "metadata": {},
   "source": [
    "# Selección de variables\n",
    "---\n",
    "## Variables explicativas\n",
    "---"
   ]
  },
  {
   "cell_type": "code",
   "execution_count": 31,
   "metadata": {},
   "outputs": [
    {
     "data": {
      "text/html": [
       "<div>\n",
       "<style scoped>\n",
       "    .dataframe tbody tr th:only-of-type {\n",
       "        vertical-align: middle;\n",
       "    }\n",
       "\n",
       "    .dataframe tbody tr th {\n",
       "        vertical-align: top;\n",
       "    }\n",
       "\n",
       "    .dataframe thead th {\n",
       "        text-align: right;\n",
       "    }\n",
       "</style>\n",
       "<table border=\"1\" class=\"dataframe\">\n",
       "  <thead>\n",
       "    <tr style=\"text-align: right;\">\n",
       "      <th></th>\n",
       "      <th>auctioneer_names</th>\n",
       "      <th>description</th>\n",
       "      <th>estimations</th>\n",
       "      <th>id</th>\n",
       "      <th>likes</th>\n",
       "      <th>meta_data</th>\n",
       "      <th>shipping</th>\n",
       "      <th>sub_title</th>\n",
       "      <th>supplier_country</th>\n",
       "      <th>supplier_from</th>\n",
       "      <th>supplier_name</th>\n",
       "      <th>supplier_score</th>\n",
       "      <th>supplier_votes</th>\n",
       "      <th>title</th>\n",
       "      <th>mean_bids</th>\n",
       "    </tr>\n",
       "  </thead>\n",
       "  <tbody>\n",
       "    <tr>\n",
       "      <th>0</th>\n",
       "      <td>[Roger Schreutelkamp]</td>\n",
       "      <td>\\nA beautiful school poster by Isings on the c...</td>\n",
       "      <td>[]</td>\n",
       "      <td>10000189</td>\n",
       "      <td>[]</td>\n",
       "      <td>{}</td>\n",
       "      <td>[[España, 15,00], [Alemania, 15,00], [Austria,...</td>\n",
       "      <td>The Netherlands 1960, J.B. Wolters Noordhoff G...</td>\n",
       "      <td>0</td>\n",
       "      <td>6 diciembre 2014</td>\n",
       "      <td>pauldevries23</td>\n",
       "      <td>100.0</td>\n",
       "      <td>310.0</td>\n",
       "      <td>Beautiful intact, old linen history school pos...</td>\n",
       "      <td>30.142857</td>\n",
       "    </tr>\n",
       "    <tr>\n",
       "      <th>1</th>\n",
       "      <td>[Francisco  Álvarez Lloret, Mark van Gijsel]</td>\n",
       "      <td>\\nBeautiful old radio\\n\\nWorks very well! \\n\\n...</td>\n",
       "      <td>[]</td>\n",
       "      <td>10000215</td>\n",
       "      <td>[]</td>\n",
       "      <td>{}</td>\n",
       "      <td>[[España, 28,00], [Alemania, 28,00], [Austria,...</td>\n",
       "      <td>Vintige radio 1980s</td>\n",
       "      <td>0</td>\n",
       "      <td>1 mayo 2015</td>\n",
       "      <td>old dutch</td>\n",
       "      <td>100.0</td>\n",
       "      <td>14.0</td>\n",
       "      <td>Vintige radio 1980s</td>\n",
       "      <td>16.250000</td>\n",
       "    </tr>\n",
       "    <tr>\n",
       "      <th>2</th>\n",
       "      <td>[Roger Schreutelkamp]</td>\n",
       "      <td>\\n5 educational school posters from 1973 by th...</td>\n",
       "      <td>[]</td>\n",
       "      <td>10001397</td>\n",
       "      <td>[]</td>\n",
       "      <td>{}</td>\n",
       "      <td>[[España, 18,00], [Alemania, 18,00], [Austria,...</td>\n",
       "      <td>Year 1973</td>\n",
       "      <td>1</td>\n",
       "      <td>27 septiembre 2015</td>\n",
       "      <td>Clairvallon</td>\n",
       "      <td>97.0</td>\n",
       "      <td>35.0</td>\n",
       "      <td>5 educational school posters, double sided</td>\n",
       "      <td>20.636364</td>\n",
       "    </tr>\n",
       "    <tr>\n",
       "      <th>3</th>\n",
       "      <td>[Christine Barrat]</td>\n",
       "      <td>\\nSilver plated Christofle dish.Very good cond...</td>\n",
       "      <td>[]</td>\n",
       "      <td>10002073</td>\n",
       "      <td>[]</td>\n",
       "      <td>{}</td>\n",
       "      <td>[[España, 15,00], [Alemania, 15,00], [Austria,...</td>\n",
       "      <td>Christofle dish</td>\n",
       "      <td>1</td>\n",
       "      <td>22 marzo 2015</td>\n",
       "      <td>Fabregas</td>\n",
       "      <td>100.0</td>\n",
       "      <td>5.0</td>\n",
       "      <td>Christofle dish</td>\n",
       "      <td>26.526316</td>\n",
       "    </tr>\n",
       "    <tr>\n",
       "      <th>4</th>\n",
       "      <td>[Jeroen Zoetmulder]</td>\n",
       "      <td>\\n6 beautiful crystal wine glasses by Nachtman...</td>\n",
       "      <td>[]</td>\n",
       "      <td>10004181</td>\n",
       "      <td>[]</td>\n",
       "      <td>{}</td>\n",
       "      <td>[[España, 19,00], [Alemania, 19,00], [Austria,...</td>\n",
       "      <td>In perfect condition.</td>\n",
       "      <td>0</td>\n",
       "      <td>15 enero 2015</td>\n",
       "      <td>AmazingAntiques</td>\n",
       "      <td>98.4</td>\n",
       "      <td>188.0</td>\n",
       "      <td>6 crystal wine glasses Nachtmann, Germany, sec...</td>\n",
       "      <td>47.705882</td>\n",
       "    </tr>\n",
       "  </tbody>\n",
       "</table>\n",
       "</div>"
      ],
      "text/plain": [
       "                               auctioneer_names  \\\n",
       "0                         [Roger Schreutelkamp]   \n",
       "1  [Francisco  Álvarez Lloret, Mark van Gijsel]   \n",
       "2                         [Roger Schreutelkamp]   \n",
       "3                            [Christine Barrat]   \n",
       "4                           [Jeroen Zoetmulder]   \n",
       "\n",
       "                                         description estimations        id  \\\n",
       "0  \\nA beautiful school poster by Isings on the c...          []  10000189   \n",
       "1  \\nBeautiful old radio\\n\\nWorks very well! \\n\\n...          []  10000215   \n",
       "2  \\n5 educational school posters from 1973 by th...          []  10001397   \n",
       "3  \\nSilver plated Christofle dish.Very good cond...          []  10002073   \n",
       "4  \\n6 beautiful crystal wine glasses by Nachtman...          []  10004181   \n",
       "\n",
       "  likes meta_data                                           shipping  \\\n",
       "0    []        {}  [[España, 15,00], [Alemania, 15,00], [Austria,...   \n",
       "1    []        {}  [[España, 28,00], [Alemania, 28,00], [Austria,...   \n",
       "2    []        {}  [[España, 18,00], [Alemania, 18,00], [Austria,...   \n",
       "3    []        {}  [[España, 15,00], [Alemania, 15,00], [Austria,...   \n",
       "4    []        {}  [[España, 19,00], [Alemania, 19,00], [Austria,...   \n",
       "\n",
       "                                           sub_title  supplier_country  \\\n",
       "0  The Netherlands 1960, J.B. Wolters Noordhoff G...                 0   \n",
       "1                                Vintige radio 1980s                 0   \n",
       "2                                          Year 1973                 1   \n",
       "3                                    Christofle dish                 1   \n",
       "4                              In perfect condition.                 0   \n",
       "\n",
       "        supplier_from    supplier_name  supplier_score  supplier_votes  \\\n",
       "0    6 diciembre 2014    pauldevries23           100.0           310.0   \n",
       "1         1 mayo 2015        old dutch           100.0            14.0   \n",
       "2  27 septiembre 2015      Clairvallon            97.0            35.0   \n",
       "3       22 marzo 2015         Fabregas           100.0             5.0   \n",
       "4       15 enero 2015  AmazingAntiques            98.4           188.0   \n",
       "\n",
       "                                               title  mean_bids  \n",
       "0  Beautiful intact, old linen history school pos...  30.142857  \n",
       "1                                Vintige radio 1980s  16.250000  \n",
       "2         5 educational school posters, double sided  20.636364  \n",
       "3                                    Christofle dish  26.526316  \n",
       "4  6 crystal wine glasses Nachtmann, Germany, sec...  47.705882  "
      ]
     },
     "execution_count": 31,
     "metadata": {},
     "output_type": "execute_result"
    }
   ],
   "source": [
    "X = new_data.drop(['category_l0','category_l1'], axis=1)\n",
    "X.head()"
   ]
  },
  {
   "cell_type": "markdown",
   "metadata": {},
   "source": [
    "### ¿Qué variables queremos para nuestro análisis/modelos?\n",
    "---"
   ]
  },
  {
   "cell_type": "code",
   "execution_count": 32,
   "metadata": {},
   "outputs": [
    {
     "data": {
      "text/html": [
       "<div>\n",
       "<style scoped>\n",
       "    .dataframe tbody tr th:only-of-type {\n",
       "        vertical-align: middle;\n",
       "    }\n",
       "\n",
       "    .dataframe tbody tr th {\n",
       "        vertical-align: top;\n",
       "    }\n",
       "\n",
       "    .dataframe thead th {\n",
       "        text-align: right;\n",
       "    }\n",
       "</style>\n",
       "<table border=\"1\" class=\"dataframe\">\n",
       "  <thead>\n",
       "    <tr style=\"text-align: right;\">\n",
       "      <th></th>\n",
       "      <th>supplier_country</th>\n",
       "      <th>supplier_score</th>\n",
       "      <th>supplier_votes</th>\n",
       "      <th>mean_bids</th>\n",
       "    </tr>\n",
       "  </thead>\n",
       "  <tbody>\n",
       "    <tr>\n",
       "      <th>0</th>\n",
       "      <td>0</td>\n",
       "      <td>100.0</td>\n",
       "      <td>310.0</td>\n",
       "      <td>30.142857</td>\n",
       "    </tr>\n",
       "    <tr>\n",
       "      <th>1</th>\n",
       "      <td>0</td>\n",
       "      <td>100.0</td>\n",
       "      <td>14.0</td>\n",
       "      <td>16.250000</td>\n",
       "    </tr>\n",
       "    <tr>\n",
       "      <th>2</th>\n",
       "      <td>1</td>\n",
       "      <td>97.0</td>\n",
       "      <td>35.0</td>\n",
       "      <td>20.636364</td>\n",
       "    </tr>\n",
       "    <tr>\n",
       "      <th>3</th>\n",
       "      <td>1</td>\n",
       "      <td>100.0</td>\n",
       "      <td>5.0</td>\n",
       "      <td>26.526316</td>\n",
       "    </tr>\n",
       "    <tr>\n",
       "      <th>4</th>\n",
       "      <td>0</td>\n",
       "      <td>98.4</td>\n",
       "      <td>188.0</td>\n",
       "      <td>47.705882</td>\n",
       "    </tr>\n",
       "  </tbody>\n",
       "</table>\n",
       "</div>"
      ],
      "text/plain": [
       "   supplier_country  supplier_score  supplier_votes  mean_bids\n",
       "0                 0           100.0           310.0  30.142857\n",
       "1                 0           100.0            14.0  16.250000\n",
       "2                 1            97.0            35.0  20.636364\n",
       "3                 1           100.0             5.0  26.526316\n",
       "4                 0            98.4           188.0  47.705882"
      ]
     },
     "execution_count": 32,
     "metadata": {},
     "output_type": "execute_result"
    }
   ],
   "source": [
    "data = X[['supplier_country', 'supplier_score', 'supplier_votes', 'mean_bids']]\n",
    "data.head()"
   ]
  },
  {
   "cell_type": "markdown",
   "metadata": {},
   "source": [
    "## Variable objetivo\n",
    "---"
   ]
  },
  {
   "cell_type": "code",
   "execution_count": 33,
   "metadata": {},
   "outputs": [
    {
     "data": {
      "text/html": [
       "<div>\n",
       "<style scoped>\n",
       "    .dataframe tbody tr th:only-of-type {\n",
       "        vertical-align: middle;\n",
       "    }\n",
       "\n",
       "    .dataframe tbody tr th {\n",
       "        vertical-align: top;\n",
       "    }\n",
       "\n",
       "    .dataframe thead th {\n",
       "        text-align: right;\n",
       "    }\n",
       "</style>\n",
       "<table border=\"1\" class=\"dataframe\">\n",
       "  <thead>\n",
       "    <tr style=\"text-align: right;\">\n",
       "      <th></th>\n",
       "      <th>category_l1</th>\n",
       "    </tr>\n",
       "  </thead>\n",
       "  <tbody>\n",
       "    <tr>\n",
       "      <th>0</th>\n",
       "      <td>Curio</td>\n",
       "    </tr>\n",
       "    <tr>\n",
       "      <th>1</th>\n",
       "      <td>Curio</td>\n",
       "    </tr>\n",
       "    <tr>\n",
       "      <th>2</th>\n",
       "      <td>Curio</td>\n",
       "    </tr>\n",
       "    <tr>\n",
       "      <th>3</th>\n",
       "      <td>Silver &amp; Gold</td>\n",
       "    </tr>\n",
       "    <tr>\n",
       "      <th>4</th>\n",
       "      <td>Antiques</td>\n",
       "    </tr>\n",
       "  </tbody>\n",
       "</table>\n",
       "</div>"
      ],
      "text/plain": [
       "     category_l1\n",
       "0          Curio\n",
       "1          Curio\n",
       "2          Curio\n",
       "3  Silver & Gold\n",
       "4       Antiques"
      ]
     },
     "execution_count": 33,
     "metadata": {},
     "output_type": "execute_result"
    }
   ],
   "source": [
    "y = new_data[['category_l1']]\n",
    "y.head()"
   ]
  },
  {
   "cell_type": "markdown",
   "metadata": {},
   "source": [
    "# Representación gráfica de las observaciones en función de las 7 categorías que presenta nuestra variable objetivo\n",
    "---\n",
    "\n",
    "## Representación en 3D\n",
    "---\n",
    "Consideraremos las variables: *supplier_score*, *supplier_votes* y *mean_bids*.\n",
    "\n",
    "**Definimos la entrada**"
   ]
  },
  {
   "cell_type": "code",
   "execution_count": 34,
   "metadata": {},
   "outputs": [
    {
     "data": {
      "text/plain": [
       "(3295,)"
      ]
     },
     "execution_count": 34,
     "metadata": {},
     "output_type": "execute_result"
    }
   ],
   "source": [
    "data_X = np.array(X[['supplier_score', 'supplier_votes', 'mean_bids']])\n",
    "data_y = np.array(new_data['category_l1'])\n",
    "data_y.shape"
   ]
  },
  {
   "cell_type": "code",
   "execution_count": 35,
   "metadata": {},
   "outputs": [
    {
     "data": {
      "text/plain": [
       "array([[ 100.        ,  310.        ,   30.14285714],\n",
       "       [ 100.        ,   14.        ,   16.25      ],\n",
       "       [  97.        ,   35.        ,   20.63636364],\n",
       "       ...,\n",
       "       [  99.        , 3603.        ,   16.91666667],\n",
       "       [ 100.        ,  159.        ,   30.        ],\n",
       "       [  75.        ,   12.        ,   80.        ]])"
      ]
     },
     "execution_count": 35,
     "metadata": {},
     "output_type": "execute_result"
    }
   ],
   "source": [
    "data_X"
   ]
  },
  {
   "cell_type": "code",
   "execution_count": 36,
   "metadata": {},
   "outputs": [
    {
     "data": {
      "text/plain": [
       "array(['Curio', 'Curio', 'Curio', ..., 'Silver & Gold', 'Clocks', 'Curio'],\n",
       "      dtype=object)"
      ]
     },
     "execution_count": 36,
     "metadata": {},
     "output_type": "execute_result"
    }
   ],
   "source": [
    "data_y"
   ]
  },
  {
   "cell_type": "markdown",
   "metadata": {},
   "source": [
    "* Para que sea posible la representación gráfica, **convertiremos la variable objetivo (categórica) en numérica.**"
   ]
  },
  {
   "cell_type": "code",
   "execution_count": 37,
   "metadata": {},
   "outputs": [
    {
     "data": {
      "text/plain": [
       "array([2, 2, 2, 6, 0])"
      ]
     },
     "execution_count": 37,
     "metadata": {},
     "output_type": "execute_result"
    }
   ],
   "source": [
    "y_convert = new_data['category_l1'].map({'Antiques': 0, 'Clocks': 1, 'Curio': 2,  'Interior & Lifestyle': 3, \n",
    "                      'Lighters & Pens': 4, 'Rugs & Carpets': 5, 'Silver & Gold': 6}).astype(int)\n",
    "\n",
    "datos_y = np.array(y_convert)\n",
    "datos_y[0:5]"
   ]
  },
  {
   "cell_type": "markdown",
   "metadata": {},
   "source": [
    "Podemos comprobar que el cambio es correcto al comparar dicho resultado con el que nos ofrecia *y.head()*\n",
    "\n",
    "`y.head() = [Curio, Curio, Curio, Silver & Gold, Antiques]`"
   ]
  },
  {
   "cell_type": "markdown",
   "metadata": {},
   "source": [
    "### Representación gráfica\n",
    "---"
   ]
  },
  {
   "cell_type": "code",
   "execution_count": 38,
   "metadata": {},
   "outputs": [
    {
     "data": {
      "text/plain": [
       "<mpl_toolkits.mplot3d.art3d.Path3DCollection at 0x14eb295e828>"
      ]
     },
     "execution_count": 38,
     "metadata": {},
     "output_type": "execute_result"
    },
    {
     "data": {
      "image/png": "[encoded data removed]",
      "text/plain": [
       "<Figure size 432x288 with 1 Axes>"
      ]
     },
     "metadata": {
      "needs_background": "light"
     },
     "output_type": "display_data"
    }
   ],
   "source": [
    "fig = plt.figure()\n",
    "ax = Axes3D(fig)\n",
    "colores=['blue','red','green','yellow','orange','brown','purple']\n",
    "asignar=[]\n",
    "for row in datos_y:\n",
    "    asignar.append(colores[row])\n",
    "\n",
    "ax.scatter(data_X[:, 0], data_X[:, 1], data_X[:, 2], c=asignar,s=80)"
   ]
  },
  {
   "cell_type": "markdown",
   "metadata": {},
   "source": [
    "**Interpretación de la gráfica:** observamos la dispersión de las observaciones en los 7 clusters, sin embargo, no podemos observar dicha partición con suficiente claridad. Vemos que el cluster de color green es el más frecuentado que hace referencia a la categoría número 2 de nuestra variable objetivo: Curio, tal y como veíamos numéricamente."
   ]
  },
  {
   "cell_type": "markdown",
   "metadata": {},
   "source": [
    "# Aplicación de la técnica: *K*-Means\n",
    "---\n",
    "\n",
    "Se trata de una representación gráfica con clusters diferenciados en 3D que nos permita una agrupación de las observaciones en función de la subcategoría del lote. Esta técnica es una de las aplicaciones más habituales dentro de los modelos de aprendizaje no supervisados.\n",
    "\n",
    "El algoritmo *K-Means* divide un conjunto de $N$ muestras en $K$ subconjuntos, cada uno de ellos descrito por la media $\\mu_{j}$ de las muestras del grupo. Los puntos medio de cada grupo se denominan **centroides** (que pueden no ser puntos de $X$). El agloritmo *K-Means* tiene como objetivo **elegir centroides que minimicen la inercia**, o el **criterio de suma de cuadrados dentro del clúster**:\n",
    "\n",
    "**$$\\sum_{i=0}^{n} min_{u_{j} \\in K_{j}} (|x_{i} - u_{j}|^{2})$$**\n",
    "\n",
    "Lógicamente, cuanto menor sea esta distancia media considerando todas las instancias, mejor será el modelo. La regla del codo se utiliza para encontrar el número óptimo de clústers. A medida que aumenta el número de clusters, la suma de la distancia entre cada instancia y el centroide del clúster asociado es más pequeña por lo que la estrategia es tomar el número de clústers que supone un descenso significativo con respecto al número anterior de clústers y a partir del cual esa métrica tiende a estabilizarse."
   ]
  },
  {
   "cell_type": "markdown",
   "metadata": {},
   "source": [
    "Para poder aplicar dicha técnica haremos uso de la siguiente importación:"
   ]
  },
  {
   "cell_type": "code",
   "execution_count": 39,
   "metadata": {},
   "outputs": [],
   "source": [
    "from sklearn.cluster import KMeans"
   ]
  },
  {
   "cell_type": "markdown",
   "metadata": {},
   "source": [
    "## Obtención del número óptimo de clústers (*k*)\n",
    "---"
   ]
  },
  {
   "cell_type": "code",
   "execution_count": 40,
   "metadata": {},
   "outputs": [
    {
     "data": {
      "image/png": "[encoded data removed]",
      "text/plain": [
       "<Figure size 432x288 with 1 Axes>"
      ]
     },
     "metadata": {
      "needs_background": "light"
     },
     "output_type": "display_data"
    }
   ],
   "source": [
    "Nc = range(1, 15)\n",
    "kmeans = [KMeans(n_clusters=i) for i in Nc]\n",
    "score = [kmeans[i].fit(data_X).score(data_X) for i in range(len(kmeans))]\n",
    "plt.plot(Nc,score)\n",
    "plt.xlabel('Number of Clusters')\n",
    "plt.ylabel('Score')\n",
    "plt.show()"
   ]
  },
  {
   "cell_type": "markdown",
   "metadata": {},
   "source": [
    "Atendiendo a la gráfica parece que un buen valor de $k$ sería 3 o 4 pues es para los valores donde la curva tiende a estabilizarse (es decir, el error tiende a estabilizarse). Sin embargo, usaremos $k=7$ como el valor de $k$ pues son el número de categorías de las que disponemos."
   ]
  },
  {
   "cell_type": "markdown",
   "metadata": {},
   "source": [
    "## Ejecutamos K-Means\n",
    "---\n",
    "\n",
    "### Ejecutamos el algoritmo para 7 clusters y obtenemos las etiquetas y los centroides\n",
    "---"
   ]
  },
  {
   "cell_type": "code",
   "execution_count": 41,
   "metadata": {},
   "outputs": [
    {
     "name": "stdout",
     "output_type": "stream",
     "text": [
      "[[  98.1254386   891.02192982   58.09921409]\n",
      " [  96.76714286  117.35        311.53301967]\n",
      " [  98.76804124 4290.73195876   64.34633991]\n",
      " [  98.17704918 1865.81420765   71.76763476]\n",
      " [  98.83306233  522.02439024   59.75790491]\n",
      " [  97.90552147  266.7607362    39.77045369]\n",
      " [  96.68803828   71.21120984   44.83478179]]\n"
     ]
    }
   ],
   "source": [
    "np.random.seed(666)\n",
    "kmeans = KMeans(n_clusters=7, init=\"random\").fit(data_X)\n",
    "centroids = kmeans.cluster_centers_\n",
    "print(centroids)"
   ]
  },
  {
   "cell_type": "markdown",
   "metadata": {},
   "source": [
    "### Predicciones\n",
    "---"
   ]
  },
  {
   "cell_type": "code",
   "execution_count": 42,
   "metadata": {},
   "outputs": [
    {
     "data": {
      "text/plain": [
       "array([5, 6, 6, ..., 2, 6, 6])"
      ]
     },
     "execution_count": 42,
     "metadata": {},
     "output_type": "execute_result"
    }
   ],
   "source": [
    "predict = kmeans.predict(data_X)\n",
    "predict"
   ]
  },
  {
   "cell_type": "markdown",
   "metadata": {},
   "source": [
    "### Obtención de los centroides y representación gráfica\n",
    "---"
   ]
  },
  {
   "cell_type": "code",
   "execution_count": 43,
   "metadata": {
    "scrolled": true
   },
   "outputs": [
    {
     "data": {
      "text/plain": [
       "<mpl_toolkits.mplot3d.art3d.Path3DCollection at 0x14eb2d3cf98>"
      ]
     },
     "execution_count": 43,
     "metadata": {},
     "output_type": "execute_result"
    },
    {
     "data": {
      "image/png": "[encoded data removed]",
      "text/plain": [
       "<Figure size 432x288 with 1 Axes>"
      ]
     },
     "metadata": {
      "needs_background": "light"
     },
     "output_type": "display_data"
    }
   ],
   "source": [
    "C = kmeans.cluster_centers_\n",
    "colores1 = ['blue','red','green','yellow','orange','brown','purple']\n",
    "asignar1 = []\n",
    "for row in predict:\n",
    "    asignar1.append(colores1[row])\n",
    "\n",
    "    \n",
    "fig1 = plt.figure()\n",
    "ax = Axes3D(fig1)\n",
    "ax.scatter(data_X[:, 0], data_X[:, 1], data_X[:, 2], c = asignar1, s = 50)\n",
    "ax.scatter(C[:, 0], C[:, 1], C[:, 2], marker = '*', c = colores1, s = 1000) # centroides"
   ]
  },
  {
   "cell_type": "markdown",
   "metadata": {},
   "source": [
    "Observamos así la división en 7 clusters de nuestras observaciones junto a su centroide."
   ]
  },
  {
   "cell_type": "markdown",
   "metadata": {},
   "source": [
    "### Frecuencia de cada uno de los clusters\n",
    "---"
   ]
  },
  {
   "cell_type": "code",
   "execution_count": 44,
   "metadata": {},
   "outputs": [
    {
     "data": {
      "text/html": [
       "<div>\n",
       "<style scoped>\n",
       "    .dataframe tbody tr th:only-of-type {\n",
       "        vertical-align: middle;\n",
       "    }\n",
       "\n",
       "    .dataframe tbody tr th {\n",
       "        vertical-align: top;\n",
       "    }\n",
       "\n",
       "    .dataframe thead th {\n",
       "        text-align: right;\n",
       "    }\n",
       "</style>\n",
       "<table border=\"1\" class=\"dataframe\">\n",
       "  <thead>\n",
       "    <tr style=\"text-align: right;\">\n",
       "      <th></th>\n",
       "      <th>color</th>\n",
       "      <th>cantidad</th>\n",
       "    </tr>\n",
       "  </thead>\n",
       "  <tbody>\n",
       "    <tr>\n",
       "      <th>0</th>\n",
       "      <td>blue</td>\n",
       "      <td>228</td>\n",
       "    </tr>\n",
       "    <tr>\n",
       "      <th>1</th>\n",
       "      <td>red</td>\n",
       "      <td>140</td>\n",
       "    </tr>\n",
       "    <tr>\n",
       "      <th>2</th>\n",
       "      <td>green</td>\n",
       "      <td>97</td>\n",
       "    </tr>\n",
       "    <tr>\n",
       "      <th>3</th>\n",
       "      <td>yellow</td>\n",
       "      <td>183</td>\n",
       "    </tr>\n",
       "    <tr>\n",
       "      <th>4</th>\n",
       "      <td>orange</td>\n",
       "      <td>369</td>\n",
       "    </tr>\n",
       "    <tr>\n",
       "      <th>5</th>\n",
       "      <td>brown</td>\n",
       "      <td>810</td>\n",
       "    </tr>\n",
       "    <tr>\n",
       "      <th>6</th>\n",
       "      <td>purple</td>\n",
       "      <td>1468</td>\n",
       "    </tr>\n",
       "  </tbody>\n",
       "</table>\n",
       "</div>"
      ],
      "text/plain": [
       "    color  cantidad\n",
       "0    blue       228\n",
       "1     red       140\n",
       "2   green        97\n",
       "3  yellow       183\n",
       "4  orange       369\n",
       "5   brown       810\n",
       "6  purple      1468"
      ]
     },
     "execution_count": 44,
     "metadata": {},
     "output_type": "execute_result"
    }
   ],
   "source": [
    "copy =  pd.DataFrame()\n",
    "copy['categoria']=new_data['category_l1'].values\n",
    "copy['predict'] = predict;\n",
    "cantidadGrupo =  pd.DataFrame()\n",
    "cantidadGrupo['color']=colores1\n",
    "cantidadGrupo['cantidad']=copy.groupby('predict').size()\n",
    "cantidadGrupo"
   ]
  },
  {
   "cell_type": "markdown",
   "metadata": {},
   "source": [
    "Y podemos ver la diversidad de categorias en cada uno de los cluster. Por ejemplo en el grupo 6 (purple)."
   ]
  },
  {
   "cell_type": "code",
   "execution_count": 45,
   "metadata": {},
   "outputs": [
    {
     "data": {
      "text/plain": [
       "categoria\n",
       "Antiques                137\n",
       "Clocks                   50\n",
       "Curio                   884\n",
       "Interior & Lifestyle     37\n",
       "Lighters & Pens          98\n",
       "Rugs & Carpets          144\n",
       "Silver & Gold           118\n",
       "dtype: int64"
      ]
     },
     "execution_count": 45,
     "metadata": {},
     "output_type": "execute_result"
    }
   ],
   "source": [
    "cluster_purple = copy[copy['predict'] == 6]\n",
    "cluster_purple.groupby('categoria').size()"
   ]
  },
  {
   "cell_type": "markdown",
   "metadata": {},
   "source": [
    "**Interpretación:** de un total de 1959 individuos cuya categoría es \"Curio\", 884 se encuentran en el cluster 6 (purple)."
   ]
  },
  {
   "cell_type": "markdown",
   "metadata": {},
   "source": [
    "### Haremos 3 gráficas en 2 dimensiones con las proyecciones a partir de nuestra gráfica 3D para que nos ayude a visualizar  los grupos y su clasificación:\n",
    "---"
   ]
  },
  {
   "cell_type": "markdown",
   "metadata": {},
   "source": [
    "* *supplier_score* frente a *supplier_votes*"
   ]
  },
  {
   "cell_type": "code",
   "execution_count": 46,
   "metadata": {
    "scrolled": true
   },
   "outputs": [
    {
     "data": {
      "image/png": "[encoded data removed]",
      "text/plain": [
       "<Figure size 432x288 with 1 Axes>"
      ]
     },
     "metadata": {
      "needs_background": "light"
     },
     "output_type": "display_data"
    }
   ],
   "source": [
    "f1 = data['supplier_score'].values\n",
    "f2 = data['supplier_votes'].values\n",
    " \n",
    "plt.scatter(f1, f2, c=asignar1, s=30)\n",
    "plt.scatter(C[:, 0], C[:, 1], marker='*', c=colores1, s=1000)\n",
    "plt.xlabel('supplier_score')\n",
    "plt.ylabel('supplier_votes')\n",
    "plt.show()"
   ]
  },
  {
   "cell_type": "markdown",
   "metadata": {},
   "source": [
    "Observamos en esta gráfica de forma más clara la existencia de valores atípicos (fuera de rango en comparación con el resto de valores) en la variable *supplier_votes*."
   ]
  },
  {
   "cell_type": "markdown",
   "metadata": {},
   "source": [
    "* *supplier_score* frente a *mean_bids*"
   ]
  },
  {
   "cell_type": "code",
   "execution_count": 47,
   "metadata": {},
   "outputs": [
    {
     "data": {
      "image/png": "[encoded data removed]",
      "text/plain": [
       "<Figure size 432x288 with 1 Axes>"
      ]
     },
     "metadata": {
      "needs_background": "light"
     },
     "output_type": "display_data"
    }
   ],
   "source": [
    "f1 = data['supplier_score'].values\n",
    "f2 = data['mean_bids'].values\n",
    " \n",
    "plt.scatter(f1, f2, c=asignar1, s=30)\n",
    "plt.scatter(C[:, 0], C[:, 2], marker='*', c=colores1, s=1000)\n",
    "plt.xlabel('supplier_score')\n",
    "plt.ylabel('mean_bids')\n",
    "plt.show()"
   ]
  },
  {
   "cell_type": "markdown",
   "metadata": {},
   "source": [
    "* *supplier_votes* frente a *mean_bids*"
   ]
  },
  {
   "cell_type": "code",
   "execution_count": 48,
   "metadata": {},
   "outputs": [
    {
     "data": {
      "image/png": "[encoded data removed]",
      "text/plain": [
       "<Figure size 432x288 with 1 Axes>"
      ]
     },
     "metadata": {
      "needs_background": "light"
     },
     "output_type": "display_data"
    }
   ],
   "source": [
    "f1 = data['supplier_votes'].values\n",
    "f2 = data['mean_bids'].values\n",
    " \n",
    "plt.scatter(f1, f2, c=asignar1, s=30)\n",
    "plt.scatter(C[:, 1], C[:, 2], marker='*', c=colores1, s=1000)\n",
    "plt.xlabel('supplier_votes')\n",
    "plt.ylabel('mean_bids')\n",
    "plt.show()"
   ]
  },
  {
   "cell_type": "markdown",
   "metadata": {},
   "source": [
    "## Ejecución de la técnica *K*-Means considerando dos variables explicativas\n",
    "---"
   ]
  },
  {
   "cell_type": "markdown",
   "metadata": {},
   "source": [
    "Consideraremos dos variables explicativas *mean_bids* y *supplier_score* y tomaremos un valor de *k* más pequeño (de acuerdo a la gráfica obtenida)."
   ]
  },
  {
   "cell_type": "code",
   "execution_count": 49,
   "metadata": {},
   "outputs": [
    {
     "data": {
      "image/png": "[encoded data removed]",
      "text/plain": [
       "<Figure size 432x288 with 1 Axes>"
      ]
     },
     "metadata": {
      "needs_background": "light"
     },
     "output_type": "display_data"
    }
   ],
   "source": [
    "data_X1 = np.array(X[['supplier_score', 'mean_bids']])\n",
    "\n",
    "Nc = range(1, 15)\n",
    "kmeans1 = [KMeans(n_clusters=i, init=\"random\") for i in Nc]\n",
    "kmeans1\n",
    "score1 = [kmeans1[i].fit(data_X1).score(data_X1) for i in range(len(kmeans1))]\n",
    "score1\n",
    "plt.plot(Nc,score1)\n",
    "plt.xlabel('Number of Clusters')\n",
    "plt.ylabel('Score')\n",
    "plt.show()"
   ]
  },
  {
   "cell_type": "markdown",
   "metadata": {},
   "source": [
    "### Ejecución del algoritmo K-Means con $k = 3$\n",
    "---"
   ]
  },
  {
   "cell_type": "code",
   "execution_count": 50,
   "metadata": {},
   "outputs": [
    {
     "data": {
      "text/plain": [
       "array([0, 0, 0, ..., 0, 0, 1])"
      ]
     },
     "execution_count": 50,
     "metadata": {},
     "output_type": "execute_result"
    }
   ],
   "source": [
    "np.random.seed(666)\n",
    "kmeans1 = KMeans(n_clusters=3, init=\"random\").fit(data_X1)\n",
    "centroids1 = kmeans1.cluster_centers_\n",
    "predict1 = kmeans1.predict(data_X1)\n",
    "predict1"
   ]
  },
  {
   "cell_type": "code",
   "execution_count": 51,
   "metadata": {},
   "outputs": [
    {
     "data": {
      "text/plain": [
       "Text(0, 0.5, 'mean_bids')"
      ]
     },
     "execution_count": 51,
     "metadata": {},
     "output_type": "execute_result"
    },
    {
     "data": {
      "image/png": "[encoded data removed]",
      "text/plain": [
       "<Figure size 432x288 with 1 Axes>"
      ]
     },
     "metadata": {
      "needs_background": "light"
     },
     "output_type": "display_data"
    }
   ],
   "source": [
    "plt.scatter(data_X1[:, 0], data_X1[:, 1], c=predict1) # partición en k=3 clusters\n",
    "plt.xlabel('supplier_score')\n",
    "plt.ylabel('mean_bids')"
   ]
  },
  {
   "cell_type": "markdown",
   "metadata": {},
   "source": [
    "**Conclusión:** vemos como para un valor de k más pequeño podemos observar con mayor claridad la agrupación de las observaciones. Por ejemplo observamos que existe una gran distinción atendiendo a los valores de la variable *mean_bids*: los registros de valores comprendidos entre 1 y 100 pertenecen a un cluster, los registros entre 100 y 200 otro cluster y aquellos registros cuyo valor de puja previa sea superior (más o menos) a 200, constituyen el último cluster."
   ]
  },
  {
   "cell_type": "markdown",
   "metadata": {},
   "source": [
    "# Implementación y ejecución de K-Means usando K-Means-Optimizer\n",
    "---\n",
    "Implementamos ahora una alternativa a la ejecución k-Means realizada anteriormente. Se trata del k-Means-Optimizer: consideraremos las funciones creadas durante la clase de IPPPD y, una vez que tengamos dicha implementación, crearemos el objeto con nuestros datos y efectuaremos la partición en 7 clusters.\n",
    "\n",
    "Cabe advertir que no obtendremos una visualización óptima pero es una manera de aplicar una de las técnicas vista en clase a nuestra matriz de datos."
   ]
  },
  {
   "cell_type": "markdown",
   "metadata": {},
   "source": [
    "Usaremos las siguientes librerias y funciones:"
   ]
  },
  {
   "cell_type": "code",
   "execution_count": 52,
   "metadata": {},
   "outputs": [],
   "source": [
    "from linear_models import *\n",
    "from scipy.spatial.distance import euclidean\n",
    "from scipy.spatial import distance"
   ]
  },
  {
   "cell_type": "code",
   "execution_count": 53,
   "metadata": {},
   "outputs": [],
   "source": [
    "def calculate_distances(X, distance, *centroids):\n",
    "    K = len(centroids)\n",
    "    distances = np.zeros(shape=(X.shape[0], K))\n",
    "    #calculamos las distancias de cada instancia a los centros\n",
    "    for i in range(K):\n",
    "        for j in range(X.shape[0]):\n",
    "            distances[j,i] = distance(X[j], centroids[i])\n",
    "            \n",
    "    return distances\n",
    "\n",
    "class KMeansOptimizer:\n",
    "    \n",
    "    def __init__(self, K, distance, save_hist_labels=False, initial_centroids=None):\n",
    "        self.K = K\n",
    "        self.distance = distance\n",
    "        self.save_hist_labels = save_hist_labels\n",
    "        self.hist_labels = []\n",
    "        self.initial_centroids = initial_centroids\n",
    "        \n",
    "        \n",
    "    def optimize(self, X, Y, J, H):\n",
    "    \n",
    "        params_history = []\n",
    "        \n",
    "        # centros iniciales\n",
    "        if self.initial_centroids == None:\n",
    "            idx = np.random.randint(X.shape[0], size=self.K)\n",
    "            centroids = X[idx,:]\n",
    "        else:\n",
    "            centroids = self.initial_centroids\n",
    "        \n",
    "        # Obtengo la asignación de clusters\n",
    "        labels = H(X, *centroids)\n",
    "        \n",
    "        if self.save_hist_labels:\n",
    "            self.hist_labels.append(labels)\n",
    "        \n",
    "        # calculamos el error total (la suma de las distancias)\n",
    "        error = J(X, labels, *centroids)\n",
    "        \n",
    "        \n",
    "        item = {'c%d'%i:np.array(centroids[i]) for i in range(self.K)}\n",
    "        item['J'] = error\n",
    "        params_history.append(item)\n",
    "\n",
    "        # variable para controlar cuando parar (no se encuentra más mejora)\n",
    "        stop = False\n",
    "        \n",
    "        while not stop:\n",
    "            \n",
    "            # calculamos los nuevos centros\n",
    "            for i in range(self.K):\n",
    "                centroids[i] = X[labels == i].mean(axis=0)\n",
    "                \n",
    "            # Obtengo la nueva asignación de clusters\n",
    "            labels = H(X, *centroids)\n",
    "            \n",
    "            if self.save_hist_labels:\n",
    "                self.hist_labels.append(labels)\n",
    "\n",
    "            # calculamos el nuevo error\n",
    "            new_error = J(X, labels, *centroids)\n",
    "\n",
    "            if new_error < error:\n",
    "                item = {'c%d'%i:np.array(centroids[i]) for i in range(self.K)}\n",
    "                item['J'] = new_error\n",
    "                params_history.append(item)\n",
    "                \n",
    "                print(new_error)\n",
    "                \n",
    "            # paramos en caso de no mejorar\n",
    "            stop = new_error == error\n",
    "            \n",
    "            # actualizamos el error\n",
    "            error = new_error\n",
    "            \n",
    "        return pd.DataFrame(data=params_history), centroids\n",
    "            \n",
    "\n",
    "class KMeans1(BaseEstimator):\n",
    "    \n",
    "    def __init__(self, optimizer):\n",
    "        super(KMeans1, self).__init__(optimizer)\n",
    "\n",
    "        self.optimizer = optimizer\n",
    "    \n",
    "    def _H(self, X, *params):\n",
    "        if self.optimizer.K != len(params):\n",
    "            print(params)\n",
    "            raise ValueError(\"El número de parámetros (%d) no se corresponde con el número de atributos (%d) \" %\n",
    "                               (len(params), X.shape[1]))\n",
    "        \n",
    "        \n",
    "        distances = calculate_distances(X, self.optimizer.distance, *params)\n",
    "            \n",
    "        #asignamos el cluster más cercano a cada instancia\n",
    "        return np.argmin(distances[:,:self.optimizer.K], axis=1)\n",
    "        \n",
    "\n",
    "    def _J(self, X, Y, *params):\n",
    "        error = 0\n",
    "        \n",
    "        for i in range(self.optimizer.K):\n",
    "            error += np.array(list(map(lambda x: self.optimizer.distance(x, params[i]), X[Y==i]))).sum()\n",
    "            \n",
    "        return error\n",
    "    "
   ]
  },
  {
   "cell_type": "markdown",
   "metadata": {},
   "source": [
    "**Una vez tenemos la implementación, creamos el objeto indicando que queremos encontrar 7 clusters y lo entrenamos:**"
   ]
  },
  {
   "cell_type": "code",
   "execution_count": 54,
   "metadata": {},
   "outputs": [
    {
     "name": "stdout",
     "output_type": "stream",
     "text": [
      "552122.904821065\n",
      "527284.2840748949\n",
      "511003.1210886919\n",
      "488152.37341670913\n",
      "483412.5491096914\n",
      "443389.5686710774\n",
      "437342.641009499\n",
      "434725.82501830853\n",
      "435560.77184891934\n",
      "429215.4075563531\n",
      "425201.9391631274\n",
      "421911.67385187274\n",
      "419506.1618275185\n",
      "417507.91200006095\n",
      "415078.6994388583\n",
      "413868.5006695237\n",
      "413012.65284159366\n",
      "412613.3411024837\n",
      "412542.81995967426\n"
     ]
    },
    {
     "data": {
      "text/html": [
       "<div>\n",
       "<style scoped>\n",
       "    .dataframe tbody tr th:only-of-type {\n",
       "        vertical-align: middle;\n",
       "    }\n",
       "\n",
       "    .dataframe tbody tr th {\n",
       "        vertical-align: top;\n",
       "    }\n",
       "\n",
       "    .dataframe thead th {\n",
       "        text-align: right;\n",
       "    }\n",
       "</style>\n",
       "<table border=\"1\" class=\"dataframe\">\n",
       "  <thead>\n",
       "    <tr style=\"text-align: right;\">\n",
       "      <th></th>\n",
       "      <th>J</th>\n",
       "      <th>c0</th>\n",
       "      <th>c1</th>\n",
       "      <th>c2</th>\n",
       "      <th>c3</th>\n",
       "      <th>c4</th>\n",
       "      <th>c5</th>\n",
       "      <th>c6</th>\n",
       "    </tr>\n",
       "  </thead>\n",
       "  <tbody>\n",
       "    <tr>\n",
       "      <th>0</th>\n",
       "      <td>608191.606618</td>\n",
       "      <td>[99.8, 1960.0, 100.0]</td>\n",
       "      <td>[98.3, 421.0, 19.9375]</td>\n",
       "      <td>[100.0, 118.0, 47.5]</td>\n",
       "      <td>[85.7, 7.0, 182.71428571428572]</td>\n",
       "      <td>[97.5, 90.0, 27.636363636363637]</td>\n",
       "      <td>[83.9, 68.0, 107.5]</td>\n",
       "      <td>[98.7, 171.0, 191.57142857142858]</td>\n",
       "    </tr>\n",
       "    <tr>\n",
       "      <th>1</th>\n",
       "      <td>552122.904821</td>\n",
       "      <td>[98.37113402061851, 2650.3745704467356, 69.619...</td>\n",
       "      <td>[98.17666666666669, 531.0645161290323, 47.8568...</td>\n",
       "      <td>[97.80106809078772, 179.88785046728972, 36.079...</td>\n",
       "      <td>[95.78938053097345, 30.47787610619469, 258.367...</td>\n",
       "      <td>[96.572601010101, 54.33080808080808, 23.406457...</td>\n",
       "      <td>[96.14545454545451, 43.843636363636364, 90.767...</td>\n",
       "      <td>[98.28206896551727, 227.79310344827587, 219.37...</td>\n",
       "    </tr>\n",
       "    <tr>\n",
       "      <th>2</th>\n",
       "      <td>527284.284075</td>\n",
       "      <td>[99.02883720930222, 3089.381395348837, 65.1733...</td>\n",
       "      <td>[98.31367403314925, 707.0193370165746, 54.6056...</td>\n",
       "      <td>[97.65459081836318, 219.83532934131736, 34.945...</td>\n",
       "      <td>[95.8515789473684, 41.37894736842105, 299.7999...</td>\n",
       "      <td>[96.59714640198509, 55.178660049627794, 24.601...</td>\n",
       "      <td>[96.46246334310847, 47.81818181818182, 94.6162...</td>\n",
       "      <td>[98.275, 271.08035714285717, 242.47466560012052]</td>\n",
       "    </tr>\n",
       "    <tr>\n",
       "      <th>3</th>\n",
       "      <td>511003.121089</td>\n",
       "      <td>[99.03170731707307, 3149.6780487804876, 65.461...</td>\n",
       "      <td>[98.23829787234041, 816.3156028368794, 56.6576...</td>\n",
       "      <td>[97.86935960591126, 260.9970443349754, 35.2949...</td>\n",
       "      <td>[96.31428571428569, 48.05952380952381, 321.542...</td>\n",
       "      <td>[96.71731374606506, 64.31164742917103, 25.4265...</td>\n",
       "      <td>[96.2170329670329, 54.30769230769231, 101.4057...</td>\n",
       "      <td>[98.66909090909091, 321.4, 244.92274362465193]</td>\n",
       "    </tr>\n",
       "    <tr>\n",
       "      <th>4</th>\n",
       "      <td>488152.373417</td>\n",
       "      <td>[98.85428571428567, 3710.442857142857, 55.7801...</td>\n",
       "      <td>[98.29979838709684, 1046.1512096774193, 61.644...</td>\n",
       "      <td>[97.979303482587, 301.25572139303483, 34.81276...</td>\n",
       "      <td>[96.38089887640449, 60.73033707865169, 328.851...</td>\n",
       "      <td>[96.77578558225507, 73.05175600739372, 26.5998...</td>\n",
       "      <td>[96.3122282608695, 59.8125, 104.80500574111247]</td>\n",
       "      <td>[99.01043478260868, 381.504347826087, 228.7346...</td>\n",
       "    </tr>\n",
       "    <tr>\n",
       "      <th>5</th>\n",
       "      <td>483412.549110</td>\n",
       "      <td>[98.71196581196577, 4040.017094017094, 61.8314...</td>\n",
       "      <td>[98.16368286445018, 1247.5626598465474, 60.226...</td>\n",
       "      <td>[97.95474137931024, 328.1368534482759, 33.8188...</td>\n",
       "      <td>[96.57938144329896, 78.20618556701031, 333.125...</td>\n",
       "      <td>[96.91633333333326, 82.54833333333333, 27.4512...</td>\n",
       "      <td>[96.41590296495951, 61.57142857142857, 107.094...</td>\n",
       "      <td>[99.01832460732986, 507.6910994764398, 152.564...</td>\n",
       "    </tr>\n",
       "    <tr>\n",
       "      <th>6</th>\n",
       "      <td>443389.568671</td>\n",
       "      <td>[98.68918918918918, 4118.0, 62.44866501459328]</td>\n",
       "      <td>[98.42066420664204, 1492.9963099630995, 61.996...</td>\n",
       "      <td>[97.87590027700811, 300.1565096952909, 37.6875...</td>\n",
       "      <td>[96.85982142857141, 110.50892857142857, 334.35...</td>\n",
       "      <td>[96.94083728278031, 89.74012638230647, 27.8361...</td>\n",
       "      <td>[96.52578947368416, 59.40526315789474, 108.271...</td>\n",
       "      <td>[98.46605080831407, 610.7875288683603, 72.7901...</td>\n",
       "    </tr>\n",
       "    <tr>\n",
       "      <th>7</th>\n",
       "      <td>437342.641009</td>\n",
       "      <td>[98.68918918918918, 4118.0, 62.44866501459328]</td>\n",
       "      <td>[98.26372549019604, 1670.9264705882354, 67.256...</td>\n",
       "      <td>[97.89167733674755, 296.73879641485274, 41.592...</td>\n",
       "      <td>[97.00862068965516, 127.39655172413794, 336.32...</td>\n",
       "      <td>[96.97419354838702, 88.20099255583126, 27.7333...</td>\n",
       "      <td>[96.32784810126577, 51.9873417721519, 104.5627...</td>\n",
       "      <td>[98.50918580375787, 667.5949895615867, 61.1932...</td>\n",
       "    </tr>\n",
       "    <tr>\n",
       "      <th>8</th>\n",
       "      <td>434725.825018</td>\n",
       "      <td>[98.68918918918918, 4118.0, 62.44866501459328]</td>\n",
       "      <td>[98.17499999999993, 1745.338888888889, 74.0411...</td>\n",
       "      <td>[97.95486618004851, 304.4683698296837, 44.3528...</td>\n",
       "      <td>[96.96724137931034, 135.3706896551724, 336.330...</td>\n",
       "      <td>[96.95641240569984, 89.56580050293378, 27.9255...</td>\n",
       "      <td>[96.4114634146341, 47.59024390243903, 102.3859...</td>\n",
       "      <td>[98.47321814254865, 708.0928725701943, 54.5748...</td>\n",
       "    </tr>\n",
       "    <tr>\n",
       "      <th>9</th>\n",
       "      <td>435560.771849</td>\n",
       "      <td>[98.76804123711338, 4290.731958762886, 64.3463...</td>\n",
       "      <td>[98.1770491803278, 1865.8142076502731, 71.7676...</td>\n",
       "      <td>[98.01353558926478, 341.9661610268378, 45.0237...</td>\n",
       "      <td>[96.8225806451613, 135.25, 327.98037127135285]</td>\n",
       "      <td>[97.34721706864563, 113.43135435992579, 30.587...</td>\n",
       "      <td>[96.03528428093638, 32.88963210702341, 72.6439...</td>\n",
       "      <td>[98.50279329608928, 787.7597765363129, 59.3554...</td>\n",
       "    </tr>\n",
       "    <tr>\n",
       "      <th>10</th>\n",
       "      <td>429215.407556</td>\n",
       "      <td>[98.76804123711338, 4290.731958762886, 64.3463...</td>\n",
       "      <td>[98.1770491803278, 1865.8142076502731, 71.7676...</td>\n",
       "      <td>[98.024238733252, 357.5444579780755, 45.501760...</td>\n",
       "      <td>[96.88449612403103, 130.88372093023256, 324.23...</td>\n",
       "      <td>[97.46360824742278, 133.92680412371135, 34.663...</td>\n",
       "      <td>[96.24028871391067, 33.356955380577425, 58.004...</td>\n",
       "      <td>[98.45705705705704, 804.942942942943, 59.79725...</td>\n",
       "    </tr>\n",
       "    <tr>\n",
       "      <th>11</th>\n",
       "      <td>425201.939163</td>\n",
       "      <td>[98.76804123711338, 4290.731958762886, 64.3463...</td>\n",
       "      <td>[98.1770491803278, 1865.8142076502731, 71.7676...</td>\n",
       "      <td>[98.05763157894728, 374.78552631578947, 48.223...</td>\n",
       "      <td>[96.98571428571431, 125.80451127819549, 320.47...</td>\n",
       "      <td>[97.6485278080698, 152.42857142857142, 36.8850...</td>\n",
       "      <td>[96.26152980877386, 38.392575928009, 51.476100...</td>\n",
       "      <td>[98.398417721519, 817.4810126582279, 57.148396...</td>\n",
       "    </tr>\n",
       "    <tr>\n",
       "      <th>12</th>\n",
       "      <td>421911.673852</td>\n",
       "      <td>[98.76804123711338, 4290.731958762886, 64.3463...</td>\n",
       "      <td>[98.1770491803278, 1865.8142076502731, 71.7676...</td>\n",
       "      <td>[98.10014326647557, 399.90687679083095, 48.743...</td>\n",
       "      <td>[96.97573529411765, 124.36764705882354, 317.73...</td>\n",
       "      <td>[97.7185840707964, 170.25774336283186, 38.5128...</td>\n",
       "      <td>[96.39697275479327, 43.539858728557014, 49.039...</td>\n",
       "      <td>[98.27762237762236, 841.5769230769231, 56.8871...</td>\n",
       "    </tr>\n",
       "    <tr>\n",
       "      <th>13</th>\n",
       "      <td>419506.161828</td>\n",
       "      <td>[98.76804123711338, 4290.731958762886, 64.3463...</td>\n",
       "      <td>[98.1770491803278, 1865.8142076502731, 71.7676...</td>\n",
       "      <td>[98.17627388535028, 420.2579617834395, 48.7425...</td>\n",
       "      <td>[96.9731884057971, 122.6159420289855, 315.8885...</td>\n",
       "      <td>[97.7396860986547, 187.39910313901345, 39.8917...</td>\n",
       "      <td>[96.4891043397969, 48.3601108033241, 47.261299...</td>\n",
       "      <td>[98.24270072992695, 851.9124087591241, 58.2032...</td>\n",
       "    </tr>\n",
       "    <tr>\n",
       "      <th>14</th>\n",
       "      <td>417507.912000</td>\n",
       "      <td>[98.76804123711338, 4290.731958762886, 64.3463...</td>\n",
       "      <td>[98.1770491803278, 1865.8142076502731, 71.7676...</td>\n",
       "      <td>[98.29774305555551, 439.6857638888889, 49.5501...</td>\n",
       "      <td>[96.95144927536234, 123.39855072463769, 316.41...</td>\n",
       "      <td>[97.74385569334832, 201.23788049605412, 39.633...</td>\n",
       "      <td>[96.54324090121322, 52.3370883882149, 47.09279...</td>\n",
       "      <td>[98.1865384615384, 863.9153846153846, 58.50634...</td>\n",
       "    </tr>\n",
       "    <tr>\n",
       "      <th>15</th>\n",
       "      <td>415078.699439</td>\n",
       "      <td>[98.76804123711338, 4290.731958762886, 64.3463...</td>\n",
       "      <td>[98.1770491803278, 1865.8142076502731, 71.7676...</td>\n",
       "      <td>[98.43856589147282, 456.3468992248062, 52.0477...</td>\n",
       "      <td>[96.95144927536234, 123.39855072463769, 316.41...</td>\n",
       "      <td>[97.81421965317912, 217.1907514450867, 39.8786...</td>\n",
       "      <td>[96.54987893462472, 57.087167070217916, 45.935...</td>\n",
       "      <td>[98.16653696498048, 866.5214007782101, 58.3130...</td>\n",
       "    </tr>\n",
       "    <tr>\n",
       "      <th>16</th>\n",
       "      <td>413868.500670</td>\n",
       "      <td>[98.76804123711338, 4290.731958762886, 64.3463...</td>\n",
       "      <td>[98.1770491803278, 1865.8142076502731, 71.7676...</td>\n",
       "      <td>[98.66049896049893, 469.6091476091476, 52.7591...</td>\n",
       "      <td>[96.96402877697844, 124.87050359712231, 315.82...</td>\n",
       "      <td>[97.72594339622627, 228.26533018867926, 39.904...</td>\n",
       "      <td>[96.60524691358026, 60.3695987654321, 45.52835...</td>\n",
       "      <td>[98.13266932270912, 871.5298804780876, 58.9557...</td>\n",
       "    </tr>\n",
       "    <tr>\n",
       "      <th>17</th>\n",
       "      <td>413012.652842</td>\n",
       "      <td>[98.76804123711338, 4290.731958762886, 64.3463...</td>\n",
       "      <td>[98.1770491803278, 1865.8142076502731, 71.7676...</td>\n",
       "      <td>[98.6854910714286, 483.15625, 55.01955043923984]</td>\n",
       "      <td>[96.95144927536234, 123.39855072463769, 316.41...</td>\n",
       "      <td>[97.81420256111743, 236.59720605355065, 39.589...</td>\n",
       "      <td>[96.584679245283, 62.12679245283019, 45.529964...</td>\n",
       "      <td>[98.16122448979586, 876.5836734693878, 58.2411...</td>\n",
       "    </tr>\n",
       "    <tr>\n",
       "      <th>18</th>\n",
       "      <td>412613.341102</td>\n",
       "      <td>[98.76804123711338, 4290.731958762886, 64.3463...</td>\n",
       "      <td>[98.1770491803278, 1865.8142076502731, 71.7676...</td>\n",
       "      <td>[98.70911214953274, 493.9579439252336, 56.3131...</td>\n",
       "      <td>[96.93430656934308, 120.88321167883211, 315.72...</td>\n",
       "      <td>[97.83008225616902, 243.99294947121035, 39.841...</td>\n",
       "      <td>[96.60897058823527, 64.30735294117648, 45.4624...</td>\n",
       "      <td>[98.19205020920496, 881.7154811715482, 57.8557...</td>\n",
       "    </tr>\n",
       "    <tr>\n",
       "      <th>19</th>\n",
       "      <td>412542.819960</td>\n",
       "      <td>[98.76804123711338, 4290.731958762886, 64.3463...</td>\n",
       "      <td>[98.1770491803278, 1865.8142076502731, 71.7676...</td>\n",
       "      <td>[98.75539568345326, 501.47002398081537, 56.892...</td>\n",
       "      <td>[96.90291970802922, 117.69343065693431, 314.20...</td>\n",
       "      <td>[97.83625592417042, 249.01303317535545, 39.992...</td>\n",
       "      <td>[96.62762111352136, 65.86334056399133, 45.4474...</td>\n",
       "      <td>[98.16452991452985, 885.9316239316239, 57.8626...</td>\n",
       "    </tr>\n",
       "  </tbody>\n",
       "</table>\n",
       "</div>"
      ],
      "text/plain": [
       "                J                                                 c0  \\\n",
       "0   608191.606618                              [99.8, 1960.0, 100.0]   \n",
       "1   552122.904821  [98.37113402061851, 2650.3745704467356, 69.619...   \n",
       "2   527284.284075  [99.02883720930222, 3089.381395348837, 65.1733...   \n",
       "3   511003.121089  [99.03170731707307, 3149.6780487804876, 65.461...   \n",
       "4   488152.373417  [98.85428571428567, 3710.442857142857, 55.7801...   \n",
       "5   483412.549110  [98.71196581196577, 4040.017094017094, 61.8314...   \n",
       "6   443389.568671     [98.68918918918918, 4118.0, 62.44866501459328]   \n",
       "7   437342.641009     [98.68918918918918, 4118.0, 62.44866501459328]   \n",
       "8   434725.825018     [98.68918918918918, 4118.0, 62.44866501459328]   \n",
       "9   435560.771849  [98.76804123711338, 4290.731958762886, 64.3463...   \n",
       "10  429215.407556  [98.76804123711338, 4290.731958762886, 64.3463...   \n",
       "11  425201.939163  [98.76804123711338, 4290.731958762886, 64.3463...   \n",
       "12  421911.673852  [98.76804123711338, 4290.731958762886, 64.3463...   \n",
       "13  419506.161828  [98.76804123711338, 4290.731958762886, 64.3463...   \n",
       "14  417507.912000  [98.76804123711338, 4290.731958762886, 64.3463...   \n",
       "15  415078.699439  [98.76804123711338, 4290.731958762886, 64.3463...   \n",
       "16  413868.500670  [98.76804123711338, 4290.731958762886, 64.3463...   \n",
       "17  413012.652842  [98.76804123711338, 4290.731958762886, 64.3463...   \n",
       "18  412613.341102  [98.76804123711338, 4290.731958762886, 64.3463...   \n",
       "19  412542.819960  [98.76804123711338, 4290.731958762886, 64.3463...   \n",
       "\n",
       "                                                   c1  \\\n",
       "0                              [98.3, 421.0, 19.9375]   \n",
       "1   [98.17666666666669, 531.0645161290323, 47.8568...   \n",
       "2   [98.31367403314925, 707.0193370165746, 54.6056...   \n",
       "3   [98.23829787234041, 816.3156028368794, 56.6576...   \n",
       "4   [98.29979838709684, 1046.1512096774193, 61.644...   \n",
       "5   [98.16368286445018, 1247.5626598465474, 60.226...   \n",
       "6   [98.42066420664204, 1492.9963099630995, 61.996...   \n",
       "7   [98.26372549019604, 1670.9264705882354, 67.256...   \n",
       "8   [98.17499999999993, 1745.338888888889, 74.0411...   \n",
       "9   [98.1770491803278, 1865.8142076502731, 71.7676...   \n",
       "10  [98.1770491803278, 1865.8142076502731, 71.7676...   \n",
       "11  [98.1770491803278, 1865.8142076502731, 71.7676...   \n",
       "12  [98.1770491803278, 1865.8142076502731, 71.7676...   \n",
       "13  [98.1770491803278, 1865.8142076502731, 71.7676...   \n",
       "14  [98.1770491803278, 1865.8142076502731, 71.7676...   \n",
       "15  [98.1770491803278, 1865.8142076502731, 71.7676...   \n",
       "16  [98.1770491803278, 1865.8142076502731, 71.7676...   \n",
       "17  [98.1770491803278, 1865.8142076502731, 71.7676...   \n",
       "18  [98.1770491803278, 1865.8142076502731, 71.7676...   \n",
       "19  [98.1770491803278, 1865.8142076502731, 71.7676...   \n",
       "\n",
       "                                                   c2  \\\n",
       "0                                [100.0, 118.0, 47.5]   \n",
       "1   [97.80106809078772, 179.88785046728972, 36.079...   \n",
       "2   [97.65459081836318, 219.83532934131736, 34.945...   \n",
       "3   [97.86935960591126, 260.9970443349754, 35.2949...   \n",
       "4   [97.979303482587, 301.25572139303483, 34.81276...   \n",
       "5   [97.95474137931024, 328.1368534482759, 33.8188...   \n",
       "6   [97.87590027700811, 300.1565096952909, 37.6875...   \n",
       "7   [97.89167733674755, 296.73879641485274, 41.592...   \n",
       "8   [97.95486618004851, 304.4683698296837, 44.3528...   \n",
       "9   [98.01353558926478, 341.9661610268378, 45.0237...   \n",
       "10  [98.024238733252, 357.5444579780755, 45.501760...   \n",
       "11  [98.05763157894728, 374.78552631578947, 48.223...   \n",
       "12  [98.10014326647557, 399.90687679083095, 48.743...   \n",
       "13  [98.17627388535028, 420.2579617834395, 48.7425...   \n",
       "14  [98.29774305555551, 439.6857638888889, 49.5501...   \n",
       "15  [98.43856589147282, 456.3468992248062, 52.0477...   \n",
       "16  [98.66049896049893, 469.6091476091476, 52.7591...   \n",
       "17   [98.6854910714286, 483.15625, 55.01955043923984]   \n",
       "18  [98.70911214953274, 493.9579439252336, 56.3131...   \n",
       "19  [98.75539568345326, 501.47002398081537, 56.892...   \n",
       "\n",
       "                                                   c3  \\\n",
       "0                     [85.7, 7.0, 182.71428571428572]   \n",
       "1   [95.78938053097345, 30.47787610619469, 258.367...   \n",
       "2   [95.8515789473684, 41.37894736842105, 299.7999...   \n",
       "3   [96.31428571428569, 48.05952380952381, 321.542...   \n",
       "4   [96.38089887640449, 60.73033707865169, 328.851...   \n",
       "5   [96.57938144329896, 78.20618556701031, 333.125...   \n",
       "6   [96.85982142857141, 110.50892857142857, 334.35...   \n",
       "7   [97.00862068965516, 127.39655172413794, 336.32...   \n",
       "8   [96.96724137931034, 135.3706896551724, 336.330...   \n",
       "9      [96.8225806451613, 135.25, 327.98037127135285]   \n",
       "10  [96.88449612403103, 130.88372093023256, 324.23...   \n",
       "11  [96.98571428571431, 125.80451127819549, 320.47...   \n",
       "12  [96.97573529411765, 124.36764705882354, 317.73...   \n",
       "13  [96.9731884057971, 122.6159420289855, 315.8885...   \n",
       "14  [96.95144927536234, 123.39855072463769, 316.41...   \n",
       "15  [96.95144927536234, 123.39855072463769, 316.41...   \n",
       "16  [96.96402877697844, 124.87050359712231, 315.82...   \n",
       "17  [96.95144927536234, 123.39855072463769, 316.41...   \n",
       "18  [96.93430656934308, 120.88321167883211, 315.72...   \n",
       "19  [96.90291970802922, 117.69343065693431, 314.20...   \n",
       "\n",
       "                                                   c4  \\\n",
       "0                    [97.5, 90.0, 27.636363636363637]   \n",
       "1   [96.572601010101, 54.33080808080808, 23.406457...   \n",
       "2   [96.59714640198509, 55.178660049627794, 24.601...   \n",
       "3   [96.71731374606506, 64.31164742917103, 25.4265...   \n",
       "4   [96.77578558225507, 73.05175600739372, 26.5998...   \n",
       "5   [96.91633333333326, 82.54833333333333, 27.4512...   \n",
       "6   [96.94083728278031, 89.74012638230647, 27.8361...   \n",
       "7   [96.97419354838702, 88.20099255583126, 27.7333...   \n",
       "8   [96.95641240569984, 89.56580050293378, 27.9255...   \n",
       "9   [97.34721706864563, 113.43135435992579, 30.587...   \n",
       "10  [97.46360824742278, 133.92680412371135, 34.663...   \n",
       "11  [97.6485278080698, 152.42857142857142, 36.8850...   \n",
       "12  [97.7185840707964, 170.25774336283186, 38.5128...   \n",
       "13  [97.7396860986547, 187.39910313901345, 39.8917...   \n",
       "14  [97.74385569334832, 201.23788049605412, 39.633...   \n",
       "15  [97.81421965317912, 217.1907514450867, 39.8786...   \n",
       "16  [97.72594339622627, 228.26533018867926, 39.904...   \n",
       "17  [97.81420256111743, 236.59720605355065, 39.589...   \n",
       "18  [97.83008225616902, 243.99294947121035, 39.841...   \n",
       "19  [97.83625592417042, 249.01303317535545, 39.992...   \n",
       "\n",
       "                                                   c5  \\\n",
       "0                                 [83.9, 68.0, 107.5]   \n",
       "1   [96.14545454545451, 43.843636363636364, 90.767...   \n",
       "2   [96.46246334310847, 47.81818181818182, 94.6162...   \n",
       "3   [96.2170329670329, 54.30769230769231, 101.4057...   \n",
       "4     [96.3122282608695, 59.8125, 104.80500574111247]   \n",
       "5   [96.41590296495951, 61.57142857142857, 107.094...   \n",
       "6   [96.52578947368416, 59.40526315789474, 108.271...   \n",
       "7   [96.32784810126577, 51.9873417721519, 104.5627...   \n",
       "8   [96.4114634146341, 47.59024390243903, 102.3859...   \n",
       "9   [96.03528428093638, 32.88963210702341, 72.6439...   \n",
       "10  [96.24028871391067, 33.356955380577425, 58.004...   \n",
       "11  [96.26152980877386, 38.392575928009, 51.476100...   \n",
       "12  [96.39697275479327, 43.539858728557014, 49.039...   \n",
       "13  [96.4891043397969, 48.3601108033241, 47.261299...   \n",
       "14  [96.54324090121322, 52.3370883882149, 47.09279...   \n",
       "15  [96.54987893462472, 57.087167070217916, 45.935...   \n",
       "16  [96.60524691358026, 60.3695987654321, 45.52835...   \n",
       "17  [96.584679245283, 62.12679245283019, 45.529964...   \n",
       "18  [96.60897058823527, 64.30735294117648, 45.4624...   \n",
       "19  [96.62762111352136, 65.86334056399133, 45.4474...   \n",
       "\n",
       "                                                   c6  \n",
       "0                   [98.7, 171.0, 191.57142857142858]  \n",
       "1   [98.28206896551727, 227.79310344827587, 219.37...  \n",
       "2    [98.275, 271.08035714285717, 242.47466560012052]  \n",
       "3      [98.66909090909091, 321.4, 244.92274362465193]  \n",
       "4   [99.01043478260868, 381.504347826087, 228.7346...  \n",
       "5   [99.01832460732986, 507.6910994764398, 152.564...  \n",
       "6   [98.46605080831407, 610.7875288683603, 72.7901...  \n",
       "7   [98.50918580375787, 667.5949895615867, 61.1932...  \n",
       "8   [98.47321814254865, 708.0928725701943, 54.5748...  \n",
       "9   [98.50279329608928, 787.7597765363129, 59.3554...  \n",
       "10  [98.45705705705704, 804.942942942943, 59.79725...  \n",
       "11  [98.398417721519, 817.4810126582279, 57.148396...  \n",
       "12  [98.27762237762236, 841.5769230769231, 56.8871...  \n",
       "13  [98.24270072992695, 851.9124087591241, 58.2032...  \n",
       "14  [98.1865384615384, 863.9153846153846, 58.50634...  \n",
       "15  [98.16653696498048, 866.5214007782101, 58.3130...  \n",
       "16  [98.13266932270912, 871.5298804780876, 58.9557...  \n",
       "17  [98.16122448979586, 876.5836734693878, 58.2411...  \n",
       "18  [98.19205020920496, 881.7154811715482, 57.8557...  \n",
       "19  [98.16452991452985, 885.9316239316239, 57.8626...  "
      ]
     },
     "execution_count": 54,
     "metadata": {},
     "output_type": "execute_result"
    }
   ],
   "source": [
    "kmeans_optimizer = KMeans1(KMeansOptimizer(7, euclidean))\n",
    "kmeans_optimizer.fit(data_X)\n",
    "kmeans_optimizer._params_history"
   ]
  },
  {
   "cell_type": "markdown",
   "metadata": {},
   "source": [
    "### Predicciones\n",
    "---"
   ]
  },
  {
   "cell_type": "code",
   "execution_count": 55,
   "metadata": {},
   "outputs": [
    {
     "data": {
      "text/plain": [
       "array([4, 5, 5, ..., 0, 5, 5], dtype=int64)"
      ]
     },
     "execution_count": 55,
     "metadata": {},
     "output_type": "execute_result"
    }
   ],
   "source": [
    "predict_optimizer = kmeans_optimizer.predict(data_X)\n",
    "predict_optimizer"
   ]
  },
  {
   "cell_type": "markdown",
   "metadata": {},
   "source": [
    "### Represetación gráfica\n",
    "---"
   ]
  },
  {
   "cell_type": "code",
   "execution_count": 56,
   "metadata": {},
   "outputs": [
    {
     "data": {
      "text/plain": [
       "<mpl_toolkits.mplot3d.art3d.Path3DCollection at 0x14eb41714a8>"
      ]
     },
     "execution_count": 56,
     "metadata": {},
     "output_type": "execute_result"
    },
    {
     "data": {
      "image/png": "[encoded data removed]",
      "text/plain": [
       "<Figure size 432x288 with 1 Axes>"
      ]
     },
     "metadata": {
      "needs_background": "light"
     },
     "output_type": "display_data"
    }
   ],
   "source": [
    "fig2 = plt.figure()\n",
    "ax = Axes3D(fig2)\n",
    "ax.scatter(data_X[:, 0], data_X[:, 1], data_X[:, 2], c = predict_optimizer, s=50)"
   ]
  },
  {
   "cell_type": "markdown",
   "metadata": {},
   "source": [
    "# Análisis de los valores atípicos\n",
    "---"
   ]
  },
  {
   "cell_type": "markdown",
   "metadata": {},
   "source": [
    "Atendiendo a las gráficas obtenidas podemos observar casos realmente poco frecuentes, dichos casos constituyen valores atípicos y deberíamos eliminarlos al entrenar nuestro modelo para que no distorsionen los resultados. Para llevar a cabo la visualización de dichos valores poco frecuentes (también llamados marginales) haremos uso del modulo **seaborn**, una técnica de visualización muy frecuente en el análisis de datos."
   ]
  },
  {
   "cell_type": "code",
   "execution_count": 57,
   "metadata": {},
   "outputs": [],
   "source": [
    "import seaborn as sns"
   ]
  },
  {
   "cell_type": "markdown",
   "metadata": {},
   "source": [
    "## Gráfico de cajas de la variable *supplier_votes*\n",
    "---"
   ]
  },
  {
   "cell_type": "code",
   "execution_count": 58,
   "metadata": {},
   "outputs": [
    {
     "data": {
      "image/png": "[encoded data removed]",
      "text/plain": [
       "<Figure size 432x288 with 1 Axes>"
      ]
     },
     "metadata": {
      "needs_background": "light"
     },
     "output_type": "display_data"
    }
   ],
   "source": [
    "sns.boxplot(list(data['supplier_votes']))\n",
    "plt.title('supplier_votes')\n",
    "plt.show()"
   ]
  },
  {
   "cell_type": "markdown",
   "metadata": {},
   "source": [
    "**Interpretación:** claramente se observa la existencia de valores atípicos (habiendo casos que alcanzan el valor de casi 16000)."
   ]
  },
  {
   "cell_type": "markdown",
   "metadata": {},
   "source": [
    "## Gráfico de cajas de la variable *supplier_score*\n",
    "---"
   ]
  },
  {
   "cell_type": "code",
   "execution_count": 59,
   "metadata": {},
   "outputs": [
    {
     "data": {
      "image/png": "[encoded data removed]",
      "text/plain": [
       "<Figure size 432x288 with 1 Axes>"
      ]
     },
     "metadata": {
      "needs_background": "light"
     },
     "output_type": "display_data"
    }
   ],
   "source": [
    "sns.boxplot(list(data['supplier_score']))\n",
    "plt.title('supplier_score')\n",
    "plt.show()"
   ]
  },
  {
   "cell_type": "markdown",
   "metadata": {},
   "source": [
    "## Gráfico de cajas de la variable *mean_bids*\n",
    "---"
   ]
  },
  {
   "cell_type": "code",
   "execution_count": 60,
   "metadata": {},
   "outputs": [
    {
     "data": {
      "image/png": "[encoded data removed]",
      "text/plain": [
       "<Figure size 432x288 with 1 Axes>"
      ]
     },
     "metadata": {
      "needs_background": "light"
     },
     "output_type": "display_data"
    }
   ],
   "source": [
    "sns.boxplot(list(data['mean_bids']))\n",
    "plt.title('mean_bids')\n",
    "plt.show()"
   ]
  },
  {
   "cell_type": "markdown",
   "metadata": {},
   "source": [
    "## Gráfico de cajas de la variable *supplier_country*\n",
    "---"
   ]
  },
  {
   "cell_type": "code",
   "execution_count": 61,
   "metadata": {},
   "outputs": [
    {
     "data": {
      "image/png": "[encoded data removed]",
      "text/plain": [
       "<Figure size 432x288 with 1 Axes>"
      ]
     },
     "metadata": {
      "needs_background": "light"
     },
     "output_type": "display_data"
    }
   ],
   "source": [
    "sns.boxplot(list(data['supplier_country']))\n",
    "plt.title('supplier_country')\n",
    "plt.show()"
   ]
  },
  {
   "cell_type": "markdown",
   "metadata": {},
   "source": [
    "## Eliminación de las observaciones atípicas\n",
    "---\n",
    "\n",
    "Para la eliminación de valores atípicos no existe una regla exacta; i.e, debes fijar un umbral que te sirva para identificar que valores pueden considerarse atípicos y cuales no. Una manera de estudiar (y eliminar) dichos valores outliers es la siguiente:\n",
    "\n",
    "* Para cada columna, primero calculamos el valor Z-score para cada valor en la columna (en relación con la media y la desviación estándar de la misma).\n",
    "* En segundo lugar, tomamos el valor absoluto de dicho valor pues sólo nos importa si está por debajo del umbral. La función *all(axis=1)* nos garantiza que para cada registro, todas las columnas cumplen dicha condición.\n",
    "* Por último, nos quedamos con los registros que cumplen la condición dada."
   ]
  },
  {
   "cell_type": "code",
   "execution_count": 62,
   "metadata": {},
   "outputs": [
    {
     "data": {
      "text/html": [
       "<div>\n",
       "<style scoped>\n",
       "    .dataframe tbody tr th:only-of-type {\n",
       "        vertical-align: middle;\n",
       "    }\n",
       "\n",
       "    .dataframe tbody tr th {\n",
       "        vertical-align: top;\n",
       "    }\n",
       "\n",
       "    .dataframe thead th {\n",
       "        text-align: right;\n",
       "    }\n",
       "</style>\n",
       "<table border=\"1\" class=\"dataframe\">\n",
       "  <thead>\n",
       "    <tr style=\"text-align: right;\">\n",
       "      <th></th>\n",
       "      <th>category_l1</th>\n",
       "      <th>supplier_country</th>\n",
       "      <th>supplier_score</th>\n",
       "      <th>supplier_votes</th>\n",
       "      <th>mean_bids</th>\n",
       "    </tr>\n",
       "  </thead>\n",
       "  <tbody>\n",
       "    <tr>\n",
       "      <th>0</th>\n",
       "      <td>Curio</td>\n",
       "      <td>0</td>\n",
       "      <td>100.0</td>\n",
       "      <td>310.0</td>\n",
       "      <td>30.142857</td>\n",
       "    </tr>\n",
       "    <tr>\n",
       "      <th>1</th>\n",
       "      <td>Curio</td>\n",
       "      <td>0</td>\n",
       "      <td>100.0</td>\n",
       "      <td>14.0</td>\n",
       "      <td>16.250000</td>\n",
       "    </tr>\n",
       "    <tr>\n",
       "      <th>2</th>\n",
       "      <td>Curio</td>\n",
       "      <td>1</td>\n",
       "      <td>97.0</td>\n",
       "      <td>35.0</td>\n",
       "      <td>20.636364</td>\n",
       "    </tr>\n",
       "    <tr>\n",
       "      <th>3</th>\n",
       "      <td>Silver &amp; Gold</td>\n",
       "      <td>1</td>\n",
       "      <td>100.0</td>\n",
       "      <td>5.0</td>\n",
       "      <td>26.526316</td>\n",
       "    </tr>\n",
       "    <tr>\n",
       "      <th>4</th>\n",
       "      <td>Antiques</td>\n",
       "      <td>0</td>\n",
       "      <td>98.4</td>\n",
       "      <td>188.0</td>\n",
       "      <td>47.705882</td>\n",
       "    </tr>\n",
       "    <tr>\n",
       "      <th>5</th>\n",
       "      <td>Curio</td>\n",
       "      <td>2</td>\n",
       "      <td>100.0</td>\n",
       "      <td>29.0</td>\n",
       "      <td>3.500000</td>\n",
       "    </tr>\n",
       "    <tr>\n",
       "      <th>6</th>\n",
       "      <td>Curio</td>\n",
       "      <td>3</td>\n",
       "      <td>100.0</td>\n",
       "      <td>298.0</td>\n",
       "      <td>32.230769</td>\n",
       "    </tr>\n",
       "    <tr>\n",
       "      <th>7</th>\n",
       "      <td>Curio</td>\n",
       "      <td>0</td>\n",
       "      <td>100.0</td>\n",
       "      <td>287.0</td>\n",
       "      <td>16.615385</td>\n",
       "    </tr>\n",
       "    <tr>\n",
       "      <th>8</th>\n",
       "      <td>Curio</td>\n",
       "      <td>0</td>\n",
       "      <td>97.3</td>\n",
       "      <td>115.0</td>\n",
       "      <td>40.058824</td>\n",
       "    </tr>\n",
       "    <tr>\n",
       "      <th>9</th>\n",
       "      <td>Curio</td>\n",
       "      <td>4</td>\n",
       "      <td>100.0</td>\n",
       "      <td>286.0</td>\n",
       "      <td>65.416667</td>\n",
       "    </tr>\n",
       "    <tr>\n",
       "      <th>10</th>\n",
       "      <td>Antiques</td>\n",
       "      <td>5</td>\n",
       "      <td>99.3</td>\n",
       "      <td>154.0</td>\n",
       "      <td>22.272727</td>\n",
       "    </tr>\n",
       "    <tr>\n",
       "      <th>11</th>\n",
       "      <td>Lighters &amp; Pens</td>\n",
       "      <td>3</td>\n",
       "      <td>100.0</td>\n",
       "      <td>182.0</td>\n",
       "      <td>230.333333</td>\n",
       "    </tr>\n",
       "    <tr>\n",
       "      <th>12</th>\n",
       "      <td>Curio</td>\n",
       "      <td>6</td>\n",
       "      <td>100.0</td>\n",
       "      <td>426.0</td>\n",
       "      <td>12.818182</td>\n",
       "    </tr>\n",
       "    <tr>\n",
       "      <th>15</th>\n",
       "      <td>Curio</td>\n",
       "      <td>3</td>\n",
       "      <td>100.0</td>\n",
       "      <td>281.0</td>\n",
       "      <td>83.375000</td>\n",
       "    </tr>\n",
       "    <tr>\n",
       "      <th>16</th>\n",
       "      <td>Antiques</td>\n",
       "      <td>0</td>\n",
       "      <td>100.0</td>\n",
       "      <td>315.0</td>\n",
       "      <td>58.769231</td>\n",
       "    </tr>\n",
       "    <tr>\n",
       "      <th>17</th>\n",
       "      <td>Curio</td>\n",
       "      <td>0</td>\n",
       "      <td>97.7</td>\n",
       "      <td>47.0</td>\n",
       "      <td>21.562500</td>\n",
       "    </tr>\n",
       "    <tr>\n",
       "      <th>18</th>\n",
       "      <td>Curio</td>\n",
       "      <td>0</td>\n",
       "      <td>100.0</td>\n",
       "      <td>28.0</td>\n",
       "      <td>126.428571</td>\n",
       "    </tr>\n",
       "    <tr>\n",
       "      <th>19</th>\n",
       "      <td>Curio</td>\n",
       "      <td>1</td>\n",
       "      <td>95.4</td>\n",
       "      <td>323.0</td>\n",
       "      <td>72.500000</td>\n",
       "    </tr>\n",
       "    <tr>\n",
       "      <th>20</th>\n",
       "      <td>Curio</td>\n",
       "      <td>0</td>\n",
       "      <td>99.5</td>\n",
       "      <td>189.0</td>\n",
       "      <td>8.600000</td>\n",
       "    </tr>\n",
       "    <tr>\n",
       "      <th>22</th>\n",
       "      <td>Curio</td>\n",
       "      <td>6</td>\n",
       "      <td>97.2</td>\n",
       "      <td>77.0</td>\n",
       "      <td>6.363636</td>\n",
       "    </tr>\n",
       "    <tr>\n",
       "      <th>23</th>\n",
       "      <td>Curio</td>\n",
       "      <td>0</td>\n",
       "      <td>100.0</td>\n",
       "      <td>53.0</td>\n",
       "      <td>15.285714</td>\n",
       "    </tr>\n",
       "    <tr>\n",
       "      <th>25</th>\n",
       "      <td>Curio</td>\n",
       "      <td>7</td>\n",
       "      <td>93.5</td>\n",
       "      <td>218.0</td>\n",
       "      <td>99.937500</td>\n",
       "    </tr>\n",
       "    <tr>\n",
       "      <th>27</th>\n",
       "      <td>Curio</td>\n",
       "      <td>6</td>\n",
       "      <td>95.7</td>\n",
       "      <td>75.0</td>\n",
       "      <td>20.684211</td>\n",
       "    </tr>\n",
       "    <tr>\n",
       "      <th>28</th>\n",
       "      <td>Curio</td>\n",
       "      <td>6</td>\n",
       "      <td>100.0</td>\n",
       "      <td>72.0</td>\n",
       "      <td>47.571429</td>\n",
       "    </tr>\n",
       "    <tr>\n",
       "      <th>29</th>\n",
       "      <td>Curio</td>\n",
       "      <td>0</td>\n",
       "      <td>96.5</td>\n",
       "      <td>211.0</td>\n",
       "      <td>24.266667</td>\n",
       "    </tr>\n",
       "    <tr>\n",
       "      <th>30</th>\n",
       "      <td>Interior &amp; Lifestyle</td>\n",
       "      <td>7</td>\n",
       "      <td>96.8</td>\n",
       "      <td>33.0</td>\n",
       "      <td>103.000000</td>\n",
       "    </tr>\n",
       "    <tr>\n",
       "      <th>31</th>\n",
       "      <td>Rugs &amp; Carpets</td>\n",
       "      <td>0</td>\n",
       "      <td>99.8</td>\n",
       "      <td>1963.0</td>\n",
       "      <td>97.142857</td>\n",
       "    </tr>\n",
       "    <tr>\n",
       "      <th>32</th>\n",
       "      <td>Curio</td>\n",
       "      <td>8</td>\n",
       "      <td>98.7</td>\n",
       "      <td>88.0</td>\n",
       "      <td>12.000000</td>\n",
       "    </tr>\n",
       "    <tr>\n",
       "      <th>33</th>\n",
       "      <td>Interior &amp; Lifestyle</td>\n",
       "      <td>7</td>\n",
       "      <td>87.8</td>\n",
       "      <td>167.0</td>\n",
       "      <td>35.333333</td>\n",
       "    </tr>\n",
       "    <tr>\n",
       "      <th>34</th>\n",
       "      <td>Curio</td>\n",
       "      <td>0</td>\n",
       "      <td>100.0</td>\n",
       "      <td>21.0</td>\n",
       "      <td>34.857143</td>\n",
       "    </tr>\n",
       "    <tr>\n",
       "      <th>...</th>\n",
       "      <td>...</td>\n",
       "      <td>...</td>\n",
       "      <td>...</td>\n",
       "      <td>...</td>\n",
       "      <td>...</td>\n",
       "    </tr>\n",
       "    <tr>\n",
       "      <th>3443</th>\n",
       "      <td>Curio</td>\n",
       "      <td>10</td>\n",
       "      <td>100.0</td>\n",
       "      <td>7.0</td>\n",
       "      <td>1.500000</td>\n",
       "    </tr>\n",
       "    <tr>\n",
       "      <th>3444</th>\n",
       "      <td>Curio</td>\n",
       "      <td>0</td>\n",
       "      <td>99.2</td>\n",
       "      <td>1144.0</td>\n",
       "      <td>29.764706</td>\n",
       "    </tr>\n",
       "    <tr>\n",
       "      <th>3445</th>\n",
       "      <td>Curio</td>\n",
       "      <td>3</td>\n",
       "      <td>100.0</td>\n",
       "      <td>46.0</td>\n",
       "      <td>9.454545</td>\n",
       "    </tr>\n",
       "    <tr>\n",
       "      <th>3446</th>\n",
       "      <td>Lighters &amp; Pens</td>\n",
       "      <td>3</td>\n",
       "      <td>100.0</td>\n",
       "      <td>569.0</td>\n",
       "      <td>116.750000</td>\n",
       "    </tr>\n",
       "    <tr>\n",
       "      <th>3447</th>\n",
       "      <td>Silver &amp; Gold</td>\n",
       "      <td>0</td>\n",
       "      <td>100.0</td>\n",
       "      <td>950.0</td>\n",
       "      <td>118.000000</td>\n",
       "    </tr>\n",
       "    <tr>\n",
       "      <th>3448</th>\n",
       "      <td>Lighters &amp; Pens</td>\n",
       "      <td>3</td>\n",
       "      <td>100.0</td>\n",
       "      <td>571.0</td>\n",
       "      <td>16.500000</td>\n",
       "    </tr>\n",
       "    <tr>\n",
       "      <th>3449</th>\n",
       "      <td>Curio</td>\n",
       "      <td>1</td>\n",
       "      <td>99.2</td>\n",
       "      <td>130.0</td>\n",
       "      <td>10.600000</td>\n",
       "    </tr>\n",
       "    <tr>\n",
       "      <th>3450</th>\n",
       "      <td>Curio</td>\n",
       "      <td>0</td>\n",
       "      <td>98.0</td>\n",
       "      <td>54.0</td>\n",
       "      <td>13.500000</td>\n",
       "    </tr>\n",
       "    <tr>\n",
       "      <th>3451</th>\n",
       "      <td>Curio</td>\n",
       "      <td>0</td>\n",
       "      <td>93.1</td>\n",
       "      <td>254.0</td>\n",
       "      <td>9.272727</td>\n",
       "    </tr>\n",
       "    <tr>\n",
       "      <th>3452</th>\n",
       "      <td>Curio</td>\n",
       "      <td>0</td>\n",
       "      <td>98.2</td>\n",
       "      <td>246.0</td>\n",
       "      <td>69.714286</td>\n",
       "    </tr>\n",
       "    <tr>\n",
       "      <th>3453</th>\n",
       "      <td>Curio</td>\n",
       "      <td>4</td>\n",
       "      <td>97.7</td>\n",
       "      <td>592.0</td>\n",
       "      <td>28.125000</td>\n",
       "    </tr>\n",
       "    <tr>\n",
       "      <th>3454</th>\n",
       "      <td>Curio</td>\n",
       "      <td>8</td>\n",
       "      <td>88.9</td>\n",
       "      <td>20.0</td>\n",
       "      <td>17.666667</td>\n",
       "    </tr>\n",
       "    <tr>\n",
       "      <th>3456</th>\n",
       "      <td>Curio</td>\n",
       "      <td>3</td>\n",
       "      <td>100.0</td>\n",
       "      <td>634.0</td>\n",
       "      <td>111.657143</td>\n",
       "    </tr>\n",
       "    <tr>\n",
       "      <th>3457</th>\n",
       "      <td>Curio</td>\n",
       "      <td>3</td>\n",
       "      <td>100.0</td>\n",
       "      <td>298.0</td>\n",
       "      <td>38.000000</td>\n",
       "    </tr>\n",
       "    <tr>\n",
       "      <th>3459</th>\n",
       "      <td>Curio</td>\n",
       "      <td>4</td>\n",
       "      <td>98.5</td>\n",
       "      <td>628.0</td>\n",
       "      <td>44.733333</td>\n",
       "    </tr>\n",
       "    <tr>\n",
       "      <th>3460</th>\n",
       "      <td>Antiques</td>\n",
       "      <td>0</td>\n",
       "      <td>99.7</td>\n",
       "      <td>303.0</td>\n",
       "      <td>97.500000</td>\n",
       "    </tr>\n",
       "    <tr>\n",
       "      <th>3461</th>\n",
       "      <td>Curio</td>\n",
       "      <td>0</td>\n",
       "      <td>100.0</td>\n",
       "      <td>5.0</td>\n",
       "      <td>34.600000</td>\n",
       "    </tr>\n",
       "    <tr>\n",
       "      <th>3462</th>\n",
       "      <td>Curio</td>\n",
       "      <td>4</td>\n",
       "      <td>90.4</td>\n",
       "      <td>336.0</td>\n",
       "      <td>12.071429</td>\n",
       "    </tr>\n",
       "    <tr>\n",
       "      <th>3463</th>\n",
       "      <td>Curio</td>\n",
       "      <td>4</td>\n",
       "      <td>97.2</td>\n",
       "      <td>37.0</td>\n",
       "      <td>80.687500</td>\n",
       "    </tr>\n",
       "    <tr>\n",
       "      <th>3464</th>\n",
       "      <td>Curio</td>\n",
       "      <td>7</td>\n",
       "      <td>97.7</td>\n",
       "      <td>265.0</td>\n",
       "      <td>41.769231</td>\n",
       "    </tr>\n",
       "    <tr>\n",
       "      <th>3465</th>\n",
       "      <td>Curio</td>\n",
       "      <td>0</td>\n",
       "      <td>97.1</td>\n",
       "      <td>73.0</td>\n",
       "      <td>7.500000</td>\n",
       "    </tr>\n",
       "    <tr>\n",
       "      <th>3466</th>\n",
       "      <td>Antiques</td>\n",
       "      <td>3</td>\n",
       "      <td>96.8</td>\n",
       "      <td>100.0</td>\n",
       "      <td>47.300000</td>\n",
       "    </tr>\n",
       "    <tr>\n",
       "      <th>3467</th>\n",
       "      <td>Rugs &amp; Carpets</td>\n",
       "      <td>6</td>\n",
       "      <td>96.3</td>\n",
       "      <td>117.0</td>\n",
       "      <td>59.533333</td>\n",
       "    </tr>\n",
       "    <tr>\n",
       "      <th>3468</th>\n",
       "      <td>Curio</td>\n",
       "      <td>0</td>\n",
       "      <td>97.9</td>\n",
       "      <td>190.0</td>\n",
       "      <td>28.636364</td>\n",
       "    </tr>\n",
       "    <tr>\n",
       "      <th>3469</th>\n",
       "      <td>Rugs &amp; Carpets</td>\n",
       "      <td>7</td>\n",
       "      <td>95.1</td>\n",
       "      <td>85.0</td>\n",
       "      <td>15.400000</td>\n",
       "    </tr>\n",
       "    <tr>\n",
       "      <th>3470</th>\n",
       "      <td>Silver &amp; Gold</td>\n",
       "      <td>0</td>\n",
       "      <td>100.0</td>\n",
       "      <td>948.0</td>\n",
       "      <td>253.111111</td>\n",
       "    </tr>\n",
       "    <tr>\n",
       "      <th>3471</th>\n",
       "      <td>Curio</td>\n",
       "      <td>4</td>\n",
       "      <td>92.3</td>\n",
       "      <td>266.0</td>\n",
       "      <td>33.000000</td>\n",
       "    </tr>\n",
       "    <tr>\n",
       "      <th>3473</th>\n",
       "      <td>Curio</td>\n",
       "      <td>4</td>\n",
       "      <td>83.9</td>\n",
       "      <td>68.0</td>\n",
       "      <td>107.500000</td>\n",
       "    </tr>\n",
       "    <tr>\n",
       "      <th>3475</th>\n",
       "      <td>Curio</td>\n",
       "      <td>0</td>\n",
       "      <td>98.2</td>\n",
       "      <td>246.0</td>\n",
       "      <td>121.909091</td>\n",
       "    </tr>\n",
       "    <tr>\n",
       "      <th>3477</th>\n",
       "      <td>Clocks</td>\n",
       "      <td>0</td>\n",
       "      <td>100.0</td>\n",
       "      <td>159.0</td>\n",
       "      <td>30.000000</td>\n",
       "    </tr>\n",
       "  </tbody>\n",
       "</table>\n",
       "<p>3016 rows × 5 columns</p>\n",
       "</div>"
      ],
      "text/plain": [
       "               category_l1  supplier_country  supplier_score  supplier_votes  \\\n",
       "0                    Curio                 0           100.0           310.0   \n",
       "1                    Curio                 0           100.0            14.0   \n",
       "2                    Curio                 1            97.0            35.0   \n",
       "3            Silver & Gold                 1           100.0             5.0   \n",
       "4                 Antiques                 0            98.4           188.0   \n",
       "5                    Curio                 2           100.0            29.0   \n",
       "6                    Curio                 3           100.0           298.0   \n",
       "7                    Curio                 0           100.0           287.0   \n",
       "8                    Curio                 0            97.3           115.0   \n",
       "9                    Curio                 4           100.0           286.0   \n",
       "10                Antiques                 5            99.3           154.0   \n",
       "11         Lighters & Pens                 3           100.0           182.0   \n",
       "12                   Curio                 6           100.0           426.0   \n",
       "15                   Curio                 3           100.0           281.0   \n",
       "16                Antiques                 0           100.0           315.0   \n",
       "17                   Curio                 0            97.7            47.0   \n",
       "18                   Curio                 0           100.0            28.0   \n",
       "19                   Curio                 1            95.4           323.0   \n",
       "20                   Curio                 0            99.5           189.0   \n",
       "22                   Curio                 6            97.2            77.0   \n",
       "23                   Curio                 0           100.0            53.0   \n",
       "25                   Curio                 7            93.5           218.0   \n",
       "27                   Curio                 6            95.7            75.0   \n",
       "28                   Curio                 6           100.0            72.0   \n",
       "29                   Curio                 0            96.5           211.0   \n",
       "30    Interior & Lifestyle                 7            96.8            33.0   \n",
       "31          Rugs & Carpets                 0            99.8          1963.0   \n",
       "32                   Curio                 8            98.7            88.0   \n",
       "33    Interior & Lifestyle                 7            87.8           167.0   \n",
       "34                   Curio                 0           100.0            21.0   \n",
       "...                    ...               ...             ...             ...   \n",
       "3443                 Curio                10           100.0             7.0   \n",
       "3444                 Curio                 0            99.2          1144.0   \n",
       "3445                 Curio                 3           100.0            46.0   \n",
       "3446       Lighters & Pens                 3           100.0           569.0   \n",
       "3447         Silver & Gold                 0           100.0           950.0   \n",
       "3448       Lighters & Pens                 3           100.0           571.0   \n",
       "3449                 Curio                 1            99.2           130.0   \n",
       "3450                 Curio                 0            98.0            54.0   \n",
       "3451                 Curio                 0            93.1           254.0   \n",
       "3452                 Curio                 0            98.2           246.0   \n",
       "3453                 Curio                 4            97.7           592.0   \n",
       "3454                 Curio                 8            88.9            20.0   \n",
       "3456                 Curio                 3           100.0           634.0   \n",
       "3457                 Curio                 3           100.0           298.0   \n",
       "3459                 Curio                 4            98.5           628.0   \n",
       "3460              Antiques                 0            99.7           303.0   \n",
       "3461                 Curio                 0           100.0             5.0   \n",
       "3462                 Curio                 4            90.4           336.0   \n",
       "3463                 Curio                 4            97.2            37.0   \n",
       "3464                 Curio                 7            97.7           265.0   \n",
       "3465                 Curio                 0            97.1            73.0   \n",
       "3466              Antiques                 3            96.8           100.0   \n",
       "3467        Rugs & Carpets                 6            96.3           117.0   \n",
       "3468                 Curio                 0            97.9           190.0   \n",
       "3469        Rugs & Carpets                 7            95.1            85.0   \n",
       "3470         Silver & Gold                 0           100.0           948.0   \n",
       "3471                 Curio                 4            92.3           266.0   \n",
       "3473                 Curio                 4            83.9            68.0   \n",
       "3475                 Curio                 0            98.2           246.0   \n",
       "3477                Clocks                 0           100.0           159.0   \n",
       "\n",
       "       mean_bids  \n",
       "0      30.142857  \n",
       "1      16.250000  \n",
       "2      20.636364  \n",
       "3      26.526316  \n",
       "4      47.705882  \n",
       "5       3.500000  \n",
       "6      32.230769  \n",
       "7      16.615385  \n",
       "8      40.058824  \n",
       "9      65.416667  \n",
       "10     22.272727  \n",
       "11    230.333333  \n",
       "12     12.818182  \n",
       "15     83.375000  \n",
       "16     58.769231  \n",
       "17     21.562500  \n",
       "18    126.428571  \n",
       "19     72.500000  \n",
       "20      8.600000  \n",
       "22      6.363636  \n",
       "23     15.285714  \n",
       "25     99.937500  \n",
       "27     20.684211  \n",
       "28     47.571429  \n",
       "29     24.266667  \n",
       "30    103.000000  \n",
       "31     97.142857  \n",
       "32     12.000000  \n",
       "33     35.333333  \n",
       "34     34.857143  \n",
       "...          ...  \n",
       "3443    1.500000  \n",
       "3444   29.764706  \n",
       "3445    9.454545  \n",
       "3446  116.750000  \n",
       "3447  118.000000  \n",
       "3448   16.500000  \n",
       "3449   10.600000  \n",
       "3450   13.500000  \n",
       "3451    9.272727  \n",
       "3452   69.714286  \n",
       "3453   28.125000  \n",
       "3454   17.666667  \n",
       "3456  111.657143  \n",
       "3457   38.000000  \n",
       "3459   44.733333  \n",
       "3460   97.500000  \n",
       "3461   34.600000  \n",
       "3462   12.071429  \n",
       "3463   80.687500  \n",
       "3464   41.769231  \n",
       "3465    7.500000  \n",
       "3466   47.300000  \n",
       "3467   59.533333  \n",
       "3468   28.636364  \n",
       "3469   15.400000  \n",
       "3470  253.111111  \n",
       "3471   33.000000  \n",
       "3473  107.500000  \n",
       "3475  121.909091  \n",
       "3477   30.000000  \n",
       "\n",
       "[3016 rows x 5 columns]"
      ]
     },
     "execution_count": 62,
     "metadata": {},
     "output_type": "execute_result"
    }
   ],
   "source": [
    "df2 = new_data[['category_l1','supplier_country', 'supplier_score', 'supplier_votes', 'mean_bids']]\n",
    "\n",
    "from scipy import stats \n",
    "data_final = df2[(np.abs(stats.zscore(data)) < 3).all(axis=1)]\n",
    "data_final"
   ]
  },
  {
   "cell_type": "markdown",
   "metadata": {},
   "source": [
    "# Definición de nuestros conjuntos de datos para la elaboración de diferentes modelos de clasificación\n",
    "---"
   ]
  },
  {
   "cell_type": "code",
   "execution_count": 63,
   "metadata": {},
   "outputs": [
    {
     "data": {
      "text/plain": [
       "3016"
      ]
     },
     "execution_count": 63,
     "metadata": {},
     "output_type": "execute_result"
    }
   ],
   "source": [
    "explicativas = data_final[['supplier_country', 'supplier_score', 'supplier_votes', 'mean_bids']]\n",
    "objetivo = data_final[['category_l1']]\n",
    "\n",
    "explicativas.shape[0]"
   ]
  },
  {
   "cell_type": "code",
   "execution_count": 64,
   "metadata": {},
   "outputs": [
    {
     "data": {
      "text/plain": [
       "3016"
      ]
     },
     "execution_count": 64,
     "metadata": {},
     "output_type": "execute_result"
    }
   ],
   "source": [
    "objetivo.shape[0] # coinciden en dimensión"
   ]
  },
  {
   "cell_type": "markdown",
   "metadata": {},
   "source": [
    "**Comentario:** al eliminar los valores atípicos hemos pasado de tener 3295 observaciones a 3016."
   ]
  },
  {
   "cell_type": "markdown",
   "metadata": {},
   "source": [
    "## Análisis de la variable objetivo\n",
    "---"
   ]
  },
  {
   "cell_type": "code",
   "execution_count": 65,
   "metadata": {},
   "outputs": [
    {
     "name": "stdout",
     "output_type": "stream",
     "text": [
      "category_l1\n",
      "Antiques                 253\n",
      "Clocks                    92\n",
      "Curio                   1857\n",
      "Interior & Lifestyle      46\n",
      "Lighters & Pens          160\n",
      "Rugs & Carpets           337\n",
      "Silver & Gold            271\n",
      "dtype: int64\n"
     ]
    }
   ],
   "source": [
    "print(data_final.groupby('category_l1').size()) "
   ]
  },
  {
   "cell_type": "code",
   "execution_count": 66,
   "metadata": {},
   "outputs": [
    {
     "data": {
      "text/plain": [
       "<seaborn.axisgrid.FacetGrid at 0x14eb4487a90>"
      ]
     },
     "execution_count": 66,
     "metadata": {},
     "output_type": "execute_result"
    },
    {
     "data": {
      "image/png": "[encoded data removed]",
      "text/plain": [
       "<Figure size 360x360 with 1 Axes>"
      ]
     },
     "metadata": {
      "needs_background": "light"
     },
     "output_type": "display_data"
    }
   ],
   "source": [
    "sb.catplot('category_l1', data = data_final, kind=\"count\")"
   ]
  },
  {
   "cell_type": "markdown",
   "metadata": {},
   "source": [
    "**Conclusión:** tras las modificaciones, contamos con 1857 casos que presetan la subcategoria \"Curio\" (antes de la eliminación de valores atípicos contabamos con 1959)."
   ]
  },
  {
   "cell_type": "markdown",
   "metadata": {},
   "source": [
    "# Construcción del conjunto de entrenamiento y el conjunto test\n",
    "---"
   ]
  },
  {
   "cell_type": "markdown",
   "metadata": {},
   "source": [
    "* Antes de nada, convertiremos nuestra variable caregórica en numérica con el comando *LabelEncoder()*"
   ]
  },
  {
   "cell_type": "code",
   "execution_count": 67,
   "metadata": {},
   "outputs": [
    {
     "name": "stderr",
     "output_type": "stream",
     "text": [
      "C:\\Users\\Javi\\Anaconda3\\lib\\site-packages\\sklearn\\preprocessing\\label.py:219: DataConversionWarning: A column-vector y was passed when a 1d array was expected. Please change the shape of y to (n_samples, ), for example using ravel().\n",
      "  y = column_or_1d(y, warn=True)\n",
      "C:\\Users\\Javi\\Anaconda3\\lib\\site-packages\\sklearn\\preprocessing\\label.py:252: DataConversionWarning: A column-vector y was passed when a 1d array was expected. Please change the shape of y to (n_samples, ), for example using ravel().\n",
      "  y = column_or_1d(y, warn=True)\n"
     ]
    },
    {
     "data": {
      "text/plain": [
       "array([2, 2, 2, ..., 2, 2, 1])"
      ]
     },
     "execution_count": 67,
     "metadata": {},
     "output_type": "execute_result"
    }
   ],
   "source": [
    "from sklearn.preprocessing import LabelEncoder\n",
    "\n",
    "objetivo_encoder = LabelEncoder().fit(objetivo)\n",
    "# convertimos la variable objetivo categórica en numérica\n",
    "# fit: devuelve lo mismo que su argumento se utiliza para hacer más operaciones después\n",
    "\n",
    "objetivo = objetivo_encoder.transform(objetivo)\n",
    "objetivo"
   ]
  },
  {
   "cell_type": "markdown",
   "metadata": {},
   "source": [
    "* Partición de nuestros dados en conjunto de entrenamiento y conjunto de aprendizaje:"
   ]
  },
  {
   "cell_type": "code",
   "execution_count": 68,
   "metadata": {},
   "outputs": [],
   "source": [
    "from sklearn.model_selection import train_test_split\n",
    "\n",
    "np.random.seed(666)\n",
    "\n",
    "X_train, X_test, y_train, y_test=train_test_split(explicativas, objetivo, test_size=0.3, random_state = 666, stratify=objetivo)"
   ]
  },
  {
   "cell_type": "code",
   "execution_count": 69,
   "metadata": {},
   "outputs": [
    {
     "data": {
      "text/plain": [
       "2111"
      ]
     },
     "execution_count": 69,
     "metadata": {},
     "output_type": "execute_result"
    }
   ],
   "source": [
    "X_train.shape[0]"
   ]
  },
  {
   "cell_type": "code",
   "execution_count": 70,
   "metadata": {},
   "outputs": [
    {
     "data": {
      "text/plain": [
       "905"
      ]
     },
     "execution_count": 70,
     "metadata": {},
     "output_type": "execute_result"
    }
   ],
   "source": [
    "X_test.shape[0]"
   ]
  },
  {
   "cell_type": "markdown",
   "metadata": {},
   "source": [
    "# Nomalización de los datos\n",
    "---\n",
    "La diferencia de escala entre las características puede dar más importancia a algunas de ellas frente a otras. La normalización de las características unifica la escala, de forma que no influya la relevancia de las características en la clasificación."
   ]
  },
  {
   "cell_type": "code",
   "execution_count": 71,
   "metadata": {},
   "outputs": [
    {
     "name": "stderr",
     "output_type": "stream",
     "text": [
      "C:\\Users\\Javi\\Anaconda3\\lib\\site-packages\\sklearn\\preprocessing\\data.py:625: DataConversionWarning: Data with input dtype int32, float64 were all converted to float64 by StandardScaler.\n",
      "  return self.partial_fit(X, y)\n",
      "C:\\Users\\Javi\\Anaconda3\\lib\\site-packages\\sklearn\\preprocessing\\data.py:625: DataConversionWarning: Data with input dtype int32, float64 were all converted to float64 by StandardScaler.\n",
      "  return self.partial_fit(X, y)\n",
      "C:\\Users\\Javi\\Anaconda3\\lib\\site-packages\\ipykernel_launcher.py:6: DataConversionWarning: Data with input dtype int32, float64 were all converted to float64 by StandardScaler.\n",
      "  \n",
      "C:\\Users\\Javi\\Anaconda3\\lib\\site-packages\\ipykernel_launcher.py:7: DataConversionWarning: Data with input dtype int32, float64 were all converted to float64 by StandardScaler.\n",
      "  import sys\n"
     ]
    }
   ],
   "source": [
    "from sklearn.preprocessing import StandardScaler\n",
    "normalizador = StandardScaler().fit(X_train)\n",
    "\n",
    "normalizador1 = StandardScaler().fit(X_test)\n",
    "\n",
    "Xn_train = normalizador.transform(X_train)\n",
    "Xn_test = normalizador1.transform(X_test)"
   ]
  },
  {
   "cell_type": "markdown",
   "metadata": {},
   "source": [
    "* Comprobamos que el conjunto de datos resultante tiene media cero y desviación estándar uno"
   ]
  },
  {
   "cell_type": "code",
   "execution_count": 72,
   "metadata": {},
   "outputs": [
    {
     "data": {
      "text/plain": [
       "-8.061344633564377e-16"
      ]
     },
     "execution_count": 72,
     "metadata": {},
     "output_type": "execute_result"
    }
   ],
   "source": [
    "np.mean(Xn_train)"
   ]
  },
  {
   "cell_type": "code",
   "execution_count": 73,
   "metadata": {},
   "outputs": [
    {
     "data": {
      "text/plain": [
       "1.0"
      ]
     },
     "execution_count": 73,
     "metadata": {},
     "output_type": "execute_result"
    }
   ],
   "source": [
    "np.std(Xn_train)"
   ]
  },
  {
   "cell_type": "code",
   "execution_count": 74,
   "metadata": {},
   "outputs": [
    {
     "data": {
      "text/plain": [
       "7.929813957101671e-16"
      ]
     },
     "execution_count": 74,
     "metadata": {},
     "output_type": "execute_result"
    }
   ],
   "source": [
    "np.mean(Xn_test)"
   ]
  },
  {
   "cell_type": "code",
   "execution_count": 75,
   "metadata": {},
   "outputs": [
    {
     "data": {
      "text/plain": [
       "1.0"
      ]
     },
     "execution_count": 75,
     "metadata": {},
     "output_type": "execute_result"
    }
   ],
   "source": [
    "np.std(Xn_test)"
   ]
  },
  {
   "cell_type": "markdown",
   "metadata": {},
   "source": [
    "# Algoritmos de clasificación (Aprendizaje Supervisado)\n",
    "---"
   ]
  },
  {
   "cell_type": "markdown",
   "metadata": {},
   "source": [
    "## Regresión logística: `LogisticRegression()`\n",
    "---"
   ]
  },
  {
   "cell_type": "code",
   "execution_count": 76,
   "metadata": {},
   "outputs": [],
   "source": [
    "from sklearn.linear_model import LogisticRegression\n",
    "\n",
    "lr = LogisticRegression(random_state=666)"
   ]
  },
  {
   "cell_type": "markdown",
   "metadata": {},
   "source": [
    "### Entrenamiento\n",
    "---"
   ]
  },
  {
   "cell_type": "code",
   "execution_count": 77,
   "metadata": {},
   "outputs": [
    {
     "name": "stderr",
     "output_type": "stream",
     "text": [
      "C:\\Users\\Javi\\Anaconda3\\lib\\site-packages\\sklearn\\linear_model\\logistic.py:433: FutureWarning: Default solver will be changed to 'lbfgs' in 0.22. Specify a solver to silence this warning.\n",
      "  FutureWarning)\n",
      "C:\\Users\\Javi\\Anaconda3\\lib\\site-packages\\sklearn\\linear_model\\logistic.py:460: FutureWarning: Default multi_class will be changed to 'auto' in 0.22. Specify the multi_class option to silence this warning.\n",
      "  \"this warning.\", FutureWarning)\n"
     ]
    },
    {
     "data": {
      "text/plain": [
       "LogisticRegression(C=1.0, class_weight=None, dual=False, fit_intercept=True,\n",
       "          intercept_scaling=1, max_iter=100, multi_class='warn',\n",
       "          n_jobs=None, penalty='l2', random_state=666, solver='warn',\n",
       "          tol=0.0001, verbose=0, warm_start=False)"
      ]
     },
     "execution_count": 77,
     "metadata": {},
     "output_type": "execute_result"
    }
   ],
   "source": [
    "lr.fit(Xn_train, y_train)"
   ]
  },
  {
   "cell_type": "markdown",
   "metadata": {},
   "source": [
    "### Predicciones en el conjunto de entrenamiento\n",
    "---"
   ]
  },
  {
   "cell_type": "code",
   "execution_count": 78,
   "metadata": {},
   "outputs": [
    {
     "data": {
      "text/html": [
       "<div>\n",
       "<style scoped>\n",
       "    .dataframe tbody tr th:only-of-type {\n",
       "        vertical-align: middle;\n",
       "    }\n",
       "\n",
       "    .dataframe tbody tr th {\n",
       "        vertical-align: top;\n",
       "    }\n",
       "\n",
       "    .dataframe thead th {\n",
       "        text-align: right;\n",
       "    }\n",
       "</style>\n",
       "<table border=\"1\" class=\"dataframe\">\n",
       "  <thead>\n",
       "    <tr style=\"text-align: right;\">\n",
       "      <th></th>\n",
       "      <th>Pred</th>\n",
       "    </tr>\n",
       "  </thead>\n",
       "  <tbody>\n",
       "    <tr>\n",
       "      <th>0</th>\n",
       "      <td>2</td>\n",
       "    </tr>\n",
       "    <tr>\n",
       "      <th>1</th>\n",
       "      <td>2</td>\n",
       "    </tr>\n",
       "    <tr>\n",
       "      <th>2</th>\n",
       "      <td>5</td>\n",
       "    </tr>\n",
       "    <tr>\n",
       "      <th>3</th>\n",
       "      <td>2</td>\n",
       "    </tr>\n",
       "    <tr>\n",
       "      <th>4</th>\n",
       "      <td>2</td>\n",
       "    </tr>\n",
       "  </tbody>\n",
       "</table>\n",
       "</div>"
      ],
      "text/plain": [
       "   Pred\n",
       "0     2\n",
       "1     2\n",
       "2     5\n",
       "3     2\n",
       "4     2"
      ]
     },
     "execution_count": 78,
     "metadata": {},
     "output_type": "execute_result"
    }
   ],
   "source": [
    "predicciones_train = lr.predict(Xn_train)\n",
    "predicciones_df_train = pd.DataFrame(predicciones_train, columns=['Pred'])\n",
    "predicciones_df_train.head()"
   ]
  },
  {
   "cell_type": "markdown",
   "metadata": {},
   "source": [
    "**Recordatorio:** recordamos que el valor númerico 2 hace referencia a la categoria \"Curio\"."
   ]
  },
  {
   "cell_type": "markdown",
   "metadata": {},
   "source": [
    "### Medidas de error de clasificación en el conjunto de aprendizaje\n",
    "---\n",
    "* **Porcentaje de acierto en la clasificación**"
   ]
  },
  {
   "cell_type": "code",
   "execution_count": 79,
   "metadata": {},
   "outputs": [
    {
     "data": {
      "text/plain": [
       "0.6342965419232591"
      ]
     },
     "execution_count": 79,
     "metadata": {},
     "output_type": "execute_result"
    }
   ],
   "source": [
    "lr.score(Xn_train, y_train)"
   ]
  },
  {
   "cell_type": "markdown",
   "metadata": {},
   "source": [
    "### Predicciones en el conjunto test\n",
    "---"
   ]
  },
  {
   "cell_type": "code",
   "execution_count": 80,
   "metadata": {},
   "outputs": [
    {
     "data": {
      "text/html": [
       "<div>\n",
       "<style scoped>\n",
       "    .dataframe tbody tr th:only-of-type {\n",
       "        vertical-align: middle;\n",
       "    }\n",
       "\n",
       "    .dataframe tbody tr th {\n",
       "        vertical-align: top;\n",
       "    }\n",
       "\n",
       "    .dataframe thead th {\n",
       "        text-align: right;\n",
       "    }\n",
       "</style>\n",
       "<table border=\"1\" class=\"dataframe\">\n",
       "  <thead>\n",
       "    <tr style=\"text-align: right;\">\n",
       "      <th></th>\n",
       "      <th>Pred</th>\n",
       "    </tr>\n",
       "  </thead>\n",
       "  <tbody>\n",
       "    <tr>\n",
       "      <th>0</th>\n",
       "      <td>2</td>\n",
       "    </tr>\n",
       "    <tr>\n",
       "      <th>1</th>\n",
       "      <td>2</td>\n",
       "    </tr>\n",
       "    <tr>\n",
       "      <th>2</th>\n",
       "      <td>2</td>\n",
       "    </tr>\n",
       "    <tr>\n",
       "      <th>3</th>\n",
       "      <td>2</td>\n",
       "    </tr>\n",
       "    <tr>\n",
       "      <th>4</th>\n",
       "      <td>2</td>\n",
       "    </tr>\n",
       "  </tbody>\n",
       "</table>\n",
       "</div>"
      ],
      "text/plain": [
       "   Pred\n",
       "0     2\n",
       "1     2\n",
       "2     2\n",
       "3     2\n",
       "4     2"
      ]
     },
     "execution_count": 80,
     "metadata": {},
     "output_type": "execute_result"
    }
   ],
   "source": [
    "predicciones_test = lr.predict(Xn_test)\n",
    "predicciones_df_test = pd.DataFrame(predicciones_test, columns=['Pred'])\n",
    "predicciones_df_test.head()"
   ]
  },
  {
   "cell_type": "markdown",
   "metadata": {},
   "source": [
    "O, de manera equivalente:"
   ]
  },
  {
   "cell_type": "code",
   "execution_count": 81,
   "metadata": {},
   "outputs": [
    {
     "data": {
      "text/plain": [
       "array([2, 2, 2, 2, 2, 2, 2, 2, 2, 2, 2, 2, 2, 2, 2, 2, 2, 6, 2, 2, 2, 2,\n",
       "       2, 2, 5, 2, 2, 2, 2, 2, 2, 2, 2, 2, 2, 2, 2, 2, 2, 2, 2, 2, 2, 2,\n",
       "       2, 2, 5, 2, 2, 2, 2, 2, 2, 2, 2, 5, 2, 2, 2, 2, 5, 2, 2, 2, 2, 2,\n",
       "       5, 5, 2, 2, 2, 2, 2, 2, 2, 2, 2, 2, 2, 2, 2, 2, 2, 2, 2, 5, 2, 2,\n",
       "       2, 2, 2, 2, 2, 2, 2, 5, 2, 2, 2, 2, 2, 5, 2, 2, 2, 2, 2, 2, 2, 5,\n",
       "       2, 2, 2, 2, 2, 2, 2, 2, 2, 2, 2, 2, 2, 2, 2, 2, 2, 5, 2, 2, 2, 2,\n",
       "       2, 2, 2, 2, 2, 2, 2, 5, 2, 2, 2, 2, 2, 2, 2, 2, 2, 5, 2, 2, 2, 2,\n",
       "       2, 2, 2, 2, 2, 2, 5, 2, 2, 2, 2, 2, 2, 2, 2, 2, 2, 5, 2, 2, 2, 2,\n",
       "       2, 2, 2, 2, 2, 2, 2, 5, 2, 2, 2, 2, 2, 2, 2, 2, 2, 2, 2, 2, 2, 2,\n",
       "       2, 5, 2, 5, 2, 2, 2, 2, 2, 2, 2, 2, 2, 2, 2, 2, 2, 2, 2, 2, 5, 2,\n",
       "       5, 2, 5, 2, 2, 2, 5, 2, 2, 2, 2, 2, 2, 2, 2, 2, 2, 2, 2, 2, 2, 2,\n",
       "       2, 2, 2, 2, 2, 2, 2, 2, 2, 2, 2, 2, 2, 5, 5, 2, 5, 2, 2, 5, 2, 2,\n",
       "       2, 2, 2, 2, 2, 2, 2, 2, 5, 2, 2, 2, 2, 5, 2, 2, 2, 2, 2, 2, 2, 2,\n",
       "       2, 2, 2, 2, 2, 2, 2, 2, 2, 5, 2, 2, 2, 2, 2, 2, 2, 2, 5, 2, 2, 2,\n",
       "       5, 2, 2, 2, 2, 2, 2, 2, 5, 2, 2, 2, 2, 2, 2, 2, 5, 2, 2, 2, 2, 2,\n",
       "       2, 2, 2, 2, 2, 2, 2, 2, 5, 2, 2, 2, 2, 2, 5, 2, 2, 2, 2, 2, 2, 2,\n",
       "       2, 2, 2, 2, 5, 5, 2, 2, 5, 2, 5, 2, 2, 2, 5, 2, 5, 2, 2, 5, 5, 2,\n",
       "       2, 2, 2, 2, 2, 2, 2, 2, 5, 2, 2, 2, 5, 2, 2, 2, 2, 5, 2, 2, 2, 2,\n",
       "       2, 5, 2, 2, 2, 2, 2, 2, 2, 2, 2, 2, 2, 2, 2, 2, 2, 2, 2, 5, 5, 2,\n",
       "       5, 2, 2, 2, 2, 2, 2, 2, 2, 2, 2, 2, 2, 2, 2, 2, 2, 2, 5, 2, 5, 2,\n",
       "       2, 2, 5, 2, 2, 2, 2, 2, 2, 2, 2, 2, 2, 2, 2, 2, 2, 2, 2, 2, 2, 2,\n",
       "       5, 2, 2, 2, 2, 2, 2, 2, 2, 2, 2, 5, 2, 2, 2, 2, 2, 2, 2, 2, 2, 2,\n",
       "       2, 5, 5, 5, 2, 2, 2, 2, 2, 2, 2, 2, 2, 2, 2, 2, 2, 2, 2, 5, 2, 2,\n",
       "       2, 2, 2, 2, 2, 2, 2, 2, 2, 2, 2, 2, 2, 2, 2, 2, 2, 2, 2, 2, 2, 2,\n",
       "       2, 2, 2, 5, 2, 2, 2, 2, 2, 2, 2, 5, 2, 5, 2, 2, 2, 2, 2, 2, 2, 2,\n",
       "       2, 2, 2, 2, 2, 2, 2, 2, 2, 5, 2, 2, 2, 2, 2, 5, 2, 2, 2, 2, 2, 2,\n",
       "       2, 2, 2, 2, 2, 2, 2, 2, 2, 2, 2, 2, 2, 2, 2, 2, 2, 2, 2, 2, 2, 2,\n",
       "       2, 2, 2, 2, 2, 2, 2, 2, 2, 2, 2, 5, 2, 2, 5, 2, 2, 2, 2, 5, 2, 2,\n",
       "       2, 2, 2, 2, 2, 2, 2, 2, 2, 2, 2, 2, 2, 2, 2, 5, 2, 2, 5, 2, 2, 5,\n",
       "       2, 2, 2, 2, 2, 2, 2, 2, 2, 2, 2, 2, 2, 2, 5, 2, 2, 2, 2, 2, 2, 2,\n",
       "       2, 2, 2, 2, 2, 2, 2, 2, 5, 2, 2, 2, 2, 2, 2, 5, 2, 2, 2, 2, 2, 5,\n",
       "       2, 2, 2, 5, 2, 2, 2, 2, 2, 2, 2, 2, 2, 2, 2, 2, 2, 2, 2, 2, 2, 2,\n",
       "       2, 2, 2, 2, 2, 2, 2, 2, 5, 5, 2, 2, 2, 2, 2, 5, 2, 2, 2, 2, 2, 2,\n",
       "       2, 2, 2, 2, 2, 2, 2, 2, 2, 2, 2, 2, 2, 2, 2, 2, 5, 2, 2, 2, 2, 2,\n",
       "       2, 2, 2, 2, 2, 2, 2, 2, 2, 5, 2, 2, 2, 2, 2, 2, 2, 2, 2, 2, 2, 5,\n",
       "       2, 2, 2, 2, 5, 2, 2, 2, 2, 2, 2, 2, 2, 2, 2, 2, 2, 2, 2, 2, 2, 2,\n",
       "       2, 2, 5, 2, 2, 2, 2, 2, 2, 2, 2, 2, 2, 2, 5, 2, 2, 2, 2, 2, 2, 2,\n",
       "       2, 2, 5, 2, 2, 2, 2, 2, 2, 2, 2, 2, 5, 2, 2, 2, 2, 2, 2, 2, 2, 2,\n",
       "       2, 2, 2, 2, 2, 2, 2, 2, 2, 2, 2, 2, 2, 2, 2, 2, 2, 2, 2, 2, 5, 2,\n",
       "       2, 2, 5, 2, 2, 2, 2, 2, 2, 2, 2, 2, 2, 2, 2, 2, 2, 2, 5, 2, 2, 2,\n",
       "       2, 2, 2, 2, 5, 2, 2, 2, 2, 2, 2, 2, 2, 5, 2, 2, 2, 2, 2, 2, 2, 5,\n",
       "       2, 2, 2], dtype=int64)"
      ]
     },
     "execution_count": 81,
     "metadata": {},
     "output_type": "execute_result"
    }
   ],
   "source": [
    "lr.predict_proba(Xn_test).argmax(axis=1)"
   ]
  },
  {
   "cell_type": "markdown",
   "metadata": {},
   "source": [
    "Con este comando se asigna a cada observación la categoría de la variable clase con mayor probabilidad de pertenencia."
   ]
  },
  {
   "cell_type": "markdown",
   "metadata": {},
   "source": [
    "* **Probabilidad de pertenencia a cada una de las categorías** (trabajando en el conjunto test)"
   ]
  },
  {
   "cell_type": "code",
   "execution_count": 82,
   "metadata": {},
   "outputs": [
    {
     "data": {
      "text/plain": [
       "array([[0.06990429, 0.03027776, 0.738506  , ..., 0.04827978, 0.04020473,\n",
       "        0.06128383],\n",
       "       [0.07548045, 0.02751182, 0.71253112, ..., 0.03607334, 0.05892365,\n",
       "        0.08103079],\n",
       "       [0.0546373 , 0.0118608 , 0.6772942 , ..., 0.04907919, 0.08304697,\n",
       "        0.10293985],\n",
       "       ...,\n",
       "       [0.0469166 , 0.00571593, 0.59630732, ..., 0.07233719, 0.10347076,\n",
       "        0.13754243],\n",
       "       [0.06031946, 0.02509165, 0.76712537, ..., 0.04920626, 0.02867289,\n",
       "        0.05863003],\n",
       "       [0.04942088, 0.00844299, 0.69716955, ..., 0.05711638, 0.0569327 ,\n",
       "        0.11253351]])"
      ]
     },
     "execution_count": 82,
     "metadata": {},
     "output_type": "execute_result"
    }
   ],
   "source": [
    "from sklearn.metrics import log_loss\n",
    "\n",
    "log_loss(y_test, lr.predict_proba(Xn_test))\n",
    "lr.predict_proba(Xn_test)"
   ]
  },
  {
   "cell_type": "markdown",
   "metadata": {},
   "source": [
    "### Evaluación del rendimiento del modelo en el conjunto test\n",
    "---\n",
    "\n",
    "* **Porcentaje de acierto en la predicción**"
   ]
  },
  {
   "cell_type": "code",
   "execution_count": 83,
   "metadata": {},
   "outputs": [
    {
     "data": {
      "text/plain": [
       "0.6353591160220995"
      ]
     },
     "execution_count": 83,
     "metadata": {},
     "output_type": "execute_result"
    }
   ],
   "source": [
    "lr.score(Xn_test, y_test)"
   ]
  },
  {
   "cell_type": "markdown",
   "metadata": {},
   "source": [
    "**Comentario:** observamos como el porcentaje de acierto es mayor en el conjunto test que en el conjunto de entrenamiento. Lo más común es que sea al revés pues trabajamos sobre el conjunto de aprendizaje y validamos sobre el test, obteniendo un error mas grande. Sin embargo, el resultado obtenido nos dice que el modelo se ajusta mejor en el conjunto test que en el conjunto de aprendizaje obteniendo un mayor porcentaje de acierto en el test."
   ]
  },
  {
   "cell_type": "markdown",
   "metadata": {},
   "source": [
    "* **Medida de precisión del modelo** (fracciones de las predicciones correctas, tasa de clasificación correcta))"
   ]
  },
  {
   "cell_type": "markdown",
   "metadata": {},
   "source": [
    "Hace referencia al porcentaje de acierto en la predicción (lo que acabamos de calcular), dando así una nueva herramienta para obtener dicho porcentaje (o medidad de bondad de ajuste)."
   ]
  },
  {
   "cell_type": "code",
   "execution_count": 84,
   "metadata": {},
   "outputs": [
    {
     "data": {
      "text/plain": [
       "0.6353591160220995"
      ]
     },
     "execution_count": 84,
     "metadata": {},
     "output_type": "execute_result"
    }
   ],
   "source": [
    "from sklearn.metrics import accuracy_score\n",
    "\n",
    "y_true = y_test\n",
    "y_predict_lr = lr.predict(Xn_test)\n",
    "\n",
    "accuracy_score(y_true, y_predict_lr) # vemos que coincide con lo anterior"
   ]
  },
  {
   "cell_type": "markdown",
   "metadata": {},
   "source": [
    "### Clasificación para un nuevo individuo\n",
    "---"
   ]
  },
  {
   "cell_type": "markdown",
   "metadata": {},
   "source": [
    "Nuevo individuo:\n",
    "    \n",
    "- *supplier_country* = 22\n",
    "- *supplier_score* = 97 (puntuación recibida)\n",
    "- *supplier_votes* = 36 (votos obtenidos)\n",
    "- *mean_bids* = 25 (media de las pujas previas del producto)"
   ]
  },
  {
   "cell_type": "code",
   "execution_count": 85,
   "metadata": {},
   "outputs": [
    {
     "data": {
      "text/plain": [
       "array([6])"
      ]
     },
     "execution_count": 85,
     "metadata": {},
     "output_type": "execute_result"
    }
   ],
   "source": [
    "lr.predict([[22, 97, 36, 25]])"
   ]
  },
  {
   "cell_type": "markdown",
   "metadata": {},
   "source": [
    "**Conclusión:** nuestro clasificador nos dice que el producto pertenece a la subcategoría \"Silver & Gold\" (6)."
   ]
  },
  {
   "cell_type": "markdown",
   "metadata": {},
   "source": [
    "### Tabla de confusión\n",
    "---\n",
    "Herramienta que nos permite observar cuantos individuos han sido clasificados de manera correcta y cuántos han sido clasificados erroneamente en cada una de las categorías de la variable respuesta."
   ]
  },
  {
   "cell_type": "code",
   "execution_count": 86,
   "metadata": {},
   "outputs": [
    {
     "data": {
      "text/plain": [
       "array([[  0,   0,  66,   0,   0,  10,   0],\n",
       "       [  0,   0,  22,   0,   0,   5,   1],\n",
       "       [  0,   0, 542,   0,   0,  15,   0],\n",
       "       [  0,   0,  11,   0,   0,   3,   0],\n",
       "       [  0,   0,  39,   0,   0,   9,   0],\n",
       "       [  0,   0,  68,   0,   0,  33,   0],\n",
       "       [  0,   0,  64,   0,   0,  17,   0]], dtype=int64)"
      ]
     },
     "execution_count": 86,
     "metadata": {},
     "output_type": "execute_result"
    }
   ],
   "source": [
    "from sklearn.metrics import confusion_matrix\n",
    "\n",
    "confusion_matrix(y_true, y_predict_lr)"
   ]
  },
  {
   "cell_type": "markdown",
   "metadata": {},
   "source": [
    "**Interpretación**\n",
    "\n",
    "1. Observamos que 66 individuos que en el conjunto test presentan la categoria 0, nuestro clasificador lo selecciona en la categoría 2 (Curio), es decir, son 66 individuos clasificados erroneamente (hay más, evidentemente).\n",
    "2. 542 indiviudos que presentan la categoría Curio (número 2) son clasificados en dicha categoría por regresión logística, i.e, son individuos clasificados de manera correcta."
   ]
  },
  {
   "cell_type": "markdown",
   "metadata": {},
   "source": [
    "#### Número de casos (individuos) seleccionados de manera correcta"
   ]
  },
  {
   "cell_type": "code",
   "execution_count": 87,
   "metadata": {},
   "outputs": [
    {
     "data": {
      "text/plain": [
       "575"
      ]
     },
     "execution_count": 87,
     "metadata": {},
     "output_type": "execute_result"
    }
   ],
   "source": [
    "elem_correctos_lr = [confusion_matrix(y_true, y_predict_lr)[i,i] \n",
    "                      for i in range(confusion_matrix(y_true, y_predict_lr).shape[0])]\n",
    "\n",
    "sum(elem_correctos_lr)"
   ]
  },
  {
   "cell_type": "markdown",
   "metadata": {},
   "source": [
    "O, equivalentemente:"
   ]
  },
  {
   "cell_type": "code",
   "execution_count": 88,
   "metadata": {},
   "outputs": [
    {
     "data": {
      "text/plain": [
       "575"
      ]
     },
     "execution_count": 88,
     "metadata": {},
     "output_type": "execute_result"
    }
   ],
   "source": [
    "accuracy_score(y_true, y_predict_lr, normalize=False) "
   ]
  },
  {
   "cell_type": "markdown",
   "metadata": {},
   "source": [
    "**Conclusión:** de un total de 905 individuos, el algoritmo clasifica correctamente 575."
   ]
  },
  {
   "cell_type": "markdown",
   "metadata": {},
   "source": [
    "### Resumen de clasificación con nuestro conjunto test\n",
    "---"
   ]
  },
  {
   "cell_type": "code",
   "execution_count": 89,
   "metadata": {},
   "outputs": [
    {
     "name": "stdout",
     "output_type": "stream",
     "text": [
      "              precision    recall  f1-score   support\n",
      "\n",
      "           0       0.00      0.00      0.00        76\n",
      "           1       0.00      0.00      0.00        28\n",
      "           2       0.67      0.97      0.79       557\n",
      "           3       0.00      0.00      0.00        14\n",
      "           4       0.00      0.00      0.00        48\n",
      "           5       0.36      0.33      0.34       101\n",
      "           6       0.00      0.00      0.00        81\n",
      "\n",
      "   micro avg       0.64      0.64      0.64       905\n",
      "   macro avg       0.15      0.19      0.16       905\n",
      "weighted avg       0.45      0.64      0.53       905\n",
      "\n"
     ]
    },
    {
     "name": "stderr",
     "output_type": "stream",
     "text": [
      "C:\\Users\\Javi\\Anaconda3\\lib\\site-packages\\sklearn\\metrics\\classification.py:1143: UndefinedMetricWarning: Precision and F-score are ill-defined and being set to 0.0 in labels with no predicted samples.\n",
      "  'precision', 'predicted', average, warn_for)\n",
      "C:\\Users\\Javi\\Anaconda3\\lib\\site-packages\\sklearn\\metrics\\classification.py:1143: UndefinedMetricWarning: Precision and F-score are ill-defined and being set to 0.0 in labels with no predicted samples.\n",
      "  'precision', 'predicted', average, warn_for)\n",
      "C:\\Users\\Javi\\Anaconda3\\lib\\site-packages\\sklearn\\metrics\\classification.py:1143: UndefinedMetricWarning: Precision and F-score are ill-defined and being set to 0.0 in labels with no predicted samples.\n",
      "  'precision', 'predicted', average, warn_for)\n"
     ]
    }
   ],
   "source": [
    "from sklearn.metrics import classification_report\n",
    "print(classification_report(y_true, y_predict_lr))"
   ]
  },
  {
   "cell_type": "markdown",
   "metadata": {},
   "source": [
    "**Interpretación de los resultados**\n",
    "\n",
    "En nuestro caso vemos que se utilizaron como “soporte” 76 registros Antiques, 28 de Clocks, 557 de Curio, 14 de Interior & Lifestyle, 48 de Lighters & Pens, etc. (total de 905 registros). \n",
    "\n",
    "Podemos ver la precisión con que se acertaron cada una de las categorias:\n",
    "* Vemos por ejemplo que ha habido 542 aciertos y 15 fallos en la categoría Curio (0.97 recall). \n",
    "* La valoración que de aqui nos conviene tener en cuenta es la de F1-score, que tiene en cuenta la precisión y recall. El promedio de F1 es de 64% lo cual no está mal (mismo resultado que *accuracy_score(y_true, y_predict_lr)*)\n"
   ]
  },
  {
   "cell_type": "markdown",
   "metadata": {},
   "source": [
    "## Regresión Logística con `cross-validation`\n",
    "---"
   ]
  },
  {
   "cell_type": "code",
   "execution_count": 90,
   "metadata": {},
   "outputs": [],
   "source": [
    "from sklearn.model_selection import cross_val_score, StratifiedKFold"
   ]
  },
  {
   "cell_type": "markdown",
   "metadata": {},
   "source": [
    "En el algoritmo anterior hemos creado un modelo de Regresión Logística usando como técnica de validación la simple; dividiendo el conjunto de datos en entrenamiento y test, entrenando el modelo en el conjunto de aprendizaje y validando en el conjunto test. Esta técnica se conoce con el nómbre de **Método H (holdout)**. A continuación cambiamos nuestra técnica de validación, dividiremos nuestro conjunto de entrenamiento en *k* pliegues y efectuaremos la técnica conocida de Cross-Validation.\n",
    "\n",
    "Debemos determinar el número de pliegues. Seleccionaremos 6 pliegues del conjunto de entrenamiento de manera que en cada uno de los pliegues se tomará como conjunto test y el resto de los pliegues formarán el conjunto de entrenamiento. Así, entrenaremos el algoritmo en el conjunto de entrenamiento y validaremos en el conjunto test (en el pliegue en cuestión). Obtendremos de esta manera un porcentaje de acierto y calcularemos el valor medio de $\\%$ de acierto, obteniendo así una medida de bondad de ajuste del modelo."
   ]
  },
  {
   "cell_type": "code",
   "execution_count": 91,
   "metadata": {},
   "outputs": [
    {
     "data": {
      "text/plain": [
       "(array([   0,    1,    2, ..., 3013, 3014, 3015]),\n",
       " array([ 432,  433,  435,  462,  463,  480,  485,  486,  487,  488,  489,\n",
       "         490,  492,  493,  497,  498,  499,  500,  501,  502,  504,  505,\n",
       "         506,  507,  508,  509,  510,  512,  513,  514,  515,  516,  517,\n",
       "         518,  520,  521,  522,  523,  524,  527,  528,  529,  531,  532,\n",
       "         533,  535,  537,  538,  539,  540,  541,  542,  544,  546,  547,\n",
       "         548,  549,  550,  551,  552,  553,  555,  556,  557,  558,  559,\n",
       "         561,  563,  564,  565,  566,  567,  568,  569,  570,  571,  573,\n",
       "         574,  575,  576,  577,  579,  580,  581,  582,  583,  584,  585,\n",
       "         586,  587,  588,  589,  590,  591,  592,  593,  594,  595,  596,\n",
       "         597,  599,  601,  602,  603,  604,  605,  607,  608,  609,  610,\n",
       "         611,  612,  613,  614,  615,  616,  617,  618,  619,  620,  621,\n",
       "         622,  623,  624,  625,  626,  627,  628,  629,  630,  631,  632,\n",
       "         633,  635,  636,  637,  638,  639,  640,  641,  642,  643,  644,\n",
       "         645,  646,  648,  649,  650,  651,  652,  653,  654,  656,  657,\n",
       "         658,  659,  660,  661,  662,  663,  664,  665,  666,  668,  669,\n",
       "         670,  671,  672,  673,  674,  675,  676,  677,  678,  680,  681,\n",
       "         682,  683,  684,  685,  686,  687,  688,  689,  690,  691,  692,\n",
       "         693,  694,  695,  696,  697,  698,  699,  701,  702,  703,  704,\n",
       "         705,  706,  707,  708,  709,  710,  711,  712,  713,  714,  715,\n",
       "         716,  717,  718,  719,  720,  721,  722,  723,  724,  725,  726,\n",
       "         727,  728,  729,  730,  731,  732,  733,  734,  735,  736,  737,\n",
       "         738,  739,  740,  741,  742,  743,  744,  745,  746,  747,  748,\n",
       "         749,  750,  751,  752,  753,  754,  755,  756,  757,  758,  759,\n",
       "         760,  761,  762,  763,  764,  765,  766,  767,  768,  769,  770,\n",
       "         771,  772,  773,  774,  775,  776,  777,  778,  779,  780,  781,\n",
       "         782,  783,  784,  785,  786,  787,  788,  789,  790,  791,  792,\n",
       "         793,  794,  795,  796,  797,  798,  799,  800,  801,  802,  803,\n",
       "         804,  805,  806,  807,  808,  809,  810,  811,  812,  813,  814,\n",
       "         815,  816,  817,  818,  819,  820,  821,  822,  823,  824,  825,\n",
       "         826,  827,  828,  829,  830,  831,  832,  833,  834,  835,  836,\n",
       "         837,  838,  839,  840,  841,  842,  843,  844,  845,  846,  847,\n",
       "         848,  849,  850,  851,  852,  853,  854,  855,  856,  857,  858,\n",
       "         859,  860,  861,  862,  863,  864,  865,  866,  867,  868,  869,\n",
       "         870,  871,  872,  873,  874,  875,  876,  877,  878,  879,  880,\n",
       "         881,  882,  883,  884,  885,  886,  887,  888,  889,  890,  891,\n",
       "         892,  893,  894,  895,  896,  897,  899,  900,  901,  902,  903,\n",
       "         904,  905,  906,  907,  908,  909,  910,  911,  912,  913,  914,\n",
       "         915,  916,  917,  918,  919,  920,  921,  922,  923,  924,  925,\n",
       "         926,  927,  928,  929,  930,  931,  932,  933,  935,  936,  937,\n",
       "         939,  940,  941,  942,  943,  944,  945,  946,  947,  948,  949,\n",
       "         950,  951,  952,  953,  954,  955,  956,  957,  958,  959,  960,\n",
       "         961,  962,  963,  964,  965,  966,  967,  972,  973,  980,  984,\n",
       "         985,  991,  992,  993,  995,  996, 1001, 1003, 1006, 1008, 1009,\n",
       "        1014, 1015, 1021, 1023, 1025, 1028, 1030, 1032, 1034, 1045, 1052,\n",
       "        1064, 1068, 1072, 1079, 1083, 1084, 1085, 1089, 1104, 1105, 1109,\n",
       "        1110, 1113, 1114, 1119, 1122, 1141, 1148, 1152, 1162]))"
      ]
     },
     "execution_count": 91,
     "metadata": {},
     "output_type": "execute_result"
    }
   ],
   "source": [
    "kfold6 = StratifiedKFold(6)\n",
    "\n",
    "list(kfold6.split(explicativas, objetivo))[1] \n",
    "# indices de las observaciones tomadas para entrenamiento y test en el primer pliegue"
   ]
  },
  {
   "cell_type": "markdown",
   "metadata": {},
   "source": [
    "### Entrenamos el algoritmo y obtenemos el porcentaje de bondad de ajuste en cada pliegue\n",
    "---"
   ]
  },
  {
   "cell_type": "code",
   "execution_count": 92,
   "metadata": {},
   "outputs": [
    {
     "name": "stderr",
     "output_type": "stream",
     "text": [
      "C:\\Users\\Javi\\Anaconda3\\lib\\site-packages\\sklearn\\linear_model\\logistic.py:433: FutureWarning: Default solver will be changed to 'lbfgs' in 0.22. Specify a solver to silence this warning.\n",
      "  FutureWarning)\n",
      "C:\\Users\\Javi\\Anaconda3\\lib\\site-packages\\sklearn\\linear_model\\logistic.py:460: FutureWarning: Default multi_class will be changed to 'auto' in 0.22. Specify the multi_class option to silence this warning.\n",
      "  \"this warning.\", FutureWarning)\n",
      "C:\\Users\\Javi\\Anaconda3\\lib\\site-packages\\sklearn\\linear_model\\logistic.py:433: FutureWarning: Default solver will be changed to 'lbfgs' in 0.22. Specify a solver to silence this warning.\n",
      "  FutureWarning)\n",
      "C:\\Users\\Javi\\Anaconda3\\lib\\site-packages\\sklearn\\linear_model\\logistic.py:460: FutureWarning: Default multi_class will be changed to 'auto' in 0.22. Specify the multi_class option to silence this warning.\n",
      "  \"this warning.\", FutureWarning)\n",
      "C:\\Users\\Javi\\Anaconda3\\lib\\site-packages\\sklearn\\linear_model\\logistic.py:433: FutureWarning: Default solver will be changed to 'lbfgs' in 0.22. Specify a solver to silence this warning.\n",
      "  FutureWarning)\n",
      "C:\\Users\\Javi\\Anaconda3\\lib\\site-packages\\sklearn\\linear_model\\logistic.py:460: FutureWarning: Default multi_class will be changed to 'auto' in 0.22. Specify the multi_class option to silence this warning.\n",
      "  \"this warning.\", FutureWarning)\n",
      "C:\\Users\\Javi\\Anaconda3\\lib\\site-packages\\sklearn\\linear_model\\logistic.py:433: FutureWarning: Default solver will be changed to 'lbfgs' in 0.22. Specify a solver to silence this warning.\n",
      "  FutureWarning)\n",
      "C:\\Users\\Javi\\Anaconda3\\lib\\site-packages\\sklearn\\linear_model\\logistic.py:460: FutureWarning: Default multi_class will be changed to 'auto' in 0.22. Specify the multi_class option to silence this warning.\n",
      "  \"this warning.\", FutureWarning)\n",
      "C:\\Users\\Javi\\Anaconda3\\lib\\site-packages\\sklearn\\linear_model\\logistic.py:433: FutureWarning: Default solver will be changed to 'lbfgs' in 0.22. Specify a solver to silence this warning.\n",
      "  FutureWarning)\n",
      "C:\\Users\\Javi\\Anaconda3\\lib\\site-packages\\sklearn\\linear_model\\logistic.py:460: FutureWarning: Default multi_class will be changed to 'auto' in 0.22. Specify the multi_class option to silence this warning.\n",
      "  \"this warning.\", FutureWarning)\n",
      "C:\\Users\\Javi\\Anaconda3\\lib\\site-packages\\sklearn\\linear_model\\logistic.py:433: FutureWarning: Default solver will be changed to 'lbfgs' in 0.22. Specify a solver to silence this warning.\n",
      "  FutureWarning)\n",
      "C:\\Users\\Javi\\Anaconda3\\lib\\site-packages\\sklearn\\linear_model\\logistic.py:460: FutureWarning: Default multi_class will be changed to 'auto' in 0.22. Specify the multi_class option to silence this warning.\n",
      "  \"this warning.\", FutureWarning)\n"
     ]
    },
    {
     "data": {
      "text/plain": [
       "array([0.50704225, 0.52957746, 0.55807365, 0.55397727, 0.56321839,\n",
       "       0.54597701])"
      ]
     },
     "execution_count": 92,
     "metadata": {},
     "output_type": "execute_result"
    }
   ],
   "source": [
    "estimator = LogisticRegression(random_state=666, fit_intercept=False)\n",
    "\n",
    "scores = cross_val_score(estimator, Xn_train, y_train, \n",
    "                         cv=kfold6.split(Xn_train, y_train), scoring=\"accuracy\")\n",
    "\n",
    "scores # cuanto más alto, mejor ajuste de los datos"
   ]
  },
  {
   "cell_type": "markdown",
   "metadata": {},
   "source": [
    "### Medidas de error de clasificación\n",
    "---"
   ]
  },
  {
   "cell_type": "markdown",
   "metadata": {},
   "source": [
    "* **Desviación estándar**"
   ]
  },
  {
   "cell_type": "code",
   "execution_count": 93,
   "metadata": {},
   "outputs": [
    {
     "data": {
      "text/plain": [
       "0.01931528966989634"
      ]
     },
     "execution_count": 93,
     "metadata": {},
     "output_type": "execute_result"
    }
   ],
   "source": [
    "scores.std()"
   ]
  },
  {
   "cell_type": "markdown",
   "metadata": {},
   "source": [
    "* **Porcentaje de acierto medio** "
   ]
  },
  {
   "cell_type": "code",
   "execution_count": 94,
   "metadata": {},
   "outputs": [
    {
     "data": {
      "text/plain": [
       "0.5429776746211529"
      ]
     },
     "execution_count": 94,
     "metadata": {},
     "output_type": "execute_result"
    }
   ],
   "source": [
    "scores.mean()"
   ]
  },
  {
   "cell_type": "markdown",
   "metadata": {},
   "source": [
    "### Evaluación del rendimiento del modelo\n",
    "---"
   ]
  },
  {
   "cell_type": "code",
   "execution_count": 95,
   "metadata": {},
   "outputs": [
    {
     "name": "stdout",
     "output_type": "stream",
     "text": [
      "Acuracidad del modelo: 0.54 (+/- 0.04)\n"
     ]
    }
   ],
   "source": [
    "print(\"Acuracidad del modelo: %0.2f (+/- %0.2f)\" % (scores.mean(), scores.std() * 2))"
   ]
  },
  {
   "cell_type": "markdown",
   "metadata": {},
   "source": [
    "**Conclusión:** menor porcentaje de acierto que realizando la regresión logística. Con este resultado llegamos a que aplicar *cross-validation* en el conjunto de entrenamiento como técnica de evaluación de un modelo de regresión logística no mejora la precisión (medida de acuracidad) alcanzada por el modelo de regresión logística usando la validación simple como técnica de evaluación."
   ]
  },
  {
   "cell_type": "markdown",
   "metadata": {},
   "source": [
    "## Árboles de clasificación: `DecisionTreeClassifier()`\n",
    "----\n",
    "\n",
    "### Definición y entrenamiento de nuestro modelo"
   ]
  },
  {
   "cell_type": "code",
   "execution_count": 96,
   "metadata": {},
   "outputs": [
    {
     "data": {
      "text/plain": [
       "DecisionTreeClassifier(class_weight=None, criterion='gini', max_depth=None,\n",
       "            max_features=None, max_leaf_nodes=None,\n",
       "            min_impurity_decrease=0.0, min_impurity_split=None,\n",
       "            min_samples_leaf=1, min_samples_split=2,\n",
       "            min_weight_fraction_leaf=0.0, presort=False, random_state=666,\n",
       "            splitter='best')"
      ]
     },
     "execution_count": 96,
     "metadata": {},
     "output_type": "execute_result"
    }
   ],
   "source": [
    "from sklearn.tree import DecisionTreeClassifier\n",
    "\n",
    "classifier = DecisionTreeClassifier(random_state=666)\n",
    "\n",
    "classifier = classifier.fit(Xn_train, y_train)\n",
    "classifier"
   ]
  },
  {
   "cell_type": "markdown",
   "metadata": {},
   "source": [
    "### Predicciones en el conjunto test\n",
    "---"
   ]
  },
  {
   "cell_type": "code",
   "execution_count": 97,
   "metadata": {
    "scrolled": true
   },
   "outputs": [
    {
     "data": {
      "text/plain": [
       "array([2, 2, 2, 1, 2, 2, 0, 2, 2, 0, 2, 2, 4, 2, 2, 2, 3, 5, 2, 2, 2, 2,\n",
       "       2, 6, 0, 4, 2, 2, 1, 2, 2, 2, 2, 2, 2, 2, 2, 5, 2, 2, 2, 2, 2, 2,\n",
       "       2, 2, 6, 4, 2, 0, 2, 2, 0, 2, 2, 4, 2, 2, 4, 3, 2, 2, 5, 2, 2, 2,\n",
       "       5, 0, 2, 2, 0, 2, 6, 2, 6, 2, 2, 4, 6, 2, 2, 2, 4, 2, 2, 5, 2, 2,\n",
       "       5, 2, 2, 2, 2, 2, 2, 6, 2, 2, 2, 5, 5, 2, 2, 4, 2, 2, 2, 2, 2, 5,\n",
       "       6, 2, 2, 2, 1, 2, 2, 2, 2, 6, 2, 5, 2, 6, 2, 2, 0, 0, 2, 2, 2, 6,\n",
       "       2, 2, 2, 0, 2, 2, 5, 2, 2, 6, 2, 4, 2, 2, 2, 2, 2, 4, 0, 0, 5, 2,\n",
       "       2, 2, 4, 5, 2, 5, 5, 2, 2, 2, 2, 4, 2, 6, 1, 2, 5, 2, 5, 2, 2, 2,\n",
       "       2, 2, 2, 1, 2, 2, 2, 6, 2, 2, 4, 2, 2, 2, 2, 6, 1, 2, 2, 2, 2, 0,\n",
       "       2, 5, 2, 5, 2, 2, 2, 2, 2, 2, 2, 0, 2, 5, 2, 2, 2, 1, 2, 2, 5, 2,\n",
       "       2, 2, 5, 0, 2, 2, 6, 2, 5, 2, 0, 2, 2, 2, 0, 2, 0, 2, 2, 2, 1, 5,\n",
       "       2, 1, 2, 0, 2, 0, 4, 2, 0, 0, 1, 6, 2, 0, 5, 6, 5, 2, 2, 5, 2, 5,\n",
       "       0, 2, 0, 2, 2, 2, 6, 2, 1, 2, 2, 2, 1, 0, 2, 0, 2, 4, 2, 2, 2, 6,\n",
       "       5, 5, 2, 2, 5, 2, 0, 2, 4, 5, 6, 2, 2, 2, 6, 4, 5, 0, 0, 2, 2, 6,\n",
       "       4, 2, 2, 2, 2, 6, 2, 6, 1, 2, 2, 2, 2, 2, 6, 2, 5, 2, 2, 6, 2, 2,\n",
       "       2, 2, 2, 0, 2, 2, 2, 2, 4, 5, 0, 6, 2, 4, 0, 2, 2, 2, 6, 2, 2, 2,\n",
       "       2, 6, 2, 2, 2, 2, 5, 2, 0, 4, 0, 2, 2, 2, 0, 4, 5, 2, 2, 5, 6, 0,\n",
       "       5, 2, 0, 2, 5, 2, 2, 2, 5, 4, 2, 2, 5, 5, 6, 2, 2, 0, 6, 2, 2, 2,\n",
       "       3, 0, 2, 2, 2, 2, 5, 2, 2, 2, 2, 2, 2, 2, 2, 5, 2, 1, 1, 5, 5, 2,\n",
       "       2, 2, 5, 2, 2, 2, 0, 2, 2, 4, 2, 6, 2, 5, 2, 2, 2, 2, 4, 2, 6, 2,\n",
       "       2, 6, 6, 2, 4, 2, 2, 1, 3, 2, 5, 2, 2, 2, 2, 2, 2, 2, 2, 2, 2, 2,\n",
       "       0, 6, 5, 2, 5, 2, 6, 2, 2, 2, 2, 5, 2, 6, 2, 2, 0, 2, 0, 6, 1, 6,\n",
       "       2, 5, 5, 5, 2, 2, 6, 4, 2, 2, 2, 4, 2, 2, 6, 0, 2, 2, 2, 5, 4, 2,\n",
       "       2, 2, 5, 2, 2, 1, 2, 2, 0, 6, 2, 2, 2, 5, 2, 2, 2, 2, 2, 2, 2, 2,\n",
       "       0, 5, 0, 0, 2, 2, 2, 6, 6, 0, 6, 5, 4, 5, 2, 6, 2, 5, 2, 2, 2, 2,\n",
       "       6, 2, 2, 2, 2, 4, 2, 6, 2, 5, 2, 6, 2, 2, 5, 5, 2, 2, 2, 2, 0, 2,\n",
       "       2, 2, 2, 2, 2, 2, 2, 5, 5, 2, 0, 2, 0, 2, 2, 2, 2, 6, 2, 0, 6, 0,\n",
       "       2, 0, 2, 2, 2, 2, 2, 1, 2, 6, 2, 0, 6, 2, 2, 2, 2, 1, 2, 0, 5, 2,\n",
       "       4, 3, 2, 4, 2, 2, 6, 6, 2, 6, 2, 4, 2, 4, 2, 0, 6, 2, 5, 2, 5, 5,\n",
       "       2, 1, 2, 2, 5, 2, 2, 2, 2, 4, 2, 2, 6, 2, 2, 2, 2, 6, 2, 2, 2, 4,\n",
       "       4, 6, 2, 6, 0, 2, 2, 2, 5, 6, 2, 2, 2, 0, 5, 6, 2, 0, 2, 2, 3, 5,\n",
       "       2, 2, 2, 5, 0, 2, 2, 2, 2, 2, 2, 2, 2, 2, 2, 0, 6, 0, 4, 5, 6, 4,\n",
       "       6, 2, 2, 2, 4, 2, 2, 2, 4, 4, 2, 2, 0, 2, 2, 5, 2, 2, 2, 0, 2, 2,\n",
       "       2, 2, 6, 2, 0, 4, 5, 6, 2, 2, 2, 2, 0, 2, 2, 3, 4, 2, 2, 2, 2, 0,\n",
       "       2, 2, 2, 2, 2, 2, 5, 2, 2, 0, 5, 6, 2, 2, 0, 0, 2, 2, 2, 2, 2, 5,\n",
       "       6, 3, 1, 2, 4, 5, 5, 2, 2, 2, 4, 2, 2, 2, 2, 2, 2, 4, 2, 0, 2, 2,\n",
       "       4, 2, 2, 2, 2, 2, 2, 6, 2, 2, 2, 2, 5, 5, 5, 2, 2, 2, 2, 4, 0, 6,\n",
       "       4, 0, 0, 2, 2, 1, 2, 6, 2, 2, 0, 0, 4, 0, 6, 2, 1, 2, 2, 2, 2, 6,\n",
       "       6, 2, 6, 2, 4, 1, 6, 2, 2, 2, 2, 6, 0, 0, 6, 2, 5, 2, 2, 2, 5, 2,\n",
       "       2, 5, 5, 1, 2, 2, 6, 2, 2, 6, 2, 2, 5, 0, 5, 0, 6, 2, 2, 2, 2, 2,\n",
       "       5, 2, 2, 2, 4, 2, 2, 2, 2, 2, 2, 2, 5, 2, 2, 2, 2, 2, 5, 2, 2, 6,\n",
       "       0, 2, 2])"
      ]
     },
     "execution_count": 97,
     "metadata": {},
     "output_type": "execute_result"
    }
   ],
   "source": [
    "predicciones_arbol = classifier.predict(Xn_test)\n",
    "predicciones_arbol"
   ]
  },
  {
   "cell_type": "markdown",
   "metadata": {},
   "source": [
    "### Tabla de confusión"
   ]
  },
  {
   "cell_type": "markdown",
   "metadata": {},
   "source": [
    "Como hemos visto en el análisis logístico, la tabla de confusión se trata de una herramienta que permite la visualización del desempeño de un algoritmo que se emplea en aprendizaje supervisado. Cada columna de la matriz representa el número de predicciones de cada clase, mientras que cada fila representa a las instancias en la clase real. Así pues, podremos determinar el número total de observaciones que son predichas de manera correcta de manera que, a mayor número de observaciones predichas correctamente, mejor se ajustará nuestro algoritmo a los datos del problema."
   ]
  },
  {
   "cell_type": "code",
   "execution_count": 98,
   "metadata": {},
   "outputs": [
    {
     "data": {
      "text/plain": [
       "array([[  4,   1,  48,   1,   6,   4,  12],\n",
       "       [  3,   4,  15,   0,   2,   3,   1],\n",
       "       [ 42,  16, 388,   2,  31,  34,  44],\n",
       "       [  3,   1,   2,   2,   2,   3,   1],\n",
       "       [  8,   0,  27,   2,   5,   3,   3],\n",
       "       [ 16,   3,  33,   1,   2,  41,   5],\n",
       "       [  9,   1,  36,   0,   6,   9,  20]], dtype=int64)"
      ]
     },
     "execution_count": 98,
     "metadata": {},
     "output_type": "execute_result"
    }
   ],
   "source": [
    "confusion_matrix(y_test, predicciones_arbol)"
   ]
  },
  {
   "cell_type": "code",
   "execution_count": 99,
   "metadata": {},
   "outputs": [
    {
     "data": {
      "text/plain": [
       "464"
      ]
     },
     "execution_count": 99,
     "metadata": {},
     "output_type": "execute_result"
    }
   ],
   "source": [
    "elem_correctos_arbol = [confusion_matrix(y_test, predicciones_arbol)[i,i] \n",
    "                      for i in range(confusion_matrix(y_test, predicciones_arbol).shape[0])]\n",
    "\n",
    "sum(elem_correctos_arbol)"
   ]
  },
  {
   "cell_type": "markdown",
   "metadata": {},
   "source": [
    "**Comentario:** atendiendo al resultado obtenido vemos que el número de observaciones seleccionadas correctamente, es decir, el número de observaciones tales que el valor observado (subcategoría) y el predicho coinciden es inferior al obtenido en el algoritmo logístico anterior (575 observaciones clasificadas correctamente). Así pues, veremos como el porcentaje de acierto es inferior en este modelo que en el anterior."
   ]
  },
  {
   "cell_type": "markdown",
   "metadata": {},
   "source": [
    "### Evaluación del modelo\n",
    "---\n",
    "De manera análoga a lo realizado en el modelo Logístico, una forma de conocer cómo de bueno es nuestro modelo es observar la fracción de predicciones correctas realizadas por el mismo. Dicho resultado, que nos proporciona una forma para determinar la bondad de ajuste de nuestro modelo, podemos obtenerlo mediante dos formas:\n",
    "1. recurriendo a la función *accuracy_score* del módulo *sklearn.metrics* obteniendo así la acuracidad obtenida (bondad de ajuste, precisión del modelo) aplicando el módelo de árboles de clasificación.\n",
    "2. usando el objeto creado por el algoritmo de árboles de clasificacióny aplicarle la función *score()* para así determinar con qué frecuencia el clasificador es correcto."
   ]
  },
  {
   "cell_type": "code",
   "execution_count": 100,
   "metadata": {},
   "outputs": [
    {
     "data": {
      "text/plain": [
       "0.512707182320442"
      ]
     },
     "execution_count": 100,
     "metadata": {},
     "output_type": "execute_result"
    }
   ],
   "source": [
    "accuracy_score(y_test, predicciones_arbol)"
   ]
  },
  {
   "cell_type": "markdown",
   "metadata": {},
   "source": [
    "O, de manera equivalente:"
   ]
  },
  {
   "cell_type": "code",
   "execution_count": 101,
   "metadata": {},
   "outputs": [
    {
     "data": {
      "text/plain": [
       "0.512707182320442"
      ]
     },
     "execution_count": 101,
     "metadata": {},
     "output_type": "execute_result"
    }
   ],
   "source": [
    "classifier.score(Xn_test, y_test)"
   ]
  },
  {
   "cell_type": "markdown",
   "metadata": {},
   "source": [
    "**Conclusión:** a partir del resultado obtenido vemos que nuestro algoritmo no es muy fiable pues el porcentaje de acierto en el conjunto test es del $51.27\\%$. A continuación veremos otro algoritmo de aprendizaje automático conocido como **Random Forest** que va a obtener una medida de bondad de ajuste mejor que la obtenida en el modelo de árboles de clasificación y que se basa en la construcción de una gran cantidad de éstos. Con este nuevo algoritmo obtendremos una mejora en el resultado predictivo, sin embargo, al contar con una gran cantidad de árboles, la interpretación alcanzada será peor que si contaramos con un único árbol de clasificación."
   ]
  },
  {
   "cell_type": "markdown",
   "metadata": {},
   "source": [
    "## Random Forest: `RandomForestClassifier()`\n",
    "---\n",
    "Random Forest es un algoritmo predictivo que usa la técnica de *bagging* para combinar diferentes arboles, donde cada árbol es construido con observaciones y variables aleatorias.\n",
    "\n",
    "En forma resumida sigue este proceso:\n",
    "\n",
    "1. Selecciona individuos al azar (usando muestreo con reemplazo) para crear diferentes set de datos.\n",
    "2. Crea un árbol de decisión con cada set de datos, obteniendo diferentes arboles, ya que cada set contiene diferentes individuos y diferentes variables en cada nodo.\n",
    "3. Al crear los arboles se eligen variables al azar en cada nodo del arbol, dejando crecer el arbol en profundidad (es decir, sin podar).\n",
    "4. Predice los nuevos datos usando el \"voto mayoritario\", es decir, la clase más frecuente (o común) a lo largo de los diferentes árboles.\n",
    "\n",
    "En cuanto a la técnica de evaluación del modelo creado a lo largo de este trabajo llevaremos a cabo tres modelos RandomForest obteniendo una medida de acuracidad media distinta en cada caso:\n",
    "\n",
    "- Random Forest usando la técnica de evaluación de cross-validation sobre el conjunto de aprendizaje\n",
    "- Random Forest usando el proceso Grid Search para optimizar los parámetros del modelo tomados\n",
    "- Random Forest usando la técnica de evaluación simple (método H (holdout) o training-test)"
   ]
  },
  {
   "cell_type": "markdown",
   "metadata": {},
   "source": [
    "## RF: Validación cruzada\n",
    "---"
   ]
  },
  {
   "cell_type": "code",
   "execution_count": 102,
   "metadata": {},
   "outputs": [],
   "source": [
    "from sklearn.ensemble import RandomForestClassifier"
   ]
  },
  {
   "cell_type": "markdown",
   "metadata": {},
   "source": [
    "### Entrenamos el algoritmo y obtenemos el porcentaje de ajuste en cada árbol (pliegue)\n",
    "---"
   ]
  },
  {
   "cell_type": "code",
   "execution_count": 103,
   "metadata": {},
   "outputs": [
    {
     "name": "stderr",
     "output_type": "stream",
     "text": [
      "C:\\Users\\Javi\\Anaconda3\\lib\\site-packages\\sklearn\\ensemble\\forest.py:246: FutureWarning: The default value of n_estimators will change from 10 in version 0.20 to 100 in 0.22.\n",
      "  \"10 in version 0.20 to 100 in 0.22.\", FutureWarning)\n",
      "C:\\Users\\Javi\\Anaconda3\\lib\\site-packages\\sklearn\\ensemble\\forest.py:246: FutureWarning: The default value of n_estimators will change from 10 in version 0.20 to 100 in 0.22.\n",
      "  \"10 in version 0.20 to 100 in 0.22.\", FutureWarning)\n",
      "C:\\Users\\Javi\\Anaconda3\\lib\\site-packages\\sklearn\\ensemble\\forest.py:246: FutureWarning: The default value of n_estimators will change from 10 in version 0.20 to 100 in 0.22.\n",
      "  \"10 in version 0.20 to 100 in 0.22.\", FutureWarning)\n",
      "C:\\Users\\Javi\\Anaconda3\\lib\\site-packages\\sklearn\\ensemble\\forest.py:246: FutureWarning: The default value of n_estimators will change from 10 in version 0.20 to 100 in 0.22.\n",
      "  \"10 in version 0.20 to 100 in 0.22.\", FutureWarning)\n",
      "C:\\Users\\Javi\\Anaconda3\\lib\\site-packages\\sklearn\\ensemble\\forest.py:246: FutureWarning: The default value of n_estimators will change from 10 in version 0.20 to 100 in 0.22.\n",
      "  \"10 in version 0.20 to 100 in 0.22.\", FutureWarning)\n",
      "C:\\Users\\Javi\\Anaconda3\\lib\\site-packages\\sklearn\\ensemble\\forest.py:246: FutureWarning: The default value of n_estimators will change from 10 in version 0.20 to 100 in 0.22.\n",
      "  \"10 in version 0.20 to 100 in 0.22.\", FutureWarning)\n"
     ]
    },
    {
     "data": {
      "text/plain": [
       "array([0.66478873, 0.65915493, 0.65439093, 0.65625   , 0.68965517,\n",
       "       0.67528736])"
      ]
     },
     "execution_count": 103,
     "metadata": {},
     "output_type": "execute_result"
    }
   ],
   "source": [
    "estimador_rf = RandomForestClassifier(random_state=666, \n",
    "                                      max_depth=5, \n",
    "                                      criterion='entropy',\n",
    "                                      min_samples_split=6,\n",
    "                                      min_samples_leaf=3)\n",
    "\n",
    "scores_rf = cross_val_score(estimador_rf,\n",
    "                            Xn_train, y_train, \n",
    "                            cv=kfold6.split(Xn_train, y_train), scoring=\"accuracy\")\n",
    "\n",
    "scores_rf"
   ]
  },
  {
   "cell_type": "markdown",
   "metadata": {},
   "source": [
    "### Porcentaje medio de acierto del modelo\n",
    "---"
   ]
  },
  {
   "cell_type": "code",
   "execution_count": 104,
   "metadata": {},
   "outputs": [
    {
     "data": {
      "text/plain": [
       "0.6665878542586093"
      ]
     },
     "execution_count": 104,
     "metadata": {},
     "output_type": "execute_result"
    }
   ],
   "source": [
    "scores_rf.mean()"
   ]
  },
  {
   "cell_type": "markdown",
   "metadata": {},
   "source": [
    "### Medida de acuracidad del modelo (mismo resultado que lo anterior)\n",
    "---"
   ]
  },
  {
   "cell_type": "code",
   "execution_count": 105,
   "metadata": {},
   "outputs": [
    {
     "name": "stdout",
     "output_type": "stream",
     "text": [
      "Acuracidad del modelo: 0.67 (+/- 0.02)\n"
     ]
    }
   ],
   "source": [
    "print(\"Acuracidad del modelo: %0.2f (+/- %0.2f)\" % (scores_rf.mean(), scores_rf.std() * 2))"
   ]
  },
  {
   "cell_type": "markdown",
   "metadata": {},
   "source": [
    "**Conclusión:** se obtiene un mejor ajuste de los datos alcanzando una tasa de clasificación correcta (o de bondad de ajuste) del $67\\%$ en relación a la regresión logística donde obteníamos un $63\\%$."
   ]
  },
  {
   "cell_type": "markdown",
   "metadata": {},
   "source": [
    "## Optimización de parámetros con Grid Search\n",
    "---\n",
    "La mayoría de los modelos de Machine Learning cuentan con varios parámetros para ajustar su comportamiento, por lo tanto una alternativa que tenemos para reducir el *sobreajuste* es optimizar estos parámetros por medio de un proceso conocido como **grid search** e intentar encontrar la combinación ideal que nos proporcione mayor precisión. \n",
    "\n",
    "Se trata de una búsqueda exhaustiva por el paradigma de fuerza bruta en el que se especifica una lista de valores para diferentes parámetros, y la computadora evalúa el rendimiento del modelo para cada combinación de éstos parámetros para obtener el conjunto óptimo que nos brinda el mayor rendimiento.\n",
    "\n",
    "A continuación vermos un ejemplo utilizando un el modelo RandomForest con validación cruzada expuesto anteriormente donde el conjunto de parámetros a evaluar son los siguientes: *min_samples_split*, *min_samples_leaf*, *criterion*, *max_depth* y *n_estimators*, indicandonos por ejemplo, *min_samples_split* que si se llega a un subconjunto de tal número de muestras no sigamos dividiendo y *n_estimators* el número de árboles en cada proceso (a medida que aumentemos dicho parámetro aumentará la precisión de la clasificación pero perderemos en interpretación y el tiempo de funcionamiento será mayor, por lo que, en función de como de mayor sea el aumento será aconsejable considerar un número mayor o menor de árboles).\n",
    "\n",
    "Tomamos la variable predictora que mejor predice la respuesta, buscamos el corte que mejor divida los datos dando lugar a dos subconjuntos de datos. Luego, determinamos el mejor atributo y el mejor corte para dividir cada \n",
    "subconjunto de datos."
   ]
  },
  {
   "cell_type": "code",
   "execution_count": 106,
   "metadata": {},
   "outputs": [],
   "source": [
    "from sklearn.model_selection import GridSearchCV"
   ]
  },
  {
   "cell_type": "markdown",
   "metadata": {},
   "source": [
    "### Entrenamos el algoritmo para cada uno de los casos posibles (i.e, todas las combinaciones posibles de los parámetros)\n",
    "---"
   ]
  },
  {
   "cell_type": "code",
   "execution_count": 107,
   "metadata": {},
   "outputs": [
    {
     "data": {
      "text/plain": [
       "GridSearchCV(cv=<generator object _BaseKFold.split at 0x0000014EB4696B10>,\n",
       "       error_score='raise-deprecating',\n",
       "       estimator=RandomForestClassifier(bootstrap=True, class_weight=None, criterion='entropy',\n",
       "            max_depth=5, max_features='auto', max_leaf_nodes=None,\n",
       "            min_impurity_decrease=0.0, min_impurity_split=None,\n",
       "            min_samples_leaf=3, min_samples_split=6,\n",
       "            min_weight_fraction_leaf=0.0, n_estimators='warn', n_jobs=None,\n",
       "            oob_score=False, random_state=666, verbose=0, warm_start=False),\n",
       "       fit_params=None, iid='warn', n_jobs=None,\n",
       "       param_grid={'min_samples_split': [2, 4, 8, 12], 'min_samples_leaf': [2, 4, 6], 'criterion': ['gini', 'entropy'], 'max_depth': [5, 8, 12, 24], 'n_estimators': [10, 50, 100]},\n",
       "       pre_dispatch='2*n_jobs', refit=True, return_train_score='warn',\n",
       "       scoring='accuracy', verbose=0)"
      ]
     },
     "execution_count": 107,
     "metadata": {},
     "output_type": "execute_result"
    }
   ],
   "source": [
    "params = {\n",
    "        'min_samples_split': [2,4,8,12],\n",
    "        'min_samples_leaf': [2,4,6],\n",
    "        'criterion': ['gini', 'entropy'],\n",
    "        'max_depth': [5,8,12,24],\n",
    "        'n_estimators': [10,50,100],\n",
    "        }\n",
    "\n",
    "gs = GridSearchCV(estimador_rf, params, refit=True, cv=kfold6.split(Xn_train, y_train), scoring=\"accuracy\")\n",
    "\n",
    "gs.fit(Xn_train, y_train)"
   ]
  },
  {
   "cell_type": "markdown",
   "metadata": {},
   "source": [
    "### Bondad de ajuste (fracción de las predicciones correctas) de la mejor combinación de parámetros\n",
    "---"
   ]
  },
  {
   "cell_type": "code",
   "execution_count": 108,
   "metadata": {},
   "outputs": [
    {
     "name": "stdout",
     "output_type": "stream",
     "text": [
      "Acuracidad del modelo: 0.6830885836096636\n"
     ]
    }
   ],
   "source": [
    "print(\"Acuracidad del modelo:\", gs.best_score_)"
   ]
  },
  {
   "cell_type": "markdown",
   "metadata": {},
   "source": [
    "**Conclusión:** aplicar el proceso Grid Search al modelo RandomForest proporciona el mejor ajuste de los datos. Vemos como la precisión en este caso, es decir, la fracción de las predicciones correctas, es superior a la acuracidad obtenida en el modelo RandomForest sin aplicar este proceso de optimización. Este resultado era de preveer pues con este método lo que conseguimos es la mejor combinación de los parámetros que definen un modelo RandomForest."
   ]
  },
  {
   "cell_type": "markdown",
   "metadata": {},
   "source": [
    "### ¿Cuál es la mejor combinación de los parámetros que nos proporciona una mayor precisión?\n",
    "---"
   ]
  },
  {
   "cell_type": "code",
   "execution_count": 109,
   "metadata": {},
   "outputs": [
    {
     "data": {
      "text/plain": [
       "{'criterion': 'gini',\n",
       " 'max_depth': 12,\n",
       " 'min_samples_leaf': 2,\n",
       " 'min_samples_split': 2,\n",
       " 'n_estimators': 100}"
      ]
     },
     "execution_count": 109,
     "metadata": {},
     "output_type": "execute_result"
    }
   ],
   "source": [
    "gs.best_params_"
   ]
  },
  {
   "cell_type": "markdown",
   "metadata": {},
   "source": [
    "Así pues, el modelo RandomForest (usando validación cruzada) que me proporciona un mejor ajuste de datos es el que tiene los siguientes parámetros:\n",
    "\n",
    "- *min_samples_split*: 2\n",
    "- *min_samples_leaf*: 2\n",
    "- *criterion*: 'gini'\n",
    "- *max_depth*: 12\n",
    "- *n_estimators*: 100"
   ]
  },
  {
   "cell_type": "code",
   "execution_count": 110,
   "metadata": {},
   "outputs": [
    {
     "data": {
      "text/plain": [
       "RandomForestClassifier(bootstrap=True, class_weight=None, criterion='gini',\n",
       "            max_depth=12, max_features='auto', max_leaf_nodes=None,\n",
       "            min_impurity_decrease=0.0, min_impurity_split=None,\n",
       "            min_samples_leaf=2, min_samples_split=2,\n",
       "            min_weight_fraction_leaf=0.0, n_estimators=100, n_jobs=None,\n",
       "            oob_score=False, random_state=666, verbose=0, warm_start=False)"
      ]
     },
     "execution_count": 110,
     "metadata": {},
     "output_type": "execute_result"
    }
   ],
   "source": [
    "gs.best_estimator_"
   ]
  },
  {
   "cell_type": "markdown",
   "metadata": {},
   "source": [
    "### Precisión del modelo (medida de 'acuracidad')\n",
    "---"
   ]
  },
  {
   "cell_type": "code",
   "execution_count": 111,
   "metadata": {},
   "outputs": [
    {
     "name": "stdout",
     "output_type": "stream",
     "text": [
      "Acuracidad del modelo: 0.68 (+/- 0.00)\n"
     ]
    }
   ],
   "source": [
    "print(\"Acuracidad del modelo: %0.2f (+/- %0.2f)\" % (gs.best_score_.mean(), gs.best_score_.std() * 2))"
   ]
  },
  {
   "cell_type": "markdown",
   "metadata": {},
   "source": [
    "**Conclusión:** coincide con el resultado anterior pues hemos tomado el  RandomForest con la elección de los valores de los parámetros con el que se obtiene un mayor porcentaje de acuracidad del modelo. El porcentaje de acuracidad del modelo es del $68\\%$."
   ]
  },
  {
   "cell_type": "markdown",
   "metadata": {},
   "source": [
    "### Importancia de las variables\n",
    "---"
   ]
  },
  {
   "cell_type": "code",
   "execution_count": 112,
   "metadata": {},
   "outputs": [
    {
     "data": {
      "text/plain": [
       "array([0.12427363, 0.18312322, 0.32308666, 0.36951649])"
      ]
     },
     "execution_count": 112,
     "metadata": {},
     "output_type": "execute_result"
    }
   ],
   "source": [
    "gs.best_estimator_.feature_importances_"
   ]
  },
  {
   "cell_type": "markdown",
   "metadata": {},
   "source": [
    "**Comentario:** observamos que la cuarta variable (*mean_bids*) es la variable con mayor influencia en el modelo."
   ]
  },
  {
   "cell_type": "markdown",
   "metadata": {},
   "source": [
    "## Random Forest con validación simple\n",
    "---\n",
    "A lo largo de nuestro trabajo, hemos empleado algunos algoritmos mediante la función `RandomForestClassifier()`: en primer lugar, construimos el objeto fijando unos valores de los parámetros y, a través de validación cruzada, evaluamos la predicción de dicho modelo, obteniendo una acuracidad media (bondad de ajuste de nuestro modelo) del  67% .\n",
    "\n",
    "Posteriormente, mediante la función GridSearchCV realizabamos un proceso de optimización de dichos parámetros para así obtener la mejor combinación posibles de ellos. Veíamos como a partir de estos parámetros obteníamos una bondad de ajuste superior a la obtenida en el modelo RandomForest usando validación cruzada como técnica de evaluación del modelo.\n",
    "\n",
    "Pues bien, a continuación mostramos un modelo de RandomForest pero usaremos la partición en conjuntos test y conjuntos de aprendizaje efectuada por la función *train_test_split* para efectuar la evaluación de nuestro modelo, es lo que se conoce como Método H (holdout) o Training-Test."
   ]
  },
  {
   "cell_type": "markdown",
   "metadata": {},
   "source": [
    "### Definición y entrenamiento de nuestro modelo\n",
    "---\n",
    "Consideraremos los valores de los parámetros que la función *GridSearch()* proporcionaba como mejor combinación lineal posible para así poder realizar una comparación entre el modelo RandomForest usando validación simple y el modelo RandomForest usando validación cruzada creado anteriormente."
   ]
  },
  {
   "cell_type": "code",
   "execution_count": 113,
   "metadata": {},
   "outputs": [
    {
     "data": {
      "text/plain": [
       "RandomForestClassifier(bootstrap=True, class_weight=None, criterion='gini',\n",
       "            max_depth=12, max_features='auto', max_leaf_nodes=None,\n",
       "            min_impurity_decrease=0.0, min_impurity_split=None,\n",
       "            min_samples_leaf=2, min_samples_split=2,\n",
       "            min_weight_fraction_leaf=0.0, n_estimators=100, n_jobs=None,\n",
       "            oob_score=False, random_state=666, verbose=0, warm_start=False)"
      ]
     },
     "execution_count": 113,
     "metadata": {},
     "output_type": "execute_result"
    }
   ],
   "source": [
    "clf=RandomForestClassifier(random_state = 666, \n",
    "                           min_samples_split = 2, \n",
    "                           min_samples_leaf = 2, \n",
    "                           criterion = 'gini', \n",
    "                           max_depth = 12, \n",
    "                           n_estimators=100)\n",
    "\n",
    "clf.fit(Xn_train,y_train)"
   ]
  },
  {
   "cell_type": "markdown",
   "metadata": {},
   "source": [
    "### Realizamos las predicciones en el conjunto de prueba\n",
    "---"
   ]
  },
  {
   "cell_type": "code",
   "execution_count": 114,
   "metadata": {},
   "outputs": [
    {
     "data": {
      "text/plain": [
       "array([2, 2, 2, 2, 2, 2, 5, 2, 2, 2, 2, 2, 4, 2, 2, 2, 2, 5, 2, 2, 2, 2,\n",
       "       2, 2, 5, 2, 2, 2, 2, 2, 2, 2, 2, 2, 2, 2, 2, 2, 2, 2, 2, 2, 2, 2,\n",
       "       2, 2, 5, 2, 0, 2, 2, 2, 2, 2, 2, 4, 2, 2, 2, 2, 2, 2, 2, 2, 2, 0,\n",
       "       2, 6, 2, 2, 2, 2, 2, 2, 2, 2, 2, 0, 2, 2, 2, 2, 2, 2, 2, 5, 2, 2,\n",
       "       5, 2, 2, 2, 2, 2, 2, 6, 2, 2, 2, 2, 5, 5, 2, 2, 2, 2, 2, 2, 2, 5,\n",
       "       2, 2, 2, 2, 2, 2, 2, 2, 2, 2, 2, 2, 2, 2, 2, 2, 2, 0, 2, 2, 2, 6,\n",
       "       5, 2, 2, 2, 2, 2, 5, 5, 2, 2, 2, 2, 2, 2, 2, 2, 2, 5, 2, 2, 2, 2,\n",
       "       2, 2, 2, 5, 2, 2, 5, 2, 2, 2, 2, 2, 2, 2, 2, 2, 2, 2, 2, 2, 2, 2,\n",
       "       2, 2, 2, 2, 2, 2, 2, 5, 2, 2, 2, 2, 2, 2, 2, 5, 2, 2, 2, 2, 2, 2,\n",
       "       2, 2, 2, 5, 2, 2, 2, 2, 2, 2, 2, 2, 2, 5, 2, 2, 2, 2, 2, 2, 2, 2,\n",
       "       2, 2, 5, 2, 2, 2, 2, 2, 5, 2, 2, 2, 2, 2, 2, 2, 2, 2, 2, 2, 2, 2,\n",
       "       2, 2, 2, 2, 2, 2, 4, 2, 2, 2, 2, 2, 2, 5, 5, 2, 0, 2, 2, 5, 2, 5,\n",
       "       2, 2, 2, 2, 2, 2, 6, 2, 2, 2, 2, 2, 2, 6, 2, 2, 2, 2, 2, 2, 2, 2,\n",
       "       2, 2, 2, 2, 2, 2, 2, 2, 4, 5, 2, 2, 2, 2, 2, 2, 2, 2, 5, 2, 2, 2,\n",
       "       2, 2, 2, 2, 2, 2, 2, 2, 2, 2, 2, 2, 2, 2, 2, 2, 2, 2, 2, 2, 2, 2,\n",
       "       2, 2, 2, 2, 2, 2, 2, 2, 6, 2, 2, 2, 2, 2, 0, 2, 2, 2, 6, 2, 2, 2,\n",
       "       2, 6, 2, 2, 2, 2, 2, 2, 0, 2, 5, 2, 2, 2, 5, 4, 5, 2, 2, 5, 6, 2,\n",
       "       5, 2, 2, 2, 5, 2, 2, 2, 5, 2, 2, 2, 5, 2, 2, 2, 2, 5, 2, 2, 2, 2,\n",
       "       2, 5, 2, 2, 2, 2, 2, 2, 2, 2, 2, 2, 2, 2, 2, 5, 2, 2, 2, 5, 5, 2,\n",
       "       5, 2, 6, 2, 2, 2, 2, 0, 2, 2, 2, 2, 2, 5, 2, 2, 2, 2, 6, 2, 6, 2,\n",
       "       2, 2, 6, 2, 4, 2, 2, 2, 0, 2, 2, 2, 2, 2, 2, 2, 2, 2, 2, 2, 2, 2,\n",
       "       5, 2, 5, 2, 5, 2, 2, 2, 2, 2, 2, 5, 2, 2, 2, 2, 5, 2, 2, 2, 2, 6,\n",
       "       2, 0, 5, 5, 2, 2, 2, 6, 2, 2, 2, 2, 2, 2, 2, 2, 2, 2, 2, 5, 2, 2,\n",
       "       2, 2, 2, 2, 2, 2, 2, 2, 2, 6, 2, 2, 2, 5, 2, 2, 2, 2, 2, 2, 2, 2,\n",
       "       2, 2, 2, 2, 2, 2, 2, 2, 2, 2, 2, 5, 2, 5, 2, 6, 2, 2, 2, 2, 2, 2,\n",
       "       2, 2, 2, 2, 2, 2, 2, 5, 2, 5, 2, 2, 2, 2, 2, 6, 2, 5, 2, 2, 2, 2,\n",
       "       2, 2, 2, 2, 2, 2, 2, 2, 2, 2, 0, 2, 2, 2, 2, 2, 2, 2, 2, 2, 2, 2,\n",
       "       2, 2, 2, 2, 2, 2, 2, 2, 2, 2, 2, 5, 2, 2, 5, 2, 2, 2, 2, 5, 2, 2,\n",
       "       2, 2, 2, 2, 2, 2, 2, 2, 2, 2, 2, 2, 2, 4, 2, 5, 4, 2, 5, 2, 5, 5,\n",
       "       2, 2, 2, 2, 2, 2, 2, 2, 2, 2, 2, 2, 2, 2, 5, 2, 2, 2, 2, 2, 2, 2,\n",
       "       2, 2, 2, 2, 2, 2, 2, 2, 5, 5, 2, 2, 2, 2, 2, 0, 2, 5, 2, 2, 2, 0,\n",
       "       2, 2, 2, 5, 0, 2, 2, 2, 4, 2, 2, 2, 2, 2, 2, 2, 2, 2, 2, 2, 6, 2,\n",
       "       2, 2, 2, 2, 2, 2, 2, 5, 6, 2, 2, 2, 0, 2, 2, 5, 2, 2, 2, 2, 0, 2,\n",
       "       2, 2, 2, 2, 5, 2, 2, 2, 2, 2, 2, 2, 2, 2, 2, 2, 2, 2, 2, 2, 2, 2,\n",
       "       2, 2, 2, 2, 2, 2, 2, 2, 2, 0, 2, 2, 2, 2, 2, 0, 2, 2, 2, 2, 2, 5,\n",
       "       2, 2, 2, 2, 2, 2, 2, 2, 2, 2, 2, 2, 2, 2, 2, 2, 2, 2, 2, 2, 2, 2,\n",
       "       2, 2, 0, 2, 2, 2, 2, 2, 2, 2, 2, 2, 2, 2, 5, 2, 2, 2, 2, 2, 2, 2,\n",
       "       2, 5, 5, 2, 2, 2, 2, 2, 2, 2, 0, 2, 0, 2, 2, 2, 2, 2, 2, 2, 2, 2,\n",
       "       2, 2, 6, 2, 2, 2, 2, 2, 2, 2, 2, 2, 2, 0, 2, 2, 2, 2, 2, 2, 5, 2,\n",
       "       2, 2, 5, 2, 2, 2, 2, 2, 2, 2, 2, 2, 2, 2, 5, 2, 2, 2, 0, 2, 2, 2,\n",
       "       2, 4, 2, 2, 0, 2, 2, 2, 2, 2, 2, 2, 4, 2, 2, 2, 2, 2, 2, 2, 2, 5,\n",
       "       2, 2, 2])"
      ]
     },
     "execution_count": 114,
     "metadata": {},
     "output_type": "execute_result"
    }
   ],
   "source": [
    "y_pred_cf = clf.predict(Xn_test)\n",
    "y_pred_cf"
   ]
  },
  {
   "cell_type": "markdown",
   "metadata": {},
   "source": [
    "### Evaluación del modelo\n",
    "---\n",
    "Para el cálculo de la precisión de nuestro modelo importamos el módulo `scikit-learn metrics`."
   ]
  },
  {
   "cell_type": "code",
   "execution_count": 115,
   "metadata": {},
   "outputs": [
    {
     "name": "stdout",
     "output_type": "stream",
     "text": [
      "Accuracidad del modelo: 0.6530386740331492\n"
     ]
    }
   ],
   "source": [
    "from sklearn import metrics\n",
    "print(\"Accuracidad del modelo:\", metrics.accuracy_score(y_test, y_pred_cf))"
   ]
  },
  {
   "cell_type": "markdown",
   "metadata": {},
   "source": [
    "Otra forma de ver la fracción de predicciones correctas, dicho de otro modo, conocer con qué frecuencia el clasificador es correcto, es recurriendo a la función *score()*:"
   ]
  },
  {
   "cell_type": "code",
   "execution_count": 116,
   "metadata": {},
   "outputs": [
    {
     "data": {
      "text/plain": [
       "0.6530386740331492"
      ]
     },
     "execution_count": 116,
     "metadata": {},
     "output_type": "execute_result"
    }
   ],
   "source": [
    "clf.score(Xn_test, y_test)"
   ]
  },
  {
   "cell_type": "markdown",
   "metadata": {},
   "source": [
    "### Clasificación de un nuevo individuo\n",
    "---"
   ]
  },
  {
   "cell_type": "code",
   "execution_count": 117,
   "metadata": {},
   "outputs": [
    {
     "data": {
      "text/plain": [
       "array([6])"
      ]
     },
     "execution_count": 117,
     "metadata": {},
     "output_type": "execute_result"
    }
   ],
   "source": [
    "clf.predict([[22, 97, 36, 25]])"
   ]
  },
  {
   "cell_type": "markdown",
   "metadata": {},
   "source": [
    "**Comentario:** de manera análoga a la regresión logística, nuestro clasificador nos dice que el producto pertenece a la subcategoría \"Silver & Gold\" (6)."
   ]
  },
  {
   "cell_type": "markdown",
   "metadata": {},
   "source": [
    "### Importancia de nuestras variables regresoras en el modelo\n",
    "---"
   ]
  },
  {
   "cell_type": "code",
   "execution_count": 118,
   "metadata": {},
   "outputs": [
    {
     "data": {
      "text/plain": [
       "mean_bids           0.369516\n",
       "supplier_votes      0.323087\n",
       "supplier_score      0.183123\n",
       "supplier_country    0.124274\n",
       "dtype: float64"
      ]
     },
     "execution_count": 118,
     "metadata": {},
     "output_type": "execute_result"
    }
   ],
   "source": [
    "index_values = ['supplier_country', 'supplier_score', 'supplier_votes', 'mean_bids']\n",
    "feature_imp = pd.Series(clf.feature_importances_, index=index_values).sort_values(ascending=False)\n",
    "feature_imp"
   ]
  },
  {
   "cell_type": "markdown",
   "metadata": {},
   "source": [
    " Tal y como observabamos anteriormente, la variable *mean_bids* es la variable más influyente en nuestro modelo."
   ]
  },
  {
   "cell_type": "markdown",
   "metadata": {},
   "source": [
    "* **Visualización gráfica**"
   ]
  },
  {
   "cell_type": "code",
   "execution_count": 119,
   "metadata": {},
   "outputs": [
    {
     "data": {
      "image/png": "[encoded data removed]",
      "text/plain": [
       "<Figure size 432x288 with 1 Axes>"
      ]
     },
     "metadata": {
      "needs_background": "light"
     },
     "output_type": "display_data"
    }
   ],
   "source": [
    "sns.barplot(x = feature_imp, y = feature_imp.index)\n",
    "\n",
    "plt.xlabel('Importancia en el modelo')\n",
    "plt.ylabel('Variables explicativas')\n",
    "plt.title(\"¿Qué variable tiene mayor influencia en nuestro modelo?\")\n",
    "plt.show()"
   ]
  },
  {
   "cell_type": "markdown",
   "metadata": {},
   "source": [
    "# Técnica del vecino más cercano: `KNeighborsClassifier()`\n",
    "---"
   ]
  },
  {
   "cell_type": "markdown",
   "metadata": {},
   "source": [
    "**Objetivo.** Dado un conjunto de entrenamiento (vectores numéricos con una categoría asignada) y un ejemplo nuevo devolver la categoría mayoritaria en los *k* ejemplos del conjunto de entrenamiento más cercanos al ejemplo que se quiere clasificar."
   ]
  },
  {
   "cell_type": "code",
   "execution_count": 120,
   "metadata": {},
   "outputs": [],
   "source": [
    "from sklearn.neighbors import KNeighborsClassifier"
   ]
  },
  {
   "cell_type": "markdown",
   "metadata": {},
   "source": [
    "## Definición y entrenamiento de nuestro modelo\n",
    "---"
   ]
  },
  {
   "cell_type": "code",
   "execution_count": 121,
   "metadata": {},
   "outputs": [
    {
     "data": {
      "text/plain": [
       "KNeighborsClassifier(algorithm='auto', leaf_size=30, metric='minkowski',\n",
       "           metric_params=None, n_jobs=None, n_neighbors=5, p=2,\n",
       "           weights='uniform')"
      ]
     },
     "execution_count": 121,
     "metadata": {},
     "output_type": "execute_result"
    }
   ],
   "source": [
    "knn = KNeighborsClassifier()\n",
    "\n",
    "knn.fit(Xn_train, y_train)"
   ]
  },
  {
   "cell_type": "markdown",
   "metadata": {},
   "source": [
    "El algoritmo toma $n\\_neighbors=5$ como número de vecinos y la distancia de minkowski usada es la de parámetro 2 ($p=2$) $\\rightarrow$ distancia euclídea."
   ]
  },
  {
   "cell_type": "markdown",
   "metadata": {},
   "source": [
    "### Predicciones\n",
    "---"
   ]
  },
  {
   "cell_type": "code",
   "execution_count": 122,
   "metadata": {},
   "outputs": [
    {
     "data": {
      "text/plain": [
       "array([2, 2, 2, 2, 2, 2, 5, 2, 2, 0, 2, 0, 2, 2, 2, 2, 2, 5, 2, 4, 2, 2,\n",
       "       2, 2, 5, 0, 2, 2, 5, 2, 2, 2, 2, 2, 2, 2, 2, 2, 2, 2, 2, 2, 2, 4,\n",
       "       2, 2, 5, 2, 0, 2, 2, 2, 2, 2, 2, 4, 2, 2, 2, 2, 2, 6, 2, 2, 2, 4,\n",
       "       2, 6, 2, 6, 0, 2, 2, 2, 2, 2, 2, 0, 2, 2, 2, 2, 4, 2, 2, 5, 2, 2,\n",
       "       5, 2, 2, 2, 2, 5, 2, 6, 2, 2, 2, 2, 2, 5, 2, 2, 2, 2, 2, 2, 2, 5,\n",
       "       5, 2, 2, 2, 1, 5, 0, 2, 2, 2, 2, 2, 2, 2, 2, 2, 0, 2, 2, 2, 2, 6,\n",
       "       2, 2, 2, 2, 2, 2, 2, 5, 2, 0, 2, 2, 2, 2, 2, 2, 2, 0, 2, 2, 2, 2,\n",
       "       2, 2, 2, 5, 5, 2, 5, 2, 2, 2, 2, 4, 2, 6, 2, 2, 0, 2, 2, 2, 2, 2,\n",
       "       2, 2, 2, 2, 2, 2, 2, 5, 2, 2, 2, 2, 2, 2, 0, 2, 2, 2, 2, 2, 2, 2,\n",
       "       2, 2, 2, 5, 2, 2, 2, 2, 2, 2, 2, 2, 2, 5, 6, 2, 2, 2, 2, 2, 2, 2,\n",
       "       0, 2, 5, 2, 0, 2, 5, 2, 5, 2, 2, 2, 2, 2, 2, 2, 2, 2, 2, 2, 2, 2,\n",
       "       2, 2, 2, 2, 2, 5, 2, 2, 2, 0, 2, 1, 2, 5, 5, 5, 0, 2, 2, 0, 2, 5,\n",
       "       2, 2, 5, 2, 2, 2, 6, 2, 0, 2, 2, 2, 2, 6, 2, 2, 2, 2, 2, 2, 2, 2,\n",
       "       2, 5, 2, 2, 2, 2, 2, 2, 2, 5, 2, 2, 2, 2, 2, 2, 2, 2, 5, 2, 2, 2,\n",
       "       2, 5, 2, 2, 2, 6, 2, 0, 5, 2, 2, 2, 2, 2, 2, 5, 2, 2, 2, 2, 2, 2,\n",
       "       2, 2, 2, 2, 2, 2, 2, 2, 6, 2, 2, 4, 2, 2, 0, 2, 2, 6, 6, 2, 2, 2,\n",
       "       2, 6, 2, 2, 2, 2, 2, 2, 5, 5, 5, 2, 2, 2, 5, 2, 5, 2, 2, 5, 6, 0,\n",
       "       5, 2, 0, 2, 5, 2, 2, 2, 5, 4, 2, 2, 5, 5, 2, 2, 2, 5, 2, 2, 2, 2,\n",
       "       2, 5, 1, 1, 2, 2, 2, 2, 2, 2, 2, 2, 2, 2, 2, 5, 2, 2, 2, 5, 2, 2,\n",
       "       5, 2, 0, 2, 2, 2, 2, 0, 2, 2, 2, 2, 0, 2, 2, 2, 2, 2, 5, 2, 6, 2,\n",
       "       2, 2, 5, 2, 2, 5, 2, 2, 3, 2, 2, 2, 2, 0, 2, 2, 2, 2, 2, 2, 2, 2,\n",
       "       5, 2, 5, 2, 2, 2, 2, 2, 2, 2, 2, 5, 2, 2, 2, 2, 5, 2, 2, 2, 2, 2,\n",
       "       2, 5, 0, 5, 2, 2, 2, 0, 2, 5, 2, 2, 2, 0, 2, 2, 2, 2, 2, 2, 2, 2,\n",
       "       2, 2, 2, 2, 2, 2, 2, 2, 2, 2, 2, 2, 2, 5, 2, 2, 2, 2, 2, 2, 2, 2,\n",
       "       2, 2, 2, 2, 2, 2, 2, 2, 1, 2, 2, 5, 2, 0, 2, 2, 2, 2, 2, 2, 2, 2,\n",
       "       2, 2, 2, 2, 2, 2, 2, 2, 2, 5, 2, 2, 2, 2, 2, 6, 2, 0, 2, 2, 2, 2,\n",
       "       0, 2, 2, 2, 2, 2, 2, 2, 2, 2, 0, 2, 2, 2, 1, 2, 2, 2, 2, 0, 2, 0,\n",
       "       2, 2, 2, 2, 0, 2, 2, 5, 2, 2, 2, 5, 2, 2, 5, 2, 2, 2, 2, 5, 5, 2,\n",
       "       2, 2, 2, 2, 2, 2, 2, 2, 2, 2, 2, 2, 2, 2, 2, 5, 4, 2, 5, 2, 5, 5,\n",
       "       2, 2, 2, 2, 2, 2, 2, 2, 2, 2, 2, 2, 2, 2, 2, 2, 2, 2, 2, 2, 2, 2,\n",
       "       5, 6, 2, 0, 2, 2, 0, 2, 5, 5, 2, 2, 2, 0, 2, 5, 2, 2, 2, 2, 2, 5,\n",
       "       2, 2, 2, 5, 0, 2, 2, 2, 4, 2, 2, 2, 2, 2, 2, 2, 2, 2, 2, 2, 0, 3,\n",
       "       2, 2, 2, 2, 2, 4, 2, 5, 5, 5, 2, 2, 0, 2, 2, 0, 2, 2, 2, 2, 1, 0,\n",
       "       2, 2, 2, 2, 5, 2, 2, 2, 2, 2, 2, 2, 2, 2, 6, 2, 2, 2, 2, 2, 2, 0,\n",
       "       2, 2, 2, 2, 2, 2, 0, 2, 2, 0, 0, 2, 2, 2, 0, 2, 0, 2, 2, 2, 2, 1,\n",
       "       2, 2, 2, 2, 5, 2, 2, 2, 2, 1, 2, 2, 2, 2, 2, 2, 2, 2, 2, 0, 2, 2,\n",
       "       2, 2, 2, 2, 2, 2, 2, 2, 2, 2, 2, 2, 5, 2, 4, 2, 0, 2, 2, 6, 0, 6,\n",
       "       0, 5, 5, 2, 2, 2, 2, 2, 2, 2, 0, 2, 0, 5, 2, 2, 2, 2, 2, 2, 2, 4,\n",
       "       2, 2, 6, 2, 2, 0, 2, 2, 2, 2, 2, 0, 2, 0, 2, 2, 2, 2, 2, 2, 5, 4,\n",
       "       2, 2, 5, 2, 2, 2, 2, 2, 2, 2, 2, 2, 2, 1, 5, 2, 2, 2, 2, 0, 6, 2,\n",
       "       2, 4, 2, 2, 0, 2, 0, 0, 2, 2, 2, 2, 2, 5, 2, 2, 2, 2, 2, 2, 2, 5,\n",
       "       2, 0, 2])"
      ]
     },
     "execution_count": 122,
     "metadata": {},
     "output_type": "execute_result"
    }
   ],
   "source": [
    "knn.predict(Xn_test)"
   ]
  },
  {
   "cell_type": "markdown",
   "metadata": {},
   "source": [
    "### Evaluación del modelo\n",
    "---"
   ]
  },
  {
   "cell_type": "code",
   "execution_count": 123,
   "metadata": {},
   "outputs": [
    {
     "data": {
      "text/plain": [
       "0.6198895027624309"
      ]
     },
     "execution_count": 123,
     "metadata": {},
     "output_type": "execute_result"
    }
   ],
   "source": [
    "knn.score(Xn_test, y_test)"
   ]
  },
  {
   "cell_type": "markdown",
   "metadata": {},
   "source": [
    "**Conclusión:** obtenemos un porcentaje menor que en la regresión logística."
   ]
  },
  {
   "cell_type": "markdown",
   "metadata": {},
   "source": [
    "Otra forma de ver la acuracidad del modelo es:"
   ]
  },
  {
   "cell_type": "code",
   "execution_count": 124,
   "metadata": {},
   "outputs": [
    {
     "data": {
      "text/plain": [
       "0.6198895027624309"
      ]
     },
     "execution_count": 124,
     "metadata": {},
     "output_type": "execute_result"
    }
   ],
   "source": [
    "y_true = y_test\n",
    "y_predict_knn = knn.predict(Xn_test)\n",
    "\n",
    "accuracy_score(y_true, y_predict_knn)"
   ]
  },
  {
   "cell_type": "markdown",
   "metadata": {},
   "source": [
    "### Tabla de confusión para el método de kNN\n",
    "--- "
   ]
  },
  {
   "cell_type": "code",
   "execution_count": 125,
   "metadata": {},
   "outputs": [
    {
     "data": {
      "text/plain": [
       "array([[  8,   1,  58,   0,   2,   6,   1],\n",
       "       [  2,   1,  19,   0,   0,   6,   0],\n",
       "       [ 28,   5, 495,   0,   5,  16,   8],\n",
       "       [  5,   0,   7,   0,   0,   2,   0],\n",
       "       [  9,   1,  25,   1,   4,   6,   2],\n",
       "       [  8,   2,  47,   0,   1,  42,   1],\n",
       "       [  4,   0,  48,   1,   3,  14,  11]], dtype=int64)"
      ]
     },
     "execution_count": 125,
     "metadata": {},
     "output_type": "execute_result"
    }
   ],
   "source": [
    "confusion_matrix(y_true, y_predict_knn)"
   ]
  },
  {
   "cell_type": "markdown",
   "metadata": {},
   "source": [
    "**Interpretación de los resultados**\n",
    "\n",
    "* 8 individuos que estaban clasificados en la categoria 0 (\"Antiques\") son clasificados por dicho método en dicha categoría. Sin embargo, 58 individuos que presentaban la categoria 0 (\"Antiques\") son clasificados en la categoría 2 (\"Curio\"), siendo por tanto clasificados de manera errónea.\n",
    "\n",
    "* 495 individuos que presentaban la categoría 2 (\"Curio\") son clasificados por dicho método de manera correcta. Por otro lado, 28 individuos que presentaban dicha categoría, son clasificados, de manera errónea, en la categoría 0 (\"Antiques\")."
   ]
  },
  {
   "cell_type": "markdown",
   "metadata": {},
   "source": [
    "**Número de casos (individuos) seleccionados de manera correcta**"
   ]
  },
  {
   "cell_type": "code",
   "execution_count": 126,
   "metadata": {},
   "outputs": [
    {
     "data": {
      "text/plain": [
       "561"
      ]
     },
     "execution_count": 126,
     "metadata": {},
     "output_type": "execute_result"
    }
   ],
   "source": [
    "elem_correctos_knn = [confusion_matrix(y_true, y_predict_knn)[i,i] \n",
    "                      for i in range(confusion_matrix(y_true, y_predict_knn).shape[0])]\n",
    "\n",
    "sum(elem_correctos_knn)"
   ]
  },
  {
   "cell_type": "markdown",
   "metadata": {},
   "source": [
    "**Conclusión:** 561 elementos son seleccionados por dicho método en la categoría correcta. Obtenemos así un menor número que en el caso de la regresión logística (575 individuos seleccionados correctamente), lo cual tiene sentido pues el porcentaje de aciertor era inferior en el método knn de vecinos más cercanos, es decir, la acuracidad del modelo era más baja."
   ]
  },
  {
   "cell_type": "markdown",
   "metadata": {},
   "source": [
    "Una manera equivalente de ver el número de casos clasificados correctamente sería:"
   ]
  },
  {
   "cell_type": "code",
   "execution_count": 127,
   "metadata": {},
   "outputs": [
    {
     "data": {
      "text/plain": [
       "561"
      ]
     },
     "execution_count": 127,
     "metadata": {},
     "output_type": "execute_result"
    }
   ],
   "source": [
    "accuracy_score(y_true, y_predict_knn, normalize = False)"
   ]
  },
  {
   "cell_type": "markdown",
   "metadata": {},
   "source": [
    "### Clasificación de un nuevo individuo\n",
    "---"
   ]
  },
  {
   "cell_type": "code",
   "execution_count": 128,
   "metadata": {},
   "outputs": [
    {
     "data": {
      "text/plain": [
       "array([5])"
      ]
     },
     "execution_count": 128,
     "metadata": {},
     "output_type": "execute_result"
    }
   ],
   "source": [
    "knn.predict([[22, 97, 36, 25]])"
   ]
  },
  {
   "cell_type": "markdown",
   "metadata": {},
   "source": [
    "**Conclusión:** el algoritmo clasifica al individuo en la categoría número 5, es decir, \"Rugs & Carpet\". Observamos aquí una diferencia con la regresión logística, pues dicho método clasificada a dicho individuo en la categoría número 6 (\"Silver & Gold\")."
   ]
  },
  {
   "cell_type": "markdown",
   "metadata": {},
   "source": [
    "## Naive Bayes\n",
    "---\n",
    "\n",
    "Otra de las técnicas de clasificación más usual en la construcción de modelos que predicen la probabilidad de pertenencia a cada una de las clases de las que disponemos, y que proporciona buenos resultados, es la técnica Naive Bayes que consiste en lo siguiente:\n",
    "- Se dispone de un atributo nominal (variable categórica) con *m* posibles valores que indica la clase a que pertenece cada individuo.\n",
    "- Dichas clases deben ser excluyentes, es decir, un individuo no puede pertenecer simultanemanete a dos clases.\n",
    "- El problema consista en, conocido el vector de características de un individuo, determinar la clase *c* a que pertenece. Así pues, se calcularan las probabilidades de pertenencia a cada una de las clases $P(c_{i}, X)$ y se clasificará al individuo en la clase que proporciona máxima probabilidad."
   ]
  },
  {
   "cell_type": "markdown",
   "metadata": {},
   "source": [
    "### Definición y entrenamiento del modelo\n",
    "---"
   ]
  },
  {
   "cell_type": "code",
   "execution_count": 129,
   "metadata": {},
   "outputs": [
    {
     "data": {
      "text/plain": [
       "GaussianNB(priors=None, var_smoothing=1e-09)"
      ]
     },
     "execution_count": 129,
     "metadata": {},
     "output_type": "execute_result"
    }
   ],
   "source": [
    "from sklearn.naive_bayes import GaussianNB\n",
    "\n",
    "nb = GaussianNB()\n",
    "nb.fit(Xn_train, y_train)"
   ]
  },
  {
   "cell_type": "markdown",
   "metadata": {},
   "source": [
    "### Predicciones para los elementos de la muestra test\n",
    "---"
   ]
  },
  {
   "cell_type": "code",
   "execution_count": 130,
   "metadata": {},
   "outputs": [
    {
     "name": "stdout",
     "output_type": "stream",
     "text": [
      "[2 2 2 2 2 2 5 2 2 2 2 2 2 2 2 2 2 6 6 2 2 2 2 2 5 2 2 2 5 2 2 2 2 2 2 2 2\n",
      " 2 2 2 2 2 2 2 2 2 5 2 2 2 2 2 2 2 2 5 2 2 2 2 5 2 2 2 2 2 5 5 2 2 2 2 2 2\n",
      " 2 2 2 0 2 2 2 2 2 2 2 5 2 5 2 2 2 2 2 2 2 5 2 5 2 2 2 5 2 2 2 2 2 2 2 5 2\n",
      " 2 2 2 2 2 5 2 2 6 2 2 2 2 2 2 2 5 2 2 2 6 0 2 2 2 2 6 0 5 2 2 2 2 2 2 2 2\n",
      " 5 6 2 2 2 2 2 2 2 5 2 2 5 2 6 2 2 2 2 2 2 2 0 5 2 2 2 2 2 2 2 2 2 2 2 1 2\n",
      " 2 2 2 2 2 2 2 2 5 2 2 2 2 2 5 2 5 2 2 6 2 2 2 2 2 2 2 2 2 2 2 2 2 5 2 5 2\n",
      " 5 2 2 2 5 2 2 2 2 2 2 2 2 2 6 2 1 2 2 2 2 2 2 6 2 2 2 2 2 2 2 2 2 5 5 2 5\n",
      " 2 2 5 2 4 2 2 2 2 2 2 5 2 5 2 2 2 2 5 2 2 2 2 1 2 2 2 2 2 2 2 2 2 2 2 2 5\n",
      " 2 2 2 2 2 2 2 2 5 2 2 2 5 2 2 2 2 2 2 2 0 2 2 2 6 2 2 2 6 2 2 2 2 2 2 2 2\n",
      " 2 2 2 2 2 6 2 0 2 2 2 5 2 6 2 6 2 2 2 2 6 2 5 5 5 2 2 5 2 5 2 2 2 5 1 6 2\n",
      " 2 5 5 2 6 2 2 2 2 2 2 2 5 2 2 2 5 2 2 2 2 5 2 2 2 2 2 5 2 2 2 2 2 2 2 2 2\n",
      " 2 2 2 2 4 6 2 2 5 5 1 1 2 0 2 2 2 2 0 2 1 5 2 0 4 2 2 2 2 5 2 5 2 2 2 5 2\n",
      " 2 2 2 2 2 2 2 2 2 2 2 2 2 2 2 2 2 2 5 2 2 2 2 2 2 2 2 2 2 5 2 2 2 2 6 2 2\n",
      " 2 2 6 2 5 5 5 2 2 2 2 2 2 2 2 2 2 2 2 2 2 2 5 2 2 2 2 0 5 2 2 2 1 2 2 2 2\n",
      " 2 2 2 2 2 2 5 2 2 6 2 2 2 5 2 2 2 2 2 2 2 5 2 5 2 6 2 2 2 2 5 2 2 2 2 2 2\n",
      " 2 2 5 2 5 2 2 2 2 2 5 2 2 2 2 2 2 2 2 2 2 5 5 2 2 2 2 2 2 2 2 2 2 2 2 2 2\n",
      " 2 2 2 2 5 2 2 2 2 2 2 2 6 5 2 2 5 2 2 2 2 5 2 2 2 2 2 2 1 2 2 2 2 2 2 2 2\n",
      " 2 2 5 2 2 1 2 2 5 2 2 2 2 2 2 2 2 2 2 2 2 2 2 5 2 2 2 2 2 1 2 2 2 2 0 2 2\n",
      " 2 2 5 6 2 2 1 2 2 5 2 0 2 1 5 5 2 2 2 5 2 2 2 2 2 2 2 2 2 2 2 2 2 2 2 2 2\n",
      " 2 2 2 2 2 2 2 2 5 5 5 2 2 2 2 2 5 2 2 2 2 5 2 2 2 2 2 5 2 2 2 2 2 2 2 2 2\n",
      " 2 2 5 2 2 2 2 2 2 2 2 2 2 2 0 2 2 0 0 2 5 2 2 2 2 2 2 2 2 6 2 2 2 2 5 2 2\n",
      " 2 2 2 2 2 1 2 2 2 2 2 2 2 2 2 2 2 5 2 2 2 2 2 2 6 2 2 2 2 5 2 2 2 2 2 2 6\n",
      " 2 5 5 2 2 2 2 2 2 2 0 2 5 2 2 2 2 2 2 2 2 2 2 2 5 2 2 2 2 2 2 2 2 5 2 5 2\n",
      " 2 2 2 2 2 5 2 2 2 5 2 2 2 2 2 2 2 2 2 6 2 2 2 2 2 0 2 2 2 2 2 2 2 5 2 2 0\n",
      " 2 2 2 2 2 5 2 2 2 2 2 2 2 5 2 2 2]\n"
     ]
    }
   ],
   "source": [
    "nb_pred = nb.predict(Xn_test)\n",
    "print(nb_pred)"
   ]
  },
  {
   "cell_type": "markdown",
   "metadata": {},
   "source": [
    "### Evaluación del modelo calculando la tasa de acierto del mismo\n",
    "---"
   ]
  },
  {
   "cell_type": "code",
   "execution_count": 131,
   "metadata": {},
   "outputs": [
    {
     "name": "stdout",
     "output_type": "stream",
     "text": [
      "0.6077348066298343\n"
     ]
    }
   ],
   "source": [
    "accuracy = accuracy_score(y_test, nb_pred)\n",
    "print(accuracy)"
   ]
  },
  {
   "cell_type": "markdown",
   "metadata": {},
   "source": [
    "**Comentario:** en comparación con el modelo de los vecinos más cercanos, observamos que la técnica de clasificación Naive Bayes proporciona una fracción de predicciones correctas inferior."
   ]
  },
  {
   "cell_type": "markdown",
   "metadata": {},
   "source": [
    "### Probabilidades de pertenencia a cada clase\n",
    "---"
   ]
  },
  {
   "cell_type": "code",
   "execution_count": 132,
   "metadata": {},
   "outputs": [
    {
     "name": "stdout",
     "output_type": "stream",
     "text": [
      "[[4.51955526e-02 1.84458968e-02 8.34608760e-01 4.81570785e-03\n",
      "  1.16085105e-02 2.67445890e-02 5.85809837e-02]\n",
      " [3.27955561e-02 4.72007343e-03 7.42552326e-01 1.43049205e-02\n",
      "  8.09098994e-02 4.05586050e-02 8.41586199e-02]\n",
      " [1.66791087e-01 4.62442172e-02 3.27703473e-01 8.67082047e-03\n",
      "  1.85988860e-01 1.08169157e-01 1.56432386e-01]\n",
      " [3.31097606e-02 1.41081196e-02 8.21618347e-01 4.59267753e-03\n",
      "  6.95161855e-02 1.55171774e-02 4.15377321e-02]\n",
      " [4.41579961e-02 1.86962568e-02 7.67747893e-01 6.24812751e-03\n",
      "  9.05277560e-02 2.08569925e-02 5.17649785e-02]\n",
      " [2.59770200e-01 4.85810913e-02 2.51962885e-02 3.19715532e-03\n",
      "  8.07357783e-13 5.49562535e-01 1.13692730e-01]\n",
      " [3.61672558e-02 1.33859922e-02 8.42946603e-01 4.83108250e-03\n",
      "  3.95260299e-02 1.88423597e-02 4.43006771e-02]\n",
      " [4.72157620e-02 1.98428058e-02 7.67536419e-01 6.44066850e-03\n",
      "  8.51058833e-02 2.12751461e-02 5.25833152e-02]\n",
      " [7.36851506e-02 2.87911980e-02 6.41938724e-01 7.82901219e-03\n",
      "  1.25085642e-01 4.18850158e-02 8.07852572e-02]]\n"
     ]
    }
   ],
   "source": [
    "prob = nb.predict_proba(Xn_test)\n",
    "print(prob[1:10,])"
   ]
  },
  {
   "cell_type": "markdown",
   "metadata": {},
   "source": [
    "Atendiendo a dichas probabilidades vemos que, efectivamente, el modelo clasifica a cada observación del test en la clase en la que su probabilidad de pertenencia es máxima."
   ]
  },
  {
   "cell_type": "markdown",
   "metadata": {},
   "source": [
    "### Matriz de confusión\n",
    "---"
   ]
  },
  {
   "cell_type": "code",
   "execution_count": 133,
   "metadata": {},
   "outputs": [
    {
     "name": "stdout",
     "output_type": "stream",
     "text": [
      "[[  1   0  61   0   0   9   5]\n",
      " [  2   1  20   0   0   4   1]\n",
      " [  6   9 505   0   1  26  10]\n",
      " [  0   0  11   0   0   3   0]\n",
      " [  3   0  35   0   0   8   2]\n",
      " [  3   4  50   0   2  37   5]\n",
      " [  3   0  51   0   0  21   6]]\n"
     ]
    }
   ],
   "source": [
    "tab_conf = confusion_matrix(y_test, nb_pred)\n",
    "print(tab_conf)"
   ]
  },
  {
   "cell_type": "markdown",
   "metadata": {},
   "source": [
    "Otra forma de ver el número de casos del conjunto test clasificados de manera correcta es haciendo uso de la función *dig()* de numpy:"
   ]
  },
  {
   "cell_type": "code",
   "execution_count": 134,
   "metadata": {},
   "outputs": [
    {
     "data": {
      "text/plain": [
       "550"
      ]
     },
     "execution_count": 134,
     "metadata": {},
     "output_type": "execute_result"
    }
   ],
   "source": [
    "sum(np.diag(tab_conf)) "
   ]
  },
  {
   "cell_type": "markdown",
   "metadata": {},
   "source": [
    "**Comentario:** como ya veíamos al calcular la tasa de acierto del clasificador, el número de predicciones correctas es inferior al que se obtiene en la técnica K-Nearest Neighbors (561 observaciones del conjunto test clasificados de manera correcta)."
   ]
  },
  {
   "cell_type": "markdown",
   "metadata": {},
   "source": [
    "## Resumen\n",
    "---\n",
    "Atendiendo a la medida de bondad de ajuste de cada uno de ellos, o equivalentemente, el porcentaje de acierto en la clasificación \n",
    "($100*\\text{fracciones de predicciones correctas}$) creamos la siguiente tabla a modo resumen para visualizar los resultados obtenidos:"
   ]
  },
  {
   "cell_type": "code",
   "execution_count": 135,
   "metadata": {},
   "outputs": [
    {
     "data": {
      "text/html": [
       "<div>\n",
       "<style scoped>\n",
       "    .dataframe tbody tr th:only-of-type {\n",
       "        vertical-align: middle;\n",
       "    }\n",
       "\n",
       "    .dataframe tbody tr th {\n",
       "        vertical-align: top;\n",
       "    }\n",
       "\n",
       "    .dataframe thead th {\n",
       "        text-align: right;\n",
       "    }\n",
       "</style>\n",
       "<table border=\"1\" class=\"dataframe\">\n",
       "  <thead>\n",
       "    <tr style=\"text-align: right;\">\n",
       "      <th></th>\n",
       "      <th>Regresión Logística</th>\n",
       "      <th>Regresión Logística CV</th>\n",
       "      <th>Árboles de clasificación</th>\n",
       "      <th>Random Forest CV</th>\n",
       "      <th>Random Forest Grid Search</th>\n",
       "      <th>Random Forest</th>\n",
       "      <th>K-Nearest Neighbors</th>\n",
       "      <th>Naive Bayes</th>\n",
       "    </tr>\n",
       "  </thead>\n",
       "  <tbody>\n",
       "    <tr>\n",
       "      <th>0</th>\n",
       "      <td>0.635359</td>\n",
       "      <td>0.542978</td>\n",
       "      <td>0.512707</td>\n",
       "      <td>0.666588</td>\n",
       "      <td>0.683089</td>\n",
       "      <td>0.653039</td>\n",
       "      <td>0.61989</td>\n",
       "      <td>0.607735</td>\n",
       "    </tr>\n",
       "  </tbody>\n",
       "</table>\n",
       "</div>"
      ],
      "text/plain": [
       "   Regresión Logística  Regresión Logística CV  Árboles de clasificación  \\\n",
       "0             0.635359                0.542978                  0.512707   \n",
       "\n",
       "   Random Forest CV  Random Forest Grid Search  Random Forest  \\\n",
       "0          0.666588                   0.683089       0.653039   \n",
       "\n",
       "   K-Nearest Neighbors  Naive Bayes  \n",
       "0              0.61989     0.607735  "
      ]
     },
     "execution_count": 135,
     "metadata": {},
     "output_type": "execute_result"
    }
   ],
   "source": [
    "resumen = pd.DataFrame({'Regresión Logística': [accuracy_score(y_true, y_predict_lr)], \n",
    "                       'Regresión Logística CV': [scores.mean()],\n",
    "                       'Árboles de clasificación': [classifier.score(Xn_test, y_test)],\n",
    "                       'Random Forest CV': [scores_rf.mean()], \n",
    "                       'Random Forest Grid Search': [gs.best_score_],\n",
    "                       'Random Forest' : [metrics.accuracy_score(y_test, y_pred_cf)],\n",
    "                       'K-Nearest Neighbors': [accuracy_score(y_true, y_predict_knn)],\n",
    "                       'Naive Bayes': [accuracy_score(y_test, nb_pred)]})\n",
    "resumen"
   ]
  },
  {
   "cell_type": "markdown",
   "metadata": {},
   "source": [
    "### Conclusiones\n",
    "---\n",
    "De acuerdo al resumen obtenido el modelo que mejor se ajusta a los datos es el algoritmo del **Random Forest Grid Search** obteniendo una fracción de clasificaciones correctas del $0.683089$, o lo que es lo mismo, un $68.23\\%$ de acierto en la clasificación en el conjunto de datos de validación (test). Por contra, los peores modelos que se ajusta a los datos son el modelo de **Regresión Logística CV**, es decir, el modelo de regresión logística que fragmenta el conjunto de entrenamiento en pliegues considerando el resto de pliegues como muestra de aprendizaje y validando en el pliegue seleccionado, es decir, usando cross-validation como técnica de validación y el algoritmo de los **Árboles de clasificación**; técnica que nos permite una fácil interpretación pudiendo incluso visualizar la construcción del respectivo árbol pero que adquiere un bajo porcentaje de acierto en la predicción. Ambos modelos alcanzan un porcentaje de acierto de clasificación del $54.3\\%$ (la media del porcentaje efectuado en cada pliegue) y $51.27\\%$ respectivamente.\n",
    "\n",
    "Otro aspecto a considerar es que el modelo **Random Forest** obtiene una mejor precisión usando la técnica de validación de cross-validation sobre el conjunto de entrenamiento que usando la técnica de validación simple conocida como método H (holdout).\n",
    "\n",
    "Una vez alcanzado el mejor modelo podemos **guardar el modelo** en un objeto para poder realizar predicciones futuras sin la necesidad de ejecutar todo el código de nuevo."
   ]
  },
  {
   "cell_type": "code",
   "execution_count": 136,
   "metadata": {},
   "outputs": [],
   "source": [
    "import pickle as pk\n",
    "pk.dump(gs.best_estimator_, open('best_model_rf.pk', 'wb'))"
   ]
  },
  {
   "cell_type": "markdown",
   "metadata": {},
   "source": [
    "## Apéndice: Gradient Boosted Trees y XGBoost\n",
    "---\n",
    "\n",
    "Tradicionalmente Random Forest predominaba en las competiciones de datos estructurados, pero recientemente otro algoritmo ha pasado a dominar las competiciones: **Gradient Boosted Trees**.\n",
    "\n",
    "Al igual que RF, GBT clasifica ejemplos mediante el uso de un conjunto de árboles de decisión. En el caso de este segundo, los árboles se construyen secuencialmente, añadiendo en cada iteración el árbol que mejor compense por los errores de los árboles ya existentes. Se le llama método de gradiente porque el modelo evoluciona en dirección al menor error, árbol a árbol.\n",
    "\n",
    "Existen distintos algoritmos de bosting además del Grandient Boosted Trees como: XGboost, AdaBoost o Gentle Boost. Estos algoritmos generan numerosos modelos utilizando un proceso iterativo y secuencial, que continúa agregando algoritmos de aprendizaje hasta que se alcanza un número límite o cierto grado de precisión. La clave está en que, para cada nuevo modelo que se entrena, se le da un peso mayor a las muestras mal clasificadas por el anterior. Para hacer esto, los algoritmos de boosting tratan de minimizar una función de pérdida (como la devianza), eligiendo en cada paso el árbol que más la reduce. Con esto se reduce principalmente el sesgo.\n",
    "\n",
    "En el caso del GBT al ir añadiendo nuevos árboles, en vez de reducirse el error, como en AdaBoost, se optimiza una función de pérdida (que puede incluso ser definida por el usuario) en la que se produce un gradiente descendiente (gradient descent). Se agrega una cantidad fija de árboles, o el entrenamiento se detiene cuando la pérdida alcanza un nivel aceptable o ya no mejora al aplicarse a un conjunto de datos de validación externa. La clave está en que, para cada nuevo modelo que se entrena, se le da un peso mayor a las muestras mal clasificadas por el anterior. Para hacer esto, los algoritmos de boosting tratan de minimizar una función de pérdida (como la devianza), eligiendo en cada paso el árbol que más la reduce. Con esto se reduce principalmente el sesgo.\n",
    "\n",
    "Nos centamos ahora en el algoritmo **XGBoost** que se trata de una implementación de GBT compatible con Python. Su éxito no se debe solo a su precisión, sino también a la velocidad de iteración que permite. Aún trabajando con un solo core, funciona cuatro veces más rápido que la implementación de scikit-learn en Python. Esta función tambien admite valores perdidos."
   ]
  },
  {
   "cell_type": "markdown",
   "metadata": {},
   "source": [
    "**Introducimos ahora un ejemplo usando dicho algoritmo. El algoritmo plasmado es muy simple y es fácilmente mejorable aplicando alguna de las siguientes técnicas: usando validación cruzada de *K*-fold utilizando XGBoost o aplicando alguna de las técnicas propias para la combinación óptima de los parámetros como GridSearch (tal  y como hemos hecho anteriormente en otro ejemplo) que lleva a cabo una búsqueda exhaustiva o RandomizedSearch cuya búsqueda es parcial pues no ejecuta todas las combinaciones posibles.**"
   ]
  },
  {
   "cell_type": "markdown",
   "metadata": {},
   "source": [
    "### Preparación del paquete\n",
    "---"
   ]
  },
  {
   "cell_type": "code",
   "execution_count": 137,
   "metadata": {},
   "outputs": [
    {
     "name": "stdout",
     "output_type": "stream",
     "text": [
      "Requirement already satisfied: xgboost==0.80 in c:\\users\\javi\\anaconda3\\lib\\site-packages (0.80)\n",
      "Requirement already satisfied: scipy in c:\\users\\javi\\anaconda3\\lib\\site-packages (from xgboost==0.80) (1.1.0)\n",
      "Requirement already satisfied: numpy in c:\\users\\javi\\anaconda3\\lib\\site-packages (from xgboost==0.80) (1.15.4)\n"
     ]
    }
   ],
   "source": [
    "import sys\n",
    "!{sys.executable} -m pip install xgboost==0.80"
   ]
  },
  {
   "cell_type": "code",
   "execution_count": 138,
   "metadata": {},
   "outputs": [],
   "source": [
    "import os\n",
    "os.environ['KMP_DUPLICATE_LIB_OK']='True'\n",
    "\n",
    "import xgboost as xgb"
   ]
  },
  {
   "cell_type": "markdown",
   "metadata": {},
   "source": [
    "### Definición de nuestra matriz de entrenamiento y de evaluación\n",
    "---\n",
    "Para la construcción de nuestro conjunto de entrenamiento y test haremos uso de la función **DMatrix** que convertirá el conjunto de datos de entrenamiento y test inicial en una estructura de datos optimizada que XGBoost soporta."
   ]
  },
  {
   "cell_type": "code",
   "execution_count": 139,
   "metadata": {},
   "outputs": [],
   "source": [
    "dtrain = xgb.DMatrix(Xn_train, label=y_train)\n",
    "dtest = xgb.DMatrix(Xn_test, label=y_test)"
   ]
  },
  {
   "cell_type": "markdown",
   "metadata": {},
   "source": [
    "### Fijamos el set de parámetros necesarios para la construcción de los diferentes árboles\n",
    "---"
   ]
  },
  {
   "cell_type": "code",
   "execution_count": 140,
   "metadata": {},
   "outputs": [],
   "source": [
    "param = {\n",
    "    'max_depth': 3,  # máxima profundidad de cada árbol\n",
    "    'eta': 0.3,  # la partición tomada como entrenamiento utilizada para evitar el sobreajuste. El rango es [0,1]\n",
    "    'objective': 'multi:softprob',  # nos encontramos ante un problema de clasificación con más de dos clases\n",
    "    'num_class': 7}  # número de clases que existen en nuestro data set\n",
    "num_round = 20  # número de árboles (iteraciones)"
   ]
  },
  {
   "cell_type": "markdown",
   "metadata": {},
   "source": [
    "Como hemos dicho, el modelo resultante se puede mejorar con la elección de otro set de parámetros. El resultado puede ser realmente bajo con un conjunto de parámetros y realmente bueno con otros."
   ]
  },
  {
   "cell_type": "markdown",
   "metadata": {},
   "source": [
    "### Entrenamos el modelo\n",
    "---"
   ]
  },
  {
   "cell_type": "code",
   "execution_count": 141,
   "metadata": {},
   "outputs": [
    {
     "name": "stdout",
     "output_type": "stream",
     "text": [
      "[18:24:29] C:\\Users\\Administrator\\Desktop\\xgboost\\src\\tree\\updater_prune.cc:74: tree pruning end, 1 roots, 10 extra nodes, 0 pruned nodes, max_depth=3\n",
      "[18:24:29] C:\\Users\\Administrator\\Desktop\\xgboost\\src\\tree\\updater_prune.cc:74: tree pruning end, 1 roots, 12 extra nodes, 0 pruned nodes, max_depth=3\n",
      "[18:24:29] C:\\Users\\Administrator\\Desktop\\xgboost\\src\\tree\\updater_prune.cc:74: tree pruning end, 1 roots, 14 extra nodes, 0 pruned nodes, max_depth=3\n",
      "[18:24:29] C:\\Users\\Administrator\\Desktop\\xgboost\\src\\tree\\updater_prune.cc:74: tree pruning end, 1 roots, 12 extra nodes, 0 pruned nodes, max_depth=3\n",
      "[18:24:29] C:\\Users\\Administrator\\Desktop\\xgboost\\src\\tree\\updater_prune.cc:74: tree pruning end, 1 roots, 14 extra nodes, 0 pruned nodes, max_depth=3\n",
      "[18:24:29] C:\\Users\\Administrator\\Desktop\\xgboost\\src\\tree\\updater_prune.cc:74: tree pruning end, 1 roots, 14 extra nodes, 0 pruned nodes, max_depth=3\n",
      "[18:24:29] C:\\Users\\Administrator\\Desktop\\xgboost\\src\\tree\\updater_prune.cc:74: tree pruning end, 1 roots, 14 extra nodes, 0 pruned nodes, max_depth=3\n",
      "[18:24:29] C:\\Users\\Administrator\\Desktop\\xgboost\\src\\tree\\updater_prune.cc:74: tree pruning end, 1 roots, 14 extra nodes, 0 pruned nodes, max_depth=3\n",
      "[18:24:29] C:\\Users\\Administrator\\Desktop\\xgboost\\src\\tree\\updater_prune.cc:74: tree pruning end, 1 roots, 12 extra nodes, 0 pruned nodes, max_depth=3\n",
      "[18:24:29] C:\\Users\\Administrator\\Desktop\\xgboost\\src\\tree\\updater_prune.cc:74: tree pruning end, 1 roots, 14 extra nodes, 0 pruned nodes, max_depth=3\n",
      "[18:24:29] C:\\Users\\Administrator\\Desktop\\xgboost\\src\\tree\\updater_prune.cc:74: tree pruning end, 1 roots, 12 extra nodes, 0 pruned nodes, max_depth=3\n",
      "[18:24:29] C:\\Users\\Administrator\\Desktop\\xgboost\\src\\tree\\updater_prune.cc:74: tree pruning end, 1 roots, 14 extra nodes, 0 pruned nodes, max_depth=3\n",
      "[18:24:29] C:\\Users\\Administrator\\Desktop\\xgboost\\src\\tree\\updater_prune.cc:74: tree pruning end, 1 roots, 14 extra nodes, 0 pruned nodes, max_depth=3\n",
      "[18:24:29] C:\\Users\\Administrator\\Desktop\\xgboost\\src\\tree\\updater_prune.cc:74: tree pruning end, 1 roots, 12 extra nodes, 0 pruned nodes, max_depth=3\n",
      "[18:24:29] C:\\Users\\Administrator\\Desktop\\xgboost\\src\\tree\\updater_prune.cc:74: tree pruning end, 1 roots, 14 extra nodes, 0 pruned nodes, max_depth=3\n",
      "[18:24:29] C:\\Users\\Administrator\\Desktop\\xgboost\\src\\tree\\updater_prune.cc:74: tree pruning end, 1 roots, 12 extra nodes, 0 pruned nodes, max_depth=3\n",
      "[18:24:29] C:\\Users\\Administrator\\Desktop\\xgboost\\src\\tree\\updater_prune.cc:74: tree pruning end, 1 roots, 14 extra nodes, 0 pruned nodes, max_depth=3\n",
      "[18:24:29] C:\\Users\\Administrator\\Desktop\\xgboost\\src\\tree\\updater_prune.cc:74: tree pruning end, 1 roots, 12 extra nodes, 0 pruned nodes, max_depth=3\n",
      "[18:24:29] C:\\Users\\Administrator\\Desktop\\xgboost\\src\\tree\\updater_prune.cc:74: tree pruning end, 1 roots, 14 extra nodes, 0 pruned nodes, max_depth=3\n",
      "[18:24:29] C:\\Users\\Administrator\\Desktop\\xgboost\\src\\tree\\updater_prune.cc:74: tree pruning end, 1 roots, 14 extra nodes, 0 pruned nodes, max_depth=3\n",
      "[18:24:29] C:\\Users\\Administrator\\Desktop\\xgboost\\src\\tree\\updater_prune.cc:74: tree pruning end, 1 roots, 14 extra nodes, 0 pruned nodes, max_depth=3\n",
      "[18:24:29] C:\\Users\\Administrator\\Desktop\\xgboost\\src\\tree\\updater_prune.cc:74: tree pruning end, 1 roots, 14 extra nodes, 0 pruned nodes, max_depth=3\n",
      "[18:24:29] C:\\Users\\Administrator\\Desktop\\xgboost\\src\\tree\\updater_prune.cc:74: tree pruning end, 1 roots, 14 extra nodes, 0 pruned nodes, max_depth=3\n",
      "[18:24:29] C:\\Users\\Administrator\\Desktop\\xgboost\\src\\tree\\updater_prune.cc:74: tree pruning end, 1 roots, 14 extra nodes, 0 pruned nodes, max_depth=3\n",
      "[18:24:29] C:\\Users\\Administrator\\Desktop\\xgboost\\src\\tree\\updater_prune.cc:74: tree pruning end, 1 roots, 12 extra nodes, 0 pruned nodes, max_depth=3\n",
      "[18:24:29] C:\\Users\\Administrator\\Desktop\\xgboost\\src\\tree\\updater_prune.cc:74: tree pruning end, 1 roots, 14 extra nodes, 0 pruned nodes, max_depth=3\n",
      "[18:24:29] C:\\Users\\Administrator\\Desktop\\xgboost\\src\\tree\\updater_prune.cc:74: tree pruning end, 1 roots, 14 extra nodes, 0 pruned nodes, max_depth=3\n",
      "[18:24:29] C:\\Users\\Administrator\\Desktop\\xgboost\\src\\tree\\updater_prune.cc:74: tree pruning end, 1 roots, 14 extra nodes, 0 pruned nodes, max_depth=3\n",
      "[18:24:29] C:\\Users\\Administrator\\Desktop\\xgboost\\src\\tree\\updater_prune.cc:74: tree pruning end, 1 roots, 14 extra nodes, 0 pruned nodes, max_depth=3\n",
      "[18:24:29] C:\\Users\\Administrator\\Desktop\\xgboost\\src\\tree\\updater_prune.cc:74: tree pruning end, 1 roots, 14 extra nodes, 0 pruned nodes, max_depth=3\n",
      "[18:24:29] C:\\Users\\Administrator\\Desktop\\xgboost\\src\\tree\\updater_prune.cc:74: tree pruning end, 1 roots, 14 extra nodes, 0 pruned nodes, max_depth=3\n",
      "[18:24:29] C:\\Users\\Administrator\\Desktop\\xgboost\\src\\tree\\updater_prune.cc:74: tree pruning end, 1 roots, 12 extra nodes, 0 pruned nodes, max_depth=3\n",
      "[18:24:29] C:\\Users\\Administrator\\Desktop\\xgboost\\src\\tree\\updater_prune.cc:74: tree pruning end, 1 roots, 14 extra nodes, 0 pruned nodes, max_depth=3\n",
      "[18:24:29] C:\\Users\\Administrator\\Desktop\\xgboost\\src\\tree\\updater_prune.cc:74: tree pruning end, 1 roots, 14 extra nodes, 0 pruned nodes, max_depth=3\n",
      "[18:24:29] C:\\Users\\Administrator\\Desktop\\xgboost\\src\\tree\\updater_prune.cc:74: tree pruning end, 1 roots, 14 extra nodes, 0 pruned nodes, max_depth=3\n",
      "[18:24:29] C:\\Users\\Administrator\\Desktop\\xgboost\\src\\tree\\updater_prune.cc:74: tree pruning end, 1 roots, 12 extra nodes, 0 pruned nodes, max_depth=3\n",
      "[18:24:29] C:\\Users\\Administrator\\Desktop\\xgboost\\src\\tree\\updater_prune.cc:74: tree pruning end, 1 roots, 14 extra nodes, 0 pruned nodes, max_depth=3\n",
      "[18:24:29] C:\\Users\\Administrator\\Desktop\\xgboost\\src\\tree\\updater_prune.cc:74: tree pruning end, 1 roots, 14 extra nodes, 0 pruned nodes, max_depth=3\n",
      "[18:24:29] C:\\Users\\Administrator\\Desktop\\xgboost\\src\\tree\\updater_prune.cc:74: tree pruning end, 1 roots, 14 extra nodes, 0 pruned nodes, max_depth=3\n",
      "[18:24:29] C:\\Users\\Administrator\\Desktop\\xgboost\\src\\tree\\updater_prune.cc:74: tree pruning end, 1 roots, 14 extra nodes, 0 pruned nodes, max_depth=3\n",
      "[18:24:29] C:\\Users\\Administrator\\Desktop\\xgboost\\src\\tree\\updater_prune.cc:74: tree pruning end, 1 roots, 12 extra nodes, 0 pruned nodes, max_depth=3\n",
      "[18:24:29] C:\\Users\\Administrator\\Desktop\\xgboost\\src\\tree\\updater_prune.cc:74: tree pruning end, 1 roots, 14 extra nodes, 0 pruned nodes, max_depth=3\n",
      "[18:24:29] C:\\Users\\Administrator\\Desktop\\xgboost\\src\\tree\\updater_prune.cc:74: tree pruning end, 1 roots, 12 extra nodes, 0 pruned nodes, max_depth=3\n",
      "[18:24:29] C:\\Users\\Administrator\\Desktop\\xgboost\\src\\tree\\updater_prune.cc:74: tree pruning end, 1 roots, 14 extra nodes, 0 pruned nodes, max_depth=3\n",
      "[18:24:29] C:\\Users\\Administrator\\Desktop\\xgboost\\src\\tree\\updater_prune.cc:74: tree pruning end, 1 roots, 14 extra nodes, 0 pruned nodes, max_depth=3\n",
      "[18:24:29] C:\\Users\\Administrator\\Desktop\\xgboost\\src\\tree\\updater_prune.cc:74: tree pruning end, 1 roots, 10 extra nodes, 0 pruned nodes, max_depth=3\n",
      "[18:24:29] C:\\Users\\Administrator\\Desktop\\xgboost\\src\\tree\\updater_prune.cc:74: tree pruning end, 1 roots, 14 extra nodes, 0 pruned nodes, max_depth=3\n",
      "[18:24:29] C:\\Users\\Administrator\\Desktop\\xgboost\\src\\tree\\updater_prune.cc:74: tree pruning end, 1 roots, 14 extra nodes, 0 pruned nodes, max_depth=3\n",
      "[18:24:29] C:\\Users\\Administrator\\Desktop\\xgboost\\src\\tree\\updater_prune.cc:74: tree pruning end, 1 roots, 12 extra nodes, 0 pruned nodes, max_depth=3\n",
      "[18:24:29] C:\\Users\\Administrator\\Desktop\\xgboost\\src\\tree\\updater_prune.cc:74: tree pruning end, 1 roots, 14 extra nodes, 0 pruned nodes, max_depth=3\n",
      "[18:24:29] C:\\Users\\Administrator\\Desktop\\xgboost\\src\\tree\\updater_prune.cc:74: tree pruning end, 1 roots, 12 extra nodes, 0 pruned nodes, max_depth=3\n",
      "[18:24:29] C:\\Users\\Administrator\\Desktop\\xgboost\\src\\tree\\updater_prune.cc:74: tree pruning end, 1 roots, 14 extra nodes, 0 pruned nodes, max_depth=3\n",
      "[18:24:29] C:\\Users\\Administrator\\Desktop\\xgboost\\src\\tree\\updater_prune.cc:74: tree pruning end, 1 roots, 14 extra nodes, 0 pruned nodes, max_depth=3\n",
      "[18:24:29] C:\\Users\\Administrator\\Desktop\\xgboost\\src\\tree\\updater_prune.cc:74: tree pruning end, 1 roots, 14 extra nodes, 0 pruned nodes, max_depth=3\n",
      "[18:24:29] C:\\Users\\Administrator\\Desktop\\xgboost\\src\\tree\\updater_prune.cc:74: tree pruning end, 1 roots, 12 extra nodes, 0 pruned nodes, max_depth=3\n",
      "[18:24:29] C:\\Users\\Administrator\\Desktop\\xgboost\\src\\tree\\updater_prune.cc:74: tree pruning end, 1 roots, 14 extra nodes, 0 pruned nodes, max_depth=3\n",
      "[18:24:29] C:\\Users\\Administrator\\Desktop\\xgboost\\src\\tree\\updater_prune.cc:74: tree pruning end, 1 roots, 14 extra nodes, 0 pruned nodes, max_depth=3\n",
      "[18:24:29] C:\\Users\\Administrator\\Desktop\\xgboost\\src\\tree\\updater_prune.cc:74: tree pruning end, 1 roots, 14 extra nodes, 0 pruned nodes, max_depth=3\n",
      "[18:24:29] C:\\Users\\Administrator\\Desktop\\xgboost\\src\\tree\\updater_prune.cc:74: tree pruning end, 1 roots, 12 extra nodes, 0 pruned nodes, max_depth=3\n",
      "[18:24:29] C:\\Users\\Administrator\\Desktop\\xgboost\\src\\tree\\updater_prune.cc:74: tree pruning end, 1 roots, 12 extra nodes, 0 pruned nodes, max_depth=3\n",
      "[18:24:29] C:\\Users\\Administrator\\Desktop\\xgboost\\src\\tree\\updater_prune.cc:74: tree pruning end, 1 roots, 14 extra nodes, 0 pruned nodes, max_depth=3\n",
      "[18:24:29] C:\\Users\\Administrator\\Desktop\\xgboost\\src\\tree\\updater_prune.cc:74: tree pruning end, 1 roots, 14 extra nodes, 0 pruned nodes, max_depth=3\n",
      "[18:24:29] C:\\Users\\Administrator\\Desktop\\xgboost\\src\\tree\\updater_prune.cc:74: tree pruning end, 1 roots, 14 extra nodes, 0 pruned nodes, max_depth=3\n",
      "[18:24:29] C:\\Users\\Administrator\\Desktop\\xgboost\\src\\tree\\updater_prune.cc:74: tree pruning end, 1 roots, 14 extra nodes, 0 pruned nodes, max_depth=3\n",
      "[18:24:29] C:\\Users\\Administrator\\Desktop\\xgboost\\src\\tree\\updater_prune.cc:74: tree pruning end, 1 roots, 14 extra nodes, 0 pruned nodes, max_depth=3\n",
      "[18:24:29] C:\\Users\\Administrator\\Desktop\\xgboost\\src\\tree\\updater_prune.cc:74: tree pruning end, 1 roots, 14 extra nodes, 0 pruned nodes, max_depth=3\n",
      "[18:24:29] C:\\Users\\Administrator\\Desktop\\xgboost\\src\\tree\\updater_prune.cc:74: tree pruning end, 1 roots, 10 extra nodes, 0 pruned nodes, max_depth=3\n",
      "[18:24:29] C:\\Users\\Administrator\\Desktop\\xgboost\\src\\tree\\updater_prune.cc:74: tree pruning end, 1 roots, 8 extra nodes, 0 pruned nodes, max_depth=3\n",
      "[18:24:29] C:\\Users\\Administrator\\Desktop\\xgboost\\src\\tree\\updater_prune.cc:74: tree pruning end, 1 roots, 14 extra nodes, 0 pruned nodes, max_depth=3\n",
      "[18:24:29] C:\\Users\\Administrator\\Desktop\\xgboost\\src\\tree\\updater_prune.cc:74: tree pruning end, 1 roots, 10 extra nodes, 0 pruned nodes, max_depth=3\n",
      "[18:24:29] C:\\Users\\Administrator\\Desktop\\xgboost\\src\\tree\\updater_prune.cc:74: tree pruning end, 1 roots, 12 extra nodes, 0 pruned nodes, max_depth=3\n",
      "[18:24:29] C:\\Users\\Administrator\\Desktop\\xgboost\\src\\tree\\updater_prune.cc:74: tree pruning end, 1 roots, 14 extra nodes, 0 pruned nodes, max_depth=3\n",
      "[18:24:29] C:\\Users\\Administrator\\Desktop\\xgboost\\src\\tree\\updater_prune.cc:74: tree pruning end, 1 roots, 14 extra nodes, 0 pruned nodes, max_depth=3\n",
      "[18:24:29] C:\\Users\\Administrator\\Desktop\\xgboost\\src\\tree\\updater_prune.cc:74: tree pruning end, 1 roots, 12 extra nodes, 0 pruned nodes, max_depth=3\n",
      "[18:24:29] C:\\Users\\Administrator\\Desktop\\xgboost\\src\\tree\\updater_prune.cc:74: tree pruning end, 1 roots, 8 extra nodes, 0 pruned nodes, max_depth=3\n",
      "[18:24:29] C:\\Users\\Administrator\\Desktop\\xgboost\\src\\tree\\updater_prune.cc:74: tree pruning end, 1 roots, 12 extra nodes, 0 pruned nodes, max_depth=3\n",
      "[18:24:29] C:\\Users\\Administrator\\Desktop\\xgboost\\src\\tree\\updater_prune.cc:74: tree pruning end, 1 roots, 12 extra nodes, 0 pruned nodes, max_depth=3\n",
      "[18:24:29] C:\\Users\\Administrator\\Desktop\\xgboost\\src\\tree\\updater_prune.cc:74: tree pruning end, 1 roots, 14 extra nodes, 0 pruned nodes, max_depth=3\n",
      "[18:24:29] C:\\Users\\Administrator\\Desktop\\xgboost\\src\\tree\\updater_prune.cc:74: tree pruning end, 1 roots, 12 extra nodes, 0 pruned nodes, max_depth=3\n",
      "[18:24:29] C:\\Users\\Administrator\\Desktop\\xgboost\\src\\tree\\updater_prune.cc:74: tree pruning end, 1 roots, 12 extra nodes, 0 pruned nodes, max_depth=3\n",
      "[18:24:29] C:\\Users\\Administrator\\Desktop\\xgboost\\src\\tree\\updater_prune.cc:74: tree pruning end, 1 roots, 12 extra nodes, 0 pruned nodes, max_depth=3\n",
      "[18:24:29] C:\\Users\\Administrator\\Desktop\\xgboost\\src\\tree\\updater_prune.cc:74: tree pruning end, 1 roots, 14 extra nodes, 0 pruned nodes, max_depth=3\n",
      "[18:24:29] C:\\Users\\Administrator\\Desktop\\xgboost\\src\\tree\\updater_prune.cc:74: tree pruning end, 1 roots, 12 extra nodes, 0 pruned nodes, max_depth=3\n",
      "[18:24:29] C:\\Users\\Administrator\\Desktop\\xgboost\\src\\tree\\updater_prune.cc:74: tree pruning end, 1 roots, 14 extra nodes, 0 pruned nodes, max_depth=3\n",
      "[18:24:29] C:\\Users\\Administrator\\Desktop\\xgboost\\src\\tree\\updater_prune.cc:74: tree pruning end, 1 roots, 14 extra nodes, 0 pruned nodes, max_depth=3\n",
      "[18:24:29] C:\\Users\\Administrator\\Desktop\\xgboost\\src\\tree\\updater_prune.cc:74: tree pruning end, 1 roots, 14 extra nodes, 0 pruned nodes, max_depth=3\n",
      "[18:24:29] C:\\Users\\Administrator\\Desktop\\xgboost\\src\\tree\\updater_prune.cc:74: tree pruning end, 1 roots, 14 extra nodes, 0 pruned nodes, max_depth=3\n",
      "[18:24:29] C:\\Users\\Administrator\\Desktop\\xgboost\\src\\tree\\updater_prune.cc:74: tree pruning end, 1 roots, 12 extra nodes, 0 pruned nodes, max_depth=3\n",
      "[18:24:29] C:\\Users\\Administrator\\Desktop\\xgboost\\src\\tree\\updater_prune.cc:74: tree pruning end, 1 roots, 10 extra nodes, 0 pruned nodes, max_depth=3\n",
      "[18:24:29] C:\\Users\\Administrator\\Desktop\\xgboost\\src\\tree\\updater_prune.cc:74: tree pruning end, 1 roots, 14 extra nodes, 0 pruned nodes, max_depth=3\n",
      "[18:24:29] C:\\Users\\Administrator\\Desktop\\xgboost\\src\\tree\\updater_prune.cc:74: tree pruning end, 1 roots, 10 extra nodes, 0 pruned nodes, max_depth=3\n",
      "[18:24:29] C:\\Users\\Administrator\\Desktop\\xgboost\\src\\tree\\updater_prune.cc:74: tree pruning end, 1 roots, 14 extra nodes, 0 pruned nodes, max_depth=3\n",
      "[18:24:29] C:\\Users\\Administrator\\Desktop\\xgboost\\src\\tree\\updater_prune.cc:74: tree pruning end, 1 roots, 14 extra nodes, 0 pruned nodes, max_depth=3\n",
      "[18:24:29] C:\\Users\\Administrator\\Desktop\\xgboost\\src\\tree\\updater_prune.cc:74: tree pruning end, 1 roots, 14 extra nodes, 0 pruned nodes, max_depth=3\n",
      "[18:24:29] C:\\Users\\Administrator\\Desktop\\xgboost\\src\\tree\\updater_prune.cc:74: tree pruning end, 1 roots, 12 extra nodes, 0 pruned nodes, max_depth=3\n",
      "[18:24:29] C:\\Users\\Administrator\\Desktop\\xgboost\\src\\tree\\updater_prune.cc:74: tree pruning end, 1 roots, 8 extra nodes, 0 pruned nodes, max_depth=3\n",
      "[18:24:29] C:\\Users\\Administrator\\Desktop\\xgboost\\src\\tree\\updater_prune.cc:74: tree pruning end, 1 roots, 10 extra nodes, 0 pruned nodes, max_depth=3\n",
      "[18:24:29] C:\\Users\\Administrator\\Desktop\\xgboost\\src\\tree\\updater_prune.cc:74: tree pruning end, 1 roots, 12 extra nodes, 0 pruned nodes, max_depth=3\n",
      "[18:24:29] C:\\Users\\Administrator\\Desktop\\xgboost\\src\\tree\\updater_prune.cc:74: tree pruning end, 1 roots, 8 extra nodes, 0 pruned nodes, max_depth=3\n",
      "[18:24:29] C:\\Users\\Administrator\\Desktop\\xgboost\\src\\tree\\updater_prune.cc:74: tree pruning end, 1 roots, 14 extra nodes, 0 pruned nodes, max_depth=3\n",
      "[18:24:29] C:\\Users\\Administrator\\Desktop\\xgboost\\src\\tree\\updater_prune.cc:74: tree pruning end, 1 roots, 14 extra nodes, 0 pruned nodes, max_depth=3\n",
      "[18:24:29] C:\\Users\\Administrator\\Desktop\\xgboost\\src\\tree\\updater_prune.cc:74: tree pruning end, 1 roots, 12 extra nodes, 0 pruned nodes, max_depth=3\n",
      "[18:24:29] C:\\Users\\Administrator\\Desktop\\xgboost\\src\\tree\\updater_prune.cc:74: tree pruning end, 1 roots, 10 extra nodes, 0 pruned nodes, max_depth=3\n",
      "[18:24:29] C:\\Users\\Administrator\\Desktop\\xgboost\\src\\tree\\updater_prune.cc:74: tree pruning end, 1 roots, 14 extra nodes, 0 pruned nodes, max_depth=3\n",
      "[18:24:29] C:\\Users\\Administrator\\Desktop\\xgboost\\src\\tree\\updater_prune.cc:74: tree pruning end, 1 roots, 12 extra nodes, 0 pruned nodes, max_depth=3\n",
      "[18:24:29] C:\\Users\\Administrator\\Desktop\\xgboost\\src\\tree\\updater_prune.cc:74: tree pruning end, 1 roots, 8 extra nodes, 0 pruned nodes, max_depth=3\n",
      "[18:24:29] C:\\Users\\Administrator\\Desktop\\xgboost\\src\\tree\\updater_prune.cc:74: tree pruning end, 1 roots, 14 extra nodes, 0 pruned nodes, max_depth=3\n",
      "[18:24:29] C:\\Users\\Administrator\\Desktop\\xgboost\\src\\tree\\updater_prune.cc:74: tree pruning end, 1 roots, 10 extra nodes, 0 pruned nodes, max_depth=3\n",
      "[18:24:29] C:\\Users\\Administrator\\Desktop\\xgboost\\src\\tree\\updater_prune.cc:74: tree pruning end, 1 roots, 12 extra nodes, 0 pruned nodes, max_depth=3\n",
      "[18:24:29] C:\\Users\\Administrator\\Desktop\\xgboost\\src\\tree\\updater_prune.cc:74: tree pruning end, 1 roots, 10 extra nodes, 0 pruned nodes, max_depth=3\n",
      "[18:24:29] C:\\Users\\Administrator\\Desktop\\xgboost\\src\\tree\\updater_prune.cc:74: tree pruning end, 1 roots, 8 extra nodes, 0 pruned nodes, max_depth=3\n",
      "[18:24:29] C:\\Users\\Administrator\\Desktop\\xgboost\\src\\tree\\updater_prune.cc:74: tree pruning end, 1 roots, 10 extra nodes, 0 pruned nodes, max_depth=3\n",
      "[18:24:29] C:\\Users\\Administrator\\Desktop\\xgboost\\src\\tree\\updater_prune.cc:74: tree pruning end, 1 roots, 10 extra nodes, 0 pruned nodes, max_depth=3\n",
      "[18:24:29] C:\\Users\\Administrator\\Desktop\\xgboost\\src\\tree\\updater_prune.cc:74: tree pruning end, 1 roots, 12 extra nodes, 0 pruned nodes, max_depth=3\n",
      "[18:24:29] C:\\Users\\Administrator\\Desktop\\xgboost\\src\\tree\\updater_prune.cc:74: tree pruning end, 1 roots, 12 extra nodes, 0 pruned nodes, max_depth=3\n"
     ]
    },
    {
     "name": "stdout",
     "output_type": "stream",
     "text": [
      "[18:24:29] C:\\Users\\Administrator\\Desktop\\xgboost\\src\\tree\\updater_prune.cc:74: tree pruning end, 1 roots, 10 extra nodes, 0 pruned nodes, max_depth=3\n",
      "[18:24:29] C:\\Users\\Administrator\\Desktop\\xgboost\\src\\tree\\updater_prune.cc:74: tree pruning end, 1 roots, 12 extra nodes, 0 pruned nodes, max_depth=3\n",
      "[18:24:29] C:\\Users\\Administrator\\Desktop\\xgboost\\src\\tree\\updater_prune.cc:74: tree pruning end, 1 roots, 14 extra nodes, 0 pruned nodes, max_depth=3\n",
      "[18:24:29] C:\\Users\\Administrator\\Desktop\\xgboost\\src\\tree\\updater_prune.cc:74: tree pruning end, 1 roots, 12 extra nodes, 0 pruned nodes, max_depth=3\n",
      "[18:24:29] C:\\Users\\Administrator\\Desktop\\xgboost\\src\\tree\\updater_prune.cc:74: tree pruning end, 1 roots, 8 extra nodes, 0 pruned nodes, max_depth=3\n",
      "[18:24:29] C:\\Users\\Administrator\\Desktop\\xgboost\\src\\tree\\updater_prune.cc:74: tree pruning end, 1 roots, 12 extra nodes, 0 pruned nodes, max_depth=3\n",
      "[18:24:29] C:\\Users\\Administrator\\Desktop\\xgboost\\src\\tree\\updater_prune.cc:74: tree pruning end, 1 roots, 12 extra nodes, 0 pruned nodes, max_depth=3\n",
      "[18:24:29] C:\\Users\\Administrator\\Desktop\\xgboost\\src\\tree\\updater_prune.cc:74: tree pruning end, 1 roots, 10 extra nodes, 0 pruned nodes, max_depth=3\n",
      "[18:24:29] C:\\Users\\Administrator\\Desktop\\xgboost\\src\\tree\\updater_prune.cc:74: tree pruning end, 1 roots, 8 extra nodes, 0 pruned nodes, max_depth=3\n",
      "[18:24:29] C:\\Users\\Administrator\\Desktop\\xgboost\\src\\tree\\updater_prune.cc:74: tree pruning end, 1 roots, 8 extra nodes, 0 pruned nodes, max_depth=3\n",
      "[18:24:29] C:\\Users\\Administrator\\Desktop\\xgboost\\src\\tree\\updater_prune.cc:74: tree pruning end, 1 roots, 12 extra nodes, 0 pruned nodes, max_depth=3\n",
      "[18:24:29] C:\\Users\\Administrator\\Desktop\\xgboost\\src\\tree\\updater_prune.cc:74: tree pruning end, 1 roots, 12 extra nodes, 0 pruned nodes, max_depth=3\n",
      "[18:24:29] C:\\Users\\Administrator\\Desktop\\xgboost\\src\\tree\\updater_prune.cc:74: tree pruning end, 1 roots, 12 extra nodes, 0 pruned nodes, max_depth=3\n",
      "[18:24:29] C:\\Users\\Administrator\\Desktop\\xgboost\\src\\tree\\updater_prune.cc:74: tree pruning end, 1 roots, 14 extra nodes, 0 pruned nodes, max_depth=3\n",
      "[18:24:29] C:\\Users\\Administrator\\Desktop\\xgboost\\src\\tree\\updater_prune.cc:74: tree pruning end, 1 roots, 12 extra nodes, 0 pruned nodes, max_depth=3\n",
      "[18:24:29] C:\\Users\\Administrator\\Desktop\\xgboost\\src\\tree\\updater_prune.cc:74: tree pruning end, 1 roots, 10 extra nodes, 0 pruned nodes, max_depth=3\n",
      "[18:24:29] C:\\Users\\Administrator\\Desktop\\xgboost\\src\\tree\\updater_prune.cc:74: tree pruning end, 1 roots, 14 extra nodes, 0 pruned nodes, max_depth=3\n",
      "[18:24:29] C:\\Users\\Administrator\\Desktop\\xgboost\\src\\tree\\updater_prune.cc:74: tree pruning end, 1 roots, 14 extra nodes, 0 pruned nodes, max_depth=3\n",
      "[18:24:29] C:\\Users\\Administrator\\Desktop\\xgboost\\src\\tree\\updater_prune.cc:74: tree pruning end, 1 roots, 8 extra nodes, 0 pruned nodes, max_depth=3\n",
      "[18:24:29] C:\\Users\\Administrator\\Desktop\\xgboost\\src\\tree\\updater_prune.cc:74: tree pruning end, 1 roots, 14 extra nodes, 0 pruned nodes, max_depth=3\n",
      "[18:24:29] C:\\Users\\Administrator\\Desktop\\xgboost\\src\\tree\\updater_prune.cc:74: tree pruning end, 1 roots, 12 extra nodes, 0 pruned nodes, max_depth=3\n",
      "[18:24:29] C:\\Users\\Administrator\\Desktop\\xgboost\\src\\tree\\updater_prune.cc:74: tree pruning end, 1 roots, 12 extra nodes, 0 pruned nodes, max_depth=3\n",
      "[18:24:29] C:\\Users\\Administrator\\Desktop\\xgboost\\src\\tree\\updater_prune.cc:74: tree pruning end, 1 roots, 8 extra nodes, 0 pruned nodes, max_depth=3\n",
      "[18:24:29] C:\\Users\\Administrator\\Desktop\\xgboost\\src\\tree\\updater_prune.cc:74: tree pruning end, 1 roots, 10 extra nodes, 0 pruned nodes, max_depth=3\n",
      "[18:24:29] C:\\Users\\Administrator\\Desktop\\xgboost\\src\\tree\\updater_prune.cc:74: tree pruning end, 1 roots, 10 extra nodes, 0 pruned nodes, max_depth=3\n"
     ]
    }
   ],
   "source": [
    "model_xgb = xgb.train(param, dtrain, num_round)"
   ]
  },
  {
   "cell_type": "markdown",
   "metadata": {},
   "source": [
    "### Predicciones\n",
    "---\n",
    "* **Obtenemos las probabilidades de pertenencia en cada una de las subcategorías**"
   ]
  },
  {
   "cell_type": "code",
   "execution_count": 142,
   "metadata": {},
   "outputs": [
    {
     "data": {
      "text/plain": [
       "array([[0.03468847, 0.01853866, 0.8721949 , ..., 0.01157236, 0.01680369,\n",
       "        0.04014673],\n",
       "       [0.11682732, 0.0116021 , 0.7036979 , ..., 0.07161896, 0.01765221,\n",
       "        0.07360916],\n",
       "       [0.03867326, 0.01199639, 0.6797396 , ..., 0.02031626, 0.05510568,\n",
       "        0.17436105],\n",
       "       ...,\n",
       "       [0.02705942, 0.02768256, 0.68132544, ..., 0.02749861, 0.09840354,\n",
       "        0.10356461],\n",
       "       [0.0263193 , 0.01169323, 0.87911457, ..., 0.02184241, 0.01721868,\n",
       "        0.03798315],\n",
       "       [0.02165594, 0.00373846, 0.88709116, ..., 0.01915675, 0.03289347,\n",
       "        0.03062775]], dtype=float32)"
      ]
     },
     "execution_count": 142,
     "metadata": {},
     "output_type": "execute_result"
    }
   ],
   "source": [
    "preds_xgb = model_xgb.predict(dtest)\n",
    "preds_xgb"
   ]
  },
  {
   "cell_type": "markdown",
   "metadata": {},
   "source": [
    "* **Calculamos ahora la categoría con mayor probabilidad de pertenencia para cada observación del test (categoría asignada a cada observación)**"
   ]
  },
  {
   "cell_type": "code",
   "execution_count": 143,
   "metadata": {},
   "outputs": [
    {
     "data": {
      "text/plain": [
       "array([2, 2, 2, 2, 2, 2, 2, 2, 2, 2, 2, 5, 2, 2, 2, 2, 2, 2, 2, 2, 2, 2,\n",
       "       2, 2, 5, 2, 2, 2, 2, 2, 2, 2, 2, 2, 2, 2, 2, 2, 2, 2, 1, 2, 2, 2,\n",
       "       2, 2, 5, 2, 5, 2, 2, 2, 2, 2, 2, 4, 2, 2, 2, 2, 4, 2, 2, 2, 2, 2,\n",
       "       2, 6, 2, 2, 2, 2, 2, 2, 2, 2, 2, 2, 2, 2, 2, 2, 2, 2, 2, 5, 2, 2,\n",
       "       2, 2, 2, 2, 2, 2, 2, 6, 2, 2, 2, 2, 2, 5, 2, 2, 2, 2, 2, 2, 2, 5,\n",
       "       2, 2, 2, 2, 2, 2, 0, 2, 2, 2, 2, 2, 2, 2, 2, 2, 2, 0, 2, 2, 2, 6,\n",
       "       2, 2, 2, 2, 2, 2, 5, 5, 2, 2, 2, 2, 2, 2, 2, 2, 2, 5, 2, 2, 2, 2,\n",
       "       2, 2, 2, 5, 2, 2, 2, 2, 2, 2, 2, 2, 2, 2, 2, 2, 2, 5, 2, 2, 2, 2,\n",
       "       2, 2, 2, 2, 2, 2, 2, 5, 2, 2, 2, 2, 2, 2, 2, 2, 2, 2, 2, 2, 2, 2,\n",
       "       2, 5, 2, 5, 2, 2, 2, 2, 2, 2, 2, 2, 2, 2, 2, 4, 2, 2, 2, 2, 5, 2,\n",
       "       0, 2, 5, 2, 2, 2, 2, 2, 2, 2, 2, 2, 2, 2, 2, 1, 6, 2, 2, 2, 2, 2,\n",
       "       2, 2, 2, 2, 2, 2, 4, 2, 2, 2, 2, 2, 2, 5, 5, 2, 5, 2, 2, 5, 2, 5,\n",
       "       2, 2, 2, 2, 2, 2, 6, 2, 5, 2, 2, 2, 2, 6, 2, 2, 2, 2, 2, 2, 2, 2,\n",
       "       2, 2, 2, 2, 2, 2, 2, 2, 2, 5, 2, 2, 2, 2, 2, 2, 2, 2, 5, 2, 2, 2,\n",
       "       1, 2, 2, 2, 2, 2, 2, 2, 2, 2, 2, 2, 2, 2, 2, 2, 2, 2, 2, 2, 2, 2,\n",
       "       2, 2, 2, 2, 2, 2, 2, 2, 6, 2, 2, 4, 2, 2, 2, 2, 2, 2, 6, 2, 2, 2,\n",
       "       2, 6, 2, 2, 4, 4, 2, 2, 2, 2, 5, 2, 2, 2, 5, 2, 5, 2, 2, 5, 6, 2,\n",
       "       2, 2, 2, 2, 5, 2, 2, 2, 5, 2, 2, 2, 5, 2, 2, 2, 2, 5, 2, 2, 2, 2,\n",
       "       2, 5, 2, 2, 2, 2, 2, 2, 2, 2, 2, 2, 2, 2, 2, 5, 2, 2, 2, 5, 5, 2,\n",
       "       5, 2, 2, 2, 2, 2, 2, 2, 2, 2, 2, 2, 2, 2, 2, 2, 2, 2, 6, 2, 6, 2,\n",
       "       2, 2, 5, 2, 2, 2, 2, 2, 2, 2, 2, 2, 2, 2, 2, 2, 2, 2, 2, 2, 2, 2,\n",
       "       5, 2, 2, 2, 2, 2, 2, 2, 2, 2, 2, 5, 2, 2, 2, 2, 5, 2, 2, 2, 2, 6,\n",
       "       2, 0, 0, 5, 2, 2, 2, 4, 2, 2, 2, 2, 2, 2, 2, 2, 2, 2, 2, 0, 2, 2,\n",
       "       2, 2, 2, 2, 2, 2, 2, 2, 2, 2, 2, 2, 2, 2, 2, 2, 2, 2, 2, 2, 2, 2,\n",
       "       2, 2, 2, 2, 2, 2, 2, 2, 2, 2, 2, 5, 2, 5, 2, 6, 2, 2, 2, 2, 2, 2,\n",
       "       2, 2, 2, 2, 2, 2, 2, 0, 2, 5, 2, 2, 2, 2, 2, 6, 2, 5, 2, 2, 2, 2,\n",
       "       2, 2, 2, 2, 2, 2, 2, 2, 2, 2, 2, 2, 2, 2, 2, 2, 2, 2, 2, 2, 2, 2,\n",
       "       2, 2, 5, 2, 2, 2, 2, 2, 2, 2, 2, 5, 2, 2, 5, 2, 2, 2, 2, 5, 2, 2,\n",
       "       2, 2, 2, 2, 2, 2, 2, 2, 2, 2, 2, 2, 2, 2, 2, 5, 2, 2, 2, 2, 2, 5,\n",
       "       2, 2, 2, 2, 2, 2, 2, 2, 2, 2, 2, 2, 2, 2, 2, 2, 2, 2, 2, 2, 2, 2,\n",
       "       2, 2, 2, 2, 2, 2, 2, 2, 5, 5, 2, 2, 2, 2, 2, 2, 2, 2, 2, 2, 2, 0,\n",
       "       2, 2, 2, 5, 0, 2, 2, 2, 2, 2, 2, 2, 2, 2, 2, 2, 2, 2, 2, 2, 5, 2,\n",
       "       2, 2, 2, 2, 2, 2, 2, 5, 4, 2, 2, 2, 2, 2, 2, 5, 2, 2, 2, 2, 0, 2,\n",
       "       2, 2, 2, 2, 2, 2, 2, 2, 2, 2, 2, 2, 2, 2, 2, 2, 2, 2, 2, 2, 2, 4,\n",
       "       2, 2, 2, 2, 2, 2, 2, 2, 2, 2, 2, 2, 2, 2, 2, 2, 2, 2, 2, 2, 2, 5,\n",
       "       2, 2, 2, 2, 2, 2, 2, 2, 2, 2, 2, 2, 2, 2, 2, 2, 2, 2, 2, 2, 2, 2,\n",
       "       2, 2, 2, 2, 2, 2, 2, 2, 2, 2, 2, 2, 5, 2, 5, 2, 2, 2, 2, 2, 2, 2,\n",
       "       2, 2, 5, 2, 2, 2, 2, 2, 2, 2, 2, 2, 0, 2, 2, 2, 2, 2, 2, 2, 2, 2,\n",
       "       2, 2, 6, 2, 2, 2, 2, 2, 2, 2, 2, 2, 2, 0, 2, 2, 2, 2, 2, 2, 5, 2,\n",
       "       2, 5, 5, 2, 2, 2, 2, 2, 2, 2, 2, 2, 2, 2, 2, 2, 2, 2, 2, 2, 2, 2,\n",
       "       2, 2, 2, 2, 2, 2, 2, 2, 2, 2, 2, 2, 2, 2, 2, 2, 2, 2, 2, 2, 2, 5,\n",
       "       2, 2, 2], dtype=int64)"
      ]
     },
     "execution_count": 143,
     "metadata": {},
     "output_type": "execute_result"
    }
   ],
   "source": [
    "best_preds_xgb = np.asarray([np.argmax(line) for line in preds_xgb])\n",
    "best_preds_xgb"
   ]
  },
  {
   "cell_type": "markdown",
   "metadata": {},
   "source": [
    "### Evaluación del modelo\n",
    "---"
   ]
  },
  {
   "cell_type": "code",
   "execution_count": 144,
   "metadata": {},
   "outputs": [
    {
     "name": "stdout",
     "output_type": "stream",
     "text": [
      "Precisión: 0.6574585635359116\n"
     ]
    }
   ],
   "source": [
    "precision_test_xgb = accuracy_score(y_test, best_preds_xgb)\n",
    "print(\"Precisión:\", precision_test_xgb)"
   ]
  },
  {
   "cell_type": "markdown",
   "metadata": {},
   "source": [
    "### Importancia de las variables\n",
    "---"
   ]
  },
  {
   "cell_type": "code",
   "execution_count": 145,
   "metadata": {},
   "outputs": [
    {
     "data": {
      "image/png": "[encoded data removed]",
      "text/plain": [
       "<Figure size 432x288 with 1 Axes>"
      ]
     },
     "metadata": {
      "needs_background": "light"
     },
     "output_type": "display_data"
    }
   ],
   "source": [
    "xgb.plot_importance(model_xgb)\n",
    "plt.rcParams['figure.figsize'] = [5, 5]\n",
    "plt.show()"
   ]
  },
  {
   "cell_type": "markdown",
   "metadata": {},
   "source": [
    "Observamos que las variables son automáticamente llamadas de acuerdo al indice que toman en nuestra matriz de datos, desde f0 hasta f3. Así, tenemos que XGBoost nos ofrece una forma de selección de atributos en un modelo; en este caso, la variable *supplier_votes* (segunda variable en nuestro conjunto de datos) obtiene una mayor importancia en la construcción del modelo que el resto de variables."
   ]
  },
  {
   "cell_type": "markdown",
   "metadata": {},
   "source": [
    "### Guardar el modelo para predicciones futuras\n",
    "---\n",
    "Nos puede interesar guardar el modelo creado para conocer la clasificación de nuevas observaciones:"
   ]
  },
  {
   "cell_type": "code",
   "execution_count": 146,
   "metadata": {},
   "outputs": [
    {
     "data": {
      "text/plain": [
       "['model_xgb.pkl']"
      ]
     },
     "execution_count": 146,
     "metadata": {},
     "output_type": "execute_result"
    }
   ],
   "source": [
    "from sklearn.externals import joblib\n",
    "\n",
    "joblib.dump(model_xgb, 'model_xgb.pkl', compress=True)"
   ]
  },
  {
   "cell_type": "markdown",
   "metadata": {},
   "source": [
    "### Conclusión\n",
    "---\n",
    "Atendiendo a la precisión obtenida por el modelo XGBoost obtenemos que sólo el modelo Random Forest aplicando optimización de sus parámetros (Grid Search) y validación cruzada obtiene una tasa de clasificación correcta (fracción de predicciones correctas en el test) mayor; usando RF un total de 100 árboles y 20 árboles XGBoost. Esto nos hace indicar la alta precisión de nuestro nuevo modelo además de su alta velocidad de ejecución. El objetivo del apéndice era hacer ver la existencia del modelo XGBoost, un modelo muy frecuente en competiciones de análisis de datos (tanto problemas de clasificación como regresión), y como hemos dicho anteriormente, buscando la mejor combinación de los parámetros posibles obtendríamos un mejor modelo."
   ]
  }
 ],
 "metadata": {
  "kernelspec": {
   "display_name": "Python 3",
   "language": "python",
   "name": "python3"
  },
  "language_info": {
   "codemirror_mode": {
    "name": "ipython",
    "version": 3
   },
   "file_extension": ".py",
   "mimetype": "text/x-python",
   "name": "python",
   "nbconvert_exporter": "python",
   "pygments_lexer": "ipython3",
   "version": "3.7.3"
  },
  "toc": {
   "base_numbering": 1,
   "nav_menu": {},
   "number_sections": true,
   "sideBar": true,
   "skip_h1_title": false,
   "title_cell": "Table of Contents",
   "title_sidebar": "Contents",
   "toc_cell": false,
   "toc_position": {},
   "toc_section_display": true,
   "toc_window_display": false
  },
  "varInspector": {
   "cols": {
    "lenName": 16,
    "lenType": 16,
    "lenVar": 40
   },
   "kernels_config": {
    "python": {
     "delete_cmd_postfix": "",
     "delete_cmd_prefix": "del ",
     "library": "var_list.py",
     "varRefreshCmd": "print(var_dic_list())"
    },
    "r": {
     "delete_cmd_postfix": ") ",
     "delete_cmd_prefix": "rm(",
     "library": "var_list.r",
     "varRefreshCmd": "cat(var_dic_list()) "
    }
   },
   "types_to_exclude": [
    "module",
    "function",
    "builtin_function_or_method",
    "instance",
    "_Feature"
   ],
   "window_display": false
  }
 },
 "nbformat": 4,
 "nbformat_minor": 2
}
